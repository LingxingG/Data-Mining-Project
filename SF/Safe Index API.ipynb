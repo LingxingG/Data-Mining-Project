{
 "cells": [
  {
   "cell_type": "markdown",
   "metadata": {},
   "source": [
    "## Install Neccesssary Libraries"
   ]
  },
  {
   "cell_type": "code",
   "execution_count": 1,
   "metadata": {},
   "outputs": [
    {
     "name": "stdout",
     "output_type": "stream",
     "text": [
      "Requirement already satisfied: amadeus in c:\\users\\lingx\\anaconda3\\lib\\site-packages (from -r ../requirements.txt (line 1)) (4.3.0)\n",
      "Requirement already satisfied: pandas in c:\\users\\lingx\\anaconda3\\lib\\site-packages (from -r ../requirements.txt (line 2)) (1.0.5)\n",
      "Requirement already satisfied: numpy in c:\\users\\lingx\\anaconda3\\lib\\site-packages (from -r ../requirements.txt (line 3)) (1.18.5)\n",
      "Note: you may need to restart the kernel to use updated packages.\n"
     ]
    },
    {
     "name": "stderr",
     "output_type": "stream",
     "text": [
      "ERROR: Could not find a version that satisfies the requirement pickle (from -r ../requirements.txt (line 4)) (from versions: none)\n",
      "ERROR: No matching distribution found for pickle (from -r ../requirements.txt (line 4))\n"
     ]
    }
   ],
   "source": [
    "pip install -r \"../requirements.txt\""
   ]
  },
  {
   "cell_type": "markdown",
   "metadata": {},
   "source": [
    "## Establish connection to API"
   ]
  },
  {
   "cell_type": "code",
   "execution_count": 1,
   "metadata": {},
   "outputs": [],
   "source": [
    "from amadeus import Client, ResponseError\n",
    "amadeus = Client(\n",
    "    client_id='vsNE2cVrLzYVgWYcF1npWpv3HYA5ICs7',\n",
    "    client_secret='rasieAFzfhNCXA0D'\n",
    ")"
   ]
  },
  {
   "cell_type": "markdown",
   "metadata": {},
   "source": [
    "## Connect to CSV file"
   ]
  },
  {
   "cell_type": "code",
   "execution_count": 2,
   "metadata": {},
   "outputs": [],
   "source": [
    "import pandas as pd \n",
    "pd.set_option('display.max_row', 1000)\n",
    "df = pd.read_csv(\"SafeIndex.csv\") "
   ]
  },
  {
   "cell_type": "code",
   "execution_count": null,
   "metadata": {},
   "outputs": [],
   "source": [
    "neighbourhood_unique = df.neighbourhood_cleansed.unique()\n",
    "#neighbourhood_unique"
   ]
  },
  {
   "cell_type": "markdown",
   "metadata": {},
   "source": [
    "## Group and Sort listings by neighborhood"
   ]
  },
  {
   "cell_type": "code",
   "execution_count": null,
   "metadata": {},
   "outputs": [],
   "source": [
    "# number of listings used to get the avg safe index score\n",
    "k = 5\n",
    "\n",
    "df_grouped = df.groupby('neighbourhood_cleansed')\n",
    "\n",
    "# group the listings into neighborhoods\n",
    "top_n_rows = df_grouped.head(k)\n",
    "\n",
    "# sort the listings after grouping for better visulaization\n",
    "top_n_rows_sorted = top_n_rows.sort_values(by=['neighbourhood_cleansed'], ignore_index=True)\n",
    "\n",
    "# check if all records have more than k listing\n",
    "records_per_neighborhood = top_n_rows_sorted.groupby(['neighbourhood_cleansed']).size().reset_index(name='counts')\n",
    "\n",
    "# filter neighborhoods that have less than to predeinfe values, k\n",
    "filtered_neighborhoods = records_per_neighborhood[records_per_neighborhood['counts'] >= k]\n",
    "\n",
    "# get records that have more than k listing\n",
    "final_records = top_n_rows_sorted[top_n_rows_sorted['neighbourhood_cleansed'].isin(filtered_neighborhoods.neighbourhood_cleansed.unique())]"
   ]
  },
  {
   "cell_type": "markdown",
   "metadata": {},
   "source": [
    "## Get Response"
   ]
  },
  {
   "cell_type": "code",
   "execution_count": null,
   "metadata": {},
   "outputs": [],
   "source": [
    "'''\n",
    "# Flight Most Booked Destinations\n",
    "amadeus.travel.analytics.air_traffic.booked.get(originCityCode='MAD', period='2017-08')\n",
    "\n",
    "# Flight Most Traveled Destinations\n",
    "amadeus.travel.analytics.air_traffic.traveled.get(originCityCode='MAD', period='2017-01')\n",
    "\n",
    "# Flight Busiest Travel Period\n",
    "amadeus.travel.analytics.air_traffic.busiest_period.get(cityCode='MAD', period='2017', direction='ARRIVING')\n",
    "\n",
    "# Safe Place\n",
    "# How safe is Barcelona? (based a geo location and a radius)\n",
    "amadeus.safety.safety_rated_locations.get(latitude=41.397158, longitude=2.160873)\n",
    "# How safe is Barcelona? (based on a square)\n",
    "amadeus.safety.safety_rated_locations.by_square.get(north=41.397158, west=2.160873,\n",
    "                                                    south=41.394582, east=2.177181)\n",
    "# What is the safety information of a location based on it's Id?\n",
    "amadeus.safety.safety_rated_location('Q930400801').get()\n",
    "'''"
   ]
  },
  {
   "cell_type": "code",
   "execution_count": null,
   "metadata": {},
   "outputs": [],
   "source": [
    "safeCategory = ['overall', 'lgbtq', 'medical', 'physicalHarm', 'politicalFreedom', 'theft', 'women']\n",
    "\n",
    "# for each neighborhood creating empty dict with all the safe category\n",
    "safeIndexScoring = { j: {k:0 for k in safeCategory} for j in filtered_neighborhoods.neighbourhood_cleansed.unique()}"
   ]
  },
  {
   "cell_type": "markdown",
   "metadata": {},
   "source": [
    "### Api calling"
   ]
  },
  {
   "cell_type": "code",
   "execution_count": null,
   "metadata": {},
   "outputs": [],
   "source": [
    "# for index, row in final_records.iterrows():\n",
    "#     # retrieve data from Api\n",
    "#     response = amadeus.safety.safety_rated_locations.get(latitude=row['latitude'], longitude=row['longitude'])\n",
    "    \n",
    "#     # add the each safe category score to the respective category in dictionary \n",
    "#     for cat in safeCategory:\n",
    "#         safeIndexScoring[row['neighbourhood_cleansed']][cat] += response.data[0]['safetyScores'][cat]\n",
    "        "
   ]
  },
  {
   "cell_type": "code",
   "execution_count": null,
   "metadata": {},
   "outputs": [],
   "source": [
    "# now that we have the total safety score we need to avg them to get the avg safety score\n",
    "safeIndexScoring_copy= safeIndexScoring.copy()\n",
    "\n",
    "denominator = filtered_neighborhoods.values.tolist()\n",
    "tmp = {}\n",
    "\n",
    "for area,listingCount in denominator:\n",
    "    tmp[area] = {cat: round(total/listingCount,2) for cat, total in safeIndexScoring_copy[area].items()}"
   ]
  },
  {
   "cell_type": "markdown",
   "metadata": {},
   "source": [
    "### Store result into Pickle file"
   ]
  },
  {
   "cell_type": "code",
   "execution_count": null,
   "metadata": {},
   "outputs": [],
   "source": [
    "output = pd.concat({\n",
    "        k: pd.DataFrame.from_dict(v, 'index') for k, v in tmp.items()\n",
    "    }, \n",
    "    axis=0)\n",
    "output.to_pickle(\"./safeIndex.pkl\")"
   ]
  },
  {
   "cell_type": "markdown",
   "metadata": {},
   "source": [
    "### Read Pickle File"
   ]
  },
  {
   "cell_type": "code",
   "execution_count": 3,
   "metadata": {},
   "outputs": [],
   "source": [
    "unpickled_df = pd.read_pickle(\"safeIndex.pkl\")\n",
    "unpickled_df"
   ]
  },
  {
   "cell_type": "code",
   "execution_count": null,
   "metadata": {},
   "outputs": [],
   "source": []
  }
 ],
 "metadata": {
  "kernelspec": {
   "display_name": "Python 3",
   "language": "python",
   "name": "python3"
  },
  "language_info": {
   "codemirror_mode": {
    "name": "ipython",
    "version": 3
   },
   "file_extension": ".py",
   "mimetype": "text/x-python",
   "name": "python",
   "nbconvert_exporter": "python",
   "pygments_lexer": "ipython3",
   "version": "3.8.3"
  },
  "varInspector": {
   "cols": {
    "lenName": 16,
    "lenType": 16,
    "lenVar": 40
   },
   "kernels_config": {
    "python": {
     "delete_cmd_postfix": "",
     "delete_cmd_prefix": "del ",
     "library": "var_list.py",
     "varRefreshCmd": "print(var_dic_list())"
    },
    "r": {
     "delete_cmd_postfix": ") ",
     "delete_cmd_prefix": "rm(",
     "library": "var_list.r",
     "varRefreshCmd": "cat(var_dic_list()) "
    }
   },
   "types_to_exclude": [
    "module",
    "function",
    "builtin_function_or_method",
    "instance",
    "_Feature"
   ],
   "window_display": false
  }
 },
 "nbformat": 4,
 "nbformat_minor": 4
}
