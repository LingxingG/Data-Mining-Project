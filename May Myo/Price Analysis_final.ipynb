{
 "cells": [
  {
   "cell_type": "markdown",
   "metadata": {},
   "source": [
    "# Refer to SF EDA notebook for Price EDA (Section 5 & 10)"
   ]
  },
  {
   "cell_type": "markdown",
   "metadata": {},
   "source": [
    "# Import Libraries"
   ]
  },
  {
   "cell_type": "code",
   "execution_count": 73,
   "metadata": {
    "ExecuteTime": {
     "end_time": "2020-10-29T13:06:38.991817Z",
     "start_time": "2020-10-29T13:06:38.987827Z"
    }
   },
   "outputs": [],
   "source": [
    "# pip install -r \"../requirements.txt\""
   ]
  },
  {
   "cell_type": "code",
   "execution_count": 74,
   "metadata": {
    "ExecuteTime": {
     "end_time": "2020-10-29T13:06:39.004784Z",
     "start_time": "2020-10-29T13:06:38.997800Z"
    }
   },
   "outputs": [],
   "source": [
    "import pandas as pd\n",
    "import numpy as np\n",
    "import matplotlib.pyplot as plt\n",
    "import seaborn as sns\n",
    "import pickle"
   ]
  },
  {
   "cell_type": "markdown",
   "metadata": {},
   "source": [
    "# Import Data"
   ]
  },
  {
   "cell_type": "code",
   "execution_count": 75,
   "metadata": {
    "ExecuteTime": {
     "end_time": "2020-10-29T13:06:39.058638Z",
     "start_time": "2020-10-29T13:06:39.006775Z"
    }
   },
   "outputs": [
    {
     "data": {
      "text/html": [
       "<div>\n",
       "<style scoped>\n",
       "    .dataframe tbody tr th:only-of-type {\n",
       "        vertical-align: middle;\n",
       "    }\n",
       "\n",
       "    .dataframe tbody tr th {\n",
       "        vertical-align: top;\n",
       "    }\n",
       "\n",
       "    .dataframe thead th {\n",
       "        text-align: right;\n",
       "    }\n",
       "</style>\n",
       "<table border=\"1\" class=\"dataframe\">\n",
       "  <thead>\n",
       "    <tr style=\"text-align: right;\">\n",
       "      <th></th>\n",
       "      <th>host_response_time</th>\n",
       "      <th>host_response_rate</th>\n",
       "      <th>host_acceptance_rate</th>\n",
       "      <th>host_is_superhost</th>\n",
       "      <th>host_listings_count</th>\n",
       "      <th>neighbourhood_cleansed</th>\n",
       "      <th>property_type</th>\n",
       "      <th>room_type</th>\n",
       "      <th>accommodates</th>\n",
       "      <th>bathrooms</th>\n",
       "      <th>...</th>\n",
       "      <th>game console</th>\n",
       "      <th>stair gates</th>\n",
       "      <th>fireplace guards</th>\n",
       "      <th>pool</th>\n",
       "      <th>pocket wifi</th>\n",
       "      <th>changing table</th>\n",
       "      <th>beach essentials</th>\n",
       "      <th>window guards</th>\n",
       "      <th>ev charger</th>\n",
       "      <th>beachfront</th>\n",
       "    </tr>\n",
       "  </thead>\n",
       "  <tbody>\n",
       "    <tr>\n",
       "      <th>5288</th>\n",
       "      <td>within an hour</td>\n",
       "      <td>1.0</td>\n",
       "      <td>0.99</td>\n",
       "      <td>1</td>\n",
       "      <td>1</td>\n",
       "      <td>Visitacion Valley</td>\n",
       "      <td>Entire townhouse</td>\n",
       "      <td>Entire home/apt</td>\n",
       "      <td>5</td>\n",
       "      <td>1.0</td>\n",
       "      <td>...</td>\n",
       "      <td>0</td>\n",
       "      <td>0</td>\n",
       "      <td>0</td>\n",
       "      <td>0</td>\n",
       "      <td>0</td>\n",
       "      <td>0</td>\n",
       "      <td>0</td>\n",
       "      <td>0</td>\n",
       "      <td>0</td>\n",
       "      <td>0</td>\n",
       "    </tr>\n",
       "    <tr>\n",
       "      <th>5289</th>\n",
       "      <td>within an hour</td>\n",
       "      <td>1.0</td>\n",
       "      <td>1.00</td>\n",
       "      <td>1</td>\n",
       "      <td>1</td>\n",
       "      <td>Visitacion Valley</td>\n",
       "      <td>Entire guesthouse</td>\n",
       "      <td>Entire home/apt</td>\n",
       "      <td>2</td>\n",
       "      <td>1.0</td>\n",
       "      <td>...</td>\n",
       "      <td>0</td>\n",
       "      <td>0</td>\n",
       "      <td>0</td>\n",
       "      <td>0</td>\n",
       "      <td>0</td>\n",
       "      <td>0</td>\n",
       "      <td>0</td>\n",
       "      <td>0</td>\n",
       "      <td>0</td>\n",
       "      <td>0</td>\n",
       "    </tr>\n",
       "    <tr>\n",
       "      <th>5290</th>\n",
       "      <td>-</td>\n",
       "      <td>0.0</td>\n",
       "      <td>1.00</td>\n",
       "      <td>0</td>\n",
       "      <td>3</td>\n",
       "      <td>Visitacion Valley</td>\n",
       "      <td>Entire guesthouse</td>\n",
       "      <td>Entire home/apt</td>\n",
       "      <td>2</td>\n",
       "      <td>1.0</td>\n",
       "      <td>...</td>\n",
       "      <td>0</td>\n",
       "      <td>0</td>\n",
       "      <td>0</td>\n",
       "      <td>0</td>\n",
       "      <td>0</td>\n",
       "      <td>0</td>\n",
       "      <td>0</td>\n",
       "      <td>0</td>\n",
       "      <td>0</td>\n",
       "      <td>0</td>\n",
       "    </tr>\n",
       "    <tr>\n",
       "      <th>5291</th>\n",
       "      <td>-</td>\n",
       "      <td>0.0</td>\n",
       "      <td>1.00</td>\n",
       "      <td>0</td>\n",
       "      <td>0</td>\n",
       "      <td>Visitacion Valley</td>\n",
       "      <td>Entire guest suite</td>\n",
       "      <td>Entire home/apt</td>\n",
       "      <td>2</td>\n",
       "      <td>1.0</td>\n",
       "      <td>...</td>\n",
       "      <td>0</td>\n",
       "      <td>0</td>\n",
       "      <td>0</td>\n",
       "      <td>0</td>\n",
       "      <td>0</td>\n",
       "      <td>0</td>\n",
       "      <td>0</td>\n",
       "      <td>1</td>\n",
       "      <td>0</td>\n",
       "      <td>0</td>\n",
       "    </tr>\n",
       "    <tr>\n",
       "      <th>5292</th>\n",
       "      <td>within an hour</td>\n",
       "      <td>1.0</td>\n",
       "      <td>1.00</td>\n",
       "      <td>0</td>\n",
       "      <td>0</td>\n",
       "      <td>Visitacion Valley</td>\n",
       "      <td>Private room in apartment</td>\n",
       "      <td>Private room</td>\n",
       "      <td>4</td>\n",
       "      <td>1.0</td>\n",
       "      <td>...</td>\n",
       "      <td>0</td>\n",
       "      <td>0</td>\n",
       "      <td>0</td>\n",
       "      <td>0</td>\n",
       "      <td>0</td>\n",
       "      <td>0</td>\n",
       "      <td>0</td>\n",
       "      <td>0</td>\n",
       "      <td>0</td>\n",
       "      <td>0</td>\n",
       "    </tr>\n",
       "  </tbody>\n",
       "</table>\n",
       "<p>5 rows × 80 columns</p>\n",
       "</div>"
      ],
      "text/plain": [
       "     host_response_time  host_response_rate  host_acceptance_rate  \\\n",
       "5288     within an hour                 1.0                  0.99   \n",
       "5289     within an hour                 1.0                  1.00   \n",
       "5290                  -                 0.0                  1.00   \n",
       "5291                  -                 0.0                  1.00   \n",
       "5292     within an hour                 1.0                  1.00   \n",
       "\n",
       "      host_is_superhost  host_listings_count neighbourhood_cleansed  \\\n",
       "5288                  1                    1      Visitacion Valley   \n",
       "5289                  1                    1      Visitacion Valley   \n",
       "5290                  0                    3      Visitacion Valley   \n",
       "5291                  0                    0      Visitacion Valley   \n",
       "5292                  0                    0      Visitacion Valley   \n",
       "\n",
       "                  property_type        room_type  accommodates  bathrooms  \\\n",
       "5288           Entire townhouse  Entire home/apt             5        1.0   \n",
       "5289          Entire guesthouse  Entire home/apt             2        1.0   \n",
       "5290          Entire guesthouse  Entire home/apt             2        1.0   \n",
       "5291         Entire guest suite  Entire home/apt             2        1.0   \n",
       "5292  Private room in apartment     Private room             4        1.0   \n",
       "\n",
       "      ... game console  stair gates  fireplace guards  pool  pocket wifi  \\\n",
       "5288  ...            0            0                 0     0            0   \n",
       "5289  ...            0            0                 0     0            0   \n",
       "5290  ...            0            0                 0     0            0   \n",
       "5291  ...            0            0                 0     0            0   \n",
       "5292  ...            0            0                 0     0            0   \n",
       "\n",
       "      changing table  beach essentials  window guards  ev charger  beachfront  \n",
       "5288               0                 0              0           0           0  \n",
       "5289               0                 0              0           0           0  \n",
       "5290               0                 0              0           0           0  \n",
       "5291               0                 0              1           0           0  \n",
       "5292               0                 0              0           0           0  \n",
       "\n",
       "[5 rows x 80 columns]"
      ]
     },
     "execution_count": 75,
     "metadata": {},
     "output_type": "execute_result"
    }
   ],
   "source": [
    "SF_df = pd.read_pickle(\"remove_features_without_encoding.pkl\")\n",
    "SF_df.tail(5)"
   ]
  },
  {
   "cell_type": "code",
   "execution_count": 76,
   "metadata": {
    "ExecuteTime": {
     "end_time": "2020-10-29T13:06:39.111496Z",
     "start_time": "2020-10-29T13:06:39.061630Z"
    }
   },
   "outputs": [
    {
     "name": "stdout",
     "output_type": "stream",
     "text": [
      "<class 'pandas.core.frame.DataFrame'>\n",
      "RangeIndex: 5293 entries, 0 to 5292\n",
      "Data columns (total 80 columns):\n",
      " #   Column                      Non-Null Count  Dtype  \n",
      "---  ------                      --------------  -----  \n",
      " 0   host_response_time          5293 non-null   object \n",
      " 1   host_response_rate          5293 non-null   float64\n",
      " 2   host_acceptance_rate        5293 non-null   float64\n",
      " 3   host_is_superhost           5293 non-null   int32  \n",
      " 4   host_listings_count         5293 non-null   int64  \n",
      " 5   neighbourhood_cleansed      5293 non-null   object \n",
      " 6   property_type               5293 non-null   object \n",
      " 7   room_type                   5293 non-null   object \n",
      " 8   accommodates                5293 non-null   int64  \n",
      " 9   bathrooms                   5293 non-null   float64\n",
      " 10  amenities                   5293 non-null   object \n",
      " 11  price                       5293 non-null   float64\n",
      " 12  minimum_nights              5293 non-null   int64  \n",
      " 13  review_scores_rating        5293 non-null   float64\n",
      " 14  reviews_per_month           5293 non-null   float64\n",
      " 15  price_log                   5293 non-null   float64\n",
      " 16  sentiment_compound          5293 non-null   float64\n",
      " 17  SafeIndex_Score             5293 non-null   float64\n",
      " 18  wifi                        5293 non-null   int64  \n",
      " 19  heating                     5293 non-null   int64  \n",
      " 20  smoke alarm                 5293 non-null   int64  \n",
      " 21  essentials                  5293 non-null   int64  \n",
      " 22  hair dryer                  5293 non-null   int64  \n",
      " 23  tv                          5293 non-null   int64  \n",
      " 24  kitchen                     5293 non-null   int64  \n",
      " 25  hot water                   5293 non-null   int64  \n",
      " 26  fire extinguisher           5293 non-null   int64  \n",
      " 27  washer                      5293 non-null   int64  \n",
      " 28  coffee maker                5293 non-null   int64  \n",
      " 29  refrigerator                5293 non-null   int64  \n",
      " 30  free street parking         5293 non-null   int64  \n",
      " 31  first aid kit               5293 non-null   int64  \n",
      " 32  bed linens                  5293 non-null   int64  \n",
      " 33  oven                        5293 non-null   int64  \n",
      " 34  private entrance            5293 non-null   int64  \n",
      " 35  dishwasher                  5293 non-null   int64  \n",
      " 36  cable tv                    5293 non-null   int64  \n",
      " 37  luggage dropoff allowed     5293 non-null   int64  \n",
      " 38  long term stays allowed     5293 non-null   int64  \n",
      " 39  garden or backyard          5293 non-null   int64  \n",
      " 40  patio or balcony            5293 non-null   int64  \n",
      " 41  lock on bedroom door        5293 non-null   int64  \n",
      " 42  lockbox                     5293 non-null   int64  \n",
      " 43  keypad                      5293 non-null   int64  \n",
      " 44  free parking on premises    5293 non-null   int64  \n",
      " 45  elevator                    5293 non-null   int64  \n",
      " 46  bathtub                     5293 non-null   int64  \n",
      " 47  indoor fireplace            5293 non-null   int64  \n",
      " 48  paid parking off premises   5293 non-null   int64  \n",
      " 49  air conditioning            5293 non-null   int64  \n",
      " 50  pack 'n play/travel crib    5293 non-null   int64  \n",
      " 51  bbq grill                   5293 non-null   int64  \n",
      " 52  breakfast                   5293 non-null   int64  \n",
      " 53  host greets you             5293 non-null   int64  \n",
      " 54  room-darkening shades       5293 non-null   int64  \n",
      " 55  children's books and toys   5293 non-null   int64  \n",
      " 56  shower gel                  5293 non-null   int64  \n",
      " 57  single level home           5293 non-null   int64  \n",
      " 58  paid parking on premises    5293 non-null   int64  \n",
      " 59  building staff              5293 non-null   int64  \n",
      " 60  ethernet connection         5293 non-null   int64  \n",
      " 61  smart lock                  5293 non-null   int64  \n",
      " 62  hot tub                     5293 non-null   int64  \n",
      " 63  private living room         5293 non-null   int64  \n",
      " 64  high chair                  5293 non-null   int64  \n",
      " 65  baking sheet                5293 non-null   int64  \n",
      " 66  bathroom essentials         5293 non-null   int64  \n",
      " 67  cleaning before checkout    5293 non-null   int64  \n",
      " 68  crib                        5293 non-null   int64  \n",
      " 69  babysitter recommendations  5293 non-null   int64  \n",
      " 70  game console                5293 non-null   int64  \n",
      " 71  stair gates                 5293 non-null   int64  \n",
      " 72  fireplace guards            5293 non-null   int64  \n",
      " 73  pool                        5293 non-null   int64  \n",
      " 74  pocket wifi                 5293 non-null   int64  \n",
      " 75  changing table              5293 non-null   int64  \n",
      " 76  beach essentials            5293 non-null   int64  \n",
      " 77  window guards               5293 non-null   int64  \n",
      " 78  ev charger                  5293 non-null   int64  \n",
      " 79  beachfront                  5293 non-null   int64  \n",
      "dtypes: float64(9), int32(1), int64(65), object(5)\n",
      "memory usage: 3.2+ MB\n"
     ]
    }
   ],
   "source": [
    "SF_df.info()"
   ]
  },
  {
   "cell_type": "markdown",
   "metadata": {},
   "source": [
    "# Different column type name lists"
   ]
  },
  {
   "cell_type": "code",
   "execution_count": 77,
   "metadata": {
    "ExecuteTime": {
     "end_time": "2020-10-29T13:06:39.135433Z",
     "start_time": "2020-10-29T13:06:39.114488Z"
    }
   },
   "outputs": [
    {
     "name": "stdout",
     "output_type": "stream",
     "text": [
      "No. of numeric cols: 75\n",
      "No. of boolean cols: 0\n",
      "No. of object cols: 5\n",
      "Total: 80\n",
      "Object Columns : ['host_response_time', 'neighbourhood_cleansed', 'property_type', 'room_type', 'amenities']\n"
     ]
    }
   ],
   "source": [
    "numerics = ['int16', 'int32', 'int64', 'float16', 'float32', 'float64']\n",
    "numeric_columns = SF_df.select_dtypes(include=numerics).columns.to_list()\n",
    "bool_columns = SF_df.select_dtypes(include='bool').columns.to_list()\n",
    "object_columns = SF_df.select_dtypes(include='object').columns.to_list()\n",
    "print(f\"No. of numeric cols: {len(numeric_columns)}\")\n",
    "print(f\"No. of boolean cols: {len(bool_columns)}\")\n",
    "print(f\"No. of object cols: {len(object_columns)}\")\n",
    "print(f\"Total: {len(numeric_columns)+len(bool_columns)+len(object_columns)}\")\n",
    "print(\"Object Columns :\",object_columns)"
   ]
  },
  {
   "cell_type": "code",
   "execution_count": 78,
   "metadata": {
    "ExecuteTime": {
     "end_time": "2020-10-29T13:06:39.158371Z",
     "start_time": "2020-10-29T13:06:39.138424Z"
    }
   },
   "outputs": [
    {
     "data": {
      "text/plain": [
       "host_response_time      0\n",
       "host_response_rate      0\n",
       "host_acceptance_rate    0\n",
       "host_is_superhost       0\n",
       "host_listings_count     0\n",
       "                       ..\n",
       "changing table          0\n",
       "beach essentials        0\n",
       "window guards           0\n",
       "ev charger              0\n",
       "beachfront              0\n",
       "Length: 80, dtype: int64"
      ]
     },
     "execution_count": 78,
     "metadata": {},
     "output_type": "execute_result"
    }
   ],
   "source": [
    "SF_df.isnull().sum()"
   ]
  },
  {
   "cell_type": "markdown",
   "metadata": {},
   "source": [
    "## Transforming categorical columns to numeric columns and combine all into new df"
   ]
  },
  {
   "cell_type": "code",
   "execution_count": 79,
   "metadata": {
    "ExecuteTime": {
     "end_time": "2020-10-29T13:06:39.172341Z",
     "start_time": "2020-10-29T13:06:39.161364Z"
    }
   },
   "outputs": [
    {
     "data": {
      "text/plain": [
       "(5293, 75)"
      ]
     },
     "execution_count": 79,
     "metadata": {},
     "output_type": "execute_result"
    }
   ],
   "source": [
    "new_SF_df = SF_df[numeric_columns]\n",
    "new_SF_df.shape"
   ]
  },
  {
   "cell_type": "code",
   "execution_count": 80,
   "metadata": {
    "ExecuteTime": {
     "end_time": "2020-10-29T13:06:39.240152Z",
     "start_time": "2020-10-29T13:06:39.176323Z"
    }
   },
   "outputs": [],
   "source": [
    "for categorical_col in object_columns[:-1]:\n",
    "    new_SF_df = pd.concat([new_SF_df, pd.get_dummies(SF_df[categorical_col])], axis=1)"
   ]
  },
  {
   "cell_type": "code",
   "execution_count": 81,
   "metadata": {
    "ExecuteTime": {
     "end_time": "2020-10-29T13:06:39.311961Z",
     "start_time": "2020-10-29T13:06:39.243144Z"
    }
   },
   "outputs": [
    {
     "data": {
      "text/html": [
       "<div>\n",
       "<style scoped>\n",
       "    .dataframe tbody tr th:only-of-type {\n",
       "        vertical-align: middle;\n",
       "    }\n",
       "\n",
       "    .dataframe tbody tr th {\n",
       "        vertical-align: top;\n",
       "    }\n",
       "\n",
       "    .dataframe thead th {\n",
       "        text-align: right;\n",
       "    }\n",
       "</style>\n",
       "<table border=\"1\" class=\"dataframe\">\n",
       "  <thead>\n",
       "    <tr style=\"text-align: right;\">\n",
       "      <th></th>\n",
       "      <th>host_response_rate</th>\n",
       "      <th>host_acceptance_rate</th>\n",
       "      <th>host_is_superhost</th>\n",
       "      <th>host_listings_count</th>\n",
       "      <th>accommodates</th>\n",
       "      <th>bathrooms</th>\n",
       "      <th>price</th>\n",
       "      <th>minimum_nights</th>\n",
       "      <th>review_scores_rating</th>\n",
       "      <th>reviews_per_month</th>\n",
       "      <th>...</th>\n",
       "      <th>Shared room in hostel</th>\n",
       "      <th>Shared room in house</th>\n",
       "      <th>Shared room in loft</th>\n",
       "      <th>Shared room in townhouse</th>\n",
       "      <th>Shared room in villa</th>\n",
       "      <th>Tiny house</th>\n",
       "      <th>Entire home/apt</th>\n",
       "      <th>Hotel room</th>\n",
       "      <th>Private room</th>\n",
       "      <th>Shared room</th>\n",
       "    </tr>\n",
       "  </thead>\n",
       "  <tbody>\n",
       "    <tr>\n",
       "      <th>0</th>\n",
       "      <td>1.00</td>\n",
       "      <td>0.99</td>\n",
       "      <td>1</td>\n",
       "      <td>1</td>\n",
       "      <td>3</td>\n",
       "      <td>1.0</td>\n",
       "      <td>132.0</td>\n",
       "      <td>2</td>\n",
       "      <td>97.0</td>\n",
       "      <td>1.91</td>\n",
       "      <td>...</td>\n",
       "      <td>0</td>\n",
       "      <td>0</td>\n",
       "      <td>0</td>\n",
       "      <td>0</td>\n",
       "      <td>0</td>\n",
       "      <td>0</td>\n",
       "      <td>1</td>\n",
       "      <td>0</td>\n",
       "      <td>0</td>\n",
       "      <td>0</td>\n",
       "    </tr>\n",
       "    <tr>\n",
       "      <th>1</th>\n",
       "      <td>0.97</td>\n",
       "      <td>0.79</td>\n",
       "      <td>1</td>\n",
       "      <td>38</td>\n",
       "      <td>5</td>\n",
       "      <td>2.0</td>\n",
       "      <td>166.0</td>\n",
       "      <td>30</td>\n",
       "      <td>91.0</td>\n",
       "      <td>0.15</td>\n",
       "      <td>...</td>\n",
       "      <td>0</td>\n",
       "      <td>0</td>\n",
       "      <td>0</td>\n",
       "      <td>0</td>\n",
       "      <td>0</td>\n",
       "      <td>0</td>\n",
       "      <td>1</td>\n",
       "      <td>0</td>\n",
       "      <td>0</td>\n",
       "      <td>0</td>\n",
       "    </tr>\n",
       "    <tr>\n",
       "      <th>2</th>\n",
       "      <td>0.50</td>\n",
       "      <td>0.76</td>\n",
       "      <td>1</td>\n",
       "      <td>3</td>\n",
       "      <td>2</td>\n",
       "      <td>1.0</td>\n",
       "      <td>130.0</td>\n",
       "      <td>2</td>\n",
       "      <td>97.0</td>\n",
       "      <td>3.92</td>\n",
       "      <td>...</td>\n",
       "      <td>0</td>\n",
       "      <td>0</td>\n",
       "      <td>0</td>\n",
       "      <td>0</td>\n",
       "      <td>0</td>\n",
       "      <td>0</td>\n",
       "      <td>0</td>\n",
       "      <td>0</td>\n",
       "      <td>1</td>\n",
       "      <td>0</td>\n",
       "    </tr>\n",
       "    <tr>\n",
       "      <th>3</th>\n",
       "      <td>0.50</td>\n",
       "      <td>0.76</td>\n",
       "      <td>1</td>\n",
       "      <td>3</td>\n",
       "      <td>2</td>\n",
       "      <td>1.0</td>\n",
       "      <td>110.0</td>\n",
       "      <td>2</td>\n",
       "      <td>98.0</td>\n",
       "      <td>3.73</td>\n",
       "      <td>...</td>\n",
       "      <td>0</td>\n",
       "      <td>0</td>\n",
       "      <td>0</td>\n",
       "      <td>0</td>\n",
       "      <td>0</td>\n",
       "      <td>0</td>\n",
       "      <td>0</td>\n",
       "      <td>0</td>\n",
       "      <td>1</td>\n",
       "      <td>0</td>\n",
       "    </tr>\n",
       "    <tr>\n",
       "      <th>4</th>\n",
       "      <td>1.00</td>\n",
       "      <td>1.00</td>\n",
       "      <td>0</td>\n",
       "      <td>2</td>\n",
       "      <td>10</td>\n",
       "      <td>2.0</td>\n",
       "      <td>480.0</td>\n",
       "      <td>3</td>\n",
       "      <td>91.0</td>\n",
       "      <td>0.32</td>\n",
       "      <td>...</td>\n",
       "      <td>0</td>\n",
       "      <td>0</td>\n",
       "      <td>0</td>\n",
       "      <td>0</td>\n",
       "      <td>0</td>\n",
       "      <td>0</td>\n",
       "      <td>1</td>\n",
       "      <td>0</td>\n",
       "      <td>0</td>\n",
       "      <td>0</td>\n",
       "    </tr>\n",
       "    <tr>\n",
       "      <th>...</th>\n",
       "      <td>...</td>\n",
       "      <td>...</td>\n",
       "      <td>...</td>\n",
       "      <td>...</td>\n",
       "      <td>...</td>\n",
       "      <td>...</td>\n",
       "      <td>...</td>\n",
       "      <td>...</td>\n",
       "      <td>...</td>\n",
       "      <td>...</td>\n",
       "      <td>...</td>\n",
       "      <td>...</td>\n",
       "      <td>...</td>\n",
       "      <td>...</td>\n",
       "      <td>...</td>\n",
       "      <td>...</td>\n",
       "      <td>...</td>\n",
       "      <td>...</td>\n",
       "      <td>...</td>\n",
       "      <td>...</td>\n",
       "      <td>...</td>\n",
       "    </tr>\n",
       "    <tr>\n",
       "      <th>5288</th>\n",
       "      <td>1.00</td>\n",
       "      <td>0.99</td>\n",
       "      <td>1</td>\n",
       "      <td>1</td>\n",
       "      <td>5</td>\n",
       "      <td>1.0</td>\n",
       "      <td>121.0</td>\n",
       "      <td>2</td>\n",
       "      <td>100.0</td>\n",
       "      <td>0.13</td>\n",
       "      <td>...</td>\n",
       "      <td>0</td>\n",
       "      <td>0</td>\n",
       "      <td>0</td>\n",
       "      <td>0</td>\n",
       "      <td>0</td>\n",
       "      <td>0</td>\n",
       "      <td>1</td>\n",
       "      <td>0</td>\n",
       "      <td>0</td>\n",
       "      <td>0</td>\n",
       "    </tr>\n",
       "    <tr>\n",
       "      <th>5289</th>\n",
       "      <td>1.00</td>\n",
       "      <td>1.00</td>\n",
       "      <td>1</td>\n",
       "      <td>1</td>\n",
       "      <td>2</td>\n",
       "      <td>1.0</td>\n",
       "      <td>151.0</td>\n",
       "      <td>2</td>\n",
       "      <td>99.0</td>\n",
       "      <td>4.11</td>\n",
       "      <td>...</td>\n",
       "      <td>0</td>\n",
       "      <td>0</td>\n",
       "      <td>0</td>\n",
       "      <td>0</td>\n",
       "      <td>0</td>\n",
       "      <td>0</td>\n",
       "      <td>1</td>\n",
       "      <td>0</td>\n",
       "      <td>0</td>\n",
       "      <td>0</td>\n",
       "    </tr>\n",
       "    <tr>\n",
       "      <th>5290</th>\n",
       "      <td>0.00</td>\n",
       "      <td>1.00</td>\n",
       "      <td>0</td>\n",
       "      <td>3</td>\n",
       "      <td>2</td>\n",
       "      <td>1.0</td>\n",
       "      <td>179.0</td>\n",
       "      <td>2</td>\n",
       "      <td>100.0</td>\n",
       "      <td>0.47</td>\n",
       "      <td>...</td>\n",
       "      <td>0</td>\n",
       "      <td>0</td>\n",
       "      <td>0</td>\n",
       "      <td>0</td>\n",
       "      <td>0</td>\n",
       "      <td>0</td>\n",
       "      <td>1</td>\n",
       "      <td>0</td>\n",
       "      <td>0</td>\n",
       "      <td>0</td>\n",
       "    </tr>\n",
       "    <tr>\n",
       "      <th>5291</th>\n",
       "      <td>0.00</td>\n",
       "      <td>1.00</td>\n",
       "      <td>0</td>\n",
       "      <td>0</td>\n",
       "      <td>2</td>\n",
       "      <td>1.0</td>\n",
       "      <td>190.0</td>\n",
       "      <td>30</td>\n",
       "      <td>100.0</td>\n",
       "      <td>0.48</td>\n",
       "      <td>...</td>\n",
       "      <td>0</td>\n",
       "      <td>0</td>\n",
       "      <td>0</td>\n",
       "      <td>0</td>\n",
       "      <td>0</td>\n",
       "      <td>0</td>\n",
       "      <td>1</td>\n",
       "      <td>0</td>\n",
       "      <td>0</td>\n",
       "      <td>0</td>\n",
       "    </tr>\n",
       "    <tr>\n",
       "      <th>5292</th>\n",
       "      <td>1.00</td>\n",
       "      <td>1.00</td>\n",
       "      <td>0</td>\n",
       "      <td>0</td>\n",
       "      <td>4</td>\n",
       "      <td>1.0</td>\n",
       "      <td>85.0</td>\n",
       "      <td>1</td>\n",
       "      <td>100.0</td>\n",
       "      <td>0.34</td>\n",
       "      <td>...</td>\n",
       "      <td>0</td>\n",
       "      <td>0</td>\n",
       "      <td>0</td>\n",
       "      <td>0</td>\n",
       "      <td>0</td>\n",
       "      <td>0</td>\n",
       "      <td>0</td>\n",
       "      <td>0</td>\n",
       "      <td>1</td>\n",
       "      <td>0</td>\n",
       "    </tr>\n",
       "  </tbody>\n",
       "</table>\n",
       "<p>5293 rows × 168 columns</p>\n",
       "</div>"
      ],
      "text/plain": [
       "      host_response_rate  host_acceptance_rate  host_is_superhost  \\\n",
       "0                   1.00                  0.99                  1   \n",
       "1                   0.97                  0.79                  1   \n",
       "2                   0.50                  0.76                  1   \n",
       "3                   0.50                  0.76                  1   \n",
       "4                   1.00                  1.00                  0   \n",
       "...                  ...                   ...                ...   \n",
       "5288                1.00                  0.99                  1   \n",
       "5289                1.00                  1.00                  1   \n",
       "5290                0.00                  1.00                  0   \n",
       "5291                0.00                  1.00                  0   \n",
       "5292                1.00                  1.00                  0   \n",
       "\n",
       "      host_listings_count  accommodates  bathrooms  price  minimum_nights  \\\n",
       "0                       1             3        1.0  132.0               2   \n",
       "1                      38             5        2.0  166.0              30   \n",
       "2                       3             2        1.0  130.0               2   \n",
       "3                       3             2        1.0  110.0               2   \n",
       "4                       2            10        2.0  480.0               3   \n",
       "...                   ...           ...        ...    ...             ...   \n",
       "5288                    1             5        1.0  121.0               2   \n",
       "5289                    1             2        1.0  151.0               2   \n",
       "5290                    3             2        1.0  179.0               2   \n",
       "5291                    0             2        1.0  190.0              30   \n",
       "5292                    0             4        1.0   85.0               1   \n",
       "\n",
       "      review_scores_rating  reviews_per_month  ...  Shared room in hostel  \\\n",
       "0                     97.0               1.91  ...                      0   \n",
       "1                     91.0               0.15  ...                      0   \n",
       "2                     97.0               3.92  ...                      0   \n",
       "3                     98.0               3.73  ...                      0   \n",
       "4                     91.0               0.32  ...                      0   \n",
       "...                    ...                ...  ...                    ...   \n",
       "5288                 100.0               0.13  ...                      0   \n",
       "5289                  99.0               4.11  ...                      0   \n",
       "5290                 100.0               0.47  ...                      0   \n",
       "5291                 100.0               0.48  ...                      0   \n",
       "5292                 100.0               0.34  ...                      0   \n",
       "\n",
       "      Shared room in house  Shared room in loft  Shared room in townhouse  \\\n",
       "0                        0                    0                         0   \n",
       "1                        0                    0                         0   \n",
       "2                        0                    0                         0   \n",
       "3                        0                    0                         0   \n",
       "4                        0                    0                         0   \n",
       "...                    ...                  ...                       ...   \n",
       "5288                     0                    0                         0   \n",
       "5289                     0                    0                         0   \n",
       "5290                     0                    0                         0   \n",
       "5291                     0                    0                         0   \n",
       "5292                     0                    0                         0   \n",
       "\n",
       "      Shared room in villa  Tiny house  Entire home/apt  Hotel room  \\\n",
       "0                        0           0                1           0   \n",
       "1                        0           0                1           0   \n",
       "2                        0           0                0           0   \n",
       "3                        0           0                0           0   \n",
       "4                        0           0                1           0   \n",
       "...                    ...         ...              ...         ...   \n",
       "5288                     0           0                1           0   \n",
       "5289                     0           0                1           0   \n",
       "5290                     0           0                1           0   \n",
       "5291                     0           0                1           0   \n",
       "5292                     0           0                0           0   \n",
       "\n",
       "      Private room  Shared room  \n",
       "0                0            0  \n",
       "1                0            0  \n",
       "2                1            0  \n",
       "3                1            0  \n",
       "4                0            0  \n",
       "...            ...          ...  \n",
       "5288             0            0  \n",
       "5289             0            0  \n",
       "5290             0            0  \n",
       "5291             0            0  \n",
       "5292             1            0  \n",
       "\n",
       "[5293 rows x 168 columns]"
      ]
     },
     "execution_count": 81,
     "metadata": {},
     "output_type": "execute_result"
    }
   ],
   "source": [
    "new_SF_df"
   ]
  },
  {
   "cell_type": "code",
   "execution_count": 82,
   "metadata": {
    "ExecuteTime": {
     "end_time": "2020-10-29T13:06:39.322931Z",
     "start_time": "2020-10-29T13:06:39.314953Z"
    }
   },
   "outputs": [
    {
     "data": {
      "text/plain": [
       "array([False, False, False, False, False, False, False, False, False,\n",
       "       False, False, False, False, False, False, False, False, False,\n",
       "       False, False, False, False, False, False, False, False, False,\n",
       "       False, False, False, False, False, False, False, False, False,\n",
       "       False, False, False, False, False, False, False, False, False,\n",
       "       False, False, False, False, False, False, False, False, False,\n",
       "       False, False, False, False, False, False, False, False, False,\n",
       "       False, False, False, False, False, False, False, False, False,\n",
       "       False, False, False, False, False, False, False, False, False,\n",
       "       False, False, False, False, False, False, False, False, False,\n",
       "       False, False, False, False, False, False, False, False, False,\n",
       "       False, False, False, False, False, False, False, False, False,\n",
       "       False, False, False, False, False, False, False, False, False,\n",
       "       False, False, False, False, False, False, False, False, False,\n",
       "       False, False, False, False, False, False, False, False, False,\n",
       "       False, False, False, False, False, False, False, False, False,\n",
       "       False, False, False, False, False, False, False, False, False,\n",
       "       False, False, False, False, False, False, False, False, False,\n",
       "       False, False, False, False,  True, False])"
      ]
     },
     "execution_count": 82,
     "metadata": {},
     "output_type": "execute_result"
    }
   ],
   "source": [
    "new_SF_df.columns.duplicated()"
   ]
  },
  {
   "cell_type": "code",
   "execution_count": 83,
   "metadata": {
    "ExecuteTime": {
     "end_time": "2020-10-29T13:06:39.340882Z",
     "start_time": "2020-10-29T13:06:39.327918Z"
    }
   },
   "outputs": [
    {
     "data": {
      "text/plain": [
       "'Private room (Room Type)'"
      ]
     },
     "execution_count": 83,
     "metadata": {},
     "output_type": "execute_result"
    }
   ],
   "source": [
    "new_SF_df.columns.values[166] = \"Private room (Room Type)\"\n",
    "new_SF_df.columns.values[166]"
   ]
  },
  {
   "cell_type": "code",
   "execution_count": 84,
   "metadata": {
    "ExecuteTime": {
     "end_time": "2020-10-29T13:06:39.361827Z",
     "start_time": "2020-10-29T13:06:39.343875Z"
    }
   },
   "outputs": [
    {
     "data": {
      "text/plain": [
       "array([False, False, False, False, False, False, False, False, False,\n",
       "       False, False, False, False, False, False, False, False, False,\n",
       "       False, False, False, False, False, False, False, False, False,\n",
       "       False, False, False, False, False, False, False, False, False,\n",
       "       False, False, False, False, False, False, False, False, False,\n",
       "       False, False, False, False, False, False, False, False, False,\n",
       "       False, False, False, False, False, False, False, False, False,\n",
       "       False, False, False, False, False, False, False, False, False,\n",
       "       False, False, False, False, False, False, False, False, False,\n",
       "       False, False, False, False, False, False, False, False, False,\n",
       "       False, False, False, False, False, False, False, False, False,\n",
       "       False, False, False, False, False, False, False, False, False,\n",
       "       False, False, False, False, False, False, False, False, False,\n",
       "       False, False, False, False, False, False, False, False, False,\n",
       "       False, False, False, False, False, False, False, False, False,\n",
       "       False, False, False, False, False, False, False, False, False,\n",
       "       False, False, False, False, False, False, False, False, False,\n",
       "       False, False, False, False, False, False, False, False, False,\n",
       "       False, False, False, False, False, False])"
      ]
     },
     "execution_count": 84,
     "metadata": {},
     "output_type": "execute_result"
    }
   ],
   "source": [
    "new_SF_df.columns.duplicated()"
   ]
  },
  {
   "cell_type": "code",
   "execution_count": 85,
   "metadata": {
    "ExecuteTime": {
     "end_time": "2020-10-29T13:06:39.752781Z",
     "start_time": "2020-10-29T13:06:39.364819Z"
    }
   },
   "outputs": [
    {
     "name": "stdout",
     "output_type": "stream",
     "text": [
      "False\n",
      "False\n"
     ]
    }
   ],
   "source": [
    "print(new_SF_df.duplicated().any())\n",
    "if new_SF_df.duplicated().any():\n",
    "    duplicate_rows = new_SF_df[new_SF_df.duplicated()]\n",
    "    print(duplicate_rows)\n",
    "    new_SF_df = new_SF_df.drop_duplicates()\n",
    "    print(\"Duplicates Removed\")\n",
    "print(new_SF_df.duplicated().any())"
   ]
  },
  {
   "cell_type": "code",
   "execution_count": 86,
   "metadata": {
    "ExecuteTime": {
     "end_time": "2020-10-29T13:06:39.778712Z",
     "start_time": "2020-10-29T13:06:39.754776Z"
    }
   },
   "outputs": [
    {
     "name": "stdout",
     "output_type": "stream",
     "text": [
      "<class 'pandas.core.frame.DataFrame'>\n",
      "RangeIndex: 5293 entries, 0 to 5292\n",
      "Columns: 168 entries, host_response_rate to Shared room\n",
      "dtypes: float64(9), int32(1), int64(65), uint8(93)\n",
      "memory usage: 3.5 MB\n"
     ]
    }
   ],
   "source": [
    "new_SF_df.info()"
   ]
  },
  {
   "cell_type": "code",
   "execution_count": 87,
   "metadata": {
    "ExecuteTime": {
     "end_time": "2020-10-29T13:06:39.811624Z",
     "start_time": "2020-10-29T13:06:39.781705Z"
    }
   },
   "outputs": [
    {
     "name": "stdout",
     "output_type": "stream",
     "text": [
      "<class 'pandas.core.frame.DataFrame'>\n",
      "Int64Index: 6779 entries, 0 to 6808\n",
      "Columns: 171 entries, host_response_rate to Shared room\n",
      "dtypes: float64(8), int32(1), int64(66), uint8(96)\n",
      "memory usage: 4.5 MB\n"
     ]
    }
   ],
   "source": [
    "# new_SF_df.to_pickle('FINAL_price_df.pkl',protocol=3)\n",
    "\n",
    "price_df = pd.read_pickle('FINAL_price_df.pkl')\n",
    "price_df.info()"
   ]
  },
  {
   "cell_type": "markdown",
   "metadata": {},
   "source": [
    "# Train/Test split"
   ]
  },
  {
   "cell_type": "code",
   "execution_count": 88,
   "metadata": {
    "ExecuteTime": {
     "end_time": "2020-10-29T13:06:39.852514Z",
     "start_time": "2020-10-29T13:06:39.814617Z"
    }
   },
   "outputs": [],
   "source": [
    "from sklearn.model_selection import train_test_split\n",
    "from sklearn.metrics import r2_score\n",
    "from sklearn.metrics import mean_squared_error\n",
    "\n",
    "y = new_SF_df['price'] # target/dependent variable\n",
    "x = new_SF_df.drop(['price','price_log'], axis =1) # independent variables\n",
    "\n",
    "X_train, X_test, y_train, y_test = train_test_split(x, y, test_size = 0.25, random_state=1)"
   ]
  },
  {
   "cell_type": "markdown",
   "metadata": {
    "ExecuteTime": {
     "end_time": "2020-09-25T21:26:48.820835Z",
     "start_time": "2020-09-25T21:26:48.816846Z"
    }
   },
   "source": [
    "# Random Forest"
   ]
  },
  {
   "cell_type": "markdown",
   "metadata": {
    "ExecuteTime": {
     "end_time": "2020-09-25T21:26:48.820835Z",
     "start_time": "2020-09-25T21:26:48.816846Z"
    }
   },
   "source": [
    "## Train/Test w Random Forest Algorithm"
   ]
  },
  {
   "cell_type": "code",
   "execution_count": 89,
   "metadata": {
    "ExecuteTime": {
     "end_time": "2020-10-29T13:07:03.864318Z",
     "start_time": "2020-10-29T13:06:39.855508Z"
    }
   },
   "outputs": [
    {
     "name": "stdout",
     "output_type": "stream",
     "text": [
      "RMSE test: 69.053\n",
      "R^2 test: 0.628\n"
     ]
    }
   ],
   "source": [
    "from sklearn.ensemble import RandomForestRegressor\n",
    "\n",
    "rf = RandomForestRegressor(n_estimators=500, \n",
    "                               criterion='mse', \n",
    "                               random_state=3, \n",
    "                               n_jobs=-1)\n",
    "rf.fit(X_train, y_train)\n",
    "y_train_pred = rf.predict(X_train)\n",
    "y_test_pred = rf.predict(X_test)\n",
    "rmse_rf= (mean_squared_error(y_test,y_test_pred))**(1/2)\n",
    "\n",
    "print('RMSE test: %.3f' % rmse_rf)\n",
    "print('R^2 test: %.3f' % (r2_score(y_test, y_test_pred)))"
   ]
  },
  {
   "cell_type": "markdown",
   "metadata": {
    "ExecuteTime": {
     "end_time": "2020-09-25T21:26:48.820835Z",
     "start_time": "2020-09-25T21:26:48.816846Z"
    }
   },
   "source": [
    "## Feature Importance of Random Forest Algorithm"
   ]
  },
  {
   "cell_type": "code",
   "execution_count": 90,
   "metadata": {
    "ExecuteTime": {
     "end_time": "2020-10-29T13:07:04.055806Z",
     "start_time": "2020-10-29T13:07:03.867312Z"
    },
    "scrolled": true
   },
   "outputs": [
    {
     "data": {
      "text/html": [
       "<div>\n",
       "<style scoped>\n",
       "    .dataframe tbody tr th:only-of-type {\n",
       "        vertical-align: middle;\n",
       "    }\n",
       "\n",
       "    .dataframe tbody tr th {\n",
       "        vertical-align: top;\n",
       "    }\n",
       "\n",
       "    .dataframe thead th {\n",
       "        text-align: right;\n",
       "    }\n",
       "</style>\n",
       "<table border=\"1\" class=\"dataframe\">\n",
       "  <thead>\n",
       "    <tr style=\"text-align: right;\">\n",
       "      <th></th>\n",
       "      <th>feature</th>\n",
       "      <th>coefs</th>\n",
       "    </tr>\n",
       "  </thead>\n",
       "  <tbody>\n",
       "    <tr>\n",
       "      <th>4</th>\n",
       "      <td>accommodates</td>\n",
       "      <td>0.294624</td>\n",
       "    </tr>\n",
       "    <tr>\n",
       "      <th>6</th>\n",
       "      <td>minimum_nights</td>\n",
       "      <td>0.076852</td>\n",
       "    </tr>\n",
       "    <tr>\n",
       "      <th>8</th>\n",
       "      <td>reviews_per_month</td>\n",
       "      <td>0.073196</td>\n",
       "    </tr>\n",
       "    <tr>\n",
       "      <th>5</th>\n",
       "      <td>bathrooms</td>\n",
       "      <td>0.072629</td>\n",
       "    </tr>\n",
       "    <tr>\n",
       "      <th>9</th>\n",
       "      <td>sentiment_compound</td>\n",
       "      <td>0.043837</td>\n",
       "    </tr>\n",
       "    <tr>\n",
       "      <th>3</th>\n",
       "      <td>host_listings_count</td>\n",
       "      <td>0.041225</td>\n",
       "    </tr>\n",
       "    <tr>\n",
       "      <th>162</th>\n",
       "      <td>Entire home/apt</td>\n",
       "      <td>0.034661</td>\n",
       "    </tr>\n",
       "    <tr>\n",
       "      <th>10</th>\n",
       "      <td>SafeIndex_Score</td>\n",
       "      <td>0.028427</td>\n",
       "    </tr>\n",
       "    <tr>\n",
       "      <th>1</th>\n",
       "      <td>host_acceptance_rate</td>\n",
       "      <td>0.021577</td>\n",
       "    </tr>\n",
       "    <tr>\n",
       "      <th>7</th>\n",
       "      <td>review_scores_rating</td>\n",
       "      <td>0.020843</td>\n",
       "    </tr>\n",
       "    <tr>\n",
       "      <th>28</th>\n",
       "      <td>dishwasher</td>\n",
       "      <td>0.015417</td>\n",
       "    </tr>\n",
       "    <tr>\n",
       "      <th>42</th>\n",
       "      <td>air conditioning</td>\n",
       "      <td>0.015146</td>\n",
       "    </tr>\n",
       "    <tr>\n",
       "      <th>0</th>\n",
       "      <td>host_response_rate</td>\n",
       "      <td>0.011454</td>\n",
       "    </tr>\n",
       "    <tr>\n",
       "      <th>40</th>\n",
       "      <td>indoor fireplace</td>\n",
       "      <td>0.008331</td>\n",
       "    </tr>\n",
       "    <tr>\n",
       "      <th>59</th>\n",
       "      <td>bathroom essentials</td>\n",
       "      <td>0.006264</td>\n",
       "    </tr>\n",
       "    <tr>\n",
       "      <th>164</th>\n",
       "      <td>Private room (Room Type)</td>\n",
       "      <td>0.005690</td>\n",
       "    </tr>\n",
       "    <tr>\n",
       "      <th>29</th>\n",
       "      <td>cable tv</td>\n",
       "      <td>0.005632</td>\n",
       "    </tr>\n",
       "    <tr>\n",
       "      <th>86</th>\n",
       "      <td>Financial District</td>\n",
       "      <td>0.005234</td>\n",
       "    </tr>\n",
       "    <tr>\n",
       "      <th>116</th>\n",
       "      <td>Entire condominium</td>\n",
       "      <td>0.004987</td>\n",
       "    </tr>\n",
       "    <tr>\n",
       "      <th>121</th>\n",
       "      <td>Entire house</td>\n",
       "      <td>0.004620</td>\n",
       "    </tr>\n",
       "  </tbody>\n",
       "</table>\n",
       "</div>"
      ],
      "text/plain": [
       "                      feature     coefs\n",
       "4                accommodates  0.294624\n",
       "6              minimum_nights  0.076852\n",
       "8           reviews_per_month  0.073196\n",
       "5                   bathrooms  0.072629\n",
       "9          sentiment_compound  0.043837\n",
       "3         host_listings_count  0.041225\n",
       "162           Entire home/apt  0.034661\n",
       "10            SafeIndex_Score  0.028427\n",
       "1        host_acceptance_rate  0.021577\n",
       "7        review_scores_rating  0.020843\n",
       "28                 dishwasher  0.015417\n",
       "42           air conditioning  0.015146\n",
       "0          host_response_rate  0.011454\n",
       "40           indoor fireplace  0.008331\n",
       "59        bathroom essentials  0.006264\n",
       "164  Private room (Room Type)  0.005690\n",
       "29                   cable tv  0.005632\n",
       "86         Financial District  0.005234\n",
       "116        Entire condominium  0.004987\n",
       "121              Entire house  0.004620"
      ]
     },
     "execution_count": 90,
     "metadata": {},
     "output_type": "execute_result"
    }
   ],
   "source": [
    "coefs_df = pd.DataFrame()\n",
    "coefs_df['feature'] = X_train.columns\n",
    "coefs_df['coefs'] = rf.feature_importances_\n",
    "coefs_df.sort_values('coefs', ascending=False).head(20)"
   ]
  },
  {
   "cell_type": "code",
   "execution_count": 91,
   "metadata": {
    "ExecuteTime": {
     "end_time": "2020-10-29T13:07:04.752943Z",
     "start_time": "2020-10-29T13:07:04.058800Z"
    }
   },
   "outputs": [
    {
     "data": {
      "text/plain": [
       "<matplotlib.axes._subplots.AxesSubplot at 0x21f3bd85790>"
      ]
     },
     "execution_count": 91,
     "metadata": {},
     "output_type": "execute_result"
    },
    {
     "data": {
      "image/png": "[encoded data removed]",
      "text/plain": [
       "<Figure size 720x432 with 1 Axes>"
      ]
     },
     "metadata": {
      "needs_background": "light"
     },
     "output_type": "display_data"
    }
   ],
   "source": [
    "feat_imp = pd.Series(rf.feature_importances_, index=X_train.columns)\n",
    "feat_imp.nlargest(20).plot(kind='barh', figsize=(10,6))"
   ]
  },
  {
   "cell_type": "markdown",
   "metadata": {
    "ExecuteTime": {
     "end_time": "2020-09-25T21:26:48.820835Z",
     "start_time": "2020-09-25T21:26:48.816846Z"
    }
   },
   "source": [
    "# LightGBM"
   ]
  },
  {
   "cell_type": "markdown",
   "metadata": {
    "ExecuteTime": {
     "end_time": "2020-09-25T21:26:48.820835Z",
     "start_time": "2020-09-25T21:26:48.816846Z"
    }
   },
   "source": [
    "## Train/Test w LightGBM"
   ]
  },
  {
   "cell_type": "code",
   "execution_count": 92,
   "metadata": {
    "ExecuteTime": {
     "end_time": "2020-10-29T13:07:06.725669Z",
     "start_time": "2020-10-29T13:07:04.759923Z"
    }
   },
   "outputs": [
    {
     "name": "stdout",
     "output_type": "stream",
     "text": [
      "Training until validation scores don't improve for 20 rounds\n",
      "[100]\tvalid's rmse: 81.1003\n",
      "[200]\tvalid's rmse: 72.2863\n",
      "[300]\tvalid's rmse: 69.3055\n",
      "[400]\tvalid's rmse: 67.991\n",
      "[500]\tvalid's rmse: 67.5061\n",
      "[600]\tvalid's rmse: 67.1782\n",
      "Early stopping, best iteration is:\n",
      "[665]\tvalid's rmse: 67.0772\n",
      "R^2 test: 0.649\n"
     ]
    }
   ],
   "source": [
    "from lightgbm import LGBMRegressor\n",
    "\n",
    "fit_params={\n",
    "    \"early_stopping_rounds\":20, \n",
    "            \"eval_metric\" : 'rmse', \n",
    "            \"eval_set\" : [(X_test,y_test)],\n",
    "            'eval_names': ['valid'],\n",
    "            'verbose': 100,\n",
    "            'feature_name': 'auto', \n",
    "            'categorical_feature': 'auto'\n",
    "           }\n",
    "        \n",
    "class LGBMRegressor_GainFE(LGBMRegressor):\n",
    "    @property\n",
    "    def feature_importances_(self):\n",
    "        if self._n_features is None:\n",
    "            raise LGBMNotFittedError('No feature_importances found. Need to call fit beforehand.')\n",
    "        return self.booster_.feature_importance(importance_type='gain')\n",
    "        \n",
    "clf = LGBMRegressor_GainFE(num_leaves= 25, max_depth=20, \n",
    "                         random_state=0, \n",
    "                         silent=True, \n",
    "                         metric='rmse', \n",
    "                         n_jobs=4, \n",
    "                         n_estimators=1000,\n",
    "                         colsample_bytree=0.9,\n",
    "                         subsample=0.9,\n",
    "                         learning_rate=0.01)\n",
    "clf.fit(X_train.values, y_train.values, **fit_params)\n",
    "y_pred = clf.predict(X_test.values)\n",
    "print('R^2 test: %.3f' % (r2_score(y_test, y_pred)))"
   ]
  },
  {
   "cell_type": "markdown",
   "metadata": {
    "ExecuteTime": {
     "end_time": "2020-09-25T21:26:48.820835Z",
     "start_time": "2020-09-25T21:26:48.816846Z"
    }
   },
   "source": [
    "## Feature Importance of LightGBM"
   ]
  },
  {
   "cell_type": "code",
   "execution_count": 93,
   "metadata": {
    "ExecuteTime": {
     "end_time": "2020-10-29T13:07:07.191426Z",
     "start_time": "2020-10-29T13:07:06.730655Z"
    }
   },
   "outputs": [
    {
     "data": {
      "text/plain": [
       "<matplotlib.axes._subplots.AxesSubplot at 0x21f3c12fd60>"
      ]
     },
     "execution_count": 93,
     "metadata": {},
     "output_type": "execute_result"
    },
    {
     "data": {
      "image/png": "[encoded data removed]",
      "text/plain": [
       "<Figure size 720x432 with 1 Axes>"
      ]
     },
     "metadata": {
      "needs_background": "light"
     },
     "output_type": "display_data"
    }
   ],
   "source": [
    "feat_imp = pd.Series(clf.feature_importances_, index=x.columns)\n",
    "feat_imp.nlargest(20).plot(kind='barh', figsize=(10,6))"
   ]
  },
  {
   "cell_type": "code",
   "execution_count": 94,
   "metadata": {
    "ExecuteTime": {
     "end_time": "2020-10-29T13:07:07.223339Z",
     "start_time": "2020-10-29T13:07:07.195415Z"
    }
   },
   "outputs": [
    {
     "data": {
      "text/html": [
       "<div>\n",
       "<style scoped>\n",
       "    .dataframe tbody tr th:only-of-type {\n",
       "        vertical-align: middle;\n",
       "    }\n",
       "\n",
       "    .dataframe tbody tr th {\n",
       "        vertical-align: top;\n",
       "    }\n",
       "\n",
       "    .dataframe thead th {\n",
       "        text-align: right;\n",
       "    }\n",
       "</style>\n",
       "<table border=\"1\" class=\"dataframe\">\n",
       "  <thead>\n",
       "    <tr style=\"text-align: right;\">\n",
       "      <th></th>\n",
       "      <th>feature</th>\n",
       "      <th>coefs</th>\n",
       "    </tr>\n",
       "  </thead>\n",
       "  <tbody>\n",
       "    <tr>\n",
       "      <th>4</th>\n",
       "      <td>accommodates</td>\n",
       "      <td>7.357810e+08</td>\n",
       "    </tr>\n",
       "    <tr>\n",
       "      <th>5</th>\n",
       "      <td>bathrooms</td>\n",
       "      <td>1.774936e+08</td>\n",
       "    </tr>\n",
       "    <tr>\n",
       "      <th>6</th>\n",
       "      <td>minimum_nights</td>\n",
       "      <td>1.589113e+08</td>\n",
       "    </tr>\n",
       "    <tr>\n",
       "      <th>8</th>\n",
       "      <td>reviews_per_month</td>\n",
       "      <td>1.404127e+08</td>\n",
       "    </tr>\n",
       "    <tr>\n",
       "      <th>162</th>\n",
       "      <td>Entire home/apt</td>\n",
       "      <td>1.015891e+08</td>\n",
       "    </tr>\n",
       "    <tr>\n",
       "      <th>3</th>\n",
       "      <td>host_listings_count</td>\n",
       "      <td>7.900208e+07</td>\n",
       "    </tr>\n",
       "    <tr>\n",
       "      <th>10</th>\n",
       "      <td>SafeIndex_Score</td>\n",
       "      <td>7.205365e+07</td>\n",
       "    </tr>\n",
       "    <tr>\n",
       "      <th>9</th>\n",
       "      <td>sentiment_compound</td>\n",
       "      <td>4.911563e+07</td>\n",
       "    </tr>\n",
       "    <tr>\n",
       "      <th>1</th>\n",
       "      <td>host_acceptance_rate</td>\n",
       "      <td>4.412952e+07</td>\n",
       "    </tr>\n",
       "    <tr>\n",
       "      <th>7</th>\n",
       "      <td>review_scores_rating</td>\n",
       "      <td>4.124615e+07</td>\n",
       "    </tr>\n",
       "    <tr>\n",
       "      <th>42</th>\n",
       "      <td>air conditioning</td>\n",
       "      <td>3.349132e+07</td>\n",
       "    </tr>\n",
       "    <tr>\n",
       "      <th>28</th>\n",
       "      <td>dishwasher</td>\n",
       "      <td>3.280210e+07</td>\n",
       "    </tr>\n",
       "    <tr>\n",
       "      <th>0</th>\n",
       "      <td>host_response_rate</td>\n",
       "      <td>2.447370e+07</td>\n",
       "    </tr>\n",
       "    <tr>\n",
       "      <th>40</th>\n",
       "      <td>indoor fireplace</td>\n",
       "      <td>2.255129e+07</td>\n",
       "    </tr>\n",
       "    <tr>\n",
       "      <th>121</th>\n",
       "      <td>Entire house</td>\n",
       "      <td>1.956029e+07</td>\n",
       "    </tr>\n",
       "    <tr>\n",
       "      <th>116</th>\n",
       "      <td>Entire condominium</td>\n",
       "      <td>1.948427e+07</td>\n",
       "    </tr>\n",
       "    <tr>\n",
       "      <th>29</th>\n",
       "      <td>cable tv</td>\n",
       "      <td>1.657218e+07</td>\n",
       "    </tr>\n",
       "    <tr>\n",
       "      <th>59</th>\n",
       "      <td>bathroom essentials</td>\n",
       "      <td>1.598499e+07</td>\n",
       "    </tr>\n",
       "    <tr>\n",
       "      <th>165</th>\n",
       "      <td>Shared room</td>\n",
       "      <td>1.523724e+07</td>\n",
       "    </tr>\n",
       "    <tr>\n",
       "      <th>164</th>\n",
       "      <td>Private room (Room Type)</td>\n",
       "      <td>1.445899e+07</td>\n",
       "    </tr>\n",
       "  </tbody>\n",
       "</table>\n",
       "</div>"
      ],
      "text/plain": [
       "                      feature         coefs\n",
       "4                accommodates  7.357810e+08\n",
       "5                   bathrooms  1.774936e+08\n",
       "6              minimum_nights  1.589113e+08\n",
       "8           reviews_per_month  1.404127e+08\n",
       "162           Entire home/apt  1.015891e+08\n",
       "3         host_listings_count  7.900208e+07\n",
       "10            SafeIndex_Score  7.205365e+07\n",
       "9          sentiment_compound  4.911563e+07\n",
       "1        host_acceptance_rate  4.412952e+07\n",
       "7        review_scores_rating  4.124615e+07\n",
       "42           air conditioning  3.349132e+07\n",
       "28                 dishwasher  3.280210e+07\n",
       "0          host_response_rate  2.447370e+07\n",
       "40           indoor fireplace  2.255129e+07\n",
       "121              Entire house  1.956029e+07\n",
       "116        Entire condominium  1.948427e+07\n",
       "29                   cable tv  1.657218e+07\n",
       "59        bathroom essentials  1.598499e+07\n",
       "165               Shared room  1.523724e+07\n",
       "164  Private room (Room Type)  1.445899e+07"
      ]
     },
     "execution_count": 94,
     "metadata": {},
     "output_type": "execute_result"
    }
   ],
   "source": [
    "coefs_df = pd.DataFrame()\n",
    "coefs_df['feature'] = x.columns\n",
    "coefs_df['coefs'] = clf.feature_importances_\n",
    "coefs_df.sort_values('coefs', ascending=False).head(20)"
   ]
  },
  {
   "cell_type": "markdown",
   "metadata": {},
   "source": [
    "# Gradient Boosting"
   ]
  },
  {
   "cell_type": "markdown",
   "metadata": {
    "ExecuteTime": {
     "end_time": "2020-09-25T21:26:48.820835Z",
     "start_time": "2020-09-25T21:26:48.816846Z"
    }
   },
   "source": [
    "## Train/Test w Gradient Boosting"
   ]
  },
  {
   "cell_type": "code",
   "execution_count": 95,
   "metadata": {
    "ExecuteTime": {
     "end_time": "2020-10-29T13:07:18.437410Z",
     "start_time": "2020-10-29T13:07:07.226330Z"
    }
   },
   "outputs": [
    {
     "name": "stdout",
     "output_type": "stream",
     "text": [
      "RMSE test: 68.970\n",
      "R^2 test: 0.629\n"
     ]
    }
   ],
   "source": [
    "from sklearn.ensemble import GradientBoostingRegressor\n",
    "\n",
    "\n",
    "gboost = GradientBoostingRegressor(n_estimators=500, \n",
    "                               criterion='mse', \n",
    "                               random_state=3)\n",
    "gboost.fit(X_train, y_train)\n",
    "y_train_pred = gboost.predict(X_train)\n",
    "y_test_pred = gboost.predict(X_test)\n",
    "rmse_rf= (mean_squared_error(y_test,y_test_pred))**(1/2)\n",
    "\n",
    "print('RMSE test: %.3f' % rmse_rf)\n",
    "print('R^2 test: %.3f' % (r2_score(y_test, y_test_pred)))"
   ]
  },
  {
   "cell_type": "markdown",
   "metadata": {
    "ExecuteTime": {
     "end_time": "2020-09-25T21:26:48.820835Z",
     "start_time": "2020-09-25T21:26:48.816846Z"
    }
   },
   "source": [
    "## Feature Importance of Gradient Boosting"
   ]
  },
  {
   "cell_type": "code",
   "execution_count": 96,
   "metadata": {
    "ExecuteTime": {
     "end_time": "2020-10-29T13:07:18.483290Z",
     "start_time": "2020-10-29T13:07:18.440404Z"
    },
    "scrolled": false
   },
   "outputs": [
    {
     "data": {
      "text/html": [
       "<div>\n",
       "<style scoped>\n",
       "    .dataframe tbody tr th:only-of-type {\n",
       "        vertical-align: middle;\n",
       "    }\n",
       "\n",
       "    .dataframe tbody tr th {\n",
       "        vertical-align: top;\n",
       "    }\n",
       "\n",
       "    .dataframe thead th {\n",
       "        text-align: right;\n",
       "    }\n",
       "</style>\n",
       "<table border=\"1\" class=\"dataframe\">\n",
       "  <thead>\n",
       "    <tr style=\"text-align: right;\">\n",
       "      <th></th>\n",
       "      <th>feature</th>\n",
       "      <th>coefs</th>\n",
       "    </tr>\n",
       "  </thead>\n",
       "  <tbody>\n",
       "    <tr>\n",
       "      <th>4</th>\n",
       "      <td>accommodates</td>\n",
       "      <td>0.354299</td>\n",
       "    </tr>\n",
       "    <tr>\n",
       "      <th>6</th>\n",
       "      <td>minimum_nights</td>\n",
       "      <td>0.096449</td>\n",
       "    </tr>\n",
       "    <tr>\n",
       "      <th>5</th>\n",
       "      <td>bathrooms</td>\n",
       "      <td>0.081049</td>\n",
       "    </tr>\n",
       "    <tr>\n",
       "      <th>8</th>\n",
       "      <td>reviews_per_month</td>\n",
       "      <td>0.053791</td>\n",
       "    </tr>\n",
       "    <tr>\n",
       "      <th>162</th>\n",
       "      <td>Entire home/apt</td>\n",
       "      <td>0.053333</td>\n",
       "    </tr>\n",
       "    <tr>\n",
       "      <th>3</th>\n",
       "      <td>host_listings_count</td>\n",
       "      <td>0.033459</td>\n",
       "    </tr>\n",
       "    <tr>\n",
       "      <th>9</th>\n",
       "      <td>sentiment_compound</td>\n",
       "      <td>0.026378</td>\n",
       "    </tr>\n",
       "    <tr>\n",
       "      <th>10</th>\n",
       "      <td>SafeIndex_Score</td>\n",
       "      <td>0.025097</td>\n",
       "    </tr>\n",
       "    <tr>\n",
       "      <th>7</th>\n",
       "      <td>review_scores_rating</td>\n",
       "      <td>0.019027</td>\n",
       "    </tr>\n",
       "    <tr>\n",
       "      <th>1</th>\n",
       "      <td>host_acceptance_rate</td>\n",
       "      <td>0.017554</td>\n",
       "    </tr>\n",
       "    <tr>\n",
       "      <th>116</th>\n",
       "      <td>Entire condominium</td>\n",
       "      <td>0.014764</td>\n",
       "    </tr>\n",
       "    <tr>\n",
       "      <th>40</th>\n",
       "      <td>indoor fireplace</td>\n",
       "      <td>0.014066</td>\n",
       "    </tr>\n",
       "    <tr>\n",
       "      <th>28</th>\n",
       "      <td>dishwasher</td>\n",
       "      <td>0.013565</td>\n",
       "    </tr>\n",
       "    <tr>\n",
       "      <th>0</th>\n",
       "      <td>host_response_rate</td>\n",
       "      <td>0.013457</td>\n",
       "    </tr>\n",
       "    <tr>\n",
       "      <th>121</th>\n",
       "      <td>Entire house</td>\n",
       "      <td>0.012099</td>\n",
       "    </tr>\n",
       "    <tr>\n",
       "      <th>42</th>\n",
       "      <td>air conditioning</td>\n",
       "      <td>0.011221</td>\n",
       "    </tr>\n",
       "    <tr>\n",
       "      <th>59</th>\n",
       "      <td>bathroom essentials</td>\n",
       "      <td>0.007653</td>\n",
       "    </tr>\n",
       "    <tr>\n",
       "      <th>29</th>\n",
       "      <td>cable tv</td>\n",
       "      <td>0.007464</td>\n",
       "    </tr>\n",
       "    <tr>\n",
       "      <th>86</th>\n",
       "      <td>Financial District</td>\n",
       "      <td>0.005809</td>\n",
       "    </tr>\n",
       "    <tr>\n",
       "      <th>165</th>\n",
       "      <td>Shared room</td>\n",
       "      <td>0.005807</td>\n",
       "    </tr>\n",
       "  </tbody>\n",
       "</table>\n",
       "</div>"
      ],
      "text/plain": [
       "                  feature     coefs\n",
       "4            accommodates  0.354299\n",
       "6          minimum_nights  0.096449\n",
       "5               bathrooms  0.081049\n",
       "8       reviews_per_month  0.053791\n",
       "162       Entire home/apt  0.053333\n",
       "3     host_listings_count  0.033459\n",
       "9      sentiment_compound  0.026378\n",
       "10        SafeIndex_Score  0.025097\n",
       "7    review_scores_rating  0.019027\n",
       "1    host_acceptance_rate  0.017554\n",
       "116    Entire condominium  0.014764\n",
       "40       indoor fireplace  0.014066\n",
       "28             dishwasher  0.013565\n",
       "0      host_response_rate  0.013457\n",
       "121          Entire house  0.012099\n",
       "42       air conditioning  0.011221\n",
       "59    bathroom essentials  0.007653\n",
       "29               cable tv  0.007464\n",
       "86     Financial District  0.005809\n",
       "165           Shared room  0.005807"
      ]
     },
     "execution_count": 96,
     "metadata": {},
     "output_type": "execute_result"
    }
   ],
   "source": [
    "coefs_df = pd.DataFrame()\n",
    "coefs_df['feature'] = X_train.columns\n",
    "coefs_df['coefs'] = gboost.feature_importances_\n",
    "coefs_df.sort_values('coefs', ascending=False).head(20)"
   ]
  },
  {
   "cell_type": "code",
   "execution_count": 97,
   "metadata": {
    "ExecuteTime": {
     "end_time": "2020-10-29T13:07:19.064733Z",
     "start_time": "2020-10-29T13:07:18.486280Z"
    },
    "scrolled": true
   },
   "outputs": [
    {
     "data": {
      "text/plain": [
       "<matplotlib.axes._subplots.AxesSubplot at 0x21f3a456730>"
      ]
     },
     "execution_count": 97,
     "metadata": {},
     "output_type": "execute_result"
    },
    {
     "data": {
      "image/png": "[encoded data removed]",
      "text/plain": [
       "<Figure size 720x432 with 1 Axes>"
      ]
     },
     "metadata": {
      "needs_background": "light"
     },
     "output_type": "display_data"
    }
   ],
   "source": [
    "feat_imp = pd.Series(gboost.feature_importances_, index=X_train.columns)\n",
    "feat_imp.nlargest(20).plot(kind='barh', figsize=(10,6))"
   ]
  },
  {
   "cell_type": "markdown",
   "metadata": {},
   "source": [
    "# XGBoost and its Feature Importance"
   ]
  },
  {
   "cell_type": "code",
   "execution_count": 98,
   "metadata": {
    "ExecuteTime": {
     "end_time": "2020-10-29T13:07:24.893152Z",
     "start_time": "2020-10-29T13:07:19.066728Z"
    },
    "scrolled": true
   },
   "outputs": [
    {
     "name": "stdout",
     "output_type": "stream",
     "text": [
      "\n",
      "Training MSE: 557.8033\n",
      "Validation MSE: 4948.0697\n",
      "Validation RMSE: 70.3425\n",
      "\n",
      "Training r2: 0.9566\n",
      "Validation r2: 0.6142\n"
     ]
    },
    {
     "data": {
      "image/png": "[encoded data removed]",
      "text/plain": [
       "<Figure size 576x1440 with 1 Axes>"
      ]
     },
     "metadata": {
      "needs_background": "light"
     },
     "output_type": "display_data"
    }
   ],
   "source": [
    "import xgboost as xgb\n",
    "\n",
    "# Fitting the model\n",
    "xgb_reg = xgb.XGBRegressor()\n",
    "xgb_reg.fit(X_train, y_train)\n",
    "training_preds_xgb_reg = xgb_reg.predict(X_train)\n",
    "val_preds_xgb_reg = xgb_reg.predict(X_test)\n",
    "\n",
    "# Printing the results\n",
    "\n",
    "print(\"\\nTraining MSE:\", round(mean_squared_error(y_train, training_preds_xgb_reg),4))\n",
    "print(\"Validation MSE:\", round(mean_squared_error(y_test, val_preds_xgb_reg),4))\n",
    "print(\"Validation RMSE:\", round(mean_squared_error(y_test, val_preds_xgb_reg)**0.5,4))\n",
    "print(\"\\nTraining r2:\", round(r2_score(y_train, training_preds_xgb_reg),4))\n",
    "print(\"Validation r2:\", round(r2_score(y_test, val_preds_xgb_reg),4))\n",
    "\n",
    "# Producing a dataframe of feature importances\n",
    "ft_weights_xgb_reg = pd.DataFrame(xgb_reg.feature_importances_, columns=['weight'], index=X_train.columns)\n",
    "ft_weights_xgb_reg.sort_values('weight', inplace=True)\n",
    "\n",
    "# Plotting feature importances\n",
    "plt.figure(figsize=(8,20))\n",
    "plt.barh(ft_weights_xgb_reg.index, ft_weights_xgb_reg.weight, align='center') \n",
    "plt.title(\"Feature importances in the XGBoost model\", fontsize=14)\n",
    "plt.xlabel(\"Feature importance\")\n",
    "plt.margins(y=0.01)\n",
    "plt.show()"
   ]
  },
  {
   "cell_type": "markdown",
   "metadata": {},
   "source": [
    "# Neural Network Model"
   ]
  },
  {
   "cell_type": "code",
   "execution_count": 99,
   "metadata": {
    "ExecuteTime": {
     "end_time": "2020-10-29T13:07:46.866584Z",
     "start_time": "2020-10-29T13:07:24.897140Z"
    }
   },
   "outputs": [
    {
     "name": "stdout",
     "output_type": "stream",
     "text": [
      "Model: \"sequential_1\"\n",
      "_________________________________________________________________\n",
      "Layer (type)                 Output Shape              Param #   \n",
      "=================================================================\n",
      "dense_5 (Dense)              (None, 128)               21376     \n",
      "_________________________________________________________________\n",
      "dense_6 (Dense)              (None, 256)               33024     \n",
      "_________________________________________________________________\n",
      "dense_7 (Dense)              (None, 256)               65792     \n",
      "_________________________________________________________________\n",
      "dense_8 (Dense)              (None, 512)               131584    \n",
      "_________________________________________________________________\n",
      "dense_9 (Dense)              (None, 1)                 513       \n",
      "=================================================================\n",
      "Total params: 252,289\n",
      "Trainable params: 252,289\n",
      "Non-trainable params: 0\n",
      "_________________________________________________________________\n",
      "None\n",
      "Epoch 1/100\n",
      "14/14 [==============================] - 1s 39ms/step - loss: 23441.1328 - mean_squared_error: 23441.1328 - val_loss: 14155.0928 - val_mean_squared_error: 14155.0928\n",
      "Epoch 2/100\n",
      "14/14 [==============================] - 0s 12ms/step - loss: 13534.8828 - mean_squared_error: 13534.8828 - val_loss: 11990.2568 - val_mean_squared_error: 11990.2568\n",
      "Epoch 3/100\n",
      "14/14 [==============================] - 0s 13ms/step - loss: 12102.7178 - mean_squared_error: 12102.7178 - val_loss: 11218.6426 - val_mean_squared_error: 11218.6426\n",
      "Epoch 4/100\n",
      "14/14 [==============================] - 0s 15ms/step - loss: 11507.8027 - mean_squared_error: 11507.8027 - val_loss: 10570.8506 - val_mean_squared_error: 10570.8506\n",
      "Epoch 5/100\n",
      "14/14 [==============================] - 0s 15ms/step - loss: 10746.9697 - mean_squared_error: 10746.9697 - val_loss: 9813.8066 - val_mean_squared_error: 9813.8066\n",
      "Epoch 6/100\n",
      "14/14 [==============================] - 0s 16ms/step - loss: 9652.7334 - mean_squared_error: 9652.7334 - val_loss: 8232.0557 - val_mean_squared_error: 8232.0557\n",
      "Epoch 7/100\n",
      "14/14 [==============================] - 0s 15ms/step - loss: 8297.7373 - mean_squared_error: 8297.7373 - val_loss: 6285.8135 - val_mean_squared_error: 6285.8135\n",
      "Epoch 8/100\n",
      "14/14 [==============================] - 0s 22ms/step - loss: 6760.3291 - mean_squared_error: 6760.3291 - val_loss: 5491.8735 - val_mean_squared_error: 5491.8735\n",
      "Epoch 9/100\n",
      "14/14 [==============================] - 0s 16ms/step - loss: 6284.9985 - mean_squared_error: 6284.9985 - val_loss: 5316.0171 - val_mean_squared_error: 5316.0171\n",
      "Epoch 10/100\n",
      "14/14 [==============================] - 0s 16ms/step - loss: 5868.2129 - mean_squared_error: 5868.2129 - val_loss: 5386.3418 - val_mean_squared_error: 5386.3418\n",
      "Epoch 11/100\n",
      "14/14 [==============================] - 0s 13ms/step - loss: 5637.8716 - mean_squared_error: 5637.8716 - val_loss: 5228.5986 - val_mean_squared_error: 5228.5986\n",
      "Epoch 12/100\n",
      "14/14 [==============================] - 0s 15ms/step - loss: 5622.1123 - mean_squared_error: 5622.1123 - val_loss: 4999.5884 - val_mean_squared_error: 4999.5884\n",
      "Epoch 13/100\n",
      "14/14 [==============================] - 0s 14ms/step - loss: 5416.7632 - mean_squared_error: 5416.7632 - val_loss: 5051.0122 - val_mean_squared_error: 5051.0122\n",
      "Epoch 14/100\n",
      "14/14 [==============================] - 0s 17ms/step - loss: 5265.2710 - mean_squared_error: 5265.2710 - val_loss: 4996.0117 - val_mean_squared_error: 4996.0112\n",
      "Epoch 15/100\n",
      "14/14 [==============================] - 0s 15ms/step - loss: 5314.3994 - mean_squared_error: 5314.3994 - val_loss: 4959.0068 - val_mean_squared_error: 4959.0068\n",
      "Epoch 16/100\n",
      "14/14 [==============================] - 0s 16ms/step - loss: 5194.6523 - mean_squared_error: 5194.6523 - val_loss: 5085.3462 - val_mean_squared_error: 5085.3462\n",
      "Epoch 17/100\n",
      "14/14 [==============================] - 0s 13ms/step - loss: 5141.7817 - mean_squared_error: 5141.7817 - val_loss: 5003.0757 - val_mean_squared_error: 5003.0757\n",
      "Epoch 18/100\n",
      "14/14 [==============================] - 0s 11ms/step - loss: 5119.4722 - mean_squared_error: 5119.4722 - val_loss: 4915.3208 - val_mean_squared_error: 4915.3208\n",
      "Epoch 19/100\n",
      "14/14 [==============================] - 0s 11ms/step - loss: 5034.7134 - mean_squared_error: 5034.7134 - val_loss: 4991.3623 - val_mean_squared_error: 4991.3623\n",
      "Epoch 20/100\n",
      "14/14 [==============================] - 0s 17ms/step - loss: 4981.9189 - mean_squared_error: 4981.9189 - val_loss: 5098.3105 - val_mean_squared_error: 5098.3105\n",
      "Epoch 21/100\n",
      "14/14 [==============================] - 0s 15ms/step - loss: 4982.6733 - mean_squared_error: 4982.6733 - val_loss: 5073.5122 - val_mean_squared_error: 5073.5122\n",
      "Epoch 22/100\n",
      "14/14 [==============================] - 0s 13ms/step - loss: 4745.5420 - mean_squared_error: 4745.5420 - val_loss: 5030.4668 - val_mean_squared_error: 5030.4668\n",
      "Epoch 23/100\n",
      "14/14 [==============================] - 0s 11ms/step - loss: 4703.0366 - mean_squared_error: 4703.0366 - val_loss: 4723.8188 - val_mean_squared_error: 4723.8188\n",
      "Epoch 24/100\n",
      "14/14 [==============================] - 0s 10ms/step - loss: 4724.6675 - mean_squared_error: 4724.6675 - val_loss: 4980.8125 - val_mean_squared_error: 4980.8125\n",
      "Epoch 25/100\n",
      "14/14 [==============================] - 0s 10ms/step - loss: 4801.0229 - mean_squared_error: 4801.0229 - val_loss: 5202.4878 - val_mean_squared_error: 5202.4878\n",
      "Epoch 26/100\n",
      "14/14 [==============================] - 0s 10ms/step - loss: 4638.8169 - mean_squared_error: 4638.8169 - val_loss: 5303.0181 - val_mean_squared_error: 5303.0181\n",
      "Epoch 27/100\n",
      "14/14 [==============================] - 0s 11ms/step - loss: 4607.8428 - mean_squared_error: 4607.8428 - val_loss: 4808.8257 - val_mean_squared_error: 4808.8257\n",
      "Epoch 28/100\n",
      "14/14 [==============================] - 0s 9ms/step - loss: 4551.9121 - mean_squared_error: 4551.9121 - val_loss: 4686.3721 - val_mean_squared_error: 4686.3721\n",
      "Epoch 29/100\n",
      "14/14 [==============================] - 0s 10ms/step - loss: 4643.6787 - mean_squared_error: 4643.6787 - val_loss: 4856.3115 - val_mean_squared_error: 4856.3115\n",
      "Epoch 30/100\n",
      "14/14 [==============================] - 0s 10ms/step - loss: 4608.8877 - mean_squared_error: 4608.8877 - val_loss: 4667.7573 - val_mean_squared_error: 4667.7573\n",
      "Epoch 31/100\n",
      "14/14 [==============================] - 0s 10ms/step - loss: 4295.1030 - mean_squared_error: 4295.1030 - val_loss: 4621.6743 - val_mean_squared_error: 4621.6743\n",
      "Epoch 32/100\n",
      "14/14 [==============================] - 0s 10ms/step - loss: 4264.7969 - mean_squared_error: 4264.7969 - val_loss: 4890.0938 - val_mean_squared_error: 4890.0938\n",
      "Epoch 33/100\n",
      "14/14 [==============================] - 0s 11ms/step - loss: 4264.2056 - mean_squared_error: 4264.2056 - val_loss: 5511.5767 - val_mean_squared_error: 5511.5767\n",
      "Epoch 34/100\n",
      "14/14 [==============================] - 0s 10ms/step - loss: 4376.6167 - mean_squared_error: 4376.6167 - val_loss: 5135.9561 - val_mean_squared_error: 5135.9561\n",
      "Epoch 35/100\n",
      "14/14 [==============================] - 0s 10ms/step - loss: 4276.3516 - mean_squared_error: 4276.3516 - val_loss: 4790.8779 - val_mean_squared_error: 4790.8779\n",
      "Epoch 36/100\n",
      "14/14 [==============================] - 0s 10ms/step - loss: 4157.8540 - mean_squared_error: 4157.8540 - val_loss: 4642.9590 - val_mean_squared_error: 4642.9590\n",
      "Epoch 37/100\n",
      "14/14 [==============================] - 0s 13ms/step - loss: 4165.9883 - mean_squared_error: 4165.9883 - val_loss: 4620.8418 - val_mean_squared_error: 4620.8418\n",
      "Epoch 38/100\n",
      "14/14 [==============================] - 0s 11ms/step - loss: 4100.9448 - mean_squared_error: 4100.9448 - val_loss: 4664.3486 - val_mean_squared_error: 4664.3486\n",
      "Epoch 39/100\n",
      "14/14 [==============================] - 0s 10ms/step - loss: 4108.7637 - mean_squared_error: 4108.7637 - val_loss: 4604.3608 - val_mean_squared_error: 4604.3608\n",
      "Epoch 40/100\n",
      "14/14 [==============================] - 0s 11ms/step - loss: 4057.1226 - mean_squared_error: 4057.1226 - val_loss: 4928.9512 - val_mean_squared_error: 4928.9517\n",
      "Epoch 41/100\n",
      "14/14 [==============================] - 0s 11ms/step - loss: 4063.0479 - mean_squared_error: 4063.0479 - val_loss: 4674.5718 - val_mean_squared_error: 4674.5718\n"
     ]
    },
    {
     "name": "stdout",
     "output_type": "stream",
     "text": [
      "Epoch 42/100\n",
      "14/14 [==============================] - 0s 9ms/step - loss: 4145.5620 - mean_squared_error: 4145.5620 - val_loss: 4795.2451 - val_mean_squared_error: 4795.2451\n",
      "Epoch 43/100\n",
      "14/14 [==============================] - 0s 19ms/step - loss: 3993.2852 - mean_squared_error: 3993.2852 - val_loss: 4632.6035 - val_mean_squared_error: 4632.6035\n",
      "Epoch 44/100\n",
      "14/14 [==============================] - 0s 18ms/step - loss: 4060.0762 - mean_squared_error: 4060.0762 - val_loss: 4707.1616 - val_mean_squared_error: 4707.1616\n",
      "Epoch 45/100\n",
      "14/14 [==============================] - 0s 15ms/step - loss: 3965.7180 - mean_squared_error: 3965.7180 - val_loss: 4733.2437 - val_mean_squared_error: 4733.2437\n",
      "Epoch 46/100\n",
      "14/14 [==============================] - 0s 12ms/step - loss: 3886.2822 - mean_squared_error: 3886.2822 - val_loss: 4853.2876 - val_mean_squared_error: 4853.2876\n",
      "Epoch 47/100\n",
      "14/14 [==============================] - 0s 10ms/step - loss: 4341.1094 - mean_squared_error: 4341.1094 - val_loss: 5523.6460 - val_mean_squared_error: 5523.6460\n",
      "Epoch 48/100\n",
      "14/14 [==============================] - 0s 10ms/step - loss: 4197.5151 - mean_squared_error: 4197.5151 - val_loss: 5058.9717 - val_mean_squared_error: 5058.9717\n",
      "Epoch 49/100\n",
      "14/14 [==============================] - 0s 10ms/step - loss: 4040.2427 - mean_squared_error: 4040.2427 - val_loss: 4659.1123 - val_mean_squared_error: 4659.1123\n",
      "Epoch 50/100\n",
      "14/14 [==============================] - 0s 10ms/step - loss: 3859.6013 - mean_squared_error: 3859.6013 - val_loss: 4600.5645 - val_mean_squared_error: 4600.5645\n",
      "Epoch 51/100\n",
      "14/14 [==============================] - 0s 10ms/step - loss: 3761.7581 - mean_squared_error: 3761.7581 - val_loss: 4782.4985 - val_mean_squared_error: 4782.4985\n",
      "Epoch 52/100\n",
      "14/14 [==============================] - 0s 11ms/step - loss: 3766.2512 - mean_squared_error: 3766.2512 - val_loss: 4847.7588 - val_mean_squared_error: 4847.7588\n",
      "Epoch 53/100\n",
      "14/14 [==============================] - 0s 11ms/step - loss: 3738.6653 - mean_squared_error: 3738.6653 - val_loss: 4702.6860 - val_mean_squared_error: 4702.6860\n",
      "Epoch 54/100\n",
      "14/14 [==============================] - 0s 12ms/step - loss: 3691.6267 - mean_squared_error: 3691.6267 - val_loss: 4676.1406 - val_mean_squared_error: 4676.1406\n",
      "Epoch 55/100\n",
      "14/14 [==============================] - 0s 12ms/step - loss: 3696.8489 - mean_squared_error: 3696.8489 - val_loss: 4749.7817 - val_mean_squared_error: 4749.7817\n",
      "Epoch 56/100\n",
      "14/14 [==============================] - 0s 11ms/step - loss: 3988.5146 - mean_squared_error: 3988.5146 - val_loss: 7159.6865 - val_mean_squared_error: 7159.6865\n",
      "Epoch 57/100\n",
      "14/14 [==============================] - 0s 11ms/step - loss: 4502.6362 - mean_squared_error: 4502.6362 - val_loss: 5815.2417 - val_mean_squared_error: 5815.2417\n",
      "Epoch 58/100\n",
      "14/14 [==============================] - 0s 12ms/step - loss: 3967.6335 - mean_squared_error: 3967.6335 - val_loss: 4781.1299 - val_mean_squared_error: 4781.1299\n",
      "Epoch 59/100\n",
      "14/14 [==============================] - 0s 13ms/step - loss: 3755.2542 - mean_squared_error: 3755.2542 - val_loss: 4799.9819 - val_mean_squared_error: 4799.9819\n",
      "Epoch 60/100\n",
      "14/14 [==============================] - 0s 10ms/step - loss: 3914.3779 - mean_squared_error: 3914.3779 - val_loss: 4694.7759 - val_mean_squared_error: 4694.7759\n",
      "Epoch 61/100\n",
      "14/14 [==============================] - 0s 9ms/step - loss: 3708.5071 - mean_squared_error: 3708.5071 - val_loss: 4712.9932 - val_mean_squared_error: 4712.9932\n",
      "Epoch 62/100\n",
      "14/14 [==============================] - 0s 10ms/step - loss: 3606.8181 - mean_squared_error: 3606.8181 - val_loss: 4786.8101 - val_mean_squared_error: 4786.8101\n",
      "Epoch 63/100\n",
      "14/14 [==============================] - 0s 9ms/step - loss: 3644.3115 - mean_squared_error: 3644.3115 - val_loss: 4766.4287 - val_mean_squared_error: 4766.4287\n",
      "Epoch 64/100\n",
      "14/14 [==============================] - 0s 9ms/step - loss: 3566.3455 - mean_squared_error: 3566.3455 - val_loss: 4883.4590 - val_mean_squared_error: 4883.4590\n",
      "Epoch 65/100\n",
      "14/14 [==============================] - 0s 11ms/step - loss: 3510.9014 - mean_squared_error: 3510.9014 - val_loss: 4701.2212 - val_mean_squared_error: 4701.2212\n",
      "Epoch 66/100\n",
      "14/14 [==============================] - 0s 10ms/step - loss: 3489.0142 - mean_squared_error: 3489.0142 - val_loss: 4779.4395 - val_mean_squared_error: 4779.4395\n",
      "Epoch 67/100\n",
      "14/14 [==============================] - 0s 11ms/step - loss: 3596.9543 - mean_squared_error: 3596.9543 - val_loss: 4945.8345 - val_mean_squared_error: 4945.8345\n",
      "Epoch 68/100\n",
      "14/14 [==============================] - 0s 11ms/step - loss: 3468.3708 - mean_squared_error: 3468.3708 - val_loss: 4762.2783 - val_mean_squared_error: 4762.2783\n",
      "Epoch 69/100\n",
      "14/14 [==============================] - 0s 11ms/step - loss: 3480.9412 - mean_squared_error: 3480.9412 - val_loss: 4842.9888 - val_mean_squared_error: 4842.9888\n",
      "Epoch 70/100\n",
      "14/14 [==============================] - 0s 14ms/step - loss: 3640.6753 - mean_squared_error: 3640.6753 - val_loss: 5266.4785 - val_mean_squared_error: 5266.4785\n",
      "Epoch 71/100\n",
      "14/14 [==============================] - 0s 12ms/step - loss: 3653.2944 - mean_squared_error: 3653.2944 - val_loss: 4817.3564 - val_mean_squared_error: 4817.3564\n",
      "Epoch 72/100\n",
      "14/14 [==============================] - 0s 12ms/step - loss: 3437.8340 - mean_squared_error: 3437.8340 - val_loss: 4741.2314 - val_mean_squared_error: 4741.2314\n",
      "Epoch 73/100\n",
      "14/14 [==============================] - 0s 12ms/step - loss: 3463.7017 - mean_squared_error: 3463.7017 - val_loss: 4820.6855 - val_mean_squared_error: 4820.6855\n",
      "Epoch 74/100\n",
      "14/14 [==============================] - 0s 10ms/step - loss: 3380.9053 - mean_squared_error: 3380.9053 - val_loss: 4771.7461 - val_mean_squared_error: 4771.7461\n",
      "Epoch 75/100\n",
      "14/14 [==============================] - 0s 10ms/step - loss: 3401.0703 - mean_squared_error: 3401.0703 - val_loss: 5026.0366 - val_mean_squared_error: 5026.0366\n",
      "Epoch 76/100\n",
      "14/14 [==============================] - 0s 9ms/step - loss: 3548.3271 - mean_squared_error: 3548.3271 - val_loss: 5170.6816 - val_mean_squared_error: 5170.6816\n",
      "Epoch 77/100\n",
      "14/14 [==============================] - 0s 10ms/step - loss: 3353.5452 - mean_squared_error: 3353.5452 - val_loss: 4946.0649 - val_mean_squared_error: 4946.0649\n",
      "Epoch 78/100\n",
      "14/14 [==============================] - 0s 13ms/step - loss: 3417.0879 - mean_squared_error: 3417.0879 - val_loss: 4938.4116 - val_mean_squared_error: 4938.4116\n",
      "Epoch 79/100\n",
      "14/14 [==============================] - 0s 14ms/step - loss: 3437.7791 - mean_squared_error: 3437.7791 - val_loss: 4894.5986 - val_mean_squared_error: 4894.5986\n",
      "Epoch 80/100\n",
      "14/14 [==============================] - 0s 15ms/step - loss: 3299.1401 - mean_squared_error: 3299.1401 - val_loss: 4987.3369 - val_mean_squared_error: 4987.3369\n",
      "Epoch 81/100\n",
      "14/14 [==============================] - 0s 15ms/step - loss: 3259.0498 - mean_squared_error: 3259.0498 - val_loss: 4888.3911 - val_mean_squared_error: 4888.3911\n",
      "Epoch 82/100\n",
      "14/14 [==============================] - 0s 14ms/step - loss: 3293.1807 - mean_squared_error: 3293.1807 - val_loss: 4933.6348 - val_mean_squared_error: 4933.6348\n",
      "Epoch 83/100\n",
      "14/14 [==============================] - 0s 12ms/step - loss: 3342.1279 - mean_squared_error: 3342.1279 - val_loss: 4846.0264 - val_mean_squared_error: 4846.0264\n",
      "Epoch 84/100\n",
      "14/14 [==============================] - 0s 13ms/step - loss: 3245.3748 - mean_squared_error: 3245.3748 - val_loss: 5047.9961 - val_mean_squared_error: 5047.9961\n",
      "Epoch 85/100\n",
      "14/14 [==============================] - ETA: 0s - loss: 3224.9373 - mean_squared_error: 3224.93 - 0s 16ms/step - loss: 3238.1501 - mean_squared_error: 3238.1501 - val_loss: 4836.7310 - val_mean_squared_error: 4836.7310\n",
      "Epoch 86/100\n",
      "14/14 [==============================] - 0s 15ms/step - loss: 3151.8628 - mean_squared_error: 3151.8628 - val_loss: 5300.7876 - val_mean_squared_error: 5300.7876\n",
      "Epoch 87/100\n",
      "14/14 [==============================] - 0s 14ms/step - loss: 3152.8569 - mean_squared_error: 3152.8569 - val_loss: 4851.1895 - val_mean_squared_error: 4851.1895\n",
      "Epoch 88/100\n"
     ]
    },
    {
     "name": "stdout",
     "output_type": "stream",
     "text": [
      "14/14 [==============================] - 0s 14ms/step - loss: 3057.2341 - mean_squared_error: 3057.2341 - val_loss: 4969.3418 - val_mean_squared_error: 4969.3418\n",
      "Epoch 89/100\n",
      "14/14 [==============================] - 0s 18ms/step - loss: 3271.5625 - mean_squared_error: 3271.5625 - val_loss: 5439.0791 - val_mean_squared_error: 5439.0791\n",
      "Epoch 90/100\n",
      "14/14 [==============================] - 0s 15ms/step - loss: 3263.0815 - mean_squared_error: 3263.0815 - val_loss: 4873.0127 - val_mean_squared_error: 4873.0127\n",
      "Epoch 91/100\n",
      "14/14 [==============================] - 0s 16ms/step - loss: 3082.1819 - mean_squared_error: 3082.1819 - val_loss: 5108.4624 - val_mean_squared_error: 5108.4624\n",
      "Epoch 92/100\n",
      "14/14 [==============================] - 0s 15ms/step - loss: 3014.2168 - mean_squared_error: 3014.2168 - val_loss: 5231.1812 - val_mean_squared_error: 5231.1807\n",
      "Epoch 93/100\n",
      "14/14 [==============================] - 0s 15ms/step - loss: 3006.2766 - mean_squared_error: 3006.2766 - val_loss: 5022.9712 - val_mean_squared_error: 5022.9712\n",
      "Epoch 94/100\n",
      "14/14 [==============================] - 0s 11ms/step - loss: 2993.3816 - mean_squared_error: 2993.3816 - val_loss: 4955.0386 - val_mean_squared_error: 4955.0386\n",
      "Epoch 95/100\n",
      "14/14 [==============================] - 0s 10ms/step - loss: 2960.7234 - mean_squared_error: 2960.7234 - val_loss: 5107.4062 - val_mean_squared_error: 5107.4062\n",
      "Epoch 96/100\n",
      "14/14 [==============================] - 0s 14ms/step - loss: 3091.5139 - mean_squared_error: 3091.5139 - val_loss: 5219.3223 - val_mean_squared_error: 5219.3223\n",
      "Epoch 97/100\n",
      "14/14 [==============================] - 0s 15ms/step - loss: 2968.5771 - mean_squared_error: 2968.5771 - val_loss: 5021.5986 - val_mean_squared_error: 5021.5986\n",
      "Epoch 98/100\n",
      "14/14 [==============================] - 0s 15ms/step - loss: 2889.8301 - mean_squared_error: 2889.8301 - val_loss: 5103.4082 - val_mean_squared_error: 5103.4082\n",
      "Epoch 99/100\n",
      "14/14 [==============================] - 0s 12ms/step - loss: 2828.8728 - mean_squared_error: 2828.8728 - val_loss: 5038.0703 - val_mean_squared_error: 5038.0703\n",
      "Epoch 100/100\n",
      "14/14 [==============================] - 0s 13ms/step - loss: 2983.7385 - mean_squared_error: 2983.7385 - val_loss: 5648.1260 - val_mean_squared_error: 5648.1260\n"
     ]
    }
   ],
   "source": [
    "from keras import models, layers, optimizers, regularizers\n",
    "from keras.utils.vis_utils import model_to_dot\n",
    "from IPython.display import SVG\n",
    "\n",
    "# Building the model\n",
    "nn2 = models.Sequential()\n",
    "nn2.add(layers.Dense(128, input_shape=(X_train.shape[1],), activation='relu'))\n",
    "nn2.add(layers.Dense(256, activation='relu'))\n",
    "nn2.add(layers.Dense(256, activation='relu'))\n",
    "nn2.add(layers.Dense(512, activation='relu'))\n",
    "nn2.add(layers.Dense(1, activation='linear'))\n",
    "\n",
    "# Compiling the model\n",
    "nn2.compile(loss='mean_squared_error',\n",
    "            optimizer='adam',\n",
    "            metrics=['mean_squared_error'])\n",
    "\n",
    "# Printing the model summary\n",
    "print(nn2.summary())\n",
    "\n",
    "# Training the model\n",
    "nn2_history = nn2.fit(X_train,\n",
    "                  y_train,\n",
    "                  epochs=100,\n",
    "                  batch_size=256,\n",
    "                  validation_split = 0.1)"
   ]
  },
  {
   "cell_type": "code",
   "execution_count": 100,
   "metadata": {
    "ExecuteTime": {
     "end_time": "2020-10-29T13:07:47.742243Z",
     "start_time": "2020-10-29T13:07:46.869576Z"
    }
   },
   "outputs": [
    {
     "name": "stdout",
     "output_type": "stream",
     "text": [
      "Training MSE: 3350.3215\n",
      "Validation MSE: 5606.7513\n",
      "Validation RMSE: 74.8782\n",
      "\n",
      "Training r2: 0.7392\n",
      "Validation r2: 0.5628\n"
     ]
    }
   ],
   "source": [
    "y_test_pred = nn2.predict(X_test)\n",
    "y_train_pred = nn2.predict(X_train)\n",
    "print(\"Training MSE:\", round(mean_squared_error(y_train, y_train_pred),4))\n",
    "print(\"Validation MSE:\", round(mean_squared_error(y_test, y_test_pred),4))\n",
    "print(\"Validation RMSE:\", round(mean_squared_error(y_test, y_test_pred)**0.5,4))\n",
    "print(\"\\nTraining r2:\", round(r2_score(y_train, y_train_pred),4))\n",
    "print(\"Validation r2:\", round(r2_score(y_test, y_test_pred),4))"
   ]
  },
  {
   "cell_type": "markdown",
   "metadata": {},
   "source": [
    "# LassoCV Model"
   ]
  },
  {
   "cell_type": "code",
   "execution_count": 102,
   "metadata": {
    "ExecuteTime": {
     "end_time": "2020-10-29T13:08:14.447844Z",
     "start_time": "2020-10-29T13:08:11.187561Z"
    }
   },
   "outputs": [
    {
     "data": {
      "text/plain": [
       "LassoCV(alphas=array([1.00000000e-02, 1.04737090e-02, 1.09698580e-02, 1.14895100e-02,\n",
       "       1.20337784e-02, 1.26038293e-02, 1.32008840e-02, 1.38262217e-02,\n",
       "       1.44811823e-02, 1.51671689e-02, 1.58856513e-02, 1.66381689e-02,\n",
       "       1.74263339e-02, 1.82518349e-02, 1.91164408e-02, 2.00220037e-02,\n",
       "       2.09704640e-02, 2.19638537e-02, 2.30043012e-02, 2.40940356e-02,\n",
       "       2.52353917e-02, 2.64308149e-0...\n",
       "       3.44896226e+01, 3.61234270e+01, 3.78346262e+01, 3.96268864e+01,\n",
       "       4.15040476e+01, 4.34701316e+01, 4.55293507e+01, 4.76861170e+01,\n",
       "       4.99450512e+01, 5.23109931e+01, 5.47890118e+01, 5.73844165e+01,\n",
       "       6.01027678e+01, 6.29498899e+01, 6.59318827e+01, 6.90551352e+01,\n",
       "       7.23263390e+01, 7.57525026e+01, 7.93409667e+01, 8.30994195e+01,\n",
       "       8.70359136e+01, 9.11588830e+01, 9.54771611e+01, 1.00000000e+02]),\n",
       "        cv=5)"
      ]
     },
     "execution_count": 102,
     "metadata": {},
     "output_type": "execute_result"
    }
   ],
   "source": [
    "from sklearn.linear_model import Lasso, LassoCV\n",
    "\n",
    "# Run the cross validation, find the best alpha, refit the model on all the data with that alpha\n",
    "alphavec = 10**np.linspace(-2,2,200)\n",
    "lasso_model = LassoCV(alphas = alphavec, cv=5)\n",
    "lasso_model.fit(X_train, y_train)"
   ]
  },
  {
   "cell_type": "code",
   "execution_count": 103,
   "metadata": {
    "ExecuteTime": {
     "end_time": "2020-10-29T13:08:14.487737Z",
     "start_time": "2020-10-29T13:08:14.451834Z"
    }
   },
   "outputs": [
    {
     "name": "stdout",
     "output_type": "stream",
     "text": [
      "MAE: 54.525\n",
      "RMSE test: 77.593\n",
      "R^2 test: 0.531\n"
     ]
    }
   ],
   "source": [
    "# R2 of Training set\n",
    "lasso_model.score(X_train,y_train)\n",
    "\n",
    "# Predict model on test data\n",
    "y_pred = lasso_model.predict(X_test)\n",
    "\n",
    "#Mean Absolute Error (MAE)\n",
    "def mae(y_true, y_pred):\n",
    "    return np.mean(np.abs(y_pred - y_true))\n",
    "print('MAE: %.3f' % mae(y_test, y_pred))\n",
    "\n",
    "rmse_rf= (mean_squared_error(y_test,y_pred))**(1/2)\n",
    "\n",
    "print('RMSE test: %.3f' % rmse_rf)\n",
    "print('R^2 test: %.3f' % (r2_score(y_test, y_pred)))"
   ]
  },
  {
   "cell_type": "code",
   "execution_count": 104,
   "metadata": {
    "ExecuteTime": {
     "end_time": "2020-10-29T13:08:14.854758Z",
     "start_time": "2020-10-29T13:08:14.490729Z"
    }
   },
   "outputs": [
    {
     "data": {
      "image/png": "[encoded data removed]",
      "text/plain": [
       "<Figure size 432x288 with 1 Axes>"
      ]
     },
     "metadata": {
      "needs_background": "light"
     },
     "output_type": "display_data"
    }
   ],
   "source": [
    "plt.scatter(y_test, y_pred)\n",
    "plt.plot([0,500],[0,500],color='red')\n",
    "plt.grid(True)\n",
    "plt.title('Predicted vs. Actual Price with LASSO CV')\n",
    "plt.ylabel('Price Predicted')\n",
    "plt.xlabel('Price Actual')"
   ]
  },
  {
   "cell_type": "markdown",
   "metadata": {},
   "source": [
    "# RidgeCV Model"
   ]
  },
  {
   "cell_type": "code",
   "execution_count": 105,
   "metadata": {
    "ExecuteTime": {
     "end_time": "2020-10-29T13:08:16.888355Z",
     "start_time": "2020-10-29T13:08:14.857749Z"
    }
   },
   "outputs": [
    {
     "name": "stderr",
     "output_type": "stream",
     "text": [
      "C:\\Users\\User\\Anaconda3\\envs\\py38\\lib\\site-packages\\sklearn\\linear_model\\_ridge.py:147: LinAlgWarning: Ill-conditioned matrix (rcond=4.55554e-19): result may not be accurate.\n",
      "  return linalg.solve(A, Xy, sym_pos=True,\n",
      "C:\\Users\\User\\Anaconda3\\envs\\py38\\lib\\site-packages\\sklearn\\linear_model\\_ridge.py:147: LinAlgWarning: Ill-conditioned matrix (rcond=6.83603e-19): result may not be accurate.\n",
      "  return linalg.solve(A, Xy, sym_pos=True,\n",
      "C:\\Users\\User\\Anaconda3\\envs\\py38\\lib\\site-packages\\sklearn\\linear_model\\_ridge.py:147: LinAlgWarning: Ill-conditioned matrix (rcond=6.18095e-19): result may not be accurate.\n",
      "  return linalg.solve(A, Xy, sym_pos=True,\n",
      "C:\\Users\\User\\Anaconda3\\envs\\py38\\lib\\site-packages\\sklearn\\linear_model\\_ridge.py:147: LinAlgWarning: Ill-conditioned matrix (rcond=6.52823e-19): result may not be accurate.\n",
      "  return linalg.solve(A, Xy, sym_pos=True,\n",
      "C:\\Users\\User\\Anaconda3\\envs\\py38\\lib\\site-packages\\sklearn\\linear_model\\_ridge.py:147: LinAlgWarning: Ill-conditioned matrix (rcond=5.28629e-19): result may not be accurate.\n",
      "  return linalg.solve(A, Xy, sym_pos=True,\n",
      "C:\\Users\\User\\Anaconda3\\envs\\py38\\lib\\site-packages\\sklearn\\linear_model\\_ridge.py:147: LinAlgWarning: Ill-conditioned matrix (rcond=2.13986e-17): result may not be accurate.\n",
      "  return linalg.solve(A, Xy, sym_pos=True,\n",
      "C:\\Users\\User\\Anaconda3\\envs\\py38\\lib\\site-packages\\sklearn\\linear_model\\_ridge.py:147: LinAlgWarning: Ill-conditioned matrix (rcond=3.17451e-17): result may not be accurate.\n",
      "  return linalg.solve(A, Xy, sym_pos=True,\n",
      "C:\\Users\\User\\Anaconda3\\envs\\py38\\lib\\site-packages\\sklearn\\linear_model\\_ridge.py:147: LinAlgWarning: Ill-conditioned matrix (rcond=2.86988e-17): result may not be accurate.\n",
      "  return linalg.solve(A, Xy, sym_pos=True,\n",
      "C:\\Users\\User\\Anaconda3\\envs\\py38\\lib\\site-packages\\sklearn\\linear_model\\_ridge.py:147: LinAlgWarning: Ill-conditioned matrix (rcond=3.03216e-17): result may not be accurate.\n",
      "  return linalg.solve(A, Xy, sym_pos=True,\n",
      "C:\\Users\\User\\Anaconda3\\envs\\py38\\lib\\site-packages\\sklearn\\linear_model\\_ridge.py:147: LinAlgWarning: Ill-conditioned matrix (rcond=2.43247e-17): result may not be accurate.\n",
      "  return linalg.solve(A, Xy, sym_pos=True,\n"
     ]
    },
    {
     "data": {
      "text/plain": [
       "RidgeCV(alphas=array([1.00000000e-10, 4.64158883e-09, 2.15443469e-07, 1.00000000e-05,\n",
       "       4.64158883e-04, 2.15443469e-02, 1.00000000e+00, 4.64158883e+01,\n",
       "       2.15443469e+03, 1.00000000e+05]),\n",
       "        cv=5)"
      ]
     },
     "execution_count": 105,
     "metadata": {},
     "output_type": "execute_result"
    }
   ],
   "source": [
    "from sklearn.linear_model import RidgeCV\n",
    "\n",
    "reg_params = 10.**np.linspace(-10, 5, 10)\n",
    "ridge_model = RidgeCV(alphas=reg_params, fit_intercept=True, cv=5)\n",
    "ridge_model.fit(X_train, y_train)"
   ]
  },
  {
   "cell_type": "code",
   "execution_count": 106,
   "metadata": {
    "ExecuteTime": {
     "end_time": "2020-10-29T13:08:16.924263Z",
     "start_time": "2020-10-29T13:08:16.891348Z"
    }
   },
   "outputs": [
    {
     "name": "stdout",
     "output_type": "stream",
     "text": [
      "MAE: 54.560\n",
      "RMSE test: 77.326\n",
      "R^2 test: 0.534\n"
     ]
    }
   ],
   "source": [
    "# R2 of Training set\n",
    "ridge_model.score(X_train,y_train)\n",
    "\n",
    "# Predict model on test data\n",
    "y_pred = ridge_model.predict(X_test)\n",
    "\n",
    "#Mean Absolute Error (MAE)\n",
    "def mae(y_true, y_pred):\n",
    "    return np.mean(np.abs(y_pred - y_true))\n",
    "print('MAE: %.3f' % mae(y_test, y_pred))\n",
    "\n",
    "rmse_rf= (mean_squared_error(y_test,y_pred))**(1/2)\n",
    "\n",
    "print('RMSE test: %.3f' % rmse_rf)\n",
    "print('R^2 test: %.3f' % (r2_score(y_test, y_pred)))"
   ]
  },
  {
   "cell_type": "code",
   "execution_count": 107,
   "metadata": {
    "ExecuteTime": {
     "end_time": "2020-10-29T13:08:17.261357Z",
     "start_time": "2020-10-29T13:08:16.927251Z"
    },
    "scrolled": true
   },
   "outputs": [
    {
     "data": {
      "text/plain": [
       "Text(0.5, 0, 'Price Actual')"
      ]
     },
     "execution_count": 107,
     "metadata": {},
     "output_type": "execute_result"
    },
    {
     "data": {
      "image/png": "[encoded data removed]",
      "text/plain": [
       "<Figure size 432x288 with 1 Axes>"
      ]
     },
     "metadata": {
      "needs_background": "light"
     },
     "output_type": "display_data"
    }
   ],
   "source": [
    "plt.scatter(y_test, y_pred)\n",
    "plt.plot([0,500],[0,500],color='red')\n",
    "plt.grid(True)\n",
    "plt.title('Predicted vs. Actual Price with RIDGE CV')\n",
    "plt.ylabel('Price Predicted')\n",
    "plt.xlabel('Price Actual')"
   ]
  },
  {
   "cell_type": "markdown",
   "metadata": {},
   "source": [
    "# SVR"
   ]
  },
  {
   "cell_type": "code",
   "execution_count": 108,
   "metadata": {
    "ExecuteTime": {
     "end_time": "2020-10-29T13:09:12.631855Z",
     "start_time": "2020-10-29T13:08:54.750626Z"
    }
   },
   "outputs": [
    {
     "name": "stdout",
     "output_type": "stream",
     "text": [
      "RMSE test: 80.882\n",
      "R^2 test: 0.490\n"
     ]
    }
   ],
   "source": [
    "from sklearn.svm import SVR\n",
    "SVRmodel = SVR(kernel = 'linear')\n",
    "SVRmodel.fit(X_train, y_train)\n",
    "\n",
    "y_pred = SVRmodel.predict(X_test)\n",
    "rmse_rf= (mean_squared_error(y_test,y_pred))**(1/2)\n",
    "\n",
    "print('RMSE test: %.3f' % rmse_rf)\n",
    "print('R^2 test: %.3f' % (r2_score(y_test, y_pred)))"
   ]
  },
  {
   "cell_type": "code",
   "execution_count": 109,
   "metadata": {
    "ExecuteTime": {
     "end_time": "2020-10-29T13:09:13.460601Z",
     "start_time": "2020-10-29T13:09:12.634810Z"
    }
   },
   "outputs": [
    {
     "name": "stdout",
     "output_type": "stream",
     "text": [
      "RMSE test: 81.254\n",
      "R^2 test: 0.485\n"
     ]
    },
    {
     "name": "stderr",
     "output_type": "stream",
     "text": [
      "C:\\Users\\User\\Anaconda3\\envs\\py38\\lib\\site-packages\\sklearn\\svm\\_base.py:976: ConvergenceWarning: Liblinear failed to converge, increase the number of iterations.\n",
      "  warnings.warn(\"Liblinear failed to converge, increase \"\n"
     ]
    }
   ],
   "source": [
    "from sklearn.svm import LinearSVR\n",
    "LinearSVRmodel = LinearSVR()\n",
    "LinearSVRmodel.fit(X_train, y_train)\n",
    "\n",
    "y_pred = LinearSVRmodel.predict(X_test)\n",
    "rmse_rf= (mean_squared_error(y_test,y_pred))**(1/2)\n",
    "\n",
    "print('RMSE test: %.3f' % rmse_rf)\n",
    "print('R^2 test: %.3f' % (r2_score(y_test, y_pred)))"
   ]
  },
  {
   "cell_type": "code",
   "execution_count": 110,
   "metadata": {
    "ExecuteTime": {
     "end_time": "2020-10-29T13:10:25.580791Z",
     "start_time": "2020-10-29T13:09:13.464591Z"
    }
   },
   "outputs": [
    {
     "name": "stdout",
     "output_type": "stream",
     "text": [
      "RMSE test: 79.646\n",
      "R^2 test: 0.505\n"
     ]
    }
   ],
   "source": [
    "from sklearn.svm import NuSVR\n",
    "NuSVRmodel = NuSVR(kernel = 'linear')\n",
    "NuSVRmodel.fit(X_train, y_train)\n",
    "\n",
    "y_pred = NuSVRmodel.predict(X_test)\n",
    "rmse_rf= (mean_squared_error(y_test,y_pred))**(1/2)\n",
    "\n",
    "print('RMSE test: %.3f' % rmse_rf)\n",
    "print('R^2 test: %.3f' % (r2_score(y_test, y_pred)))"
   ]
  },
  {
   "cell_type": "code",
   "execution_count": null,
   "metadata": {},
   "outputs": [],
   "source": []
  }
 ],
 "metadata": {
  "kernelspec": {
   "display_name": "Python 3",
   "language": "python",
   "name": "python3"
  },
  "language_info": {
   "codemirror_mode": {
    "name": "ipython",
    "version": 3
   },
   "file_extension": ".py",
   "mimetype": "text/x-python",
   "name": "python",
   "nbconvert_exporter": "python",
   "pygments_lexer": "ipython3",
   "version": "3.8.3"
  },
  "toc": {
   "base_numbering": 1,
   "nav_menu": {},
   "number_sections": true,
   "sideBar": true,
   "skip_h1_title": false,
   "title_cell": "Table of Contents",
   "title_sidebar": "Contents",
   "toc_cell": false,
   "toc_position": {
    "height": "calc(100% - 180px)",
    "left": "10px",
    "top": "150px",
    "width": "291px"
   },
   "toc_section_display": true,
   "toc_window_display": true
  },
  "varInspector": {
   "cols": {
    "lenName": 16,
    "lenType": 16,
    "lenVar": 40
   },
   "kernels_config": {
    "python": {
     "delete_cmd_postfix": "",
     "delete_cmd_prefix": "del ",
     "library": "var_list.py",
     "varRefreshCmd": "print(var_dic_list())"
    },
    "r": {
     "delete_cmd_postfix": ") ",
     "delete_cmd_prefix": "rm(",
     "library": "var_list.r",
     "varRefreshCmd": "cat(var_dic_list()) "
    }
   },
   "types_to_exclude": [
    "module",
    "function",
    "builtin_function_or_method",
    "instance",
    "_Feature"
   ],
   "window_display": false
  }
 },
 "nbformat": 4,
 "nbformat_minor": 4
}
