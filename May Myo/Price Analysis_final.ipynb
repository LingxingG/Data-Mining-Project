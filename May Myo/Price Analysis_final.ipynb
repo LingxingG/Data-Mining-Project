{
 "cells": [
  {
   "cell_type": "markdown",
   "metadata": {},
   "source": [
    "# Refer to SF EDA notebook for Price EDA (Section 5 & 10)"
   ]
  },
  {
   "cell_type": "markdown",
   "metadata": {},
   "source": [
    "# Import Libraries"
   ]
  },
  {
   "cell_type": "code",
   "execution_count": 1,
   "metadata": {
    "ExecuteTime": {
     "end_time": "2020-10-25T19:43:22.111327Z",
     "start_time": "2020-10-25T19:43:19.264938Z"
    }
   },
   "outputs": [],
   "source": [
    "import pandas as pd\n",
    "import numpy as np\n",
    "import matplotlib.pyplot as plt\n",
    "import seaborn as sns\n",
    "import statsmodels.api as sm"
   ]
  },
  {
   "cell_type": "markdown",
   "metadata": {},
   "source": [
    "# Import Data"
   ]
  },
  {
   "cell_type": "code",
   "execution_count": 2,
   "metadata": {
    "ExecuteTime": {
     "end_time": "2020-10-25T19:43:22.175157Z",
     "start_time": "2020-10-25T19:43:22.115318Z"
    },
    "scrolled": true
   },
   "outputs": [
    {
     "data": {
      "text/html": [
       "<div>\n",
       "<style scoped>\n",
       "    .dataframe tbody tr th:only-of-type {\n",
       "        vertical-align: middle;\n",
       "    }\n",
       "\n",
       "    .dataframe tbody tr th {\n",
       "        vertical-align: top;\n",
       "    }\n",
       "\n",
       "    .dataframe thead th {\n",
       "        text-align: right;\n",
       "    }\n",
       "</style>\n",
       "<table border=\"1\" class=\"dataframe\">\n",
       "  <thead>\n",
       "    <tr style=\"text-align: right;\">\n",
       "      <th></th>\n",
       "      <th>host_response_time</th>\n",
       "      <th>host_response_rate</th>\n",
       "      <th>host_acceptance_rate</th>\n",
       "      <th>host_is_superhost</th>\n",
       "      <th>host_listings_count</th>\n",
       "      <th>neighbourhood_cleansed</th>\n",
       "      <th>property_type</th>\n",
       "      <th>room_type</th>\n",
       "      <th>accommodates</th>\n",
       "      <th>bathrooms</th>\n",
       "      <th>bedrooms</th>\n",
       "      <th>beds</th>\n",
       "      <th>amenities</th>\n",
       "      <th>price</th>\n",
       "      <th>minimum_nights</th>\n",
       "      <th>maximum_nights</th>\n",
       "      <th>number_of_reviews</th>\n",
       "      <th>review_scores_rating</th>\n",
       "      <th>reviews_per_month</th>\n",
       "      <th>price_log</th>\n",
       "    </tr>\n",
       "  </thead>\n",
       "  <tbody>\n",
       "    <tr>\n",
       "      <th>0</th>\n",
       "      <td>within an hour</td>\n",
       "      <td>1.0</td>\n",
       "      <td>0.99</td>\n",
       "      <td>1</td>\n",
       "      <td>1</td>\n",
       "      <td>Western Addition</td>\n",
       "      <td>Entire apartment</td>\n",
       "      <td>Entire home/apt</td>\n",
       "      <td>3</td>\n",
       "      <td>1.0</td>\n",
       "      <td>1.0</td>\n",
       "      <td>2.0</td>\n",
       "      <td>[\"Heating\", \"Hot water\", \"Stove\", \"Iron\", \"Dry...</td>\n",
       "      <td>132.0</td>\n",
       "      <td>2</td>\n",
       "      <td>30</td>\n",
       "      <td>257</td>\n",
       "      <td>97.0</td>\n",
       "      <td>1.91</td>\n",
       "      <td>4.882802</td>\n",
       "    </tr>\n",
       "    <tr>\n",
       "      <th>1</th>\n",
       "      <td>within a day</td>\n",
       "      <td>0.6</td>\n",
       "      <td>0.83</td>\n",
       "      <td>0</td>\n",
       "      <td>2</td>\n",
       "      <td>Bernal Heights</td>\n",
       "      <td>Entire apartment</td>\n",
       "      <td>Entire home/apt</td>\n",
       "      <td>5</td>\n",
       "      <td>1.0</td>\n",
       "      <td>2.0</td>\n",
       "      <td>3.0</td>\n",
       "      <td>[\"Smoke alarm\", \"Heating\", \"Kitchen\", \"First a...</td>\n",
       "      <td>235.0</td>\n",
       "      <td>30</td>\n",
       "      <td>60</td>\n",
       "      <td>111</td>\n",
       "      <td>98.0</td>\n",
       "      <td>0.81</td>\n",
       "      <td>5.459586</td>\n",
       "    </tr>\n",
       "    <tr>\n",
       "      <th>2</th>\n",
       "      <td>within a few hours</td>\n",
       "      <td>1.0</td>\n",
       "      <td>1.00</td>\n",
       "      <td>0</td>\n",
       "      <td>10</td>\n",
       "      <td>Haight Ashbury</td>\n",
       "      <td>Private room in apartment</td>\n",
       "      <td>Private room</td>\n",
       "      <td>2</td>\n",
       "      <td>4.0</td>\n",
       "      <td>1.0</td>\n",
       "      <td>1.0</td>\n",
       "      <td>[\"Host greets you\", \"Heating\", \"Hot water\", \"K...</td>\n",
       "      <td>56.0</td>\n",
       "      <td>32</td>\n",
       "      <td>60</td>\n",
       "      <td>19</td>\n",
       "      <td>84.0</td>\n",
       "      <td>0.14</td>\n",
       "      <td>4.025352</td>\n",
       "    </tr>\n",
       "    <tr>\n",
       "      <th>3</th>\n",
       "      <td>within a few hours</td>\n",
       "      <td>1.0</td>\n",
       "      <td>1.00</td>\n",
       "      <td>0</td>\n",
       "      <td>10</td>\n",
       "      <td>Haight Ashbury</td>\n",
       "      <td>Private room in apartment</td>\n",
       "      <td>Private room</td>\n",
       "      <td>2</td>\n",
       "      <td>4.0</td>\n",
       "      <td>1.0</td>\n",
       "      <td>1.0</td>\n",
       "      <td>[\"Host greets you\", \"Heating\", \"Hot water\", \"K...</td>\n",
       "      <td>56.0</td>\n",
       "      <td>32</td>\n",
       "      <td>90</td>\n",
       "      <td>8</td>\n",
       "      <td>93.0</td>\n",
       "      <td>0.11</td>\n",
       "      <td>4.025352</td>\n",
       "    </tr>\n",
       "    <tr>\n",
       "      <th>5</th>\n",
       "      <td>within an hour</td>\n",
       "      <td>1.0</td>\n",
       "      <td>0.96</td>\n",
       "      <td>1</td>\n",
       "      <td>2</td>\n",
       "      <td>Mission</td>\n",
       "      <td>Private room in condominium</td>\n",
       "      <td>Private room</td>\n",
       "      <td>3</td>\n",
       "      <td>1.0</td>\n",
       "      <td>1.0</td>\n",
       "      <td>1.0</td>\n",
       "      <td>[\"Heating\", \"Hot water\", \"Children\\u2019s book...</td>\n",
       "      <td>169.0</td>\n",
       "      <td>1</td>\n",
       "      <td>14</td>\n",
       "      <td>736</td>\n",
       "      <td>98.0</td>\n",
       "      <td>5.47</td>\n",
       "      <td>5.129899</td>\n",
       "    </tr>\n",
       "  </tbody>\n",
       "</table>\n",
       "</div>"
      ],
      "text/plain": [
       "   host_response_time  host_response_rate  host_acceptance_rate  \\\n",
       "0      within an hour                 1.0                  0.99   \n",
       "1        within a day                 0.6                  0.83   \n",
       "2  within a few hours                 1.0                  1.00   \n",
       "3  within a few hours                 1.0                  1.00   \n",
       "5      within an hour                 1.0                  0.96   \n",
       "\n",
       "   host_is_superhost  host_listings_count neighbourhood_cleansed  \\\n",
       "0                  1                    1       Western Addition   \n",
       "1                  0                    2         Bernal Heights   \n",
       "2                  0                   10         Haight Ashbury   \n",
       "3                  0                   10         Haight Ashbury   \n",
       "5                  1                    2                Mission   \n",
       "\n",
       "                 property_type        room_type  accommodates  bathrooms  \\\n",
       "0             Entire apartment  Entire home/apt             3        1.0   \n",
       "1             Entire apartment  Entire home/apt             5        1.0   \n",
       "2    Private room in apartment     Private room             2        4.0   \n",
       "3    Private room in apartment     Private room             2        4.0   \n",
       "5  Private room in condominium     Private room             3        1.0   \n",
       "\n",
       "   bedrooms  beds                                          amenities  price  \\\n",
       "0       1.0   2.0  [\"Heating\", \"Hot water\", \"Stove\", \"Iron\", \"Dry...  132.0   \n",
       "1       2.0   3.0  [\"Smoke alarm\", \"Heating\", \"Kitchen\", \"First a...  235.0   \n",
       "2       1.0   1.0  [\"Host greets you\", \"Heating\", \"Hot water\", \"K...   56.0   \n",
       "3       1.0   1.0  [\"Host greets you\", \"Heating\", \"Hot water\", \"K...   56.0   \n",
       "5       1.0   1.0  [\"Heating\", \"Hot water\", \"Children\\u2019s book...  169.0   \n",
       "\n",
       "   minimum_nights  maximum_nights  number_of_reviews  review_scores_rating  \\\n",
       "0               2              30                257                  97.0   \n",
       "1              30              60                111                  98.0   \n",
       "2              32              60                 19                  84.0   \n",
       "3              32              90                  8                  93.0   \n",
       "5               1              14                736                  98.0   \n",
       "\n",
       "   reviews_per_month  price_log  \n",
       "0               1.91   4.882802  \n",
       "1               0.81   5.459586  \n",
       "2               0.14   4.025352  \n",
       "3               0.11   4.025352  \n",
       "5               5.47   5.129899  "
      ]
     },
     "execution_count": 2,
     "metadata": {},
     "output_type": "execute_result"
    }
   ],
   "source": [
    "SF_df = pd.read_pickle(\"pre-processing and EDA/cleaned_price_df.pkl\")\n",
    "SF_df.head(5)"
   ]
  },
  {
   "cell_type": "code",
   "execution_count": 3,
   "metadata": {
    "ExecuteTime": {
     "end_time": "2020-10-25T19:43:22.215051Z",
     "start_time": "2020-10-25T19:43:22.180144Z"
    }
   },
   "outputs": [
    {
     "name": "stdout",
     "output_type": "stream",
     "text": [
      "<class 'pandas.core.frame.DataFrame'>\n",
      "Int64Index: 6848 entries, 0 to 7273\n",
      "Data columns (total 20 columns):\n",
      " #   Column                  Non-Null Count  Dtype  \n",
      "---  ------                  --------------  -----  \n",
      " 0   host_response_time      6848 non-null   object \n",
      " 1   host_response_rate      6848 non-null   float64\n",
      " 2   host_acceptance_rate    6848 non-null   float64\n",
      " 3   host_is_superhost       6848 non-null   int32  \n",
      " 4   host_listings_count     6848 non-null   int64  \n",
      " 5   neighbourhood_cleansed  6848 non-null   object \n",
      " 6   property_type           6848 non-null   object \n",
      " 7   room_type               6848 non-null   object \n",
      " 8   accommodates            6848 non-null   int64  \n",
      " 9   bathrooms               6848 non-null   float64\n",
      " 10  bedrooms                6848 non-null   float64\n",
      " 11  beds                    6848 non-null   float64\n",
      " 12  amenities               6848 non-null   object \n",
      " 13  price                   6848 non-null   float64\n",
      " 14  minimum_nights          6848 non-null   int64  \n",
      " 15  maximum_nights          6848 non-null   int64  \n",
      " 16  number_of_reviews       6848 non-null   int64  \n",
      " 17  review_scores_rating    6848 non-null   float64\n",
      " 18  reviews_per_month       6848 non-null   float64\n",
      " 19  price_log               6848 non-null   float64\n",
      "dtypes: float64(9), int32(1), int64(5), object(5)\n",
      "memory usage: 1.1+ MB\n"
     ]
    }
   ],
   "source": [
    "SF_df.info()"
   ]
  },
  {
   "cell_type": "markdown",
   "metadata": {},
   "source": [
    "# Different column names by datatype list"
   ]
  },
  {
   "cell_type": "code",
   "execution_count": 4,
   "metadata": {
    "ExecuteTime": {
     "end_time": "2020-10-25T19:43:22.255943Z",
     "start_time": "2020-10-25T19:43:22.219041Z"
    }
   },
   "outputs": [
    {
     "name": "stdout",
     "output_type": "stream",
     "text": [
      "['host_response_time', 'neighbourhood_cleansed', 'property_type', 'room_type', 'amenities']\n"
     ]
    }
   ],
   "source": [
    "numerics = ['int16', 'int32', 'int64', 'float16', 'float32', 'float64']\n",
    "numeric_columns = SF_df.select_dtypes(include=numerics).columns.to_list()\n",
    "bool_columns = SF_df.select_dtypes(include='bool').columns.to_list()\n",
    "object_columns = SF_df.select_dtypes(include='object').columns.to_list()\n",
    "print(object_columns)"
   ]
  },
  {
   "cell_type": "code",
   "execution_count": 5,
   "metadata": {
    "ExecuteTime": {
     "end_time": "2020-10-25T19:43:22.284864Z",
     "start_time": "2020-10-25T19:43:22.258933Z"
    }
   },
   "outputs": [
    {
     "data": {
      "text/plain": [
       "host_response_time        0\n",
       "host_response_rate        0\n",
       "host_acceptance_rate      0\n",
       "host_is_superhost         0\n",
       "host_listings_count       0\n",
       "neighbourhood_cleansed    0\n",
       "property_type             0\n",
       "room_type                 0\n",
       "accommodates              0\n",
       "bathrooms                 0\n",
       "bedrooms                  0\n",
       "beds                      0\n",
       "amenities                 0\n",
       "price                     0\n",
       "minimum_nights            0\n",
       "maximum_nights            0\n",
       "number_of_reviews         0\n",
       "review_scores_rating      0\n",
       "reviews_per_month         0\n",
       "price_log                 0\n",
       "dtype: int64"
      ]
     },
     "execution_count": 5,
     "metadata": {},
     "output_type": "execute_result"
    }
   ],
   "source": [
    "SF_df.isnull().sum()"
   ]
  },
  {
   "cell_type": "markdown",
   "metadata": {},
   "source": [
    "# Pearson Correlation for Numeric Columns"
   ]
  },
  {
   "cell_type": "code",
   "execution_count": 6,
   "metadata": {
    "ExecuteTime": {
     "end_time": "2020-10-25T19:43:22.304810Z",
     "start_time": "2020-10-25T19:43:22.287855Z"
    }
   },
   "outputs": [],
   "source": [
    "# sns.set(style=\"ticks\", color_codes=True)\n",
    "# sns.pairplot(SF_df[numeric_columns])"
   ]
  },
  {
   "cell_type": "code",
   "execution_count": 7,
   "metadata": {
    "ExecuteTime": {
     "end_time": "2020-10-25T19:43:23.578405Z",
     "start_time": "2020-10-25T19:43:22.307803Z"
    }
   },
   "outputs": [
    {
     "data": {
      "text/plain": [
       "<matplotlib.axes._subplots.AxesSubplot at 0x1e50557e668>"
      ]
     },
     "execution_count": 7,
     "metadata": {},
     "output_type": "execute_result"
    },
    {
     "data": {
      "image/png": "[encoded data removed]",
      "text/plain": [
       "<Figure size 576x576 with 2 Axes>"
      ]
     },
     "metadata": {
      "needs_background": "light"
     },
     "output_type": "display_data"
    }
   ],
   "source": [
    "corr = SF_df[numeric_columns].corr()\n",
    "mask = np.zeros_like(corr, dtype=np.bool)\n",
    "mask[np.triu_indices_from(mask)] = True\n",
    "plt.figure(figsize = (8,8))\n",
    "sns.set(font_scale=1)\n",
    "sns.heatmap(corr, cbar = True, annot=True, square = True, fmt = '.2f', xticklabels=numeric_columns, yticklabels=numeric_columns, mask=mask)"
   ]
  },
  {
   "cell_type": "code",
   "execution_count": 8,
   "metadata": {
    "ExecuteTime": {
     "end_time": "2020-10-25T19:43:23.967365Z",
     "start_time": "2020-10-25T19:43:23.583393Z"
    },
    "scrolled": false
   },
   "outputs": [
    {
     "data": {
      "text/plain": [
       "<matplotlib.axes._subplots.AxesSubplot at 0x1e5078f56d8>"
      ]
     },
     "execution_count": 8,
     "metadata": {},
     "output_type": "execute_result"
    },
    {
     "data": {
      "image/png": "[encoded data removed]",
      "text/plain": [
       "<Figure size 432x288 with 2 Axes>"
      ]
     },
     "metadata": {},
     "output_type": "display_data"
    }
   ],
   "source": [
    "sns.heatmap(corr[['price']].sort_values(['price'],ascending=False),yticklabels=True,annot=True)"
   ]
  },
  {
   "cell_type": "markdown",
   "metadata": {},
   "source": [
    "# Feature Selection"
   ]
  },
  {
   "cell_type": "markdown",
   "metadata": {},
   "source": [
    "## Remove features based on Pearson Correlation"
   ]
  },
  {
   "cell_type": "code",
   "execution_count": 9,
   "metadata": {
    "ExecuteTime": {
     "end_time": "2020-10-25T19:43:23.977339Z",
     "start_time": "2020-10-25T19:43:23.970358Z"
    }
   },
   "outputs": [],
   "source": [
    "new_SF_df = SF_df.drop(columns=['bedrooms','beds','maximum_nights','number_of_reviews'])"
   ]
  },
  {
   "cell_type": "code",
   "execution_count": 10,
   "metadata": {
    "ExecuteTime": {
     "end_time": "2020-10-25T19:43:23.998283Z",
     "start_time": "2020-10-25T19:43:23.980331Z"
    },
    "scrolled": false
   },
   "outputs": [
    {
     "name": "stdout",
     "output_type": "stream",
     "text": [
      "Index(['host_response_time', 'host_response_rate', 'host_acceptance_rate',\n",
      "       'host_is_superhost', 'host_listings_count', 'neighbourhood_cleansed',\n",
      "       'property_type', 'room_type', 'accommodates', 'bathrooms', 'amenities',\n",
      "       'price', 'minimum_nights', 'review_scores_rating', 'reviews_per_month',\n",
      "       'price_log'],\n",
      "      dtype='object')\n"
     ]
    }
   ],
   "source": [
    "print(new_SF_df.columns)"
   ]
  },
  {
   "cell_type": "markdown",
   "metadata": {},
   "source": [
    "## Remove based on p-values (Backward Elimination)"
   ]
  },
  {
   "cell_type": "code",
   "execution_count": 11,
   "metadata": {
    "ExecuteTime": {
     "end_time": "2020-10-25T19:43:24.061114Z",
     "start_time": "2020-10-25T19:43:24.001275Z"
    }
   },
   "outputs": [
    {
     "data": {
      "text/html": [
       "<div>\n",
       "<style scoped>\n",
       "    .dataframe tbody tr th:only-of-type {\n",
       "        vertical-align: middle;\n",
       "    }\n",
       "\n",
       "    .dataframe tbody tr th {\n",
       "        vertical-align: top;\n",
       "    }\n",
       "\n",
       "    .dataframe thead th {\n",
       "        text-align: right;\n",
       "    }\n",
       "</style>\n",
       "<table border=\"1\" class=\"dataframe\">\n",
       "  <thead>\n",
       "    <tr style=\"text-align: right;\">\n",
       "      <th></th>\n",
       "      <th>feature</th>\n",
       "      <th>p-value</th>\n",
       "    </tr>\n",
       "  </thead>\n",
       "  <tbody>\n",
       "    <tr>\n",
       "      <th>11</th>\n",
       "      <td>number_of_reviews</td>\n",
       "      <td>7.198979e-01</td>\n",
       "    </tr>\n",
       "    <tr>\n",
       "      <th>9</th>\n",
       "      <td>minimum_nights</td>\n",
       "      <td>8.481813e-02</td>\n",
       "    </tr>\n",
       "    <tr>\n",
       "      <th>10</th>\n",
       "      <td>maximum_nights</td>\n",
       "      <td>8.471748e-02</td>\n",
       "    </tr>\n",
       "    <tr>\n",
       "      <th>8</th>\n",
       "      <td>beds</td>\n",
       "      <td>1.714166e-02</td>\n",
       "    </tr>\n",
       "    <tr>\n",
       "      <th>2</th>\n",
       "      <td>host_acceptance_rate</td>\n",
       "      <td>5.174953e-04</td>\n",
       "    </tr>\n",
       "    <tr>\n",
       "      <th>12</th>\n",
       "      <td>review_scores_rating</td>\n",
       "      <td>2.732478e-05</td>\n",
       "    </tr>\n",
       "    <tr>\n",
       "      <th>4</th>\n",
       "      <td>host_listings_count</td>\n",
       "      <td>6.411037e-07</td>\n",
       "    </tr>\n",
       "    <tr>\n",
       "      <th>6</th>\n",
       "      <td>bathrooms</td>\n",
       "      <td>6.969503e-09</td>\n",
       "    </tr>\n",
       "    <tr>\n",
       "      <th>3</th>\n",
       "      <td>host_is_superhost</td>\n",
       "      <td>3.032647e-11</td>\n",
       "    </tr>\n",
       "    <tr>\n",
       "      <th>13</th>\n",
       "      <td>reviews_per_month</td>\n",
       "      <td>1.800328e-12</td>\n",
       "    </tr>\n",
       "    <tr>\n",
       "      <th>1</th>\n",
       "      <td>host_response_rate</td>\n",
       "      <td>4.176357e-18</td>\n",
       "    </tr>\n",
       "    <tr>\n",
       "      <th>7</th>\n",
       "      <td>bedrooms</td>\n",
       "      <td>2.668852e-54</td>\n",
       "    </tr>\n",
       "    <tr>\n",
       "      <th>0</th>\n",
       "      <td>const</td>\n",
       "      <td>1.800335e-76</td>\n",
       "    </tr>\n",
       "    <tr>\n",
       "      <th>5</th>\n",
       "      <td>accommodates</td>\n",
       "      <td>1.926256e-154</td>\n",
       "    </tr>\n",
       "  </tbody>\n",
       "</table>\n",
       "</div>"
      ],
      "text/plain": [
       "                 feature        p-value\n",
       "11     number_of_reviews   7.198979e-01\n",
       "9         minimum_nights   8.481813e-02\n",
       "10        maximum_nights   8.471748e-02\n",
       "8                   beds   1.714166e-02\n",
       "2   host_acceptance_rate   5.174953e-04\n",
       "12  review_scores_rating   2.732478e-05\n",
       "4    host_listings_count   6.411037e-07\n",
       "6              bathrooms   6.969503e-09\n",
       "3      host_is_superhost   3.032647e-11\n",
       "13     reviews_per_month   1.800328e-12\n",
       "1     host_response_rate   4.176357e-18\n",
       "7               bedrooms   2.668852e-54\n",
       "0                  const   1.800335e-76\n",
       "5           accommodates  1.926256e-154"
      ]
     },
     "execution_count": 11,
     "metadata": {},
     "output_type": "execute_result"
    }
   ],
   "source": [
    "y = SF_df['price']\n",
    "X = SF_df[numeric_columns].drop(['price','price_log'], axis =1)\n",
    "\n",
    "#Adding constant column of ones, mandatory for sm.OLS model\n",
    "X_1 = sm.add_constant(X)\n",
    "#Fitting sm.OLS model\n",
    "model = sm.OLS(y,X_1).fit()\n",
    "model.pvalues.to_frame().reset_index().rename(columns={'index': 'feature', 0: 'p-value'}).sort_values(by='p-value', ascending=False)"
   ]
  },
  {
   "cell_type": "code",
   "execution_count": 12,
   "metadata": {
    "ExecuteTime": {
     "end_time": "2020-10-25T19:43:24.136912Z",
     "start_time": "2020-10-25T19:43:24.064106Z"
    }
   },
   "outputs": [
    {
     "name": "stdout",
     "output_type": "stream",
     "text": [
      "Selected Features:\n",
      "['host_response_rate', 'host_acceptance_rate', 'host_is_superhost', 'host_listings_count', 'accommodates', 'bathrooms', 'bedrooms', 'beds', 'review_scores_rating', 'reviews_per_month']\n",
      "Removed Features:\n",
      "['number_of_reviews', 'minimum_nights', 'maximum_nights']\n"
     ]
    }
   ],
   "source": [
    "#Backward Elimination\n",
    "cols = list(X.columns)\n",
    "removed_features_BE = []\n",
    "pmax = 1\n",
    "while (len(cols)>0):\n",
    "    p= []\n",
    "    X_1 = X[cols]\n",
    "    X_1 = sm.add_constant(X_1)\n",
    "    model = sm.OLS(y,X_1).fit()\n",
    "    p = pd.Series(model.pvalues.values[1:],index = cols)      \n",
    "    pmax = max(p)\n",
    "    feature_with_p_max = p.idxmax()\n",
    "    if(pmax>0.05): # remove if p-value > 0.05\n",
    "        cols.remove(feature_with_p_max)\n",
    "        removed_features_BE.append(feature_with_p_max)\n",
    "    else:\n",
    "        break\n",
    "selected_features_BE = cols\n",
    "print(\"Selected Features:\")\n",
    "print(selected_features_BE)\n",
    "print(\"Removed Features:\")\n",
    "print(removed_features_BE)"
   ]
  },
  {
   "cell_type": "code",
   "execution_count": 13,
   "metadata": {
    "ExecuteTime": {
     "end_time": "2020-10-25T19:43:24.148880Z",
     "start_time": "2020-10-25T19:43:24.138907Z"
    }
   },
   "outputs": [
    {
     "name": "stdout",
     "output_type": "stream",
     "text": [
      "Index(['host_response_time', 'host_response_rate', 'host_acceptance_rate',\n",
      "       'host_is_superhost', 'host_listings_count', 'neighbourhood_cleansed',\n",
      "       'property_type', 'room_type', 'accommodates', 'bathrooms', 'amenities',\n",
      "       'price', 'review_scores_rating', 'reviews_per_month', 'price_log'],\n",
      "      dtype='object')\n",
      "15\n"
     ]
    }
   ],
   "source": [
    "for feature in removed_features_BE:\n",
    "    if feature in new_SF_df.columns:\n",
    "        new_SF_df.drop(columns=[feature],inplace=True)\n",
    "print(new_SF_df.columns)\n",
    "print(len(new_SF_df.columns))"
   ]
  },
  {
   "cell_type": "code",
   "execution_count": 14,
   "metadata": {
    "ExecuteTime": {
     "end_time": "2020-10-25T19:43:24.185781Z",
     "start_time": "2020-10-25T19:43:24.151872Z"
    }
   },
   "outputs": [
    {
     "name": "stdout",
     "output_type": "stream",
     "text": [
      "<class 'pandas.core.frame.DataFrame'>\n",
      "Int64Index: 6848 entries, 0 to 7273\n",
      "Data columns (total 15 columns):\n",
      " #   Column                  Non-Null Count  Dtype  \n",
      "---  ------                  --------------  -----  \n",
      " 0   host_response_time      6848 non-null   object \n",
      " 1   host_response_rate      6848 non-null   float64\n",
      " 2   host_acceptance_rate    6848 non-null   float64\n",
      " 3   host_is_superhost       6848 non-null   int32  \n",
      " 4   host_listings_count     6848 non-null   int64  \n",
      " 5   neighbourhood_cleansed  6848 non-null   object \n",
      " 6   property_type           6848 non-null   object \n",
      " 7   room_type               6848 non-null   object \n",
      " 8   accommodates            6848 non-null   int64  \n",
      " 9   bathrooms               6848 non-null   float64\n",
      " 10  amenities               6848 non-null   object \n",
      " 11  price                   6848 non-null   float64\n",
      " 12  review_scores_rating    6848 non-null   float64\n",
      " 13  reviews_per_month       6848 non-null   float64\n",
      " 14  price_log               6848 non-null   float64\n",
      "dtypes: float64(7), int32(1), int64(2), object(5)\n",
      "memory usage: 829.2+ KB\n"
     ]
    }
   ],
   "source": [
    "new_SF_df.info()"
   ]
  },
  {
   "cell_type": "code",
   "execution_count": 15,
   "metadata": {
    "ExecuteTime": {
     "end_time": "2020-10-25T19:43:24.200741Z",
     "start_time": "2020-10-25T19:43:24.187776Z"
    }
   },
   "outputs": [],
   "source": [
    "new_SF_df_copy = new_SF_df"
   ]
  },
  {
   "cell_type": "code",
   "execution_count": 16,
   "metadata": {
    "ExecuteTime": {
     "end_time": "2020-10-25T19:43:24.227670Z",
     "start_time": "2020-10-25T19:43:24.203733Z"
    }
   },
   "outputs": [],
   "source": [
    "# new_SF_df = new_SF_df_copy"
   ]
  },
  {
   "cell_type": "code",
   "execution_count": 17,
   "metadata": {
    "ExecuteTime": {
     "end_time": "2020-10-25T19:43:24.250609Z",
     "start_time": "2020-10-25T19:43:24.230664Z"
    },
    "scrolled": true
   },
   "outputs": [],
   "source": [
    "# for col in new_SF_df.columns: \n",
    "#     try:      \n",
    "#         new_SF_df[col] = pd.to_numeric(new_SF_df[col]) \n",
    "#         new_SF_df.hist(column=col)\n",
    "#     except ValueError:\n",
    "#         print('This column can not be represented as a histogram')"
   ]
  },
  {
   "cell_type": "markdown",
   "metadata": {},
   "source": [
    "# Data Pre-processing for non-numeric columns"
   ]
  },
  {
   "cell_type": "code",
   "execution_count": 18,
   "metadata": {
    "ExecuteTime": {
     "end_time": "2020-10-25T19:43:24.358321Z",
     "start_time": "2020-10-25T19:43:24.253600Z"
    }
   },
   "outputs": [
    {
     "data": {
      "text/plain": [
       "0       Heating, Hot water, Stove, Iron, Dryer, Coffee...\n",
       "1       Smoke alarm, Heating, Kitchen, First aid kit, ...\n",
       "2       Host greets you, Heating, Hot water, Kitchen, ...\n",
       "3       Host greets you, Heating, Hot water, Kitchen, ...\n",
       "5       Heating, Hot water, Children\\u2019s books and ...\n",
       "                              ...                        \n",
       "7269    Smoke alarm, Long term stays allowed, Refriger...\n",
       "7270    Smoke alarm, Long term stays allowed, Refriger...\n",
       "7271    Gym, Heating, Air conditioning, Iron, Dryer, C...\n",
       "7272    Gym, Heating, Hot water, Stove, Air conditioni...\n",
       "7273    Smoke alarm, Refrigerator, Heating, Kitchen, W...\n",
       "Name: amenities, Length: 6848, dtype: object"
      ]
     },
     "execution_count": 18,
     "metadata": {},
     "output_type": "execute_result"
    }
   ],
   "source": [
    "new_SF_df[\"amenities\"] = new_SF_df[\"amenities\"].str.replace('\"', \"\")\n",
    "new_SF_df[\"amenities\"] = new_SF_df[\"amenities\"].str.replace(\"[\", \"\")\n",
    "new_SF_df[\"amenities\"] = new_SF_df[\"amenities\"].str.replace(\"]\", \"\")\n",
    "\n",
    "new_SF_df['amenities']"
   ]
  },
  {
   "cell_type": "code",
   "execution_count": 19,
   "metadata": {
    "ExecuteTime": {
     "end_time": "2020-10-25T19:43:25.452394Z",
     "start_time": "2020-10-25T19:43:24.366300Z"
    }
   },
   "outputs": [],
   "source": [
    "from sklearn.feature_extraction.text import CountVectorizer\n",
    "\n",
    "count_vectorizer =  CountVectorizer(tokenizer=lambda x: x.split(', '))\n",
    "amenities = count_vectorizer.fit_transform(new_SF_df['amenities'])\n",
    "df_amenities = pd.DataFrame(amenities.toarray(), columns=count_vectorizer.get_feature_names())\n",
    "df_amenities = df_amenities.drop('',1)"
   ]
  },
  {
   "cell_type": "code",
   "execution_count": 20,
   "metadata": {
    "ExecuteTime": {
     "end_time": "2020-10-25T19:43:25.461373Z",
     "start_time": "2020-10-25T19:43:25.454389Z"
    }
   },
   "outputs": [
    {
     "data": {
      "text/plain": [
       "115"
      ]
     },
     "execution_count": 20,
     "metadata": {},
     "output_type": "execute_result"
    }
   ],
   "source": [
    "len(df_amenities.columns.to_list())"
   ]
  },
  {
   "cell_type": "code",
   "execution_count": 21,
   "metadata": {
    "ExecuteTime": {
     "end_time": "2020-10-25T19:43:25.492296Z",
     "start_time": "2020-10-25T19:43:25.464363Z"
    }
   },
   "outputs": [
    {
     "data": {
      "text/plain": [
       "['air conditioning',\n",
       " 'alarm system',\n",
       " 'baby bath',\n",
       " 'baby monitor',\n",
       " 'babysitter recommendations',\n",
       " 'baking sheet',\n",
       " 'barbecue utensils',\n",
       " 'bathroom essentials',\n",
       " 'bathtub',\n",
       " 'bbq grill',\n",
       " 'beach essentials',\n",
       " 'beachfront',\n",
       " 'bed linens',\n",
       " 'bedroom comforts',\n",
       " 'bread maker',\n",
       " 'breakfast',\n",
       " 'breakfast bar',\n",
       " 'building staff',\n",
       " 'cable tv',\n",
       " 'carbon monoxide alarm',\n",
       " 'changing table',\n",
       " 'children\\\\u2019s books and toys',\n",
       " 'children\\\\u2019s dinnerware',\n",
       " 'cleaning before checkout',\n",
       " 'coffee maker',\n",
       " 'cooking basics',\n",
       " 'crib',\n",
       " 'desk',\n",
       " 'dishes and silverware',\n",
       " 'dishwasher',\n",
       " 'dryer',\n",
       " 'dual vanity',\n",
       " 'elevator',\n",
       " 'essentials',\n",
       " 'ethernet connection',\n",
       " 'ev charger',\n",
       " 'extra pillows and blankets',\n",
       " 'fire extinguisher',\n",
       " 'fireplace guards',\n",
       " 'first aid kit',\n",
       " 'free parking on premises',\n",
       " 'free street parking',\n",
       " 'full kitchen',\n",
       " 'game console',\n",
       " 'garden or backyard',\n",
       " 'gas fireplace',\n",
       " 'gym',\n",
       " 'hair dryer',\n",
       " 'hangers',\n",
       " 'heating',\n",
       " 'high chair',\n",
       " 'host greets you',\n",
       " 'hot tub',\n",
       " 'hot water',\n",
       " 'indoor fireplace',\n",
       " 'iron',\n",
       " 'ironing board',\n",
       " 'jetted tub',\n",
       " 'keypad',\n",
       " 'kitchen',\n",
       " 'kitchenette',\n",
       " 'lake access',\n",
       " 'laptop-friendly workspace',\n",
       " 'lock on bedroom door',\n",
       " 'lockbox',\n",
       " 'long term stays allowed',\n",
       " 'luggage dropoff allowed',\n",
       " 'microwave',\n",
       " 'mini fridge',\n",
       " 'natural gas barbeque',\n",
       " 'office',\n",
       " 'outlet covers',\n",
       " 'oven',\n",
       " 'pack \\\\u2019n play/travel crib',\n",
       " 'paid parking off premises',\n",
       " 'paid parking on premises',\n",
       " 'patio or balcony',\n",
       " 'pets allowed',\n",
       " 'piano',\n",
       " 'pocket wifi',\n",
       " 'pool',\n",
       " 'portable air conditioning',\n",
       " 'private entrance',\n",
       " 'private hot tub',\n",
       " 'private living room',\n",
       " 'refrigerator',\n",
       " 'room-darkening shades',\n",
       " 'security cameras',\n",
       " 'self check-in',\n",
       " 'shampoo',\n",
       " 'shared hot tub',\n",
       " 'shower gel',\n",
       " 'single level home',\n",
       " 'ski-in/ski-out',\n",
       " 'smart home technology',\n",
       " 'smart lock',\n",
       " 'smart tv',\n",
       " 'smoke alarm',\n",
       " 'smoking allowed',\n",
       " 'sonos sound system',\n",
       " 'stair gates',\n",
       " 'stand alone bathtub',\n",
       " 'stand alone rain shower',\n",
       " 'stove',\n",
       " 'suitable for events',\n",
       " 'table corner guards',\n",
       " 'terrace',\n",
       " 'tv',\n",
       " 'walk in closet',\n",
       " 'washer',\n",
       " 'waterfront',\n",
       " 'wet bar',\n",
       " 'wifi',\n",
       " 'window guards',\n",
       " 'wine cooler']"
      ]
     },
     "execution_count": 21,
     "metadata": {},
     "output_type": "execute_result"
    }
   ],
   "source": [
    "df_amenities.columns.to_list()"
   ]
  },
  {
   "cell_type": "code",
   "execution_count": 22,
   "metadata": {
    "ExecuteTime": {
     "end_time": "2020-10-25T19:43:25.550133Z",
     "start_time": "2020-10-25T19:43:25.495280Z"
    }
   },
   "outputs": [
    {
     "data": {
      "text/html": [
       "<div>\n",
       "<style scoped>\n",
       "    .dataframe tbody tr th:only-of-type {\n",
       "        vertical-align: middle;\n",
       "    }\n",
       "\n",
       "    .dataframe tbody tr th {\n",
       "        vertical-align: top;\n",
       "    }\n",
       "\n",
       "    .dataframe thead th {\n",
       "        text-align: right;\n",
       "    }\n",
       "</style>\n",
       "<table border=\"1\" class=\"dataframe\">\n",
       "  <thead>\n",
       "    <tr style=\"text-align: right;\">\n",
       "      <th></th>\n",
       "      <th>air conditioning</th>\n",
       "      <th>alarm system</th>\n",
       "      <th>baby bath</th>\n",
       "      <th>baby monitor</th>\n",
       "      <th>babysitter recommendations</th>\n",
       "      <th>baking sheet</th>\n",
       "      <th>barbecue utensils</th>\n",
       "      <th>bathroom essentials</th>\n",
       "      <th>bathtub</th>\n",
       "      <th>bbq grill</th>\n",
       "      <th>...</th>\n",
       "      <th>table corner guards</th>\n",
       "      <th>terrace</th>\n",
       "      <th>tv</th>\n",
       "      <th>walk in closet</th>\n",
       "      <th>washer</th>\n",
       "      <th>waterfront</th>\n",
       "      <th>wet bar</th>\n",
       "      <th>wifi</th>\n",
       "      <th>window guards</th>\n",
       "      <th>wine cooler</th>\n",
       "    </tr>\n",
       "  </thead>\n",
       "  <tbody>\n",
       "    <tr>\n",
       "      <th>0</th>\n",
       "      <td>0</td>\n",
       "      <td>0</td>\n",
       "      <td>0</td>\n",
       "      <td>0</td>\n",
       "      <td>0</td>\n",
       "      <td>0</td>\n",
       "      <td>0</td>\n",
       "      <td>0</td>\n",
       "      <td>0</td>\n",
       "      <td>0</td>\n",
       "      <td>...</td>\n",
       "      <td>0</td>\n",
       "      <td>0</td>\n",
       "      <td>1</td>\n",
       "      <td>0</td>\n",
       "      <td>1</td>\n",
       "      <td>0</td>\n",
       "      <td>0</td>\n",
       "      <td>1</td>\n",
       "      <td>0</td>\n",
       "      <td>0</td>\n",
       "    </tr>\n",
       "    <tr>\n",
       "      <th>1</th>\n",
       "      <td>0</td>\n",
       "      <td>0</td>\n",
       "      <td>0</td>\n",
       "      <td>0</td>\n",
       "      <td>0</td>\n",
       "      <td>0</td>\n",
       "      <td>0</td>\n",
       "      <td>0</td>\n",
       "      <td>0</td>\n",
       "      <td>0</td>\n",
       "      <td>...</td>\n",
       "      <td>0</td>\n",
       "      <td>0</td>\n",
       "      <td>0</td>\n",
       "      <td>0</td>\n",
       "      <td>1</td>\n",
       "      <td>0</td>\n",
       "      <td>0</td>\n",
       "      <td>1</td>\n",
       "      <td>0</td>\n",
       "      <td>0</td>\n",
       "    </tr>\n",
       "    <tr>\n",
       "      <th>2</th>\n",
       "      <td>0</td>\n",
       "      <td>0</td>\n",
       "      <td>0</td>\n",
       "      <td>0</td>\n",
       "      <td>0</td>\n",
       "      <td>0</td>\n",
       "      <td>0</td>\n",
       "      <td>0</td>\n",
       "      <td>0</td>\n",
       "      <td>0</td>\n",
       "      <td>...</td>\n",
       "      <td>0</td>\n",
       "      <td>0</td>\n",
       "      <td>1</td>\n",
       "      <td>0</td>\n",
       "      <td>1</td>\n",
       "      <td>0</td>\n",
       "      <td>0</td>\n",
       "      <td>1</td>\n",
       "      <td>0</td>\n",
       "      <td>0</td>\n",
       "    </tr>\n",
       "    <tr>\n",
       "      <th>3</th>\n",
       "      <td>0</td>\n",
       "      <td>0</td>\n",
       "      <td>0</td>\n",
       "      <td>0</td>\n",
       "      <td>0</td>\n",
       "      <td>0</td>\n",
       "      <td>0</td>\n",
       "      <td>0</td>\n",
       "      <td>0</td>\n",
       "      <td>0</td>\n",
       "      <td>...</td>\n",
       "      <td>0</td>\n",
       "      <td>0</td>\n",
       "      <td>1</td>\n",
       "      <td>0</td>\n",
       "      <td>1</td>\n",
       "      <td>0</td>\n",
       "      <td>0</td>\n",
       "      <td>1</td>\n",
       "      <td>0</td>\n",
       "      <td>0</td>\n",
       "    </tr>\n",
       "    <tr>\n",
       "      <th>4</th>\n",
       "      <td>0</td>\n",
       "      <td>0</td>\n",
       "      <td>0</td>\n",
       "      <td>0</td>\n",
       "      <td>0</td>\n",
       "      <td>0</td>\n",
       "      <td>0</td>\n",
       "      <td>0</td>\n",
       "      <td>0</td>\n",
       "      <td>0</td>\n",
       "      <td>...</td>\n",
       "      <td>0</td>\n",
       "      <td>0</td>\n",
       "      <td>1</td>\n",
       "      <td>0</td>\n",
       "      <td>0</td>\n",
       "      <td>0</td>\n",
       "      <td>0</td>\n",
       "      <td>1</td>\n",
       "      <td>0</td>\n",
       "      <td>0</td>\n",
       "    </tr>\n",
       "    <tr>\n",
       "      <th>...</th>\n",
       "      <td>...</td>\n",
       "      <td>...</td>\n",
       "      <td>...</td>\n",
       "      <td>...</td>\n",
       "      <td>...</td>\n",
       "      <td>...</td>\n",
       "      <td>...</td>\n",
       "      <td>...</td>\n",
       "      <td>...</td>\n",
       "      <td>...</td>\n",
       "      <td>...</td>\n",
       "      <td>...</td>\n",
       "      <td>...</td>\n",
       "      <td>...</td>\n",
       "      <td>...</td>\n",
       "      <td>...</td>\n",
       "      <td>...</td>\n",
       "      <td>...</td>\n",
       "      <td>...</td>\n",
       "      <td>...</td>\n",
       "      <td>...</td>\n",
       "    </tr>\n",
       "    <tr>\n",
       "      <th>6843</th>\n",
       "      <td>0</td>\n",
       "      <td>0</td>\n",
       "      <td>0</td>\n",
       "      <td>0</td>\n",
       "      <td>0</td>\n",
       "      <td>0</td>\n",
       "      <td>0</td>\n",
       "      <td>0</td>\n",
       "      <td>0</td>\n",
       "      <td>0</td>\n",
       "      <td>...</td>\n",
       "      <td>0</td>\n",
       "      <td>0</td>\n",
       "      <td>0</td>\n",
       "      <td>0</td>\n",
       "      <td>1</td>\n",
       "      <td>0</td>\n",
       "      <td>0</td>\n",
       "      <td>1</td>\n",
       "      <td>0</td>\n",
       "      <td>0</td>\n",
       "    </tr>\n",
       "    <tr>\n",
       "      <th>6844</th>\n",
       "      <td>0</td>\n",
       "      <td>0</td>\n",
       "      <td>0</td>\n",
       "      <td>0</td>\n",
       "      <td>0</td>\n",
       "      <td>0</td>\n",
       "      <td>0</td>\n",
       "      <td>0</td>\n",
       "      <td>0</td>\n",
       "      <td>0</td>\n",
       "      <td>...</td>\n",
       "      <td>0</td>\n",
       "      <td>0</td>\n",
       "      <td>1</td>\n",
       "      <td>0</td>\n",
       "      <td>1</td>\n",
       "      <td>0</td>\n",
       "      <td>0</td>\n",
       "      <td>1</td>\n",
       "      <td>0</td>\n",
       "      <td>0</td>\n",
       "    </tr>\n",
       "    <tr>\n",
       "      <th>6845</th>\n",
       "      <td>1</td>\n",
       "      <td>0</td>\n",
       "      <td>0</td>\n",
       "      <td>0</td>\n",
       "      <td>0</td>\n",
       "      <td>0</td>\n",
       "      <td>0</td>\n",
       "      <td>0</td>\n",
       "      <td>0</td>\n",
       "      <td>0</td>\n",
       "      <td>...</td>\n",
       "      <td>0</td>\n",
       "      <td>0</td>\n",
       "      <td>1</td>\n",
       "      <td>0</td>\n",
       "      <td>1</td>\n",
       "      <td>0</td>\n",
       "      <td>0</td>\n",
       "      <td>1</td>\n",
       "      <td>0</td>\n",
       "      <td>0</td>\n",
       "    </tr>\n",
       "    <tr>\n",
       "      <th>6846</th>\n",
       "      <td>1</td>\n",
       "      <td>0</td>\n",
       "      <td>0</td>\n",
       "      <td>0</td>\n",
       "      <td>0</td>\n",
       "      <td>0</td>\n",
       "      <td>1</td>\n",
       "      <td>0</td>\n",
       "      <td>0</td>\n",
       "      <td>1</td>\n",
       "      <td>...</td>\n",
       "      <td>0</td>\n",
       "      <td>0</td>\n",
       "      <td>1</td>\n",
       "      <td>0</td>\n",
       "      <td>1</td>\n",
       "      <td>0</td>\n",
       "      <td>0</td>\n",
       "      <td>1</td>\n",
       "      <td>0</td>\n",
       "      <td>0</td>\n",
       "    </tr>\n",
       "    <tr>\n",
       "      <th>6847</th>\n",
       "      <td>0</td>\n",
       "      <td>0</td>\n",
       "      <td>0</td>\n",
       "      <td>0</td>\n",
       "      <td>0</td>\n",
       "      <td>0</td>\n",
       "      <td>0</td>\n",
       "      <td>0</td>\n",
       "      <td>0</td>\n",
       "      <td>0</td>\n",
       "      <td>...</td>\n",
       "      <td>0</td>\n",
       "      <td>0</td>\n",
       "      <td>1</td>\n",
       "      <td>0</td>\n",
       "      <td>0</td>\n",
       "      <td>0</td>\n",
       "      <td>0</td>\n",
       "      <td>1</td>\n",
       "      <td>0</td>\n",
       "      <td>0</td>\n",
       "    </tr>\n",
       "  </tbody>\n",
       "</table>\n",
       "<p>6848 rows × 115 columns</p>\n",
       "</div>"
      ],
      "text/plain": [
       "      air conditioning  alarm system  baby bath  baby monitor  \\\n",
       "0                    0             0          0             0   \n",
       "1                    0             0          0             0   \n",
       "2                    0             0          0             0   \n",
       "3                    0             0          0             0   \n",
       "4                    0             0          0             0   \n",
       "...                ...           ...        ...           ...   \n",
       "6843                 0             0          0             0   \n",
       "6844                 0             0          0             0   \n",
       "6845                 1             0          0             0   \n",
       "6846                 1             0          0             0   \n",
       "6847                 0             0          0             0   \n",
       "\n",
       "      babysitter recommendations  baking sheet  barbecue utensils  \\\n",
       "0                              0             0                  0   \n",
       "1                              0             0                  0   \n",
       "2                              0             0                  0   \n",
       "3                              0             0                  0   \n",
       "4                              0             0                  0   \n",
       "...                          ...           ...                ...   \n",
       "6843                           0             0                  0   \n",
       "6844                           0             0                  0   \n",
       "6845                           0             0                  0   \n",
       "6846                           0             0                  1   \n",
       "6847                           0             0                  0   \n",
       "\n",
       "      bathroom essentials  bathtub  bbq grill  ...  table corner guards  \\\n",
       "0                       0        0          0  ...                    0   \n",
       "1                       0        0          0  ...                    0   \n",
       "2                       0        0          0  ...                    0   \n",
       "3                       0        0          0  ...                    0   \n",
       "4                       0        0          0  ...                    0   \n",
       "...                   ...      ...        ...  ...                  ...   \n",
       "6843                    0        0          0  ...                    0   \n",
       "6844                    0        0          0  ...                    0   \n",
       "6845                    0        0          0  ...                    0   \n",
       "6846                    0        0          1  ...                    0   \n",
       "6847                    0        0          0  ...                    0   \n",
       "\n",
       "      terrace  tv  walk in closet  washer  waterfront  wet bar  wifi  \\\n",
       "0           0   1               0       1           0        0     1   \n",
       "1           0   0               0       1           0        0     1   \n",
       "2           0   1               0       1           0        0     1   \n",
       "3           0   1               0       1           0        0     1   \n",
       "4           0   1               0       0           0        0     1   \n",
       "...       ...  ..             ...     ...         ...      ...   ...   \n",
       "6843        0   0               0       1           0        0     1   \n",
       "6844        0   1               0       1           0        0     1   \n",
       "6845        0   1               0       1           0        0     1   \n",
       "6846        0   1               0       1           0        0     1   \n",
       "6847        0   1               0       0           0        0     1   \n",
       "\n",
       "      window guards  wine cooler  \n",
       "0                 0            0  \n",
       "1                 0            0  \n",
       "2                 0            0  \n",
       "3                 0            0  \n",
       "4                 0            0  \n",
       "...             ...          ...  \n",
       "6843              0            0  \n",
       "6844              0            0  \n",
       "6845              0            0  \n",
       "6846              0            0  \n",
       "6847              0            0  \n",
       "\n",
       "[6848 rows x 115 columns]"
      ]
     },
     "execution_count": 22,
     "metadata": {},
     "output_type": "execute_result"
    }
   ],
   "source": [
    "df_amenities"
   ]
  },
  {
   "cell_type": "code",
   "execution_count": 23,
   "metadata": {
    "ExecuteTime": {
     "end_time": "2020-10-25T19:43:25.602992Z",
     "start_time": "2020-10-25T19:43:25.558113Z"
    }
   },
   "outputs": [
    {
     "data": {
      "text/html": [
       "<div>\n",
       "<style scoped>\n",
       "    .dataframe tbody tr th:only-of-type {\n",
       "        vertical-align: middle;\n",
       "    }\n",
       "\n",
       "    .dataframe tbody tr th {\n",
       "        vertical-align: top;\n",
       "    }\n",
       "\n",
       "    .dataframe thead th {\n",
       "        text-align: right;\n",
       "    }\n",
       "</style>\n",
       "<table border=\"1\" class=\"dataframe\">\n",
       "  <thead>\n",
       "    <tr style=\"text-align: right;\">\n",
       "      <th></th>\n",
       "      <th>host_response_time</th>\n",
       "      <th>host_response_rate</th>\n",
       "      <th>host_acceptance_rate</th>\n",
       "      <th>host_is_superhost</th>\n",
       "      <th>host_listings_count</th>\n",
       "      <th>neighbourhood_cleansed</th>\n",
       "      <th>property_type</th>\n",
       "      <th>room_type</th>\n",
       "      <th>accommodates</th>\n",
       "      <th>bathrooms</th>\n",
       "      <th>price</th>\n",
       "      <th>review_scores_rating</th>\n",
       "      <th>reviews_per_month</th>\n",
       "      <th>price_log</th>\n",
       "    </tr>\n",
       "  </thead>\n",
       "  <tbody>\n",
       "    <tr>\n",
       "      <th>0</th>\n",
       "      <td>within an hour</td>\n",
       "      <td>1.0</td>\n",
       "      <td>0.99</td>\n",
       "      <td>1</td>\n",
       "      <td>1</td>\n",
       "      <td>Western Addition</td>\n",
       "      <td>Entire apartment</td>\n",
       "      <td>Entire home/apt</td>\n",
       "      <td>3</td>\n",
       "      <td>1.0</td>\n",
       "      <td>132.0</td>\n",
       "      <td>97.0</td>\n",
       "      <td>1.91</td>\n",
       "      <td>4.882802</td>\n",
       "    </tr>\n",
       "    <tr>\n",
       "      <th>1</th>\n",
       "      <td>within a day</td>\n",
       "      <td>0.6</td>\n",
       "      <td>0.83</td>\n",
       "      <td>0</td>\n",
       "      <td>2</td>\n",
       "      <td>Bernal Heights</td>\n",
       "      <td>Entire apartment</td>\n",
       "      <td>Entire home/apt</td>\n",
       "      <td>5</td>\n",
       "      <td>1.0</td>\n",
       "      <td>235.0</td>\n",
       "      <td>98.0</td>\n",
       "      <td>0.81</td>\n",
       "      <td>5.459586</td>\n",
       "    </tr>\n",
       "    <tr>\n",
       "      <th>2</th>\n",
       "      <td>within a few hours</td>\n",
       "      <td>1.0</td>\n",
       "      <td>1.00</td>\n",
       "      <td>0</td>\n",
       "      <td>10</td>\n",
       "      <td>Haight Ashbury</td>\n",
       "      <td>Private room in apartment</td>\n",
       "      <td>Private room</td>\n",
       "      <td>2</td>\n",
       "      <td>4.0</td>\n",
       "      <td>56.0</td>\n",
       "      <td>84.0</td>\n",
       "      <td>0.14</td>\n",
       "      <td>4.025352</td>\n",
       "    </tr>\n",
       "    <tr>\n",
       "      <th>3</th>\n",
       "      <td>within a few hours</td>\n",
       "      <td>1.0</td>\n",
       "      <td>1.00</td>\n",
       "      <td>0</td>\n",
       "      <td>10</td>\n",
       "      <td>Haight Ashbury</td>\n",
       "      <td>Private room in apartment</td>\n",
       "      <td>Private room</td>\n",
       "      <td>2</td>\n",
       "      <td>4.0</td>\n",
       "      <td>56.0</td>\n",
       "      <td>93.0</td>\n",
       "      <td>0.11</td>\n",
       "      <td>4.025352</td>\n",
       "    </tr>\n",
       "    <tr>\n",
       "      <th>5</th>\n",
       "      <td>within an hour</td>\n",
       "      <td>1.0</td>\n",
       "      <td>0.96</td>\n",
       "      <td>1</td>\n",
       "      <td>2</td>\n",
       "      <td>Mission</td>\n",
       "      <td>Private room in condominium</td>\n",
       "      <td>Private room</td>\n",
       "      <td>3</td>\n",
       "      <td>1.0</td>\n",
       "      <td>169.0</td>\n",
       "      <td>98.0</td>\n",
       "      <td>5.47</td>\n",
       "      <td>5.129899</td>\n",
       "    </tr>\n",
       "    <tr>\n",
       "      <th>...</th>\n",
       "      <td>...</td>\n",
       "      <td>...</td>\n",
       "      <td>...</td>\n",
       "      <td>...</td>\n",
       "      <td>...</td>\n",
       "      <td>...</td>\n",
       "      <td>...</td>\n",
       "      <td>...</td>\n",
       "      <td>...</td>\n",
       "      <td>...</td>\n",
       "      <td>...</td>\n",
       "      <td>...</td>\n",
       "      <td>...</td>\n",
       "      <td>...</td>\n",
       "    </tr>\n",
       "    <tr>\n",
       "      <th>7269</th>\n",
       "      <td>within a few hours</td>\n",
       "      <td>1.0</td>\n",
       "      <td>1.00</td>\n",
       "      <td>0</td>\n",
       "      <td>92</td>\n",
       "      <td>Mission</td>\n",
       "      <td>Entire apartment</td>\n",
       "      <td>Entire home/apt</td>\n",
       "      <td>2</td>\n",
       "      <td>1.0</td>\n",
       "      <td>71.0</td>\n",
       "      <td>0.0</td>\n",
       "      <td>0.00</td>\n",
       "      <td>4.262680</td>\n",
       "    </tr>\n",
       "    <tr>\n",
       "      <th>7270</th>\n",
       "      <td>within a few hours</td>\n",
       "      <td>1.0</td>\n",
       "      <td>1.00</td>\n",
       "      <td>0</td>\n",
       "      <td>92</td>\n",
       "      <td>Downtown/Civic Center</td>\n",
       "      <td>Entire apartment</td>\n",
       "      <td>Entire home/apt</td>\n",
       "      <td>2</td>\n",
       "      <td>1.0</td>\n",
       "      <td>62.0</td>\n",
       "      <td>0.0</td>\n",
       "      <td>0.00</td>\n",
       "      <td>4.127134</td>\n",
       "    </tr>\n",
       "    <tr>\n",
       "      <th>7271</th>\n",
       "      <td>-</td>\n",
       "      <td>0.0</td>\n",
       "      <td>0.00</td>\n",
       "      <td>0</td>\n",
       "      <td>0</td>\n",
       "      <td>Lakeshore</td>\n",
       "      <td>Entire townhouse</td>\n",
       "      <td>Entire home/apt</td>\n",
       "      <td>6</td>\n",
       "      <td>3.0</td>\n",
       "      <td>399.0</td>\n",
       "      <td>0.0</td>\n",
       "      <td>0.00</td>\n",
       "      <td>5.988961</td>\n",
       "    </tr>\n",
       "    <tr>\n",
       "      <th>7272</th>\n",
       "      <td>-</td>\n",
       "      <td>0.0</td>\n",
       "      <td>0.00</td>\n",
       "      <td>0</td>\n",
       "      <td>1</td>\n",
       "      <td>South of Market</td>\n",
       "      <td>Private room in apartment</td>\n",
       "      <td>Private room</td>\n",
       "      <td>1</td>\n",
       "      <td>1.0</td>\n",
       "      <td>120.0</td>\n",
       "      <td>0.0</td>\n",
       "      <td>0.00</td>\n",
       "      <td>4.787492</td>\n",
       "    </tr>\n",
       "    <tr>\n",
       "      <th>7273</th>\n",
       "      <td>-</td>\n",
       "      <td>0.0</td>\n",
       "      <td>1.00</td>\n",
       "      <td>1</td>\n",
       "      <td>2</td>\n",
       "      <td>Glen Park</td>\n",
       "      <td>Entire apartment</td>\n",
       "      <td>Entire home/apt</td>\n",
       "      <td>2</td>\n",
       "      <td>1.0</td>\n",
       "      <td>120.0</td>\n",
       "      <td>0.0</td>\n",
       "      <td>0.00</td>\n",
       "      <td>4.787492</td>\n",
       "    </tr>\n",
       "  </tbody>\n",
       "</table>\n",
       "<p>6848 rows × 14 columns</p>\n",
       "</div>"
      ],
      "text/plain": [
       "      host_response_time  host_response_rate  host_acceptance_rate  \\\n",
       "0         within an hour                 1.0                  0.99   \n",
       "1           within a day                 0.6                  0.83   \n",
       "2     within a few hours                 1.0                  1.00   \n",
       "3     within a few hours                 1.0                  1.00   \n",
       "5         within an hour                 1.0                  0.96   \n",
       "...                  ...                 ...                   ...   \n",
       "7269  within a few hours                 1.0                  1.00   \n",
       "7270  within a few hours                 1.0                  1.00   \n",
       "7271                   -                 0.0                  0.00   \n",
       "7272                   -                 0.0                  0.00   \n",
       "7273                   -                 0.0                  1.00   \n",
       "\n",
       "      host_is_superhost  host_listings_count neighbourhood_cleansed  \\\n",
       "0                     1                    1       Western Addition   \n",
       "1                     0                    2         Bernal Heights   \n",
       "2                     0                   10         Haight Ashbury   \n",
       "3                     0                   10         Haight Ashbury   \n",
       "5                     1                    2                Mission   \n",
       "...                 ...                  ...                    ...   \n",
       "7269                  0                   92                Mission   \n",
       "7270                  0                   92  Downtown/Civic Center   \n",
       "7271                  0                    0              Lakeshore   \n",
       "7272                  0                    1        South of Market   \n",
       "7273                  1                    2              Glen Park   \n",
       "\n",
       "                    property_type        room_type  accommodates  bathrooms  \\\n",
       "0                Entire apartment  Entire home/apt             3        1.0   \n",
       "1                Entire apartment  Entire home/apt             5        1.0   \n",
       "2       Private room in apartment     Private room             2        4.0   \n",
       "3       Private room in apartment     Private room             2        4.0   \n",
       "5     Private room in condominium     Private room             3        1.0   \n",
       "...                           ...              ...           ...        ...   \n",
       "7269             Entire apartment  Entire home/apt             2        1.0   \n",
       "7270             Entire apartment  Entire home/apt             2        1.0   \n",
       "7271             Entire townhouse  Entire home/apt             6        3.0   \n",
       "7272    Private room in apartment     Private room             1        1.0   \n",
       "7273             Entire apartment  Entire home/apt             2        1.0   \n",
       "\n",
       "      price  review_scores_rating  reviews_per_month  price_log  \n",
       "0     132.0                  97.0               1.91   4.882802  \n",
       "1     235.0                  98.0               0.81   5.459586  \n",
       "2      56.0                  84.0               0.14   4.025352  \n",
       "3      56.0                  93.0               0.11   4.025352  \n",
       "5     169.0                  98.0               5.47   5.129899  \n",
       "...     ...                   ...                ...        ...  \n",
       "7269   71.0                   0.0               0.00   4.262680  \n",
       "7270   62.0                   0.0               0.00   4.127134  \n",
       "7271  399.0                   0.0               0.00   5.988961  \n",
       "7272  120.0                   0.0               0.00   4.787492  \n",
       "7273  120.0                   0.0               0.00   4.787492  \n",
       "\n",
       "[6848 rows x 14 columns]"
      ]
     },
     "execution_count": 23,
     "metadata": {},
     "output_type": "execute_result"
    }
   ],
   "source": [
    "new_SF_df_wo_amenity_df = new_SF_df.drop(columns=['amenities'])\n",
    "new_SF_df_wo_amenity_df"
   ]
  },
  {
   "cell_type": "code",
   "execution_count": 24,
   "metadata": {
    "ExecuteTime": {
     "end_time": "2020-10-25T19:43:25.661834Z",
     "start_time": "2020-10-25T19:43:25.607979Z"
    }
   },
   "outputs": [
    {
     "data": {
      "text/html": [
       "<div>\n",
       "<style scoped>\n",
       "    .dataframe tbody tr th:only-of-type {\n",
       "        vertical-align: middle;\n",
       "    }\n",
       "\n",
       "    .dataframe tbody tr th {\n",
       "        vertical-align: top;\n",
       "    }\n",
       "\n",
       "    .dataframe thead th {\n",
       "        text-align: right;\n",
       "    }\n",
       "</style>\n",
       "<table border=\"1\" class=\"dataframe\">\n",
       "  <thead>\n",
       "    <tr style=\"text-align: right;\">\n",
       "      <th></th>\n",
       "      <th>host_response_time</th>\n",
       "      <th>host_response_rate</th>\n",
       "      <th>host_acceptance_rate</th>\n",
       "      <th>host_is_superhost</th>\n",
       "      <th>host_listings_count</th>\n",
       "      <th>neighbourhood_cleansed</th>\n",
       "      <th>property_type</th>\n",
       "      <th>room_type</th>\n",
       "      <th>accommodates</th>\n",
       "      <th>bathrooms</th>\n",
       "      <th>price</th>\n",
       "      <th>review_scores_rating</th>\n",
       "      <th>reviews_per_month</th>\n",
       "      <th>price_log</th>\n",
       "    </tr>\n",
       "  </thead>\n",
       "  <tbody>\n",
       "    <tr>\n",
       "      <th>0</th>\n",
       "      <td>4</td>\n",
       "      <td>1.0</td>\n",
       "      <td>0.99</td>\n",
       "      <td>1</td>\n",
       "      <td>1</td>\n",
       "      <td>36</td>\n",
       "      <td>3</td>\n",
       "      <td>0</td>\n",
       "      <td>3</td>\n",
       "      <td>1.0</td>\n",
       "      <td>132.0</td>\n",
       "      <td>97.0</td>\n",
       "      <td>1.91</td>\n",
       "      <td>4.882802</td>\n",
       "    </tr>\n",
       "    <tr>\n",
       "      <th>1</th>\n",
       "      <td>2</td>\n",
       "      <td>0.6</td>\n",
       "      <td>0.83</td>\n",
       "      <td>0</td>\n",
       "      <td>2</td>\n",
       "      <td>1</td>\n",
       "      <td>3</td>\n",
       "      <td>0</td>\n",
       "      <td>5</td>\n",
       "      <td>1.0</td>\n",
       "      <td>235.0</td>\n",
       "      <td>98.0</td>\n",
       "      <td>0.81</td>\n",
       "      <td>5.459586</td>\n",
       "    </tr>\n",
       "    <tr>\n",
       "      <th>2</th>\n",
       "      <td>3</td>\n",
       "      <td>1.0</td>\n",
       "      <td>1.00</td>\n",
       "      <td>0</td>\n",
       "      <td>10</td>\n",
       "      <td>11</td>\n",
       "      <td>19</td>\n",
       "      <td>2</td>\n",
       "      <td>2</td>\n",
       "      <td>4.0</td>\n",
       "      <td>56.0</td>\n",
       "      <td>84.0</td>\n",
       "      <td>0.14</td>\n",
       "      <td>4.025352</td>\n",
       "    </tr>\n",
       "    <tr>\n",
       "      <th>3</th>\n",
       "      <td>3</td>\n",
       "      <td>1.0</td>\n",
       "      <td>1.00</td>\n",
       "      <td>0</td>\n",
       "      <td>10</td>\n",
       "      <td>11</td>\n",
       "      <td>19</td>\n",
       "      <td>2</td>\n",
       "      <td>2</td>\n",
       "      <td>4.0</td>\n",
       "      <td>56.0</td>\n",
       "      <td>93.0</td>\n",
       "      <td>0.11</td>\n",
       "      <td>4.025352</td>\n",
       "    </tr>\n",
       "    <tr>\n",
       "      <th>5</th>\n",
       "      <td>4</td>\n",
       "      <td>1.0</td>\n",
       "      <td>0.96</td>\n",
       "      <td>1</td>\n",
       "      <td>2</td>\n",
       "      <td>16</td>\n",
       "      <td>24</td>\n",
       "      <td>2</td>\n",
       "      <td>3</td>\n",
       "      <td>1.0</td>\n",
       "      <td>169.0</td>\n",
       "      <td>98.0</td>\n",
       "      <td>5.47</td>\n",
       "      <td>5.129899</td>\n",
       "    </tr>\n",
       "    <tr>\n",
       "      <th>...</th>\n",
       "      <td>...</td>\n",
       "      <td>...</td>\n",
       "      <td>...</td>\n",
       "      <td>...</td>\n",
       "      <td>...</td>\n",
       "      <td>...</td>\n",
       "      <td>...</td>\n",
       "      <td>...</td>\n",
       "      <td>...</td>\n",
       "      <td>...</td>\n",
       "      <td>...</td>\n",
       "      <td>...</td>\n",
       "      <td>...</td>\n",
       "      <td>...</td>\n",
       "    </tr>\n",
       "    <tr>\n",
       "      <th>7269</th>\n",
       "      <td>3</td>\n",
       "      <td>1.0</td>\n",
       "      <td>1.00</td>\n",
       "      <td>0</td>\n",
       "      <td>92</td>\n",
       "      <td>16</td>\n",
       "      <td>3</td>\n",
       "      <td>0</td>\n",
       "      <td>2</td>\n",
       "      <td>1.0</td>\n",
       "      <td>71.0</td>\n",
       "      <td>0.0</td>\n",
       "      <td>0.00</td>\n",
       "      <td>4.262680</td>\n",
       "    </tr>\n",
       "    <tr>\n",
       "      <th>7270</th>\n",
       "      <td>3</td>\n",
       "      <td>1.0</td>\n",
       "      <td>1.00</td>\n",
       "      <td>0</td>\n",
       "      <td>92</td>\n",
       "      <td>6</td>\n",
       "      <td>3</td>\n",
       "      <td>0</td>\n",
       "      <td>2</td>\n",
       "      <td>1.0</td>\n",
       "      <td>62.0</td>\n",
       "      <td>0.0</td>\n",
       "      <td>0.00</td>\n",
       "      <td>4.127134</td>\n",
       "    </tr>\n",
       "    <tr>\n",
       "      <th>7271</th>\n",
       "      <td>0</td>\n",
       "      <td>0.0</td>\n",
       "      <td>0.00</td>\n",
       "      <td>0</td>\n",
       "      <td>0</td>\n",
       "      <td>14</td>\n",
       "      <td>16</td>\n",
       "      <td>0</td>\n",
       "      <td>6</td>\n",
       "      <td>3.0</td>\n",
       "      <td>399.0</td>\n",
       "      <td>0.0</td>\n",
       "      <td>0.00</td>\n",
       "      <td>5.988961</td>\n",
       "    </tr>\n",
       "    <tr>\n",
       "      <th>7272</th>\n",
       "      <td>0</td>\n",
       "      <td>0.0</td>\n",
       "      <td>0.00</td>\n",
       "      <td>0</td>\n",
       "      <td>1</td>\n",
       "      <td>31</td>\n",
       "      <td>19</td>\n",
       "      <td>2</td>\n",
       "      <td>1</td>\n",
       "      <td>1.0</td>\n",
       "      <td>120.0</td>\n",
       "      <td>0.0</td>\n",
       "      <td>0.00</td>\n",
       "      <td>4.787492</td>\n",
       "    </tr>\n",
       "    <tr>\n",
       "      <th>7273</th>\n",
       "      <td>0</td>\n",
       "      <td>0.0</td>\n",
       "      <td>1.00</td>\n",
       "      <td>1</td>\n",
       "      <td>2</td>\n",
       "      <td>9</td>\n",
       "      <td>3</td>\n",
       "      <td>0</td>\n",
       "      <td>2</td>\n",
       "      <td>1.0</td>\n",
       "      <td>120.0</td>\n",
       "      <td>0.0</td>\n",
       "      <td>0.00</td>\n",
       "      <td>4.787492</td>\n",
       "    </tr>\n",
       "  </tbody>\n",
       "</table>\n",
       "<p>6848 rows × 14 columns</p>\n",
       "</div>"
      ],
      "text/plain": [
       "      host_response_time  host_response_rate  host_acceptance_rate  \\\n",
       "0                      4                 1.0                  0.99   \n",
       "1                      2                 0.6                  0.83   \n",
       "2                      3                 1.0                  1.00   \n",
       "3                      3                 1.0                  1.00   \n",
       "5                      4                 1.0                  0.96   \n",
       "...                  ...                 ...                   ...   \n",
       "7269                   3                 1.0                  1.00   \n",
       "7270                   3                 1.0                  1.00   \n",
       "7271                   0                 0.0                  0.00   \n",
       "7272                   0                 0.0                  0.00   \n",
       "7273                   0                 0.0                  1.00   \n",
       "\n",
       "      host_is_superhost  host_listings_count  neighbourhood_cleansed  \\\n",
       "0                     1                    1                      36   \n",
       "1                     0                    2                       1   \n",
       "2                     0                   10                      11   \n",
       "3                     0                   10                      11   \n",
       "5                     1                    2                      16   \n",
       "...                 ...                  ...                     ...   \n",
       "7269                  0                   92                      16   \n",
       "7270                  0                   92                       6   \n",
       "7271                  0                    0                      14   \n",
       "7272                  0                    1                      31   \n",
       "7273                  1                    2                       9   \n",
       "\n",
       "      property_type  room_type  accommodates  bathrooms  price  \\\n",
       "0                 3          0             3        1.0  132.0   \n",
       "1                 3          0             5        1.0  235.0   \n",
       "2                19          2             2        4.0   56.0   \n",
       "3                19          2             2        4.0   56.0   \n",
       "5                24          2             3        1.0  169.0   \n",
       "...             ...        ...           ...        ...    ...   \n",
       "7269              3          0             2        1.0   71.0   \n",
       "7270              3          0             2        1.0   62.0   \n",
       "7271             16          0             6        3.0  399.0   \n",
       "7272             19          2             1        1.0  120.0   \n",
       "7273              3          0             2        1.0  120.0   \n",
       "\n",
       "      review_scores_rating  reviews_per_month  price_log  \n",
       "0                     97.0               1.91   4.882802  \n",
       "1                     98.0               0.81   5.459586  \n",
       "2                     84.0               0.14   4.025352  \n",
       "3                     93.0               0.11   4.025352  \n",
       "5                     98.0               5.47   5.129899  \n",
       "...                    ...                ...        ...  \n",
       "7269                   0.0               0.00   4.262680  \n",
       "7270                   0.0               0.00   4.127134  \n",
       "7271                   0.0               0.00   5.988961  \n",
       "7272                   0.0               0.00   4.787492  \n",
       "7273                   0.0               0.00   4.787492  \n",
       "\n",
       "[6848 rows x 14 columns]"
      ]
     },
     "execution_count": 24,
     "metadata": {},
     "output_type": "execute_result"
    }
   ],
   "source": [
    "from sklearn import preprocessing\n",
    "for column in new_SF_df_wo_amenity_df.columns:\n",
    "    if new_SF_df_wo_amenity_df[column].dtype == type(object):\n",
    "        le = preprocessing.LabelEncoder()\n",
    "        new_SF_df_wo_amenity_df[column] = le.fit_transform(new_SF_df_wo_amenity_df[column])\n",
    "        \n",
    "new_SF_df_wo_amenity_df"
   ]
  },
  {
   "cell_type": "code",
   "execution_count": 25,
   "metadata": {
    "ExecuteTime": {
     "end_time": "2020-10-25T19:43:25.705718Z",
     "start_time": "2020-10-25T19:43:25.663830Z"
    }
   },
   "outputs": [
    {
     "data": {
      "text/html": [
       "<div>\n",
       "<style scoped>\n",
       "    .dataframe tbody tr th:only-of-type {\n",
       "        vertical-align: middle;\n",
       "    }\n",
       "\n",
       "    .dataframe tbody tr th {\n",
       "        vertical-align: top;\n",
       "    }\n",
       "\n",
       "    .dataframe thead th {\n",
       "        text-align: right;\n",
       "    }\n",
       "</style>\n",
       "<table border=\"1\" class=\"dataframe\">\n",
       "  <thead>\n",
       "    <tr style=\"text-align: right;\">\n",
       "      <th></th>\n",
       "      <th>host_response_time</th>\n",
       "      <th>host_response_rate</th>\n",
       "      <th>host_acceptance_rate</th>\n",
       "      <th>host_is_superhost</th>\n",
       "      <th>host_listings_count</th>\n",
       "      <th>neighbourhood_cleansed</th>\n",
       "      <th>property_type</th>\n",
       "      <th>room_type</th>\n",
       "      <th>accommodates</th>\n",
       "      <th>bathrooms</th>\n",
       "      <th>...</th>\n",
       "      <th>table corner guards</th>\n",
       "      <th>terrace</th>\n",
       "      <th>tv</th>\n",
       "      <th>walk in closet</th>\n",
       "      <th>washer</th>\n",
       "      <th>waterfront</th>\n",
       "      <th>wet bar</th>\n",
       "      <th>wifi</th>\n",
       "      <th>window guards</th>\n",
       "      <th>wine cooler</th>\n",
       "    </tr>\n",
       "  </thead>\n",
       "  <tbody>\n",
       "    <tr>\n",
       "      <th>0</th>\n",
       "      <td>4</td>\n",
       "      <td>1.0</td>\n",
       "      <td>0.99</td>\n",
       "      <td>1</td>\n",
       "      <td>1</td>\n",
       "      <td>36</td>\n",
       "      <td>3</td>\n",
       "      <td>0</td>\n",
       "      <td>3</td>\n",
       "      <td>1.0</td>\n",
       "      <td>...</td>\n",
       "      <td>0</td>\n",
       "      <td>0</td>\n",
       "      <td>1</td>\n",
       "      <td>0</td>\n",
       "      <td>1</td>\n",
       "      <td>0</td>\n",
       "      <td>0</td>\n",
       "      <td>1</td>\n",
       "      <td>0</td>\n",
       "      <td>0</td>\n",
       "    </tr>\n",
       "    <tr>\n",
       "      <th>1</th>\n",
       "      <td>2</td>\n",
       "      <td>0.6</td>\n",
       "      <td>0.83</td>\n",
       "      <td>0</td>\n",
       "      <td>2</td>\n",
       "      <td>1</td>\n",
       "      <td>3</td>\n",
       "      <td>0</td>\n",
       "      <td>5</td>\n",
       "      <td>1.0</td>\n",
       "      <td>...</td>\n",
       "      <td>0</td>\n",
       "      <td>0</td>\n",
       "      <td>0</td>\n",
       "      <td>0</td>\n",
       "      <td>1</td>\n",
       "      <td>0</td>\n",
       "      <td>0</td>\n",
       "      <td>1</td>\n",
       "      <td>0</td>\n",
       "      <td>0</td>\n",
       "    </tr>\n",
       "    <tr>\n",
       "      <th>2</th>\n",
       "      <td>3</td>\n",
       "      <td>1.0</td>\n",
       "      <td>1.00</td>\n",
       "      <td>0</td>\n",
       "      <td>10</td>\n",
       "      <td>11</td>\n",
       "      <td>19</td>\n",
       "      <td>2</td>\n",
       "      <td>2</td>\n",
       "      <td>4.0</td>\n",
       "      <td>...</td>\n",
       "      <td>0</td>\n",
       "      <td>0</td>\n",
       "      <td>1</td>\n",
       "      <td>0</td>\n",
       "      <td>1</td>\n",
       "      <td>0</td>\n",
       "      <td>0</td>\n",
       "      <td>1</td>\n",
       "      <td>0</td>\n",
       "      <td>0</td>\n",
       "    </tr>\n",
       "    <tr>\n",
       "      <th>3</th>\n",
       "      <td>3</td>\n",
       "      <td>1.0</td>\n",
       "      <td>1.00</td>\n",
       "      <td>0</td>\n",
       "      <td>10</td>\n",
       "      <td>11</td>\n",
       "      <td>19</td>\n",
       "      <td>2</td>\n",
       "      <td>2</td>\n",
       "      <td>4.0</td>\n",
       "      <td>...</td>\n",
       "      <td>0</td>\n",
       "      <td>0</td>\n",
       "      <td>1</td>\n",
       "      <td>0</td>\n",
       "      <td>1</td>\n",
       "      <td>0</td>\n",
       "      <td>0</td>\n",
       "      <td>1</td>\n",
       "      <td>0</td>\n",
       "      <td>0</td>\n",
       "    </tr>\n",
       "    <tr>\n",
       "      <th>5</th>\n",
       "      <td>4</td>\n",
       "      <td>1.0</td>\n",
       "      <td>0.96</td>\n",
       "      <td>1</td>\n",
       "      <td>2</td>\n",
       "      <td>16</td>\n",
       "      <td>24</td>\n",
       "      <td>2</td>\n",
       "      <td>3</td>\n",
       "      <td>1.0</td>\n",
       "      <td>...</td>\n",
       "      <td>0</td>\n",
       "      <td>0</td>\n",
       "      <td>1</td>\n",
       "      <td>0</td>\n",
       "      <td>1</td>\n",
       "      <td>0</td>\n",
       "      <td>0</td>\n",
       "      <td>1</td>\n",
       "      <td>0</td>\n",
       "      <td>0</td>\n",
       "    </tr>\n",
       "  </tbody>\n",
       "</table>\n",
       "<p>5 rows × 129 columns</p>\n",
       "</div>"
      ],
      "text/plain": [
       "   host_response_time  host_response_rate  host_acceptance_rate  \\\n",
       "0                   4                 1.0                  0.99   \n",
       "1                   2                 0.6                  0.83   \n",
       "2                   3                 1.0                  1.00   \n",
       "3                   3                 1.0                  1.00   \n",
       "5                   4                 1.0                  0.96   \n",
       "\n",
       "   host_is_superhost  host_listings_count  neighbourhood_cleansed  \\\n",
       "0                  1                    1                      36   \n",
       "1                  0                    2                       1   \n",
       "2                  0                   10                      11   \n",
       "3                  0                   10                      11   \n",
       "5                  1                    2                      16   \n",
       "\n",
       "   property_type  room_type  accommodates  bathrooms  ...  \\\n",
       "0              3          0             3        1.0  ...   \n",
       "1              3          0             5        1.0  ...   \n",
       "2             19          2             2        4.0  ...   \n",
       "3             19          2             2        4.0  ...   \n",
       "5             24          2             3        1.0  ...   \n",
       "\n",
       "   table corner guards  terrace  tv  walk in closet  washer  waterfront  \\\n",
       "0                    0        0   1               0       1           0   \n",
       "1                    0        0   0               0       1           0   \n",
       "2                    0        0   1               0       1           0   \n",
       "3                    0        0   1               0       1           0   \n",
       "5                    0        0   1               0       1           0   \n",
       "\n",
       "   wet bar  wifi  window guards  wine cooler  \n",
       "0        0     1              0            0  \n",
       "1        0     1              0            0  \n",
       "2        0     1              0            0  \n",
       "3        0     1              0            0  \n",
       "5        0     1              0            0  \n",
       "\n",
       "[5 rows x 129 columns]"
      ]
     },
     "execution_count": 25,
     "metadata": {},
     "output_type": "execute_result"
    }
   ],
   "source": [
    "listings_new = pd.concat([new_SF_df_wo_amenity_df, df_amenities], axis=1, join='inner')\n",
    "listings_new.head()"
   ]
  },
  {
   "cell_type": "code",
   "execution_count": 26,
   "metadata": {
    "ExecuteTime": {
     "end_time": "2020-10-25T19:43:25.735641Z",
     "start_time": "2020-10-25T19:43:25.707712Z"
    }
   },
   "outputs": [
    {
     "name": "stdout",
     "output_type": "stream",
     "text": [
      "<class 'pandas.core.frame.DataFrame'>\n",
      "Int64Index: 6465 entries, 0 to 6847\n",
      "Columns: 129 entries, host_response_time to wine cooler\n",
      "dtypes: float64(7), int32(5), int64(117)\n",
      "memory usage: 6.3 MB\n"
     ]
    }
   ],
   "source": [
    "listings_new.info()"
   ]
  },
  {
   "cell_type": "markdown",
   "metadata": {},
   "source": [
    "## Converting bool to numeric"
   ]
  },
  {
   "cell_type": "code",
   "execution_count": 27,
   "metadata": {
    "ExecuteTime": {
     "end_time": "2020-10-25T19:43:25.801462Z",
     "start_time": "2020-10-25T19:43:25.737633Z"
    }
   },
   "outputs": [
    {
     "data": {
      "text/html": [
       "<div>\n",
       "<style scoped>\n",
       "    .dataframe tbody tr th:only-of-type {\n",
       "        vertical-align: middle;\n",
       "    }\n",
       "\n",
       "    .dataframe tbody tr th {\n",
       "        vertical-align: top;\n",
       "    }\n",
       "\n",
       "    .dataframe thead th {\n",
       "        text-align: right;\n",
       "    }\n",
       "</style>\n",
       "<table border=\"1\" class=\"dataframe\">\n",
       "  <thead>\n",
       "    <tr style=\"text-align: right;\">\n",
       "      <th></th>\n",
       "      <th>host_response_time</th>\n",
       "      <th>host_response_rate</th>\n",
       "      <th>host_acceptance_rate</th>\n",
       "      <th>host_is_superhost</th>\n",
       "      <th>host_listings_count</th>\n",
       "      <th>neighbourhood_cleansed</th>\n",
       "      <th>property_type</th>\n",
       "      <th>room_type</th>\n",
       "      <th>accommodates</th>\n",
       "      <th>bathrooms</th>\n",
       "      <th>...</th>\n",
       "      <th>table corner guards</th>\n",
       "      <th>terrace</th>\n",
       "      <th>tv</th>\n",
       "      <th>walk in closet</th>\n",
       "      <th>washer</th>\n",
       "      <th>waterfront</th>\n",
       "      <th>wet bar</th>\n",
       "      <th>wifi</th>\n",
       "      <th>window guards</th>\n",
       "      <th>wine cooler</th>\n",
       "    </tr>\n",
       "  </thead>\n",
       "  <tbody>\n",
       "    <tr>\n",
       "      <th>0</th>\n",
       "      <td>4</td>\n",
       "      <td>1.0</td>\n",
       "      <td>0.99</td>\n",
       "      <td>1</td>\n",
       "      <td>1</td>\n",
       "      <td>36</td>\n",
       "      <td>3</td>\n",
       "      <td>0</td>\n",
       "      <td>3</td>\n",
       "      <td>1.0</td>\n",
       "      <td>...</td>\n",
       "      <td>0</td>\n",
       "      <td>0</td>\n",
       "      <td>1</td>\n",
       "      <td>0</td>\n",
       "      <td>1</td>\n",
       "      <td>0</td>\n",
       "      <td>0</td>\n",
       "      <td>1</td>\n",
       "      <td>0</td>\n",
       "      <td>0</td>\n",
       "    </tr>\n",
       "    <tr>\n",
       "      <th>1</th>\n",
       "      <td>2</td>\n",
       "      <td>0.6</td>\n",
       "      <td>0.83</td>\n",
       "      <td>0</td>\n",
       "      <td>2</td>\n",
       "      <td>1</td>\n",
       "      <td>3</td>\n",
       "      <td>0</td>\n",
       "      <td>5</td>\n",
       "      <td>1.0</td>\n",
       "      <td>...</td>\n",
       "      <td>0</td>\n",
       "      <td>0</td>\n",
       "      <td>0</td>\n",
       "      <td>0</td>\n",
       "      <td>1</td>\n",
       "      <td>0</td>\n",
       "      <td>0</td>\n",
       "      <td>1</td>\n",
       "      <td>0</td>\n",
       "      <td>0</td>\n",
       "    </tr>\n",
       "    <tr>\n",
       "      <th>2</th>\n",
       "      <td>3</td>\n",
       "      <td>1.0</td>\n",
       "      <td>1.00</td>\n",
       "      <td>0</td>\n",
       "      <td>10</td>\n",
       "      <td>11</td>\n",
       "      <td>19</td>\n",
       "      <td>2</td>\n",
       "      <td>2</td>\n",
       "      <td>4.0</td>\n",
       "      <td>...</td>\n",
       "      <td>0</td>\n",
       "      <td>0</td>\n",
       "      <td>1</td>\n",
       "      <td>0</td>\n",
       "      <td>1</td>\n",
       "      <td>0</td>\n",
       "      <td>0</td>\n",
       "      <td>1</td>\n",
       "      <td>0</td>\n",
       "      <td>0</td>\n",
       "    </tr>\n",
       "    <tr>\n",
       "      <th>3</th>\n",
       "      <td>3</td>\n",
       "      <td>1.0</td>\n",
       "      <td>1.00</td>\n",
       "      <td>0</td>\n",
       "      <td>10</td>\n",
       "      <td>11</td>\n",
       "      <td>19</td>\n",
       "      <td>2</td>\n",
       "      <td>2</td>\n",
       "      <td>4.0</td>\n",
       "      <td>...</td>\n",
       "      <td>0</td>\n",
       "      <td>0</td>\n",
       "      <td>1</td>\n",
       "      <td>0</td>\n",
       "      <td>1</td>\n",
       "      <td>0</td>\n",
       "      <td>0</td>\n",
       "      <td>1</td>\n",
       "      <td>0</td>\n",
       "      <td>0</td>\n",
       "    </tr>\n",
       "    <tr>\n",
       "      <th>5</th>\n",
       "      <td>4</td>\n",
       "      <td>1.0</td>\n",
       "      <td>0.96</td>\n",
       "      <td>1</td>\n",
       "      <td>2</td>\n",
       "      <td>16</td>\n",
       "      <td>24</td>\n",
       "      <td>2</td>\n",
       "      <td>3</td>\n",
       "      <td>1.0</td>\n",
       "      <td>...</td>\n",
       "      <td>0</td>\n",
       "      <td>0</td>\n",
       "      <td>1</td>\n",
       "      <td>0</td>\n",
       "      <td>1</td>\n",
       "      <td>0</td>\n",
       "      <td>0</td>\n",
       "      <td>1</td>\n",
       "      <td>0</td>\n",
       "      <td>0</td>\n",
       "    </tr>\n",
       "  </tbody>\n",
       "</table>\n",
       "<p>5 rows × 129 columns</p>\n",
       "</div>"
      ],
      "text/plain": [
       "   host_response_time  host_response_rate  host_acceptance_rate  \\\n",
       "0                   4                 1.0                  0.99   \n",
       "1                   2                 0.6                  0.83   \n",
       "2                   3                 1.0                  1.00   \n",
       "3                   3                 1.0                  1.00   \n",
       "5                   4                 1.0                  0.96   \n",
       "\n",
       "   host_is_superhost  host_listings_count  neighbourhood_cleansed  \\\n",
       "0                  1                    1                      36   \n",
       "1                  0                    2                       1   \n",
       "2                  0                   10                      11   \n",
       "3                  0                   10                      11   \n",
       "5                  1                    2                      16   \n",
       "\n",
       "   property_type  room_type  accommodates  bathrooms  ...  \\\n",
       "0              3          0             3        1.0  ...   \n",
       "1              3          0             5        1.0  ...   \n",
       "2             19          2             2        4.0  ...   \n",
       "3             19          2             2        4.0  ...   \n",
       "5             24          2             3        1.0  ...   \n",
       "\n",
       "   table corner guards  terrace  tv  walk in closet  washer  waterfront  \\\n",
       "0                    0        0   1               0       1           0   \n",
       "1                    0        0   0               0       1           0   \n",
       "2                    0        0   1               0       1           0   \n",
       "3                    0        0   1               0       1           0   \n",
       "5                    0        0   1               0       1           0   \n",
       "\n",
       "   wet bar  wifi  window guards  wine cooler  \n",
       "0        0     1              0            0  \n",
       "1        0     1              0            0  \n",
       "2        0     1              0            0  \n",
       "3        0     1              0            0  \n",
       "5        0     1              0            0  \n",
       "\n",
       "[5 rows x 129 columns]"
      ]
     },
     "execution_count": 27,
     "metadata": {},
     "output_type": "execute_result"
    }
   ],
   "source": [
    "listings_new.to_pickle('listings_for_analysis_with_labelencoder_corr_pvalue.pkl')\n",
    "\n",
    "\n",
    "pickle_listings_new_df = pd.read_pickle('listings_for_analysis_with_labelencoder_corr_pvalue.pkl')\n",
    "pickle_listings_new_df.head(5)"
   ]
  },
  {
   "cell_type": "markdown",
   "metadata": {
    "ExecuteTime": {
     "end_time": "2020-09-25T21:26:48.820835Z",
     "start_time": "2020-09-25T21:26:48.816846Z"
    }
   },
   "source": [
    "# Train/Test split"
   ]
  },
  {
   "cell_type": "code",
   "execution_count": 28,
   "metadata": {
    "ExecuteTime": {
     "end_time": "2020-10-25T19:43:25.868283Z",
     "start_time": "2020-10-25T19:43:25.803458Z"
    }
   },
   "outputs": [],
   "source": [
    "from sklearn.model_selection import train_test_split\n",
    "y = listings_new['price'] # target/dependent variable\n",
    "x = listings_new.drop(['price','price_log'], axis =1) # independent variables\n",
    "\n",
    "X_train, X_test, y_train, y_test = train_test_split(x, y, test_size = 0.25, random_state=1)"
   ]
  },
  {
   "cell_type": "markdown",
   "metadata": {
    "ExecuteTime": {
     "end_time": "2020-09-25T21:26:48.820835Z",
     "start_time": "2020-09-25T21:26:48.816846Z"
    }
   },
   "source": [
    "# Random Forest"
   ]
  },
  {
   "cell_type": "markdown",
   "metadata": {
    "ExecuteTime": {
     "end_time": "2020-09-25T21:26:48.820835Z",
     "start_time": "2020-09-25T21:26:48.816846Z"
    }
   },
   "source": [
    "## Train/Test w Random Forest Algorithm"
   ]
  },
  {
   "cell_type": "code",
   "execution_count": 29,
   "metadata": {
    "ExecuteTime": {
     "end_time": "2020-10-25T19:43:45.487441Z",
     "start_time": "2020-10-25T19:43:25.870278Z"
    }
   },
   "outputs": [
    {
     "name": "stdout",
     "output_type": "stream",
     "text": [
      "RMSE test: 79.563\n",
      "R^2 test: 0.460\n"
     ]
    }
   ],
   "source": [
    "from sklearn.metrics import r2_score\n",
    "from sklearn.metrics import mean_squared_error\n",
    "from sklearn.ensemble import RandomForestRegressor\n",
    "\n",
    "\n",
    "rf = RandomForestRegressor(n_estimators=500, \n",
    "                               criterion='mse', \n",
    "                               random_state=3, \n",
    "                               n_jobs=-1)\n",
    "rf.fit(X_train, y_train)\n",
    "y_train_pred = rf.predict(X_train)\n",
    "y_test_pred = rf.predict(X_test)\n",
    "rmse_rf= (mean_squared_error(y_test,y_test_pred))**(1/2)\n",
    "\n",
    "print('RMSE test: %.3f' % rmse_rf)\n",
    "print('R^2 test: %.3f' % (r2_score(y_test, y_test_pred)))"
   ]
  },
  {
   "cell_type": "markdown",
   "metadata": {
    "ExecuteTime": {
     "end_time": "2020-09-25T21:26:48.820835Z",
     "start_time": "2020-09-25T21:26:48.816846Z"
    }
   },
   "source": [
    "## Feature Importance of Random Forest Algorithm"
   ]
  },
  {
   "cell_type": "code",
   "execution_count": 30,
   "metadata": {
    "ExecuteTime": {
     "end_time": "2020-10-25T19:43:45.726800Z",
     "start_time": "2020-10-25T19:43:45.490433Z"
    },
    "scrolled": false
   },
   "outputs": [
    {
     "data": {
      "text/html": [
       "<div>\n",
       "<style scoped>\n",
       "    .dataframe tbody tr th:only-of-type {\n",
       "        vertical-align: middle;\n",
       "    }\n",
       "\n",
       "    .dataframe tbody tr th {\n",
       "        vertical-align: top;\n",
       "    }\n",
       "\n",
       "    .dataframe thead th {\n",
       "        text-align: right;\n",
       "    }\n",
       "</style>\n",
       "<table border=\"1\" class=\"dataframe\">\n",
       "  <thead>\n",
       "    <tr style=\"text-align: right;\">\n",
       "      <th></th>\n",
       "      <th>feature</th>\n",
       "      <th>coefs</th>\n",
       "    </tr>\n",
       "  </thead>\n",
       "  <tbody>\n",
       "    <tr>\n",
       "      <th>8</th>\n",
       "      <td>accommodates</td>\n",
       "      <td>0.303619</td>\n",
       "    </tr>\n",
       "    <tr>\n",
       "      <th>9</th>\n",
       "      <td>bathrooms</td>\n",
       "      <td>0.082336</td>\n",
       "    </tr>\n",
       "    <tr>\n",
       "      <th>4</th>\n",
       "      <td>host_listings_count</td>\n",
       "      <td>0.070931</td>\n",
       "    </tr>\n",
       "    <tr>\n",
       "      <th>11</th>\n",
       "      <td>reviews_per_month</td>\n",
       "      <td>0.061551</td>\n",
       "    </tr>\n",
       "    <tr>\n",
       "      <th>6</th>\n",
       "      <td>property_type</td>\n",
       "      <td>0.051889</td>\n",
       "    </tr>\n",
       "    <tr>\n",
       "      <th>7</th>\n",
       "      <td>room_type</td>\n",
       "      <td>0.044297</td>\n",
       "    </tr>\n",
       "    <tr>\n",
       "      <th>5</th>\n",
       "      <td>neighbourhood_cleansed</td>\n",
       "      <td>0.043471</td>\n",
       "    </tr>\n",
       "    <tr>\n",
       "      <th>10</th>\n",
       "      <td>review_scores_rating</td>\n",
       "      <td>0.037036</td>\n",
       "    </tr>\n",
       "    <tr>\n",
       "      <th>2</th>\n",
       "      <td>host_acceptance_rate</td>\n",
       "      <td>0.030538</td>\n",
       "    </tr>\n",
       "    <tr>\n",
       "      <th>1</th>\n",
       "      <td>host_response_rate</td>\n",
       "      <td>0.024990</td>\n",
       "    </tr>\n",
       "    <tr>\n",
       "      <th>0</th>\n",
       "      <td>host_response_time</td>\n",
       "      <td>0.014448</td>\n",
       "    </tr>\n",
       "    <tr>\n",
       "      <th>3</th>\n",
       "      <td>host_is_superhost</td>\n",
       "      <td>0.006410</td>\n",
       "    </tr>\n",
       "    <tr>\n",
       "      <th>30</th>\n",
       "      <td>cable tv</td>\n",
       "      <td>0.005802</td>\n",
       "    </tr>\n",
       "    <tr>\n",
       "      <th>94</th>\n",
       "      <td>private entrance</td>\n",
       "      <td>0.005610</td>\n",
       "    </tr>\n",
       "    <tr>\n",
       "      <th>53</th>\n",
       "      <td>free street parking</td>\n",
       "      <td>0.005412</td>\n",
       "    </tr>\n",
       "    <tr>\n",
       "      <th>51</th>\n",
       "      <td>first aid kit</td>\n",
       "      <td>0.005407</td>\n",
       "    </tr>\n",
       "    <tr>\n",
       "      <th>75</th>\n",
       "      <td>lock on bedroom door</td>\n",
       "      <td>0.005403</td>\n",
       "    </tr>\n",
       "    <tr>\n",
       "      <th>56</th>\n",
       "      <td>garden or backyard</td>\n",
       "      <td>0.005008</td>\n",
       "    </tr>\n",
       "    <tr>\n",
       "      <th>27</th>\n",
       "      <td>breakfast</td>\n",
       "      <td>0.004812</td>\n",
       "    </tr>\n",
       "    <tr>\n",
       "      <th>49</th>\n",
       "      <td>fire extinguisher</td>\n",
       "      <td>0.004773</td>\n",
       "    </tr>\n",
       "  </tbody>\n",
       "</table>\n",
       "</div>"
      ],
      "text/plain": [
       "                   feature     coefs\n",
       "8             accommodates  0.303619\n",
       "9                bathrooms  0.082336\n",
       "4      host_listings_count  0.070931\n",
       "11       reviews_per_month  0.061551\n",
       "6            property_type  0.051889\n",
       "7                room_type  0.044297\n",
       "5   neighbourhood_cleansed  0.043471\n",
       "10    review_scores_rating  0.037036\n",
       "2     host_acceptance_rate  0.030538\n",
       "1       host_response_rate  0.024990\n",
       "0       host_response_time  0.014448\n",
       "3        host_is_superhost  0.006410\n",
       "30                cable tv  0.005802\n",
       "94        private entrance  0.005610\n",
       "53     free street parking  0.005412\n",
       "51           first aid kit  0.005407\n",
       "75    lock on bedroom door  0.005403\n",
       "56      garden or backyard  0.005008\n",
       "27               breakfast  0.004812\n",
       "49       fire extinguisher  0.004773"
      ]
     },
     "execution_count": 30,
     "metadata": {},
     "output_type": "execute_result"
    }
   ],
   "source": [
    "coefs_df = pd.DataFrame()\n",
    "coefs_df['feature'] = X_train.columns\n",
    "coefs_df['coefs'] = rf.feature_importances_\n",
    "coefs_df.sort_values('coefs', ascending=False).head(20)"
   ]
  },
  {
   "cell_type": "code",
   "execution_count": 31,
   "metadata": {
    "ExecuteTime": {
     "end_time": "2020-10-25T19:43:46.479787Z",
     "start_time": "2020-10-25T19:43:45.729793Z"
    },
    "scrolled": true
   },
   "outputs": [
    {
     "data": {
      "text/plain": [
       "<matplotlib.axes._subplots.AxesSubplot at 0x1e50b4db630>"
      ]
     },
     "execution_count": 31,
     "metadata": {},
     "output_type": "execute_result"
    },
    {
     "data": {
      "image/png": "[encoded data removed]",
      "text/plain": [
       "<Figure size 720x432 with 1 Axes>"
      ]
     },
     "metadata": {},
     "output_type": "display_data"
    }
   ],
   "source": [
    "feat_imp = pd.Series(rf.feature_importances_, index=X_train.columns)\n",
    "feat_imp.nlargest(20).plot(kind='barh', figsize=(10,6))"
   ]
  },
  {
   "cell_type": "markdown",
   "metadata": {
    "ExecuteTime": {
     "end_time": "2020-09-25T21:26:48.820835Z",
     "start_time": "2020-09-25T21:26:48.816846Z"
    }
   },
   "source": [
    "# LightGBM"
   ]
  },
  {
   "cell_type": "markdown",
   "metadata": {
    "ExecuteTime": {
     "end_time": "2020-09-25T21:26:48.820835Z",
     "start_time": "2020-09-25T21:26:48.816846Z"
    }
   },
   "source": [
    "## Train/Test w LightGBM"
   ]
  },
  {
   "cell_type": "code",
   "execution_count": 32,
   "metadata": {
    "ExecuteTime": {
     "end_time": "2020-10-25T19:43:48.230109Z",
     "start_time": "2020-10-25T19:43:46.482780Z"
    }
   },
   "outputs": [
    {
     "name": "stdout",
     "output_type": "stream",
     "text": [
      "Training until validation scores don't improve for 20 rounds\n",
      "[100]\tvalid's rmse: 84.5853\n",
      "[200]\tvalid's rmse: 79.7195\n",
      "[300]\tvalid's rmse: 78.2712\n",
      "[400]\tvalid's rmse: 77.1324\n",
      "[500]\tvalid's rmse: 76.55\n",
      "[600]\tvalid's rmse: 76.2285\n",
      "[700]\tvalid's rmse: 76.0958\n",
      "Early stopping, best iteration is:\n",
      "[691]\tvalid's rmse: 76.0848\n",
      "R^2 test: 0.506\n"
     ]
    }
   ],
   "source": [
    "from lightgbm import LGBMRegressor\n",
    "\n",
    "\n",
    "fit_params={\n",
    "    \"early_stopping_rounds\":20, \n",
    "            \"eval_metric\" : 'rmse', \n",
    "            \"eval_set\" : [(X_test,y_test)],\n",
    "            'eval_names': ['valid'],\n",
    "            'verbose': 100,\n",
    "            'feature_name': 'auto', \n",
    "            'categorical_feature': 'auto'\n",
    "           }\n",
    "        \n",
    "class LGBMRegressor_GainFE(LGBMRegressor):\n",
    "    @property\n",
    "    def feature_importances_(self):\n",
    "        if self._n_features is None:\n",
    "            raise LGBMNotFittedError('No feature_importances found. Need to call fit beforehand.')\n",
    "        return self.booster_.feature_importance(importance_type='gain')\n",
    "        \n",
    "clf = LGBMRegressor_GainFE(num_leaves= 25, max_depth=20, \n",
    "                         random_state=0, \n",
    "                         silent=True, \n",
    "                         metric='rmse', \n",
    "                         n_jobs=4, \n",
    "                         n_estimators=1000,\n",
    "                         colsample_bytree=0.9,\n",
    "                         subsample=0.9,\n",
    "                         learning_rate=0.01)\n",
    "clf.fit(X_train.values, y_train.values, **fit_params)\n",
    "y_pred = clf.predict(X_test.values)\n",
    "print('R^2 test: %.3f' % (r2_score(y_test, y_pred)))"
   ]
  },
  {
   "cell_type": "markdown",
   "metadata": {
    "ExecuteTime": {
     "end_time": "2020-09-25T21:26:48.820835Z",
     "start_time": "2020-09-25T21:26:48.816846Z"
    }
   },
   "source": [
    "## Feature Importance of LightGBM"
   ]
  },
  {
   "cell_type": "code",
   "execution_count": 33,
   "metadata": {
    "ExecuteTime": {
     "end_time": "2020-10-25T19:43:48.746726Z",
     "start_time": "2020-10-25T19:43:48.233101Z"
    }
   },
   "outputs": [
    {
     "data": {
      "text/plain": [
       "<matplotlib.axes._subplots.AxesSubplot at 0x1e5090f1f28>"
      ]
     },
     "execution_count": 33,
     "metadata": {},
     "output_type": "execute_result"
    },
    {
     "data": {
      "image/png": "[encoded data removed]",
      "text/plain": [
       "<Figure size 720x432 with 1 Axes>"
      ]
     },
     "metadata": {},
     "output_type": "display_data"
    }
   ],
   "source": [
    "feat_imp = pd.Series(clf.feature_importances_, index=x.columns)\n",
    "feat_imp.nlargest(20).plot(kind='barh', figsize=(10,6))"
   ]
  },
  {
   "cell_type": "code",
   "execution_count": 34,
   "metadata": {
    "ExecuteTime": {
     "end_time": "2020-10-25T19:43:48.781633Z",
     "start_time": "2020-10-25T19:43:48.749723Z"
    },
    "scrolled": true
   },
   "outputs": [
    {
     "data": {
      "text/html": [
       "<div>\n",
       "<style scoped>\n",
       "    .dataframe tbody tr th:only-of-type {\n",
       "        vertical-align: middle;\n",
       "    }\n",
       "\n",
       "    .dataframe tbody tr th {\n",
       "        vertical-align: top;\n",
       "    }\n",
       "\n",
       "    .dataframe thead th {\n",
       "        text-align: right;\n",
       "    }\n",
       "</style>\n",
       "<table border=\"1\" class=\"dataframe\">\n",
       "  <thead>\n",
       "    <tr style=\"text-align: right;\">\n",
       "      <th></th>\n",
       "      <th>feature</th>\n",
       "      <th>coefs</th>\n",
       "    </tr>\n",
       "  </thead>\n",
       "  <tbody>\n",
       "    <tr>\n",
       "      <th>8</th>\n",
       "      <td>accommodates</td>\n",
       "      <td>8.880521e+08</td>\n",
       "    </tr>\n",
       "    <tr>\n",
       "      <th>9</th>\n",
       "      <td>bathrooms</td>\n",
       "      <td>2.459005e+08</td>\n",
       "    </tr>\n",
       "    <tr>\n",
       "      <th>4</th>\n",
       "      <td>host_listings_count</td>\n",
       "      <td>1.907566e+08</td>\n",
       "    </tr>\n",
       "    <tr>\n",
       "      <th>6</th>\n",
       "      <td>property_type</td>\n",
       "      <td>1.661195e+08</td>\n",
       "    </tr>\n",
       "    <tr>\n",
       "      <th>7</th>\n",
       "      <td>room_type</td>\n",
       "      <td>1.517755e+08</td>\n",
       "    </tr>\n",
       "    <tr>\n",
       "      <th>11</th>\n",
       "      <td>reviews_per_month</td>\n",
       "      <td>1.198304e+08</td>\n",
       "    </tr>\n",
       "    <tr>\n",
       "      <th>5</th>\n",
       "      <td>neighbourhood_cleansed</td>\n",
       "      <td>1.027024e+08</td>\n",
       "    </tr>\n",
       "    <tr>\n",
       "      <th>10</th>\n",
       "      <td>review_scores_rating</td>\n",
       "      <td>7.863186e+07</td>\n",
       "    </tr>\n",
       "    <tr>\n",
       "      <th>2</th>\n",
       "      <td>host_acceptance_rate</td>\n",
       "      <td>7.708167e+07</td>\n",
       "    </tr>\n",
       "    <tr>\n",
       "      <th>1</th>\n",
       "      <td>host_response_rate</td>\n",
       "      <td>6.284454e+07</td>\n",
       "    </tr>\n",
       "    <tr>\n",
       "      <th>0</th>\n",
       "      <td>host_response_time</td>\n",
       "      <td>3.294680e+07</td>\n",
       "    </tr>\n",
       "    <tr>\n",
       "      <th>3</th>\n",
       "      <td>host_is_superhost</td>\n",
       "      <td>9.768259e+06</td>\n",
       "    </tr>\n",
       "    <tr>\n",
       "      <th>53</th>\n",
       "      <td>free street parking</td>\n",
       "      <td>8.664445e+06</td>\n",
       "    </tr>\n",
       "    <tr>\n",
       "      <th>94</th>\n",
       "      <td>private entrance</td>\n",
       "      <td>7.442349e+06</td>\n",
       "    </tr>\n",
       "    <tr>\n",
       "      <th>49</th>\n",
       "      <td>fire extinguisher</td>\n",
       "      <td>6.905203e+06</td>\n",
       "    </tr>\n",
       "    <tr>\n",
       "      <th>41</th>\n",
       "      <td>dishwasher</td>\n",
       "      <td>6.250429e+06</td>\n",
       "    </tr>\n",
       "    <tr>\n",
       "      <th>119</th>\n",
       "      <td>tv</td>\n",
       "      <td>4.893750e+06</td>\n",
       "    </tr>\n",
       "    <tr>\n",
       "      <th>30</th>\n",
       "      <td>cable tv</td>\n",
       "      <td>4.417248e+06</td>\n",
       "    </tr>\n",
       "    <tr>\n",
       "      <th>56</th>\n",
       "      <td>garden or backyard</td>\n",
       "      <td>4.141128e+06</td>\n",
       "    </tr>\n",
       "    <tr>\n",
       "      <th>101</th>\n",
       "      <td>shampoo</td>\n",
       "      <td>4.009119e+06</td>\n",
       "    </tr>\n",
       "  </tbody>\n",
       "</table>\n",
       "</div>"
      ],
      "text/plain": [
       "                    feature         coefs\n",
       "8              accommodates  8.880521e+08\n",
       "9                 bathrooms  2.459005e+08\n",
       "4       host_listings_count  1.907566e+08\n",
       "6             property_type  1.661195e+08\n",
       "7                 room_type  1.517755e+08\n",
       "11        reviews_per_month  1.198304e+08\n",
       "5    neighbourhood_cleansed  1.027024e+08\n",
       "10     review_scores_rating  7.863186e+07\n",
       "2      host_acceptance_rate  7.708167e+07\n",
       "1        host_response_rate  6.284454e+07\n",
       "0        host_response_time  3.294680e+07\n",
       "3         host_is_superhost  9.768259e+06\n",
       "53      free street parking  8.664445e+06\n",
       "94         private entrance  7.442349e+06\n",
       "49        fire extinguisher  6.905203e+06\n",
       "41               dishwasher  6.250429e+06\n",
       "119                      tv  4.893750e+06\n",
       "30                 cable tv  4.417248e+06\n",
       "56       garden or backyard  4.141128e+06\n",
       "101                 shampoo  4.009119e+06"
      ]
     },
     "execution_count": 34,
     "metadata": {},
     "output_type": "execute_result"
    }
   ],
   "source": [
    "coefs_df = pd.DataFrame()\n",
    "coefs_df['feature'] = x.columns\n",
    "coefs_df['coefs'] = clf.feature_importances_\n",
    "coefs_df.sort_values('coefs', ascending=False).head(20)"
   ]
  },
  {
   "cell_type": "markdown",
   "metadata": {},
   "source": [
    "# Gradient Boosting"
   ]
  },
  {
   "cell_type": "markdown",
   "metadata": {
    "ExecuteTime": {
     "end_time": "2020-09-25T21:26:48.820835Z",
     "start_time": "2020-09-25T21:26:48.816846Z"
    }
   },
   "source": [
    "## Train/Test w Gradient Boosting"
   ]
  },
  {
   "cell_type": "code",
   "execution_count": 35,
   "metadata": {
    "ExecuteTime": {
     "end_time": "2020-10-25T19:44:00.270918Z",
     "start_time": "2020-10-25T19:43:48.783628Z"
    }
   },
   "outputs": [
    {
     "name": "stdout",
     "output_type": "stream",
     "text": [
      "RMSE test: 75.853\n",
      "R^2 test: 0.509\n"
     ]
    }
   ],
   "source": [
    "from sklearn.ensemble import GradientBoostingRegressor\n",
    "\n",
    "\n",
    "gboost = GradientBoostingRegressor(n_estimators=500, \n",
    "                               criterion='mse', \n",
    "                               random_state=3)\n",
    "gboost.fit(X_train, y_train)\n",
    "y_train_pred = gboost.predict(X_train)\n",
    "y_test_pred = gboost.predict(X_test)\n",
    "rmse_rf= (mean_squared_error(y_test,y_test_pred))**(1/2)\n",
    "\n",
    "print('RMSE test: %.3f' % rmse_rf)\n",
    "print('R^2 test: %.3f' % (r2_score(y_test, y_test_pred)))"
   ]
  },
  {
   "cell_type": "markdown",
   "metadata": {
    "ExecuteTime": {
     "end_time": "2020-09-25T21:26:48.820835Z",
     "start_time": "2020-09-25T21:26:48.816846Z"
    }
   },
   "source": [
    "## Feature Importance of Gradient Boosting"
   ]
  },
  {
   "cell_type": "code",
   "execution_count": 36,
   "metadata": {
    "ExecuteTime": {
     "end_time": "2020-10-25T19:44:00.311807Z",
     "start_time": "2020-10-25T19:44:00.273910Z"
    },
    "scrolled": false
   },
   "outputs": [
    {
     "data": {
      "text/html": [
       "<div>\n",
       "<style scoped>\n",
       "    .dataframe tbody tr th:only-of-type {\n",
       "        vertical-align: middle;\n",
       "    }\n",
       "\n",
       "    .dataframe tbody tr th {\n",
       "        vertical-align: top;\n",
       "    }\n",
       "\n",
       "    .dataframe thead th {\n",
       "        text-align: right;\n",
       "    }\n",
       "</style>\n",
       "<table border=\"1\" class=\"dataframe\">\n",
       "  <thead>\n",
       "    <tr style=\"text-align: right;\">\n",
       "      <th></th>\n",
       "      <th>feature</th>\n",
       "      <th>coefs</th>\n",
       "    </tr>\n",
       "  </thead>\n",
       "  <tbody>\n",
       "    <tr>\n",
       "      <th>8</th>\n",
       "      <td>accommodates</td>\n",
       "      <td>0.435758</td>\n",
       "    </tr>\n",
       "    <tr>\n",
       "      <th>9</th>\n",
       "      <td>bathrooms</td>\n",
       "      <td>0.095700</td>\n",
       "    </tr>\n",
       "    <tr>\n",
       "      <th>4</th>\n",
       "      <td>host_listings_count</td>\n",
       "      <td>0.089640</td>\n",
       "    </tr>\n",
       "    <tr>\n",
       "      <th>7</th>\n",
       "      <td>room_type</td>\n",
       "      <td>0.063200</td>\n",
       "    </tr>\n",
       "    <tr>\n",
       "      <th>6</th>\n",
       "      <td>property_type</td>\n",
       "      <td>0.058308</td>\n",
       "    </tr>\n",
       "    <tr>\n",
       "      <th>5</th>\n",
       "      <td>neighbourhood_cleansed</td>\n",
       "      <td>0.044930</td>\n",
       "    </tr>\n",
       "    <tr>\n",
       "      <th>11</th>\n",
       "      <td>reviews_per_month</td>\n",
       "      <td>0.044489</td>\n",
       "    </tr>\n",
       "    <tr>\n",
       "      <th>10</th>\n",
       "      <td>review_scores_rating</td>\n",
       "      <td>0.034930</td>\n",
       "    </tr>\n",
       "    <tr>\n",
       "      <th>1</th>\n",
       "      <td>host_response_rate</td>\n",
       "      <td>0.031340</td>\n",
       "    </tr>\n",
       "    <tr>\n",
       "      <th>2</th>\n",
       "      <td>host_acceptance_rate</td>\n",
       "      <td>0.026040</td>\n",
       "    </tr>\n",
       "    <tr>\n",
       "      <th>0</th>\n",
       "      <td>host_response_time</td>\n",
       "      <td>0.005710</td>\n",
       "    </tr>\n",
       "    <tr>\n",
       "      <th>17</th>\n",
       "      <td>baking sheet</td>\n",
       "      <td>0.004125</td>\n",
       "    </tr>\n",
       "    <tr>\n",
       "      <th>107</th>\n",
       "      <td>smart lock</td>\n",
       "      <td>0.003270</td>\n",
       "    </tr>\n",
       "    <tr>\n",
       "      <th>70</th>\n",
       "      <td>keypad</td>\n",
       "      <td>0.002252</td>\n",
       "    </tr>\n",
       "    <tr>\n",
       "      <th>53</th>\n",
       "      <td>free street parking</td>\n",
       "      <td>0.002003</td>\n",
       "    </tr>\n",
       "    <tr>\n",
       "      <th>94</th>\n",
       "      <td>private entrance</td>\n",
       "      <td>0.001939</td>\n",
       "    </tr>\n",
       "    <tr>\n",
       "      <th>35</th>\n",
       "      <td>cleaning before checkout</td>\n",
       "      <td>0.001878</td>\n",
       "    </tr>\n",
       "    <tr>\n",
       "      <th>65</th>\n",
       "      <td>hot water</td>\n",
       "      <td>0.001733</td>\n",
       "    </tr>\n",
       "    <tr>\n",
       "      <th>124</th>\n",
       "      <td>wifi</td>\n",
       "      <td>0.001708</td>\n",
       "    </tr>\n",
       "    <tr>\n",
       "      <th>30</th>\n",
       "      <td>cable tv</td>\n",
       "      <td>0.001557</td>\n",
       "    </tr>\n",
       "  </tbody>\n",
       "</table>\n",
       "</div>"
      ],
      "text/plain": [
       "                      feature     coefs\n",
       "8                accommodates  0.435758\n",
       "9                   bathrooms  0.095700\n",
       "4         host_listings_count  0.089640\n",
       "7                   room_type  0.063200\n",
       "6               property_type  0.058308\n",
       "5      neighbourhood_cleansed  0.044930\n",
       "11          reviews_per_month  0.044489\n",
       "10       review_scores_rating  0.034930\n",
       "1          host_response_rate  0.031340\n",
       "2        host_acceptance_rate  0.026040\n",
       "0          host_response_time  0.005710\n",
       "17               baking sheet  0.004125\n",
       "107                smart lock  0.003270\n",
       "70                     keypad  0.002252\n",
       "53        free street parking  0.002003\n",
       "94           private entrance  0.001939\n",
       "35   cleaning before checkout  0.001878\n",
       "65                  hot water  0.001733\n",
       "124                      wifi  0.001708\n",
       "30                   cable tv  0.001557"
      ]
     },
     "execution_count": 36,
     "metadata": {},
     "output_type": "execute_result"
    }
   ],
   "source": [
    "coefs_df = pd.DataFrame()\n",
    "coefs_df['feature'] = X_train.columns\n",
    "coefs_df['coefs'] = gboost.feature_importances_\n",
    "coefs_df.sort_values('coefs', ascending=False).head(20)"
   ]
  },
  {
   "cell_type": "code",
   "execution_count": 37,
   "metadata": {
    "ExecuteTime": {
     "end_time": "2020-10-25T19:44:00.890261Z",
     "start_time": "2020-10-25T19:44:00.314801Z"
    },
    "scrolled": true
   },
   "outputs": [
    {
     "data": {
      "text/plain": [
       "<matplotlib.axes._subplots.AxesSubplot at 0x1e507718ac8>"
      ]
     },
     "execution_count": 37,
     "metadata": {},
     "output_type": "execute_result"
    },
    {
     "data": {
      "image/png": "[encoded data removed]",
      "text/plain": [
       "<Figure size 720x432 with 1 Axes>"
      ]
     },
     "metadata": {},
     "output_type": "display_data"
    }
   ],
   "source": [
    "feat_imp = pd.Series(gboost.feature_importances_, index=X_train.columns)\n",
    "feat_imp.nlargest(20).plot(kind='barh', figsize=(10,6))"
   ]
  },
  {
   "cell_type": "markdown",
   "metadata": {},
   "source": [
    "# XGBoost and its Feature Importance"
   ]
  },
  {
   "cell_type": "code",
   "execution_count": 38,
   "metadata": {
    "ExecuteTime": {
     "end_time": "2020-10-25T19:44:06.062433Z",
     "start_time": "2020-10-25T19:44:00.893253Z"
    },
    "scrolled": true
   },
   "outputs": [
    {
     "name": "stdout",
     "output_type": "stream",
     "text": [
      "\n",
      "Training MSE: 796.2729\n",
      "Validation MSE: 6159.969\n",
      "Validation RMSE: 78.4855\n",
      "\n",
      "Training r2: 0.9382\n",
      "Validation r2: 0.4742\n"
     ]
    },
    {
     "data": {
      "image/png": "[encoded data removed]",
      "text/plain": [
       "<Figure size 576x1440 with 1 Axes>"
      ]
     },
     "metadata": {},
     "output_type": "display_data"
    }
   ],
   "source": [
    "import xgboost as xgb\n",
    "\n",
    "# Fitting the model\n",
    "xgb_reg = xgb.XGBRegressor()\n",
    "xgb_reg.fit(X_train, y_train)\n",
    "training_preds_xgb_reg = xgb_reg.predict(X_train)\n",
    "val_preds_xgb_reg = xgb_reg.predict(X_test)\n",
    "\n",
    "# Printing the results\n",
    "\n",
    "print(\"\\nTraining MSE:\", round(mean_squared_error(y_train, training_preds_xgb_reg),4))\n",
    "print(\"Validation MSE:\", round(mean_squared_error(y_test, val_preds_xgb_reg),4))\n",
    "print(\"Validation RMSE:\", round(mean_squared_error(y_test, val_preds_xgb_reg)**0.5,4))\n",
    "print(\"\\nTraining r2:\", round(r2_score(y_train, training_preds_xgb_reg),4))\n",
    "print(\"Validation r2:\", round(r2_score(y_test, val_preds_xgb_reg),4))\n",
    "\n",
    "# Producing a dataframe of feature importances\n",
    "ft_weights_xgb_reg = pd.DataFrame(xgb_reg.feature_importances_, columns=['weight'], index=X_train.columns)\n",
    "ft_weights_xgb_reg.sort_values('weight', inplace=True)\n",
    "\n",
    "# Plotting feature importances\n",
    "plt.figure(figsize=(8,20))\n",
    "plt.barh(ft_weights_xgb_reg.index, ft_weights_xgb_reg.weight, align='center') \n",
    "plt.title(\"Feature importances in the XGBoost model\", fontsize=14)\n",
    "plt.xlabel(\"Feature importance\")\n",
    "plt.margins(y=0.01)\n",
    "plt.show()"
   ]
  },
  {
   "cell_type": "markdown",
   "metadata": {},
   "source": [
    "# Neural Network Model"
   ]
  },
  {
   "cell_type": "code",
   "execution_count": 39,
   "metadata": {
    "ExecuteTime": {
     "end_time": "2020-10-25T19:44:28.015796Z",
     "start_time": "2020-10-25T19:44:06.064428Z"
    }
   },
   "outputs": [
    {
     "name": "stdout",
     "output_type": "stream",
     "text": [
      "Model: \"sequential\"\n",
      "_________________________________________________________________\n",
      "Layer (type)                 Output Shape              Param #   \n",
      "=================================================================\n",
      "dense (Dense)                (None, 128)               16384     \n",
      "_________________________________________________________________\n",
      "dense_1 (Dense)              (None, 256)               33024     \n",
      "_________________________________________________________________\n",
      "dense_2 (Dense)              (None, 256)               65792     \n",
      "_________________________________________________________________\n",
      "dense_3 (Dense)              (None, 512)               131584    \n",
      "_________________________________________________________________\n",
      "dense_4 (Dense)              (None, 1)                 513       \n",
      "=================================================================\n",
      "Total params: 247,297\n",
      "Trainable params: 247,297\n",
      "Non-trainable params: 0\n",
      "_________________________________________________________________\n",
      "None\n",
      "Epoch 1/100\n",
      "18/18 [==============================] - 0s 22ms/step - loss: 23719.9629 - mean_squared_error: 23719.9629 - val_loss: 15595.1035 - val_mean_squared_error: 15595.1035\n",
      "Epoch 2/100\n",
      "18/18 [==============================] - 0s 7ms/step - loss: 13699.3262 - mean_squared_error: 13699.3262 - val_loss: 14165.6562 - val_mean_squared_error: 14165.6562\n",
      "Epoch 3/100\n",
      "18/18 [==============================] - 0s 6ms/step - loss: 11917.3213 - mean_squared_error: 11917.3213 - val_loss: 11952.5850 - val_mean_squared_error: 11952.5850\n",
      "Epoch 4/100\n",
      "18/18 [==============================] - 0s 7ms/step - loss: 10809.9209 - mean_squared_error: 10809.9209 - val_loss: 11171.0225 - val_mean_squared_error: 11171.0225\n",
      "Epoch 5/100\n",
      "18/18 [==============================] - 0s 6ms/step - loss: 9923.6729 - mean_squared_error: 9923.6729 - val_loss: 10571.5898 - val_mean_squared_error: 10571.5898\n",
      "Epoch 6/100\n",
      "18/18 [==============================] - 0s 6ms/step - loss: 9459.2100 - mean_squared_error: 9459.2100 - val_loss: 9772.5869 - val_mean_squared_error: 9772.5869\n",
      "Epoch 7/100\n",
      "18/18 [==============================] - 0s 9ms/step - loss: 8765.3105 - mean_squared_error: 8765.3105 - val_loss: 9399.1299 - val_mean_squared_error: 9399.1299\n",
      "Epoch 8/100\n",
      "18/18 [==============================] - 0s 10ms/step - loss: 8355.9473 - mean_squared_error: 8355.9473 - val_loss: 8704.6328 - val_mean_squared_error: 8704.6328\n",
      "Epoch 9/100\n",
      "18/18 [==============================] - 0s 11ms/step - loss: 7964.5703 - mean_squared_error: 7964.5703 - val_loss: 8068.5210 - val_mean_squared_error: 8068.5210\n",
      "Epoch 10/100\n",
      "18/18 [==============================] - 0s 10ms/step - loss: 7657.0918 - mean_squared_error: 7657.0918 - val_loss: 8856.1611 - val_mean_squared_error: 8856.1611\n",
      "Epoch 11/100\n",
      "18/18 [==============================] - 0s 9ms/step - loss: 8246.8701 - mean_squared_error: 8246.8701 - val_loss: 8652.3994 - val_mean_squared_error: 8652.3994\n",
      "Epoch 12/100\n",
      "18/18 [==============================] - 0s 11ms/step - loss: 7948.2061 - mean_squared_error: 7948.2061 - val_loss: 8112.5762 - val_mean_squared_error: 8112.5762\n",
      "Epoch 13/100\n",
      "18/18 [==============================] - 0s 13ms/step - loss: 7481.6533 - mean_squared_error: 7481.6533 - val_loss: 8605.1602 - val_mean_squared_error: 8605.1602\n",
      "Epoch 14/100\n",
      "18/18 [==============================] - 0s 11ms/step - loss: 7532.1528 - mean_squared_error: 7532.1528 - val_loss: 7983.8301 - val_mean_squared_error: 7983.8301\n",
      "Epoch 15/100\n",
      "18/18 [==============================] - 0s 10ms/step - loss: 7443.1738 - mean_squared_error: 7443.1738 - val_loss: 8233.3330 - val_mean_squared_error: 8233.3330\n",
      "Epoch 16/100\n",
      "18/18 [==============================] - 0s 10ms/step - loss: 7376.6704 - mean_squared_error: 7376.6704 - val_loss: 8262.5967 - val_mean_squared_error: 8262.5957\n",
      "Epoch 17/100\n",
      "18/18 [==============================] - 0s 10ms/step - loss: 7424.1611 - mean_squared_error: 7424.1611 - val_loss: 7721.7783 - val_mean_squared_error: 7721.7778\n",
      "Epoch 18/100\n",
      "18/18 [==============================] - 0s 11ms/step - loss: 7084.3125 - mean_squared_error: 7084.3125 - val_loss: 7729.1753 - val_mean_squared_error: 7729.1753\n",
      "Epoch 19/100\n",
      "18/18 [==============================] - 0s 10ms/step - loss: 7260.5688 - mean_squared_error: 7260.5688 - val_loss: 7627.9160 - val_mean_squared_error: 7627.9160\n",
      "Epoch 20/100\n",
      "18/18 [==============================] - 0s 10ms/step - loss: 7464.9043 - mean_squared_error: 7464.9043 - val_loss: 7548.2446 - val_mean_squared_error: 7548.2446\n",
      "Epoch 21/100\n",
      "18/18 [==============================] - 0s 10ms/step - loss: 7559.9116 - mean_squared_error: 7559.9116 - val_loss: 8615.4609 - val_mean_squared_error: 8615.4609\n",
      "Epoch 22/100\n",
      "18/18 [==============================] - 0s 9ms/step - loss: 7376.0605 - mean_squared_error: 7376.0605 - val_loss: 7555.4868 - val_mean_squared_error: 7555.4868\n",
      "Epoch 23/100\n",
      "18/18 [==============================] - 0s 10ms/step - loss: 7012.9585 - mean_squared_error: 7012.9585 - val_loss: 7907.5869 - val_mean_squared_error: 7907.5869\n",
      "Epoch 24/100\n",
      "18/18 [==============================] - 0s 11ms/step - loss: 7168.2051 - mean_squared_error: 7168.2051 - val_loss: 7489.2798 - val_mean_squared_error: 7489.2798\n",
      "Epoch 25/100\n",
      "18/18 [==============================] - 0s 11ms/step - loss: 6919.5347 - mean_squared_error: 6919.5347 - val_loss: 7473.3833 - val_mean_squared_error: 7473.3833\n",
      "Epoch 26/100\n",
      "18/18 [==============================] - 0s 10ms/step - loss: 6867.1826 - mean_squared_error: 6867.1826 - val_loss: 7489.3340 - val_mean_squared_error: 7489.3340\n",
      "Epoch 27/100\n",
      "18/18 [==============================] - 0s 10ms/step - loss: 6790.5327 - mean_squared_error: 6790.5327 - val_loss: 7848.9331 - val_mean_squared_error: 7848.9331\n",
      "Epoch 28/100\n",
      "18/18 [==============================] - 0s 10ms/step - loss: 6863.3296 - mean_squared_error: 6863.3296 - val_loss: 8226.1045 - val_mean_squared_error: 8226.1045\n",
      "Epoch 29/100\n",
      "18/18 [==============================] - 0s 10ms/step - loss: 7082.4673 - mean_squared_error: 7082.4673 - val_loss: 10313.5410 - val_mean_squared_error: 10313.5410\n",
      "Epoch 30/100\n",
      "18/18 [==============================] - 0s 6ms/step - loss: 7211.0117 - mean_squared_error: 7211.0117 - val_loss: 7484.0557 - val_mean_squared_error: 7484.0557\n",
      "Epoch 31/100\n",
      "18/18 [==============================] - 0s 6ms/step - loss: 6864.0522 - mean_squared_error: 6864.0522 - val_loss: 7872.6196 - val_mean_squared_error: 7872.6196\n",
      "Epoch 32/100\n",
      "18/18 [==============================] - 0s 6ms/step - loss: 7028.4062 - mean_squared_error: 7028.4062 - val_loss: 7555.1392 - val_mean_squared_error: 7555.1392\n",
      "Epoch 33/100\n",
      "18/18 [==============================] - 0s 7ms/step - loss: 6752.8442 - mean_squared_error: 6752.8442 - val_loss: 7436.1885 - val_mean_squared_error: 7436.1885\n",
      "Epoch 34/100\n",
      "18/18 [==============================] - 0s 6ms/step - loss: 6764.6074 - mean_squared_error: 6764.6074 - val_loss: 7360.8159 - val_mean_squared_error: 7360.8159\n",
      "Epoch 35/100\n",
      "18/18 [==============================] - 0s 7ms/step - loss: 6535.1270 - mean_squared_error: 6535.1270 - val_loss: 7405.4883 - val_mean_squared_error: 7405.4883\n",
      "Epoch 36/100\n",
      "18/18 [==============================] - 0s 7ms/step - loss: 6679.5679 - mean_squared_error: 6679.5679 - val_loss: 7419.4946 - val_mean_squared_error: 7419.4946\n",
      "Epoch 37/100\n",
      "18/18 [==============================] - 0s 7ms/step - loss: 6657.9072 - mean_squared_error: 6657.9072 - val_loss: 7635.9844 - val_mean_squared_error: 7635.9844\n",
      "Epoch 38/100\n",
      "18/18 [==============================] - 0s 6ms/step - loss: 6706.8223 - mean_squared_error: 6706.8223 - val_loss: 7874.4248 - val_mean_squared_error: 7874.4248\n",
      "Epoch 39/100\n",
      "18/18 [==============================] - 0s 6ms/step - loss: 6997.7144 - mean_squared_error: 6997.7144 - val_loss: 8800.8223 - val_mean_squared_error: 8800.8223\n",
      "Epoch 40/100\n",
      "18/18 [==============================] - 0s 6ms/step - loss: 7157.9429 - mean_squared_error: 7157.9429 - val_loss: 9382.2393 - val_mean_squared_error: 9382.2393\n",
      "Epoch 41/100\n",
      "18/18 [==============================] - 0s 7ms/step - loss: 8186.9824 - mean_squared_error: 8186.9824 - val_loss: 7462.4141 - val_mean_squared_error: 7462.4141\n",
      "Epoch 42/100\n"
     ]
    },
    {
     "name": "stdout",
     "output_type": "stream",
     "text": [
      "18/18 [==============================] - 0s 6ms/step - loss: 7318.0630 - mean_squared_error: 7318.0630 - val_loss: 7505.6187 - val_mean_squared_error: 7505.6187\n",
      "Epoch 43/100\n",
      "18/18 [==============================] - 0s 7ms/step - loss: 6665.1646 - mean_squared_error: 6665.1646 - val_loss: 7585.3159 - val_mean_squared_error: 7585.3159\n",
      "Epoch 44/100\n",
      "18/18 [==============================] - 0s 7ms/step - loss: 6562.5981 - mean_squared_error: 6562.5981 - val_loss: 7350.4390 - val_mean_squared_error: 7350.4390\n",
      "Epoch 45/100\n",
      "18/18 [==============================] - 0s 8ms/step - loss: 6787.1812 - mean_squared_error: 6787.1812 - val_loss: 7906.1450 - val_mean_squared_error: 7906.1450\n",
      "Epoch 46/100\n",
      "18/18 [==============================] - 0s 6ms/step - loss: 6645.8281 - mean_squared_error: 6645.8281 - val_loss: 7383.6650 - val_mean_squared_error: 7383.6650\n",
      "Epoch 47/100\n",
      "18/18 [==============================] - 0s 7ms/step - loss: 6910.8428 - mean_squared_error: 6910.8428 - val_loss: 7079.0005 - val_mean_squared_error: 7079.0005\n",
      "Epoch 48/100\n",
      "18/18 [==============================] - 0s 6ms/step - loss: 6368.4253 - mean_squared_error: 6368.4253 - val_loss: 7154.7734 - val_mean_squared_error: 7154.7734\n",
      "Epoch 49/100\n",
      "18/18 [==============================] - 0s 7ms/step - loss: 6396.9653 - mean_squared_error: 6396.9653 - val_loss: 7478.3340 - val_mean_squared_error: 7478.3340\n",
      "Epoch 50/100\n",
      "18/18 [==============================] - 0s 7ms/step - loss: 6586.4780 - mean_squared_error: 6586.4780 - val_loss: 7322.7246 - val_mean_squared_error: 7322.7246\n",
      "Epoch 51/100\n",
      "18/18 [==============================] - 0s 7ms/step - loss: 6342.6187 - mean_squared_error: 6342.6187 - val_loss: 7164.7231 - val_mean_squared_error: 7164.7231\n",
      "Epoch 52/100\n",
      "18/18 [==============================] - 0s 7ms/step - loss: 6233.4868 - mean_squared_error: 6233.4868 - val_loss: 7144.8174 - val_mean_squared_error: 7144.8174\n",
      "Epoch 53/100\n",
      "18/18 [==============================] - 0s 7ms/step - loss: 6297.6514 - mean_squared_error: 6297.6514 - val_loss: 7201.5640 - val_mean_squared_error: 7201.5640\n",
      "Epoch 54/100\n",
      "18/18 [==============================] - 0s 7ms/step - loss: 6241.4932 - mean_squared_error: 6241.4932 - val_loss: 7025.1309 - val_mean_squared_error: 7025.1309\n",
      "Epoch 55/100\n",
      "18/18 [==============================] - 0s 7ms/step - loss: 6097.6968 - mean_squared_error: 6097.6968 - val_loss: 6918.8525 - val_mean_squared_error: 6918.8525\n",
      "Epoch 56/100\n",
      "18/18 [==============================] - 0s 7ms/step - loss: 6200.3364 - mean_squared_error: 6200.3364 - val_loss: 7374.4966 - val_mean_squared_error: 7374.4966\n",
      "Epoch 57/100\n",
      "18/18 [==============================] - 0s 7ms/step - loss: 6313.5903 - mean_squared_error: 6313.5903 - val_loss: 7291.2744 - val_mean_squared_error: 7291.2744\n",
      "Epoch 58/100\n",
      "18/18 [==============================] - 0s 6ms/step - loss: 6224.3735 - mean_squared_error: 6224.3735 - val_loss: 7038.0298 - val_mean_squared_error: 7038.0298\n",
      "Epoch 59/100\n",
      "18/18 [==============================] - 0s 6ms/step - loss: 6075.6211 - mean_squared_error: 6075.6211 - val_loss: 7038.6924 - val_mean_squared_error: 7038.6924\n",
      "Epoch 60/100\n",
      "18/18 [==============================] - 0s 6ms/step - loss: 6091.5234 - mean_squared_error: 6091.5234 - val_loss: 7084.1958 - val_mean_squared_error: 7084.1958\n",
      "Epoch 61/100\n",
      "18/18 [==============================] - 0s 7ms/step - loss: 6304.7153 - mean_squared_error: 6304.7153 - val_loss: 7249.9878 - val_mean_squared_error: 7249.9878\n",
      "Epoch 62/100\n",
      "18/18 [==============================] - 0s 6ms/step - loss: 5982.6543 - mean_squared_error: 5982.6543 - val_loss: 7150.4941 - val_mean_squared_error: 7150.4941\n",
      "Epoch 63/100\n",
      "18/18 [==============================] - 0s 7ms/step - loss: 6040.8623 - mean_squared_error: 6040.8623 - val_loss: 7080.4844 - val_mean_squared_error: 7080.4844\n",
      "Epoch 64/100\n",
      "18/18 [==============================] - 0s 6ms/step - loss: 5996.5806 - mean_squared_error: 5996.5806 - val_loss: 7096.2998 - val_mean_squared_error: 7096.2998\n",
      "Epoch 65/100\n",
      "18/18 [==============================] - 0s 7ms/step - loss: 6063.4155 - mean_squared_error: 6063.4155 - val_loss: 6921.4302 - val_mean_squared_error: 6921.4302\n",
      "Epoch 66/100\n",
      "18/18 [==============================] - 0s 6ms/step - loss: 5936.1216 - mean_squared_error: 5936.1216 - val_loss: 6961.6050 - val_mean_squared_error: 6961.6050\n",
      "Epoch 67/100\n",
      "18/18 [==============================] - 0s 6ms/step - loss: 6071.4194 - mean_squared_error: 6071.4194 - val_loss: 7149.4370 - val_mean_squared_error: 7149.4370\n",
      "Epoch 68/100\n",
      "18/18 [==============================] - 0s 7ms/step - loss: 6063.0518 - mean_squared_error: 6063.0518 - val_loss: 7394.4351 - val_mean_squared_error: 7394.4351\n",
      "Epoch 69/100\n",
      "18/18 [==============================] - 0s 7ms/step - loss: 6070.1064 - mean_squared_error: 6070.1064 - val_loss: 7894.4204 - val_mean_squared_error: 7894.4204\n",
      "Epoch 70/100\n",
      "18/18 [==============================] - 0s 6ms/step - loss: 6035.4971 - mean_squared_error: 6035.4971 - val_loss: 7046.5400 - val_mean_squared_error: 7046.5400\n",
      "Epoch 71/100\n",
      "18/18 [==============================] - 0s 6ms/step - loss: 6219.0986 - mean_squared_error: 6219.0986 - val_loss: 7686.7476 - val_mean_squared_error: 7686.7476\n",
      "Epoch 72/100\n",
      "18/18 [==============================] - 0s 6ms/step - loss: 6206.4380 - mean_squared_error: 6206.4380 - val_loss: 7461.3730 - val_mean_squared_error: 7461.3730\n",
      "Epoch 73/100\n",
      "18/18 [==============================] - 0s 6ms/step - loss: 6310.9927 - mean_squared_error: 6310.9927 - val_loss: 7622.4814 - val_mean_squared_error: 7622.4814\n",
      "Epoch 74/100\n",
      "18/18 [==============================] - 0s 7ms/step - loss: 5864.8623 - mean_squared_error: 5864.8623 - val_loss: 7372.8491 - val_mean_squared_error: 7372.8491\n",
      "Epoch 75/100\n",
      "18/18 [==============================] - 0s 7ms/step - loss: 6083.4917 - mean_squared_error: 6083.4917 - val_loss: 7168.8276 - val_mean_squared_error: 7168.8276\n",
      "Epoch 76/100\n",
      "18/18 [==============================] - 0s 7ms/step - loss: 5829.0151 - mean_squared_error: 5829.0151 - val_loss: 7137.6865 - val_mean_squared_error: 7137.6865\n",
      "Epoch 77/100\n",
      "18/18 [==============================] - 0s 7ms/step - loss: 6043.8843 - mean_squared_error: 6043.8843 - val_loss: 7428.0576 - val_mean_squared_error: 7428.0576\n",
      "Epoch 78/100\n",
      "18/18 [==============================] - 0s 7ms/step - loss: 6044.1235 - mean_squared_error: 6044.1235 - val_loss: 6956.1602 - val_mean_squared_error: 6956.1602\n",
      "Epoch 79/100\n",
      "18/18 [==============================] - 0s 7ms/step - loss: 5800.0801 - mean_squared_error: 5800.0801 - val_loss: 6949.7432 - val_mean_squared_error: 6949.7432\n",
      "Epoch 80/100\n",
      "18/18 [==============================] - 0s 9ms/step - loss: 5570.3838 - mean_squared_error: 5570.3838 - val_loss: 6913.1694 - val_mean_squared_error: 6913.1694\n",
      "Epoch 81/100\n",
      "18/18 [==============================] - 0s 7ms/step - loss: 5547.3281 - mean_squared_error: 5547.3281 - val_loss: 7356.8247 - val_mean_squared_error: 7356.8247\n",
      "Epoch 82/100\n",
      "18/18 [==============================] - 0s 7ms/step - loss: 5712.3486 - mean_squared_error: 5712.3486 - val_loss: 7094.5142 - val_mean_squared_error: 7094.5142\n",
      "Epoch 83/100\n",
      "18/18 [==============================] - 0s 7ms/step - loss: 5742.6533 - mean_squared_error: 5742.6533 - val_loss: 7075.8062 - val_mean_squared_error: 7075.8062\n",
      "Epoch 84/100\n",
      "18/18 [==============================] - 0s 8ms/step - loss: 5647.0674 - mean_squared_error: 5647.0674 - val_loss: 7633.0537 - val_mean_squared_error: 7633.0537\n",
      "Epoch 85/100\n",
      "18/18 [==============================] - 0s 7ms/step - loss: 5954.9775 - mean_squared_error: 5954.9775 - val_loss: 7123.7163 - val_mean_squared_error: 7123.7163\n",
      "Epoch 86/100\n",
      "18/18 [==============================] - 0s 6ms/step - loss: 5853.8638 - mean_squared_error: 5853.8638 - val_loss: 7358.6133 - val_mean_squared_error: 7358.6133\n",
      "Epoch 87/100\n",
      "18/18 [==============================] - 0s 7ms/step - loss: 5569.5151 - mean_squared_error: 5569.5151 - val_loss: 7406.1069 - val_mean_squared_error: 7406.1069\n",
      "Epoch 88/100\n",
      "18/18 [==============================] - 0s 7ms/step - loss: 6048.9043 - mean_squared_error: 6048.9043 - val_loss: 6889.9463 - val_mean_squared_error: 6889.9463\n",
      "Epoch 89/100\n"
     ]
    },
    {
     "name": "stdout",
     "output_type": "stream",
     "text": [
      "18/18 [==============================] - 0s 8ms/step - loss: 5553.1157 - mean_squared_error: 5553.1157 - val_loss: 6872.1099 - val_mean_squared_error: 6872.1099\n",
      "Epoch 90/100\n",
      "18/18 [==============================] - 0s 9ms/step - loss: 5540.0933 - mean_squared_error: 5540.0933 - val_loss: 9806.7119 - val_mean_squared_error: 9806.7119\n",
      "Epoch 91/100\n",
      "18/18 [==============================] - 0s 7ms/step - loss: 6460.3774 - mean_squared_error: 6460.3774 - val_loss: 7020.6558 - val_mean_squared_error: 7020.6558\n",
      "Epoch 92/100\n",
      "18/18 [==============================] - 0s 10ms/step - loss: 5514.9209 - mean_squared_error: 5514.9209 - val_loss: 7091.2485 - val_mean_squared_error: 7091.2485\n",
      "Epoch 93/100\n",
      "18/18 [==============================] - 0s 7ms/step - loss: 5514.8521 - mean_squared_error: 5514.8521 - val_loss: 7026.3237 - val_mean_squared_error: 7026.3237\n",
      "Epoch 94/100\n",
      "18/18 [==============================] - 0s 7ms/step - loss: 5311.9146 - mean_squared_error: 5311.9146 - val_loss: 7234.5317 - val_mean_squared_error: 7234.5317\n",
      "Epoch 95/100\n",
      "18/18 [==============================] - 0s 9ms/step - loss: 5561.0225 - mean_squared_error: 5561.0225 - val_loss: 6838.9668 - val_mean_squared_error: 6838.9668\n",
      "Epoch 96/100\n",
      "18/18 [==============================] - 0s 7ms/step - loss: 5416.4604 - mean_squared_error: 5416.4604 - val_loss: 7130.7412 - val_mean_squared_error: 7130.7412\n",
      "Epoch 97/100\n",
      "18/18 [==============================] - 0s 7ms/step - loss: 5431.4106 - mean_squared_error: 5431.4106 - val_loss: 6867.9004 - val_mean_squared_error: 6867.9004\n",
      "Epoch 98/100\n",
      "18/18 [==============================] - 0s 7ms/step - loss: 5204.3574 - mean_squared_error: 5204.3574 - val_loss: 6817.7876 - val_mean_squared_error: 6817.7876\n",
      "Epoch 99/100\n",
      "18/18 [==============================] - 0s 7ms/step - loss: 5183.2500 - mean_squared_error: 5183.2500 - val_loss: 7285.9380 - val_mean_squared_error: 7285.9380\n",
      "Epoch 100/100\n",
      "18/18 [==============================] - 0s 8ms/step - loss: 5283.6670 - mean_squared_error: 5283.6670 - val_loss: 7468.6143 - val_mean_squared_error: 7468.6143\n"
     ]
    }
   ],
   "source": [
    "from keras import models, layers, optimizers, regularizers\n",
    "from keras.utils.vis_utils import model_to_dot\n",
    "from IPython.display import SVG\n",
    "\n",
    "# Building the model\n",
    "nn2 = models.Sequential()\n",
    "nn2.add(layers.Dense(128, input_shape=(X_train.shape[1],), activation='relu'))\n",
    "nn2.add(layers.Dense(256, activation='relu'))\n",
    "nn2.add(layers.Dense(256, activation='relu'))\n",
    "nn2.add(layers.Dense(512, activation='relu'))\n",
    "nn2.add(layers.Dense(1, activation='linear'))\n",
    "\n",
    "# Compiling the model\n",
    "nn2.compile(loss='mean_squared_error',\n",
    "            optimizer='adam',\n",
    "            metrics=['mean_squared_error'])\n",
    "\n",
    "# Printing the model summary\n",
    "print(nn2.summary())\n",
    "\n",
    "# Visualising the neural network\n",
    "SVG(model_to_dot(nn2, show_layer_names=False, show_shapes=True).create(prog='dot', format='svg'))\n",
    "\n",
    "# Training the model\n",
    "nn2_history = nn2.fit(X_train,\n",
    "                  y_train,\n",
    "                  epochs=100,\n",
    "                  batch_size=256,\n",
    "                  validation_split = 0.1)"
   ]
  },
  {
   "cell_type": "code",
   "execution_count": 40,
   "metadata": {
    "ExecuteTime": {
     "end_time": "2020-10-25T19:44:28.486539Z",
     "start_time": "2020-10-25T19:44:28.017791Z"
    }
   },
   "outputs": [
    {
     "name": "stdout",
     "output_type": "stream",
     "text": [
      "Training MSE: 5623.7508\n",
      "Validation MSE: 8058.3039\n",
      "Validation RMSE: 89.7681\n",
      "\n",
      "Training r2: 0.5636\n",
      "Validation r2: 0.3122\n"
     ]
    }
   ],
   "source": [
    "y_test_pred = nn2.predict(X_test)\n",
    "y_train_pred = nn2.predict(X_train)\n",
    "print(\"Training MSE:\", round(mean_squared_error(y_train, y_train_pred),4))\n",
    "print(\"Validation MSE:\", round(mean_squared_error(y_test, y_test_pred),4))\n",
    "print(\"Validation RMSE:\", round(mean_squared_error(y_test, y_test_pred)**0.5,4))\n",
    "print(\"\\nTraining r2:\", round(r2_score(y_train, y_train_pred),4))\n",
    "print(\"Validation r2:\", round(r2_score(y_test, y_test_pred),4))"
   ]
  },
  {
   "cell_type": "markdown",
   "metadata": {},
   "source": [
    "# Distribution of Numeric Columns"
   ]
  },
  {
   "cell_type": "code",
   "execution_count": 41,
   "metadata": {
    "ExecuteTime": {
     "end_time": "2020-10-25T19:44:34.263095Z",
     "start_time": "2020-10-25T19:44:28.489529Z"
    },
    "scrolled": true
   },
   "outputs": [
    {
     "data": {
      "image/png": "[encoded data removed]",
      "text/plain": [
       "<Figure size 432x288 with 1 Axes>"
      ]
     },
     "metadata": {},
     "output_type": "display_data"
    },
    {
     "data": {
      "image/png": "[encoded data removed]",
      "text/plain": [
       "<Figure size 432x288 with 1 Axes>"
      ]
     },
     "metadata": {},
     "output_type": "display_data"
    },
    {
     "data": {
      "image/png": "[encoded data removed]",
      "text/plain": [
       "<Figure size 432x288 with 1 Axes>"
      ]
     },
     "metadata": {},
     "output_type": "display_data"
    },
    {
     "data": {
      "image/png": "[encoded data removed]",
      "text/plain": [
       "<Figure size 432x288 with 1 Axes>"
      ]
     },
     "metadata": {},
     "output_type": "display_data"
    },
    {
     "data": {
      "image/png": "[encoded data removed]",
      "text/plain": [
       "<Figure size 432x288 with 1 Axes>"
      ]
     },
     "metadata": {},
     "output_type": "display_data"
    },
    {
     "data": {
      "image/png": "[encoded data removed]",
      "text/plain": [
       "<Figure size 432x288 with 1 Axes>"
      ]
     },
     "metadata": {},
     "output_type": "display_data"
    },
    {
     "data": {
      "image/png": "[encoded data removed]",
      "text/plain": [
       "<Figure size 432x288 with 1 Axes>"
      ]
     },
     "metadata": {},
     "output_type": "display_data"
    },
    {
     "data": {
      "image/png": "[encoded data removed]",
      "text/plain": [
       "<Figure size 432x288 with 1 Axes>"
      ]
     },
     "metadata": {},
     "output_type": "display_data"
    },
    {
     "data": {
      "image/png": "[encoded data removed]",
      "text/plain": [
       "<Figure size 432x288 with 1 Axes>"
      ]
     },
     "metadata": {},
     "output_type": "display_data"
    },
    {
     "data": {
      "image/png": "[encoded data removed]",
      "text/plain": [
       "<Figure size 432x288 with 1 Axes>"
      ]
     },
     "metadata": {},
     "output_type": "display_data"
    }
   ],
   "source": [
    "new_numeric_cols = []\n",
    "for col in new_SF_df.columns: \n",
    "    if col in numeric_columns:\n",
    "        new_numeric_cols.append(col)\n",
    "        try:      \n",
    "            new_SF_df[col] = pd.to_numeric(new_SF_df[col]) \n",
    "            new_SF_df.hist(column=col)\n",
    "        except ValueError:\n",
    "            print('This column can not be represented as a histogram')"
   ]
  },
  {
   "cell_type": "markdown",
   "metadata": {},
   "source": [
    "# Standardizing Features"
   ]
  },
  {
   "cell_type": "code",
   "execution_count": 42,
   "metadata": {
    "ExecuteTime": {
     "end_time": "2020-10-25T19:44:34.328918Z",
     "start_time": "2020-10-25T19:44:34.272074Z"
    }
   },
   "outputs": [],
   "source": [
    "from sklearn.preprocessing import StandardScaler\n",
    "scaler = StandardScaler(with_mean=False)\n",
    "scaler.fit(X_train.values) # only scaler.fit on train set\n",
    "X_stand_train = scaler.transform(X_train.values)\n",
    "X_stand_test = scaler.transform(X_test.values)"
   ]
  },
  {
   "cell_type": "markdown",
   "metadata": {},
   "source": [
    "# Random Forest after Standardization"
   ]
  },
  {
   "cell_type": "code",
   "execution_count": 43,
   "metadata": {
    "ExecuteTime": {
     "end_time": "2020-10-25T19:44:57.281065Z",
     "start_time": "2020-10-25T19:44:34.335901Z"
    }
   },
   "outputs": [
    {
     "name": "stdout",
     "output_type": "stream",
     "text": [
      "RMSE test: 79.575\n",
      "R^2 test: 0.460\n"
     ]
    }
   ],
   "source": [
    "rf = RandomForestRegressor(n_estimators=500, \n",
    "                               criterion='mse', \n",
    "                               random_state=3, \n",
    "                               n_jobs=-1)\n",
    "rf.fit(X_stand_train, y_train)\n",
    "y_train_pred = rf.predict(X_stand_train)\n",
    "y_test_pred = rf.predict(X_stand_test)\n",
    "rmse_rf= (mean_squared_error(y_test,y_test_pred))**(1/2)\n",
    "\n",
    "print('RMSE test: %.3f' % rmse_rf)\n",
    "print('R^2 test: %.3f' % (r2_score(y_test, y_test_pred)))"
   ]
  },
  {
   "cell_type": "markdown",
   "metadata": {},
   "source": [
    "# LightGBM after Standardization"
   ]
  },
  {
   "cell_type": "code",
   "execution_count": 44,
   "metadata": {
    "ExecuteTime": {
     "end_time": "2020-10-25T19:44:59.705585Z",
     "start_time": "2020-10-25T19:44:57.284057Z"
    }
   },
   "outputs": [
    {
     "name": "stdout",
     "output_type": "stream",
     "text": [
      "Training until validation scores don't improve for 20 rounds\n",
      "[100]\tvalid's rmse: 84.5853\n",
      "[200]\tvalid's rmse: 79.7195\n",
      "[300]\tvalid's rmse: 78.2712\n",
      "[400]\tvalid's rmse: 77.1324\n",
      "[500]\tvalid's rmse: 76.55\n",
      "[600]\tvalid's rmse: 76.2285\n",
      "[700]\tvalid's rmse: 76.0958\n",
      "Early stopping, best iteration is:\n",
      "[691]\tvalid's rmse: 76.0848\n",
      "R^2 test: 0.506\n"
     ]
    }
   ],
   "source": [
    "fit_params={\n",
    "    \"early_stopping_rounds\":20, \n",
    "            \"eval_metric\" : 'rmse', \n",
    "            \"eval_set\" : [(X_stand_test,y_test)],\n",
    "            'eval_names': ['valid'],\n",
    "            'verbose': 100,\n",
    "            'feature_name': 'auto', \n",
    "            'categorical_feature': 'auto'\n",
    "           }\n",
    "        \n",
    "class LGBMRegressor_GainFE(LGBMRegressor):\n",
    "    @property\n",
    "    def feature_importances_(self):\n",
    "        if self._n_features is None:\n",
    "            raise LGBMNotFittedError('No feature_importances found. Need to call fit beforehand.')\n",
    "        return self.booster_.feature_importance(importance_type='gain')\n",
    "        \n",
    "clf = LGBMRegressor_GainFE(num_leaves= 25, max_depth=20, \n",
    "                         random_state=0, \n",
    "                         silent=True, \n",
    "                         metric='rmse', \n",
    "                         n_jobs=4, \n",
    "                         n_estimators=1000,\n",
    "                         colsample_bytree=0.9,\n",
    "                         subsample=0.9,\n",
    "                         learning_rate=0.01)\n",
    "clf.fit(X_stand_train, y_train.values, **fit_params)\n",
    "y_pred = clf.predict(X_stand_test)\n",
    "print('R^2 test: %.3f' % (r2_score(y_test, y_pred)))"
   ]
  },
  {
   "cell_type": "markdown",
   "metadata": {},
   "source": [
    "# LassoCV Model"
   ]
  },
  {
   "cell_type": "code",
   "execution_count": 45,
   "metadata": {
    "ExecuteTime": {
     "end_time": "2020-10-25T19:45:01.081904Z",
     "start_time": "2020-10-25T19:44:59.710572Z"
    }
   },
   "outputs": [
    {
     "data": {
      "text/plain": [
       "LassoCV(alphas=array([1.00000000e-02, 1.04737090e-02, 1.09698580e-02, 1.14895100e-02,\n",
       "       1.20337784e-02, 1.26038293e-02, 1.32008840e-02, 1.38262217e-02,\n",
       "       1.44811823e-02, 1.51671689e-02, 1.58856513e-02, 1.66381689e-02,\n",
       "       1.74263339e-02, 1.82518349e-02, 1.91164408e-02, 2.00220037e-02,\n",
       "       2.09704640e-02, 2.19638537e-02, 2.30043012e-02, 2.40940356e-02,\n",
       "       2.52353917e-02, 2.64308149e-0...\n",
       "       3.44896226e+01, 3.61234270e+01, 3.78346262e+01, 3.96268864e+01,\n",
       "       4.15040476e+01, 4.34701316e+01, 4.55293507e+01, 4.76861170e+01,\n",
       "       4.99450512e+01, 5.23109931e+01, 5.47890118e+01, 5.73844165e+01,\n",
       "       6.01027678e+01, 6.29498899e+01, 6.59318827e+01, 6.90551352e+01,\n",
       "       7.23263390e+01, 7.57525026e+01, 7.93409667e+01, 8.30994195e+01,\n",
       "       8.70359136e+01, 9.11588830e+01, 9.54771611e+01, 1.00000000e+02]),\n",
       "        cv=5)"
      ]
     },
     "execution_count": 45,
     "metadata": {},
     "output_type": "execute_result"
    }
   ],
   "source": [
    "from sklearn.linear_model import Lasso, LassoCV\n",
    "\n",
    "# Run the cross validation, find the best alpha, refit the model on all the data with that alpha\n",
    "alphavec = 10**np.linspace(-2,2,200)\n",
    "lasso_model = LassoCV(alphas = alphavec, cv=5)\n",
    "lasso_model.fit(X_stand_train, y_train)"
   ]
  },
  {
   "cell_type": "code",
   "execution_count": 46,
   "metadata": {
    "ExecuteTime": {
     "end_time": "2020-10-25T19:45:01.109830Z",
     "start_time": "2020-10-25T19:45:01.084902Z"
    }
   },
   "outputs": [
    {
     "name": "stdout",
     "output_type": "stream",
     "text": [
      "MAE: 64.361\n",
      "RMSE test: 88.652\n",
      "R^2 test: 0.329\n"
     ]
    }
   ],
   "source": [
    "# R2 of Training set\n",
    "lasso_model.score(X_stand_train,y_train)\n",
    "\n",
    "# Predict model on test data\n",
    "y_pred = lasso_model.predict(X_stand_test)\n",
    "\n",
    "#Mean Absolute Error (MAE)\n",
    "def mae(y_true, y_pred):\n",
    "    return np.mean(np.abs(y_pred - y_true))\n",
    "print('MAE: %.3f' % mae(y_test, y_pred))\n",
    "\n",
    "rmse_rf= (mean_squared_error(y_test,y_pred))**(1/2)\n",
    "\n",
    "print('RMSE test: %.3f' % rmse_rf)\n",
    "print('R^2 test: %.3f' % (r2_score(y_test, y_pred)))"
   ]
  },
  {
   "cell_type": "code",
   "execution_count": 47,
   "metadata": {
    "ExecuteTime": {
     "end_time": "2020-10-25T19:45:01.543669Z",
     "start_time": "2020-10-25T19:45:01.115814Z"
    }
   },
   "outputs": [
    {
     "data": {
      "image/png": "[encoded data removed]",
      "text/plain": [
       "<Figure size 432x288 with 1 Axes>"
      ]
     },
     "metadata": {},
     "output_type": "display_data"
    }
   ],
   "source": [
    "plt.scatter(y_test, y_pred)\n",
    "plt.plot([0,500],[0,500],color='red')\n",
    "plt.grid(True)\n",
    "plt.title('Predicted vs. Actual Price with LASSO CV')\n",
    "plt.ylabel('Price Predicted')\n",
    "plt.xlabel('Price Actual');"
   ]
  },
  {
   "cell_type": "markdown",
   "metadata": {},
   "source": [
    "# RidgeCV Model"
   ]
  },
  {
   "cell_type": "code",
   "execution_count": 48,
   "metadata": {
    "ExecuteTime": {
     "end_time": "2020-10-25T19:45:02.740470Z",
     "start_time": "2020-10-25T19:45:01.546661Z"
    }
   },
   "outputs": [
    {
     "data": {
      "text/plain": [
       "RidgeCV(alphas=array([1.00000000e-10, 4.64158883e-09, 2.15443469e-07, 1.00000000e-05,\n",
       "       4.64158883e-04, 2.15443469e-02, 1.00000000e+00, 4.64158883e+01,\n",
       "       2.15443469e+03, 1.00000000e+05]),\n",
       "        cv=5)"
      ]
     },
     "execution_count": 48,
     "metadata": {},
     "output_type": "execute_result"
    }
   ],
   "source": [
    "from sklearn.linear_model import RidgeCV\n",
    "\n",
    "reg_params = 10.**np.linspace(-10, 5, 10)\n",
    "ridge_model = RidgeCV(alphas=reg_params, fit_intercept=True, cv=5)\n",
    "ridge_model.fit(X_stand_train, y_train)"
   ]
  },
  {
   "cell_type": "code",
   "execution_count": 49,
   "metadata": {
    "ExecuteTime": {
     "end_time": "2020-10-25T19:45:02.773381Z",
     "start_time": "2020-10-25T19:45:02.747453Z"
    }
   },
   "outputs": [
    {
     "name": "stdout",
     "output_type": "stream",
     "text": [
      "MAE: 65.128\n",
      "RMSE test: 89.579\n",
      "R^2 test: 0.315\n"
     ]
    }
   ],
   "source": [
    "# R2 of Training set\n",
    "ridge_model.score(X_stand_train,y_train)\n",
    "\n",
    "# Predict model on test data\n",
    "y_pred = ridge_model.predict(X_stand_test)\n",
    "\n",
    "#Mean Absolute Error (MAE)\n",
    "def mae(y_true, y_pred):\n",
    "    return np.mean(np.abs(y_pred - y_true))\n",
    "print('MAE: %.3f' % mae(y_test, y_pred))\n",
    "\n",
    "rmse_rf= (mean_squared_error(y_test,y_pred))**(1/2)\n",
    "\n",
    "print('RMSE test: %.3f' % rmse_rf)\n",
    "print('R^2 test: %.3f' % (r2_score(y_test, y_pred)))"
   ]
  },
  {
   "cell_type": "code",
   "execution_count": 51,
   "metadata": {
    "ExecuteTime": {
     "end_time": "2020-10-25T19:45:54.540489Z",
     "start_time": "2020-10-25T19:45:54.121606Z"
    }
   },
   "outputs": [
    {
     "data": {
      "text/plain": [
       "Text(0.5, 0, 'Price Actual')"
      ]
     },
     "execution_count": 51,
     "metadata": {},
     "output_type": "execute_result"
    },
    {
     "data": {
      "image/png": "[encoded data removed]",
      "text/plain": [
       "<Figure size 432x288 with 1 Axes>"
      ]
     },
     "metadata": {},
     "output_type": "display_data"
    }
   ],
   "source": [
    "plt.scatter(y_test, y_pred)\n",
    "plt.plot([0,500],[0,500],color='red')\n",
    "plt.grid(True)\n",
    "plt.title('Predicted vs. Actual Price with RIDGE CV')\n",
    "plt.ylabel('Price Predicted')\n",
    "plt.xlabel('Price Actual')"
   ]
  },
  {
   "cell_type": "code",
   "execution_count": null,
   "metadata": {},
   "outputs": [],
   "source": []
  }
 ],
 "metadata": {
  "kernelspec": {
   "display_name": "Python 3",
   "language": "python",
   "name": "python3"
  },
  "language_info": {
   "codemirror_mode": {
    "name": "ipython",
    "version": 3
   },
   "file_extension": ".py",
   "mimetype": "text/x-python",
   "name": "python",
   "nbconvert_exporter": "python",
   "pygments_lexer": "ipython3",
   "version": "3.6.5"
  },
  "toc": {
   "base_numbering": 1,
   "nav_menu": {},
   "number_sections": true,
   "sideBar": true,
   "skip_h1_title": false,
   "title_cell": "Table of Contents",
   "title_sidebar": "Contents",
   "toc_cell": false,
   "toc_position": {
    "height": "calc(100% - 180px)",
    "left": "10px",
    "top": "150px",
    "width": "185.806px"
   },
   "toc_section_display": true,
   "toc_window_display": true
  },
  "varInspector": {
   "cols": {
    "lenName": 16,
    "lenType": 16,
    "lenVar": 40
   },
   "kernels_config": {
    "python": {
     "delete_cmd_postfix": "",
     "delete_cmd_prefix": "del ",
     "library": "var_list.py",
     "varRefreshCmd": "print(var_dic_list())"
    },
    "r": {
     "delete_cmd_postfix": ") ",
     "delete_cmd_prefix": "rm(",
     "library": "var_list.r",
     "varRefreshCmd": "cat(var_dic_list()) "
    }
   },
   "types_to_exclude": [
    "module",
    "function",
    "builtin_function_or_method",
    "instance",
    "_Feature"
   ],
   "window_display": false
  }
 },
 "nbformat": 4,
 "nbformat_minor": 4
}
