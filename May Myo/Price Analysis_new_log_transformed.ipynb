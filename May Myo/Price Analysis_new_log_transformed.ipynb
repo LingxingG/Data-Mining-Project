{
 "cells": [
  {
   "cell_type": "markdown",
   "metadata": {},
   "source": [
    "# Refer to SF EDA notebook for Price EDA (Section 5 & 10)"
   ]
  },
  {
   "cell_type": "markdown",
   "metadata": {},
   "source": [
    "# Import Libraries"
   ]
  },
  {
   "cell_type": "code",
   "execution_count": 1,
   "metadata": {
    "ExecuteTime": {
     "end_time": "2020-10-26T10:38:05.087528Z",
     "start_time": "2020-10-26T10:38:02.780696Z"
    }
   },
   "outputs": [],
   "source": [
    "import pandas as pd\n",
    "import numpy as np\n",
    "import matplotlib.pyplot as plt\n",
    "import seaborn as sns"
   ]
  },
  {
   "cell_type": "markdown",
   "metadata": {},
   "source": [
    "# Import Data"
   ]
  },
  {
   "cell_type": "code",
   "execution_count": 2,
   "metadata": {
    "ExecuteTime": {
     "end_time": "2020-10-26T10:38:05.195241Z",
     "start_time": "2020-10-26T10:38:05.090520Z"
    }
   },
   "outputs": [
    {
     "data": {
      "text/html": [
       "<div>\n",
       "<style scoped>\n",
       "    .dataframe tbody tr th:only-of-type {\n",
       "        vertical-align: middle;\n",
       "    }\n",
       "\n",
       "    .dataframe tbody tr th {\n",
       "        vertical-align: top;\n",
       "    }\n",
       "\n",
       "    .dataframe thead th {\n",
       "        text-align: right;\n",
       "    }\n",
       "</style>\n",
       "<table border=\"1\" class=\"dataframe\">\n",
       "  <thead>\n",
       "    <tr style=\"text-align: right;\">\n",
       "      <th></th>\n",
       "      <th>host_response_time</th>\n",
       "      <th>host_response_rate</th>\n",
       "      <th>host_acceptance_rate</th>\n",
       "      <th>host_is_superhost</th>\n",
       "      <th>host_listings_count</th>\n",
       "      <th>neighbourhood_cleansed</th>\n",
       "      <th>property_type</th>\n",
       "      <th>room_type</th>\n",
       "      <th>accommodates</th>\n",
       "      <th>bathrooms</th>\n",
       "      <th>bedrooms</th>\n",
       "      <th>beds</th>\n",
       "      <th>amenities</th>\n",
       "      <th>price</th>\n",
       "      <th>minimum_nights</th>\n",
       "      <th>maximum_nights</th>\n",
       "      <th>number_of_reviews</th>\n",
       "      <th>review_scores_rating</th>\n",
       "      <th>reviews_per_month</th>\n",
       "      <th>price_log</th>\n",
       "    </tr>\n",
       "  </thead>\n",
       "  <tbody>\n",
       "    <tr>\n",
       "      <th>0</th>\n",
       "      <td>within an hour</td>\n",
       "      <td>1.0</td>\n",
       "      <td>0.99</td>\n",
       "      <td>1</td>\n",
       "      <td>1</td>\n",
       "      <td>Western Addition</td>\n",
       "      <td>Entire apartment</td>\n",
       "      <td>Entire home/apt</td>\n",
       "      <td>3</td>\n",
       "      <td>1.0</td>\n",
       "      <td>1.0</td>\n",
       "      <td>2.0</td>\n",
       "      <td>[\"Heating\", \"Hot water\", \"Stove\", \"Iron\", \"Dry...</td>\n",
       "      <td>132.0</td>\n",
       "      <td>2</td>\n",
       "      <td>30</td>\n",
       "      <td>257</td>\n",
       "      <td>97.0</td>\n",
       "      <td>1.91</td>\n",
       "      <td>4.882802</td>\n",
       "    </tr>\n",
       "    <tr>\n",
       "      <th>1</th>\n",
       "      <td>within a day</td>\n",
       "      <td>0.6</td>\n",
       "      <td>0.83</td>\n",
       "      <td>0</td>\n",
       "      <td>2</td>\n",
       "      <td>Bernal Heights</td>\n",
       "      <td>Entire apartment</td>\n",
       "      <td>Entire home/apt</td>\n",
       "      <td>5</td>\n",
       "      <td>1.0</td>\n",
       "      <td>2.0</td>\n",
       "      <td>3.0</td>\n",
       "      <td>[\"Smoke alarm\", \"Heating\", \"Kitchen\", \"First a...</td>\n",
       "      <td>235.0</td>\n",
       "      <td>30</td>\n",
       "      <td>60</td>\n",
       "      <td>111</td>\n",
       "      <td>98.0</td>\n",
       "      <td>0.81</td>\n",
       "      <td>5.459586</td>\n",
       "    </tr>\n",
       "    <tr>\n",
       "      <th>2</th>\n",
       "      <td>within a few hours</td>\n",
       "      <td>1.0</td>\n",
       "      <td>1.00</td>\n",
       "      <td>0</td>\n",
       "      <td>10</td>\n",
       "      <td>Haight Ashbury</td>\n",
       "      <td>Private room in apartment</td>\n",
       "      <td>Private room</td>\n",
       "      <td>2</td>\n",
       "      <td>4.0</td>\n",
       "      <td>1.0</td>\n",
       "      <td>1.0</td>\n",
       "      <td>[\"Host greets you\", \"Heating\", \"Hot water\", \"K...</td>\n",
       "      <td>56.0</td>\n",
       "      <td>32</td>\n",
       "      <td>60</td>\n",
       "      <td>19</td>\n",
       "      <td>84.0</td>\n",
       "      <td>0.14</td>\n",
       "      <td>4.025352</td>\n",
       "    </tr>\n",
       "    <tr>\n",
       "      <th>3</th>\n",
       "      <td>within a few hours</td>\n",
       "      <td>1.0</td>\n",
       "      <td>1.00</td>\n",
       "      <td>0</td>\n",
       "      <td>10</td>\n",
       "      <td>Haight Ashbury</td>\n",
       "      <td>Private room in apartment</td>\n",
       "      <td>Private room</td>\n",
       "      <td>2</td>\n",
       "      <td>4.0</td>\n",
       "      <td>1.0</td>\n",
       "      <td>1.0</td>\n",
       "      <td>[\"Host greets you\", \"Heating\", \"Hot water\", \"K...</td>\n",
       "      <td>56.0</td>\n",
       "      <td>32</td>\n",
       "      <td>90</td>\n",
       "      <td>8</td>\n",
       "      <td>93.0</td>\n",
       "      <td>0.11</td>\n",
       "      <td>4.025352</td>\n",
       "    </tr>\n",
       "    <tr>\n",
       "      <th>5</th>\n",
       "      <td>within an hour</td>\n",
       "      <td>1.0</td>\n",
       "      <td>0.96</td>\n",
       "      <td>1</td>\n",
       "      <td>2</td>\n",
       "      <td>Mission</td>\n",
       "      <td>Private room in condominium</td>\n",
       "      <td>Private room</td>\n",
       "      <td>3</td>\n",
       "      <td>1.0</td>\n",
       "      <td>1.0</td>\n",
       "      <td>1.0</td>\n",
       "      <td>[\"Heating\", \"Hot water\", \"Children\\u2019s book...</td>\n",
       "      <td>169.0</td>\n",
       "      <td>1</td>\n",
       "      <td>14</td>\n",
       "      <td>736</td>\n",
       "      <td>98.0</td>\n",
       "      <td>5.47</td>\n",
       "      <td>5.129899</td>\n",
       "    </tr>\n",
       "  </tbody>\n",
       "</table>\n",
       "</div>"
      ],
      "text/plain": [
       "   host_response_time  host_response_rate  host_acceptance_rate  \\\n",
       "0      within an hour                 1.0                  0.99   \n",
       "1        within a day                 0.6                  0.83   \n",
       "2  within a few hours                 1.0                  1.00   \n",
       "3  within a few hours                 1.0                  1.00   \n",
       "5      within an hour                 1.0                  0.96   \n",
       "\n",
       "   host_is_superhost  host_listings_count neighbourhood_cleansed  \\\n",
       "0                  1                    1       Western Addition   \n",
       "1                  0                    2         Bernal Heights   \n",
       "2                  0                   10         Haight Ashbury   \n",
       "3                  0                   10         Haight Ashbury   \n",
       "5                  1                    2                Mission   \n",
       "\n",
       "                 property_type        room_type  accommodates  bathrooms  \\\n",
       "0             Entire apartment  Entire home/apt             3        1.0   \n",
       "1             Entire apartment  Entire home/apt             5        1.0   \n",
       "2    Private room in apartment     Private room             2        4.0   \n",
       "3    Private room in apartment     Private room             2        4.0   \n",
       "5  Private room in condominium     Private room             3        1.0   \n",
       "\n",
       "   bedrooms  beds                                          amenities  price  \\\n",
       "0       1.0   2.0  [\"Heating\", \"Hot water\", \"Stove\", \"Iron\", \"Dry...  132.0   \n",
       "1       2.0   3.0  [\"Smoke alarm\", \"Heating\", \"Kitchen\", \"First a...  235.0   \n",
       "2       1.0   1.0  [\"Host greets you\", \"Heating\", \"Hot water\", \"K...   56.0   \n",
       "3       1.0   1.0  [\"Host greets you\", \"Heating\", \"Hot water\", \"K...   56.0   \n",
       "5       1.0   1.0  [\"Heating\", \"Hot water\", \"Children\\u2019s book...  169.0   \n",
       "\n",
       "   minimum_nights  maximum_nights  number_of_reviews  review_scores_rating  \\\n",
       "0               2              30                257                  97.0   \n",
       "1              30              60                111                  98.0   \n",
       "2              32              60                 19                  84.0   \n",
       "3              32              90                  8                  93.0   \n",
       "5               1              14                736                  98.0   \n",
       "\n",
       "   reviews_per_month  price_log  \n",
       "0               1.91   4.882802  \n",
       "1               0.81   5.459586  \n",
       "2               0.14   4.025352  \n",
       "3               0.11   4.025352  \n",
       "5               5.47   5.129899  "
      ]
     },
     "execution_count": 2,
     "metadata": {},
     "output_type": "execute_result"
    }
   ],
   "source": [
    "SF_df = pd.read_pickle(\"pre-processing and EDA/cleaned_price_df.pkl\")\n",
    "SF_df.head(5)"
   ]
  },
  {
   "cell_type": "code",
   "execution_count": 3,
   "metadata": {
    "ExecuteTime": {
     "end_time": "2020-10-26T10:38:05.236131Z",
     "start_time": "2020-10-26T10:38:05.202223Z"
    }
   },
   "outputs": [
    {
     "name": "stdout",
     "output_type": "stream",
     "text": [
      "<class 'pandas.core.frame.DataFrame'>\n",
      "Int64Index: 6848 entries, 0 to 7273\n",
      "Data columns (total 20 columns):\n",
      " #   Column                  Non-Null Count  Dtype  \n",
      "---  ------                  --------------  -----  \n",
      " 0   host_response_time      6848 non-null   object \n",
      " 1   host_response_rate      6848 non-null   float64\n",
      " 2   host_acceptance_rate    6848 non-null   float64\n",
      " 3   host_is_superhost       6848 non-null   int32  \n",
      " 4   host_listings_count     6848 non-null   int64  \n",
      " 5   neighbourhood_cleansed  6848 non-null   object \n",
      " 6   property_type           6848 non-null   object \n",
      " 7   room_type               6848 non-null   object \n",
      " 8   accommodates            6848 non-null   int64  \n",
      " 9   bathrooms               6848 non-null   float64\n",
      " 10  bedrooms                6848 non-null   float64\n",
      " 11  beds                    6848 non-null   float64\n",
      " 12  amenities               6848 non-null   object \n",
      " 13  price                   6848 non-null   float64\n",
      " 14  minimum_nights          6848 non-null   int64  \n",
      " 15  maximum_nights          6848 non-null   int64  \n",
      " 16  number_of_reviews       6848 non-null   int64  \n",
      " 17  review_scores_rating    6848 non-null   float64\n",
      " 18  reviews_per_month       6848 non-null   float64\n",
      " 19  price_log               6848 non-null   float64\n",
      "dtypes: float64(9), int32(1), int64(5), object(5)\n",
      "memory usage: 1.1+ MB\n"
     ]
    }
   ],
   "source": [
    "SF_df.info()"
   ]
  },
  {
   "cell_type": "markdown",
   "metadata": {},
   "source": [
    "# Different column type name lists"
   ]
  },
  {
   "cell_type": "code",
   "execution_count": 4,
   "metadata": {
    "ExecuteTime": {
     "end_time": "2020-10-26T10:38:05.262062Z",
     "start_time": "2020-10-26T10:38:05.239122Z"
    }
   },
   "outputs": [
    {
     "name": "stdout",
     "output_type": "stream",
     "text": [
      "['host_response_time', 'neighbourhood_cleansed', 'property_type', 'room_type', 'amenities']\n"
     ]
    }
   ],
   "source": [
    "numerics = ['int16', 'int32', 'int64', 'float16', 'float32', 'float64']\n",
    "numeric_columns = SF_df.select_dtypes(include=numerics).columns.to_list()\n",
    "bool_columns = SF_df.select_dtypes(include='bool').columns.to_list()\n",
    "object_columns = SF_df.select_dtypes(include='object').columns.to_list()\n",
    "print(object_columns)"
   ]
  },
  {
   "cell_type": "code",
   "execution_count": 5,
   "metadata": {
    "ExecuteTime": {
     "end_time": "2020-10-26T10:38:05.283009Z",
     "start_time": "2020-10-26T10:38:05.265053Z"
    }
   },
   "outputs": [
    {
     "data": {
      "text/plain": [
       "host_response_time        0\n",
       "host_response_rate        0\n",
       "host_acceptance_rate      0\n",
       "host_is_superhost         0\n",
       "host_listings_count       0\n",
       "neighbourhood_cleansed    0\n",
       "property_type             0\n",
       "room_type                 0\n",
       "accommodates              0\n",
       "bathrooms                 0\n",
       "bedrooms                  0\n",
       "beds                      0\n",
       "amenities                 0\n",
       "price                     0\n",
       "minimum_nights            0\n",
       "maximum_nights            0\n",
       "number_of_reviews         0\n",
       "review_scores_rating      0\n",
       "reviews_per_month         0\n",
       "price_log                 0\n",
       "dtype: int64"
      ]
     },
     "execution_count": 5,
     "metadata": {},
     "output_type": "execute_result"
    }
   ],
   "source": [
    "SF_df.isnull().sum()"
   ]
  },
  {
   "cell_type": "markdown",
   "metadata": {},
   "source": [
    "# Pearson Correlation for Numeric Columns"
   ]
  },
  {
   "cell_type": "code",
   "execution_count": 6,
   "metadata": {
    "ExecuteTime": {
     "end_time": "2020-10-26T10:38:05.289987Z",
     "start_time": "2020-10-26T10:38:05.284999Z"
    }
   },
   "outputs": [],
   "source": [
    "#sns.set(style=\"ticks\", color_codes=True)\n",
    "#sns.pairplot(SF_df[numeric_columns])"
   ]
  },
  {
   "cell_type": "code",
   "execution_count": 7,
   "metadata": {
    "ExecuteTime": {
     "end_time": "2020-10-26T10:38:06.867770Z",
     "start_time": "2020-10-26T10:38:05.292978Z"
    }
   },
   "outputs": [
    {
     "data": {
      "text/plain": [
       "<matplotlib.axes._subplots.AxesSubplot at 0x23246483160>"
      ]
     },
     "execution_count": 7,
     "metadata": {},
     "output_type": "execute_result"
    },
    {
     "data": {
      "image/png": "[encoded data removed]",
      "text/plain": [
       "<Figure size 576x576 with 2 Axes>"
      ]
     },
     "metadata": {
      "needs_background": "light"
     },
     "output_type": "display_data"
    }
   ],
   "source": [
    "corr = SF_df[numeric_columns].corr()\n",
    "mask = np.zeros_like(corr, dtype=np.bool)\n",
    "mask[np.triu_indices_from(mask)] = True\n",
    "plt.figure(figsize = (8,8))\n",
    "sns.set(font_scale=1)\n",
    "sns.heatmap(corr, cbar = True, annot=True, square = True, fmt = '.2f', xticklabels=numeric_columns, yticklabels=numeric_columns, mask=mask)"
   ]
  },
  {
   "cell_type": "code",
   "execution_count": 8,
   "metadata": {
    "ExecuteTime": {
     "end_time": "2020-10-26T10:38:07.545955Z",
     "start_time": "2020-10-26T10:38:06.872755Z"
    }
   },
   "outputs": [
    {
     "data": {
      "text/plain": [
       "<matplotlib.axes._subplots.AxesSubplot at 0x2324880cac8>"
      ]
     },
     "execution_count": 8,
     "metadata": {},
     "output_type": "execute_result"
    },
    {
     "data": {
      "image/png": "[encoded data removed]",
      "text/plain": [
       "<Figure size 432x288 with 2 Axes>"
      ]
     },
     "metadata": {},
     "output_type": "display_data"
    }
   ],
   "source": [
    "sns.heatmap(corr[['price']].sort_values(['price'],ascending=False),yticklabels=True,annot=True)"
   ]
  },
  {
   "cell_type": "code",
   "execution_count": 9,
   "metadata": {
    "ExecuteTime": {
     "end_time": "2020-10-26T10:38:07.560920Z",
     "start_time": "2020-10-26T10:38:07.549945Z"
    },
    "scrolled": true
   },
   "outputs": [
    {
     "data": {
      "text/plain": [
       "0       1\n",
       "1       0\n",
       "2       0\n",
       "3       0\n",
       "5       1\n",
       "       ..\n",
       "7269    0\n",
       "7270    0\n",
       "7271    0\n",
       "7272    0\n",
       "7273    1\n",
       "Name: host_is_superhost, Length: 6848, dtype: int32"
      ]
     },
     "execution_count": 9,
     "metadata": {},
     "output_type": "execute_result"
    }
   ],
   "source": [
    "SF_df[\"host_is_superhost\"]"
   ]
  },
  {
   "cell_type": "markdown",
   "metadata": {},
   "source": [
    "# Feature Selection"
   ]
  },
  {
   "cell_type": "markdown",
   "metadata": {},
   "source": [
    "## Remove features based on Pearson Correlation"
   ]
  },
  {
   "cell_type": "code",
   "execution_count": 10,
   "metadata": {
    "ExecuteTime": {
     "end_time": "2020-10-26T10:38:07.605795Z",
     "start_time": "2020-10-26T10:38:07.567896Z"
    }
   },
   "outputs": [],
   "source": [
    "new_SF_df = SF_df.drop(columns=['bedrooms','beds','maximum_nights','number_of_reviews'])"
   ]
  },
  {
   "cell_type": "code",
   "execution_count": 11,
   "metadata": {
    "ExecuteTime": {
     "end_time": "2020-10-26T10:38:07.635714Z",
     "start_time": "2020-10-26T10:38:07.608787Z"
    }
   },
   "outputs": [
    {
     "name": "stdout",
     "output_type": "stream",
     "text": [
      "Index(['host_response_time', 'host_response_rate', 'host_acceptance_rate',\n",
      "       'host_is_superhost', 'host_listings_count', 'neighbourhood_cleansed',\n",
      "       'property_type', 'room_type', 'accommodates', 'bathrooms', 'amenities',\n",
      "       'price', 'minimum_nights', 'review_scores_rating', 'reviews_per_month',\n",
      "       'price_log'],\n",
      "      dtype='object')\n"
     ]
    }
   ],
   "source": [
    "print(new_SF_df.columns)"
   ]
  },
  {
   "cell_type": "markdown",
   "metadata": {},
   "source": [
    "## Remove based on p-values (Backward Elimination)"
   ]
  },
  {
   "cell_type": "code",
   "execution_count": 12,
   "metadata": {
    "ExecuteTime": {
     "end_time": "2020-10-26T10:38:08.666958Z",
     "start_time": "2020-10-26T10:38:07.638707Z"
    }
   },
   "outputs": [
    {
     "data": {
      "text/html": [
       "<div>\n",
       "<style scoped>\n",
       "    .dataframe tbody tr th:only-of-type {\n",
       "        vertical-align: middle;\n",
       "    }\n",
       "\n",
       "    .dataframe tbody tr th {\n",
       "        vertical-align: top;\n",
       "    }\n",
       "\n",
       "    .dataframe thead th {\n",
       "        text-align: right;\n",
       "    }\n",
       "</style>\n",
       "<table border=\"1\" class=\"dataframe\">\n",
       "  <thead>\n",
       "    <tr style=\"text-align: right;\">\n",
       "      <th></th>\n",
       "      <th>feature</th>\n",
       "      <th>p-value</th>\n",
       "    </tr>\n",
       "  </thead>\n",
       "  <tbody>\n",
       "    <tr>\n",
       "      <th>11</th>\n",
       "      <td>number_of_reviews</td>\n",
       "      <td>2.488412e-01</td>\n",
       "    </tr>\n",
       "    <tr>\n",
       "      <th>9</th>\n",
       "      <td>minimum_nights</td>\n",
       "      <td>1.283259e-01</td>\n",
       "    </tr>\n",
       "    <tr>\n",
       "      <th>10</th>\n",
       "      <td>maximum_nights</td>\n",
       "      <td>1.281501e-01</td>\n",
       "    </tr>\n",
       "    <tr>\n",
       "      <th>12</th>\n",
       "      <td>review_scores_rating</td>\n",
       "      <td>8.483734e-05</td>\n",
       "    </tr>\n",
       "    <tr>\n",
       "      <th>2</th>\n",
       "      <td>host_acceptance_rate</td>\n",
       "      <td>5.620762e-08</td>\n",
       "    </tr>\n",
       "    <tr>\n",
       "      <th>13</th>\n",
       "      <td>reviews_per_month</td>\n",
       "      <td>5.421439e-09</td>\n",
       "    </tr>\n",
       "    <tr>\n",
       "      <th>8</th>\n",
       "      <td>beds</td>\n",
       "      <td>1.464020e-10</td>\n",
       "    </tr>\n",
       "    <tr>\n",
       "      <th>4</th>\n",
       "      <td>host_listings_count</td>\n",
       "      <td>3.476694e-22</td>\n",
       "    </tr>\n",
       "    <tr>\n",
       "      <th>3</th>\n",
       "      <td>host_is_superhost</td>\n",
       "      <td>7.910311e-23</td>\n",
       "    </tr>\n",
       "    <tr>\n",
       "      <th>1</th>\n",
       "      <td>host_response_rate</td>\n",
       "      <td>2.735052e-28</td>\n",
       "    </tr>\n",
       "    <tr>\n",
       "      <th>7</th>\n",
       "      <td>bedrooms</td>\n",
       "      <td>9.156211e-40</td>\n",
       "    </tr>\n",
       "    <tr>\n",
       "      <th>6</th>\n",
       "      <td>bathrooms</td>\n",
       "      <td>1.083075e-53</td>\n",
       "    </tr>\n",
       "    <tr>\n",
       "      <th>5</th>\n",
       "      <td>accommodates</td>\n",
       "      <td>1.324958e-216</td>\n",
       "    </tr>\n",
       "    <tr>\n",
       "      <th>0</th>\n",
       "      <td>const</td>\n",
       "      <td>0.000000e+00</td>\n",
       "    </tr>\n",
       "  </tbody>\n",
       "</table>\n",
       "</div>"
      ],
      "text/plain": [
       "                 feature        p-value\n",
       "11     number_of_reviews   2.488412e-01\n",
       "9         minimum_nights   1.283259e-01\n",
       "10        maximum_nights   1.281501e-01\n",
       "12  review_scores_rating   8.483734e-05\n",
       "2   host_acceptance_rate   5.620762e-08\n",
       "13     reviews_per_month   5.421439e-09\n",
       "8                   beds   1.464020e-10\n",
       "4    host_listings_count   3.476694e-22\n",
       "3      host_is_superhost   7.910311e-23\n",
       "1     host_response_rate   2.735052e-28\n",
       "7               bedrooms   9.156211e-40\n",
       "6              bathrooms   1.083075e-53\n",
       "5           accommodates  1.324958e-216\n",
       "0                  const   0.000000e+00"
      ]
     },
     "execution_count": 12,
     "metadata": {},
     "output_type": "execute_result"
    }
   ],
   "source": [
    "import statsmodels.api as sm\n",
    "\n",
    "y = SF_df['price_log']\n",
    "X = SF_df[numeric_columns].drop(['price','price_log'], axis =1)\n",
    "\n",
    "#Adding constant column of ones, mandatory for sm.OLS model\n",
    "X_1 = sm.add_constant(X)\n",
    "#Fitting sm.OLS model\n",
    "model = sm.OLS(y,X_1).fit()\n",
    "model.pvalues.to_frame().reset_index().rename(columns={'index': 'feature', 0: 'p-value'}).sort_values(by='p-value', ascending=False)"
   ]
  },
  {
   "cell_type": "code",
   "execution_count": 13,
   "metadata": {
    "ExecuteTime": {
     "end_time": "2020-10-26T10:38:08.767689Z",
     "start_time": "2020-10-26T10:38:08.669952Z"
    }
   },
   "outputs": [
    {
     "name": "stdout",
     "output_type": "stream",
     "text": [
      "Selected Features:\n",
      "['host_response_rate', 'host_acceptance_rate', 'host_is_superhost', 'host_listings_count', 'accommodates', 'bathrooms', 'bedrooms', 'beds', 'review_scores_rating', 'reviews_per_month']\n",
      "Removed Features:\n",
      "['number_of_reviews', 'minimum_nights', 'maximum_nights']\n"
     ]
    }
   ],
   "source": [
    "#Backward Elimination\n",
    "cols = list(X.columns)\n",
    "removed_features_BE = []\n",
    "pmax = 1\n",
    "while (len(cols)>0):\n",
    "    p= []\n",
    "    X_1 = X[cols]\n",
    "    X_1 = sm.add_constant(X_1)\n",
    "    model = sm.OLS(y,X_1).fit()\n",
    "    p = pd.Series(model.pvalues.values[1:],index = cols)      \n",
    "    pmax = max(p)\n",
    "    feature_with_p_max = p.idxmax()\n",
    "    if(pmax>0.05): # remove if p-value > 0.05\n",
    "        cols.remove(feature_with_p_max)\n",
    "        removed_features_BE.append(feature_with_p_max)\n",
    "    else:\n",
    "        break\n",
    "selected_features_BE = cols\n",
    "print(\"Selected Features:\")\n",
    "print(selected_features_BE)\n",
    "print(\"Removed Features:\")\n",
    "print(removed_features_BE)"
   ]
  },
  {
   "cell_type": "markdown",
   "metadata": {},
   "source": [
    "## Skipped Removal by Backward Elimination because removing more gives worse performance"
   ]
  },
  {
   "cell_type": "code",
   "execution_count": 14,
   "metadata": {
    "ExecuteTime": {
     "end_time": "2020-10-26T10:38:08.776667Z",
     "start_time": "2020-10-26T10:38:08.770681Z"
    }
   },
   "outputs": [],
   "source": [
    "# for feature in removed_features_BE:\n",
    "#     if feature in new_SF_df.columns:\n",
    "#         new_SF_df.drop(columns=[feature],inplace=True)\n",
    "# print(new_SF_df.columns)\n",
    "# print(len(new_SF_df.columns))"
   ]
  },
  {
   "cell_type": "code",
   "execution_count": 15,
   "metadata": {
    "ExecuteTime": {
     "end_time": "2020-10-26T10:38:08.815560Z",
     "start_time": "2020-10-26T10:38:08.782650Z"
    }
   },
   "outputs": [
    {
     "name": "stdout",
     "output_type": "stream",
     "text": [
      "<class 'pandas.core.frame.DataFrame'>\n",
      "Int64Index: 6848 entries, 0 to 7273\n",
      "Data columns (total 16 columns):\n",
      " #   Column                  Non-Null Count  Dtype  \n",
      "---  ------                  --------------  -----  \n",
      " 0   host_response_time      6848 non-null   object \n",
      " 1   host_response_rate      6848 non-null   float64\n",
      " 2   host_acceptance_rate    6848 non-null   float64\n",
      " 3   host_is_superhost       6848 non-null   int32  \n",
      " 4   host_listings_count     6848 non-null   int64  \n",
      " 5   neighbourhood_cleansed  6848 non-null   object \n",
      " 6   property_type           6848 non-null   object \n",
      " 7   room_type               6848 non-null   object \n",
      " 8   accommodates            6848 non-null   int64  \n",
      " 9   bathrooms               6848 non-null   float64\n",
      " 10  amenities               6848 non-null   object \n",
      " 11  price                   6848 non-null   float64\n",
      " 12  minimum_nights          6848 non-null   int64  \n",
      " 13  review_scores_rating    6848 non-null   float64\n",
      " 14  reviews_per_month       6848 non-null   float64\n",
      " 15  price_log               6848 non-null   float64\n",
      "dtypes: float64(7), int32(1), int64(3), object(5)\n",
      "memory usage: 882.8+ KB\n"
     ]
    }
   ],
   "source": [
    "new_SF_df.info()"
   ]
  },
  {
   "cell_type": "code",
   "execution_count": 16,
   "metadata": {
    "ExecuteTime": {
     "end_time": "2020-10-26T10:38:08.831517Z",
     "start_time": "2020-10-26T10:38:08.818554Z"
    }
   },
   "outputs": [],
   "source": [
    "new_SF_df_copy = new_SF_df"
   ]
  },
  {
   "cell_type": "markdown",
   "metadata": {},
   "source": [
    "# Reassign column types"
   ]
  },
  {
   "cell_type": "code",
   "execution_count": 17,
   "metadata": {
    "ExecuteTime": {
     "end_time": "2020-10-26T10:38:08.852462Z",
     "start_time": "2020-10-26T10:38:08.834510Z"
    }
   },
   "outputs": [
    {
     "name": "stdout",
     "output_type": "stream",
     "text": [
      "['host_response_time', 'neighbourhood_cleansed', 'property_type', 'room_type', 'amenities']\n"
     ]
    }
   ],
   "source": [
    "numerics = ['int16', 'int32', 'int64', 'float16', 'float32', 'float64']\n",
    "numeric_columns = new_SF_df.select_dtypes(include=numerics).columns.to_list()\n",
    "bool_columns = new_SF_df.select_dtypes(include='bool').columns.to_list()\n",
    "object_columns = new_SF_df.select_dtypes(include='object').columns.to_list()\n",
    "print(object_columns)"
   ]
  },
  {
   "cell_type": "markdown",
   "metadata": {},
   "source": [
    "# Data Pre-processing for non-numeric columns"
   ]
  },
  {
   "cell_type": "markdown",
   "metadata": {},
   "source": [
    "## Converting bool to numeric"
   ]
  },
  {
   "cell_type": "code",
   "execution_count": 18,
   "metadata": {
    "ExecuteTime": {
     "end_time": "2020-10-26T10:38:08.879390Z",
     "start_time": "2020-10-26T10:38:08.855456Z"
    }
   },
   "outputs": [
    {
     "data": {
      "text/plain": [
       "0    1\n",
       "1    0\n",
       "2    0\n",
       "3    0\n",
       "5    1\n",
       "Name: host_is_superhost, dtype: int32"
      ]
     },
     "execution_count": 18,
     "metadata": {},
     "output_type": "execute_result"
    }
   ],
   "source": [
    "for column in bool_columns:\n",
    "    SF_df[column] = SF_df[column].replace(False,0,regex=True)\n",
    "    SF_df[column] = SF_df[column].replace(True,1,regex=True)\n",
    "SF_df[\"host_is_superhost\"].head()"
   ]
  },
  {
   "cell_type": "markdown",
   "metadata": {},
   "source": [
    "## Transforming amenities to numeric columns"
   ]
  },
  {
   "cell_type": "code",
   "execution_count": 19,
   "metadata": {
    "ExecuteTime": {
     "end_time": "2020-10-26T10:38:08.972143Z",
     "start_time": "2020-10-26T10:38:08.882382Z"
    }
   },
   "outputs": [
    {
     "data": {
      "text/plain": [
       "0    Heating, Hot water, Stove, Iron, Dryer, Coffee...\n",
       "1    Smoke alarm, Heating, Kitchen, First aid kit, ...\n",
       "2    Host greets you, Heating, Hot water, Kitchen, ...\n",
       "3    Host greets you, Heating, Hot water, Kitchen, ...\n",
       "5    Heating, Hot water, Children\\u2019s books and ...\n",
       "Name: amenities, dtype: object"
      ]
     },
     "execution_count": 19,
     "metadata": {},
     "output_type": "execute_result"
    }
   ],
   "source": [
    "SF_df.amenities = SF_df.amenities.str.replace('\"', \"\")\n",
    "SF_df.amenities = SF_df.amenities.str.replace(\"[\", \"\")\n",
    "SF_df.amenities = SF_df.amenities.str.replace(\"]\", \"\")\n",
    "SF_df['amenities'].head()"
   ]
  },
  {
   "cell_type": "code",
   "execution_count": 20,
   "metadata": {
    "ExecuteTime": {
     "end_time": "2020-10-26T10:38:09.955521Z",
     "start_time": "2020-10-26T10:38:08.975134Z"
    }
   },
   "outputs": [],
   "source": [
    "from sklearn.feature_extraction.text import CountVectorizer\n",
    "\n",
    "count_vectorizer =  CountVectorizer(tokenizer=lambda x: x.split(', '))\n",
    "amenities = count_vectorizer.fit_transform(SF_df['amenities'])\n",
    "df_amenities = pd.DataFrame(amenities.toarray(), columns=count_vectorizer.get_feature_names())\n",
    "df_amenities = df_amenities.drop('',1)"
   ]
  },
  {
   "cell_type": "code",
   "execution_count": 21,
   "metadata": {
    "ExecuteTime": {
     "end_time": "2020-10-26T10:38:09.965486Z",
     "start_time": "2020-10-26T10:38:09.957507Z"
    }
   },
   "outputs": [
    {
     "data": {
      "text/plain": [
       "115"
      ]
     },
     "execution_count": 21,
     "metadata": {},
     "output_type": "execute_result"
    }
   ],
   "source": [
    "len(df_amenities.columns.to_list())"
   ]
  },
  {
   "cell_type": "code",
   "execution_count": 22,
   "metadata": {
    "ExecuteTime": {
     "end_time": "2020-10-26T10:38:09.980446Z",
     "start_time": "2020-10-26T10:38:09.968479Z"
    }
   },
   "outputs": [
    {
     "data": {
      "text/plain": [
       "['air conditioning',\n",
       " 'alarm system',\n",
       " 'baby bath',\n",
       " 'baby monitor',\n",
       " 'babysitter recommendations',\n",
       " 'baking sheet',\n",
       " 'barbecue utensils',\n",
       " 'bathroom essentials',\n",
       " 'bathtub',\n",
       " 'bbq grill',\n",
       " 'beach essentials',\n",
       " 'beachfront',\n",
       " 'bed linens',\n",
       " 'bedroom comforts',\n",
       " 'bread maker',\n",
       " 'breakfast',\n",
       " 'breakfast bar',\n",
       " 'building staff',\n",
       " 'cable tv',\n",
       " 'carbon monoxide alarm',\n",
       " 'changing table',\n",
       " 'children\\\\u2019s books and toys',\n",
       " 'children\\\\u2019s dinnerware',\n",
       " 'cleaning before checkout',\n",
       " 'coffee maker',\n",
       " 'cooking basics',\n",
       " 'crib',\n",
       " 'desk',\n",
       " 'dishes and silverware',\n",
       " 'dishwasher',\n",
       " 'dryer',\n",
       " 'dual vanity',\n",
       " 'elevator',\n",
       " 'essentials',\n",
       " 'ethernet connection',\n",
       " 'ev charger',\n",
       " 'extra pillows and blankets',\n",
       " 'fire extinguisher',\n",
       " 'fireplace guards',\n",
       " 'first aid kit',\n",
       " 'free parking on premises',\n",
       " 'free street parking',\n",
       " 'full kitchen',\n",
       " 'game console',\n",
       " 'garden or backyard',\n",
       " 'gas fireplace',\n",
       " 'gym',\n",
       " 'hair dryer',\n",
       " 'hangers',\n",
       " 'heating',\n",
       " 'high chair',\n",
       " 'host greets you',\n",
       " 'hot tub',\n",
       " 'hot water',\n",
       " 'indoor fireplace',\n",
       " 'iron',\n",
       " 'ironing board',\n",
       " 'jetted tub',\n",
       " 'keypad',\n",
       " 'kitchen',\n",
       " 'kitchenette',\n",
       " 'lake access',\n",
       " 'laptop-friendly workspace',\n",
       " 'lock on bedroom door',\n",
       " 'lockbox',\n",
       " 'long term stays allowed',\n",
       " 'luggage dropoff allowed',\n",
       " 'microwave',\n",
       " 'mini fridge',\n",
       " 'natural gas barbeque',\n",
       " 'office',\n",
       " 'outlet covers',\n",
       " 'oven',\n",
       " 'pack \\\\u2019n play/travel crib',\n",
       " 'paid parking off premises',\n",
       " 'paid parking on premises',\n",
       " 'patio or balcony',\n",
       " 'pets allowed',\n",
       " 'piano',\n",
       " 'pocket wifi',\n",
       " 'pool',\n",
       " 'portable air conditioning',\n",
       " 'private entrance',\n",
       " 'private hot tub',\n",
       " 'private living room',\n",
       " 'refrigerator',\n",
       " 'room-darkening shades',\n",
       " 'security cameras',\n",
       " 'self check-in',\n",
       " 'shampoo',\n",
       " 'shared hot tub',\n",
       " 'shower gel',\n",
       " 'single level home',\n",
       " 'ski-in/ski-out',\n",
       " 'smart home technology',\n",
       " 'smart lock',\n",
       " 'smart tv',\n",
       " 'smoke alarm',\n",
       " 'smoking allowed',\n",
       " 'sonos sound system',\n",
       " 'stair gates',\n",
       " 'stand alone bathtub',\n",
       " 'stand alone rain shower',\n",
       " 'stove',\n",
       " 'suitable for events',\n",
       " 'table corner guards',\n",
       " 'terrace',\n",
       " 'tv',\n",
       " 'walk in closet',\n",
       " 'washer',\n",
       " 'waterfront',\n",
       " 'wet bar',\n",
       " 'wifi',\n",
       " 'window guards',\n",
       " 'wine cooler']"
      ]
     },
     "execution_count": 22,
     "metadata": {},
     "output_type": "execute_result"
    }
   ],
   "source": [
    "df_amenities.columns.to_list()"
   ]
  },
  {
   "cell_type": "code",
   "execution_count": 23,
   "metadata": {
    "ExecuteTime": {
     "end_time": "2020-10-26T10:38:10.033305Z",
     "start_time": "2020-10-26T10:38:09.989423Z"
    }
   },
   "outputs": [
    {
     "data": {
      "text/html": [
       "<div>\n",
       "<style scoped>\n",
       "    .dataframe tbody tr th:only-of-type {\n",
       "        vertical-align: middle;\n",
       "    }\n",
       "\n",
       "    .dataframe tbody tr th {\n",
       "        vertical-align: top;\n",
       "    }\n",
       "\n",
       "    .dataframe thead th {\n",
       "        text-align: right;\n",
       "    }\n",
       "</style>\n",
       "<table border=\"1\" class=\"dataframe\">\n",
       "  <thead>\n",
       "    <tr style=\"text-align: right;\">\n",
       "      <th></th>\n",
       "      <th>host_response_rate</th>\n",
       "      <th>host_acceptance_rate</th>\n",
       "      <th>host_is_superhost</th>\n",
       "      <th>host_listings_count</th>\n",
       "      <th>accommodates</th>\n",
       "      <th>bathrooms</th>\n",
       "      <th>price</th>\n",
       "      <th>minimum_nights</th>\n",
       "      <th>review_scores_rating</th>\n",
       "      <th>reviews_per_month</th>\n",
       "      <th>price_log</th>\n",
       "    </tr>\n",
       "  </thead>\n",
       "  <tbody>\n",
       "    <tr>\n",
       "      <th>0</th>\n",
       "      <td>1.0</td>\n",
       "      <td>0.99</td>\n",
       "      <td>1</td>\n",
       "      <td>1</td>\n",
       "      <td>3</td>\n",
       "      <td>1.0</td>\n",
       "      <td>132.0</td>\n",
       "      <td>2</td>\n",
       "      <td>97.0</td>\n",
       "      <td>1.91</td>\n",
       "      <td>4.882802</td>\n",
       "    </tr>\n",
       "    <tr>\n",
       "      <th>1</th>\n",
       "      <td>0.6</td>\n",
       "      <td>0.83</td>\n",
       "      <td>0</td>\n",
       "      <td>2</td>\n",
       "      <td>5</td>\n",
       "      <td>1.0</td>\n",
       "      <td>235.0</td>\n",
       "      <td>30</td>\n",
       "      <td>98.0</td>\n",
       "      <td>0.81</td>\n",
       "      <td>5.459586</td>\n",
       "    </tr>\n",
       "    <tr>\n",
       "      <th>2</th>\n",
       "      <td>1.0</td>\n",
       "      <td>1.00</td>\n",
       "      <td>0</td>\n",
       "      <td>10</td>\n",
       "      <td>2</td>\n",
       "      <td>4.0</td>\n",
       "      <td>56.0</td>\n",
       "      <td>32</td>\n",
       "      <td>84.0</td>\n",
       "      <td>0.14</td>\n",
       "      <td>4.025352</td>\n",
       "    </tr>\n",
       "    <tr>\n",
       "      <th>3</th>\n",
       "      <td>1.0</td>\n",
       "      <td>1.00</td>\n",
       "      <td>0</td>\n",
       "      <td>10</td>\n",
       "      <td>2</td>\n",
       "      <td>4.0</td>\n",
       "      <td>56.0</td>\n",
       "      <td>32</td>\n",
       "      <td>93.0</td>\n",
       "      <td>0.11</td>\n",
       "      <td>4.025352</td>\n",
       "    </tr>\n",
       "    <tr>\n",
       "      <th>5</th>\n",
       "      <td>1.0</td>\n",
       "      <td>0.96</td>\n",
       "      <td>1</td>\n",
       "      <td>2</td>\n",
       "      <td>3</td>\n",
       "      <td>1.0</td>\n",
       "      <td>169.0</td>\n",
       "      <td>1</td>\n",
       "      <td>98.0</td>\n",
       "      <td>5.47</td>\n",
       "      <td>5.129899</td>\n",
       "    </tr>\n",
       "  </tbody>\n",
       "</table>\n",
       "</div>"
      ],
      "text/plain": [
       "   host_response_rate  host_acceptance_rate  host_is_superhost  \\\n",
       "0                 1.0                  0.99                  1   \n",
       "1                 0.6                  0.83                  0   \n",
       "2                 1.0                  1.00                  0   \n",
       "3                 1.0                  1.00                  0   \n",
       "5                 1.0                  0.96                  1   \n",
       "\n",
       "   host_listings_count  accommodates  bathrooms  price  minimum_nights  \\\n",
       "0                    1             3        1.0  132.0               2   \n",
       "1                    2             5        1.0  235.0              30   \n",
       "2                   10             2        4.0   56.0              32   \n",
       "3                   10             2        4.0   56.0              32   \n",
       "5                    2             3        1.0  169.0               1   \n",
       "\n",
       "   review_scores_rating  reviews_per_month  price_log  \n",
       "0                  97.0               1.91   4.882802  \n",
       "1                  98.0               0.81   5.459586  \n",
       "2                  84.0               0.14   4.025352  \n",
       "3                  93.0               0.11   4.025352  \n",
       "5                  98.0               5.47   5.129899  "
      ]
     },
     "execution_count": 23,
     "metadata": {},
     "output_type": "execute_result"
    }
   ],
   "source": [
    "listings_new = SF_df[numeric_columns+bool_columns]\n",
    "listings_new.head()"
   ]
  },
  {
   "cell_type": "markdown",
   "metadata": {},
   "source": [
    "## Transforming categorical columns to numeric columns and creating new df"
   ]
  },
  {
   "cell_type": "code",
   "execution_count": 24,
   "metadata": {
    "ExecuteTime": {
     "end_time": "2020-10-26T10:38:10.087162Z",
     "start_time": "2020-10-26T10:38:10.042280Z"
    }
   },
   "outputs": [],
   "source": [
    "for categorical_col in object_columns[:-1]:\n",
    "    listings_new = pd.concat([listings_new, pd.get_dummies(SF_df[categorical_col])], axis=1)"
   ]
  },
  {
   "cell_type": "code",
   "execution_count": 25,
   "metadata": {
    "ExecuteTime": {
     "end_time": "2020-10-26T10:38:10.156973Z",
     "start_time": "2020-10-26T10:38:10.090154Z"
    }
   },
   "outputs": [
    {
     "data": {
      "text/html": [
       "<div>\n",
       "<style scoped>\n",
       "    .dataframe tbody tr th:only-of-type {\n",
       "        vertical-align: middle;\n",
       "    }\n",
       "\n",
       "    .dataframe tbody tr th {\n",
       "        vertical-align: top;\n",
       "    }\n",
       "\n",
       "    .dataframe thead th {\n",
       "        text-align: right;\n",
       "    }\n",
       "</style>\n",
       "<table border=\"1\" class=\"dataframe\">\n",
       "  <thead>\n",
       "    <tr style=\"text-align: right;\">\n",
       "      <th></th>\n",
       "      <th>host_response_rate</th>\n",
       "      <th>host_acceptance_rate</th>\n",
       "      <th>host_is_superhost</th>\n",
       "      <th>host_listings_count</th>\n",
       "      <th>accommodates</th>\n",
       "      <th>bathrooms</th>\n",
       "      <th>price</th>\n",
       "      <th>minimum_nights</th>\n",
       "      <th>review_scores_rating</th>\n",
       "      <th>reviews_per_month</th>\n",
       "      <th>...</th>\n",
       "      <th>Shared room in hostel</th>\n",
       "      <th>Shared room in house</th>\n",
       "      <th>Shared room in loft</th>\n",
       "      <th>Shared room in townhouse</th>\n",
       "      <th>Shared room in villa</th>\n",
       "      <th>Tiny house</th>\n",
       "      <th>Entire home/apt</th>\n",
       "      <th>Hotel room</th>\n",
       "      <th>Private room</th>\n",
       "      <th>Shared room</th>\n",
       "    </tr>\n",
       "  </thead>\n",
       "  <tbody>\n",
       "    <tr>\n",
       "      <th>0</th>\n",
       "      <td>1.0</td>\n",
       "      <td>0.99</td>\n",
       "      <td>1</td>\n",
       "      <td>1</td>\n",
       "      <td>3</td>\n",
       "      <td>1.0</td>\n",
       "      <td>132.0</td>\n",
       "      <td>2</td>\n",
       "      <td>97.0</td>\n",
       "      <td>1.91</td>\n",
       "      <td>...</td>\n",
       "      <td>0</td>\n",
       "      <td>0</td>\n",
       "      <td>0</td>\n",
       "      <td>0</td>\n",
       "      <td>0</td>\n",
       "      <td>0</td>\n",
       "      <td>1</td>\n",
       "      <td>0</td>\n",
       "      <td>0</td>\n",
       "      <td>0</td>\n",
       "    </tr>\n",
       "    <tr>\n",
       "      <th>1</th>\n",
       "      <td>0.6</td>\n",
       "      <td>0.83</td>\n",
       "      <td>0</td>\n",
       "      <td>2</td>\n",
       "      <td>5</td>\n",
       "      <td>1.0</td>\n",
       "      <td>235.0</td>\n",
       "      <td>30</td>\n",
       "      <td>98.0</td>\n",
       "      <td>0.81</td>\n",
       "      <td>...</td>\n",
       "      <td>0</td>\n",
       "      <td>0</td>\n",
       "      <td>0</td>\n",
       "      <td>0</td>\n",
       "      <td>0</td>\n",
       "      <td>0</td>\n",
       "      <td>1</td>\n",
       "      <td>0</td>\n",
       "      <td>0</td>\n",
       "      <td>0</td>\n",
       "    </tr>\n",
       "    <tr>\n",
       "      <th>2</th>\n",
       "      <td>1.0</td>\n",
       "      <td>1.00</td>\n",
       "      <td>0</td>\n",
       "      <td>10</td>\n",
       "      <td>2</td>\n",
       "      <td>4.0</td>\n",
       "      <td>56.0</td>\n",
       "      <td>32</td>\n",
       "      <td>84.0</td>\n",
       "      <td>0.14</td>\n",
       "      <td>...</td>\n",
       "      <td>0</td>\n",
       "      <td>0</td>\n",
       "      <td>0</td>\n",
       "      <td>0</td>\n",
       "      <td>0</td>\n",
       "      <td>0</td>\n",
       "      <td>0</td>\n",
       "      <td>0</td>\n",
       "      <td>1</td>\n",
       "      <td>0</td>\n",
       "    </tr>\n",
       "    <tr>\n",
       "      <th>3</th>\n",
       "      <td>1.0</td>\n",
       "      <td>1.00</td>\n",
       "      <td>0</td>\n",
       "      <td>10</td>\n",
       "      <td>2</td>\n",
       "      <td>4.0</td>\n",
       "      <td>56.0</td>\n",
       "      <td>32</td>\n",
       "      <td>93.0</td>\n",
       "      <td>0.11</td>\n",
       "      <td>...</td>\n",
       "      <td>0</td>\n",
       "      <td>0</td>\n",
       "      <td>0</td>\n",
       "      <td>0</td>\n",
       "      <td>0</td>\n",
       "      <td>0</td>\n",
       "      <td>0</td>\n",
       "      <td>0</td>\n",
       "      <td>1</td>\n",
       "      <td>0</td>\n",
       "    </tr>\n",
       "    <tr>\n",
       "      <th>5</th>\n",
       "      <td>1.0</td>\n",
       "      <td>0.96</td>\n",
       "      <td>1</td>\n",
       "      <td>2</td>\n",
       "      <td>3</td>\n",
       "      <td>1.0</td>\n",
       "      <td>169.0</td>\n",
       "      <td>1</td>\n",
       "      <td>98.0</td>\n",
       "      <td>5.47</td>\n",
       "      <td>...</td>\n",
       "      <td>0</td>\n",
       "      <td>0</td>\n",
       "      <td>0</td>\n",
       "      <td>0</td>\n",
       "      <td>0</td>\n",
       "      <td>0</td>\n",
       "      <td>0</td>\n",
       "      <td>0</td>\n",
       "      <td>1</td>\n",
       "      <td>0</td>\n",
       "    </tr>\n",
       "  </tbody>\n",
       "</table>\n",
       "<p>5 rows × 111 columns</p>\n",
       "</div>"
      ],
      "text/plain": [
       "   host_response_rate  host_acceptance_rate  host_is_superhost  \\\n",
       "0                 1.0                  0.99                  1   \n",
       "1                 0.6                  0.83                  0   \n",
       "2                 1.0                  1.00                  0   \n",
       "3                 1.0                  1.00                  0   \n",
       "5                 1.0                  0.96                  1   \n",
       "\n",
       "   host_listings_count  accommodates  bathrooms  price  minimum_nights  \\\n",
       "0                    1             3        1.0  132.0               2   \n",
       "1                    2             5        1.0  235.0              30   \n",
       "2                   10             2        4.0   56.0              32   \n",
       "3                   10             2        4.0   56.0              32   \n",
       "5                    2             3        1.0  169.0               1   \n",
       "\n",
       "   review_scores_rating  reviews_per_month  ...  Shared room in hostel  \\\n",
       "0                  97.0               1.91  ...                      0   \n",
       "1                  98.0               0.81  ...                      0   \n",
       "2                  84.0               0.14  ...                      0   \n",
       "3                  93.0               0.11  ...                      0   \n",
       "5                  98.0               5.47  ...                      0   \n",
       "\n",
       "   Shared room in house  Shared room in loft  Shared room in townhouse  \\\n",
       "0                     0                    0                         0   \n",
       "1                     0                    0                         0   \n",
       "2                     0                    0                         0   \n",
       "3                     0                    0                         0   \n",
       "5                     0                    0                         0   \n",
       "\n",
       "   Shared room in villa  Tiny house  Entire home/apt  Hotel room  \\\n",
       "0                     0           0                1           0   \n",
       "1                     0           0                1           0   \n",
       "2                     0           0                0           0   \n",
       "3                     0           0                0           0   \n",
       "5                     0           0                0           0   \n",
       "\n",
       "   Private room  Shared room  \n",
       "0             0            0  \n",
       "1             0            0  \n",
       "2             1            0  \n",
       "3             1            0  \n",
       "5             1            0  \n",
       "\n",
       "[5 rows x 111 columns]"
      ]
     },
     "execution_count": 25,
     "metadata": {},
     "output_type": "execute_result"
    }
   ],
   "source": [
    "#listings_new.columns.to_list()\n",
    "listings_new.head()"
   ]
  },
  {
   "cell_type": "code",
   "execution_count": 26,
   "metadata": {
    "ExecuteTime": {
     "end_time": "2020-10-26T10:38:10.225790Z",
     "start_time": "2020-10-26T10:38:10.160967Z"
    },
    "scrolled": true
   },
   "outputs": [
    {
     "data": {
      "text/html": [
       "<div>\n",
       "<style scoped>\n",
       "    .dataframe tbody tr th:only-of-type {\n",
       "        vertical-align: middle;\n",
       "    }\n",
       "\n",
       "    .dataframe tbody tr th {\n",
       "        vertical-align: top;\n",
       "    }\n",
       "\n",
       "    .dataframe thead th {\n",
       "        text-align: right;\n",
       "    }\n",
       "</style>\n",
       "<table border=\"1\" class=\"dataframe\">\n",
       "  <thead>\n",
       "    <tr style=\"text-align: right;\">\n",
       "      <th></th>\n",
       "      <th>host_response_rate</th>\n",
       "      <th>host_acceptance_rate</th>\n",
       "      <th>host_is_superhost</th>\n",
       "      <th>host_listings_count</th>\n",
       "      <th>accommodates</th>\n",
       "      <th>bathrooms</th>\n",
       "      <th>price</th>\n",
       "      <th>minimum_nights</th>\n",
       "      <th>review_scores_rating</th>\n",
       "      <th>reviews_per_month</th>\n",
       "      <th>...</th>\n",
       "      <th>table corner guards</th>\n",
       "      <th>terrace</th>\n",
       "      <th>tv</th>\n",
       "      <th>walk in closet</th>\n",
       "      <th>washer</th>\n",
       "      <th>waterfront</th>\n",
       "      <th>wet bar</th>\n",
       "      <th>wifi</th>\n",
       "      <th>window guards</th>\n",
       "      <th>wine cooler</th>\n",
       "    </tr>\n",
       "  </thead>\n",
       "  <tbody>\n",
       "    <tr>\n",
       "      <th>0</th>\n",
       "      <td>1.0</td>\n",
       "      <td>0.99</td>\n",
       "      <td>1</td>\n",
       "      <td>1</td>\n",
       "      <td>3</td>\n",
       "      <td>1.0</td>\n",
       "      <td>132.0</td>\n",
       "      <td>2</td>\n",
       "      <td>97.0</td>\n",
       "      <td>1.91</td>\n",
       "      <td>...</td>\n",
       "      <td>0</td>\n",
       "      <td>0</td>\n",
       "      <td>1</td>\n",
       "      <td>0</td>\n",
       "      <td>1</td>\n",
       "      <td>0</td>\n",
       "      <td>0</td>\n",
       "      <td>1</td>\n",
       "      <td>0</td>\n",
       "      <td>0</td>\n",
       "    </tr>\n",
       "    <tr>\n",
       "      <th>1</th>\n",
       "      <td>0.6</td>\n",
       "      <td>0.83</td>\n",
       "      <td>0</td>\n",
       "      <td>2</td>\n",
       "      <td>5</td>\n",
       "      <td>1.0</td>\n",
       "      <td>235.0</td>\n",
       "      <td>30</td>\n",
       "      <td>98.0</td>\n",
       "      <td>0.81</td>\n",
       "      <td>...</td>\n",
       "      <td>0</td>\n",
       "      <td>0</td>\n",
       "      <td>0</td>\n",
       "      <td>0</td>\n",
       "      <td>1</td>\n",
       "      <td>0</td>\n",
       "      <td>0</td>\n",
       "      <td>1</td>\n",
       "      <td>0</td>\n",
       "      <td>0</td>\n",
       "    </tr>\n",
       "    <tr>\n",
       "      <th>2</th>\n",
       "      <td>1.0</td>\n",
       "      <td>1.00</td>\n",
       "      <td>0</td>\n",
       "      <td>10</td>\n",
       "      <td>2</td>\n",
       "      <td>4.0</td>\n",
       "      <td>56.0</td>\n",
       "      <td>32</td>\n",
       "      <td>84.0</td>\n",
       "      <td>0.14</td>\n",
       "      <td>...</td>\n",
       "      <td>0</td>\n",
       "      <td>0</td>\n",
       "      <td>1</td>\n",
       "      <td>0</td>\n",
       "      <td>1</td>\n",
       "      <td>0</td>\n",
       "      <td>0</td>\n",
       "      <td>1</td>\n",
       "      <td>0</td>\n",
       "      <td>0</td>\n",
       "    </tr>\n",
       "    <tr>\n",
       "      <th>3</th>\n",
       "      <td>1.0</td>\n",
       "      <td>1.00</td>\n",
       "      <td>0</td>\n",
       "      <td>10</td>\n",
       "      <td>2</td>\n",
       "      <td>4.0</td>\n",
       "      <td>56.0</td>\n",
       "      <td>32</td>\n",
       "      <td>93.0</td>\n",
       "      <td>0.11</td>\n",
       "      <td>...</td>\n",
       "      <td>0</td>\n",
       "      <td>0</td>\n",
       "      <td>1</td>\n",
       "      <td>0</td>\n",
       "      <td>1</td>\n",
       "      <td>0</td>\n",
       "      <td>0</td>\n",
       "      <td>1</td>\n",
       "      <td>0</td>\n",
       "      <td>0</td>\n",
       "    </tr>\n",
       "    <tr>\n",
       "      <th>5</th>\n",
       "      <td>1.0</td>\n",
       "      <td>0.96</td>\n",
       "      <td>1</td>\n",
       "      <td>2</td>\n",
       "      <td>3</td>\n",
       "      <td>1.0</td>\n",
       "      <td>169.0</td>\n",
       "      <td>1</td>\n",
       "      <td>98.0</td>\n",
       "      <td>5.47</td>\n",
       "      <td>...</td>\n",
       "      <td>0</td>\n",
       "      <td>0</td>\n",
       "      <td>1</td>\n",
       "      <td>0</td>\n",
       "      <td>1</td>\n",
       "      <td>0</td>\n",
       "      <td>0</td>\n",
       "      <td>1</td>\n",
       "      <td>0</td>\n",
       "      <td>0</td>\n",
       "    </tr>\n",
       "  </tbody>\n",
       "</table>\n",
       "<p>5 rows × 226 columns</p>\n",
       "</div>"
      ],
      "text/plain": [
       "   host_response_rate  host_acceptance_rate  host_is_superhost  \\\n",
       "0                 1.0                  0.99                  1   \n",
       "1                 0.6                  0.83                  0   \n",
       "2                 1.0                  1.00                  0   \n",
       "3                 1.0                  1.00                  0   \n",
       "5                 1.0                  0.96                  1   \n",
       "\n",
       "   host_listings_count  accommodates  bathrooms  price  minimum_nights  \\\n",
       "0                    1             3        1.0  132.0               2   \n",
       "1                    2             5        1.0  235.0              30   \n",
       "2                   10             2        4.0   56.0              32   \n",
       "3                   10             2        4.0   56.0              32   \n",
       "5                    2             3        1.0  169.0               1   \n",
       "\n",
       "   review_scores_rating  reviews_per_month  ...  table corner guards  terrace  \\\n",
       "0                  97.0               1.91  ...                    0        0   \n",
       "1                  98.0               0.81  ...                    0        0   \n",
       "2                  84.0               0.14  ...                    0        0   \n",
       "3                  93.0               0.11  ...                    0        0   \n",
       "5                  98.0               5.47  ...                    0        0   \n",
       "\n",
       "   tv  walk in closet  washer  waterfront  wet bar  wifi  window guards  \\\n",
       "0   1               0       1           0        0     1              0   \n",
       "1   0               0       1           0        0     1              0   \n",
       "2   1               0       1           0        0     1              0   \n",
       "3   1               0       1           0        0     1              0   \n",
       "5   1               0       1           0        0     1              0   \n",
       "\n",
       "   wine cooler  \n",
       "0            0  \n",
       "1            0  \n",
       "2            0  \n",
       "3            0  \n",
       "5            0  \n",
       "\n",
       "[5 rows x 226 columns]"
      ]
     },
     "execution_count": 26,
     "metadata": {},
     "output_type": "execute_result"
    }
   ],
   "source": [
    "listings_new = pd.concat([listings_new, df_amenities], axis=1, join='inner')\n",
    "listings_new.head()"
   ]
  },
  {
   "cell_type": "code",
   "execution_count": 27,
   "metadata": {
    "ExecuteTime": {
     "end_time": "2020-10-26T10:38:10.242745Z",
     "start_time": "2020-10-26T10:38:10.228783Z"
    }
   },
   "outputs": [
    {
     "data": {
      "text/plain": [
       "['host_response_rate',\n",
       " 'host_acceptance_rate',\n",
       " 'host_is_superhost',\n",
       " 'host_listings_count',\n",
       " 'accommodates',\n",
       " 'bathrooms',\n",
       " 'price',\n",
       " 'minimum_nights',\n",
       " 'review_scores_rating',\n",
       " 'reviews_per_month',\n",
       " 'price_log',\n",
       " '-',\n",
       " 'a few days or more',\n",
       " 'within a day',\n",
       " 'within a few hours',\n",
       " 'within an hour',\n",
       " 'Bayview',\n",
       " 'Bernal Heights',\n",
       " 'Castro/Upper Market',\n",
       " 'Chinatown',\n",
       " 'Crocker Amazon',\n",
       " 'Diamond Heights',\n",
       " 'Downtown/Civic Center',\n",
       " 'Excelsior',\n",
       " 'Financial District',\n",
       " 'Glen Park',\n",
       " 'Golden Gate Park',\n",
       " 'Haight Ashbury',\n",
       " 'Inner Richmond',\n",
       " 'Inner Sunset',\n",
       " 'Lakeshore',\n",
       " 'Marina',\n",
       " 'Mission',\n",
       " 'Nob Hill',\n",
       " 'Noe Valley',\n",
       " 'North Beach',\n",
       " 'Ocean View',\n",
       " 'Outer Mission',\n",
       " 'Outer Richmond',\n",
       " 'Outer Sunset',\n",
       " 'Pacific Heights',\n",
       " 'Parkside',\n",
       " 'Potrero Hill',\n",
       " 'Presidio',\n",
       " 'Presidio Heights',\n",
       " 'Russian Hill',\n",
       " 'Seacliff',\n",
       " 'South of Market',\n",
       " 'Treasure Island/YBI',\n",
       " 'Twin Peaks',\n",
       " 'Visitacion Valley',\n",
       " 'West of Twin Peaks',\n",
       " 'Western Addition',\n",
       " 'Boat',\n",
       " 'Casa particular',\n",
       " 'Earth house',\n",
       " 'Entire apartment',\n",
       " 'Entire bungalow',\n",
       " 'Entire cabin',\n",
       " 'Entire condominium',\n",
       " 'Entire cottage',\n",
       " 'Entire floor',\n",
       " 'Entire guest suite',\n",
       " 'Entire guesthouse',\n",
       " 'Entire house',\n",
       " 'Entire in-law',\n",
       " 'Entire loft',\n",
       " 'Entire place',\n",
       " 'Entire serviced apartment',\n",
       " 'Entire townhouse',\n",
       " 'Entire villa',\n",
       " 'Private room',\n",
       " 'Private room in apartment',\n",
       " 'Private room in bed and breakfast',\n",
       " 'Private room in bungalow',\n",
       " 'Private room in cabin',\n",
       " 'Private room in castle',\n",
       " 'Private room in condominium',\n",
       " 'Private room in cottage',\n",
       " 'Private room in earth house',\n",
       " 'Private room in guest suite',\n",
       " 'Private room in guesthouse',\n",
       " 'Private room in hostel',\n",
       " 'Private room in house',\n",
       " 'Private room in hut',\n",
       " 'Private room in loft',\n",
       " 'Private room in resort',\n",
       " 'Private room in serviced apartment',\n",
       " 'Private room in townhouse',\n",
       " 'Private room in villa',\n",
       " 'Room in aparthotel',\n",
       " 'Room in bed and breakfast',\n",
       " 'Room in boutique hotel',\n",
       " 'Room in hostel',\n",
       " 'Room in hotel',\n",
       " 'Room in serviced apartment',\n",
       " 'Shared room in apartment',\n",
       " 'Shared room in bed and breakfast',\n",
       " 'Shared room in boutique hotel',\n",
       " 'Shared room in bungalow',\n",
       " 'Shared room in condominium',\n",
       " 'Shared room in hostel',\n",
       " 'Shared room in house',\n",
       " 'Shared room in loft',\n",
       " 'Shared room in townhouse',\n",
       " 'Shared room in villa',\n",
       " 'Tiny house',\n",
       " 'Entire home/apt',\n",
       " 'Hotel room',\n",
       " 'Private room',\n",
       " 'Shared room',\n",
       " 'air conditioning',\n",
       " 'alarm system',\n",
       " 'baby bath',\n",
       " 'baby monitor',\n",
       " 'babysitter recommendations',\n",
       " 'baking sheet',\n",
       " 'barbecue utensils',\n",
       " 'bathroom essentials',\n",
       " 'bathtub',\n",
       " 'bbq grill',\n",
       " 'beach essentials',\n",
       " 'beachfront',\n",
       " 'bed linens',\n",
       " 'bedroom comforts',\n",
       " 'bread maker',\n",
       " 'breakfast',\n",
       " 'breakfast bar',\n",
       " 'building staff',\n",
       " 'cable tv',\n",
       " 'carbon monoxide alarm',\n",
       " 'changing table',\n",
       " 'children\\\\u2019s books and toys',\n",
       " 'children\\\\u2019s dinnerware',\n",
       " 'cleaning before checkout',\n",
       " 'coffee maker',\n",
       " 'cooking basics',\n",
       " 'crib',\n",
       " 'desk',\n",
       " 'dishes and silverware',\n",
       " 'dishwasher',\n",
       " 'dryer',\n",
       " 'dual vanity',\n",
       " 'elevator',\n",
       " 'essentials',\n",
       " 'ethernet connection',\n",
       " 'ev charger',\n",
       " 'extra pillows and blankets',\n",
       " 'fire extinguisher',\n",
       " 'fireplace guards',\n",
       " 'first aid kit',\n",
       " 'free parking on premises',\n",
       " 'free street parking',\n",
       " 'full kitchen',\n",
       " 'game console',\n",
       " 'garden or backyard',\n",
       " 'gas fireplace',\n",
       " 'gym',\n",
       " 'hair dryer',\n",
       " 'hangers',\n",
       " 'heating',\n",
       " 'high chair',\n",
       " 'host greets you',\n",
       " 'hot tub',\n",
       " 'hot water',\n",
       " 'indoor fireplace',\n",
       " 'iron',\n",
       " 'ironing board',\n",
       " 'jetted tub',\n",
       " 'keypad',\n",
       " 'kitchen',\n",
       " 'kitchenette',\n",
       " 'lake access',\n",
       " 'laptop-friendly workspace',\n",
       " 'lock on bedroom door',\n",
       " 'lockbox',\n",
       " 'long term stays allowed',\n",
       " 'luggage dropoff allowed',\n",
       " 'microwave',\n",
       " 'mini fridge',\n",
       " 'natural gas barbeque',\n",
       " 'office',\n",
       " 'outlet covers',\n",
       " 'oven',\n",
       " 'pack \\\\u2019n play/travel crib',\n",
       " 'paid parking off premises',\n",
       " 'paid parking on premises',\n",
       " 'patio or balcony',\n",
       " 'pets allowed',\n",
       " 'piano',\n",
       " 'pocket wifi',\n",
       " 'pool',\n",
       " 'portable air conditioning',\n",
       " 'private entrance',\n",
       " 'private hot tub',\n",
       " 'private living room',\n",
       " 'refrigerator',\n",
       " 'room-darkening shades',\n",
       " 'security cameras',\n",
       " 'self check-in',\n",
       " 'shampoo',\n",
       " 'shared hot tub',\n",
       " 'shower gel',\n",
       " 'single level home',\n",
       " 'ski-in/ski-out',\n",
       " 'smart home technology',\n",
       " 'smart lock',\n",
       " 'smart tv',\n",
       " 'smoke alarm',\n",
       " 'smoking allowed',\n",
       " 'sonos sound system',\n",
       " 'stair gates',\n",
       " 'stand alone bathtub',\n",
       " 'stand alone rain shower',\n",
       " 'stove',\n",
       " 'suitable for events',\n",
       " 'table corner guards',\n",
       " 'terrace',\n",
       " 'tv',\n",
       " 'walk in closet',\n",
       " 'washer',\n",
       " 'waterfront',\n",
       " 'wet bar',\n",
       " 'wifi',\n",
       " 'window guards',\n",
       " 'wine cooler']"
      ]
     },
     "execution_count": 27,
     "metadata": {},
     "output_type": "execute_result"
    }
   ],
   "source": [
    "listings_new.columns.to_list()\n",
    "# listings_new.columns.duplicated()"
   ]
  },
  {
   "cell_type": "markdown",
   "metadata": {},
   "source": [
    "## Check for Duplicates"
   ]
  },
  {
   "cell_type": "code",
   "execution_count": 28,
   "metadata": {
    "ExecuteTime": {
     "end_time": "2020-10-26T10:38:10.697529Z",
     "start_time": "2020-10-26T10:38:10.245737Z"
    }
   },
   "outputs": [
    {
     "name": "stdout",
     "output_type": "stream",
     "text": [
      "False\n"
     ]
    }
   ],
   "source": [
    "if listings_new.duplicated().any():\n",
    "    duplicate_rows = listings_new[listings_new.duplicated()]\n",
    "    print(\"Duplicates Removed\")\n",
    "print(listings_new.duplicated().any())"
   ]
  },
  {
   "cell_type": "code",
   "execution_count": 29,
   "metadata": {
    "ExecuteTime": {
     "end_time": "2020-10-26T10:38:10.724461Z",
     "start_time": "2020-10-26T10:38:10.700530Z"
    }
   },
   "outputs": [],
   "source": [
    "# rename duplicate column\n",
    "listings_new.columns = \\\n",
    "['host_response_rate',\n",
    " 'host_acceptance_rate',\n",
    " 'host_is_superhost',\n",
    " 'host_listings_count',\n",
    " 'accommodates',\n",
    " 'bathrooms',\n",
    " 'price',\n",
    " 'minimum_nights',\n",
    " 'review_scores_rating',\n",
    " 'reviews_per_month',\n",
    " 'price_log',\n",
    " '-',\n",
    " 'a few days or more',\n",
    " 'within a day',\n",
    " 'within a few hours',\n",
    " 'within an hour',\n",
    " 'Bayview',\n",
    " 'Bernal Heights',\n",
    " 'Castro/Upper Market',\n",
    " 'Chinatown',\n",
    " 'Crocker Amazon',\n",
    " 'Diamond Heights',\n",
    " 'Downtown/Civic Center',\n",
    " 'Excelsior',\n",
    " 'Financial District',\n",
    " 'Glen Park',\n",
    " 'Golden Gate Park',\n",
    " 'Haight Ashbury',\n",
    " 'Inner Richmond',\n",
    " 'Inner Sunset',\n",
    " 'Lakeshore',\n",
    " 'Marina',\n",
    " 'Mission',\n",
    " 'Nob Hill',\n",
    " 'Noe Valley',\n",
    " 'North Beach',\n",
    " 'Ocean View',\n",
    " 'Outer Mission',\n",
    " 'Outer Richmond',\n",
    " 'Outer Sunset',\n",
    " 'Pacific Heights',\n",
    " 'Parkside',\n",
    " 'Potrero Hill',\n",
    " 'Presidio',\n",
    " 'Presidio Heights',\n",
    " 'Russian Hill',\n",
    " 'Seacliff',\n",
    " 'South of Market',\n",
    " 'Treasure Island/YBI',\n",
    " 'Twin Peaks',\n",
    " 'Visitacion Valley',\n",
    " 'West of Twin Peaks',\n",
    " 'Western Addition',\n",
    " 'Boat',\n",
    " 'Casa particular',\n",
    " 'Earth house',\n",
    " 'Entire apartment',\n",
    " 'Entire bungalow',\n",
    " 'Entire cabin',\n",
    " 'Entire condominium',\n",
    " 'Entire cottage',\n",
    " 'Entire floor',\n",
    " 'Entire guest suite',\n",
    " 'Entire guesthouse',\n",
    " 'Entire house',\n",
    " 'Entire in-law',\n",
    " 'Entire loft',\n",
    " 'Entire place',\n",
    " 'Entire serviced apartment',\n",
    " 'Entire townhouse',\n",
    " 'Entire villa',\n",
    " 'Private room (Property Type)',\n",
    " 'Private room in apartment',\n",
    " 'Private room in bed and breakfast',\n",
    " 'Private room in bungalow',\n",
    " 'Private room in cabin',\n",
    " 'Private room in castle',\n",
    " 'Private room in condominium',\n",
    " 'Private room in cottage',\n",
    " 'Private room in earth house',\n",
    " 'Private room in guest suite',\n",
    " 'Private room in guesthouse',\n",
    " 'Private room in hostel',\n",
    " 'Private room in house',\n",
    " 'Private room in hut',\n",
    " 'Private room in loft',\n",
    " 'Private room in resort',\n",
    " 'Private room in serviced apartment',\n",
    " 'Private room in townhouse',\n",
    " 'Private room in villa',\n",
    " 'Room in aparthotel',\n",
    " 'Room in bed and breakfast',\n",
    " 'Room in boutique hotel',\n",
    " 'Room in hostel',\n",
    " 'Room in hotel',\n",
    " 'Room in serviced apartment',\n",
    " 'Shared room in apartment',\n",
    " 'Shared room in bed and breakfast',\n",
    " 'Shared room in boutique hotel',\n",
    " 'Shared room in bungalow',\n",
    " 'Shared room in condominium',\n",
    " 'Shared room in hostel',\n",
    " 'Shared room in house',\n",
    " 'Shared room in loft',\n",
    " 'Shared room in townhouse',\n",
    " 'Shared room in villa',\n",
    " 'Tiny house',\n",
    " 'Entire home/apt',\n",
    " 'Hotel room',\n",
    " 'Private room',\n",
    " 'Shared room',\n",
    " 'air conditioning',\n",
    " 'alarm system',\n",
    " 'baby bath',\n",
    " 'baby monitor',\n",
    " 'babysitter recommendations',\n",
    " 'baking sheet',\n",
    " 'barbecue utensils',\n",
    " 'bathroom essentials',\n",
    " 'bathtub',\n",
    " 'bbq grill',\n",
    " 'beach essentials',\n",
    " 'beachfront',\n",
    " 'bed linens',\n",
    " 'bedroom comforts',\n",
    " 'bread maker',\n",
    " 'breakfast',\n",
    " 'breakfast bar',\n",
    " 'building staff',\n",
    " 'cable tv',\n",
    " 'carbon monoxide alarm',\n",
    " 'changing table',\n",
    " 'children\\\\u2019s books and toys',\n",
    " 'children\\\\u2019s dinnerware',\n",
    " 'cleaning before checkout',\n",
    " 'coffee maker',\n",
    " 'cooking basics',\n",
    " 'crib',\n",
    " 'desk',\n",
    " 'dishes and silverware',\n",
    " 'dishwasher',\n",
    " 'dryer',\n",
    " 'dual vanity',\n",
    " 'elevator',\n",
    " 'essentials',\n",
    " 'ethernet connection',\n",
    " 'ev charger',\n",
    " 'extra pillows and blankets',\n",
    " 'fire extinguisher',\n",
    " 'fireplace guards',\n",
    " 'first aid kit',\n",
    " 'free parking on premises',\n",
    " 'free street parking',\n",
    " 'full kitchen',\n",
    " 'game console',\n",
    " 'garden or backyard',\n",
    " 'gas fireplace',\n",
    " 'gym',\n",
    " 'hair dryer',\n",
    " 'hangers',\n",
    " 'heating',\n",
    " 'high chair',\n",
    " 'host greets you',\n",
    " 'hot tub',\n",
    " 'hot water',\n",
    " 'indoor fireplace',\n",
    " 'iron',\n",
    " 'ironing board',\n",
    " 'jetted tub',\n",
    " 'keypad',\n",
    " 'kitchen',\n",
    " 'kitchenette',\n",
    " 'lake access',\n",
    " 'laptop-friendly workspace',\n",
    " 'lock on bedroom door',\n",
    " 'lockbox',\n",
    " 'long term stays allowed',\n",
    " 'luggage dropoff allowed',\n",
    " 'microwave',\n",
    " 'mini fridge',\n",
    " 'natural gas barbeque',\n",
    " 'office',\n",
    " 'outlet covers',\n",
    " 'oven',\n",
    " 'pack \\\\u2019n play/travel crib',\n",
    " 'paid parking off premises',\n",
    " 'paid parking on premises',\n",
    " 'patio or balcony',\n",
    " 'pets allowed',\n",
    " 'piano',\n",
    " 'pocket wifi',\n",
    " 'pool',\n",
    " 'portable air conditioning',\n",
    " 'private entrance',\n",
    " 'private hot tub',\n",
    " 'private living room',\n",
    " 'refrigerator',\n",
    " 'room-darkening shades',\n",
    " 'security cameras',\n",
    " 'self check-in',\n",
    " 'shampoo',\n",
    " 'shared hot tub',\n",
    " 'shower gel',\n",
    " 'single level home',\n",
    " 'ski-in/ski-out',\n",
    " 'smart home technology',\n",
    " 'smart lock',\n",
    " 'smart tv',\n",
    " 'smoke alarm',\n",
    " 'smoking allowed',\n",
    " 'sonos sound system',\n",
    " 'stair gates',\n",
    " 'stand alone bathtub',\n",
    " 'stand alone rain shower',\n",
    " 'stove',\n",
    " 'suitable for events',\n",
    " 'table corner guards',\n",
    " 'terrace',\n",
    " 'tv',\n",
    " 'walk in closet',\n",
    " 'washer',\n",
    " 'waterfront',\n",
    " 'wet bar',\n",
    " 'wifi',\n",
    " 'window guards',\n",
    " 'wine cooler']"
   ]
  },
  {
   "cell_type": "code",
   "execution_count": 30,
   "metadata": {
    "ExecuteTime": {
     "end_time": "2020-10-26T10:38:10.789283Z",
     "start_time": "2020-10-26T10:38:10.727449Z"
    }
   },
   "outputs": [],
   "source": [
    "listings_new.drop(columns=['-'],inplace=True)"
   ]
  },
  {
   "cell_type": "code",
   "execution_count": 31,
   "metadata": {
    "ExecuteTime": {
     "end_time": "2020-10-26T10:38:10.827187Z",
     "start_time": "2020-10-26T10:38:10.793273Z"
    }
   },
   "outputs": [
    {
     "data": {
      "text/plain": [
       "['host_response_rate',\n",
       " 'host_acceptance_rate',\n",
       " 'host_is_superhost',\n",
       " 'host_listings_count',\n",
       " 'accommodates',\n",
       " 'bathrooms',\n",
       " 'price',\n",
       " 'minimum_nights',\n",
       " 'review_scores_rating',\n",
       " 'reviews_per_month',\n",
       " 'price_log',\n",
       " 'a few days or more',\n",
       " 'within a day',\n",
       " 'within a few hours',\n",
       " 'within an hour',\n",
       " 'Bayview',\n",
       " 'Bernal Heights',\n",
       " 'Castro/Upper Market',\n",
       " 'Chinatown',\n",
       " 'Crocker Amazon',\n",
       " 'Diamond Heights',\n",
       " 'Downtown/Civic Center',\n",
       " 'Excelsior',\n",
       " 'Financial District',\n",
       " 'Glen Park',\n",
       " 'Golden Gate Park',\n",
       " 'Haight Ashbury',\n",
       " 'Inner Richmond',\n",
       " 'Inner Sunset',\n",
       " 'Lakeshore',\n",
       " 'Marina',\n",
       " 'Mission',\n",
       " 'Nob Hill',\n",
       " 'Noe Valley',\n",
       " 'North Beach',\n",
       " 'Ocean View',\n",
       " 'Outer Mission',\n",
       " 'Outer Richmond',\n",
       " 'Outer Sunset',\n",
       " 'Pacific Heights',\n",
       " 'Parkside',\n",
       " 'Potrero Hill',\n",
       " 'Presidio',\n",
       " 'Presidio Heights',\n",
       " 'Russian Hill',\n",
       " 'Seacliff',\n",
       " 'South of Market',\n",
       " 'Treasure Island/YBI',\n",
       " 'Twin Peaks',\n",
       " 'Visitacion Valley',\n",
       " 'West of Twin Peaks',\n",
       " 'Western Addition',\n",
       " 'Boat',\n",
       " 'Casa particular',\n",
       " 'Earth house',\n",
       " 'Entire apartment',\n",
       " 'Entire bungalow',\n",
       " 'Entire cabin',\n",
       " 'Entire condominium',\n",
       " 'Entire cottage',\n",
       " 'Entire floor',\n",
       " 'Entire guest suite',\n",
       " 'Entire guesthouse',\n",
       " 'Entire house',\n",
       " 'Entire in-law',\n",
       " 'Entire loft',\n",
       " 'Entire place',\n",
       " 'Entire serviced apartment',\n",
       " 'Entire townhouse',\n",
       " 'Entire villa',\n",
       " 'Private room (Property Type)',\n",
       " 'Private room in apartment',\n",
       " 'Private room in bed and breakfast',\n",
       " 'Private room in bungalow',\n",
       " 'Private room in cabin',\n",
       " 'Private room in castle',\n",
       " 'Private room in condominium',\n",
       " 'Private room in cottage',\n",
       " 'Private room in earth house',\n",
       " 'Private room in guest suite',\n",
       " 'Private room in guesthouse',\n",
       " 'Private room in hostel',\n",
       " 'Private room in house',\n",
       " 'Private room in hut',\n",
       " 'Private room in loft',\n",
       " 'Private room in resort',\n",
       " 'Private room in serviced apartment',\n",
       " 'Private room in townhouse',\n",
       " 'Private room in villa',\n",
       " 'Room in aparthotel',\n",
       " 'Room in bed and breakfast',\n",
       " 'Room in boutique hotel',\n",
       " 'Room in hostel',\n",
       " 'Room in hotel',\n",
       " 'Room in serviced apartment',\n",
       " 'Shared room in apartment',\n",
       " 'Shared room in bed and breakfast',\n",
       " 'Shared room in boutique hotel',\n",
       " 'Shared room in bungalow',\n",
       " 'Shared room in condominium',\n",
       " 'Shared room in hostel',\n",
       " 'Shared room in house',\n",
       " 'Shared room in loft',\n",
       " 'Shared room in townhouse',\n",
       " 'Shared room in villa',\n",
       " 'Tiny house',\n",
       " 'Entire home/apt',\n",
       " 'Hotel room',\n",
       " 'Private room',\n",
       " 'Shared room',\n",
       " 'air conditioning',\n",
       " 'alarm system',\n",
       " 'baby bath',\n",
       " 'baby monitor',\n",
       " 'babysitter recommendations',\n",
       " 'baking sheet',\n",
       " 'barbecue utensils',\n",
       " 'bathroom essentials',\n",
       " 'bathtub',\n",
       " 'bbq grill',\n",
       " 'beach essentials',\n",
       " 'beachfront',\n",
       " 'bed linens',\n",
       " 'bedroom comforts',\n",
       " 'bread maker',\n",
       " 'breakfast',\n",
       " 'breakfast bar',\n",
       " 'building staff',\n",
       " 'cable tv',\n",
       " 'carbon monoxide alarm',\n",
       " 'changing table',\n",
       " 'children\\\\u2019s books and toys',\n",
       " 'children\\\\u2019s dinnerware',\n",
       " 'cleaning before checkout',\n",
       " 'coffee maker',\n",
       " 'cooking basics',\n",
       " 'crib',\n",
       " 'desk',\n",
       " 'dishes and silverware',\n",
       " 'dishwasher',\n",
       " 'dryer',\n",
       " 'dual vanity',\n",
       " 'elevator',\n",
       " 'essentials',\n",
       " 'ethernet connection',\n",
       " 'ev charger',\n",
       " 'extra pillows and blankets',\n",
       " 'fire extinguisher',\n",
       " 'fireplace guards',\n",
       " 'first aid kit',\n",
       " 'free parking on premises',\n",
       " 'free street parking',\n",
       " 'full kitchen',\n",
       " 'game console',\n",
       " 'garden or backyard',\n",
       " 'gas fireplace',\n",
       " 'gym',\n",
       " 'hair dryer',\n",
       " 'hangers',\n",
       " 'heating',\n",
       " 'high chair',\n",
       " 'host greets you',\n",
       " 'hot tub',\n",
       " 'hot water',\n",
       " 'indoor fireplace',\n",
       " 'iron',\n",
       " 'ironing board',\n",
       " 'jetted tub',\n",
       " 'keypad',\n",
       " 'kitchen',\n",
       " 'kitchenette',\n",
       " 'lake access',\n",
       " 'laptop-friendly workspace',\n",
       " 'lock on bedroom door',\n",
       " 'lockbox',\n",
       " 'long term stays allowed',\n",
       " 'luggage dropoff allowed',\n",
       " 'microwave',\n",
       " 'mini fridge',\n",
       " 'natural gas barbeque',\n",
       " 'office',\n",
       " 'outlet covers',\n",
       " 'oven',\n",
       " 'pack \\\\u2019n play/travel crib',\n",
       " 'paid parking off premises',\n",
       " 'paid parking on premises',\n",
       " 'patio or balcony',\n",
       " 'pets allowed',\n",
       " 'piano',\n",
       " 'pocket wifi',\n",
       " 'pool',\n",
       " 'portable air conditioning',\n",
       " 'private entrance',\n",
       " 'private hot tub',\n",
       " 'private living room',\n",
       " 'refrigerator',\n",
       " 'room-darkening shades',\n",
       " 'security cameras',\n",
       " 'self check-in',\n",
       " 'shampoo',\n",
       " 'shared hot tub',\n",
       " 'shower gel',\n",
       " 'single level home',\n",
       " 'ski-in/ski-out',\n",
       " 'smart home technology',\n",
       " 'smart lock',\n",
       " 'smart tv',\n",
       " 'smoke alarm',\n",
       " 'smoking allowed',\n",
       " 'sonos sound system',\n",
       " 'stair gates',\n",
       " 'stand alone bathtub',\n",
       " 'stand alone rain shower',\n",
       " 'stove',\n",
       " 'suitable for events',\n",
       " 'table corner guards',\n",
       " 'terrace',\n",
       " 'tv',\n",
       " 'walk in closet',\n",
       " 'washer',\n",
       " 'waterfront',\n",
       " 'wet bar',\n",
       " 'wifi',\n",
       " 'window guards',\n",
       " 'wine cooler']"
      ]
     },
     "execution_count": 31,
     "metadata": {},
     "output_type": "execute_result"
    }
   ],
   "source": [
    "listings_new.columns.to_list()"
   ]
  },
  {
   "cell_type": "code",
   "execution_count": 32,
   "metadata": {
    "ExecuteTime": {
     "end_time": "2020-10-26T10:38:10.883033Z",
     "start_time": "2020-10-26T10:38:10.833170Z"
    }
   },
   "outputs": [
    {
     "name": "stdout",
     "output_type": "stream",
     "text": [
      "<class 'pandas.core.frame.DataFrame'>\n",
      "Int64Index: 6465 entries, 0 to 6847\n",
      "Columns: 225 entries, host_response_rate to wine cooler\n",
      "dtypes: float64(7), int32(1), int64(118), uint8(99)\n",
      "memory usage: 6.8 MB\n"
     ]
    }
   ],
   "source": [
    "listings_new.info()"
   ]
  },
  {
   "cell_type": "markdown",
   "metadata": {},
   "source": [
    "# Feature Selection by Backward Elimination"
   ]
  },
  {
   "cell_type": "markdown",
   "metadata": {},
   "source": [
    "## Remove based on p-values (Backward Elimination)"
   ]
  },
  {
   "cell_type": "code",
   "execution_count": 33,
   "metadata": {
    "ExecuteTime": {
     "end_time": "2020-10-26T10:38:11.335825Z",
     "start_time": "2020-10-26T10:38:10.886025Z"
    }
   },
   "outputs": [
    {
     "data": {
      "text/html": [
       "<div>\n",
       "<style scoped>\n",
       "    .dataframe tbody tr th:only-of-type {\n",
       "        vertical-align: middle;\n",
       "    }\n",
       "\n",
       "    .dataframe tbody tr th {\n",
       "        vertical-align: top;\n",
       "    }\n",
       "\n",
       "    .dataframe thead th {\n",
       "        text-align: right;\n",
       "    }\n",
       "</style>\n",
       "<table border=\"1\" class=\"dataframe\">\n",
       "  <thead>\n",
       "    <tr style=\"text-align: right;\">\n",
       "      <th></th>\n",
       "      <th>feature</th>\n",
       "      <th>p-value</th>\n",
       "    </tr>\n",
       "  </thead>\n",
       "  <tbody>\n",
       "    <tr>\n",
       "      <th>80</th>\n",
       "      <td>Private room in hostel</td>\n",
       "      <td>9.763837e-01</td>\n",
       "    </tr>\n",
       "    <tr>\n",
       "      <th>212</th>\n",
       "      <td>stove</td>\n",
       "      <td>9.741217e-01</td>\n",
       "    </tr>\n",
       "    <tr>\n",
       "      <th>145</th>\n",
       "      <td>extra pillows and blankets</td>\n",
       "      <td>9.655186e-01</td>\n",
       "    </tr>\n",
       "    <tr>\n",
       "      <th>76</th>\n",
       "      <td>Private room in cottage</td>\n",
       "      <td>9.566239e-01</td>\n",
       "    </tr>\n",
       "    <tr>\n",
       "      <th>174</th>\n",
       "      <td>long term stays allowed</td>\n",
       "      <td>9.547634e-01</td>\n",
       "    </tr>\n",
       "    <tr>\n",
       "      <th>...</th>\n",
       "      <td>...</td>\n",
       "      <td>...</td>\n",
       "    </tr>\n",
       "    <tr>\n",
       "      <th>106</th>\n",
       "      <td>Hotel room</td>\n",
       "      <td>1.488973e-67</td>\n",
       "    </tr>\n",
       "    <tr>\n",
       "      <th>105</th>\n",
       "      <td>Entire home/apt</td>\n",
       "      <td>1.897956e-80</td>\n",
       "    </tr>\n",
       "    <tr>\n",
       "      <th>107</th>\n",
       "      <td>Private room</td>\n",
       "      <td>3.352829e-87</td>\n",
       "    </tr>\n",
       "    <tr>\n",
       "      <th>5</th>\n",
       "      <td>accommodates</td>\n",
       "      <td>1.546203e-280</td>\n",
       "    </tr>\n",
       "    <tr>\n",
       "      <th>0</th>\n",
       "      <td>const</td>\n",
       "      <td>0.000000e+00</td>\n",
       "    </tr>\n",
       "  </tbody>\n",
       "</table>\n",
       "<p>224 rows × 2 columns</p>\n",
       "</div>"
      ],
      "text/plain": [
       "                        feature        p-value\n",
       "80       Private room in hostel   9.763837e-01\n",
       "212                       stove   9.741217e-01\n",
       "145  extra pillows and blankets   9.655186e-01\n",
       "76      Private room in cottage   9.566239e-01\n",
       "174     long term stays allowed   9.547634e-01\n",
       "..                          ...            ...\n",
       "106                  Hotel room   1.488973e-67\n",
       "105             Entire home/apt   1.897956e-80\n",
       "107                Private room   3.352829e-87\n",
       "5                  accommodates  1.546203e-280\n",
       "0                         const   0.000000e+00\n",
       "\n",
       "[224 rows x 2 columns]"
      ]
     },
     "execution_count": 33,
     "metadata": {},
     "output_type": "execute_result"
    }
   ],
   "source": [
    "import statsmodels.api as sm\n",
    "\n",
    "y = listings_new['price_log']\n",
    "X = listings_new.drop(['price','price_log'], axis =1)\n",
    "\n",
    "#Adding constant column of ones, mandatory for sm.OLS model\n",
    "X_1 = sm.add_constant(X)\n",
    "#Fitting sm.OLS model\n",
    "model = sm.OLS(y,X_1).fit()\n",
    "model.pvalues.to_frame().reset_index().rename(columns={'index': 'feature', 0: 'p-value'}).sort_values(by='p-value', ascending=False)"
   ]
  },
  {
   "cell_type": "code",
   "execution_count": 34,
   "metadata": {
    "ExecuteTime": {
     "end_time": "2020-10-26T10:38:46.860844Z",
     "start_time": "2020-10-26T10:38:11.339813Z"
    }
   },
   "outputs": [
    {
     "name": "stdout",
     "output_type": "stream",
     "text": [
      "Selected Features: 65\n",
      "['host_response_rate', 'host_acceptance_rate', 'host_is_superhost', 'host_listings_count', 'accommodates', 'reviews_per_month', 'a few days or more', 'within a day', 'within a few hours', 'within an hour', 'Bayview', 'Bernal Heights', 'Castro/Upper Market', 'Chinatown', 'Crocker Amazon', 'Downtown/Civic Center', 'Excelsior', 'Financial District', 'Haight Ashbury', 'Inner Sunset', 'Lakeshore', 'Marina', 'Noe Valley', 'North Beach', 'Ocean View', 'Outer Mission', 'Outer Sunset', 'Pacific Heights', 'Parkside', 'Potrero Hill', 'Russian Hill', 'South of Market', 'Visitacion Valley', 'West of Twin Peaks', 'Earth house', 'Entire condominium', 'Entire house', 'Entire loft', 'Entire serviced apartment', 'Entire townhouse', 'Entire villa', 'Private room (Property Type)', 'Private room in apartment', 'Private room in condominium', 'Private room in guest suite', 'Private room in guesthouse', 'Private room in loft', 'Private room in resort', 'Room in bed and breakfast', 'Room in boutique hotel', 'Room in hostel', 'Room in hotel', 'Shared room in condominium', 'Shared room in hostel', 'Shared room in loft', 'Entire home/apt', 'Hotel room', 'Private room', 'bread maker', 'children\\\\u2019s dinnerware', 'dishwasher', 'hangers', 'keypad', 'lock on bedroom door', 'shampoo']\n",
      "Removed Features: 158\n",
      "['Private room in hostel', 'Casa particular', 'stove', 'Private room in cottage', 'extra pillows and blankets', 'long term stays allowed', 'crib', 'pool', 'Private room in house', 'hot water', 'paid parking off premises', 'review_scores_rating', 'hair dryer', 'Private room in cabin', 'laptop-friendly workspace', 'window guards', 'first aid kit', 'Shared room in bungalow', 'Shared room in house', 'changing table', 'high chair', 'bathroom essentials', 'bedroom comforts', 'ev charger', 'shared hot tub', 'host greets you', 'self check-in', 'Entire in-law', 'Shared room in townhouse', 'paid parking on premises', 'Presidio', 'Presidio Heights', 'Nob Hill', 'Mission', 'Diamond Heights', 'oven', 'pocket wifi', 'heating', 'walk in closet', 'mini fridge', 'wet bar', 'natural gas barbeque', 'desk', 'alarm system', 'dual vanity', 'stand alone rain shower', 'ironing board', 'terrace', 'breakfast bar', 'security cameras', 'kitchenette', 'indoor fireplace', 'Private room in villa', 'table corner guards', 'hot tub', 'dishes and silverware', 'cable tv', 'beach essentials', 'Private room in earth house', 'bed linens', 'waterfront', 'elevator', 'bbq grill', 'barbecue utensils', 'Golden Gate Park', 'Western Addition', 'Entire floor', 'Entire cabin', 'carbon monoxide alarm', 'lockbox', 'bathtub', 'tv', 'bathrooms', 'breakfast', 'air conditioning', 'gym', 'lake access', 'Entire bungalow', 'Entire apartment', 'Entire guest suite', 'Treasure Island/YBI', 'Boat', 'Entire place', 'beachfront', 'children\\\\u2019s books and toys', 'room-darkening shades', 'ethernet connection', 'baking sheet', 'stair gates', 'single level home', 'coffee maker', 'Seacliff', 'Inner Richmond', 'Glen Park', 'patio or balcony', 'fire extinguisher', 'free parking on premises', 'smoke alarm', 'private entrance', 'cooking basics', 'baby monitor', 'washer', 'ski-in/ski-out', 'Private room in castle', 'private living room', 'private hot tub', 'Tiny house', 'Private room in hut', 'smart lock', 'Shared room in apartment', 'suitable for events', 'smoking allowed', 'dryer', 'kitchen', 'Private room in bungalow', 'Shared room in villa', 'Shared room in bed and breakfast', 'pets allowed', 'Outer Richmond', 'microwave', 'refrigerator', 'luggage dropoff allowed', 'building staff', 'free street parking', 'baby bath', 'babysitter recommendations', 'piano', 'Room in aparthotel', 'Private room in townhouse', 'Shared room in boutique hotel', 'Private room in bed and breakfast', 'cleaning before checkout', 'jetted tub', 'office', 'wine cooler', 'portable air conditioning', 'gas fireplace', 'stand alone bathtub', 'sonos sound system', 'smart tv', 'smart home technology', 'minimum_nights', 'Room in serviced apartment', 'outlet covers', 'Twin Peaks', 'shower gel', 'wifi', 'garden or backyard', 'pack \\\\u2019n play/travel crib', 'Entire guesthouse', 'Private room in serviced apartment', 'game console', 'fireplace guards', 'iron', 'essentials', 'full kitchen', 'Shared room', 'Entire cottage']\n"
     ]
    }
   ],
   "source": [
    "#Backward Elimination\n",
    "cols = list(X.columns)\n",
    "removed_features_BE = []\n",
    "pmax = 1\n",
    "while (len(cols)>0):\n",
    "    p= []\n",
    "    X_1 = X[cols]\n",
    "    X_1 = sm.add_constant(X_1)\n",
    "    model = sm.OLS(y,X_1).fit()\n",
    "    p = pd.Series(model.pvalues.values[1:],index = cols)      \n",
    "    pmax = max(p)\n",
    "    feature_with_p_max = p.idxmax()\n",
    "    if(pmax>0.05): # remove if p-value > 0.05\n",
    "        cols.remove(feature_with_p_max)\n",
    "        removed_features_BE.append(feature_with_p_max)\n",
    "    else:\n",
    "        break\n",
    "selected_features_BE = cols\n",
    "print(f\"Selected Features: {len(selected_features_BE)}\")\n",
    "print(selected_features_BE)\n",
    "print(f\"Removed Features: {len(removed_features_BE)}\")\n",
    "print(removed_features_BE)"
   ]
  },
  {
   "cell_type": "markdown",
   "metadata": {},
   "source": [
    "## Skipped Removal by Backward Elimination because removing more gives worse performance"
   ]
  },
  {
   "cell_type": "code",
   "execution_count": 35,
   "metadata": {
    "ExecuteTime": {
     "end_time": "2020-10-26T10:38:46.867827Z",
     "start_time": "2020-10-26T10:38:46.863837Z"
    }
   },
   "outputs": [],
   "source": [
    "# for feature in removed_features_BE:\n",
    "#     if feature in listings_new.columns:\n",
    "#         listings_new.drop(columns=[feature],inplace=True)\n",
    "# print(listings_new.columns)\n",
    "# print(len(listings_new.columns))"
   ]
  },
  {
   "cell_type": "code",
   "execution_count": 37,
   "metadata": {
    "ExecuteTime": {
     "end_time": "2020-10-26T10:39:28.199326Z",
     "start_time": "2020-10-26T10:39:28.191347Z"
    }
   },
   "outputs": [],
   "source": [
    "# listings_new.to_pickle('listings_for_analysis.pkl')\n",
    "\n",
    "\n",
    "# pickle_listings_new_df = pd.read_pickle('listings_for_analysis.pkl')\n",
    "# pickle_listings_new_df.head(5)"
   ]
  },
  {
   "cell_type": "markdown",
   "metadata": {},
   "source": [
    "# Train/Test split"
   ]
  },
  {
   "cell_type": "code",
   "execution_count": 38,
   "metadata": {
    "ExecuteTime": {
     "end_time": "2020-10-26T10:39:28.312024Z",
     "start_time": "2020-10-26T10:39:28.202318Z"
    }
   },
   "outputs": [],
   "source": [
    "from sklearn.model_selection import train_test_split\n",
    "y = listings_new['price_log'] # target/dependent variable\n",
    "x = listings_new.drop(['price','price_log'], axis =1) # independent variables\n",
    "\n",
    "X_train, X_test, y_train, y_test = train_test_split(x, y, test_size = 0.25, random_state=1)"
   ]
  },
  {
   "cell_type": "markdown",
   "metadata": {
    "ExecuteTime": {
     "end_time": "2020-09-25T21:26:48.820835Z",
     "start_time": "2020-09-25T21:26:48.816846Z"
    }
   },
   "source": [
    "# Random Forest"
   ]
  },
  {
   "cell_type": "markdown",
   "metadata": {
    "ExecuteTime": {
     "end_time": "2020-09-25T21:26:48.820835Z",
     "start_time": "2020-09-25T21:26:48.816846Z"
    }
   },
   "source": [
    "## Train/Test w Random Forest Algorithm"
   ]
  },
  {
   "cell_type": "code",
   "execution_count": 39,
   "metadata": {
    "ExecuteTime": {
     "end_time": "2020-10-26T10:40:10.324700Z",
     "start_time": "2020-10-26T10:39:28.318007Z"
    }
   },
   "outputs": [
    {
     "name": "stdout",
     "output_type": "stream",
     "text": [
      "RMSE test: 0.355\n",
      "R^2 test: 0.679\n"
     ]
    }
   ],
   "source": [
    "from sklearn.metrics import r2_score\n",
    "from sklearn.metrics import mean_squared_error\n",
    "from sklearn.ensemble import RandomForestRegressor\n",
    "\n",
    "rf = RandomForestRegressor(n_estimators=500, \n",
    "                               criterion='mse', \n",
    "                               random_state=3, \n",
    "                               n_jobs=-1)\n",
    "rf.fit(X_train, y_train)\n",
    "y_train_pred = rf.predict(X_train)\n",
    "y_test_pred = rf.predict(X_test)\n",
    "rmse_rf= (mean_squared_error(y_test,y_test_pred))**(1/2)\n",
    "\n",
    "print('RMSE test: %.3f' % rmse_rf)\n",
    "print('R^2 test: %.3f' % (r2_score(y_test, y_test_pred)))"
   ]
  },
  {
   "cell_type": "markdown",
   "metadata": {
    "ExecuteTime": {
     "end_time": "2020-09-25T21:26:48.820835Z",
     "start_time": "2020-09-25T21:26:48.816846Z"
    }
   },
   "source": [
    "## Feature Importance of Random Forest Algorithm"
   ]
  },
  {
   "cell_type": "code",
   "execution_count": 40,
   "metadata": {
    "ExecuteTime": {
     "end_time": "2020-10-26T10:40:10.592983Z",
     "start_time": "2020-10-26T10:40:10.327693Z"
    },
    "scrolled": true
   },
   "outputs": [
    {
     "data": {
      "text/html": [
       "<div>\n",
       "<style scoped>\n",
       "    .dataframe tbody tr th:only-of-type {\n",
       "        vertical-align: middle;\n",
       "    }\n",
       "\n",
       "    .dataframe tbody tr th {\n",
       "        vertical-align: top;\n",
       "    }\n",
       "\n",
       "    .dataframe thead th {\n",
       "        text-align: right;\n",
       "    }\n",
       "</style>\n",
       "<table border=\"1\" class=\"dataframe\">\n",
       "  <thead>\n",
       "    <tr style=\"text-align: right;\">\n",
       "      <th></th>\n",
       "      <th>feature</th>\n",
       "      <th>coefs</th>\n",
       "    </tr>\n",
       "  </thead>\n",
       "  <tbody>\n",
       "    <tr>\n",
       "      <th>4</th>\n",
       "      <td>accommodates</td>\n",
       "      <td>0.282692</td>\n",
       "    </tr>\n",
       "    <tr>\n",
       "      <th>6</th>\n",
       "      <td>minimum_nights</td>\n",
       "      <td>0.084580</td>\n",
       "    </tr>\n",
       "    <tr>\n",
       "      <th>104</th>\n",
       "      <td>Entire home/apt</td>\n",
       "      <td>0.069539</td>\n",
       "    </tr>\n",
       "    <tr>\n",
       "      <th>8</th>\n",
       "      <td>reviews_per_month</td>\n",
       "      <td>0.068540</td>\n",
       "    </tr>\n",
       "    <tr>\n",
       "      <th>107</th>\n",
       "      <td>Shared room</td>\n",
       "      <td>0.065713</td>\n",
       "    </tr>\n",
       "    <tr>\n",
       "      <th>3</th>\n",
       "      <td>host_listings_count</td>\n",
       "      <td>0.048084</td>\n",
       "    </tr>\n",
       "    <tr>\n",
       "      <th>5</th>\n",
       "      <td>bathrooms</td>\n",
       "      <td>0.043789</td>\n",
       "    </tr>\n",
       "    <tr>\n",
       "      <th>1</th>\n",
       "      <td>host_acceptance_rate</td>\n",
       "      <td>0.022793</td>\n",
       "    </tr>\n",
       "    <tr>\n",
       "      <th>106</th>\n",
       "      <td>Private room</td>\n",
       "      <td>0.022277</td>\n",
       "    </tr>\n",
       "    <tr>\n",
       "      <th>7</th>\n",
       "      <td>review_scores_rating</td>\n",
       "      <td>0.021698</td>\n",
       "    </tr>\n",
       "    <tr>\n",
       "      <th>0</th>\n",
       "      <td>host_response_rate</td>\n",
       "      <td>0.020734</td>\n",
       "    </tr>\n",
       "    <tr>\n",
       "      <th>80</th>\n",
       "      <td>Private room in house</td>\n",
       "      <td>0.007899</td>\n",
       "    </tr>\n",
       "    <tr>\n",
       "      <th>19</th>\n",
       "      <td>Downtown/Civic Center</td>\n",
       "      <td>0.005295</td>\n",
       "    </tr>\n",
       "    <tr>\n",
       "      <th>56</th>\n",
       "      <td>Entire condominium</td>\n",
       "      <td>0.004595</td>\n",
       "    </tr>\n",
       "    <tr>\n",
       "      <th>44</th>\n",
       "      <td>South of Market</td>\n",
       "      <td>0.004484</td>\n",
       "    </tr>\n",
       "    <tr>\n",
       "      <th>2</th>\n",
       "      <td>host_is_superhost</td>\n",
       "      <td>0.004438</td>\n",
       "    </tr>\n",
       "    <tr>\n",
       "      <th>15</th>\n",
       "      <td>Castro/Upper Market</td>\n",
       "      <td>0.003996</td>\n",
       "    </tr>\n",
       "    <tr>\n",
       "      <th>11</th>\n",
       "      <td>within a few hours</td>\n",
       "      <td>0.003922</td>\n",
       "    </tr>\n",
       "    <tr>\n",
       "      <th>12</th>\n",
       "      <td>within an hour</td>\n",
       "      <td>0.003737</td>\n",
       "    </tr>\n",
       "    <tr>\n",
       "      <th>33</th>\n",
       "      <td>Ocean View</td>\n",
       "      <td>0.003651</td>\n",
       "    </tr>\n",
       "  </tbody>\n",
       "</table>\n",
       "</div>"
      ],
      "text/plain": [
       "                   feature     coefs\n",
       "4             accommodates  0.282692\n",
       "6           minimum_nights  0.084580\n",
       "104        Entire home/apt  0.069539\n",
       "8        reviews_per_month  0.068540\n",
       "107            Shared room  0.065713\n",
       "3      host_listings_count  0.048084\n",
       "5                bathrooms  0.043789\n",
       "1     host_acceptance_rate  0.022793\n",
       "106           Private room  0.022277\n",
       "7     review_scores_rating  0.021698\n",
       "0       host_response_rate  0.020734\n",
       "80   Private room in house  0.007899\n",
       "19   Downtown/Civic Center  0.005295\n",
       "56      Entire condominium  0.004595\n",
       "44         South of Market  0.004484\n",
       "2        host_is_superhost  0.004438\n",
       "15     Castro/Upper Market  0.003996\n",
       "11      within a few hours  0.003922\n",
       "12          within an hour  0.003737\n",
       "33              Ocean View  0.003651"
      ]
     },
     "execution_count": 40,
     "metadata": {},
     "output_type": "execute_result"
    }
   ],
   "source": [
    "coefs_df = pd.DataFrame()\n",
    "coefs_df['feature'] = X_train.columns\n",
    "coefs_df['coefs'] = rf.feature_importances_\n",
    "coefs_df.sort_values('coefs', ascending=False).head(20)"
   ]
  },
  {
   "cell_type": "code",
   "execution_count": 41,
   "metadata": {
    "ExecuteTime": {
     "end_time": "2020-10-26T10:40:11.713985Z",
     "start_time": "2020-10-26T10:40:10.595975Z"
    }
   },
   "outputs": [
    {
     "data": {
      "text/plain": [
       "<matplotlib.axes._subplots.AxesSubplot at 0x2324e053588>"
      ]
     },
     "execution_count": 41,
     "metadata": {},
     "output_type": "execute_result"
    },
    {
     "data": {
      "image/png": "[encoded data removed]",
      "text/plain": [
       "<Figure size 720x432 with 1 Axes>"
      ]
     },
     "metadata": {},
     "output_type": "display_data"
    }
   ],
   "source": [
    "feat_imp = pd.Series(rf.feature_importances_, index=X_train.columns)\n",
    "feat_imp.nlargest(20).plot(kind='barh', figsize=(10,6))"
   ]
  },
  {
   "cell_type": "markdown",
   "metadata": {
    "ExecuteTime": {
     "end_time": "2020-09-25T21:26:48.820835Z",
     "start_time": "2020-09-25T21:26:48.816846Z"
    }
   },
   "source": [
    "# LightGBM"
   ]
  },
  {
   "cell_type": "markdown",
   "metadata": {
    "ExecuteTime": {
     "end_time": "2020-09-25T21:26:48.820835Z",
     "start_time": "2020-09-25T21:26:48.816846Z"
    }
   },
   "source": [
    "## Train/Test w LightGBM"
   ]
  },
  {
   "cell_type": "code",
   "execution_count": 42,
   "metadata": {
    "ExecuteTime": {
     "end_time": "2020-10-26T10:40:15.231582Z",
     "start_time": "2020-10-26T10:40:11.716979Z"
    }
   },
   "outputs": [
    {
     "name": "stdout",
     "output_type": "stream",
     "text": [
      "Training until validation scores don't improve for 20 rounds\n",
      "[100]\tvalid's rmse: 0.429774\n",
      "[200]\tvalid's rmse: 0.377746\n",
      "[300]\tvalid's rmse: 0.359242\n",
      "[400]\tvalid's rmse: 0.348466\n",
      "[500]\tvalid's rmse: 0.344172\n",
      "[600]\tvalid's rmse: 0.342432\n",
      "[700]\tvalid's rmse: 0.341272\n",
      "[800]\tvalid's rmse: 0.340442\n",
      "[900]\tvalid's rmse: 0.339785\n",
      "Early stopping, best iteration is:\n",
      "[964]\tvalid's rmse: 0.339547\n",
      "R^2 test: 0.706\n"
     ]
    }
   ],
   "source": [
    "from lightgbm import LGBMRegressor\n",
    "\n",
    "fit_params={\n",
    "    \"early_stopping_rounds\":20, \n",
    "            \"eval_metric\" : 'rmse', \n",
    "            \"eval_set\" : [(X_test,y_test)],\n",
    "            'eval_names': ['valid'],\n",
    "            'verbose': 100,\n",
    "            'feature_name': 'auto', \n",
    "            'categorical_feature': 'auto'\n",
    "           }\n",
    "        \n",
    "class LGBMRegressor_GainFE(LGBMRegressor):\n",
    "    @property\n",
    "    def feature_importances_(self):\n",
    "        if self._n_features is None:\n",
    "            raise LGBMNotFittedError('No feature_importances found. Need to call fit beforehand.')\n",
    "        return self.booster_.feature_importance(importance_type='gain')\n",
    "        \n",
    "clf = LGBMRegressor_GainFE(num_leaves= 25, max_depth=20, \n",
    "                         random_state=0, \n",
    "                         silent=True, \n",
    "                         metric='rmse', \n",
    "                         n_jobs=4, \n",
    "                         n_estimators=1000,\n",
    "                         colsample_bytree=0.9,\n",
    "                         subsample=0.9,\n",
    "                         learning_rate=0.01)\n",
    "clf.fit(X_train.values, y_train.values, **fit_params)\n",
    "y_pred = clf.predict(X_test.values)\n",
    "print('R^2 test: %.3f' % (r2_score(y_test, y_pred)))"
   ]
  },
  {
   "cell_type": "markdown",
   "metadata": {
    "ExecuteTime": {
     "end_time": "2020-09-25T21:26:48.820835Z",
     "start_time": "2020-09-25T21:26:48.816846Z"
    }
   },
   "source": [
    "## Feature Importance of LightGBM"
   ]
  },
  {
   "cell_type": "code",
   "execution_count": 43,
   "metadata": {
    "ExecuteTime": {
     "end_time": "2020-10-26T10:40:16.155113Z",
     "start_time": "2020-10-26T10:40:15.234574Z"
    }
   },
   "outputs": [
    {
     "data": {
      "text/plain": [
       "<matplotlib.axes._subplots.AxesSubplot at 0x2324e2497f0>"
      ]
     },
     "execution_count": 43,
     "metadata": {},
     "output_type": "execute_result"
    },
    {
     "data": {
      "image/png": "[encoded data removed]",
      "text/plain": [
       "<Figure size 720x432 with 1 Axes>"
      ]
     },
     "metadata": {},
     "output_type": "display_data"
    }
   ],
   "source": [
    "feat_imp = pd.Series(clf.feature_importances_, index=x.columns)\n",
    "feat_imp.nlargest(20).plot(kind='barh', figsize=(10,6))"
   ]
  },
  {
   "cell_type": "code",
   "execution_count": 44,
   "metadata": {
    "ExecuteTime": {
     "end_time": "2020-10-26T10:40:16.186038Z",
     "start_time": "2020-10-26T10:40:16.158106Z"
    }
   },
   "outputs": [
    {
     "data": {
      "text/html": [
       "<div>\n",
       "<style scoped>\n",
       "    .dataframe tbody tr th:only-of-type {\n",
       "        vertical-align: middle;\n",
       "    }\n",
       "\n",
       "    .dataframe tbody tr th {\n",
       "        vertical-align: top;\n",
       "    }\n",
       "\n",
       "    .dataframe thead th {\n",
       "        text-align: right;\n",
       "    }\n",
       "</style>\n",
       "<table border=\"1\" class=\"dataframe\">\n",
       "  <thead>\n",
       "    <tr style=\"text-align: right;\">\n",
       "      <th></th>\n",
       "      <th>feature</th>\n",
       "      <th>coefs</th>\n",
       "    </tr>\n",
       "  </thead>\n",
       "  <tbody>\n",
       "    <tr>\n",
       "      <th>4</th>\n",
       "      <td>accommodates</td>\n",
       "      <td>26700.507538</td>\n",
       "    </tr>\n",
       "    <tr>\n",
       "      <th>104</th>\n",
       "      <td>Entire home/apt</td>\n",
       "      <td>8753.182117</td>\n",
       "    </tr>\n",
       "    <tr>\n",
       "      <th>6</th>\n",
       "      <td>minimum_nights</td>\n",
       "      <td>7592.350326</td>\n",
       "    </tr>\n",
       "    <tr>\n",
       "      <th>8</th>\n",
       "      <td>reviews_per_month</td>\n",
       "      <td>5095.257121</td>\n",
       "    </tr>\n",
       "    <tr>\n",
       "      <th>107</th>\n",
       "      <td>Shared room</td>\n",
       "      <td>4753.329545</td>\n",
       "    </tr>\n",
       "    <tr>\n",
       "      <th>3</th>\n",
       "      <td>host_listings_count</td>\n",
       "      <td>4735.368408</td>\n",
       "    </tr>\n",
       "    <tr>\n",
       "      <th>5</th>\n",
       "      <td>bathrooms</td>\n",
       "      <td>4674.923523</td>\n",
       "    </tr>\n",
       "    <tr>\n",
       "      <th>106</th>\n",
       "      <td>Private room</td>\n",
       "      <td>2000.922101</td>\n",
       "    </tr>\n",
       "    <tr>\n",
       "      <th>1</th>\n",
       "      <td>host_acceptance_rate</td>\n",
       "      <td>1948.696569</td>\n",
       "    </tr>\n",
       "    <tr>\n",
       "      <th>0</th>\n",
       "      <td>host_response_rate</td>\n",
       "      <td>1772.751569</td>\n",
       "    </tr>\n",
       "    <tr>\n",
       "      <th>7</th>\n",
       "      <td>review_scores_rating</td>\n",
       "      <td>1686.241997</td>\n",
       "    </tr>\n",
       "    <tr>\n",
       "      <th>80</th>\n",
       "      <td>Private room in house</td>\n",
       "      <td>1216.372418</td>\n",
       "    </tr>\n",
       "    <tr>\n",
       "      <th>13</th>\n",
       "      <td>Bayview</td>\n",
       "      <td>621.902330</td>\n",
       "    </tr>\n",
       "    <tr>\n",
       "      <th>59</th>\n",
       "      <td>Entire guest suite</td>\n",
       "      <td>454.551399</td>\n",
       "    </tr>\n",
       "    <tr>\n",
       "      <th>33</th>\n",
       "      <td>Ocean View</td>\n",
       "      <td>423.977353</td>\n",
       "    </tr>\n",
       "    <tr>\n",
       "      <th>19</th>\n",
       "      <td>Downtown/Civic Center</td>\n",
       "      <td>409.487074</td>\n",
       "    </tr>\n",
       "    <tr>\n",
       "      <th>20</th>\n",
       "      <td>Excelsior</td>\n",
       "      <td>372.959841</td>\n",
       "    </tr>\n",
       "    <tr>\n",
       "      <th>56</th>\n",
       "      <td>Entire condominium</td>\n",
       "      <td>368.470148</td>\n",
       "    </tr>\n",
       "    <tr>\n",
       "      <th>12</th>\n",
       "      <td>within an hour</td>\n",
       "      <td>341.958174</td>\n",
       "    </tr>\n",
       "    <tr>\n",
       "      <th>2</th>\n",
       "      <td>host_is_superhost</td>\n",
       "      <td>332.018766</td>\n",
       "    </tr>\n",
       "  </tbody>\n",
       "</table>\n",
       "</div>"
      ],
      "text/plain": [
       "                   feature         coefs\n",
       "4             accommodates  26700.507538\n",
       "104        Entire home/apt   8753.182117\n",
       "6           minimum_nights   7592.350326\n",
       "8        reviews_per_month   5095.257121\n",
       "107            Shared room   4753.329545\n",
       "3      host_listings_count   4735.368408\n",
       "5                bathrooms   4674.923523\n",
       "106           Private room   2000.922101\n",
       "1     host_acceptance_rate   1948.696569\n",
       "0       host_response_rate   1772.751569\n",
       "7     review_scores_rating   1686.241997\n",
       "80   Private room in house   1216.372418\n",
       "13                 Bayview    621.902330\n",
       "59      Entire guest suite    454.551399\n",
       "33              Ocean View    423.977353\n",
       "19   Downtown/Civic Center    409.487074\n",
       "20               Excelsior    372.959841\n",
       "56      Entire condominium    368.470148\n",
       "12          within an hour    341.958174\n",
       "2        host_is_superhost    332.018766"
      ]
     },
     "execution_count": 44,
     "metadata": {},
     "output_type": "execute_result"
    }
   ],
   "source": [
    "coefs_df = pd.DataFrame()\n",
    "coefs_df['feature'] = x.columns\n",
    "coefs_df['coefs'] = clf.feature_importances_\n",
    "coefs_df.sort_values('coefs', ascending=False).head(20)"
   ]
  },
  {
   "cell_type": "markdown",
   "metadata": {},
   "source": [
    "# Gradient Boosting"
   ]
  },
  {
   "cell_type": "markdown",
   "metadata": {
    "ExecuteTime": {
     "end_time": "2020-09-25T21:26:48.820835Z",
     "start_time": "2020-09-25T21:26:48.816846Z"
    }
   },
   "source": [
    "## Train/Test w Gradient Boosting"
   ]
  },
  {
   "cell_type": "code",
   "execution_count": 45,
   "metadata": {
    "ExecuteTime": {
     "end_time": "2020-10-26T10:40:35.181245Z",
     "start_time": "2020-10-26T10:40:16.194009Z"
    }
   },
   "outputs": [
    {
     "name": "stdout",
     "output_type": "stream",
     "text": [
      "RMSE test: 0.348\n",
      "R^2 test: 0.691\n"
     ]
    }
   ],
   "source": [
    "from sklearn.ensemble import GradientBoostingRegressor\n",
    "\n",
    "\n",
    "gboost = GradientBoostingRegressor(n_estimators=500, \n",
    "                               criterion='mse', \n",
    "                               random_state=3)\n",
    "gboost.fit(X_train, y_train)\n",
    "y_train_pred = gboost.predict(X_train)\n",
    "y_test_pred = gboost.predict(X_test)\n",
    "rmse_rf= (mean_squared_error(y_test,y_test_pred))**(1/2)\n",
    "\n",
    "print('RMSE test: %.3f' % rmse_rf)\n",
    "print('R^2 test: %.3f' % (r2_score(y_test, y_test_pred)))"
   ]
  },
  {
   "cell_type": "markdown",
   "metadata": {
    "ExecuteTime": {
     "end_time": "2020-09-25T21:26:48.820835Z",
     "start_time": "2020-09-25T21:26:48.816846Z"
    }
   },
   "source": [
    "## Feature Importance of Gradient Boosting"
   ]
  },
  {
   "cell_type": "code",
   "execution_count": 46,
   "metadata": {
    "ExecuteTime": {
     "end_time": "2020-10-26T10:40:35.222137Z",
     "start_time": "2020-10-26T10:40:35.185235Z"
    },
    "scrolled": false
   },
   "outputs": [
    {
     "data": {
      "text/html": [
       "<div>\n",
       "<style scoped>\n",
       "    .dataframe tbody tr th:only-of-type {\n",
       "        vertical-align: middle;\n",
       "    }\n",
       "\n",
       "    .dataframe tbody tr th {\n",
       "        vertical-align: top;\n",
       "    }\n",
       "\n",
       "    .dataframe thead th {\n",
       "        text-align: right;\n",
       "    }\n",
       "</style>\n",
       "<table border=\"1\" class=\"dataframe\">\n",
       "  <thead>\n",
       "    <tr style=\"text-align: right;\">\n",
       "      <th></th>\n",
       "      <th>feature</th>\n",
       "      <th>coefs</th>\n",
       "    </tr>\n",
       "  </thead>\n",
       "  <tbody>\n",
       "    <tr>\n",
       "      <th>4</th>\n",
       "      <td>accommodates</td>\n",
       "      <td>0.312144</td>\n",
       "    </tr>\n",
       "    <tr>\n",
       "      <th>6</th>\n",
       "      <td>minimum_nights</td>\n",
       "      <td>0.100118</td>\n",
       "    </tr>\n",
       "    <tr>\n",
       "      <th>104</th>\n",
       "      <td>Entire home/apt</td>\n",
       "      <td>0.090115</td>\n",
       "    </tr>\n",
       "    <tr>\n",
       "      <th>107</th>\n",
       "      <td>Shared room</td>\n",
       "      <td>0.087338</td>\n",
       "    </tr>\n",
       "    <tr>\n",
       "      <th>5</th>\n",
       "      <td>bathrooms</td>\n",
       "      <td>0.054597</td>\n",
       "    </tr>\n",
       "    <tr>\n",
       "      <th>8</th>\n",
       "      <td>reviews_per_month</td>\n",
       "      <td>0.054560</td>\n",
       "    </tr>\n",
       "    <tr>\n",
       "      <th>3</th>\n",
       "      <td>host_listings_count</td>\n",
       "      <td>0.049538</td>\n",
       "    </tr>\n",
       "    <tr>\n",
       "      <th>106</th>\n",
       "      <td>Private room</td>\n",
       "      <td>0.028922</td>\n",
       "    </tr>\n",
       "    <tr>\n",
       "      <th>0</th>\n",
       "      <td>host_response_rate</td>\n",
       "      <td>0.025230</td>\n",
       "    </tr>\n",
       "    <tr>\n",
       "      <th>7</th>\n",
       "      <td>review_scores_rating</td>\n",
       "      <td>0.019718</td>\n",
       "    </tr>\n",
       "    <tr>\n",
       "      <th>1</th>\n",
       "      <td>host_acceptance_rate</td>\n",
       "      <td>0.019355</td>\n",
       "    </tr>\n",
       "    <tr>\n",
       "      <th>80</th>\n",
       "      <td>Private room in house</td>\n",
       "      <td>0.013280</td>\n",
       "    </tr>\n",
       "    <tr>\n",
       "      <th>56</th>\n",
       "      <td>Entire condominium</td>\n",
       "      <td>0.007311</td>\n",
       "    </tr>\n",
       "    <tr>\n",
       "      <th>13</th>\n",
       "      <td>Bayview</td>\n",
       "      <td>0.006853</td>\n",
       "    </tr>\n",
       "    <tr>\n",
       "      <th>33</th>\n",
       "      <td>Ocean View</td>\n",
       "      <td>0.005468</td>\n",
       "    </tr>\n",
       "    <tr>\n",
       "      <th>20</th>\n",
       "      <td>Excelsior</td>\n",
       "      <td>0.004223</td>\n",
       "    </tr>\n",
       "    <tr>\n",
       "      <th>21</th>\n",
       "      <td>Financial District</td>\n",
       "      <td>0.003882</td>\n",
       "    </tr>\n",
       "    <tr>\n",
       "      <th>105</th>\n",
       "      <td>Hotel room</td>\n",
       "      <td>0.003845</td>\n",
       "    </tr>\n",
       "    <tr>\n",
       "      <th>65</th>\n",
       "      <td>Entire serviced apartment</td>\n",
       "      <td>0.003817</td>\n",
       "    </tr>\n",
       "    <tr>\n",
       "      <th>89</th>\n",
       "      <td>Room in boutique hotel</td>\n",
       "      <td>0.003776</td>\n",
       "    </tr>\n",
       "  </tbody>\n",
       "</table>\n",
       "</div>"
      ],
      "text/plain": [
       "                       feature     coefs\n",
       "4                 accommodates  0.312144\n",
       "6               minimum_nights  0.100118\n",
       "104            Entire home/apt  0.090115\n",
       "107                Shared room  0.087338\n",
       "5                    bathrooms  0.054597\n",
       "8            reviews_per_month  0.054560\n",
       "3          host_listings_count  0.049538\n",
       "106               Private room  0.028922\n",
       "0           host_response_rate  0.025230\n",
       "7         review_scores_rating  0.019718\n",
       "1         host_acceptance_rate  0.019355\n",
       "80       Private room in house  0.013280\n",
       "56          Entire condominium  0.007311\n",
       "13                     Bayview  0.006853\n",
       "33                  Ocean View  0.005468\n",
       "20                   Excelsior  0.004223\n",
       "21          Financial District  0.003882\n",
       "105                 Hotel room  0.003845\n",
       "65   Entire serviced apartment  0.003817\n",
       "89      Room in boutique hotel  0.003776"
      ]
     },
     "execution_count": 46,
     "metadata": {},
     "output_type": "execute_result"
    }
   ],
   "source": [
    "coefs_df = pd.DataFrame()\n",
    "coefs_df['feature'] = X_train.columns\n",
    "coefs_df['coefs'] = gboost.feature_importances_\n",
    "coefs_df.sort_values('coefs', ascending=False).head(20)"
   ]
  },
  {
   "cell_type": "code",
   "execution_count": 47,
   "metadata": {
    "ExecuteTime": {
     "end_time": "2020-10-26T10:40:35.951186Z",
     "start_time": "2020-10-26T10:40:35.225128Z"
    },
    "scrolled": true
   },
   "outputs": [
    {
     "data": {
      "text/plain": [
       "<matplotlib.axes._subplots.AxesSubplot at 0x2324e6eb400>"
      ]
     },
     "execution_count": 47,
     "metadata": {},
     "output_type": "execute_result"
    },
    {
     "data": {
      "image/png": "[encoded data removed]",
      "text/plain": [
       "<Figure size 720x432 with 1 Axes>"
      ]
     },
     "metadata": {},
     "output_type": "display_data"
    }
   ],
   "source": [
    "feat_imp = pd.Series(gboost.feature_importances_, index=X_train.columns)\n",
    "feat_imp.nlargest(20).plot(kind='barh', figsize=(10,6))"
   ]
  },
  {
   "cell_type": "markdown",
   "metadata": {},
   "source": [
    "# XGBoost and its Feature Importance"
   ]
  },
  {
   "cell_type": "code",
   "execution_count": 48,
   "metadata": {
    "ExecuteTime": {
     "end_time": "2020-10-26T10:40:48.319121Z",
     "start_time": "2020-10-26T10:40:35.953182Z"
    },
    "scrolled": true
   },
   "outputs": [
    {
     "name": "stdout",
     "output_type": "stream",
     "text": [
      "\n",
      "Training MSE: 0.0314\n",
      "Validation MSE: 0.1242\n",
      "Validation RMSE: 0.3524\n",
      "\n",
      "Training r2: 0.9237\n",
      "Validation r2: 0.683\n"
     ]
    },
    {
     "data": {
      "image/png": "[encoded data removed]",
      "text/plain": [
       "<Figure size 576x1440 with 1 Axes>"
      ]
     },
     "metadata": {},
     "output_type": "display_data"
    }
   ],
   "source": [
    "import xgboost as xgb\n",
    "\n",
    "# Fitting the model\n",
    "xgb_reg = xgb.XGBRegressor()\n",
    "xgb_reg.fit(X_train, y_train)\n",
    "training_preds_xgb_reg = xgb_reg.predict(X_train)\n",
    "val_preds_xgb_reg = xgb_reg.predict(X_test)\n",
    "\n",
    "# Printing the results\n",
    "\n",
    "print(\"\\nTraining MSE:\", round(mean_squared_error(y_train, training_preds_xgb_reg),4))\n",
    "print(\"Validation MSE:\", round(mean_squared_error(y_test, val_preds_xgb_reg),4))\n",
    "print(\"Validation RMSE:\", round(mean_squared_error(y_test, val_preds_xgb_reg)**0.5,4))\n",
    "print(\"\\nTraining r2:\", round(r2_score(y_train, training_preds_xgb_reg),4))\n",
    "print(\"Validation r2:\", round(r2_score(y_test, val_preds_xgb_reg),4))\n",
    "\n",
    "# Producing a dataframe of feature importances\n",
    "ft_weights_xgb_reg = pd.DataFrame(xgb_reg.feature_importances_, columns=['weight'], index=X_train.columns)\n",
    "ft_weights_xgb_reg.sort_values('weight', inplace=True)\n",
    "\n",
    "# Plotting feature importances\n",
    "plt.figure(figsize=(8,20))\n",
    "plt.barh(ft_weights_xgb_reg.index, ft_weights_xgb_reg.weight, align='center') \n",
    "plt.title(\"Feature importances in the XGBoost model\", fontsize=14)\n",
    "plt.xlabel(\"Feature importance\")\n",
    "plt.margins(y=0.01)\n",
    "plt.show()"
   ]
  },
  {
   "cell_type": "markdown",
   "metadata": {},
   "source": [
    "# Neural Network Model"
   ]
  },
  {
   "cell_type": "code",
   "execution_count": 49,
   "metadata": {
    "ExecuteTime": {
     "end_time": "2020-10-26T10:41:18.577475Z",
     "start_time": "2020-10-26T10:40:48.322113Z"
    }
   },
   "outputs": [
    {
     "name": "stdout",
     "output_type": "stream",
     "text": [
      "Model: \"sequential\"\n",
      "_________________________________________________________________\n",
      "Layer (type)                 Output Shape              Param #   \n",
      "=================================================================\n",
      "dense (Dense)                (None, 128)               28672     \n",
      "_________________________________________________________________\n",
      "dense_1 (Dense)              (None, 256)               33024     \n",
      "_________________________________________________________________\n",
      "dense_2 (Dense)              (None, 256)               65792     \n",
      "_________________________________________________________________\n",
      "dense_3 (Dense)              (None, 512)               131584    \n",
      "_________________________________________________________________\n",
      "dense_4 (Dense)              (None, 1)                 513       \n",
      "=================================================================\n",
      "Total params: 259,585\n",
      "Trainable params: 259,585\n",
      "Non-trainable params: 0\n",
      "_________________________________________________________________\n",
      "None\n",
      "Epoch 1/100\n",
      "18/18 [==============================] - 0s 25ms/step - loss: 37.1644 - mean_squared_error: 37.1644 - val_loss: 7.9140 - val_mean_squared_error: 7.9140\n",
      "Epoch 2/100\n",
      "18/18 [==============================] - 0s 8ms/step - loss: 4.2205 - mean_squared_error: 4.2205 - val_loss: 1.3506 - val_mean_squared_error: 1.3506\n",
      "Epoch 3/100\n",
      "18/18 [==============================] - 0s 9ms/step - loss: 0.8372 - mean_squared_error: 0.8372 - val_loss: 0.8182 - val_mean_squared_error: 0.8182\n",
      "Epoch 4/100\n",
      "18/18 [==============================] - 0s 8ms/step - loss: 0.5150 - mean_squared_error: 0.5150 - val_loss: 0.4547 - val_mean_squared_error: 0.4547\n",
      "Epoch 5/100\n",
      "18/18 [==============================] - 0s 8ms/step - loss: 0.4206 - mean_squared_error: 0.4206 - val_loss: 0.3528 - val_mean_squared_error: 0.3528\n",
      "Epoch 6/100\n",
      "18/18 [==============================] - 0s 8ms/step - loss: 0.3361 - mean_squared_error: 0.3361 - val_loss: 0.3446 - val_mean_squared_error: 0.3446\n",
      "Epoch 7/100\n",
      "18/18 [==============================] - 0s 9ms/step - loss: 0.3231 - mean_squared_error: 0.3231 - val_loss: 0.2712 - val_mean_squared_error: 0.2712\n",
      "Epoch 8/100\n",
      "18/18 [==============================] - 0s 10ms/step - loss: 0.2847 - mean_squared_error: 0.2847 - val_loss: 0.2461 - val_mean_squared_error: 0.2461\n",
      "Epoch 9/100\n",
      "18/18 [==============================] - 0s 9ms/step - loss: 0.2634 - mean_squared_error: 0.2634 - val_loss: 0.2268 - val_mean_squared_error: 0.2268\n",
      "Epoch 10/100\n",
      "18/18 [==============================] - 0s 11ms/step - loss: 0.2605 - mean_squared_error: 0.2605 - val_loss: 0.2217 - val_mean_squared_error: 0.2217\n",
      "Epoch 11/100\n",
      "18/18 [==============================] - 0s 9ms/step - loss: 0.2384 - mean_squared_error: 0.2384 - val_loss: 0.2129 - val_mean_squared_error: 0.2129\n",
      "Epoch 12/100\n",
      "18/18 [==============================] - 0s 10ms/step - loss: 0.2516 - mean_squared_error: 0.2516 - val_loss: 0.2323 - val_mean_squared_error: 0.2323\n",
      "Epoch 13/100\n",
      "18/18 [==============================] - 0s 16ms/step - loss: 0.2523 - mean_squared_error: 0.2523 - val_loss: 0.1969 - val_mean_squared_error: 0.1969\n",
      "Epoch 14/100\n",
      "18/18 [==============================] - 0s 9ms/step - loss: 0.2465 - mean_squared_error: 0.2465 - val_loss: 0.8483 - val_mean_squared_error: 0.8483\n",
      "Epoch 15/100\n",
      "18/18 [==============================] - 0s 9ms/step - loss: 0.5067 - mean_squared_error: 0.5067 - val_loss: 0.5199 - val_mean_squared_error: 0.5199\n",
      "Epoch 16/100\n",
      "18/18 [==============================] - 0s 10ms/step - loss: 0.3742 - mean_squared_error: 0.3742 - val_loss: 0.3219 - val_mean_squared_error: 0.3219\n",
      "Epoch 17/100\n",
      "18/18 [==============================] - 0s 9ms/step - loss: 0.2543 - mean_squared_error: 0.2543 - val_loss: 0.3101 - val_mean_squared_error: 0.3101\n",
      "Epoch 18/100\n",
      "18/18 [==============================] - 0s 12ms/step - loss: 0.3495 - mean_squared_error: 0.3495 - val_loss: 0.2309 - val_mean_squared_error: 0.2309\n",
      "Epoch 19/100\n",
      "18/18 [==============================] - 0s 10ms/step - loss: 0.2358 - mean_squared_error: 0.2358 - val_loss: 0.1918 - val_mean_squared_error: 0.1918\n",
      "Epoch 20/100\n",
      "18/18 [==============================] - 0s 8ms/step - loss: 0.2110 - mean_squared_error: 0.2110 - val_loss: 0.1737 - val_mean_squared_error: 0.1737\n",
      "Epoch 21/100\n",
      "18/18 [==============================] - 0s 8ms/step - loss: 0.1777 - mean_squared_error: 0.1777 - val_loss: 0.1916 - val_mean_squared_error: 0.1916\n",
      "Epoch 22/100\n",
      "18/18 [==============================] - 0s 8ms/step - loss: 0.1762 - mean_squared_error: 0.1762 - val_loss: 0.1902 - val_mean_squared_error: 0.1902\n",
      "Epoch 23/100\n",
      "18/18 [==============================] - 0s 8ms/step - loss: 0.1738 - mean_squared_error: 0.1738 - val_loss: 0.2081 - val_mean_squared_error: 0.2081\n",
      "Epoch 24/100\n",
      "18/18 [==============================] - 0s 8ms/step - loss: 0.1739 - mean_squared_error: 0.1739 - val_loss: 0.2083 - val_mean_squared_error: 0.2083\n",
      "Epoch 25/100\n",
      "18/18 [==============================] - 0s 8ms/step - loss: 0.1664 - mean_squared_error: 0.1664 - val_loss: 0.2289 - val_mean_squared_error: 0.2289\n",
      "Epoch 26/100\n",
      "18/18 [==============================] - 0s 8ms/step - loss: 0.2256 - mean_squared_error: 0.2256 - val_loss: 0.3747 - val_mean_squared_error: 0.3747\n",
      "Epoch 27/100\n",
      "18/18 [==============================] - 0s 8ms/step - loss: 0.2158 - mean_squared_error: 0.2158 - val_loss: 0.2287 - val_mean_squared_error: 0.2287\n",
      "Epoch 28/100\n",
      "18/18 [==============================] - 0s 9ms/step - loss: 0.1956 - mean_squared_error: 0.1956 - val_loss: 0.1863 - val_mean_squared_error: 0.1863\n",
      "Epoch 29/100\n",
      "18/18 [==============================] - 0s 8ms/step - loss: 0.1866 - mean_squared_error: 0.1866 - val_loss: 0.2173 - val_mean_squared_error: 0.2173\n",
      "Epoch 30/100\n",
      "18/18 [==============================] - 0s 8ms/step - loss: 0.2424 - mean_squared_error: 0.2424 - val_loss: 0.4263 - val_mean_squared_error: 0.4263\n",
      "Epoch 31/100\n",
      "18/18 [==============================] - 0s 8ms/step - loss: 0.3751 - mean_squared_error: 0.3751 - val_loss: 0.2213 - val_mean_squared_error: 0.2213\n",
      "Epoch 32/100\n",
      "18/18 [==============================] - 0s 8ms/step - loss: 0.1584 - mean_squared_error: 0.1584 - val_loss: 0.1875 - val_mean_squared_error: 0.1875\n",
      "Epoch 33/100\n",
      "18/18 [==============================] - 0s 8ms/step - loss: 0.2168 - mean_squared_error: 0.2168 - val_loss: 0.1868 - val_mean_squared_error: 0.1868\n",
      "Epoch 34/100\n",
      "18/18 [==============================] - 0s 8ms/step - loss: 0.1591 - mean_squared_error: 0.1591 - val_loss: 0.1670 - val_mean_squared_error: 0.1670\n",
      "Epoch 35/100\n",
      "18/18 [==============================] - 0s 9ms/step - loss: 0.1460 - mean_squared_error: 0.1460 - val_loss: 0.2278 - val_mean_squared_error: 0.2278\n",
      "Epoch 36/100\n",
      "18/18 [==============================] - 0s 8ms/step - loss: 0.1555 - mean_squared_error: 0.1555 - val_loss: 0.1634 - val_mean_squared_error: 0.1634\n",
      "Epoch 37/100\n",
      "18/18 [==============================] - 0s 8ms/step - loss: 0.1512 - mean_squared_error: 0.1512 - val_loss: 0.1796 - val_mean_squared_error: 0.1796\n",
      "Epoch 38/100\n",
      "18/18 [==============================] - 0s 8ms/step - loss: 0.1429 - mean_squared_error: 0.1429 - val_loss: 0.2053 - val_mean_squared_error: 0.2053\n",
      "Epoch 39/100\n",
      "18/18 [==============================] - 0s 8ms/step - loss: 0.1564 - mean_squared_error: 0.1564 - val_loss: 0.1784 - val_mean_squared_error: 0.1784\n",
      "Epoch 40/100\n",
      "18/18 [==============================] - 0s 8ms/step - loss: 0.1362 - mean_squared_error: 0.1362 - val_loss: 0.1555 - val_mean_squared_error: 0.1555\n",
      "Epoch 41/100\n",
      "18/18 [==============================] - 0s 8ms/step - loss: 0.1364 - mean_squared_error: 0.1364 - val_loss: 0.1516 - val_mean_squared_error: 0.1516\n",
      "Epoch 42/100\n",
      "18/18 [==============================] - 0s 8ms/step - loss: 0.1357 - mean_squared_error: 0.1357 - val_loss: 0.1557 - val_mean_squared_error: 0.1557\n",
      "Epoch 43/100\n",
      "18/18 [==============================] - 0s 8ms/step - loss: 0.1280 - mean_squared_error: 0.1280 - val_loss: 0.1556 - val_mean_squared_error: 0.1556\n",
      "Epoch 44/100\n",
      "18/18 [==============================] - 0s 14ms/step - loss: 0.1230 - mean_squared_error: 0.1230 - val_loss: 0.1673 - val_mean_squared_error: 0.1673\n",
      "Epoch 45/100\n"
     ]
    },
    {
     "name": "stdout",
     "output_type": "stream",
     "text": [
      "18/18 [==============================] - 0s 12ms/step - loss: 0.1274 - mean_squared_error: 0.1274 - val_loss: 0.1683 - val_mean_squared_error: 0.1683\n",
      "Epoch 46/100\n",
      "18/18 [==============================] - 0s 12ms/step - loss: 0.1304 - mean_squared_error: 0.1304 - val_loss: 0.1789 - val_mean_squared_error: 0.1789\n",
      "Epoch 47/100\n",
      "18/18 [==============================] - 0s 13ms/step - loss: 0.1291 - mean_squared_error: 0.1291 - val_loss: 0.1438 - val_mean_squared_error: 0.1438\n",
      "Epoch 48/100\n",
      "18/18 [==============================] - 0s 11ms/step - loss: 0.1200 - mean_squared_error: 0.1200 - val_loss: 0.1609 - val_mean_squared_error: 0.1609\n",
      "Epoch 49/100\n",
      "18/18 [==============================] - 0s 16ms/step - loss: 0.1331 - mean_squared_error: 0.1331 - val_loss: 0.1409 - val_mean_squared_error: 0.1409\n",
      "Epoch 50/100\n",
      "18/18 [==============================] - 0s 15ms/step - loss: 0.1155 - mean_squared_error: 0.1155 - val_loss: 0.1777 - val_mean_squared_error: 0.1777\n",
      "Epoch 51/100\n",
      "18/18 [==============================] - 0s 15ms/step - loss: 0.1255 - mean_squared_error: 0.1255 - val_loss: 0.1784 - val_mean_squared_error: 0.1784\n",
      "Epoch 52/100\n",
      "18/18 [==============================] - 0s 14ms/step - loss: 0.1331 - mean_squared_error: 0.1331 - val_loss: 0.1642 - val_mean_squared_error: 0.1642\n",
      "Epoch 53/100\n",
      "18/18 [==============================] - 0s 16ms/step - loss: 0.1308 - mean_squared_error: 0.1308 - val_loss: 0.1429 - val_mean_squared_error: 0.1429\n",
      "Epoch 54/100\n",
      "18/18 [==============================] - 0s 19ms/step - loss: 0.1221 - mean_squared_error: 0.1221 - val_loss: 0.1307 - val_mean_squared_error: 0.1307\n",
      "Epoch 55/100\n",
      "18/18 [==============================] - 0s 15ms/step - loss: 0.1102 - mean_squared_error: 0.1102 - val_loss: 0.1952 - val_mean_squared_error: 0.1952\n",
      "Epoch 56/100\n",
      "18/18 [==============================] - 0s 15ms/step - loss: 0.1323 - mean_squared_error: 0.1323 - val_loss: 0.1522 - val_mean_squared_error: 0.1522\n",
      "Epoch 57/100\n",
      "18/18 [==============================] - 0s 15ms/step - loss: 0.1288 - mean_squared_error: 0.1288 - val_loss: 0.2109 - val_mean_squared_error: 0.2109\n",
      "Epoch 58/100\n",
      "18/18 [==============================] - 0s 14ms/step - loss: 0.1185 - mean_squared_error: 0.1185 - val_loss: 0.1399 - val_mean_squared_error: 0.1399\n",
      "Epoch 59/100\n",
      "18/18 [==============================] - 0s 15ms/step - loss: 0.1136 - mean_squared_error: 0.1136 - val_loss: 0.1846 - val_mean_squared_error: 0.1846\n",
      "Epoch 60/100\n",
      "18/18 [==============================] - 0s 14ms/step - loss: 0.1263 - mean_squared_error: 0.1263 - val_loss: 0.1481 - val_mean_squared_error: 0.1481\n",
      "Epoch 61/100\n",
      "18/18 [==============================] - 0s 12ms/step - loss: 0.1094 - mean_squared_error: 0.1094 - val_loss: 0.1466 - val_mean_squared_error: 0.1466\n",
      "Epoch 62/100\n",
      "18/18 [==============================] - 0s 13ms/step - loss: 0.1126 - mean_squared_error: 0.1126 - val_loss: 0.2438 - val_mean_squared_error: 0.2438\n",
      "Epoch 63/100\n",
      "18/18 [==============================] - 0s 18ms/step - loss: 0.1267 - mean_squared_error: 0.1267 - val_loss: 0.1831 - val_mean_squared_error: 0.1831\n",
      "Epoch 64/100\n",
      "18/18 [==============================] - 0s 14ms/step - loss: 0.1140 - mean_squared_error: 0.1140 - val_loss: 0.2081 - val_mean_squared_error: 0.2081\n",
      "Epoch 65/100\n",
      "18/18 [==============================] - 0s 11ms/step - loss: 0.1528 - mean_squared_error: 0.1528 - val_loss: 0.2843 - val_mean_squared_error: 0.2843\n",
      "Epoch 66/100\n",
      "18/18 [==============================] - 0s 12ms/step - loss: 0.1448 - mean_squared_error: 0.1448 - val_loss: 0.1580 - val_mean_squared_error: 0.1580\n",
      "Epoch 67/100\n",
      "18/18 [==============================] - 0s 9ms/step - loss: 0.1221 - mean_squared_error: 0.1221 - val_loss: 0.1542 - val_mean_squared_error: 0.1542\n",
      "Epoch 68/100\n",
      "18/18 [==============================] - 0s 10ms/step - loss: 0.1130 - mean_squared_error: 0.1130 - val_loss: 0.1699 - val_mean_squared_error: 0.1699\n",
      "Epoch 69/100\n",
      "18/18 [==============================] - 0s 9ms/step - loss: 0.1177 - mean_squared_error: 0.1177 - val_loss: 0.2237 - val_mean_squared_error: 0.2237\n",
      "Epoch 70/100\n",
      "18/18 [==============================] - 0s 11ms/step - loss: 0.1297 - mean_squared_error: 0.1297 - val_loss: 0.1659 - val_mean_squared_error: 0.1659\n",
      "Epoch 71/100\n",
      "18/18 [==============================] - 0s 11ms/step - loss: 0.1099 - mean_squared_error: 0.1099 - val_loss: 0.2108 - val_mean_squared_error: 0.2108\n",
      "Epoch 72/100\n",
      "18/18 [==============================] - 0s 9ms/step - loss: 0.1200 - mean_squared_error: 0.1200 - val_loss: 0.1380 - val_mean_squared_error: 0.1380\n",
      "Epoch 73/100\n",
      "18/18 [==============================] - 0s 13ms/step - loss: 0.1138 - mean_squared_error: 0.1138 - val_loss: 0.1500 - val_mean_squared_error: 0.1500\n",
      "Epoch 74/100\n",
      "18/18 [==============================] - 0s 11ms/step - loss: 0.1116 - mean_squared_error: 0.1116 - val_loss: 0.1913 - val_mean_squared_error: 0.1913\n",
      "Epoch 75/100\n",
      "18/18 [==============================] - 0s 10ms/step - loss: 0.1194 - mean_squared_error: 0.1194 - val_loss: 0.1535 - val_mean_squared_error: 0.1535\n",
      "Epoch 76/100\n",
      "18/18 [==============================] - 0s 9ms/step - loss: 0.1148 - mean_squared_error: 0.1148 - val_loss: 0.1727 - val_mean_squared_error: 0.1727\n",
      "Epoch 77/100\n",
      "18/18 [==============================] - 0s 9ms/step - loss: 0.1264 - mean_squared_error: 0.1264 - val_loss: 0.2929 - val_mean_squared_error: 0.2929\n",
      "Epoch 78/100\n",
      "18/18 [==============================] - 0s 9ms/step - loss: 0.1721 - mean_squared_error: 0.1721 - val_loss: 0.2167 - val_mean_squared_error: 0.2167\n",
      "Epoch 79/100\n",
      "18/18 [==============================] - 0s 9ms/step - loss: 0.1251 - mean_squared_error: 0.1251 - val_loss: 0.1491 - val_mean_squared_error: 0.1491\n",
      "Epoch 80/100\n",
      "18/18 [==============================] - 0s 9ms/step - loss: 0.1004 - mean_squared_error: 0.1004 - val_loss: 0.2558 - val_mean_squared_error: 0.2558\n",
      "Epoch 81/100\n",
      "18/18 [==============================] - 0s 13ms/step - loss: 0.1315 - mean_squared_error: 0.1315 - val_loss: 0.1352 - val_mean_squared_error: 0.1352\n",
      "Epoch 82/100\n",
      "18/18 [==============================] - 0s 22ms/step - loss: 0.0976 - mean_squared_error: 0.0976 - val_loss: 0.1515 - val_mean_squared_error: 0.1515\n",
      "Epoch 83/100\n",
      "18/18 [==============================] - 0s 17ms/step - loss: 0.0997 - mean_squared_error: 0.0997 - val_loss: 0.1391 - val_mean_squared_error: 0.1391\n",
      "Epoch 84/100\n",
      "18/18 [==============================] - 0s 10ms/step - loss: 0.0972 - mean_squared_error: 0.0972 - val_loss: 0.1822 - val_mean_squared_error: 0.1822\n",
      "Epoch 85/100\n",
      "18/18 [==============================] - 0s 10ms/step - loss: 0.1092 - mean_squared_error: 0.1092 - val_loss: 0.1878 - val_mean_squared_error: 0.1878\n",
      "Epoch 86/100\n",
      "18/18 [==============================] - 0s 11ms/step - loss: 0.1112 - mean_squared_error: 0.1112 - val_loss: 0.1552 - val_mean_squared_error: 0.1552\n",
      "Epoch 87/100\n",
      "18/18 [==============================] - 0s 9ms/step - loss: 0.1044 - mean_squared_error: 0.1044 - val_loss: 0.1537 - val_mean_squared_error: 0.1537\n",
      "Epoch 88/100\n",
      "18/18 [==============================] - 0s 12ms/step - loss: 0.1131 - mean_squared_error: 0.1131 - val_loss: 0.1556 - val_mean_squared_error: 0.1556\n",
      "Epoch 89/100\n",
      "18/18 [==============================] - 0s 11ms/step - loss: 0.1080 - mean_squared_error: 0.1080 - val_loss: 0.1401 - val_mean_squared_error: 0.1401\n",
      "Epoch 90/100\n",
      "18/18 [==============================] - 0s 10ms/step - loss: 0.0923 - mean_squared_error: 0.0923 - val_loss: 0.1373 - val_mean_squared_error: 0.1373\n",
      "Epoch 91/100\n",
      "18/18 [==============================] - 0s 9ms/step - loss: 0.0912 - mean_squared_error: 0.0912 - val_loss: 0.2088 - val_mean_squared_error: 0.2088\n",
      "Epoch 92/100\n",
      "18/18 [==============================] - 0s 9ms/step - loss: 0.1281 - mean_squared_error: 0.1281 - val_loss: 0.1448 - val_mean_squared_error: 0.1448\n",
      "Epoch 93/100\n",
      "18/18 [==============================] - 0s 9ms/step - loss: 0.0941 - mean_squared_error: 0.0941 - val_loss: 0.1782 - val_mean_squared_error: 0.1782\n",
      "Epoch 94/100\n",
      "18/18 [==============================] - 0s 11ms/step - loss: 0.1297 - mean_squared_error: 0.1297 - val_loss: 0.2818 - val_mean_squared_error: 0.2818\n",
      "Epoch 95/100\n"
     ]
    },
    {
     "name": "stdout",
     "output_type": "stream",
     "text": [
      "18/18 [==============================] - 0s 26ms/step - loss: 0.1414 - mean_squared_error: 0.1414 - val_loss: 0.1969 - val_mean_squared_error: 0.1969\n",
      "Epoch 96/100\n",
      "18/18 [==============================] - 0s 13ms/step - loss: 0.1041 - mean_squared_error: 0.1041 - val_loss: 0.1620 - val_mean_squared_error: 0.1620\n",
      "Epoch 97/100\n",
      "18/18 [==============================] - 0s 11ms/step - loss: 0.1024 - mean_squared_error: 0.1024 - val_loss: 0.1513 - val_mean_squared_error: 0.1513\n",
      "Epoch 98/100\n",
      "18/18 [==============================] - 0s 13ms/step - loss: 0.0937 - mean_squared_error: 0.0937 - val_loss: 0.2400 - val_mean_squared_error: 0.2400\n",
      "Epoch 99/100\n",
      "18/18 [==============================] - 0s 10ms/step - loss: 0.1276 - mean_squared_error: 0.1276 - val_loss: 0.1664 - val_mean_squared_error: 0.1664\n",
      "Epoch 100/100\n",
      "18/18 [==============================] - 0s 10ms/step - loss: 0.1007 - mean_squared_error: 0.1007 - val_loss: 0.1584 - val_mean_squared_error: 0.1584\n"
     ]
    }
   ],
   "source": [
    "from keras import models, layers, optimizers, regularizers\n",
    "from keras.utils.vis_utils import model_to_dot\n",
    "from IPython.display import SVG\n",
    "\n",
    "# Building the model\n",
    "nn2 = models.Sequential()\n",
    "nn2.add(layers.Dense(128, input_shape=(X_train.shape[1],), activation='relu'))\n",
    "nn2.add(layers.Dense(256, activation='relu'))\n",
    "nn2.add(layers.Dense(256, activation='relu'))\n",
    "nn2.add(layers.Dense(512, activation='relu'))\n",
    "nn2.add(layers.Dense(1, activation='linear'))\n",
    "\n",
    "# Compiling the model\n",
    "nn2.compile(loss='mean_squared_error',\n",
    "            optimizer='adam',\n",
    "            metrics=['mean_squared_error'])\n",
    "\n",
    "# Printing the model summary\n",
    "print(nn2.summary())\n",
    "\n",
    "# Visualising the neural network\n",
    "SVG(model_to_dot(nn2, show_layer_names=False, show_shapes=True).create(prog='dot', format='svg'))\n",
    "\n",
    "# Training the model\n",
    "nn2_history = nn2.fit(X_train,\n",
    "                  y_train,\n",
    "                  epochs=100,\n",
    "                  batch_size=256,\n",
    "                  validation_split = 0.1)"
   ]
  },
  {
   "cell_type": "code",
   "execution_count": 50,
   "metadata": {
    "ExecuteTime": {
     "end_time": "2020-10-26T10:41:19.353400Z",
     "start_time": "2020-10-26T10:41:18.580467Z"
    }
   },
   "outputs": [
    {
     "name": "stdout",
     "output_type": "stream",
     "text": [
      "Training MSE: 0.1085\n",
      "Validation MSE: 131990535.6349\n",
      "Validation RMSE: 11488.7134\n",
      "\n",
      "Training r2: 0.7365\n",
      "Validation r2: -336886973.1198\n"
     ]
    }
   ],
   "source": [
    "y_test_pred = nn2.predict(X_test)\n",
    "y_train_pred = nn2.predict(X_train)\n",
    "print(\"Training MSE:\", round(mean_squared_error(y_train, y_train_pred),4))\n",
    "print(\"Validation MSE:\", round(mean_squared_error(y_test, y_test_pred),4))\n",
    "print(\"Validation RMSE:\", round(mean_squared_error(y_test, y_test_pred)**0.5,4))\n",
    "print(\"\\nTraining r2:\", round(r2_score(y_train, y_train_pred),4))\n",
    "print(\"Validation r2:\", round(r2_score(y_test, y_test_pred),4))"
   ]
  },
  {
   "cell_type": "markdown",
   "metadata": {},
   "source": [
    "# Distribution of Numeric Columns"
   ]
  },
  {
   "cell_type": "code",
   "execution_count": 51,
   "metadata": {
    "ExecuteTime": {
     "end_time": "2020-10-26T10:41:24.327104Z",
     "start_time": "2020-10-26T10:41:19.356394Z"
    },
    "scrolled": true
   },
   "outputs": [
    {
     "data": {
      "image/png": "[encoded data removed]",
      "text/plain": [
       "<Figure size 432x288 with 1 Axes>"
      ]
     },
     "metadata": {},
     "output_type": "display_data"
    },
    {
     "data": {
      "image/png": "[encoded data removed]",
      "text/plain": [
       "<Figure size 432x288 with 1 Axes>"
      ]
     },
     "metadata": {},
     "output_type": "display_data"
    },
    {
     "data": {
      "image/png": "[encoded data removed]",
      "text/plain": [
       "<Figure size 432x288 with 1 Axes>"
      ]
     },
     "metadata": {},
     "output_type": "display_data"
    },
    {
     "data": {
      "image/png": "[encoded data removed]",
      "text/plain": [
       "<Figure size 432x288 with 1 Axes>"
      ]
     },
     "metadata": {},
     "output_type": "display_data"
    },
    {
     "data": {
      "image/png": "[encoded data removed]",
      "text/plain": [
       "<Figure size 432x288 with 1 Axes>"
      ]
     },
     "metadata": {},
     "output_type": "display_data"
    },
    {
     "data": {
      "image/png": "[encoded data removed]",
      "text/plain": [
       "<Figure size 432x288 with 1 Axes>"
      ]
     },
     "metadata": {},
     "output_type": "display_data"
    },
    {
     "data": {
      "image/png": "[encoded data removed]",
      "text/plain": [
       "<Figure size 432x288 with 1 Axes>"
      ]
     },
     "metadata": {},
     "output_type": "display_data"
    },
    {
     "data": {
      "image/png": "[encoded data removed]",
      "text/plain": [
       "<Figure size 432x288 with 1 Axes>"
      ]
     },
     "metadata": {},
     "output_type": "display_data"
    },
    {
     "data": {
      "image/png": "[encoded data removed]",
      "text/plain": [
       "<Figure size 432x288 with 1 Axes>"
      ]
     },
     "metadata": {},
     "output_type": "display_data"
    },
    {
     "data": {
      "image/png": "[encoded data removed]",
      "text/plain": [
       "<Figure size 432x288 with 1 Axes>"
      ]
     },
     "metadata": {},
     "output_type": "display_data"
    },
    {
     "data": {
      "image/png": "[encoded data removed]",
      "text/plain": [
       "<Figure size 432x288 with 1 Axes>"
      ]
     },
     "metadata": {},
     "output_type": "display_data"
    }
   ],
   "source": [
    "new_numeric_cols = []\n",
    "for col in new_SF_df.columns: \n",
    "    if col in numeric_columns:\n",
    "        new_numeric_cols.append(col)\n",
    "        try:      \n",
    "            new_SF_df[col] = pd.to_numeric(new_SF_df[col]) \n",
    "            new_SF_df.hist(column=col)\n",
    "        except ValueError:\n",
    "            print('This column can not be represented as a histogram')"
   ]
  },
  {
   "cell_type": "markdown",
   "metadata": {},
   "source": [
    "# LassoCV Model"
   ]
  },
  {
   "cell_type": "code",
   "execution_count": 53,
   "metadata": {
    "ExecuteTime": {
     "end_time": "2020-10-26T10:41:25.700431Z",
     "start_time": "2020-10-26T10:41:24.337082Z"
    }
   },
   "outputs": [
    {
     "data": {
      "text/plain": [
       "LassoCV(alphas=array([1.00000000e-02, 1.04737090e-02, 1.09698580e-02, 1.14895100e-02,\n",
       "       1.20337784e-02, 1.26038293e-02, 1.32008840e-02, 1.38262217e-02,\n",
       "       1.44811823e-02, 1.51671689e-02, 1.58856513e-02, 1.66381689e-02,\n",
       "       1.74263339e-02, 1.82518349e-02, 1.91164408e-02, 2.00220037e-02,\n",
       "       2.09704640e-02, 2.19638537e-02, 2.30043012e-02, 2.40940356e-02,\n",
       "       2.52353917e-02, 2.64308149e-0...\n",
       "       3.44896226e+01, 3.61234270e+01, 3.78346262e+01, 3.96268864e+01,\n",
       "       4.15040476e+01, 4.34701316e+01, 4.55293507e+01, 4.76861170e+01,\n",
       "       4.99450512e+01, 5.23109931e+01, 5.47890118e+01, 5.73844165e+01,\n",
       "       6.01027678e+01, 6.29498899e+01, 6.59318827e+01, 6.90551352e+01,\n",
       "       7.23263390e+01, 7.57525026e+01, 7.93409667e+01, 8.30994195e+01,\n",
       "       8.70359136e+01, 9.11588830e+01, 9.54771611e+01, 1.00000000e+02]),\n",
       "        cv=5)"
      ]
     },
     "execution_count": 53,
     "metadata": {},
     "output_type": "execute_result"
    }
   ],
   "source": [
    "from sklearn.linear_model import Lasso, LassoCV\n",
    "\n",
    "# Run the cross validation, find the best alpha, refit the model on all the data with that alpha\n",
    "alphavec = 10**np.linspace(-2,2,200)\n",
    "lasso_model = LassoCV(alphas = alphavec, cv=5)\n",
    "lasso_model.fit(X_train, y_train)"
   ]
  },
  {
   "cell_type": "code",
   "execution_count": 54,
   "metadata": {
    "ExecuteTime": {
     "end_time": "2020-10-26T10:41:25.761268Z",
     "start_time": "2020-10-26T10:41:25.703423Z"
    }
   },
   "outputs": [
    {
     "name": "stdout",
     "output_type": "stream",
     "text": [
      "MAE: 100.335\n",
      "RMSE test: 4019.782\n",
      "R^2 test: -41242632.081\n"
     ]
    }
   ],
   "source": [
    "# R2 of Training set\n",
    "lasso_model.score(X_train,y_train)\n",
    "\n",
    "# Predict model on test data\n",
    "y_pred = lasso_model.predict(X_test)\n",
    "\n",
    "#Mean Absolute Error (MAE)\n",
    "def mae(y_true, y_pred):\n",
    "    return np.mean(np.abs(y_pred - y_true))\n",
    "print('MAE: %.3f' % mae(y_test, y_pred))\n",
    "\n",
    "rmse_rf= (mean_squared_error(y_test,y_pred))**(1/2)\n",
    "\n",
    "print('RMSE test: %.3f' % rmse_rf)\n",
    "print('R^2 test: %.3f' % (r2_score(y_test, y_pred)))"
   ]
  },
  {
   "cell_type": "code",
   "execution_count": 55,
   "metadata": {
    "ExecuteTime": {
     "end_time": "2020-10-26T10:41:26.536196Z",
     "start_time": "2020-10-26T10:41:25.764261Z"
    }
   },
   "outputs": [
    {
     "data": {
      "image/png": "[encoded data removed]",
      "text/plain": [
       "<Figure size 432x288 with 1 Axes>"
      ]
     },
     "metadata": {},
     "output_type": "display_data"
    }
   ],
   "source": [
    "plt.scatter(y_test, y_pred)\n",
    "plt.plot([0,10],[0,10],color='red')\n",
    "plt.grid(True)\n",
    "plt.title('Predicted vs. Actual Price with LASSO CV')\n",
    "plt.ylabel('Price Predicted')\n",
    "plt.xlabel('Price Actual');"
   ]
  },
  {
   "cell_type": "markdown",
   "metadata": {},
   "source": [
    "# RidgeCV Model"
   ]
  },
  {
   "cell_type": "code",
   "execution_count": 56,
   "metadata": {
    "ExecuteTime": {
     "end_time": "2020-10-26T10:41:30.193418Z",
     "start_time": "2020-10-26T10:41:26.544176Z"
    }
   },
   "outputs": [
    {
     "name": "stderr",
     "output_type": "stream",
     "text": [
      "C:\\Users\\User\\Anaconda3\\lib\\site-packages\\sklearn\\linear_model\\_ridge.py:148: LinAlgWarning: Ill-conditioned matrix (rcond=1.32292e-19): result may not be accurate.\n",
      "  overwrite_a=True).T\n",
      "C:\\Users\\User\\Anaconda3\\lib\\site-packages\\sklearn\\linear_model\\_ridge.py:148: LinAlgWarning: Ill-conditioned matrix (rcond=1.33149e-19): result may not be accurate.\n",
      "  overwrite_a=True).T\n",
      "C:\\Users\\User\\Anaconda3\\lib\\site-packages\\sklearn\\linear_model\\_ridge.py:148: LinAlgWarning: Ill-conditioned matrix (rcond=1.73059e-19): result may not be accurate.\n",
      "  overwrite_a=True).T\n",
      "C:\\Users\\User\\Anaconda3\\lib\\site-packages\\sklearn\\linear_model\\_ridge.py:148: LinAlgWarning: Ill-conditioned matrix (rcond=1.67815e-19): result may not be accurate.\n",
      "  overwrite_a=True).T\n",
      "C:\\Users\\User\\Anaconda3\\lib\\site-packages\\sklearn\\linear_model\\_ridge.py:148: LinAlgWarning: Ill-conditioned matrix (rcond=1.39554e-19): result may not be accurate.\n",
      "  overwrite_a=True).T\n",
      "C:\\Users\\User\\Anaconda3\\lib\\site-packages\\sklearn\\linear_model\\_ridge.py:148: LinAlgWarning: Ill-conditioned matrix (rcond=6.1409e-18): result may not be accurate.\n",
      "  overwrite_a=True).T\n",
      "C:\\Users\\User\\Anaconda3\\lib\\site-packages\\sklearn\\linear_model\\_ridge.py:148: LinAlgWarning: Ill-conditioned matrix (rcond=6.18072e-18): result may not be accurate.\n",
      "  overwrite_a=True).T\n",
      "C:\\Users\\User\\Anaconda3\\lib\\site-packages\\sklearn\\linear_model\\_ridge.py:148: LinAlgWarning: Ill-conditioned matrix (rcond=8.0327e-18): result may not be accurate.\n",
      "  overwrite_a=True).T\n",
      "C:\\Users\\User\\Anaconda3\\lib\\site-packages\\sklearn\\linear_model\\_ridge.py:148: LinAlgWarning: Ill-conditioned matrix (rcond=7.78931e-18): result may not be accurate.\n",
      "  overwrite_a=True).T\n",
      "C:\\Users\\User\\Anaconda3\\lib\\site-packages\\sklearn\\linear_model\\_ridge.py:148: LinAlgWarning: Ill-conditioned matrix (rcond=6.4776e-18): result may not be accurate.\n",
      "  overwrite_a=True).T\n"
     ]
    },
    {
     "data": {
      "text/plain": [
       "RidgeCV(alphas=array([1.00000000e-10, 4.64158883e-09, 2.15443469e-07, 1.00000000e-05,\n",
       "       4.64158883e-04, 2.15443469e-02, 1.00000000e+00, 4.64158883e+01,\n",
       "       2.15443469e+03, 1.00000000e+05]),\n",
       "        cv=5)"
      ]
     },
     "execution_count": 56,
     "metadata": {},
     "output_type": "execute_result"
    }
   ],
   "source": [
    "from sklearn.linear_model import RidgeCV\n",
    "\n",
    "reg_params = 10.**np.linspace(-10, 5, 10)\n",
    "ridge_model = RidgeCV(alphas=reg_params, fit_intercept=True, cv=5)\n",
    "ridge_model.fit(X_train, y_train)"
   ]
  },
  {
   "cell_type": "code",
   "execution_count": 57,
   "metadata": {
    "ExecuteTime": {
     "end_time": "2020-10-26T10:41:30.256250Z",
     "start_time": "2020-10-26T10:41:30.196411Z"
    }
   },
   "outputs": [
    {
     "name": "stdout",
     "output_type": "stream",
     "text": [
      "MAE: 94.900\n",
      "RMSE test: 3803.034\n",
      "R^2 test: -36914905.950\n"
     ]
    }
   ],
   "source": [
    "# R2 of Training set\n",
    "ridge_model.score(X_train,y_train)\n",
    "\n",
    "# Predict model on test data\n",
    "y_pred = ridge_model.predict(X_test)\n",
    "\n",
    "#Mean Absolute Error (MAE)\n",
    "def mae(y_true, y_pred):\n",
    "    return np.mean(np.abs(y_pred - y_true))\n",
    "print('MAE: %.3f' % mae(y_test, y_pred))\n",
    "\n",
    "rmse_rf= (mean_squared_error(y_test,y_pred))**(1/2)\n",
    "\n",
    "print('RMSE test: %.3f' % rmse_rf)\n",
    "print('R^2 test: %.3f' % (r2_score(y_test, y_pred)))"
   ]
  },
  {
   "cell_type": "code",
   "execution_count": 58,
   "metadata": {
    "ExecuteTime": {
     "end_time": "2020-10-26T10:41:31.081046Z",
     "start_time": "2020-10-26T10:41:30.259243Z"
    },
    "scrolled": true
   },
   "outputs": [
    {
     "data": {
      "text/plain": [
       "Text(0.5, 0, 'Price Actual')"
      ]
     },
     "execution_count": 58,
     "metadata": {},
     "output_type": "execute_result"
    },
    {
     "data": {
      "image/png": "[encoded data removed]",
      "text/plain": [
       "<Figure size 432x288 with 1 Axes>"
      ]
     },
     "metadata": {},
     "output_type": "display_data"
    }
   ],
   "source": [
    "plt.scatter(y_test, y_pred)\n",
    "plt.plot([0,10],[0,10],color='red')\n",
    "plt.grid(True)\n",
    "plt.title('Predicted vs. Actual Price with RIDGE CV')\n",
    "plt.ylabel('Price Predicted')\n",
    "plt.xlabel('Price Actual')"
   ]
  },
  {
   "cell_type": "markdown",
   "metadata": {},
   "source": [
    "# Removing Problematic rows and redo LassoCV, RidgeCV and NN"
   ]
  },
  {
   "cell_type": "markdown",
   "metadata": {},
   "source": [
    "## Finding and Removing Problematic rows"
   ]
  },
  {
   "cell_type": "code",
   "execution_count": 59,
   "metadata": {
    "ExecuteTime": {
     "end_time": "2020-10-26T10:41:31.094012Z",
     "start_time": "2020-10-26T10:41:31.084038Z"
    }
   },
   "outputs": [],
   "source": [
    "result_df = pd.DataFrame({'Actual': y_test, 'Predicted': y_pred})"
   ]
  },
  {
   "cell_type": "code",
   "execution_count": 60,
   "metadata": {
    "ExecuteTime": {
     "end_time": "2020-10-26T10:41:31.122943Z",
     "start_time": "2020-10-26T10:41:31.097004Z"
    }
   },
   "outputs": [
    {
     "data": {
      "text/html": [
       "<div>\n",
       "<style scoped>\n",
       "    .dataframe tbody tr th:only-of-type {\n",
       "        vertical-align: middle;\n",
       "    }\n",
       "\n",
       "    .dataframe tbody tr th {\n",
       "        vertical-align: top;\n",
       "    }\n",
       "\n",
       "    .dataframe thead th {\n",
       "        text-align: right;\n",
       "    }\n",
       "</style>\n",
       "<table border=\"1\" class=\"dataframe\">\n",
       "  <thead>\n",
       "    <tr style=\"text-align: right;\">\n",
       "      <th></th>\n",
       "      <th>Actual</th>\n",
       "      <th>Predicted</th>\n",
       "    </tr>\n",
       "  </thead>\n",
       "  <tbody>\n",
       "    <tr>\n",
       "      <th>2357</th>\n",
       "      <td>4.219508</td>\n",
       "      <td>-152923.137352</td>\n",
       "    </tr>\n",
       "    <tr>\n",
       "      <th>6271</th>\n",
       "      <td>3.401197</td>\n",
       "      <td>3.144769</td>\n",
       "    </tr>\n",
       "    <tr>\n",
       "      <th>5602</th>\n",
       "      <td>3.663562</td>\n",
       "      <td>3.168518</td>\n",
       "    </tr>\n",
       "    <tr>\n",
       "      <th>5250</th>\n",
       "      <td>3.912023</td>\n",
       "      <td>3.210701</td>\n",
       "    </tr>\n",
       "    <tr>\n",
       "      <th>5900</th>\n",
       "      <td>3.610918</td>\n",
       "      <td>3.214527</td>\n",
       "    </tr>\n",
       "    <tr>\n",
       "      <th>...</th>\n",
       "      <td>...</td>\n",
       "      <td>...</td>\n",
       "    </tr>\n",
       "    <tr>\n",
       "      <th>2379</th>\n",
       "      <td>6.214608</td>\n",
       "      <td>6.326059</td>\n",
       "    </tr>\n",
       "    <tr>\n",
       "      <th>2961</th>\n",
       "      <td>5.666427</td>\n",
       "      <td>6.332850</td>\n",
       "    </tr>\n",
       "    <tr>\n",
       "      <th>2433</th>\n",
       "      <td>5.883322</td>\n",
       "      <td>6.359376</td>\n",
       "    </tr>\n",
       "    <tr>\n",
       "      <th>1163</th>\n",
       "      <td>5.857933</td>\n",
       "      <td>6.379363</td>\n",
       "    </tr>\n",
       "    <tr>\n",
       "      <th>6426</th>\n",
       "      <td>5.521461</td>\n",
       "      <td>6.380506</td>\n",
       "    </tr>\n",
       "  </tbody>\n",
       "</table>\n",
       "<p>1617 rows × 2 columns</p>\n",
       "</div>"
      ],
      "text/plain": [
       "        Actual      Predicted\n",
       "2357  4.219508 -152923.137352\n",
       "6271  3.401197       3.144769\n",
       "5602  3.663562       3.168518\n",
       "5250  3.912023       3.210701\n",
       "5900  3.610918       3.214527\n",
       "...        ...            ...\n",
       "2379  6.214608       6.326059\n",
       "2961  5.666427       6.332850\n",
       "2433  5.883322       6.359376\n",
       "1163  5.857933       6.379363\n",
       "6426  5.521461       6.380506\n",
       "\n",
       "[1617 rows x 2 columns]"
      ]
     },
     "execution_count": 60,
     "metadata": {},
     "output_type": "execute_result"
    }
   ],
   "source": [
    "result_df.sort_values(by='Predicted')"
   ]
  },
  {
   "cell_type": "code",
   "execution_count": 61,
   "metadata": {
    "ExecuteTime": {
     "end_time": "2020-10-26T10:41:31.144875Z",
     "start_time": "2020-10-26T10:41:31.126923Z"
    }
   },
   "outputs": [
    {
     "data": {
      "text/plain": [
       "(6465, 225)"
      ]
     },
     "execution_count": 61,
     "metadata": {},
     "output_type": "execute_result"
    }
   ],
   "source": [
    "problem_row = listings_new[(listings_new['price_log'] >= 4.21) & (listings_new['price_log'] < 4.22)]\n",
    "problem_row[['price','price_log']].shape\n",
    "listings_new.shape"
   ]
  },
  {
   "cell_type": "code",
   "execution_count": 62,
   "metadata": {
    "ExecuteTime": {
     "end_time": "2020-10-26T10:41:31.261563Z",
     "start_time": "2020-10-26T10:41:31.147867Z"
    }
   },
   "outputs": [
    {
     "data": {
      "text/html": [
       "<div>\n",
       "<style scoped>\n",
       "    .dataframe tbody tr th:only-of-type {\n",
       "        vertical-align: middle;\n",
       "    }\n",
       "\n",
       "    .dataframe tbody tr th {\n",
       "        vertical-align: top;\n",
       "    }\n",
       "\n",
       "    .dataframe thead th {\n",
       "        text-align: right;\n",
       "    }\n",
       "</style>\n",
       "<table border=\"1\" class=\"dataframe\">\n",
       "  <thead>\n",
       "    <tr style=\"text-align: right;\">\n",
       "      <th></th>\n",
       "      <th>host_response_rate</th>\n",
       "      <th>host_acceptance_rate</th>\n",
       "      <th>host_is_superhost</th>\n",
       "      <th>host_listings_count</th>\n",
       "      <th>accommodates</th>\n",
       "      <th>bathrooms</th>\n",
       "      <th>price</th>\n",
       "      <th>minimum_nights</th>\n",
       "      <th>review_scores_rating</th>\n",
       "      <th>reviews_per_month</th>\n",
       "      <th>...</th>\n",
       "      <th>table corner guards</th>\n",
       "      <th>terrace</th>\n",
       "      <th>tv</th>\n",
       "      <th>walk in closet</th>\n",
       "      <th>washer</th>\n",
       "      <th>waterfront</th>\n",
       "      <th>wet bar</th>\n",
       "      <th>wifi</th>\n",
       "      <th>window guards</th>\n",
       "      <th>wine cooler</th>\n",
       "    </tr>\n",
       "  </thead>\n",
       "  <tbody>\n",
       "    <tr>\n",
       "      <th>0</th>\n",
       "      <td>1.0</td>\n",
       "      <td>0.99</td>\n",
       "      <td>1</td>\n",
       "      <td>1</td>\n",
       "      <td>3</td>\n",
       "      <td>1.0</td>\n",
       "      <td>132.00</td>\n",
       "      <td>2</td>\n",
       "      <td>97.0</td>\n",
       "      <td>1.91</td>\n",
       "      <td>...</td>\n",
       "      <td>0</td>\n",
       "      <td>0</td>\n",
       "      <td>1</td>\n",
       "      <td>0</td>\n",
       "      <td>1</td>\n",
       "      <td>0</td>\n",
       "      <td>0</td>\n",
       "      <td>1</td>\n",
       "      <td>0</td>\n",
       "      <td>0</td>\n",
       "    </tr>\n",
       "    <tr>\n",
       "      <th>1</th>\n",
       "      <td>0.6</td>\n",
       "      <td>0.83</td>\n",
       "      <td>0</td>\n",
       "      <td>2</td>\n",
       "      <td>5</td>\n",
       "      <td>1.0</td>\n",
       "      <td>235.00</td>\n",
       "      <td>30</td>\n",
       "      <td>98.0</td>\n",
       "      <td>0.81</td>\n",
       "      <td>...</td>\n",
       "      <td>0</td>\n",
       "      <td>0</td>\n",
       "      <td>0</td>\n",
       "      <td>0</td>\n",
       "      <td>1</td>\n",
       "      <td>0</td>\n",
       "      <td>0</td>\n",
       "      <td>1</td>\n",
       "      <td>0</td>\n",
       "      <td>0</td>\n",
       "    </tr>\n",
       "    <tr>\n",
       "      <th>2</th>\n",
       "      <td>1.0</td>\n",
       "      <td>1.00</td>\n",
       "      <td>0</td>\n",
       "      <td>10</td>\n",
       "      <td>2</td>\n",
       "      <td>4.0</td>\n",
       "      <td>56.00</td>\n",
       "      <td>32</td>\n",
       "      <td>84.0</td>\n",
       "      <td>0.14</td>\n",
       "      <td>...</td>\n",
       "      <td>0</td>\n",
       "      <td>0</td>\n",
       "      <td>1</td>\n",
       "      <td>0</td>\n",
       "      <td>1</td>\n",
       "      <td>0</td>\n",
       "      <td>0</td>\n",
       "      <td>1</td>\n",
       "      <td>0</td>\n",
       "      <td>0</td>\n",
       "    </tr>\n",
       "    <tr>\n",
       "      <th>3</th>\n",
       "      <td>1.0</td>\n",
       "      <td>1.00</td>\n",
       "      <td>0</td>\n",
       "      <td>10</td>\n",
       "      <td>2</td>\n",
       "      <td>4.0</td>\n",
       "      <td>56.00</td>\n",
       "      <td>32</td>\n",
       "      <td>93.0</td>\n",
       "      <td>0.11</td>\n",
       "      <td>...</td>\n",
       "      <td>0</td>\n",
       "      <td>0</td>\n",
       "      <td>1</td>\n",
       "      <td>0</td>\n",
       "      <td>1</td>\n",
       "      <td>0</td>\n",
       "      <td>0</td>\n",
       "      <td>1</td>\n",
       "      <td>0</td>\n",
       "      <td>0</td>\n",
       "    </tr>\n",
       "    <tr>\n",
       "      <th>5</th>\n",
       "      <td>1.0</td>\n",
       "      <td>0.96</td>\n",
       "      <td>1</td>\n",
       "      <td>2</td>\n",
       "      <td>3</td>\n",
       "      <td>1.0</td>\n",
       "      <td>169.00</td>\n",
       "      <td>1</td>\n",
       "      <td>98.0</td>\n",
       "      <td>5.47</td>\n",
       "      <td>...</td>\n",
       "      <td>0</td>\n",
       "      <td>0</td>\n",
       "      <td>1</td>\n",
       "      <td>0</td>\n",
       "      <td>1</td>\n",
       "      <td>0</td>\n",
       "      <td>0</td>\n",
       "      <td>1</td>\n",
       "      <td>0</td>\n",
       "      <td>0</td>\n",
       "    </tr>\n",
       "    <tr>\n",
       "      <th>...</th>\n",
       "      <td>...</td>\n",
       "      <td>...</td>\n",
       "      <td>...</td>\n",
       "      <td>...</td>\n",
       "      <td>...</td>\n",
       "      <td>...</td>\n",
       "      <td>...</td>\n",
       "      <td>...</td>\n",
       "      <td>...</td>\n",
       "      <td>...</td>\n",
       "      <td>...</td>\n",
       "      <td>...</td>\n",
       "      <td>...</td>\n",
       "      <td>...</td>\n",
       "      <td>...</td>\n",
       "      <td>...</td>\n",
       "      <td>...</td>\n",
       "      <td>...</td>\n",
       "      <td>...</td>\n",
       "      <td>...</td>\n",
       "      <td>...</td>\n",
       "    </tr>\n",
       "    <tr>\n",
       "      <th>6843</th>\n",
       "      <td>1.0</td>\n",
       "      <td>1.00</td>\n",
       "      <td>0</td>\n",
       "      <td>0</td>\n",
       "      <td>1</td>\n",
       "      <td>2.0</td>\n",
       "      <td>43.57</td>\n",
       "      <td>30</td>\n",
       "      <td>0.0</td>\n",
       "      <td>0.00</td>\n",
       "      <td>...</td>\n",
       "      <td>0</td>\n",
       "      <td>0</td>\n",
       "      <td>0</td>\n",
       "      <td>0</td>\n",
       "      <td>1</td>\n",
       "      <td>0</td>\n",
       "      <td>0</td>\n",
       "      <td>1</td>\n",
       "      <td>0</td>\n",
       "      <td>0</td>\n",
       "    </tr>\n",
       "    <tr>\n",
       "      <th>6844</th>\n",
       "      <td>1.0</td>\n",
       "      <td>1.00</td>\n",
       "      <td>0</td>\n",
       "      <td>0</td>\n",
       "      <td>1</td>\n",
       "      <td>2.0</td>\n",
       "      <td>63.00</td>\n",
       "      <td>30</td>\n",
       "      <td>0.0</td>\n",
       "      <td>0.00</td>\n",
       "      <td>...</td>\n",
       "      <td>0</td>\n",
       "      <td>0</td>\n",
       "      <td>1</td>\n",
       "      <td>0</td>\n",
       "      <td>1</td>\n",
       "      <td>0</td>\n",
       "      <td>0</td>\n",
       "      <td>1</td>\n",
       "      <td>0</td>\n",
       "      <td>0</td>\n",
       "    </tr>\n",
       "    <tr>\n",
       "      <th>6845</th>\n",
       "      <td>1.0</td>\n",
       "      <td>1.00</td>\n",
       "      <td>0</td>\n",
       "      <td>0</td>\n",
       "      <td>1</td>\n",
       "      <td>2.0</td>\n",
       "      <td>51.00</td>\n",
       "      <td>30</td>\n",
       "      <td>0.0</td>\n",
       "      <td>0.00</td>\n",
       "      <td>...</td>\n",
       "      <td>0</td>\n",
       "      <td>0</td>\n",
       "      <td>1</td>\n",
       "      <td>0</td>\n",
       "      <td>1</td>\n",
       "      <td>0</td>\n",
       "      <td>0</td>\n",
       "      <td>1</td>\n",
       "      <td>0</td>\n",
       "      <td>0</td>\n",
       "    </tr>\n",
       "    <tr>\n",
       "      <th>6846</th>\n",
       "      <td>1.0</td>\n",
       "      <td>1.00</td>\n",
       "      <td>0</td>\n",
       "      <td>0</td>\n",
       "      <td>1</td>\n",
       "      <td>3.5</td>\n",
       "      <td>58.00</td>\n",
       "      <td>30</td>\n",
       "      <td>0.0</td>\n",
       "      <td>0.00</td>\n",
       "      <td>...</td>\n",
       "      <td>0</td>\n",
       "      <td>0</td>\n",
       "      <td>1</td>\n",
       "      <td>0</td>\n",
       "      <td>1</td>\n",
       "      <td>0</td>\n",
       "      <td>0</td>\n",
       "      <td>1</td>\n",
       "      <td>0</td>\n",
       "      <td>0</td>\n",
       "    </tr>\n",
       "    <tr>\n",
       "      <th>6847</th>\n",
       "      <td>0.0</td>\n",
       "      <td>1.00</td>\n",
       "      <td>0</td>\n",
       "      <td>4</td>\n",
       "      <td>2</td>\n",
       "      <td>1.0</td>\n",
       "      <td>90.00</td>\n",
       "      <td>30</td>\n",
       "      <td>0.0</td>\n",
       "      <td>0.00</td>\n",
       "      <td>...</td>\n",
       "      <td>0</td>\n",
       "      <td>0</td>\n",
       "      <td>1</td>\n",
       "      <td>0</td>\n",
       "      <td>0</td>\n",
       "      <td>0</td>\n",
       "      <td>0</td>\n",
       "      <td>1</td>\n",
       "      <td>0</td>\n",
       "      <td>0</td>\n",
       "    </tr>\n",
       "  </tbody>\n",
       "</table>\n",
       "<p>6440 rows × 225 columns</p>\n",
       "</div>"
      ],
      "text/plain": [
       "      host_response_rate  host_acceptance_rate  host_is_superhost  \\\n",
       "0                    1.0                  0.99                  1   \n",
       "1                    0.6                  0.83                  0   \n",
       "2                    1.0                  1.00                  0   \n",
       "3                    1.0                  1.00                  0   \n",
       "5                    1.0                  0.96                  1   \n",
       "...                  ...                   ...                ...   \n",
       "6843                 1.0                  1.00                  0   \n",
       "6844                 1.0                  1.00                  0   \n",
       "6845                 1.0                  1.00                  0   \n",
       "6846                 1.0                  1.00                  0   \n",
       "6847                 0.0                  1.00                  0   \n",
       "\n",
       "      host_listings_count  accommodates  bathrooms   price  minimum_nights  \\\n",
       "0                       1             3        1.0  132.00               2   \n",
       "1                       2             5        1.0  235.00              30   \n",
       "2                      10             2        4.0   56.00              32   \n",
       "3                      10             2        4.0   56.00              32   \n",
       "5                       2             3        1.0  169.00               1   \n",
       "...                   ...           ...        ...     ...             ...   \n",
       "6843                    0             1        2.0   43.57              30   \n",
       "6844                    0             1        2.0   63.00              30   \n",
       "6845                    0             1        2.0   51.00              30   \n",
       "6846                    0             1        3.5   58.00              30   \n",
       "6847                    4             2        1.0   90.00              30   \n",
       "\n",
       "      review_scores_rating  reviews_per_month  ...  table corner guards  \\\n",
       "0                     97.0               1.91  ...                    0   \n",
       "1                     98.0               0.81  ...                    0   \n",
       "2                     84.0               0.14  ...                    0   \n",
       "3                     93.0               0.11  ...                    0   \n",
       "5                     98.0               5.47  ...                    0   \n",
       "...                    ...                ...  ...                  ...   \n",
       "6843                   0.0               0.00  ...                    0   \n",
       "6844                   0.0               0.00  ...                    0   \n",
       "6845                   0.0               0.00  ...                    0   \n",
       "6846                   0.0               0.00  ...                    0   \n",
       "6847                   0.0               0.00  ...                    0   \n",
       "\n",
       "      terrace  tv  walk in closet  washer  waterfront  wet bar  wifi  \\\n",
       "0           0   1               0       1           0        0     1   \n",
       "1           0   0               0       1           0        0     1   \n",
       "2           0   1               0       1           0        0     1   \n",
       "3           0   1               0       1           0        0     1   \n",
       "5           0   1               0       1           0        0     1   \n",
       "...       ...  ..             ...     ...         ...      ...   ...   \n",
       "6843        0   0               0       1           0        0     1   \n",
       "6844        0   1               0       1           0        0     1   \n",
       "6845        0   1               0       1           0        0     1   \n",
       "6846        0   1               0       1           0        0     1   \n",
       "6847        0   1               0       0           0        0     1   \n",
       "\n",
       "      window guards  wine cooler  \n",
       "0                 0            0  \n",
       "1                 0            0  \n",
       "2                 0            0  \n",
       "3                 0            0  \n",
       "5                 0            0  \n",
       "...             ...          ...  \n",
       "6843              0            0  \n",
       "6844              0            0  \n",
       "6845              0            0  \n",
       "6846              0            0  \n",
       "6847              0            0  \n",
       "\n",
       "[6440 rows x 225 columns]"
      ]
     },
     "execution_count": 62,
     "metadata": {},
     "output_type": "execute_result"
    }
   ],
   "source": [
    "new_non_problematic_df = listings_new[listings_new['price'] != 68]\n",
    "new_non_problematic_df[new_non_problematic_df['price']!=68]"
   ]
  },
  {
   "cell_type": "markdown",
   "metadata": {},
   "source": [
    "## Reassign to new train/test data"
   ]
  },
  {
   "cell_type": "code",
   "execution_count": 63,
   "metadata": {
    "ExecuteTime": {
     "end_time": "2020-10-26T10:41:31.311430Z",
     "start_time": "2020-10-26T10:41:31.267548Z"
    }
   },
   "outputs": [],
   "source": [
    "y = new_non_problematic_df['price_log'] # target/dependent variable\n",
    "x = new_non_problematic_df.drop(['price','price_log'], axis =1) # independent variables\n",
    "\n",
    "X_train, X_test, y_train, y_test = train_test_split(x, y, test_size = 0.25, random_state=1)"
   ]
  },
  {
   "cell_type": "markdown",
   "metadata": {},
   "source": [
    "## LassoCV"
   ]
  },
  {
   "cell_type": "code",
   "execution_count": 64,
   "metadata": {
    "ExecuteTime": {
     "end_time": "2020-10-26T10:41:32.838355Z",
     "start_time": "2020-10-26T10:41:31.316416Z"
    }
   },
   "outputs": [
    {
     "data": {
      "text/plain": [
       "LassoCV(alphas=array([1.00000000e-02, 1.04737090e-02, 1.09698580e-02, 1.14895100e-02,\n",
       "       1.20337784e-02, 1.26038293e-02, 1.32008840e-02, 1.38262217e-02,\n",
       "       1.44811823e-02, 1.51671689e-02, 1.58856513e-02, 1.66381689e-02,\n",
       "       1.74263339e-02, 1.82518349e-02, 1.91164408e-02, 2.00220037e-02,\n",
       "       2.09704640e-02, 2.19638537e-02, 2.30043012e-02, 2.40940356e-02,\n",
       "       2.52353917e-02, 2.64308149e-0...\n",
       "       3.44896226e+01, 3.61234270e+01, 3.78346262e+01, 3.96268864e+01,\n",
       "       4.15040476e+01, 4.34701316e+01, 4.55293507e+01, 4.76861170e+01,\n",
       "       4.99450512e+01, 5.23109931e+01, 5.47890118e+01, 5.73844165e+01,\n",
       "       6.01027678e+01, 6.29498899e+01, 6.59318827e+01, 6.90551352e+01,\n",
       "       7.23263390e+01, 7.57525026e+01, 7.93409667e+01, 8.30994195e+01,\n",
       "       8.70359136e+01, 9.11588830e+01, 9.54771611e+01, 1.00000000e+02]),\n",
       "        cv=5)"
      ]
     },
     "execution_count": 64,
     "metadata": {},
     "output_type": "execute_result"
    }
   ],
   "source": [
    "from sklearn.linear_model import Lasso, LassoCV\n",
    "\n",
    "# Run the cross validation, find the best alpha, refit the model on all the data with that alpha\n",
    "alphavec = 10**np.linspace(-2,2,200)\n",
    "lasso_model = LassoCV(alphas = alphavec, cv=5)\n",
    "lasso_model.fit(X_train, y_train)"
   ]
  },
  {
   "cell_type": "code",
   "execution_count": 65,
   "metadata": {
    "ExecuteTime": {
     "end_time": "2020-10-26T10:41:32.902177Z",
     "start_time": "2020-10-26T10:41:32.842337Z"
    }
   },
   "outputs": [
    {
     "name": "stdout",
     "output_type": "stream",
     "text": [
      "MAE: 0.363\n",
      "RMSE test: 0.456\n",
      "R^2 test: 0.480\n"
     ]
    }
   ],
   "source": [
    "# R2 of Training set\n",
    "lasso_model.score(X_train,y_train)\n",
    "\n",
    "# Predict model on test data\n",
    "y_pred = lasso_model.predict(X_test)\n",
    "\n",
    "#Mean Absolute Error (MAE)\n",
    "def mae(y_true, y_pred):\n",
    "    return np.mean(np.abs(y_pred - y_true))\n",
    "print('MAE: %.3f' % mae(y_test, y_pred))\n",
    "\n",
    "rmse_rf= (mean_squared_error(y_test,y_pred))**(1/2)\n",
    "\n",
    "print('RMSE test: %.3f' % rmse_rf)\n",
    "print('R^2 test: %.3f' % (r2_score(y_test, y_pred)))"
   ]
  },
  {
   "cell_type": "code",
   "execution_count": 66,
   "metadata": {
    "ExecuteTime": {
     "end_time": "2020-10-26T10:41:33.863607Z",
     "start_time": "2020-10-26T10:41:32.911154Z"
    }
   },
   "outputs": [
    {
     "data": {
      "text/plain": [
       "Text(0.5, 0, 'Price Actual')"
      ]
     },
     "execution_count": 66,
     "metadata": {},
     "output_type": "execute_result"
    },
    {
     "data": {
      "image/png": "[encoded data removed]",
      "text/plain": [
       "<Figure size 432x288 with 1 Axes>"
      ]
     },
     "metadata": {},
     "output_type": "display_data"
    }
   ],
   "source": [
    "plt.scatter(y_test, y_pred)\n",
    "plt.plot([0,10],[0,10],color='red')\n",
    "plt.grid(True)\n",
    "plt.title('Predicted vs. Actual Price with LASSO CV')\n",
    "plt.ylabel('Price Predicted')\n",
    "plt.xlabel('Price Actual')"
   ]
  },
  {
   "cell_type": "markdown",
   "metadata": {},
   "source": [
    "## RidgeCV"
   ]
  },
  {
   "cell_type": "code",
   "execution_count": 67,
   "metadata": {
    "ExecuteTime": {
     "end_time": "2020-10-26T10:41:39.325005Z",
     "start_time": "2020-10-26T10:41:33.881559Z"
    }
   },
   "outputs": [
    {
     "name": "stderr",
     "output_type": "stream",
     "text": [
      "C:\\Users\\User\\Anaconda3\\lib\\site-packages\\sklearn\\linear_model\\_ridge.py:148: LinAlgWarning: Ill-conditioned matrix (rcond=1.29315e-19): result may not be accurate.\n",
      "  overwrite_a=True).T\n",
      "C:\\Users\\User\\Anaconda3\\lib\\site-packages\\sklearn\\linear_model\\_ridge.py:148: LinAlgWarning: Ill-conditioned matrix (rcond=1.30502e-19): result may not be accurate.\n",
      "  overwrite_a=True).T\n",
      "C:\\Users\\User\\Anaconda3\\lib\\site-packages\\sklearn\\linear_model\\_ridge.py:148: LinAlgWarning: Ill-conditioned matrix (rcond=2.01913e-19): result may not be accurate.\n",
      "  overwrite_a=True).T\n",
      "C:\\Users\\User\\Anaconda3\\lib\\site-packages\\sklearn\\linear_model\\_ridge.py:148: LinAlgWarning: Ill-conditioned matrix (rcond=1.30336e-19): result may not be accurate.\n",
      "  overwrite_a=True).T\n",
      "C:\\Users\\User\\Anaconda3\\lib\\site-packages\\sklearn\\linear_model\\_ridge.py:148: LinAlgWarning: Ill-conditioned matrix (rcond=1.38403e-19): result may not be accurate.\n",
      "  overwrite_a=True).T\n",
      "C:\\Users\\User\\Anaconda3\\lib\\site-packages\\sklearn\\linear_model\\_ridge.py:148: LinAlgWarning: Ill-conditioned matrix (rcond=6.00182e-18): result may not be accurate.\n",
      "  overwrite_a=True).T\n",
      "C:\\Users\\User\\Anaconda3\\lib\\site-packages\\sklearn\\linear_model\\_ridge.py:148: LinAlgWarning: Ill-conditioned matrix (rcond=6.05688e-18): result may not be accurate.\n",
      "  overwrite_a=True).T\n",
      "C:\\Users\\User\\Anaconda3\\lib\\site-packages\\sklearn\\linear_model\\_ridge.py:148: LinAlgWarning: Ill-conditioned matrix (rcond=9.43274e-18): result may not be accurate.\n",
      "  overwrite_a=True).T\n",
      "C:\\Users\\User\\Anaconda3\\lib\\site-packages\\sklearn\\linear_model\\_ridge.py:148: LinAlgWarning: Ill-conditioned matrix (rcond=6.04931e-18): result may not be accurate.\n",
      "  overwrite_a=True).T\n",
      "C:\\Users\\User\\Anaconda3\\lib\\site-packages\\sklearn\\linear_model\\_ridge.py:148: LinAlgWarning: Ill-conditioned matrix (rcond=6.42367e-18): result may not be accurate.\n",
      "  overwrite_a=True).T\n"
     ]
    },
    {
     "data": {
      "text/plain": [
       "RidgeCV(alphas=array([1.00000000e-10, 4.64158883e-09, 2.15443469e-07, 1.00000000e-05,\n",
       "       4.64158883e-04, 2.15443469e-02, 1.00000000e+00, 4.64158883e+01,\n",
       "       2.15443469e+03, 1.00000000e+05]),\n",
       "        cv=5)"
      ]
     },
     "execution_count": 67,
     "metadata": {},
     "output_type": "execute_result"
    }
   ],
   "source": [
    "from sklearn.linear_model import RidgeCV\n",
    "\n",
    "reg_params = 10.**np.linspace(-10, 5, 10)\n",
    "ridge_model = RidgeCV(alphas=reg_params, fit_intercept=True, cv=5)\n",
    "ridge_model.fit(X_train, y_train)"
   ]
  },
  {
   "cell_type": "code",
   "execution_count": 68,
   "metadata": {
    "ExecuteTime": {
     "end_time": "2020-10-26T10:41:39.410775Z",
     "start_time": "2020-10-26T10:41:39.341960Z"
    }
   },
   "outputs": [
    {
     "name": "stdout",
     "output_type": "stream",
     "text": [
      "MAE: 0.321\n",
      "RMSE test: 0.415\n",
      "R^2 test: 0.569\n"
     ]
    }
   ],
   "source": [
    "# R2 of Training set\n",
    "ridge_model.score(X_train,y_train)\n",
    "\n",
    "# Predict model on test data\n",
    "y_pred = ridge_model.predict(X_test)\n",
    "\n",
    "#Mean Absolute Error (MAE)\n",
    "def mae(y_true, y_pred):\n",
    "    return np.mean(np.abs(y_pred - y_true))\n",
    "print('MAE: %.3f' % mae(y_test, y_pred))\n",
    "\n",
    "rmse_rf= (mean_squared_error(y_test,y_pred))**(1/2)\n",
    "\n",
    "print('RMSE test: %.3f' % rmse_rf)\n",
    "print('R^2 test: %.3f' % (r2_score(y_test, y_pred)))"
   ]
  },
  {
   "cell_type": "code",
   "execution_count": 69,
   "metadata": {
    "ExecuteTime": {
     "end_time": "2020-10-26T10:41:40.190690Z",
     "start_time": "2020-10-26T10:41:39.427731Z"
    }
   },
   "outputs": [
    {
     "data": {
      "text/plain": [
       "Text(0.5, 0, 'Price Actual')"
      ]
     },
     "execution_count": 69,
     "metadata": {},
     "output_type": "execute_result"
    },
    {
     "data": {
      "image/png": "[encoded data removed]",
      "text/plain": [
       "<Figure size 432x288 with 1 Axes>"
      ]
     },
     "metadata": {},
     "output_type": "display_data"
    }
   ],
   "source": [
    "plt.scatter(y_test, y_pred)\n",
    "plt.plot([0,10],[0,10],color='red')\n",
    "plt.grid(True)\n",
    "plt.title('Predicted vs. Actual Price with RIDGE CV')\n",
    "plt.ylabel('Price Predicted')\n",
    "plt.xlabel('Price Actual')"
   ]
  },
  {
   "cell_type": "markdown",
   "metadata": {},
   "source": [
    "## Neural Network"
   ]
  },
  {
   "cell_type": "code",
   "execution_count": 70,
   "metadata": {
    "ExecuteTime": {
     "end_time": "2020-10-26T10:42:05.152953Z",
     "start_time": "2020-10-26T10:41:40.193683Z"
    }
   },
   "outputs": [
    {
     "name": "stdout",
     "output_type": "stream",
     "text": [
      "Model: \"sequential_1\"\n",
      "_________________________________________________________________\n",
      "Layer (type)                 Output Shape              Param #   \n",
      "=================================================================\n",
      "dense_5 (Dense)              (None, 128)               28672     \n",
      "_________________________________________________________________\n",
      "dense_6 (Dense)              (None, 256)               33024     \n",
      "_________________________________________________________________\n",
      "dense_7 (Dense)              (None, 256)               65792     \n",
      "_________________________________________________________________\n",
      "dense_8 (Dense)              (None, 512)               131584    \n",
      "_________________________________________________________________\n",
      "dense_9 (Dense)              (None, 1)                 513       \n",
      "=================================================================\n",
      "Total params: 259,585\n",
      "Trainable params: 259,585\n",
      "Non-trainable params: 0\n",
      "_________________________________________________________________\n",
      "None\n",
      "Epoch 1/100\n",
      "17/17 [==============================] - 0s 22ms/step - loss: 87.6404 - mean_squared_error: 87.6404 - val_loss: 9.4417 - val_mean_squared_error: 9.4417\n",
      "Epoch 2/100\n",
      "17/17 [==============================] - 0s 9ms/step - loss: 3.1689 - mean_squared_error: 3.1689 - val_loss: 1.0167 - val_mean_squared_error: 1.0167\n",
      "Epoch 3/100\n",
      "17/17 [==============================] - 0s 10ms/step - loss: 0.8092 - mean_squared_error: 0.8092 - val_loss: 0.6765 - val_mean_squared_error: 0.6765\n",
      "Epoch 4/100\n",
      "17/17 [==============================] - 0s 10ms/step - loss: 0.4978 - mean_squared_error: 0.4978 - val_loss: 0.5238 - val_mean_squared_error: 0.5238\n",
      "Epoch 5/100\n",
      "17/17 [==============================] - 0s 9ms/step - loss: 0.4066 - mean_squared_error: 0.4066 - val_loss: 0.4943 - val_mean_squared_error: 0.4943\n",
      "Epoch 6/100\n",
      "17/17 [==============================] - 0s 9ms/step - loss: 0.3467 - mean_squared_error: 0.3467 - val_loss: 0.3565 - val_mean_squared_error: 0.3565\n",
      "Epoch 7/100\n",
      "17/17 [==============================] - 0s 10ms/step - loss: 0.2974 - mean_squared_error: 0.2974 - val_loss: 0.3302 - val_mean_squared_error: 0.3302\n",
      "Epoch 8/100\n",
      "17/17 [==============================] - 0s 11ms/step - loss: 0.2747 - mean_squared_error: 0.2747 - val_loss: 0.3076 - val_mean_squared_error: 0.3076\n",
      "Epoch 9/100\n",
      "17/17 [==============================] - 0s 20ms/step - loss: 0.2635 - mean_squared_error: 0.2635 - val_loss: 0.3531 - val_mean_squared_error: 0.3531\n",
      "Epoch 10/100\n",
      "17/17 [==============================] - 0s 17ms/step - loss: 0.3133 - mean_squared_error: 0.3133 - val_loss: 0.3115 - val_mean_squared_error: 0.3115\n",
      "Epoch 11/100\n",
      "17/17 [==============================] - 0s 16ms/step - loss: 0.2659 - mean_squared_error: 0.2659 - val_loss: 0.3659 - val_mean_squared_error: 0.3659\n",
      "Epoch 12/100\n",
      "17/17 [==============================] - 0s 14ms/step - loss: 0.2677 - mean_squared_error: 0.2677 - val_loss: 0.2742 - val_mean_squared_error: 0.2742\n",
      "Epoch 13/100\n",
      "17/17 [==============================] - 0s 10ms/step - loss: 0.2052 - mean_squared_error: 0.2052 - val_loss: 0.2418 - val_mean_squared_error: 0.2418\n",
      "Epoch 14/100\n",
      "17/17 [==============================] - 0s 12ms/step - loss: 0.1946 - mean_squared_error: 0.1946 - val_loss: 0.2358 - val_mean_squared_error: 0.2358\n",
      "Epoch 15/100\n",
      "17/17 [==============================] - 0s 12ms/step - loss: 0.2341 - mean_squared_error: 0.2341 - val_loss: 0.2647 - val_mean_squared_error: 0.2647\n",
      "Epoch 16/100\n",
      "17/17 [==============================] - 0s 9ms/step - loss: 0.2075 - mean_squared_error: 0.2075 - val_loss: 0.2500 - val_mean_squared_error: 0.2500\n",
      "Epoch 17/100\n",
      "17/17 [==============================] - 0s 12ms/step - loss: 0.1801 - mean_squared_error: 0.1801 - val_loss: 0.2856 - val_mean_squared_error: 0.2856\n",
      "Epoch 18/100\n",
      "17/17 [==============================] - 0s 12ms/step - loss: 0.2410 - mean_squared_error: 0.2410 - val_loss: 0.3458 - val_mean_squared_error: 0.3458\n",
      "Epoch 19/100\n",
      "17/17 [==============================] - 0s 14ms/step - loss: 0.2141 - mean_squared_error: 0.2141 - val_loss: 0.2509 - val_mean_squared_error: 0.2509\n",
      "Epoch 20/100\n",
      "17/17 [==============================] - 0s 14ms/step - loss: 0.1912 - mean_squared_error: 0.1912 - val_loss: 0.2220 - val_mean_squared_error: 0.2220\n",
      "Epoch 21/100\n",
      "17/17 [==============================] - 0s 14ms/step - loss: 0.2071 - mean_squared_error: 0.2071 - val_loss: 0.2338 - val_mean_squared_error: 0.2338\n",
      "Epoch 22/100\n",
      "17/17 [==============================] - 0s 14ms/step - loss: 0.1937 - mean_squared_error: 0.1937 - val_loss: 0.2481 - val_mean_squared_error: 0.2481\n",
      "Epoch 23/100\n",
      "17/17 [==============================] - 0s 11ms/step - loss: 0.1607 - mean_squared_error: 0.1607 - val_loss: 0.2310 - val_mean_squared_error: 0.2310\n",
      "Epoch 24/100\n",
      "17/17 [==============================] - 0s 12ms/step - loss: 0.1603 - mean_squared_error: 0.1603 - val_loss: 0.2196 - val_mean_squared_error: 0.2196\n",
      "Epoch 25/100\n",
      "17/17 [==============================] - 0s 13ms/step - loss: 0.1663 - mean_squared_error: 0.1663 - val_loss: 0.2465 - val_mean_squared_error: 0.2465\n",
      "Epoch 26/100\n",
      "17/17 [==============================] - 0s 8ms/step - loss: 0.2305 - mean_squared_error: 0.2305 - val_loss: 0.2412 - val_mean_squared_error: 0.2412\n",
      "Epoch 27/100\n",
      "17/17 [==============================] - 0s 20ms/step - loss: 0.2101 - mean_squared_error: 0.2101 - val_loss: 0.2288 - val_mean_squared_error: 0.2288\n",
      "Epoch 28/100\n",
      "17/17 [==============================] - 0s 13ms/step - loss: 0.1698 - mean_squared_error: 0.1698 - val_loss: 0.2084 - val_mean_squared_error: 0.2084\n",
      "Epoch 29/100\n",
      "17/17 [==============================] - 0s 9ms/step - loss: 0.1662 - mean_squared_error: 0.1662 - val_loss: 0.2267 - val_mean_squared_error: 0.2267\n",
      "Epoch 30/100\n",
      "17/17 [==============================] - 0s 9ms/step - loss: 0.1528 - mean_squared_error: 0.1528 - val_loss: 0.2432 - val_mean_squared_error: 0.2432\n",
      "Epoch 31/100\n",
      "17/17 [==============================] - 0s 8ms/step - loss: 0.1733 - mean_squared_error: 0.1733 - val_loss: 0.2101 - val_mean_squared_error: 0.2101\n",
      "Epoch 32/100\n",
      "17/17 [==============================] - 0s 10ms/step - loss: 0.1877 - mean_squared_error: 0.1877 - val_loss: 0.2231 - val_mean_squared_error: 0.2231\n",
      "Epoch 33/100\n",
      "17/17 [==============================] - 0s 11ms/step - loss: 0.1978 - mean_squared_error: 0.1978 - val_loss: 0.3304 - val_mean_squared_error: 0.3304\n",
      "Epoch 34/100\n",
      "17/17 [==============================] - 0s 10ms/step - loss: 0.3152 - mean_squared_error: 0.3152 - val_loss: 0.2439 - val_mean_squared_error: 0.2439\n",
      "Epoch 35/100\n",
      "17/17 [==============================] - 0s 14ms/step - loss: 0.2598 - mean_squared_error: 0.2598 - val_loss: 0.2185 - val_mean_squared_error: 0.2185\n",
      "Epoch 36/100\n",
      "17/17 [==============================] - 0s 11ms/step - loss: 0.1848 - mean_squared_error: 0.1848 - val_loss: 0.2393 - val_mean_squared_error: 0.2393\n",
      "Epoch 37/100\n",
      "17/17 [==============================] - 0s 9ms/step - loss: 0.1498 - mean_squared_error: 0.1498 - val_loss: 0.1944 - val_mean_squared_error: 0.1944\n",
      "Epoch 38/100\n",
      "17/17 [==============================] - 0s 11ms/step - loss: 0.1462 - mean_squared_error: 0.1462 - val_loss: 0.2187 - val_mean_squared_error: 0.2187\n",
      "Epoch 39/100\n",
      "17/17 [==============================] - 0s 9ms/step - loss: 0.1582 - mean_squared_error: 0.1582 - val_loss: 0.1899 - val_mean_squared_error: 0.1899\n",
      "Epoch 40/100\n",
      "17/17 [==============================] - 0s 10ms/step - loss: 0.1842 - mean_squared_error: 0.1842 - val_loss: 0.2629 - val_mean_squared_error: 0.2629\n",
      "Epoch 41/100\n",
      "17/17 [==============================] - 0s 10ms/step - loss: 0.1618 - mean_squared_error: 0.1618 - val_loss: 0.2080 - val_mean_squared_error: 0.2080\n",
      "Epoch 42/100\n",
      "17/17 [==============================] - 0s 10ms/step - loss: 0.1591 - mean_squared_error: 0.1591 - val_loss: 0.2040 - val_mean_squared_error: 0.2040\n",
      "Epoch 43/100\n",
      "17/17 [==============================] - 0s 9ms/step - loss: 0.1267 - mean_squared_error: 0.1267 - val_loss: 0.1974 - val_mean_squared_error: 0.1974\n",
      "Epoch 44/100\n",
      "17/17 [==============================] - 0s 10ms/step - loss: 0.1446 - mean_squared_error: 0.1446 - val_loss: 0.2032 - val_mean_squared_error: 0.2032\n",
      "Epoch 45/100\n"
     ]
    },
    {
     "name": "stdout",
     "output_type": "stream",
     "text": [
      "17/17 [==============================] - 0s 11ms/step - loss: 0.1470 - mean_squared_error: 0.1470 - val_loss: 0.1981 - val_mean_squared_error: 0.1981\n",
      "Epoch 46/100\n",
      "17/17 [==============================] - 0s 11ms/step - loss: 0.1237 - mean_squared_error: 0.1237 - val_loss: 0.1872 - val_mean_squared_error: 0.1872\n",
      "Epoch 47/100\n",
      "17/17 [==============================] - 0s 9ms/step - loss: 0.1224 - mean_squared_error: 0.1224 - val_loss: 0.2055 - val_mean_squared_error: 0.2055\n",
      "Epoch 48/100\n",
      "17/17 [==============================] - 0s 10ms/step - loss: 0.1184 - mean_squared_error: 0.1184 - val_loss: 0.1829 - val_mean_squared_error: 0.1829\n",
      "Epoch 49/100\n",
      "17/17 [==============================] - 0s 10ms/step - loss: 0.1305 - mean_squared_error: 0.1305 - val_loss: 0.2385 - val_mean_squared_error: 0.2385\n",
      "Epoch 50/100\n",
      "17/17 [==============================] - 0s 11ms/step - loss: 0.1414 - mean_squared_error: 0.1414 - val_loss: 0.2000 - val_mean_squared_error: 0.2000\n",
      "Epoch 51/100\n",
      "17/17 [==============================] - 0s 10ms/step - loss: 0.1189 - mean_squared_error: 0.1189 - val_loss: 0.1895 - val_mean_squared_error: 0.1895\n",
      "Epoch 52/100\n",
      "17/17 [==============================] - 0s 10ms/step - loss: 0.1196 - mean_squared_error: 0.1196 - val_loss: 0.1757 - val_mean_squared_error: 0.1757\n",
      "Epoch 53/100\n",
      "17/17 [==============================] - 0s 11ms/step - loss: 0.1197 - mean_squared_error: 0.1197 - val_loss: 0.1788 - val_mean_squared_error: 0.1788\n",
      "Epoch 54/100\n",
      "17/17 [==============================] - 0s 12ms/step - loss: 0.1191 - mean_squared_error: 0.1191 - val_loss: 0.1804 - val_mean_squared_error: 0.1804\n",
      "Epoch 55/100\n",
      "17/17 [==============================] - 0s 12ms/step - loss: 0.1095 - mean_squared_error: 0.1095 - val_loss: 0.1876 - val_mean_squared_error: 0.1876\n",
      "Epoch 56/100\n",
      "17/17 [==============================] - 0s 12ms/step - loss: 0.1125 - mean_squared_error: 0.1125 - val_loss: 0.1653 - val_mean_squared_error: 0.1653\n",
      "Epoch 57/100\n",
      "17/17 [==============================] - 0s 11ms/step - loss: 0.1102 - mean_squared_error: 0.1102 - val_loss: 0.1749 - val_mean_squared_error: 0.1749\n",
      "Epoch 58/100\n",
      "17/17 [==============================] - 0s 10ms/step - loss: 0.1153 - mean_squared_error: 0.1153 - val_loss: 0.1856 - val_mean_squared_error: 0.1856\n",
      "Epoch 59/100\n",
      "17/17 [==============================] - 0s 9ms/step - loss: 0.1109 - mean_squared_error: 0.1109 - val_loss: 0.1945 - val_mean_squared_error: 0.1945\n",
      "Epoch 60/100\n",
      "17/17 [==============================] - 0s 11ms/step - loss: 0.1121 - mean_squared_error: 0.1121 - val_loss: 0.2087 - val_mean_squared_error: 0.2087\n",
      "Epoch 61/100\n",
      "17/17 [==============================] - 0s 10ms/step - loss: 0.1601 - mean_squared_error: 0.1601 - val_loss: 0.1911 - val_mean_squared_error: 0.1911\n",
      "Epoch 62/100\n",
      "17/17 [==============================] - 0s 10ms/step - loss: 0.1227 - mean_squared_error: 0.1227 - val_loss: 0.1958 - val_mean_squared_error: 0.1958\n",
      "Epoch 63/100\n",
      "17/17 [==============================] - 0s 15ms/step - loss: 0.1112 - mean_squared_error: 0.1112 - val_loss: 0.1770 - val_mean_squared_error: 0.1770\n",
      "Epoch 64/100\n",
      "17/17 [==============================] - 0s 11ms/step - loss: 0.1119 - mean_squared_error: 0.1119 - val_loss: 0.1871 - val_mean_squared_error: 0.1871\n",
      "Epoch 65/100\n",
      "17/17 [==============================] - 0s 10ms/step - loss: 0.1251 - mean_squared_error: 0.1251 - val_loss: 0.1763 - val_mean_squared_error: 0.1763\n",
      "Epoch 66/100\n",
      "17/17 [==============================] - 0s 13ms/step - loss: 0.1190 - mean_squared_error: 0.1190 - val_loss: 0.1934 - val_mean_squared_error: 0.1934\n",
      "Epoch 67/100\n",
      "17/17 [==============================] - 0s 13ms/step - loss: 0.1122 - mean_squared_error: 0.1122 - val_loss: 0.1779 - val_mean_squared_error: 0.1779\n",
      "Epoch 68/100\n",
      "17/17 [==============================] - 0s 11ms/step - loss: 0.1020 - mean_squared_error: 0.1020 - val_loss: 0.1732 - val_mean_squared_error: 0.1732\n",
      "Epoch 69/100\n",
      "17/17 [==============================] - 0s 14ms/step - loss: 0.1012 - mean_squared_error: 0.1012 - val_loss: 0.1691 - val_mean_squared_error: 0.1691\n",
      "Epoch 70/100\n",
      "17/17 [==============================] - 0s 13ms/step - loss: 0.1027 - mean_squared_error: 0.1027 - val_loss: 0.1746 - val_mean_squared_error: 0.1746\n",
      "Epoch 71/100\n",
      "17/17 [==============================] - 0s 13ms/step - loss: 0.1003 - mean_squared_error: 0.1003 - val_loss: 0.1784 - val_mean_squared_error: 0.1784\n",
      "Epoch 72/100\n",
      "17/17 [==============================] - 0s 13ms/step - loss: 0.0982 - mean_squared_error: 0.0982 - val_loss: 0.1984 - val_mean_squared_error: 0.1984\n",
      "Epoch 73/100\n",
      "17/17 [==============================] - 0s 13ms/step - loss: 0.1251 - mean_squared_error: 0.1251 - val_loss: 0.1908 - val_mean_squared_error: 0.1908\n",
      "Epoch 74/100\n",
      "17/17 [==============================] - 0s 13ms/step - loss: 0.1106 - mean_squared_error: 0.1106 - val_loss: 0.1760 - val_mean_squared_error: 0.1760\n",
      "Epoch 75/100\n",
      "17/17 [==============================] - 0s 14ms/step - loss: 0.0951 - mean_squared_error: 0.0951 - val_loss: 0.1834 - val_mean_squared_error: 0.1834\n",
      "Epoch 76/100\n",
      "17/17 [==============================] - 0s 13ms/step - loss: 0.1012 - mean_squared_error: 0.1012 - val_loss: 0.1739 - val_mean_squared_error: 0.1739\n",
      "Epoch 77/100\n",
      "17/17 [==============================] - 0s 12ms/step - loss: 0.1033 - mean_squared_error: 0.1033 - val_loss: 0.2264 - val_mean_squared_error: 0.2264\n",
      "Epoch 78/100\n",
      "17/17 [==============================] - 0s 14ms/step - loss: 0.1152 - mean_squared_error: 0.1152 - val_loss: 0.1662 - val_mean_squared_error: 0.1662\n",
      "Epoch 79/100\n",
      "17/17 [==============================] - 0s 14ms/step - loss: 0.1025 - mean_squared_error: 0.1025 - val_loss: 0.1730 - val_mean_squared_error: 0.1730\n",
      "Epoch 80/100\n",
      "17/17 [==============================] - 0s 13ms/step - loss: 0.1069 - mean_squared_error: 0.1069 - val_loss: 0.1731 - val_mean_squared_error: 0.1731\n",
      "Epoch 81/100\n",
      "17/17 [==============================] - 0s 14ms/step - loss: 0.1076 - mean_squared_error: 0.1076 - val_loss: 0.1599 - val_mean_squared_error: 0.1599\n",
      "Epoch 82/100\n",
      "17/17 [==============================] - 0s 12ms/step - loss: 0.1102 - mean_squared_error: 0.1102 - val_loss: 0.1754 - val_mean_squared_error: 0.1754\n",
      "Epoch 83/100\n",
      "17/17 [==============================] - 0s 17ms/step - loss: 0.1052 - mean_squared_error: 0.1052 - val_loss: 0.1643 - val_mean_squared_error: 0.1643\n",
      "Epoch 84/100\n",
      "17/17 [==============================] - 0s 17ms/step - loss: 0.1174 - mean_squared_error: 0.1174 - val_loss: 0.2091 - val_mean_squared_error: 0.2091\n",
      "Epoch 85/100\n",
      "17/17 [==============================] - 0s 12ms/step - loss: 0.1034 - mean_squared_error: 0.1034 - val_loss: 0.1725 - val_mean_squared_error: 0.1725\n",
      "Epoch 86/100\n",
      "17/17 [==============================] - 0s 12ms/step - loss: 0.0968 - mean_squared_error: 0.0968 - val_loss: 0.1781 - val_mean_squared_error: 0.1781\n",
      "Epoch 87/100\n",
      "17/17 [==============================] - 0s 12ms/step - loss: 0.0945 - mean_squared_error: 0.0945 - val_loss: 0.1646 - val_mean_squared_error: 0.1646\n",
      "Epoch 88/100\n",
      "17/17 [==============================] - 0s 12ms/step - loss: 0.1036 - mean_squared_error: 0.1036 - val_loss: 0.2098 - val_mean_squared_error: 0.2098\n",
      "Epoch 89/100\n",
      "17/17 [==============================] - 0s 12ms/step - loss: 0.1266 - mean_squared_error: 0.1266 - val_loss: 0.1760 - val_mean_squared_error: 0.1760\n",
      "Epoch 90/100\n",
      "17/17 [==============================] - 0s 14ms/step - loss: 0.1272 - mean_squared_error: 0.1272 - val_loss: 0.2510 - val_mean_squared_error: 0.2510\n",
      "Epoch 91/100\n",
      "17/17 [==============================] - 0s 13ms/step - loss: 0.1298 - mean_squared_error: 0.1298 - val_loss: 0.1649 - val_mean_squared_error: 0.1649\n",
      "Epoch 92/100\n",
      "17/17 [==============================] - 0s 16ms/step - loss: 0.0978 - mean_squared_error: 0.0978 - val_loss: 0.1835 - val_mean_squared_error: 0.1835\n",
      "Epoch 93/100\n",
      "17/17 [==============================] - 0s 19ms/step - loss: 0.0941 - mean_squared_error: 0.0941 - val_loss: 0.1849 - val_mean_squared_error: 0.1849\n",
      "Epoch 94/100\n",
      "17/17 [==============================] - 0s 19ms/step - loss: 0.0948 - mean_squared_error: 0.0948 - val_loss: 0.1700 - val_mean_squared_error: 0.1700\n",
      "Epoch 95/100\n"
     ]
    },
    {
     "name": "stdout",
     "output_type": "stream",
     "text": [
      "17/17 [==============================] - 0s 18ms/step - loss: 0.1056 - mean_squared_error: 0.1056 - val_loss: 0.1802 - val_mean_squared_error: 0.1802\n",
      "Epoch 96/100\n",
      "17/17 [==============================] - 0s 17ms/step - loss: 0.1118 - mean_squared_error: 0.1118 - val_loss: 0.1843 - val_mean_squared_error: 0.1843\n",
      "Epoch 97/100\n",
      "17/17 [==============================] - 0s 20ms/step - loss: 0.1141 - mean_squared_error: 0.1141 - val_loss: 0.2761 - val_mean_squared_error: 0.2761\n",
      "Epoch 98/100\n",
      "17/17 [==============================] - 0s 15ms/step - loss: 0.1141 - mean_squared_error: 0.1141 - val_loss: 0.1809 - val_mean_squared_error: 0.1809\n",
      "Epoch 99/100\n",
      "17/17 [==============================] - 1s 32ms/step - loss: 0.0945 - mean_squared_error: 0.0945 - val_loss: 0.1793 - val_mean_squared_error: 0.1793\n",
      "Epoch 100/100\n",
      "17/17 [==============================] - 0s 20ms/step - loss: 0.1311 - mean_squared_error: 0.1311 - val_loss: 0.1863 - val_mean_squared_error: 0.1863\n"
     ]
    }
   ],
   "source": [
    "from keras import models, layers, optimizers, regularizers\n",
    "from keras.utils.vis_utils import model_to_dot\n",
    "from IPython.display import SVG\n",
    "\n",
    "# Building the model\n",
    "nn2 = models.Sequential()\n",
    "nn2.add(layers.Dense(128, input_shape=(X_train.shape[1],), activation='relu'))\n",
    "nn2.add(layers.Dense(256, activation='relu'))\n",
    "nn2.add(layers.Dense(256, activation='relu'))\n",
    "nn2.add(layers.Dense(512, activation='relu'))\n",
    "nn2.add(layers.Dense(1, activation='linear'))\n",
    "\n",
    "# Compiling the model\n",
    "nn2.compile(loss='mean_squared_error',\n",
    "            optimizer='adam',\n",
    "            metrics=['mean_squared_error'])\n",
    "\n",
    "# Printing the model summary\n",
    "print(nn2.summary())\n",
    "\n",
    "# Visualising the neural network\n",
    "SVG(model_to_dot(nn2, show_layer_names=False, show_shapes=True).create(prog='dot', format='svg'))\n",
    "\n",
    "# Training the model\n",
    "nn2_history = nn2.fit(X_train,\n",
    "                  y_train,\n",
    "                  epochs=100,\n",
    "                  batch_size=256,\n",
    "                  validation_split = 0.1)"
   ]
  },
  {
   "cell_type": "code",
   "execution_count": 71,
   "metadata": {
    "ExecuteTime": {
     "end_time": "2020-10-26T10:42:06.072495Z",
     "start_time": "2020-10-26T10:42:05.155945Z"
    }
   },
   "outputs": [
    {
     "name": "stdout",
     "output_type": "stream",
     "text": [
      "Training MSE: 0.1162\n",
      "Validation MSE: 0.2059\n",
      "Validation RMSE: 0.4537\n",
      "\n",
      "Training r2: 0.7156\n",
      "Validation r2: 0.4854\n"
     ]
    }
   ],
   "source": [
    "y_test_pred = nn2.predict(X_test)\n",
    "y_train_pred = nn2.predict(X_train)\n",
    "print(\"Training MSE:\", round(mean_squared_error(y_train, y_train_pred),4))\n",
    "print(\"Validation MSE:\", round(mean_squared_error(y_test, y_test_pred),4))\n",
    "print(\"Validation RMSE:\", round(mean_squared_error(y_test, y_test_pred)**0.5,4))\n",
    "print(\"\\nTraining r2:\", round(r2_score(y_train, y_train_pred),4))\n",
    "print(\"Validation r2:\", round(r2_score(y_test, y_test_pred),4))"
   ]
  }
 ],
 "metadata": {
  "kernelspec": {
   "display_name": "Python 3",
   "language": "python",
   "name": "python3"
  },
  "language_info": {
   "codemirror_mode": {
    "name": "ipython",
    "version": 3
   },
   "file_extension": ".py",
   "mimetype": "text/x-python",
   "name": "python",
   "nbconvert_exporter": "python",
   "pygments_lexer": "ipython3",
   "version": "3.6.5"
  },
  "toc": {
   "base_numbering": 1,
   "nav_menu": {},
   "number_sections": true,
   "sideBar": true,
   "skip_h1_title": false,
   "title_cell": "Table of Contents",
   "title_sidebar": "Contents",
   "toc_cell": false,
   "toc_position": {
    "height": "calc(100% - 180px)",
    "left": "10px",
    "top": "150px",
    "width": "202px"
   },
   "toc_section_display": true,
   "toc_window_display": true
  },
  "varInspector": {
   "cols": {
    "lenName": 16,
    "lenType": 16,
    "lenVar": 40
   },
   "kernels_config": {
    "python": {
     "delete_cmd_postfix": "",
     "delete_cmd_prefix": "del ",
     "library": "var_list.py",
     "varRefreshCmd": "print(var_dic_list())"
    },
    "r": {
     "delete_cmd_postfix": ") ",
     "delete_cmd_prefix": "rm(",
     "library": "var_list.r",
     "varRefreshCmd": "cat(var_dic_list()) "
    }
   },
   "types_to_exclude": [
    "module",
    "function",
    "builtin_function_or_method",
    "instance",
    "_Feature"
   ],
   "window_display": false
  }
 },
 "nbformat": 4,
 "nbformat_minor": 4
}
