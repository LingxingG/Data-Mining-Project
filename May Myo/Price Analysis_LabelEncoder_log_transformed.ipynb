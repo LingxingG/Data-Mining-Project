{
 "cells": [
  {
   "cell_type": "markdown",
   "metadata": {},
   "source": [
    "# Refer to SF EDA notebook for Price EDA (Section 5 & 10)"
   ]
  },
  {
   "cell_type": "markdown",
   "metadata": {},
   "source": [
    "# Import Libraries"
   ]
  },
  {
   "cell_type": "code",
   "execution_count": 1,
   "metadata": {
    "ExecuteTime": {
     "end_time": "2020-10-25T19:41:02.028008Z",
     "start_time": "2020-10-25T19:40:59.048975Z"
    }
   },
   "outputs": [],
   "source": [
    "import pandas as pd\n",
    "import numpy as np\n",
    "import matplotlib.pyplot as plt\n",
    "import seaborn as sns\n",
    "import statsmodels.api as sm"
   ]
  },
  {
   "cell_type": "markdown",
   "metadata": {},
   "source": [
    "# Import Data"
   ]
  },
  {
   "cell_type": "code",
   "execution_count": 2,
   "metadata": {
    "ExecuteTime": {
     "end_time": "2020-10-25T19:41:02.083859Z",
     "start_time": "2020-10-25T19:41:02.031000Z"
    },
    "scrolled": true
   },
   "outputs": [
    {
     "data": {
      "text/html": [
       "<div>\n",
       "<style scoped>\n",
       "    .dataframe tbody tr th:only-of-type {\n",
       "        vertical-align: middle;\n",
       "    }\n",
       "\n",
       "    .dataframe tbody tr th {\n",
       "        vertical-align: top;\n",
       "    }\n",
       "\n",
       "    .dataframe thead th {\n",
       "        text-align: right;\n",
       "    }\n",
       "</style>\n",
       "<table border=\"1\" class=\"dataframe\">\n",
       "  <thead>\n",
       "    <tr style=\"text-align: right;\">\n",
       "      <th></th>\n",
       "      <th>host_response_time</th>\n",
       "      <th>host_response_rate</th>\n",
       "      <th>host_acceptance_rate</th>\n",
       "      <th>host_is_superhost</th>\n",
       "      <th>host_listings_count</th>\n",
       "      <th>neighbourhood_cleansed</th>\n",
       "      <th>property_type</th>\n",
       "      <th>room_type</th>\n",
       "      <th>accommodates</th>\n",
       "      <th>bathrooms</th>\n",
       "      <th>bedrooms</th>\n",
       "      <th>beds</th>\n",
       "      <th>amenities</th>\n",
       "      <th>price</th>\n",
       "      <th>minimum_nights</th>\n",
       "      <th>maximum_nights</th>\n",
       "      <th>number_of_reviews</th>\n",
       "      <th>review_scores_rating</th>\n",
       "      <th>reviews_per_month</th>\n",
       "      <th>price_log</th>\n",
       "    </tr>\n",
       "  </thead>\n",
       "  <tbody>\n",
       "    <tr>\n",
       "      <th>0</th>\n",
       "      <td>within an hour</td>\n",
       "      <td>1.0</td>\n",
       "      <td>0.99</td>\n",
       "      <td>1</td>\n",
       "      <td>1</td>\n",
       "      <td>Western Addition</td>\n",
       "      <td>Entire apartment</td>\n",
       "      <td>Entire home/apt</td>\n",
       "      <td>3</td>\n",
       "      <td>1.0</td>\n",
       "      <td>1.0</td>\n",
       "      <td>2.0</td>\n",
       "      <td>[\"Heating\", \"Hot water\", \"Stove\", \"Iron\", \"Dry...</td>\n",
       "      <td>132.0</td>\n",
       "      <td>2</td>\n",
       "      <td>30</td>\n",
       "      <td>257</td>\n",
       "      <td>97.0</td>\n",
       "      <td>1.91</td>\n",
       "      <td>4.882802</td>\n",
       "    </tr>\n",
       "    <tr>\n",
       "      <th>1</th>\n",
       "      <td>within a day</td>\n",
       "      <td>0.6</td>\n",
       "      <td>0.83</td>\n",
       "      <td>0</td>\n",
       "      <td>2</td>\n",
       "      <td>Bernal Heights</td>\n",
       "      <td>Entire apartment</td>\n",
       "      <td>Entire home/apt</td>\n",
       "      <td>5</td>\n",
       "      <td>1.0</td>\n",
       "      <td>2.0</td>\n",
       "      <td>3.0</td>\n",
       "      <td>[\"Smoke alarm\", \"Heating\", \"Kitchen\", \"First a...</td>\n",
       "      <td>235.0</td>\n",
       "      <td>30</td>\n",
       "      <td>60</td>\n",
       "      <td>111</td>\n",
       "      <td>98.0</td>\n",
       "      <td>0.81</td>\n",
       "      <td>5.459586</td>\n",
       "    </tr>\n",
       "    <tr>\n",
       "      <th>2</th>\n",
       "      <td>within a few hours</td>\n",
       "      <td>1.0</td>\n",
       "      <td>1.00</td>\n",
       "      <td>0</td>\n",
       "      <td>10</td>\n",
       "      <td>Haight Ashbury</td>\n",
       "      <td>Private room in apartment</td>\n",
       "      <td>Private room</td>\n",
       "      <td>2</td>\n",
       "      <td>4.0</td>\n",
       "      <td>1.0</td>\n",
       "      <td>1.0</td>\n",
       "      <td>[\"Host greets you\", \"Heating\", \"Hot water\", \"K...</td>\n",
       "      <td>56.0</td>\n",
       "      <td>32</td>\n",
       "      <td>60</td>\n",
       "      <td>19</td>\n",
       "      <td>84.0</td>\n",
       "      <td>0.14</td>\n",
       "      <td>4.025352</td>\n",
       "    </tr>\n",
       "    <tr>\n",
       "      <th>3</th>\n",
       "      <td>within a few hours</td>\n",
       "      <td>1.0</td>\n",
       "      <td>1.00</td>\n",
       "      <td>0</td>\n",
       "      <td>10</td>\n",
       "      <td>Haight Ashbury</td>\n",
       "      <td>Private room in apartment</td>\n",
       "      <td>Private room</td>\n",
       "      <td>2</td>\n",
       "      <td>4.0</td>\n",
       "      <td>1.0</td>\n",
       "      <td>1.0</td>\n",
       "      <td>[\"Host greets you\", \"Heating\", \"Hot water\", \"K...</td>\n",
       "      <td>56.0</td>\n",
       "      <td>32</td>\n",
       "      <td>90</td>\n",
       "      <td>8</td>\n",
       "      <td>93.0</td>\n",
       "      <td>0.11</td>\n",
       "      <td>4.025352</td>\n",
       "    </tr>\n",
       "    <tr>\n",
       "      <th>5</th>\n",
       "      <td>within an hour</td>\n",
       "      <td>1.0</td>\n",
       "      <td>0.96</td>\n",
       "      <td>1</td>\n",
       "      <td>2</td>\n",
       "      <td>Mission</td>\n",
       "      <td>Private room in condominium</td>\n",
       "      <td>Private room</td>\n",
       "      <td>3</td>\n",
       "      <td>1.0</td>\n",
       "      <td>1.0</td>\n",
       "      <td>1.0</td>\n",
       "      <td>[\"Heating\", \"Hot water\", \"Children\\u2019s book...</td>\n",
       "      <td>169.0</td>\n",
       "      <td>1</td>\n",
       "      <td>14</td>\n",
       "      <td>736</td>\n",
       "      <td>98.0</td>\n",
       "      <td>5.47</td>\n",
       "      <td>5.129899</td>\n",
       "    </tr>\n",
       "  </tbody>\n",
       "</table>\n",
       "</div>"
      ],
      "text/plain": [
       "   host_response_time  host_response_rate  host_acceptance_rate  \\\n",
       "0      within an hour                 1.0                  0.99   \n",
       "1        within a day                 0.6                  0.83   \n",
       "2  within a few hours                 1.0                  1.00   \n",
       "3  within a few hours                 1.0                  1.00   \n",
       "5      within an hour                 1.0                  0.96   \n",
       "\n",
       "   host_is_superhost  host_listings_count neighbourhood_cleansed  \\\n",
       "0                  1                    1       Western Addition   \n",
       "1                  0                    2         Bernal Heights   \n",
       "2                  0                   10         Haight Ashbury   \n",
       "3                  0                   10         Haight Ashbury   \n",
       "5                  1                    2                Mission   \n",
       "\n",
       "                 property_type        room_type  accommodates  bathrooms  \\\n",
       "0             Entire apartment  Entire home/apt             3        1.0   \n",
       "1             Entire apartment  Entire home/apt             5        1.0   \n",
       "2    Private room in apartment     Private room             2        4.0   \n",
       "3    Private room in apartment     Private room             2        4.0   \n",
       "5  Private room in condominium     Private room             3        1.0   \n",
       "\n",
       "   bedrooms  beds                                          amenities  price  \\\n",
       "0       1.0   2.0  [\"Heating\", \"Hot water\", \"Stove\", \"Iron\", \"Dry...  132.0   \n",
       "1       2.0   3.0  [\"Smoke alarm\", \"Heating\", \"Kitchen\", \"First a...  235.0   \n",
       "2       1.0   1.0  [\"Host greets you\", \"Heating\", \"Hot water\", \"K...   56.0   \n",
       "3       1.0   1.0  [\"Host greets you\", \"Heating\", \"Hot water\", \"K...   56.0   \n",
       "5       1.0   1.0  [\"Heating\", \"Hot water\", \"Children\\u2019s book...  169.0   \n",
       "\n",
       "   minimum_nights  maximum_nights  number_of_reviews  review_scores_rating  \\\n",
       "0               2              30                257                  97.0   \n",
       "1              30              60                111                  98.0   \n",
       "2              32              60                 19                  84.0   \n",
       "3              32              90                  8                  93.0   \n",
       "5               1              14                736                  98.0   \n",
       "\n",
       "   reviews_per_month  price_log  \n",
       "0               1.91   4.882802  \n",
       "1               0.81   5.459586  \n",
       "2               0.14   4.025352  \n",
       "3               0.11   4.025352  \n",
       "5               5.47   5.129899  "
      ]
     },
     "execution_count": 2,
     "metadata": {},
     "output_type": "execute_result"
    }
   ],
   "source": [
    "SF_df = pd.read_pickle(\"pre-processing and EDA/cleaned_price_df.pkl\")\n",
    "SF_df.head(5)"
   ]
  },
  {
   "cell_type": "code",
   "execution_count": 3,
   "metadata": {
    "ExecuteTime": {
     "end_time": "2020-10-25T19:41:02.174618Z",
     "start_time": "2020-10-25T19:41:02.086851Z"
    }
   },
   "outputs": [
    {
     "data": {
      "text/html": [
       "<div>\n",
       "<style scoped>\n",
       "    .dataframe tbody tr th:only-of-type {\n",
       "        vertical-align: middle;\n",
       "    }\n",
       "\n",
       "    .dataframe tbody tr th {\n",
       "        vertical-align: top;\n",
       "    }\n",
       "\n",
       "    .dataframe thead th {\n",
       "        text-align: right;\n",
       "    }\n",
       "</style>\n",
       "<table border=\"1\" class=\"dataframe\">\n",
       "  <thead>\n",
       "    <tr style=\"text-align: right;\">\n",
       "      <th></th>\n",
       "      <th>host_response_rate</th>\n",
       "      <th>host_acceptance_rate</th>\n",
       "      <th>host_is_superhost</th>\n",
       "      <th>host_listings_count</th>\n",
       "      <th>accommodates</th>\n",
       "      <th>bathrooms</th>\n",
       "      <th>bedrooms</th>\n",
       "      <th>beds</th>\n",
       "      <th>price</th>\n",
       "      <th>minimum_nights</th>\n",
       "      <th>maximum_nights</th>\n",
       "      <th>number_of_reviews</th>\n",
       "      <th>review_scores_rating</th>\n",
       "      <th>reviews_per_month</th>\n",
       "      <th>price_log</th>\n",
       "    </tr>\n",
       "  </thead>\n",
       "  <tbody>\n",
       "    <tr>\n",
       "      <th>count</th>\n",
       "      <td>6848.000000</td>\n",
       "      <td>6848.000000</td>\n",
       "      <td>6848.000000</td>\n",
       "      <td>6848.000000</td>\n",
       "      <td>6848.000000</td>\n",
       "      <td>6848.000000</td>\n",
       "      <td>6848.000000</td>\n",
       "      <td>6848.000000</td>\n",
       "      <td>6848.000000</td>\n",
       "      <td>6.848000e+03</td>\n",
       "      <td>6.848000e+03</td>\n",
       "      <td>6848.000000</td>\n",
       "      <td>6848.000000</td>\n",
       "      <td>6848.000000</td>\n",
       "      <td>6848.000000</td>\n",
       "    </tr>\n",
       "    <tr>\n",
       "      <th>mean</th>\n",
       "      <td>0.669844</td>\n",
       "      <td>0.782614</td>\n",
       "      <td>0.449328</td>\n",
       "      <td>79.741530</td>\n",
       "      <td>2.993575</td>\n",
       "      <td>1.341706</td>\n",
       "      <td>1.267085</td>\n",
       "      <td>1.654206</td>\n",
       "      <td>166.581157</td>\n",
       "      <td>1.462144e+04</td>\n",
       "      <td>1.512798e+04</td>\n",
       "      <td>46.147050</td>\n",
       "      <td>73.639603</td>\n",
       "      <td>1.085453</td>\n",
       "      <td>4.913868</td>\n",
       "    </tr>\n",
       "    <tr>\n",
       "      <th>std</th>\n",
       "      <td>0.446639</td>\n",
       "      <td>0.346388</td>\n",
       "      <td>0.497462</td>\n",
       "      <td>294.260178</td>\n",
       "      <td>1.739233</td>\n",
       "      <td>0.912677</td>\n",
       "      <td>0.858169</td>\n",
       "      <td>1.138384</td>\n",
       "      <td>111.840100</td>\n",
       "      <td>1.208420e+06</td>\n",
       "      <td>1.208414e+06</td>\n",
       "      <td>83.398774</td>\n",
       "      <td>40.533067</td>\n",
       "      <td>1.619329</td>\n",
       "      <td>0.639438</td>\n",
       "    </tr>\n",
       "    <tr>\n",
       "      <th>min</th>\n",
       "      <td>0.000000</td>\n",
       "      <td>0.000000</td>\n",
       "      <td>0.000000</td>\n",
       "      <td>0.000000</td>\n",
       "      <td>1.000000</td>\n",
       "      <td>0.000000</td>\n",
       "      <td>0.000000</td>\n",
       "      <td>0.000000</td>\n",
       "      <td>10.000000</td>\n",
       "      <td>1.000000e+00</td>\n",
       "      <td>1.000000e+00</td>\n",
       "      <td>0.000000</td>\n",
       "      <td>0.000000</td>\n",
       "      <td>0.000000</td>\n",
       "      <td>2.302585</td>\n",
       "    </tr>\n",
       "    <tr>\n",
       "      <th>25%</th>\n",
       "      <td>0.000000</td>\n",
       "      <td>0.750000</td>\n",
       "      <td>0.000000</td>\n",
       "      <td>1.000000</td>\n",
       "      <td>2.000000</td>\n",
       "      <td>1.000000</td>\n",
       "      <td>1.000000</td>\n",
       "      <td>1.000000</td>\n",
       "      <td>88.000000</td>\n",
       "      <td>2.000000e+00</td>\n",
       "      <td>2.900000e+01</td>\n",
       "      <td>1.000000</td>\n",
       "      <td>80.000000</td>\n",
       "      <td>0.050000</td>\n",
       "      <td>4.477337</td>\n",
       "    </tr>\n",
       "    <tr>\n",
       "      <th>50%</th>\n",
       "      <td>1.000000</td>\n",
       "      <td>0.970000</td>\n",
       "      <td>0.000000</td>\n",
       "      <td>2.000000</td>\n",
       "      <td>2.000000</td>\n",
       "      <td>1.000000</td>\n",
       "      <td>1.000000</td>\n",
       "      <td>1.000000</td>\n",
       "      <td>135.000000</td>\n",
       "      <td>3.000000e+01</td>\n",
       "      <td>1.800000e+02</td>\n",
       "      <td>9.000000</td>\n",
       "      <td>96.000000</td>\n",
       "      <td>0.330000</td>\n",
       "      <td>4.905275</td>\n",
       "    </tr>\n",
       "    <tr>\n",
       "      <th>75%</th>\n",
       "      <td>1.000000</td>\n",
       "      <td>1.000000</td>\n",
       "      <td>1.000000</td>\n",
       "      <td>12.000000</td>\n",
       "      <td>4.000000</td>\n",
       "      <td>1.500000</td>\n",
       "      <td>2.000000</td>\n",
       "      <td>2.000000</td>\n",
       "      <td>206.000000</td>\n",
       "      <td>3.000000e+01</td>\n",
       "      <td>1.125000e+03</td>\n",
       "      <td>53.000000</td>\n",
       "      <td>99.000000</td>\n",
       "      <td>1.510000</td>\n",
       "      <td>5.327876</td>\n",
       "    </tr>\n",
       "    <tr>\n",
       "      <th>max</th>\n",
       "      <td>1.000000</td>\n",
       "      <td>1.000000</td>\n",
       "      <td>1.000000</td>\n",
       "      <td>1903.000000</td>\n",
       "      <td>16.000000</td>\n",
       "      <td>10.000000</td>\n",
       "      <td>9.000000</td>\n",
       "      <td>14.000000</td>\n",
       "      <td>633.000000</td>\n",
       "      <td>1.000000e+08</td>\n",
       "      <td>1.000000e+08</td>\n",
       "      <td>821.000000</td>\n",
       "      <td>100.000000</td>\n",
       "      <td>22.670000</td>\n",
       "      <td>6.450470</td>\n",
       "    </tr>\n",
       "  </tbody>\n",
       "</table>\n",
       "</div>"
      ],
      "text/plain": [
       "       host_response_rate  host_acceptance_rate  host_is_superhost  \\\n",
       "count         6848.000000           6848.000000        6848.000000   \n",
       "mean             0.669844              0.782614           0.449328   \n",
       "std              0.446639              0.346388           0.497462   \n",
       "min              0.000000              0.000000           0.000000   \n",
       "25%              0.000000              0.750000           0.000000   \n",
       "50%              1.000000              0.970000           0.000000   \n",
       "75%              1.000000              1.000000           1.000000   \n",
       "max              1.000000              1.000000           1.000000   \n",
       "\n",
       "       host_listings_count  accommodates    bathrooms     bedrooms  \\\n",
       "count          6848.000000   6848.000000  6848.000000  6848.000000   \n",
       "mean             79.741530      2.993575     1.341706     1.267085   \n",
       "std             294.260178      1.739233     0.912677     0.858169   \n",
       "min               0.000000      1.000000     0.000000     0.000000   \n",
       "25%               1.000000      2.000000     1.000000     1.000000   \n",
       "50%               2.000000      2.000000     1.000000     1.000000   \n",
       "75%              12.000000      4.000000     1.500000     2.000000   \n",
       "max            1903.000000     16.000000    10.000000     9.000000   \n",
       "\n",
       "              beds        price  minimum_nights  maximum_nights  \\\n",
       "count  6848.000000  6848.000000    6.848000e+03    6.848000e+03   \n",
       "mean      1.654206   166.581157    1.462144e+04    1.512798e+04   \n",
       "std       1.138384   111.840100    1.208420e+06    1.208414e+06   \n",
       "min       0.000000    10.000000    1.000000e+00    1.000000e+00   \n",
       "25%       1.000000    88.000000    2.000000e+00    2.900000e+01   \n",
       "50%       1.000000   135.000000    3.000000e+01    1.800000e+02   \n",
       "75%       2.000000   206.000000    3.000000e+01    1.125000e+03   \n",
       "max      14.000000   633.000000    1.000000e+08    1.000000e+08   \n",
       "\n",
       "       number_of_reviews  review_scores_rating  reviews_per_month    price_log  \n",
       "count        6848.000000           6848.000000        6848.000000  6848.000000  \n",
       "mean           46.147050             73.639603           1.085453     4.913868  \n",
       "std            83.398774             40.533067           1.619329     0.639438  \n",
       "min             0.000000              0.000000           0.000000     2.302585  \n",
       "25%             1.000000             80.000000           0.050000     4.477337  \n",
       "50%             9.000000             96.000000           0.330000     4.905275  \n",
       "75%            53.000000             99.000000           1.510000     5.327876  \n",
       "max           821.000000            100.000000          22.670000     6.450470  "
      ]
     },
     "execution_count": 3,
     "metadata": {},
     "output_type": "execute_result"
    }
   ],
   "source": [
    "SF_df.describe()"
   ]
  },
  {
   "cell_type": "markdown",
   "metadata": {},
   "source": [
    "# Different column names by datatype list"
   ]
  },
  {
   "cell_type": "code",
   "execution_count": 4,
   "metadata": {
    "ExecuteTime": {
     "end_time": "2020-10-25T19:41:02.192569Z",
     "start_time": "2020-10-25T19:41:02.177609Z"
    }
   },
   "outputs": [
    {
     "name": "stdout",
     "output_type": "stream",
     "text": [
      "['host_response_time', 'neighbourhood_cleansed', 'property_type', 'room_type', 'amenities']\n"
     ]
    }
   ],
   "source": [
    "numerics = ['int16', 'int32', 'int64', 'float16', 'float32', 'float64']\n",
    "numeric_columns = SF_df.select_dtypes(include=numerics).columns.to_list()\n",
    "bool_columns = SF_df.select_dtypes(include='bool').columns.to_list()\n",
    "object_columns = SF_df.select_dtypes(include='object').columns.to_list()\n",
    "print(object_columns)"
   ]
  },
  {
   "cell_type": "code",
   "execution_count": 5,
   "metadata": {
    "ExecuteTime": {
     "end_time": "2020-10-25T19:41:02.212515Z",
     "start_time": "2020-10-25T19:41:02.195560Z"
    }
   },
   "outputs": [
    {
     "data": {
      "text/plain": [
       "host_response_time        0\n",
       "host_response_rate        0\n",
       "host_acceptance_rate      0\n",
       "host_is_superhost         0\n",
       "host_listings_count       0\n",
       "neighbourhood_cleansed    0\n",
       "property_type             0\n",
       "room_type                 0\n",
       "accommodates              0\n",
       "bathrooms                 0\n",
       "bedrooms                  0\n",
       "beds                      0\n",
       "amenities                 0\n",
       "price                     0\n",
       "minimum_nights            0\n",
       "maximum_nights            0\n",
       "number_of_reviews         0\n",
       "review_scores_rating      0\n",
       "reviews_per_month         0\n",
       "price_log                 0\n",
       "dtype: int64"
      ]
     },
     "execution_count": 5,
     "metadata": {},
     "output_type": "execute_result"
    }
   ],
   "source": [
    "SF_df.isnull().sum()"
   ]
  },
  {
   "cell_type": "markdown",
   "metadata": {},
   "source": [
    "# Pearson Correlation for Numeric Columns"
   ]
  },
  {
   "cell_type": "code",
   "execution_count": 6,
   "metadata": {
    "ExecuteTime": {
     "end_time": "2020-10-25T19:41:02.219497Z",
     "start_time": "2020-10-25T19:41:02.215507Z"
    }
   },
   "outputs": [],
   "source": [
    "# sns.set(style=\"ticks\", color_codes=True)\n",
    "# sns.pairplot(SF_df[numeric_columns])"
   ]
  },
  {
   "cell_type": "code",
   "execution_count": 7,
   "metadata": {
    "ExecuteTime": {
     "end_time": "2020-10-25T19:41:04.026666Z",
     "start_time": "2020-10-25T19:41:02.222489Z"
    }
   },
   "outputs": [
    {
     "data": {
      "text/plain": [
       "<matplotlib.axes._subplots.AxesSubplot at 0x2c03f2bc208>"
      ]
     },
     "execution_count": 7,
     "metadata": {},
     "output_type": "execute_result"
    },
    {
     "data": {
      "image/png": "[encoded data removed]",
      "text/plain": [
       "<Figure size 576x576 with 2 Axes>"
      ]
     },
     "metadata": {
      "needs_background": "light"
     },
     "output_type": "display_data"
    }
   ],
   "source": [
    "corr = SF_df[numeric_columns].corr()\n",
    "mask = np.zeros_like(corr, dtype=np.bool)\n",
    "mask[np.triu_indices_from(mask)] = True\n",
    "plt.figure(figsize = (8,8))\n",
    "sns.set(font_scale=1)\n",
    "sns.heatmap(corr, cbar = True, annot=True, square = True, fmt = '.2f', xticklabels=numeric_columns, yticklabels=numeric_columns, mask=mask)"
   ]
  },
  {
   "cell_type": "code",
   "execution_count": 8,
   "metadata": {
    "ExecuteTime": {
     "end_time": "2020-10-25T19:41:04.584174Z",
     "start_time": "2020-10-25T19:41:04.031652Z"
    },
    "scrolled": false
   },
   "outputs": [
    {
     "data": {
      "text/plain": [
       "<matplotlib.axes._subplots.AxesSubplot at 0x2c041620358>"
      ]
     },
     "execution_count": 8,
     "metadata": {},
     "output_type": "execute_result"
    },
    {
     "data": {
      "image/png": "[encoded data removed]",
      "text/plain": [
       "<Figure size 432x288 with 2 Axes>"
      ]
     },
     "metadata": {},
     "output_type": "display_data"
    }
   ],
   "source": [
    "sns.heatmap(corr[['price']].sort_values(['price'],ascending=False),yticklabels=True,annot=True)"
   ]
  },
  {
   "cell_type": "markdown",
   "metadata": {},
   "source": [
    "# Feature Selection"
   ]
  },
  {
   "cell_type": "markdown",
   "metadata": {},
   "source": [
    "## Remove features based on Pearson Correlation"
   ]
  },
  {
   "cell_type": "code",
   "execution_count": 9,
   "metadata": {
    "ExecuteTime": {
     "end_time": "2020-10-25T19:41:04.597140Z",
     "start_time": "2020-10-25T19:41:04.587166Z"
    }
   },
   "outputs": [],
   "source": [
    "new_SF_df = SF_df.drop(columns=['bedrooms','beds','maximum_nights','number_of_reviews'])"
   ]
  },
  {
   "cell_type": "code",
   "execution_count": 10,
   "metadata": {
    "ExecuteTime": {
     "end_time": "2020-10-25T19:41:04.623072Z",
     "start_time": "2020-10-25T19:41:04.600132Z"
    },
    "scrolled": false
   },
   "outputs": [
    {
     "name": "stdout",
     "output_type": "stream",
     "text": [
      "Index(['host_response_time', 'host_response_rate', 'host_acceptance_rate',\n",
      "       'host_is_superhost', 'host_listings_count', 'neighbourhood_cleansed',\n",
      "       'property_type', 'room_type', 'accommodates', 'bathrooms', 'amenities',\n",
      "       'price', 'minimum_nights', 'review_scores_rating', 'reviews_per_month',\n",
      "       'price_log'],\n",
      "      dtype='object')\n"
     ]
    }
   ],
   "source": [
    "print(new_SF_df.columns)"
   ]
  },
  {
   "cell_type": "markdown",
   "metadata": {},
   "source": [
    "## Remove based on p-values (Backward Elimination)"
   ]
  },
  {
   "cell_type": "code",
   "execution_count": 11,
   "metadata": {
    "ExecuteTime": {
     "end_time": "2020-10-25T19:41:04.701859Z",
     "start_time": "2020-10-25T19:41:04.627060Z"
    }
   },
   "outputs": [
    {
     "data": {
      "text/html": [
       "<div>\n",
       "<style scoped>\n",
       "    .dataframe tbody tr th:only-of-type {\n",
       "        vertical-align: middle;\n",
       "    }\n",
       "\n",
       "    .dataframe tbody tr th {\n",
       "        vertical-align: top;\n",
       "    }\n",
       "\n",
       "    .dataframe thead th {\n",
       "        text-align: right;\n",
       "    }\n",
       "</style>\n",
       "<table border=\"1\" class=\"dataframe\">\n",
       "  <thead>\n",
       "    <tr style=\"text-align: right;\">\n",
       "      <th></th>\n",
       "      <th>feature</th>\n",
       "      <th>p-value</th>\n",
       "    </tr>\n",
       "  </thead>\n",
       "  <tbody>\n",
       "    <tr>\n",
       "      <th>11</th>\n",
       "      <td>number_of_reviews</td>\n",
       "      <td>2.488412e-01</td>\n",
       "    </tr>\n",
       "    <tr>\n",
       "      <th>9</th>\n",
       "      <td>minimum_nights</td>\n",
       "      <td>1.283259e-01</td>\n",
       "    </tr>\n",
       "    <tr>\n",
       "      <th>10</th>\n",
       "      <td>maximum_nights</td>\n",
       "      <td>1.281501e-01</td>\n",
       "    </tr>\n",
       "    <tr>\n",
       "      <th>12</th>\n",
       "      <td>review_scores_rating</td>\n",
       "      <td>8.483734e-05</td>\n",
       "    </tr>\n",
       "    <tr>\n",
       "      <th>2</th>\n",
       "      <td>host_acceptance_rate</td>\n",
       "      <td>5.620762e-08</td>\n",
       "    </tr>\n",
       "    <tr>\n",
       "      <th>13</th>\n",
       "      <td>reviews_per_month</td>\n",
       "      <td>5.421439e-09</td>\n",
       "    </tr>\n",
       "    <tr>\n",
       "      <th>8</th>\n",
       "      <td>beds</td>\n",
       "      <td>1.464020e-10</td>\n",
       "    </tr>\n",
       "    <tr>\n",
       "      <th>4</th>\n",
       "      <td>host_listings_count</td>\n",
       "      <td>3.476694e-22</td>\n",
       "    </tr>\n",
       "    <tr>\n",
       "      <th>3</th>\n",
       "      <td>host_is_superhost</td>\n",
       "      <td>7.910311e-23</td>\n",
       "    </tr>\n",
       "    <tr>\n",
       "      <th>1</th>\n",
       "      <td>host_response_rate</td>\n",
       "      <td>2.735052e-28</td>\n",
       "    </tr>\n",
       "    <tr>\n",
       "      <th>7</th>\n",
       "      <td>bedrooms</td>\n",
       "      <td>9.156211e-40</td>\n",
       "    </tr>\n",
       "    <tr>\n",
       "      <th>6</th>\n",
       "      <td>bathrooms</td>\n",
       "      <td>1.083075e-53</td>\n",
       "    </tr>\n",
       "    <tr>\n",
       "      <th>5</th>\n",
       "      <td>accommodates</td>\n",
       "      <td>1.324958e-216</td>\n",
       "    </tr>\n",
       "    <tr>\n",
       "      <th>0</th>\n",
       "      <td>const</td>\n",
       "      <td>0.000000e+00</td>\n",
       "    </tr>\n",
       "  </tbody>\n",
       "</table>\n",
       "</div>"
      ],
      "text/plain": [
       "                 feature        p-value\n",
       "11     number_of_reviews   2.488412e-01\n",
       "9         minimum_nights   1.283259e-01\n",
       "10        maximum_nights   1.281501e-01\n",
       "12  review_scores_rating   8.483734e-05\n",
       "2   host_acceptance_rate   5.620762e-08\n",
       "13     reviews_per_month   5.421439e-09\n",
       "8                   beds   1.464020e-10\n",
       "4    host_listings_count   3.476694e-22\n",
       "3      host_is_superhost   7.910311e-23\n",
       "1     host_response_rate   2.735052e-28\n",
       "7               bedrooms   9.156211e-40\n",
       "6              bathrooms   1.083075e-53\n",
       "5           accommodates  1.324958e-216\n",
       "0                  const   0.000000e+00"
      ]
     },
     "execution_count": 11,
     "metadata": {},
     "output_type": "execute_result"
    }
   ],
   "source": [
    "y = SF_df['price_log']\n",
    "X = SF_df[numeric_columns].drop(['price','price_log'], axis =1)\n",
    "\n",
    "#Adding constant column of ones, mandatory for sm.OLS model\n",
    "X_1 = sm.add_constant(X)\n",
    "#Fitting sm.OLS model\n",
    "model = sm.OLS(y,X_1).fit()\n",
    "model.pvalues.to_frame().reset_index().rename(columns={'index': 'feature', 0: 'p-value'}).sort_values(by='p-value', ascending=False)"
   ]
  },
  {
   "cell_type": "code",
   "execution_count": 12,
   "metadata": {
    "ExecuteTime": {
     "end_time": "2020-10-25T19:41:04.809571Z",
     "start_time": "2020-10-25T19:41:04.704853Z"
    }
   },
   "outputs": [
    {
     "name": "stdout",
     "output_type": "stream",
     "text": [
      "Selected Features:\n",
      "['host_response_rate', 'host_acceptance_rate', 'host_is_superhost', 'host_listings_count', 'accommodates', 'bathrooms', 'bedrooms', 'beds', 'review_scores_rating', 'reviews_per_month']\n",
      "Removed Features:\n",
      "['number_of_reviews', 'minimum_nights', 'maximum_nights']\n"
     ]
    }
   ],
   "source": [
    "#Backward Elimination\n",
    "cols = list(X.columns)\n",
    "removed_features_BE = []\n",
    "pmax = 1\n",
    "while (len(cols)>0):\n",
    "    p= []\n",
    "    X_1 = X[cols]\n",
    "    X_1 = sm.add_constant(X_1)\n",
    "    model = sm.OLS(y,X_1).fit()\n",
    "    p = pd.Series(model.pvalues.values[1:],index = cols)      \n",
    "    pmax = max(p)\n",
    "    feature_with_p_max = p.idxmax()\n",
    "    if(pmax>0.05): # remove if p-value > 0.05\n",
    "        cols.remove(feature_with_p_max)\n",
    "        removed_features_BE.append(feature_with_p_max)\n",
    "    else:\n",
    "        break\n",
    "selected_features_BE = cols\n",
    "print(\"Selected Features:\")\n",
    "print(selected_features_BE)\n",
    "print(\"Removed Features:\")\n",
    "print(removed_features_BE)"
   ]
  },
  {
   "cell_type": "code",
   "execution_count": 13,
   "metadata": {
    "ExecuteTime": {
     "end_time": "2020-10-25T19:41:04.823534Z",
     "start_time": "2020-10-25T19:41:04.811567Z"
    }
   },
   "outputs": [
    {
     "name": "stdout",
     "output_type": "stream",
     "text": [
      "Index(['host_response_time', 'host_response_rate', 'host_acceptance_rate',\n",
      "       'host_is_superhost', 'host_listings_count', 'neighbourhood_cleansed',\n",
      "       'property_type', 'room_type', 'accommodates', 'bathrooms', 'amenities',\n",
      "       'price', 'review_scores_rating', 'reviews_per_month', 'price_log'],\n",
      "      dtype='object')\n",
      "15\n"
     ]
    }
   ],
   "source": [
    "for feature in removed_features_BE:\n",
    "    if feature in new_SF_df.columns:\n",
    "        new_SF_df.drop(columns=[feature],inplace=True)\n",
    "print(new_SF_df.columns)\n",
    "print(len(new_SF_df.columns))"
   ]
  },
  {
   "cell_type": "code",
   "execution_count": 14,
   "metadata": {
    "ExecuteTime": {
     "end_time": "2020-10-25T19:41:04.856453Z",
     "start_time": "2020-10-25T19:41:04.826526Z"
    }
   },
   "outputs": [
    {
     "name": "stdout",
     "output_type": "stream",
     "text": [
      "<class 'pandas.core.frame.DataFrame'>\n",
      "Int64Index: 6848 entries, 0 to 7273\n",
      "Data columns (total 15 columns):\n",
      " #   Column                  Non-Null Count  Dtype  \n",
      "---  ------                  --------------  -----  \n",
      " 0   host_response_time      6848 non-null   object \n",
      " 1   host_response_rate      6848 non-null   float64\n",
      " 2   host_acceptance_rate    6848 non-null   float64\n",
      " 3   host_is_superhost       6848 non-null   int32  \n",
      " 4   host_listings_count     6848 non-null   int64  \n",
      " 5   neighbourhood_cleansed  6848 non-null   object \n",
      " 6   property_type           6848 non-null   object \n",
      " 7   room_type               6848 non-null   object \n",
      " 8   accommodates            6848 non-null   int64  \n",
      " 9   bathrooms               6848 non-null   float64\n",
      " 10  amenities               6848 non-null   object \n",
      " 11  price                   6848 non-null   float64\n",
      " 12  review_scores_rating    6848 non-null   float64\n",
      " 13  reviews_per_month       6848 non-null   float64\n",
      " 14  price_log               6848 non-null   float64\n",
      "dtypes: float64(7), int32(1), int64(2), object(5)\n",
      "memory usage: 829.2+ KB\n"
     ]
    }
   ],
   "source": [
    "new_SF_df.info()"
   ]
  },
  {
   "cell_type": "code",
   "execution_count": 15,
   "metadata": {
    "ExecuteTime": {
     "end_time": "2020-10-25T19:41:04.871406Z",
     "start_time": "2020-10-25T19:41:04.859438Z"
    }
   },
   "outputs": [],
   "source": [
    "new_SF_df_copy = new_SF_df"
   ]
  },
  {
   "cell_type": "code",
   "execution_count": 16,
   "metadata": {
    "ExecuteTime": {
     "end_time": "2020-10-25T19:41:04.898334Z",
     "start_time": "2020-10-25T19:41:04.874400Z"
    }
   },
   "outputs": [],
   "source": [
    "# new_SF_df = new_SF_df_copy"
   ]
  },
  {
   "cell_type": "code",
   "execution_count": 17,
   "metadata": {
    "ExecuteTime": {
     "end_time": "2020-10-25T19:41:04.923267Z",
     "start_time": "2020-10-25T19:41:04.901326Z"
    },
    "scrolled": true
   },
   "outputs": [],
   "source": [
    "# for col in new_SF_df.columns: \n",
    "#     try:      \n",
    "#         new_SF_df[col] = pd.to_numeric(new_SF_df[col]) \n",
    "#         new_SF_df.hist(column=col)\n",
    "#     except ValueError:\n",
    "#         print('This column can not be represented as a histogram')"
   ]
  },
  {
   "cell_type": "markdown",
   "metadata": {},
   "source": [
    "# Data Pre-processing for non-numeric columns"
   ]
  },
  {
   "cell_type": "code",
   "execution_count": 18,
   "metadata": {
    "ExecuteTime": {
     "end_time": "2020-10-25T19:41:05.013032Z",
     "start_time": "2020-10-25T19:41:04.926260Z"
    }
   },
   "outputs": [
    {
     "data": {
      "text/plain": [
       "0       Heating, Hot water, Stove, Iron, Dryer, Coffee...\n",
       "1       Smoke alarm, Heating, Kitchen, First aid kit, ...\n",
       "2       Host greets you, Heating, Hot water, Kitchen, ...\n",
       "3       Host greets you, Heating, Hot water, Kitchen, ...\n",
       "5       Heating, Hot water, Children\\u2019s books and ...\n",
       "                              ...                        \n",
       "7269    Smoke alarm, Long term stays allowed, Refriger...\n",
       "7270    Smoke alarm, Long term stays allowed, Refriger...\n",
       "7271    Gym, Heating, Air conditioning, Iron, Dryer, C...\n",
       "7272    Gym, Heating, Hot water, Stove, Air conditioni...\n",
       "7273    Smoke alarm, Refrigerator, Heating, Kitchen, W...\n",
       "Name: amenities, Length: 6848, dtype: object"
      ]
     },
     "execution_count": 18,
     "metadata": {},
     "output_type": "execute_result"
    }
   ],
   "source": [
    "new_SF_df[\"amenities\"] = new_SF_df[\"amenities\"].str.replace('\"', \"\")\n",
    "new_SF_df[\"amenities\"] = new_SF_df[\"amenities\"].str.replace(\"[\", \"\")\n",
    "new_SF_df[\"amenities\"] = new_SF_df[\"amenities\"].str.replace(\"]\", \"\")\n",
    "\n",
    "new_SF_df['amenities']"
   ]
  },
  {
   "cell_type": "code",
   "execution_count": 19,
   "metadata": {
    "ExecuteTime": {
     "end_time": "2020-10-25T19:41:05.886692Z",
     "start_time": "2020-10-25T19:41:05.016020Z"
    }
   },
   "outputs": [],
   "source": [
    "from sklearn.feature_extraction.text import CountVectorizer\n",
    "\n",
    "count_vectorizer =  CountVectorizer(tokenizer=lambda x: x.split(', '))\n",
    "amenities = count_vectorizer.fit_transform(new_SF_df['amenities'])\n",
    "df_amenities = pd.DataFrame(amenities.toarray(), columns=count_vectorizer.get_feature_names())\n",
    "df_amenities = df_amenities.drop('',1)"
   ]
  },
  {
   "cell_type": "code",
   "execution_count": 20,
   "metadata": {
    "ExecuteTime": {
     "end_time": "2020-10-25T19:41:05.894670Z",
     "start_time": "2020-10-25T19:41:05.889683Z"
    }
   },
   "outputs": [
    {
     "data": {
      "text/plain": [
       "115"
      ]
     },
     "execution_count": 20,
     "metadata": {},
     "output_type": "execute_result"
    }
   ],
   "source": [
    "len(df_amenities.columns.to_list())"
   ]
  },
  {
   "cell_type": "code",
   "execution_count": 21,
   "metadata": {
    "ExecuteTime": {
     "end_time": "2020-10-25T19:41:05.924590Z",
     "start_time": "2020-10-25T19:41:05.897662Z"
    }
   },
   "outputs": [
    {
     "data": {
      "text/plain": [
       "['air conditioning',\n",
       " 'alarm system',\n",
       " 'baby bath',\n",
       " 'baby monitor',\n",
       " 'babysitter recommendations',\n",
       " 'baking sheet',\n",
       " 'barbecue utensils',\n",
       " 'bathroom essentials',\n",
       " 'bathtub',\n",
       " 'bbq grill',\n",
       " 'beach essentials',\n",
       " 'beachfront',\n",
       " 'bed linens',\n",
       " 'bedroom comforts',\n",
       " 'bread maker',\n",
       " 'breakfast',\n",
       " 'breakfast bar',\n",
       " 'building staff',\n",
       " 'cable tv',\n",
       " 'carbon monoxide alarm',\n",
       " 'changing table',\n",
       " 'children\\\\u2019s books and toys',\n",
       " 'children\\\\u2019s dinnerware',\n",
       " 'cleaning before checkout',\n",
       " 'coffee maker',\n",
       " 'cooking basics',\n",
       " 'crib',\n",
       " 'desk',\n",
       " 'dishes and silverware',\n",
       " 'dishwasher',\n",
       " 'dryer',\n",
       " 'dual vanity',\n",
       " 'elevator',\n",
       " 'essentials',\n",
       " 'ethernet connection',\n",
       " 'ev charger',\n",
       " 'extra pillows and blankets',\n",
       " 'fire extinguisher',\n",
       " 'fireplace guards',\n",
       " 'first aid kit',\n",
       " 'free parking on premises',\n",
       " 'free street parking',\n",
       " 'full kitchen',\n",
       " 'game console',\n",
       " 'garden or backyard',\n",
       " 'gas fireplace',\n",
       " 'gym',\n",
       " 'hair dryer',\n",
       " 'hangers',\n",
       " 'heating',\n",
       " 'high chair',\n",
       " 'host greets you',\n",
       " 'hot tub',\n",
       " 'hot water',\n",
       " 'indoor fireplace',\n",
       " 'iron',\n",
       " 'ironing board',\n",
       " 'jetted tub',\n",
       " 'keypad',\n",
       " 'kitchen',\n",
       " 'kitchenette',\n",
       " 'lake access',\n",
       " 'laptop-friendly workspace',\n",
       " 'lock on bedroom door',\n",
       " 'lockbox',\n",
       " 'long term stays allowed',\n",
       " 'luggage dropoff allowed',\n",
       " 'microwave',\n",
       " 'mini fridge',\n",
       " 'natural gas barbeque',\n",
       " 'office',\n",
       " 'outlet covers',\n",
       " 'oven',\n",
       " 'pack \\\\u2019n play/travel crib',\n",
       " 'paid parking off premises',\n",
       " 'paid parking on premises',\n",
       " 'patio or balcony',\n",
       " 'pets allowed',\n",
       " 'piano',\n",
       " 'pocket wifi',\n",
       " 'pool',\n",
       " 'portable air conditioning',\n",
       " 'private entrance',\n",
       " 'private hot tub',\n",
       " 'private living room',\n",
       " 'refrigerator',\n",
       " 'room-darkening shades',\n",
       " 'security cameras',\n",
       " 'self check-in',\n",
       " 'shampoo',\n",
       " 'shared hot tub',\n",
       " 'shower gel',\n",
       " 'single level home',\n",
       " 'ski-in/ski-out',\n",
       " 'smart home technology',\n",
       " 'smart lock',\n",
       " 'smart tv',\n",
       " 'smoke alarm',\n",
       " 'smoking allowed',\n",
       " 'sonos sound system',\n",
       " 'stair gates',\n",
       " 'stand alone bathtub',\n",
       " 'stand alone rain shower',\n",
       " 'stove',\n",
       " 'suitable for events',\n",
       " 'table corner guards',\n",
       " 'terrace',\n",
       " 'tv',\n",
       " 'walk in closet',\n",
       " 'washer',\n",
       " 'waterfront',\n",
       " 'wet bar',\n",
       " 'wifi',\n",
       " 'window guards',\n",
       " 'wine cooler']"
      ]
     },
     "execution_count": 21,
     "metadata": {},
     "output_type": "execute_result"
    }
   ],
   "source": [
    "df_amenities.columns.to_list()"
   ]
  },
  {
   "cell_type": "code",
   "execution_count": 22,
   "metadata": {
    "ExecuteTime": {
     "end_time": "2020-10-25T19:41:05.996398Z",
     "start_time": "2020-10-25T19:41:05.927583Z"
    }
   },
   "outputs": [
    {
     "data": {
      "text/html": [
       "<div>\n",
       "<style scoped>\n",
       "    .dataframe tbody tr th:only-of-type {\n",
       "        vertical-align: middle;\n",
       "    }\n",
       "\n",
       "    .dataframe tbody tr th {\n",
       "        vertical-align: top;\n",
       "    }\n",
       "\n",
       "    .dataframe thead th {\n",
       "        text-align: right;\n",
       "    }\n",
       "</style>\n",
       "<table border=\"1\" class=\"dataframe\">\n",
       "  <thead>\n",
       "    <tr style=\"text-align: right;\">\n",
       "      <th></th>\n",
       "      <th>air conditioning</th>\n",
       "      <th>alarm system</th>\n",
       "      <th>baby bath</th>\n",
       "      <th>baby monitor</th>\n",
       "      <th>babysitter recommendations</th>\n",
       "      <th>baking sheet</th>\n",
       "      <th>barbecue utensils</th>\n",
       "      <th>bathroom essentials</th>\n",
       "      <th>bathtub</th>\n",
       "      <th>bbq grill</th>\n",
       "      <th>...</th>\n",
       "      <th>table corner guards</th>\n",
       "      <th>terrace</th>\n",
       "      <th>tv</th>\n",
       "      <th>walk in closet</th>\n",
       "      <th>washer</th>\n",
       "      <th>waterfront</th>\n",
       "      <th>wet bar</th>\n",
       "      <th>wifi</th>\n",
       "      <th>window guards</th>\n",
       "      <th>wine cooler</th>\n",
       "    </tr>\n",
       "  </thead>\n",
       "  <tbody>\n",
       "    <tr>\n",
       "      <th>0</th>\n",
       "      <td>0</td>\n",
       "      <td>0</td>\n",
       "      <td>0</td>\n",
       "      <td>0</td>\n",
       "      <td>0</td>\n",
       "      <td>0</td>\n",
       "      <td>0</td>\n",
       "      <td>0</td>\n",
       "      <td>0</td>\n",
       "      <td>0</td>\n",
       "      <td>...</td>\n",
       "      <td>0</td>\n",
       "      <td>0</td>\n",
       "      <td>1</td>\n",
       "      <td>0</td>\n",
       "      <td>1</td>\n",
       "      <td>0</td>\n",
       "      <td>0</td>\n",
       "      <td>1</td>\n",
       "      <td>0</td>\n",
       "      <td>0</td>\n",
       "    </tr>\n",
       "    <tr>\n",
       "      <th>1</th>\n",
       "      <td>0</td>\n",
       "      <td>0</td>\n",
       "      <td>0</td>\n",
       "      <td>0</td>\n",
       "      <td>0</td>\n",
       "      <td>0</td>\n",
       "      <td>0</td>\n",
       "      <td>0</td>\n",
       "      <td>0</td>\n",
       "      <td>0</td>\n",
       "      <td>...</td>\n",
       "      <td>0</td>\n",
       "      <td>0</td>\n",
       "      <td>0</td>\n",
       "      <td>0</td>\n",
       "      <td>1</td>\n",
       "      <td>0</td>\n",
       "      <td>0</td>\n",
       "      <td>1</td>\n",
       "      <td>0</td>\n",
       "      <td>0</td>\n",
       "    </tr>\n",
       "    <tr>\n",
       "      <th>2</th>\n",
       "      <td>0</td>\n",
       "      <td>0</td>\n",
       "      <td>0</td>\n",
       "      <td>0</td>\n",
       "      <td>0</td>\n",
       "      <td>0</td>\n",
       "      <td>0</td>\n",
       "      <td>0</td>\n",
       "      <td>0</td>\n",
       "      <td>0</td>\n",
       "      <td>...</td>\n",
       "      <td>0</td>\n",
       "      <td>0</td>\n",
       "      <td>1</td>\n",
       "      <td>0</td>\n",
       "      <td>1</td>\n",
       "      <td>0</td>\n",
       "      <td>0</td>\n",
       "      <td>1</td>\n",
       "      <td>0</td>\n",
       "      <td>0</td>\n",
       "    </tr>\n",
       "    <tr>\n",
       "      <th>3</th>\n",
       "      <td>0</td>\n",
       "      <td>0</td>\n",
       "      <td>0</td>\n",
       "      <td>0</td>\n",
       "      <td>0</td>\n",
       "      <td>0</td>\n",
       "      <td>0</td>\n",
       "      <td>0</td>\n",
       "      <td>0</td>\n",
       "      <td>0</td>\n",
       "      <td>...</td>\n",
       "      <td>0</td>\n",
       "      <td>0</td>\n",
       "      <td>1</td>\n",
       "      <td>0</td>\n",
       "      <td>1</td>\n",
       "      <td>0</td>\n",
       "      <td>0</td>\n",
       "      <td>1</td>\n",
       "      <td>0</td>\n",
       "      <td>0</td>\n",
       "    </tr>\n",
       "    <tr>\n",
       "      <th>4</th>\n",
       "      <td>0</td>\n",
       "      <td>0</td>\n",
       "      <td>0</td>\n",
       "      <td>0</td>\n",
       "      <td>0</td>\n",
       "      <td>0</td>\n",
       "      <td>0</td>\n",
       "      <td>0</td>\n",
       "      <td>0</td>\n",
       "      <td>0</td>\n",
       "      <td>...</td>\n",
       "      <td>0</td>\n",
       "      <td>0</td>\n",
       "      <td>1</td>\n",
       "      <td>0</td>\n",
       "      <td>0</td>\n",
       "      <td>0</td>\n",
       "      <td>0</td>\n",
       "      <td>1</td>\n",
       "      <td>0</td>\n",
       "      <td>0</td>\n",
       "    </tr>\n",
       "    <tr>\n",
       "      <th>...</th>\n",
       "      <td>...</td>\n",
       "      <td>...</td>\n",
       "      <td>...</td>\n",
       "      <td>...</td>\n",
       "      <td>...</td>\n",
       "      <td>...</td>\n",
       "      <td>...</td>\n",
       "      <td>...</td>\n",
       "      <td>...</td>\n",
       "      <td>...</td>\n",
       "      <td>...</td>\n",
       "      <td>...</td>\n",
       "      <td>...</td>\n",
       "      <td>...</td>\n",
       "      <td>...</td>\n",
       "      <td>...</td>\n",
       "      <td>...</td>\n",
       "      <td>...</td>\n",
       "      <td>...</td>\n",
       "      <td>...</td>\n",
       "      <td>...</td>\n",
       "    </tr>\n",
       "    <tr>\n",
       "      <th>6843</th>\n",
       "      <td>0</td>\n",
       "      <td>0</td>\n",
       "      <td>0</td>\n",
       "      <td>0</td>\n",
       "      <td>0</td>\n",
       "      <td>0</td>\n",
       "      <td>0</td>\n",
       "      <td>0</td>\n",
       "      <td>0</td>\n",
       "      <td>0</td>\n",
       "      <td>...</td>\n",
       "      <td>0</td>\n",
       "      <td>0</td>\n",
       "      <td>0</td>\n",
       "      <td>0</td>\n",
       "      <td>1</td>\n",
       "      <td>0</td>\n",
       "      <td>0</td>\n",
       "      <td>1</td>\n",
       "      <td>0</td>\n",
       "      <td>0</td>\n",
       "    </tr>\n",
       "    <tr>\n",
       "      <th>6844</th>\n",
       "      <td>0</td>\n",
       "      <td>0</td>\n",
       "      <td>0</td>\n",
       "      <td>0</td>\n",
       "      <td>0</td>\n",
       "      <td>0</td>\n",
       "      <td>0</td>\n",
       "      <td>0</td>\n",
       "      <td>0</td>\n",
       "      <td>0</td>\n",
       "      <td>...</td>\n",
       "      <td>0</td>\n",
       "      <td>0</td>\n",
       "      <td>1</td>\n",
       "      <td>0</td>\n",
       "      <td>1</td>\n",
       "      <td>0</td>\n",
       "      <td>0</td>\n",
       "      <td>1</td>\n",
       "      <td>0</td>\n",
       "      <td>0</td>\n",
       "    </tr>\n",
       "    <tr>\n",
       "      <th>6845</th>\n",
       "      <td>1</td>\n",
       "      <td>0</td>\n",
       "      <td>0</td>\n",
       "      <td>0</td>\n",
       "      <td>0</td>\n",
       "      <td>0</td>\n",
       "      <td>0</td>\n",
       "      <td>0</td>\n",
       "      <td>0</td>\n",
       "      <td>0</td>\n",
       "      <td>...</td>\n",
       "      <td>0</td>\n",
       "      <td>0</td>\n",
       "      <td>1</td>\n",
       "      <td>0</td>\n",
       "      <td>1</td>\n",
       "      <td>0</td>\n",
       "      <td>0</td>\n",
       "      <td>1</td>\n",
       "      <td>0</td>\n",
       "      <td>0</td>\n",
       "    </tr>\n",
       "    <tr>\n",
       "      <th>6846</th>\n",
       "      <td>1</td>\n",
       "      <td>0</td>\n",
       "      <td>0</td>\n",
       "      <td>0</td>\n",
       "      <td>0</td>\n",
       "      <td>0</td>\n",
       "      <td>1</td>\n",
       "      <td>0</td>\n",
       "      <td>0</td>\n",
       "      <td>1</td>\n",
       "      <td>...</td>\n",
       "      <td>0</td>\n",
       "      <td>0</td>\n",
       "      <td>1</td>\n",
       "      <td>0</td>\n",
       "      <td>1</td>\n",
       "      <td>0</td>\n",
       "      <td>0</td>\n",
       "      <td>1</td>\n",
       "      <td>0</td>\n",
       "      <td>0</td>\n",
       "    </tr>\n",
       "    <tr>\n",
       "      <th>6847</th>\n",
       "      <td>0</td>\n",
       "      <td>0</td>\n",
       "      <td>0</td>\n",
       "      <td>0</td>\n",
       "      <td>0</td>\n",
       "      <td>0</td>\n",
       "      <td>0</td>\n",
       "      <td>0</td>\n",
       "      <td>0</td>\n",
       "      <td>0</td>\n",
       "      <td>...</td>\n",
       "      <td>0</td>\n",
       "      <td>0</td>\n",
       "      <td>1</td>\n",
       "      <td>0</td>\n",
       "      <td>0</td>\n",
       "      <td>0</td>\n",
       "      <td>0</td>\n",
       "      <td>1</td>\n",
       "      <td>0</td>\n",
       "      <td>0</td>\n",
       "    </tr>\n",
       "  </tbody>\n",
       "</table>\n",
       "<p>6848 rows × 115 columns</p>\n",
       "</div>"
      ],
      "text/plain": [
       "      air conditioning  alarm system  baby bath  baby monitor  \\\n",
       "0                    0             0          0             0   \n",
       "1                    0             0          0             0   \n",
       "2                    0             0          0             0   \n",
       "3                    0             0          0             0   \n",
       "4                    0             0          0             0   \n",
       "...                ...           ...        ...           ...   \n",
       "6843                 0             0          0             0   \n",
       "6844                 0             0          0             0   \n",
       "6845                 1             0          0             0   \n",
       "6846                 1             0          0             0   \n",
       "6847                 0             0          0             0   \n",
       "\n",
       "      babysitter recommendations  baking sheet  barbecue utensils  \\\n",
       "0                              0             0                  0   \n",
       "1                              0             0                  0   \n",
       "2                              0             0                  0   \n",
       "3                              0             0                  0   \n",
       "4                              0             0                  0   \n",
       "...                          ...           ...                ...   \n",
       "6843                           0             0                  0   \n",
       "6844                           0             0                  0   \n",
       "6845                           0             0                  0   \n",
       "6846                           0             0                  1   \n",
       "6847                           0             0                  0   \n",
       "\n",
       "      bathroom essentials  bathtub  bbq grill  ...  table corner guards  \\\n",
       "0                       0        0          0  ...                    0   \n",
       "1                       0        0          0  ...                    0   \n",
       "2                       0        0          0  ...                    0   \n",
       "3                       0        0          0  ...                    0   \n",
       "4                       0        0          0  ...                    0   \n",
       "...                   ...      ...        ...  ...                  ...   \n",
       "6843                    0        0          0  ...                    0   \n",
       "6844                    0        0          0  ...                    0   \n",
       "6845                    0        0          0  ...                    0   \n",
       "6846                    0        0          1  ...                    0   \n",
       "6847                    0        0          0  ...                    0   \n",
       "\n",
       "      terrace  tv  walk in closet  washer  waterfront  wet bar  wifi  \\\n",
       "0           0   1               0       1           0        0     1   \n",
       "1           0   0               0       1           0        0     1   \n",
       "2           0   1               0       1           0        0     1   \n",
       "3           0   1               0       1           0        0     1   \n",
       "4           0   1               0       0           0        0     1   \n",
       "...       ...  ..             ...     ...         ...      ...   ...   \n",
       "6843        0   0               0       1           0        0     1   \n",
       "6844        0   1               0       1           0        0     1   \n",
       "6845        0   1               0       1           0        0     1   \n",
       "6846        0   1               0       1           0        0     1   \n",
       "6847        0   1               0       0           0        0     1   \n",
       "\n",
       "      window guards  wine cooler  \n",
       "0                 0            0  \n",
       "1                 0            0  \n",
       "2                 0            0  \n",
       "3                 0            0  \n",
       "4                 0            0  \n",
       "...             ...          ...  \n",
       "6843              0            0  \n",
       "6844              0            0  \n",
       "6845              0            0  \n",
       "6846              0            0  \n",
       "6847              0            0  \n",
       "\n",
       "[6848 rows x 115 columns]"
      ]
     },
     "execution_count": 22,
     "metadata": {},
     "output_type": "execute_result"
    }
   ],
   "source": [
    "df_amenities"
   ]
  },
  {
   "cell_type": "code",
   "execution_count": 23,
   "metadata": {
    "ExecuteTime": {
     "end_time": "2020-10-25T19:41:06.055242Z",
     "start_time": "2020-10-25T19:41:06.003380Z"
    }
   },
   "outputs": [
    {
     "data": {
      "text/html": [
       "<div>\n",
       "<style scoped>\n",
       "    .dataframe tbody tr th:only-of-type {\n",
       "        vertical-align: middle;\n",
       "    }\n",
       "\n",
       "    .dataframe tbody tr th {\n",
       "        vertical-align: top;\n",
       "    }\n",
       "\n",
       "    .dataframe thead th {\n",
       "        text-align: right;\n",
       "    }\n",
       "</style>\n",
       "<table border=\"1\" class=\"dataframe\">\n",
       "  <thead>\n",
       "    <tr style=\"text-align: right;\">\n",
       "      <th></th>\n",
       "      <th>host_response_time</th>\n",
       "      <th>host_response_rate</th>\n",
       "      <th>host_acceptance_rate</th>\n",
       "      <th>host_is_superhost</th>\n",
       "      <th>host_listings_count</th>\n",
       "      <th>neighbourhood_cleansed</th>\n",
       "      <th>property_type</th>\n",
       "      <th>room_type</th>\n",
       "      <th>accommodates</th>\n",
       "      <th>bathrooms</th>\n",
       "      <th>price</th>\n",
       "      <th>review_scores_rating</th>\n",
       "      <th>reviews_per_month</th>\n",
       "      <th>price_log</th>\n",
       "    </tr>\n",
       "  </thead>\n",
       "  <tbody>\n",
       "    <tr>\n",
       "      <th>0</th>\n",
       "      <td>within an hour</td>\n",
       "      <td>1.0</td>\n",
       "      <td>0.99</td>\n",
       "      <td>1</td>\n",
       "      <td>1</td>\n",
       "      <td>Western Addition</td>\n",
       "      <td>Entire apartment</td>\n",
       "      <td>Entire home/apt</td>\n",
       "      <td>3</td>\n",
       "      <td>1.0</td>\n",
       "      <td>132.0</td>\n",
       "      <td>97.0</td>\n",
       "      <td>1.91</td>\n",
       "      <td>4.882802</td>\n",
       "    </tr>\n",
       "    <tr>\n",
       "      <th>1</th>\n",
       "      <td>within a day</td>\n",
       "      <td>0.6</td>\n",
       "      <td>0.83</td>\n",
       "      <td>0</td>\n",
       "      <td>2</td>\n",
       "      <td>Bernal Heights</td>\n",
       "      <td>Entire apartment</td>\n",
       "      <td>Entire home/apt</td>\n",
       "      <td>5</td>\n",
       "      <td>1.0</td>\n",
       "      <td>235.0</td>\n",
       "      <td>98.0</td>\n",
       "      <td>0.81</td>\n",
       "      <td>5.459586</td>\n",
       "    </tr>\n",
       "    <tr>\n",
       "      <th>2</th>\n",
       "      <td>within a few hours</td>\n",
       "      <td>1.0</td>\n",
       "      <td>1.00</td>\n",
       "      <td>0</td>\n",
       "      <td>10</td>\n",
       "      <td>Haight Ashbury</td>\n",
       "      <td>Private room in apartment</td>\n",
       "      <td>Private room</td>\n",
       "      <td>2</td>\n",
       "      <td>4.0</td>\n",
       "      <td>56.0</td>\n",
       "      <td>84.0</td>\n",
       "      <td>0.14</td>\n",
       "      <td>4.025352</td>\n",
       "    </tr>\n",
       "    <tr>\n",
       "      <th>3</th>\n",
       "      <td>within a few hours</td>\n",
       "      <td>1.0</td>\n",
       "      <td>1.00</td>\n",
       "      <td>0</td>\n",
       "      <td>10</td>\n",
       "      <td>Haight Ashbury</td>\n",
       "      <td>Private room in apartment</td>\n",
       "      <td>Private room</td>\n",
       "      <td>2</td>\n",
       "      <td>4.0</td>\n",
       "      <td>56.0</td>\n",
       "      <td>93.0</td>\n",
       "      <td>0.11</td>\n",
       "      <td>4.025352</td>\n",
       "    </tr>\n",
       "    <tr>\n",
       "      <th>5</th>\n",
       "      <td>within an hour</td>\n",
       "      <td>1.0</td>\n",
       "      <td>0.96</td>\n",
       "      <td>1</td>\n",
       "      <td>2</td>\n",
       "      <td>Mission</td>\n",
       "      <td>Private room in condominium</td>\n",
       "      <td>Private room</td>\n",
       "      <td>3</td>\n",
       "      <td>1.0</td>\n",
       "      <td>169.0</td>\n",
       "      <td>98.0</td>\n",
       "      <td>5.47</td>\n",
       "      <td>5.129899</td>\n",
       "    </tr>\n",
       "    <tr>\n",
       "      <th>...</th>\n",
       "      <td>...</td>\n",
       "      <td>...</td>\n",
       "      <td>...</td>\n",
       "      <td>...</td>\n",
       "      <td>...</td>\n",
       "      <td>...</td>\n",
       "      <td>...</td>\n",
       "      <td>...</td>\n",
       "      <td>...</td>\n",
       "      <td>...</td>\n",
       "      <td>...</td>\n",
       "      <td>...</td>\n",
       "      <td>...</td>\n",
       "      <td>...</td>\n",
       "    </tr>\n",
       "    <tr>\n",
       "      <th>7269</th>\n",
       "      <td>within a few hours</td>\n",
       "      <td>1.0</td>\n",
       "      <td>1.00</td>\n",
       "      <td>0</td>\n",
       "      <td>92</td>\n",
       "      <td>Mission</td>\n",
       "      <td>Entire apartment</td>\n",
       "      <td>Entire home/apt</td>\n",
       "      <td>2</td>\n",
       "      <td>1.0</td>\n",
       "      <td>71.0</td>\n",
       "      <td>0.0</td>\n",
       "      <td>0.00</td>\n",
       "      <td>4.262680</td>\n",
       "    </tr>\n",
       "    <tr>\n",
       "      <th>7270</th>\n",
       "      <td>within a few hours</td>\n",
       "      <td>1.0</td>\n",
       "      <td>1.00</td>\n",
       "      <td>0</td>\n",
       "      <td>92</td>\n",
       "      <td>Downtown/Civic Center</td>\n",
       "      <td>Entire apartment</td>\n",
       "      <td>Entire home/apt</td>\n",
       "      <td>2</td>\n",
       "      <td>1.0</td>\n",
       "      <td>62.0</td>\n",
       "      <td>0.0</td>\n",
       "      <td>0.00</td>\n",
       "      <td>4.127134</td>\n",
       "    </tr>\n",
       "    <tr>\n",
       "      <th>7271</th>\n",
       "      <td>-</td>\n",
       "      <td>0.0</td>\n",
       "      <td>0.00</td>\n",
       "      <td>0</td>\n",
       "      <td>0</td>\n",
       "      <td>Lakeshore</td>\n",
       "      <td>Entire townhouse</td>\n",
       "      <td>Entire home/apt</td>\n",
       "      <td>6</td>\n",
       "      <td>3.0</td>\n",
       "      <td>399.0</td>\n",
       "      <td>0.0</td>\n",
       "      <td>0.00</td>\n",
       "      <td>5.988961</td>\n",
       "    </tr>\n",
       "    <tr>\n",
       "      <th>7272</th>\n",
       "      <td>-</td>\n",
       "      <td>0.0</td>\n",
       "      <td>0.00</td>\n",
       "      <td>0</td>\n",
       "      <td>1</td>\n",
       "      <td>South of Market</td>\n",
       "      <td>Private room in apartment</td>\n",
       "      <td>Private room</td>\n",
       "      <td>1</td>\n",
       "      <td>1.0</td>\n",
       "      <td>120.0</td>\n",
       "      <td>0.0</td>\n",
       "      <td>0.00</td>\n",
       "      <td>4.787492</td>\n",
       "    </tr>\n",
       "    <tr>\n",
       "      <th>7273</th>\n",
       "      <td>-</td>\n",
       "      <td>0.0</td>\n",
       "      <td>1.00</td>\n",
       "      <td>1</td>\n",
       "      <td>2</td>\n",
       "      <td>Glen Park</td>\n",
       "      <td>Entire apartment</td>\n",
       "      <td>Entire home/apt</td>\n",
       "      <td>2</td>\n",
       "      <td>1.0</td>\n",
       "      <td>120.0</td>\n",
       "      <td>0.0</td>\n",
       "      <td>0.00</td>\n",
       "      <td>4.787492</td>\n",
       "    </tr>\n",
       "  </tbody>\n",
       "</table>\n",
       "<p>6848 rows × 14 columns</p>\n",
       "</div>"
      ],
      "text/plain": [
       "      host_response_time  host_response_rate  host_acceptance_rate  \\\n",
       "0         within an hour                 1.0                  0.99   \n",
       "1           within a day                 0.6                  0.83   \n",
       "2     within a few hours                 1.0                  1.00   \n",
       "3     within a few hours                 1.0                  1.00   \n",
       "5         within an hour                 1.0                  0.96   \n",
       "...                  ...                 ...                   ...   \n",
       "7269  within a few hours                 1.0                  1.00   \n",
       "7270  within a few hours                 1.0                  1.00   \n",
       "7271                   -                 0.0                  0.00   \n",
       "7272                   -                 0.0                  0.00   \n",
       "7273                   -                 0.0                  1.00   \n",
       "\n",
       "      host_is_superhost  host_listings_count neighbourhood_cleansed  \\\n",
       "0                     1                    1       Western Addition   \n",
       "1                     0                    2         Bernal Heights   \n",
       "2                     0                   10         Haight Ashbury   \n",
       "3                     0                   10         Haight Ashbury   \n",
       "5                     1                    2                Mission   \n",
       "...                 ...                  ...                    ...   \n",
       "7269                  0                   92                Mission   \n",
       "7270                  0                   92  Downtown/Civic Center   \n",
       "7271                  0                    0              Lakeshore   \n",
       "7272                  0                    1        South of Market   \n",
       "7273                  1                    2              Glen Park   \n",
       "\n",
       "                    property_type        room_type  accommodates  bathrooms  \\\n",
       "0                Entire apartment  Entire home/apt             3        1.0   \n",
       "1                Entire apartment  Entire home/apt             5        1.0   \n",
       "2       Private room in apartment     Private room             2        4.0   \n",
       "3       Private room in apartment     Private room             2        4.0   \n",
       "5     Private room in condominium     Private room             3        1.0   \n",
       "...                           ...              ...           ...        ...   \n",
       "7269             Entire apartment  Entire home/apt             2        1.0   \n",
       "7270             Entire apartment  Entire home/apt             2        1.0   \n",
       "7271             Entire townhouse  Entire home/apt             6        3.0   \n",
       "7272    Private room in apartment     Private room             1        1.0   \n",
       "7273             Entire apartment  Entire home/apt             2        1.0   \n",
       "\n",
       "      price  review_scores_rating  reviews_per_month  price_log  \n",
       "0     132.0                  97.0               1.91   4.882802  \n",
       "1     235.0                  98.0               0.81   5.459586  \n",
       "2      56.0                  84.0               0.14   4.025352  \n",
       "3      56.0                  93.0               0.11   4.025352  \n",
       "5     169.0                  98.0               5.47   5.129899  \n",
       "...     ...                   ...                ...        ...  \n",
       "7269   71.0                   0.0               0.00   4.262680  \n",
       "7270   62.0                   0.0               0.00   4.127134  \n",
       "7271  399.0                   0.0               0.00   5.988961  \n",
       "7272  120.0                   0.0               0.00   4.787492  \n",
       "7273  120.0                   0.0               0.00   4.787492  \n",
       "\n",
       "[6848 rows x 14 columns]"
      ]
     },
     "execution_count": 23,
     "metadata": {},
     "output_type": "execute_result"
    }
   ],
   "source": [
    "new_SF_df_wo_amenity_df = new_SF_df.drop(columns=['amenities'])\n",
    "new_SF_df_wo_amenity_df"
   ]
  },
  {
   "cell_type": "code",
   "execution_count": 24,
   "metadata": {
    "ExecuteTime": {
     "end_time": "2020-10-25T19:41:06.112094Z",
     "start_time": "2020-10-25T19:41:06.059230Z"
    }
   },
   "outputs": [
    {
     "data": {
      "text/html": [
       "<div>\n",
       "<style scoped>\n",
       "    .dataframe tbody tr th:only-of-type {\n",
       "        vertical-align: middle;\n",
       "    }\n",
       "\n",
       "    .dataframe tbody tr th {\n",
       "        vertical-align: top;\n",
       "    }\n",
       "\n",
       "    .dataframe thead th {\n",
       "        text-align: right;\n",
       "    }\n",
       "</style>\n",
       "<table border=\"1\" class=\"dataframe\">\n",
       "  <thead>\n",
       "    <tr style=\"text-align: right;\">\n",
       "      <th></th>\n",
       "      <th>host_response_time</th>\n",
       "      <th>host_response_rate</th>\n",
       "      <th>host_acceptance_rate</th>\n",
       "      <th>host_is_superhost</th>\n",
       "      <th>host_listings_count</th>\n",
       "      <th>neighbourhood_cleansed</th>\n",
       "      <th>property_type</th>\n",
       "      <th>room_type</th>\n",
       "      <th>accommodates</th>\n",
       "      <th>bathrooms</th>\n",
       "      <th>price</th>\n",
       "      <th>review_scores_rating</th>\n",
       "      <th>reviews_per_month</th>\n",
       "      <th>price_log</th>\n",
       "    </tr>\n",
       "  </thead>\n",
       "  <tbody>\n",
       "    <tr>\n",
       "      <th>0</th>\n",
       "      <td>4</td>\n",
       "      <td>1.0</td>\n",
       "      <td>0.99</td>\n",
       "      <td>1</td>\n",
       "      <td>1</td>\n",
       "      <td>36</td>\n",
       "      <td>3</td>\n",
       "      <td>0</td>\n",
       "      <td>3</td>\n",
       "      <td>1.0</td>\n",
       "      <td>132.0</td>\n",
       "      <td>97.0</td>\n",
       "      <td>1.91</td>\n",
       "      <td>4.882802</td>\n",
       "    </tr>\n",
       "    <tr>\n",
       "      <th>1</th>\n",
       "      <td>2</td>\n",
       "      <td>0.6</td>\n",
       "      <td>0.83</td>\n",
       "      <td>0</td>\n",
       "      <td>2</td>\n",
       "      <td>1</td>\n",
       "      <td>3</td>\n",
       "      <td>0</td>\n",
       "      <td>5</td>\n",
       "      <td>1.0</td>\n",
       "      <td>235.0</td>\n",
       "      <td>98.0</td>\n",
       "      <td>0.81</td>\n",
       "      <td>5.459586</td>\n",
       "    </tr>\n",
       "    <tr>\n",
       "      <th>2</th>\n",
       "      <td>3</td>\n",
       "      <td>1.0</td>\n",
       "      <td>1.00</td>\n",
       "      <td>0</td>\n",
       "      <td>10</td>\n",
       "      <td>11</td>\n",
       "      <td>19</td>\n",
       "      <td>2</td>\n",
       "      <td>2</td>\n",
       "      <td>4.0</td>\n",
       "      <td>56.0</td>\n",
       "      <td>84.0</td>\n",
       "      <td>0.14</td>\n",
       "      <td>4.025352</td>\n",
       "    </tr>\n",
       "    <tr>\n",
       "      <th>3</th>\n",
       "      <td>3</td>\n",
       "      <td>1.0</td>\n",
       "      <td>1.00</td>\n",
       "      <td>0</td>\n",
       "      <td>10</td>\n",
       "      <td>11</td>\n",
       "      <td>19</td>\n",
       "      <td>2</td>\n",
       "      <td>2</td>\n",
       "      <td>4.0</td>\n",
       "      <td>56.0</td>\n",
       "      <td>93.0</td>\n",
       "      <td>0.11</td>\n",
       "      <td>4.025352</td>\n",
       "    </tr>\n",
       "    <tr>\n",
       "      <th>5</th>\n",
       "      <td>4</td>\n",
       "      <td>1.0</td>\n",
       "      <td>0.96</td>\n",
       "      <td>1</td>\n",
       "      <td>2</td>\n",
       "      <td>16</td>\n",
       "      <td>24</td>\n",
       "      <td>2</td>\n",
       "      <td>3</td>\n",
       "      <td>1.0</td>\n",
       "      <td>169.0</td>\n",
       "      <td>98.0</td>\n",
       "      <td>5.47</td>\n",
       "      <td>5.129899</td>\n",
       "    </tr>\n",
       "    <tr>\n",
       "      <th>...</th>\n",
       "      <td>...</td>\n",
       "      <td>...</td>\n",
       "      <td>...</td>\n",
       "      <td>...</td>\n",
       "      <td>...</td>\n",
       "      <td>...</td>\n",
       "      <td>...</td>\n",
       "      <td>...</td>\n",
       "      <td>...</td>\n",
       "      <td>...</td>\n",
       "      <td>...</td>\n",
       "      <td>...</td>\n",
       "      <td>...</td>\n",
       "      <td>...</td>\n",
       "    </tr>\n",
       "    <tr>\n",
       "      <th>7269</th>\n",
       "      <td>3</td>\n",
       "      <td>1.0</td>\n",
       "      <td>1.00</td>\n",
       "      <td>0</td>\n",
       "      <td>92</td>\n",
       "      <td>16</td>\n",
       "      <td>3</td>\n",
       "      <td>0</td>\n",
       "      <td>2</td>\n",
       "      <td>1.0</td>\n",
       "      <td>71.0</td>\n",
       "      <td>0.0</td>\n",
       "      <td>0.00</td>\n",
       "      <td>4.262680</td>\n",
       "    </tr>\n",
       "    <tr>\n",
       "      <th>7270</th>\n",
       "      <td>3</td>\n",
       "      <td>1.0</td>\n",
       "      <td>1.00</td>\n",
       "      <td>0</td>\n",
       "      <td>92</td>\n",
       "      <td>6</td>\n",
       "      <td>3</td>\n",
       "      <td>0</td>\n",
       "      <td>2</td>\n",
       "      <td>1.0</td>\n",
       "      <td>62.0</td>\n",
       "      <td>0.0</td>\n",
       "      <td>0.00</td>\n",
       "      <td>4.127134</td>\n",
       "    </tr>\n",
       "    <tr>\n",
       "      <th>7271</th>\n",
       "      <td>0</td>\n",
       "      <td>0.0</td>\n",
       "      <td>0.00</td>\n",
       "      <td>0</td>\n",
       "      <td>0</td>\n",
       "      <td>14</td>\n",
       "      <td>16</td>\n",
       "      <td>0</td>\n",
       "      <td>6</td>\n",
       "      <td>3.0</td>\n",
       "      <td>399.0</td>\n",
       "      <td>0.0</td>\n",
       "      <td>0.00</td>\n",
       "      <td>5.988961</td>\n",
       "    </tr>\n",
       "    <tr>\n",
       "      <th>7272</th>\n",
       "      <td>0</td>\n",
       "      <td>0.0</td>\n",
       "      <td>0.00</td>\n",
       "      <td>0</td>\n",
       "      <td>1</td>\n",
       "      <td>31</td>\n",
       "      <td>19</td>\n",
       "      <td>2</td>\n",
       "      <td>1</td>\n",
       "      <td>1.0</td>\n",
       "      <td>120.0</td>\n",
       "      <td>0.0</td>\n",
       "      <td>0.00</td>\n",
       "      <td>4.787492</td>\n",
       "    </tr>\n",
       "    <tr>\n",
       "      <th>7273</th>\n",
       "      <td>0</td>\n",
       "      <td>0.0</td>\n",
       "      <td>1.00</td>\n",
       "      <td>1</td>\n",
       "      <td>2</td>\n",
       "      <td>9</td>\n",
       "      <td>3</td>\n",
       "      <td>0</td>\n",
       "      <td>2</td>\n",
       "      <td>1.0</td>\n",
       "      <td>120.0</td>\n",
       "      <td>0.0</td>\n",
       "      <td>0.00</td>\n",
       "      <td>4.787492</td>\n",
       "    </tr>\n",
       "  </tbody>\n",
       "</table>\n",
       "<p>6848 rows × 14 columns</p>\n",
       "</div>"
      ],
      "text/plain": [
       "      host_response_time  host_response_rate  host_acceptance_rate  \\\n",
       "0                      4                 1.0                  0.99   \n",
       "1                      2                 0.6                  0.83   \n",
       "2                      3                 1.0                  1.00   \n",
       "3                      3                 1.0                  1.00   \n",
       "5                      4                 1.0                  0.96   \n",
       "...                  ...                 ...                   ...   \n",
       "7269                   3                 1.0                  1.00   \n",
       "7270                   3                 1.0                  1.00   \n",
       "7271                   0                 0.0                  0.00   \n",
       "7272                   0                 0.0                  0.00   \n",
       "7273                   0                 0.0                  1.00   \n",
       "\n",
       "      host_is_superhost  host_listings_count  neighbourhood_cleansed  \\\n",
       "0                     1                    1                      36   \n",
       "1                     0                    2                       1   \n",
       "2                     0                   10                      11   \n",
       "3                     0                   10                      11   \n",
       "5                     1                    2                      16   \n",
       "...                 ...                  ...                     ...   \n",
       "7269                  0                   92                      16   \n",
       "7270                  0                   92                       6   \n",
       "7271                  0                    0                      14   \n",
       "7272                  0                    1                      31   \n",
       "7273                  1                    2                       9   \n",
       "\n",
       "      property_type  room_type  accommodates  bathrooms  price  \\\n",
       "0                 3          0             3        1.0  132.0   \n",
       "1                 3          0             5        1.0  235.0   \n",
       "2                19          2             2        4.0   56.0   \n",
       "3                19          2             2        4.0   56.0   \n",
       "5                24          2             3        1.0  169.0   \n",
       "...             ...        ...           ...        ...    ...   \n",
       "7269              3          0             2        1.0   71.0   \n",
       "7270              3          0             2        1.0   62.0   \n",
       "7271             16          0             6        3.0  399.0   \n",
       "7272             19          2             1        1.0  120.0   \n",
       "7273              3          0             2        1.0  120.0   \n",
       "\n",
       "      review_scores_rating  reviews_per_month  price_log  \n",
       "0                     97.0               1.91   4.882802  \n",
       "1                     98.0               0.81   5.459586  \n",
       "2                     84.0               0.14   4.025352  \n",
       "3                     93.0               0.11   4.025352  \n",
       "5                     98.0               5.47   5.129899  \n",
       "...                    ...                ...        ...  \n",
       "7269                   0.0               0.00   4.262680  \n",
       "7270                   0.0               0.00   4.127134  \n",
       "7271                   0.0               0.00   5.988961  \n",
       "7272                   0.0               0.00   4.787492  \n",
       "7273                   0.0               0.00   4.787492  \n",
       "\n",
       "[6848 rows x 14 columns]"
      ]
     },
     "execution_count": 24,
     "metadata": {},
     "output_type": "execute_result"
    }
   ],
   "source": [
    "from sklearn import preprocessing\n",
    "for column in new_SF_df_wo_amenity_df.columns:\n",
    "    if new_SF_df_wo_amenity_df[column].dtype == type(object):\n",
    "        le = preprocessing.LabelEncoder()\n",
    "        new_SF_df_wo_amenity_df[column] = le.fit_transform(new_SF_df_wo_amenity_df[column])\n",
    "        \n",
    "new_SF_df_wo_amenity_df"
   ]
  },
  {
   "cell_type": "code",
   "execution_count": 25,
   "metadata": {
    "ExecuteTime": {
     "end_time": "2020-10-25T19:41:06.200852Z",
     "start_time": "2020-10-25T19:41:06.115081Z"
    }
   },
   "outputs": [
    {
     "data": {
      "text/html": [
       "<div>\n",
       "<style scoped>\n",
       "    .dataframe tbody tr th:only-of-type {\n",
       "        vertical-align: middle;\n",
       "    }\n",
       "\n",
       "    .dataframe tbody tr th {\n",
       "        vertical-align: top;\n",
       "    }\n",
       "\n",
       "    .dataframe thead th {\n",
       "        text-align: right;\n",
       "    }\n",
       "</style>\n",
       "<table border=\"1\" class=\"dataframe\">\n",
       "  <thead>\n",
       "    <tr style=\"text-align: right;\">\n",
       "      <th></th>\n",
       "      <th>host_response_time</th>\n",
       "      <th>host_response_rate</th>\n",
       "      <th>host_acceptance_rate</th>\n",
       "      <th>host_is_superhost</th>\n",
       "      <th>host_listings_count</th>\n",
       "      <th>neighbourhood_cleansed</th>\n",
       "      <th>property_type</th>\n",
       "      <th>room_type</th>\n",
       "      <th>accommodates</th>\n",
       "      <th>bathrooms</th>\n",
       "      <th>...</th>\n",
       "      <th>table corner guards</th>\n",
       "      <th>terrace</th>\n",
       "      <th>tv</th>\n",
       "      <th>walk in closet</th>\n",
       "      <th>washer</th>\n",
       "      <th>waterfront</th>\n",
       "      <th>wet bar</th>\n",
       "      <th>wifi</th>\n",
       "      <th>window guards</th>\n",
       "      <th>wine cooler</th>\n",
       "    </tr>\n",
       "  </thead>\n",
       "  <tbody>\n",
       "    <tr>\n",
       "      <th>0</th>\n",
       "      <td>4</td>\n",
       "      <td>1.0</td>\n",
       "      <td>0.99</td>\n",
       "      <td>1</td>\n",
       "      <td>1</td>\n",
       "      <td>36</td>\n",
       "      <td>3</td>\n",
       "      <td>0</td>\n",
       "      <td>3</td>\n",
       "      <td>1.0</td>\n",
       "      <td>...</td>\n",
       "      <td>0</td>\n",
       "      <td>0</td>\n",
       "      <td>1</td>\n",
       "      <td>0</td>\n",
       "      <td>1</td>\n",
       "      <td>0</td>\n",
       "      <td>0</td>\n",
       "      <td>1</td>\n",
       "      <td>0</td>\n",
       "      <td>0</td>\n",
       "    </tr>\n",
       "    <tr>\n",
       "      <th>1</th>\n",
       "      <td>2</td>\n",
       "      <td>0.6</td>\n",
       "      <td>0.83</td>\n",
       "      <td>0</td>\n",
       "      <td>2</td>\n",
       "      <td>1</td>\n",
       "      <td>3</td>\n",
       "      <td>0</td>\n",
       "      <td>5</td>\n",
       "      <td>1.0</td>\n",
       "      <td>...</td>\n",
       "      <td>0</td>\n",
       "      <td>0</td>\n",
       "      <td>0</td>\n",
       "      <td>0</td>\n",
       "      <td>1</td>\n",
       "      <td>0</td>\n",
       "      <td>0</td>\n",
       "      <td>1</td>\n",
       "      <td>0</td>\n",
       "      <td>0</td>\n",
       "    </tr>\n",
       "    <tr>\n",
       "      <th>2</th>\n",
       "      <td>3</td>\n",
       "      <td>1.0</td>\n",
       "      <td>1.00</td>\n",
       "      <td>0</td>\n",
       "      <td>10</td>\n",
       "      <td>11</td>\n",
       "      <td>19</td>\n",
       "      <td>2</td>\n",
       "      <td>2</td>\n",
       "      <td>4.0</td>\n",
       "      <td>...</td>\n",
       "      <td>0</td>\n",
       "      <td>0</td>\n",
       "      <td>1</td>\n",
       "      <td>0</td>\n",
       "      <td>1</td>\n",
       "      <td>0</td>\n",
       "      <td>0</td>\n",
       "      <td>1</td>\n",
       "      <td>0</td>\n",
       "      <td>0</td>\n",
       "    </tr>\n",
       "    <tr>\n",
       "      <th>3</th>\n",
       "      <td>3</td>\n",
       "      <td>1.0</td>\n",
       "      <td>1.00</td>\n",
       "      <td>0</td>\n",
       "      <td>10</td>\n",
       "      <td>11</td>\n",
       "      <td>19</td>\n",
       "      <td>2</td>\n",
       "      <td>2</td>\n",
       "      <td>4.0</td>\n",
       "      <td>...</td>\n",
       "      <td>0</td>\n",
       "      <td>0</td>\n",
       "      <td>1</td>\n",
       "      <td>0</td>\n",
       "      <td>1</td>\n",
       "      <td>0</td>\n",
       "      <td>0</td>\n",
       "      <td>1</td>\n",
       "      <td>0</td>\n",
       "      <td>0</td>\n",
       "    </tr>\n",
       "    <tr>\n",
       "      <th>5</th>\n",
       "      <td>4</td>\n",
       "      <td>1.0</td>\n",
       "      <td>0.96</td>\n",
       "      <td>1</td>\n",
       "      <td>2</td>\n",
       "      <td>16</td>\n",
       "      <td>24</td>\n",
       "      <td>2</td>\n",
       "      <td>3</td>\n",
       "      <td>1.0</td>\n",
       "      <td>...</td>\n",
       "      <td>0</td>\n",
       "      <td>0</td>\n",
       "      <td>1</td>\n",
       "      <td>0</td>\n",
       "      <td>1</td>\n",
       "      <td>0</td>\n",
       "      <td>0</td>\n",
       "      <td>1</td>\n",
       "      <td>0</td>\n",
       "      <td>0</td>\n",
       "    </tr>\n",
       "  </tbody>\n",
       "</table>\n",
       "<p>5 rows × 129 columns</p>\n",
       "</div>"
      ],
      "text/plain": [
       "   host_response_time  host_response_rate  host_acceptance_rate  \\\n",
       "0                   4                 1.0                  0.99   \n",
       "1                   2                 0.6                  0.83   \n",
       "2                   3                 1.0                  1.00   \n",
       "3                   3                 1.0                  1.00   \n",
       "5                   4                 1.0                  0.96   \n",
       "\n",
       "   host_is_superhost  host_listings_count  neighbourhood_cleansed  \\\n",
       "0                  1                    1                      36   \n",
       "1                  0                    2                       1   \n",
       "2                  0                   10                      11   \n",
       "3                  0                   10                      11   \n",
       "5                  1                    2                      16   \n",
       "\n",
       "   property_type  room_type  accommodates  bathrooms  ...  \\\n",
       "0              3          0             3        1.0  ...   \n",
       "1              3          0             5        1.0  ...   \n",
       "2             19          2             2        4.0  ...   \n",
       "3             19          2             2        4.0  ...   \n",
       "5             24          2             3        1.0  ...   \n",
       "\n",
       "   table corner guards  terrace  tv  walk in closet  washer  waterfront  \\\n",
       "0                    0        0   1               0       1           0   \n",
       "1                    0        0   0               0       1           0   \n",
       "2                    0        0   1               0       1           0   \n",
       "3                    0        0   1               0       1           0   \n",
       "5                    0        0   1               0       1           0   \n",
       "\n",
       "   wet bar  wifi  window guards  wine cooler  \n",
       "0        0     1              0            0  \n",
       "1        0     1              0            0  \n",
       "2        0     1              0            0  \n",
       "3        0     1              0            0  \n",
       "5        0     1              0            0  \n",
       "\n",
       "[5 rows x 129 columns]"
      ]
     },
     "execution_count": 25,
     "metadata": {},
     "output_type": "execute_result"
    }
   ],
   "source": [
    "listings_new = pd.concat([new_SF_df_wo_amenity_df, df_amenities], axis=1, join='inner')\n",
    "listings_new.head()"
   ]
  },
  {
   "cell_type": "code",
   "execution_count": 26,
   "metadata": {
    "ExecuteTime": {
     "end_time": "2020-10-25T19:41:06.236760Z",
     "start_time": "2020-10-25T19:41:06.202846Z"
    }
   },
   "outputs": [
    {
     "name": "stdout",
     "output_type": "stream",
     "text": [
      "<class 'pandas.core.frame.DataFrame'>\n",
      "Int64Index: 6465 entries, 0 to 6847\n",
      "Columns: 129 entries, host_response_time to wine cooler\n",
      "dtypes: float64(7), int32(5), int64(117)\n",
      "memory usage: 6.3 MB\n"
     ]
    }
   ],
   "source": [
    "listings_new.info()"
   ]
  },
  {
   "cell_type": "markdown",
   "metadata": {},
   "source": [
    "## Converting bool to numeric"
   ]
  },
  {
   "cell_type": "code",
   "execution_count": 27,
   "metadata": {
    "ExecuteTime": {
     "end_time": "2020-10-25T19:41:06.334494Z",
     "start_time": "2020-10-25T19:41:06.239748Z"
    }
   },
   "outputs": [
    {
     "data": {
      "text/html": [
       "<div>\n",
       "<style scoped>\n",
       "    .dataframe tbody tr th:only-of-type {\n",
       "        vertical-align: middle;\n",
       "    }\n",
       "\n",
       "    .dataframe tbody tr th {\n",
       "        vertical-align: top;\n",
       "    }\n",
       "\n",
       "    .dataframe thead th {\n",
       "        text-align: right;\n",
       "    }\n",
       "</style>\n",
       "<table border=\"1\" class=\"dataframe\">\n",
       "  <thead>\n",
       "    <tr style=\"text-align: right;\">\n",
       "      <th></th>\n",
       "      <th>host_response_time</th>\n",
       "      <th>host_response_rate</th>\n",
       "      <th>host_acceptance_rate</th>\n",
       "      <th>host_is_superhost</th>\n",
       "      <th>host_listings_count</th>\n",
       "      <th>neighbourhood_cleansed</th>\n",
       "      <th>property_type</th>\n",
       "      <th>room_type</th>\n",
       "      <th>accommodates</th>\n",
       "      <th>bathrooms</th>\n",
       "      <th>...</th>\n",
       "      <th>table corner guards</th>\n",
       "      <th>terrace</th>\n",
       "      <th>tv</th>\n",
       "      <th>walk in closet</th>\n",
       "      <th>washer</th>\n",
       "      <th>waterfront</th>\n",
       "      <th>wet bar</th>\n",
       "      <th>wifi</th>\n",
       "      <th>window guards</th>\n",
       "      <th>wine cooler</th>\n",
       "    </tr>\n",
       "  </thead>\n",
       "  <tbody>\n",
       "    <tr>\n",
       "      <th>0</th>\n",
       "      <td>4</td>\n",
       "      <td>1.0</td>\n",
       "      <td>0.99</td>\n",
       "      <td>1</td>\n",
       "      <td>1</td>\n",
       "      <td>36</td>\n",
       "      <td>3</td>\n",
       "      <td>0</td>\n",
       "      <td>3</td>\n",
       "      <td>1.0</td>\n",
       "      <td>...</td>\n",
       "      <td>0</td>\n",
       "      <td>0</td>\n",
       "      <td>1</td>\n",
       "      <td>0</td>\n",
       "      <td>1</td>\n",
       "      <td>0</td>\n",
       "      <td>0</td>\n",
       "      <td>1</td>\n",
       "      <td>0</td>\n",
       "      <td>0</td>\n",
       "    </tr>\n",
       "    <tr>\n",
       "      <th>1</th>\n",
       "      <td>2</td>\n",
       "      <td>0.6</td>\n",
       "      <td>0.83</td>\n",
       "      <td>0</td>\n",
       "      <td>2</td>\n",
       "      <td>1</td>\n",
       "      <td>3</td>\n",
       "      <td>0</td>\n",
       "      <td>5</td>\n",
       "      <td>1.0</td>\n",
       "      <td>...</td>\n",
       "      <td>0</td>\n",
       "      <td>0</td>\n",
       "      <td>0</td>\n",
       "      <td>0</td>\n",
       "      <td>1</td>\n",
       "      <td>0</td>\n",
       "      <td>0</td>\n",
       "      <td>1</td>\n",
       "      <td>0</td>\n",
       "      <td>0</td>\n",
       "    </tr>\n",
       "    <tr>\n",
       "      <th>2</th>\n",
       "      <td>3</td>\n",
       "      <td>1.0</td>\n",
       "      <td>1.00</td>\n",
       "      <td>0</td>\n",
       "      <td>10</td>\n",
       "      <td>11</td>\n",
       "      <td>19</td>\n",
       "      <td>2</td>\n",
       "      <td>2</td>\n",
       "      <td>4.0</td>\n",
       "      <td>...</td>\n",
       "      <td>0</td>\n",
       "      <td>0</td>\n",
       "      <td>1</td>\n",
       "      <td>0</td>\n",
       "      <td>1</td>\n",
       "      <td>0</td>\n",
       "      <td>0</td>\n",
       "      <td>1</td>\n",
       "      <td>0</td>\n",
       "      <td>0</td>\n",
       "    </tr>\n",
       "    <tr>\n",
       "      <th>3</th>\n",
       "      <td>3</td>\n",
       "      <td>1.0</td>\n",
       "      <td>1.00</td>\n",
       "      <td>0</td>\n",
       "      <td>10</td>\n",
       "      <td>11</td>\n",
       "      <td>19</td>\n",
       "      <td>2</td>\n",
       "      <td>2</td>\n",
       "      <td>4.0</td>\n",
       "      <td>...</td>\n",
       "      <td>0</td>\n",
       "      <td>0</td>\n",
       "      <td>1</td>\n",
       "      <td>0</td>\n",
       "      <td>1</td>\n",
       "      <td>0</td>\n",
       "      <td>0</td>\n",
       "      <td>1</td>\n",
       "      <td>0</td>\n",
       "      <td>0</td>\n",
       "    </tr>\n",
       "    <tr>\n",
       "      <th>5</th>\n",
       "      <td>4</td>\n",
       "      <td>1.0</td>\n",
       "      <td>0.96</td>\n",
       "      <td>1</td>\n",
       "      <td>2</td>\n",
       "      <td>16</td>\n",
       "      <td>24</td>\n",
       "      <td>2</td>\n",
       "      <td>3</td>\n",
       "      <td>1.0</td>\n",
       "      <td>...</td>\n",
       "      <td>0</td>\n",
       "      <td>0</td>\n",
       "      <td>1</td>\n",
       "      <td>0</td>\n",
       "      <td>1</td>\n",
       "      <td>0</td>\n",
       "      <td>0</td>\n",
       "      <td>1</td>\n",
       "      <td>0</td>\n",
       "      <td>0</td>\n",
       "    </tr>\n",
       "  </tbody>\n",
       "</table>\n",
       "<p>5 rows × 129 columns</p>\n",
       "</div>"
      ],
      "text/plain": [
       "   host_response_time  host_response_rate  host_acceptance_rate  \\\n",
       "0                   4                 1.0                  0.99   \n",
       "1                   2                 0.6                  0.83   \n",
       "2                   3                 1.0                  1.00   \n",
       "3                   3                 1.0                  1.00   \n",
       "5                   4                 1.0                  0.96   \n",
       "\n",
       "   host_is_superhost  host_listings_count  neighbourhood_cleansed  \\\n",
       "0                  1                    1                      36   \n",
       "1                  0                    2                       1   \n",
       "2                  0                   10                      11   \n",
       "3                  0                   10                      11   \n",
       "5                  1                    2                      16   \n",
       "\n",
       "   property_type  room_type  accommodates  bathrooms  ...  \\\n",
       "0              3          0             3        1.0  ...   \n",
       "1              3          0             5        1.0  ...   \n",
       "2             19          2             2        4.0  ...   \n",
       "3             19          2             2        4.0  ...   \n",
       "5             24          2             3        1.0  ...   \n",
       "\n",
       "   table corner guards  terrace  tv  walk in closet  washer  waterfront  \\\n",
       "0                    0        0   1               0       1           0   \n",
       "1                    0        0   0               0       1           0   \n",
       "2                    0        0   1               0       1           0   \n",
       "3                    0        0   1               0       1           0   \n",
       "5                    0        0   1               0       1           0   \n",
       "\n",
       "   wet bar  wifi  window guards  wine cooler  \n",
       "0        0     1              0            0  \n",
       "1        0     1              0            0  \n",
       "2        0     1              0            0  \n",
       "3        0     1              0            0  \n",
       "5        0     1              0            0  \n",
       "\n",
       "[5 rows x 129 columns]"
      ]
     },
     "execution_count": 27,
     "metadata": {},
     "output_type": "execute_result"
    }
   ],
   "source": [
    "listings_new.to_pickle('listings_for_analysis_with_labelencoder_corr_pvalue_log.pkl')\n",
    "\n",
    "\n",
    "pickle_listings_new_df = pd.read_pickle('listings_for_analysis_with_labelencoder_corr_pvalue_log.pkl')\n",
    "pickle_listings_new_df.head(5)"
   ]
  },
  {
   "cell_type": "markdown",
   "metadata": {
    "ExecuteTime": {
     "end_time": "2020-09-25T21:26:48.820835Z",
     "start_time": "2020-09-25T21:26:48.816846Z"
    }
   },
   "source": [
    "# Train/Test split"
   ]
  },
  {
   "cell_type": "code",
   "execution_count": 28,
   "metadata": {
    "ExecuteTime": {
     "end_time": "2020-10-25T19:41:06.426249Z",
     "start_time": "2020-10-25T19:41:06.336489Z"
    }
   },
   "outputs": [],
   "source": [
    "from sklearn.model_selection import train_test_split\n",
    "y = listings_new['price_log'] # target/dependent variable\n",
    "x = listings_new.drop(['price','price_log'], axis =1) # independent variables\n",
    "\n",
    "X_train, X_test, y_train, y_test = train_test_split(x, y, test_size = 0.25, random_state=1)"
   ]
  },
  {
   "cell_type": "markdown",
   "metadata": {
    "ExecuteTime": {
     "end_time": "2020-09-25T21:26:48.820835Z",
     "start_time": "2020-09-25T21:26:48.816846Z"
    }
   },
   "source": [
    "# Random Forest"
   ]
  },
  {
   "cell_type": "markdown",
   "metadata": {
    "ExecuteTime": {
     "end_time": "2020-09-25T21:26:48.820835Z",
     "start_time": "2020-09-25T21:26:48.816846Z"
    }
   },
   "source": [
    "## Train/Test w Random Forest Algorithm"
   ]
  },
  {
   "cell_type": "code",
   "execution_count": 29,
   "metadata": {
    "ExecuteTime": {
     "end_time": "2020-10-25T19:41:29.400825Z",
     "start_time": "2020-10-25T19:41:06.429241Z"
    }
   },
   "outputs": [
    {
     "name": "stdout",
     "output_type": "stream",
     "text": [
      "RMSE test: 0.389\n",
      "R^2 test: 0.615\n"
     ]
    }
   ],
   "source": [
    "from sklearn.metrics import r2_score\n",
    "from sklearn.metrics import mean_squared_error\n",
    "from sklearn.ensemble import RandomForestRegressor\n",
    "\n",
    "\n",
    "rf = RandomForestRegressor(n_estimators=500, \n",
    "                               criterion='mse', \n",
    "                               random_state=3, \n",
    "                               n_jobs=-1)\n",
    "rf.fit(X_train, y_train)\n",
    "y_train_pred = rf.predict(X_train)\n",
    "y_test_pred = rf.predict(X_test)\n",
    "rmse_rf= (mean_squared_error(y_test,y_test_pred))**(1/2)\n",
    "\n",
    "print('RMSE test: %.3f' % rmse_rf)\n",
    "print('R^2 test: %.3f' % (r2_score(y_test, y_test_pred)))"
   ]
  },
  {
   "cell_type": "markdown",
   "metadata": {
    "ExecuteTime": {
     "end_time": "2020-09-25T21:26:48.820835Z",
     "start_time": "2020-09-25T21:26:48.816846Z"
    }
   },
   "source": [
    "## Feature Importance of Random Forest Algorithm"
   ]
  },
  {
   "cell_type": "code",
   "execution_count": 30,
   "metadata": {
    "ExecuteTime": {
     "end_time": "2020-10-25T19:41:29.632207Z",
     "start_time": "2020-10-25T19:41:29.403818Z"
    },
    "scrolled": false
   },
   "outputs": [
    {
     "data": {
      "text/html": [
       "<div>\n",
       "<style scoped>\n",
       "    .dataframe tbody tr th:only-of-type {\n",
       "        vertical-align: middle;\n",
       "    }\n",
       "\n",
       "    .dataframe tbody tr th {\n",
       "        vertical-align: top;\n",
       "    }\n",
       "\n",
       "    .dataframe thead th {\n",
       "        text-align: right;\n",
       "    }\n",
       "</style>\n",
       "<table border=\"1\" class=\"dataframe\">\n",
       "  <thead>\n",
       "    <tr style=\"text-align: right;\">\n",
       "      <th></th>\n",
       "      <th>feature</th>\n",
       "      <th>coefs</th>\n",
       "    </tr>\n",
       "  </thead>\n",
       "  <tbody>\n",
       "    <tr>\n",
       "      <th>8</th>\n",
       "      <td>accommodates</td>\n",
       "      <td>0.283836</td>\n",
       "    </tr>\n",
       "    <tr>\n",
       "      <th>7</th>\n",
       "      <td>room_type</td>\n",
       "      <td>0.144681</td>\n",
       "    </tr>\n",
       "    <tr>\n",
       "      <th>6</th>\n",
       "      <td>property_type</td>\n",
       "      <td>0.083726</td>\n",
       "    </tr>\n",
       "    <tr>\n",
       "      <th>4</th>\n",
       "      <td>host_listings_count</td>\n",
       "      <td>0.062092</td>\n",
       "    </tr>\n",
       "    <tr>\n",
       "      <th>11</th>\n",
       "      <td>reviews_per_month</td>\n",
       "      <td>0.051393</td>\n",
       "    </tr>\n",
       "    <tr>\n",
       "      <th>9</th>\n",
       "      <td>bathrooms</td>\n",
       "      <td>0.044921</td>\n",
       "    </tr>\n",
       "    <tr>\n",
       "      <th>5</th>\n",
       "      <td>neighbourhood_cleansed</td>\n",
       "      <td>0.041919</td>\n",
       "    </tr>\n",
       "    <tr>\n",
       "      <th>10</th>\n",
       "      <td>review_scores_rating</td>\n",
       "      <td>0.034631</td>\n",
       "    </tr>\n",
       "    <tr>\n",
       "      <th>2</th>\n",
       "      <td>host_acceptance_rate</td>\n",
       "      <td>0.033411</td>\n",
       "    </tr>\n",
       "    <tr>\n",
       "      <th>1</th>\n",
       "      <td>host_response_rate</td>\n",
       "      <td>0.027850</td>\n",
       "    </tr>\n",
       "    <tr>\n",
       "      <th>0</th>\n",
       "      <td>host_response_time</td>\n",
       "      <td>0.012244</td>\n",
       "    </tr>\n",
       "    <tr>\n",
       "      <th>3</th>\n",
       "      <td>host_is_superhost</td>\n",
       "      <td>0.007387</td>\n",
       "    </tr>\n",
       "    <tr>\n",
       "      <th>51</th>\n",
       "      <td>first aid kit</td>\n",
       "      <td>0.004979</td>\n",
       "    </tr>\n",
       "    <tr>\n",
       "      <th>94</th>\n",
       "      <td>private entrance</td>\n",
       "      <td>0.004397</td>\n",
       "    </tr>\n",
       "    <tr>\n",
       "      <th>52</th>\n",
       "      <td>free parking on premises</td>\n",
       "      <td>0.004319</td>\n",
       "    </tr>\n",
       "    <tr>\n",
       "      <th>30</th>\n",
       "      <td>cable tv</td>\n",
       "      <td>0.004315</td>\n",
       "    </tr>\n",
       "    <tr>\n",
       "      <th>75</th>\n",
       "      <td>lock on bedroom door</td>\n",
       "      <td>0.004197</td>\n",
       "    </tr>\n",
       "    <tr>\n",
       "      <th>49</th>\n",
       "      <td>fire extinguisher</td>\n",
       "      <td>0.003926</td>\n",
       "    </tr>\n",
       "    <tr>\n",
       "      <th>119</th>\n",
       "      <td>tv</td>\n",
       "      <td>0.003761</td>\n",
       "    </tr>\n",
       "    <tr>\n",
       "      <th>53</th>\n",
       "      <td>free street parking</td>\n",
       "      <td>0.003670</td>\n",
       "    </tr>\n",
       "  </tbody>\n",
       "</table>\n",
       "</div>"
      ],
      "text/plain": [
       "                      feature     coefs\n",
       "8                accommodates  0.283836\n",
       "7                   room_type  0.144681\n",
       "6               property_type  0.083726\n",
       "4         host_listings_count  0.062092\n",
       "11          reviews_per_month  0.051393\n",
       "9                   bathrooms  0.044921\n",
       "5      neighbourhood_cleansed  0.041919\n",
       "10       review_scores_rating  0.034631\n",
       "2        host_acceptance_rate  0.033411\n",
       "1          host_response_rate  0.027850\n",
       "0          host_response_time  0.012244\n",
       "3           host_is_superhost  0.007387\n",
       "51              first aid kit  0.004979\n",
       "94           private entrance  0.004397\n",
       "52   free parking on premises  0.004319\n",
       "30                   cable tv  0.004315\n",
       "75       lock on bedroom door  0.004197\n",
       "49          fire extinguisher  0.003926\n",
       "119                        tv  0.003761\n",
       "53        free street parking  0.003670"
      ]
     },
     "execution_count": 30,
     "metadata": {},
     "output_type": "execute_result"
    }
   ],
   "source": [
    "coefs_df = pd.DataFrame()\n",
    "coefs_df['feature'] = X_train.columns\n",
    "coefs_df['coefs'] = rf.feature_importances_\n",
    "coefs_df.sort_values('coefs', ascending=False).head(20)"
   ]
  },
  {
   "cell_type": "code",
   "execution_count": 31,
   "metadata": {
    "ExecuteTime": {
     "end_time": "2020-10-25T19:41:30.350287Z",
     "start_time": "2020-10-25T19:41:29.635203Z"
    },
    "scrolled": true
   },
   "outputs": [
    {
     "data": {
      "text/plain": [
       "<matplotlib.axes._subplots.AxesSubplot at 0x2c045230128>"
      ]
     },
     "execution_count": 31,
     "metadata": {},
     "output_type": "execute_result"
    },
    {
     "data": {
      "image/png": "[encoded data removed]",
      "text/plain": [
       "<Figure size 720x432 with 1 Axes>"
      ]
     },
     "metadata": {},
     "output_type": "display_data"
    }
   ],
   "source": [
    "feat_imp = pd.Series(rf.feature_importances_, index=X_train.columns)\n",
    "feat_imp.nlargest(20).plot(kind='barh', figsize=(10,6))"
   ]
  },
  {
   "cell_type": "markdown",
   "metadata": {
    "ExecuteTime": {
     "end_time": "2020-09-25T21:26:48.820835Z",
     "start_time": "2020-09-25T21:26:48.816846Z"
    }
   },
   "source": [
    "# LightGBM"
   ]
  },
  {
   "cell_type": "markdown",
   "metadata": {
    "ExecuteTime": {
     "end_time": "2020-09-25T21:26:48.820835Z",
     "start_time": "2020-09-25T21:26:48.816846Z"
    }
   },
   "source": [
    "## Train/Test w LightGBM"
   ]
  },
  {
   "cell_type": "code",
   "execution_count": 32,
   "metadata": {
    "ExecuteTime": {
     "end_time": "2020-10-25T19:41:33.152318Z",
     "start_time": "2020-10-25T19:41:30.353280Z"
    }
   },
   "outputs": [
    {
     "name": "stdout",
     "output_type": "stream",
     "text": [
      "Training until validation scores don't improve for 20 rounds\n",
      "[100]\tvalid's rmse: 0.446599\n",
      "[200]\tvalid's rmse: 0.403863\n",
      "[300]\tvalid's rmse: 0.390064\n",
      "[400]\tvalid's rmse: 0.38173\n",
      "[500]\tvalid's rmse: 0.37701\n",
      "[600]\tvalid's rmse: 0.374157\n",
      "[700]\tvalid's rmse: 0.372267\n",
      "[800]\tvalid's rmse: 0.370839\n",
      "[900]\tvalid's rmse: 0.370238\n",
      "Early stopping, best iteration is:\n",
      "[930]\tvalid's rmse: 0.370105\n",
      "R^2 test: 0.650\n"
     ]
    }
   ],
   "source": [
    "from lightgbm import LGBMRegressor\n",
    "\n",
    "\n",
    "fit_params={\n",
    "    \"early_stopping_rounds\":20, \n",
    "            \"eval_metric\" : 'rmse', \n",
    "            \"eval_set\" : [(X_test,y_test)],\n",
    "            'eval_names': ['valid'],\n",
    "            'verbose': 100,\n",
    "            'feature_name': 'auto', \n",
    "            'categorical_feature': 'auto'\n",
    "           }\n",
    "        \n",
    "class LGBMRegressor_GainFE(LGBMRegressor):\n",
    "    @property\n",
    "    def feature_importances_(self):\n",
    "        if self._n_features is None:\n",
    "            raise LGBMNotFittedError('No feature_importances found. Need to call fit beforehand.')\n",
    "        return self.booster_.feature_importance(importance_type='gain')\n",
    "        \n",
    "clf = LGBMRegressor_GainFE(num_leaves= 25, max_depth=20, \n",
    "                         random_state=0, \n",
    "                         silent=True, \n",
    "                         metric='rmse', \n",
    "                         n_jobs=4, \n",
    "                         n_estimators=1000,\n",
    "                         colsample_bytree=0.9,\n",
    "                         subsample=0.9,\n",
    "                         learning_rate=0.01)\n",
    "clf.fit(X_train.values, y_train.values, **fit_params)\n",
    "y_pred = clf.predict(X_test.values)\n",
    "print('R^2 test: %.3f' % (r2_score(y_test, y_pred)))"
   ]
  },
  {
   "cell_type": "markdown",
   "metadata": {
    "ExecuteTime": {
     "end_time": "2020-09-25T21:26:48.820835Z",
     "start_time": "2020-09-25T21:26:48.816846Z"
    }
   },
   "source": [
    "## Feature Importance of LightGBM"
   ]
  },
  {
   "cell_type": "code",
   "execution_count": 33,
   "metadata": {
    "ExecuteTime": {
     "end_time": "2020-10-25T19:41:33.806568Z",
     "start_time": "2020-10-25T19:41:33.155309Z"
    }
   },
   "outputs": [
    {
     "data": {
      "text/plain": [
       "<matplotlib.axes._subplots.AxesSubplot at 0x2c0452ec8d0>"
      ]
     },
     "execution_count": 33,
     "metadata": {},
     "output_type": "execute_result"
    },
    {
     "data": {
      "image/png": "[encoded data removed]",
      "text/plain": [
       "<Figure size 720x432 with 1 Axes>"
      ]
     },
     "metadata": {},
     "output_type": "display_data"
    }
   ],
   "source": [
    "feat_imp = pd.Series(clf.feature_importances_, index=x.columns)\n",
    "feat_imp.nlargest(20).plot(kind='barh', figsize=(10,6))"
   ]
  },
  {
   "cell_type": "code",
   "execution_count": 34,
   "metadata": {
    "ExecuteTime": {
     "end_time": "2020-10-25T19:41:33.832498Z",
     "start_time": "2020-10-25T19:41:33.808563Z"
    },
    "scrolled": true
   },
   "outputs": [
    {
     "data": {
      "text/html": [
       "<div>\n",
       "<style scoped>\n",
       "    .dataframe tbody tr th:only-of-type {\n",
       "        vertical-align: middle;\n",
       "    }\n",
       "\n",
       "    .dataframe tbody tr th {\n",
       "        vertical-align: top;\n",
       "    }\n",
       "\n",
       "    .dataframe thead th {\n",
       "        text-align: right;\n",
       "    }\n",
       "</style>\n",
       "<table border=\"1\" class=\"dataframe\">\n",
       "  <thead>\n",
       "    <tr style=\"text-align: right;\">\n",
       "      <th></th>\n",
       "      <th>feature</th>\n",
       "      <th>coefs</th>\n",
       "    </tr>\n",
       "  </thead>\n",
       "  <tbody>\n",
       "    <tr>\n",
       "      <th>8</th>\n",
       "      <td>accommodates</td>\n",
       "      <td>27649.148494</td>\n",
       "    </tr>\n",
       "    <tr>\n",
       "      <th>6</th>\n",
       "      <td>property_type</td>\n",
       "      <td>11081.677700</td>\n",
       "    </tr>\n",
       "    <tr>\n",
       "      <th>7</th>\n",
       "      <td>room_type</td>\n",
       "      <td>10795.167436</td>\n",
       "    </tr>\n",
       "    <tr>\n",
       "      <th>4</th>\n",
       "      <td>host_listings_count</td>\n",
       "      <td>5965.722903</td>\n",
       "    </tr>\n",
       "    <tr>\n",
       "      <th>9</th>\n",
       "      <td>bathrooms</td>\n",
       "      <td>4505.379628</td>\n",
       "    </tr>\n",
       "    <tr>\n",
       "      <th>5</th>\n",
       "      <td>neighbourhood_cleansed</td>\n",
       "      <td>4222.425359</td>\n",
       "    </tr>\n",
       "    <tr>\n",
       "      <th>11</th>\n",
       "      <td>reviews_per_month</td>\n",
       "      <td>2834.182622</td>\n",
       "    </tr>\n",
       "    <tr>\n",
       "      <th>10</th>\n",
       "      <td>review_scores_rating</td>\n",
       "      <td>2404.680470</td>\n",
       "    </tr>\n",
       "    <tr>\n",
       "      <th>1</th>\n",
       "      <td>host_response_rate</td>\n",
       "      <td>2373.347881</td>\n",
       "    </tr>\n",
       "    <tr>\n",
       "      <th>2</th>\n",
       "      <td>host_acceptance_rate</td>\n",
       "      <td>2372.200395</td>\n",
       "    </tr>\n",
       "    <tr>\n",
       "      <th>0</th>\n",
       "      <td>host_response_time</td>\n",
       "      <td>1138.192962</td>\n",
       "    </tr>\n",
       "    <tr>\n",
       "      <th>3</th>\n",
       "      <td>host_is_superhost</td>\n",
       "      <td>590.806663</td>\n",
       "    </tr>\n",
       "    <tr>\n",
       "      <th>94</th>\n",
       "      <td>private entrance</td>\n",
       "      <td>195.541406</td>\n",
       "    </tr>\n",
       "    <tr>\n",
       "      <th>53</th>\n",
       "      <td>free street parking</td>\n",
       "      <td>173.344903</td>\n",
       "    </tr>\n",
       "    <tr>\n",
       "      <th>51</th>\n",
       "      <td>first aid kit</td>\n",
       "      <td>147.846641</td>\n",
       "    </tr>\n",
       "    <tr>\n",
       "      <th>41</th>\n",
       "      <td>dishwasher</td>\n",
       "      <td>132.192149</td>\n",
       "    </tr>\n",
       "    <tr>\n",
       "      <th>75</th>\n",
       "      <td>lock on bedroom door</td>\n",
       "      <td>102.557268</td>\n",
       "    </tr>\n",
       "    <tr>\n",
       "      <th>56</th>\n",
       "      <td>garden or backyard</td>\n",
       "      <td>102.138114</td>\n",
       "    </tr>\n",
       "    <tr>\n",
       "      <th>30</th>\n",
       "      <td>cable tv</td>\n",
       "      <td>92.386933</td>\n",
       "    </tr>\n",
       "    <tr>\n",
       "      <th>78</th>\n",
       "      <td>luggage dropoff allowed</td>\n",
       "      <td>85.030716</td>\n",
       "    </tr>\n",
       "  </tbody>\n",
       "</table>\n",
       "</div>"
      ],
      "text/plain": [
       "                    feature         coefs\n",
       "8              accommodates  27649.148494\n",
       "6             property_type  11081.677700\n",
       "7                 room_type  10795.167436\n",
       "4       host_listings_count   5965.722903\n",
       "9                 bathrooms   4505.379628\n",
       "5    neighbourhood_cleansed   4222.425359\n",
       "11        reviews_per_month   2834.182622\n",
       "10     review_scores_rating   2404.680470\n",
       "1        host_response_rate   2373.347881\n",
       "2      host_acceptance_rate   2372.200395\n",
       "0        host_response_time   1138.192962\n",
       "3         host_is_superhost    590.806663\n",
       "94         private entrance    195.541406\n",
       "53      free street parking    173.344903\n",
       "51            first aid kit    147.846641\n",
       "41               dishwasher    132.192149\n",
       "75     lock on bedroom door    102.557268\n",
       "56       garden or backyard    102.138114\n",
       "30                 cable tv     92.386933\n",
       "78  luggage dropoff allowed     85.030716"
      ]
     },
     "execution_count": 34,
     "metadata": {},
     "output_type": "execute_result"
    }
   ],
   "source": [
    "coefs_df = pd.DataFrame()\n",
    "coefs_df['feature'] = x.columns\n",
    "coefs_df['coefs'] = clf.feature_importances_\n",
    "coefs_df.sort_values('coefs', ascending=False).head(20)"
   ]
  },
  {
   "cell_type": "markdown",
   "metadata": {},
   "source": [
    "# Gradient Boosting"
   ]
  },
  {
   "cell_type": "markdown",
   "metadata": {
    "ExecuteTime": {
     "end_time": "2020-09-25T21:26:48.820835Z",
     "start_time": "2020-09-25T21:26:48.816846Z"
    }
   },
   "source": [
    "## Train/Test w Gradient Boosting"
   ]
  },
  {
   "cell_type": "code",
   "execution_count": 35,
   "metadata": {
    "ExecuteTime": {
     "end_time": "2020-10-25T19:41:44.633621Z",
     "start_time": "2020-10-25T19:41:33.835490Z"
    }
   },
   "outputs": [
    {
     "name": "stdout",
     "output_type": "stream",
     "text": [
      "RMSE test: 0.375\n",
      "R^2 test: 0.641\n"
     ]
    }
   ],
   "source": [
    "from sklearn.ensemble import GradientBoostingRegressor\n",
    "\n",
    "\n",
    "gboost = GradientBoostingRegressor(n_estimators=500, \n",
    "                               criterion='mse', \n",
    "                               random_state=3)\n",
    "gboost.fit(X_train, y_train)\n",
    "y_train_pred = gboost.predict(X_train)\n",
    "y_test_pred = gboost.predict(X_test)\n",
    "rmse_rf= (mean_squared_error(y_test,y_test_pred))**(1/2)\n",
    "\n",
    "print('RMSE test: %.3f' % rmse_rf)\n",
    "print('R^2 test: %.3f' % (r2_score(y_test, y_test_pred)))"
   ]
  },
  {
   "cell_type": "markdown",
   "metadata": {
    "ExecuteTime": {
     "end_time": "2020-09-25T21:26:48.820835Z",
     "start_time": "2020-09-25T21:26:48.816846Z"
    }
   },
   "source": [
    "## Feature Importance of Gradient Boosting"
   ]
  },
  {
   "cell_type": "code",
   "execution_count": 36,
   "metadata": {
    "ExecuteTime": {
     "end_time": "2020-10-25T19:41:44.669525Z",
     "start_time": "2020-10-25T19:41:44.636613Z"
    },
    "scrolled": false
   },
   "outputs": [
    {
     "data": {
      "text/html": [
       "<div>\n",
       "<style scoped>\n",
       "    .dataframe tbody tr th:only-of-type {\n",
       "        vertical-align: middle;\n",
       "    }\n",
       "\n",
       "    .dataframe tbody tr th {\n",
       "        vertical-align: top;\n",
       "    }\n",
       "\n",
       "    .dataframe thead th {\n",
       "        text-align: right;\n",
       "    }\n",
       "</style>\n",
       "<table border=\"1\" class=\"dataframe\">\n",
       "  <thead>\n",
       "    <tr style=\"text-align: right;\">\n",
       "      <th></th>\n",
       "      <th>feature</th>\n",
       "      <th>coefs</th>\n",
       "    </tr>\n",
       "  </thead>\n",
       "  <tbody>\n",
       "    <tr>\n",
       "      <th>8</th>\n",
       "      <td>accommodates</td>\n",
       "      <td>0.342078</td>\n",
       "    </tr>\n",
       "    <tr>\n",
       "      <th>7</th>\n",
       "      <td>room_type</td>\n",
       "      <td>0.179675</td>\n",
       "    </tr>\n",
       "    <tr>\n",
       "      <th>6</th>\n",
       "      <td>property_type</td>\n",
       "      <td>0.102987</td>\n",
       "    </tr>\n",
       "    <tr>\n",
       "      <th>4</th>\n",
       "      <td>host_listings_count</td>\n",
       "      <td>0.078210</td>\n",
       "    </tr>\n",
       "    <tr>\n",
       "      <th>9</th>\n",
       "      <td>bathrooms</td>\n",
       "      <td>0.061445</td>\n",
       "    </tr>\n",
       "    <tr>\n",
       "      <th>5</th>\n",
       "      <td>neighbourhood_cleansed</td>\n",
       "      <td>0.051171</td>\n",
       "    </tr>\n",
       "    <tr>\n",
       "      <th>11</th>\n",
       "      <td>reviews_per_month</td>\n",
       "      <td>0.034742</td>\n",
       "    </tr>\n",
       "    <tr>\n",
       "      <th>1</th>\n",
       "      <td>host_response_rate</td>\n",
       "      <td>0.032428</td>\n",
       "    </tr>\n",
       "    <tr>\n",
       "      <th>10</th>\n",
       "      <td>review_scores_rating</td>\n",
       "      <td>0.030436</td>\n",
       "    </tr>\n",
       "    <tr>\n",
       "      <th>2</th>\n",
       "      <td>host_acceptance_rate</td>\n",
       "      <td>0.024767</td>\n",
       "    </tr>\n",
       "    <tr>\n",
       "      <th>0</th>\n",
       "      <td>host_response_time</td>\n",
       "      <td>0.008909</td>\n",
       "    </tr>\n",
       "    <tr>\n",
       "      <th>3</th>\n",
       "      <td>host_is_superhost</td>\n",
       "      <td>0.006021</td>\n",
       "    </tr>\n",
       "    <tr>\n",
       "      <th>17</th>\n",
       "      <td>baking sheet</td>\n",
       "      <td>0.002316</td>\n",
       "    </tr>\n",
       "    <tr>\n",
       "      <th>104</th>\n",
       "      <td>single level home</td>\n",
       "      <td>0.002152</td>\n",
       "    </tr>\n",
       "    <tr>\n",
       "      <th>53</th>\n",
       "      <td>free street parking</td>\n",
       "      <td>0.001791</td>\n",
       "    </tr>\n",
       "    <tr>\n",
       "      <th>41</th>\n",
       "      <td>dishwasher</td>\n",
       "      <td>0.001651</td>\n",
       "    </tr>\n",
       "    <tr>\n",
       "      <th>70</th>\n",
       "      <td>keypad</td>\n",
       "      <td>0.001584</td>\n",
       "    </tr>\n",
       "    <tr>\n",
       "      <th>30</th>\n",
       "      <td>cable tv</td>\n",
       "      <td>0.001356</td>\n",
       "    </tr>\n",
       "    <tr>\n",
       "      <th>51</th>\n",
       "      <td>first aid kit</td>\n",
       "      <td>0.001296</td>\n",
       "    </tr>\n",
       "    <tr>\n",
       "      <th>94</th>\n",
       "      <td>private entrance</td>\n",
       "      <td>0.001211</td>\n",
       "    </tr>\n",
       "  </tbody>\n",
       "</table>\n",
       "</div>"
      ],
      "text/plain": [
       "                    feature     coefs\n",
       "8              accommodates  0.342078\n",
       "7                 room_type  0.179675\n",
       "6             property_type  0.102987\n",
       "4       host_listings_count  0.078210\n",
       "9                 bathrooms  0.061445\n",
       "5    neighbourhood_cleansed  0.051171\n",
       "11        reviews_per_month  0.034742\n",
       "1        host_response_rate  0.032428\n",
       "10     review_scores_rating  0.030436\n",
       "2      host_acceptance_rate  0.024767\n",
       "0        host_response_time  0.008909\n",
       "3         host_is_superhost  0.006021\n",
       "17             baking sheet  0.002316\n",
       "104       single level home  0.002152\n",
       "53      free street parking  0.001791\n",
       "41               dishwasher  0.001651\n",
       "70                   keypad  0.001584\n",
       "30                 cable tv  0.001356\n",
       "51            first aid kit  0.001296\n",
       "94         private entrance  0.001211"
      ]
     },
     "execution_count": 36,
     "metadata": {},
     "output_type": "execute_result"
    }
   ],
   "source": [
    "coefs_df = pd.DataFrame()\n",
    "coefs_df['feature'] = X_train.columns\n",
    "coefs_df['coefs'] = gboost.feature_importances_\n",
    "coefs_df.sort_values('coefs', ascending=False).head(20)"
   ]
  },
  {
   "cell_type": "code",
   "execution_count": 37,
   "metadata": {
    "ExecuteTime": {
     "end_time": "2020-10-25T19:41:45.333749Z",
     "start_time": "2020-10-25T19:41:44.672518Z"
    },
    "scrolled": true
   },
   "outputs": [
    {
     "data": {
      "text/plain": [
       "<matplotlib.axes._subplots.AxesSubplot at 0x2c041492fd0>"
      ]
     },
     "execution_count": 37,
     "metadata": {},
     "output_type": "execute_result"
    },
    {
     "data": {
      "image/png": "[encoded data removed]",
      "text/plain": [
       "<Figure size 720x432 with 1 Axes>"
      ]
     },
     "metadata": {},
     "output_type": "display_data"
    }
   ],
   "source": [
    "feat_imp = pd.Series(gboost.feature_importances_, index=X_train.columns)\n",
    "feat_imp.nlargest(20).plot(kind='barh', figsize=(10,6))"
   ]
  },
  {
   "cell_type": "markdown",
   "metadata": {},
   "source": [
    "# XGBoost and its Feature Importance"
   ]
  },
  {
   "cell_type": "code",
   "execution_count": 38,
   "metadata": {
    "ExecuteTime": {
     "end_time": "2020-10-25T19:41:49.891563Z",
     "start_time": "2020-10-25T19:41:45.336743Z"
    },
    "scrolled": true
   },
   "outputs": [
    {
     "name": "stdout",
     "output_type": "stream",
     "text": [
      "\n",
      "Training MSE: 0.0249\n",
      "Validation MSE: 0.1509\n",
      "Validation RMSE: 0.3884\n",
      "\n",
      "Training r2: 0.9396\n",
      "Validation r2: 0.6149\n"
     ]
    },
    {
     "data": {
      "image/png": "[encoded data removed]",
      "text/plain": [
       "<Figure size 576x1440 with 1 Axes>"
      ]
     },
     "metadata": {},
     "output_type": "display_data"
    }
   ],
   "source": [
    "import xgboost as xgb\n",
    "\n",
    "# Fitting the model\n",
    "xgb_reg = xgb.XGBRegressor()\n",
    "xgb_reg.fit(X_train, y_train)\n",
    "training_preds_xgb_reg = xgb_reg.predict(X_train)\n",
    "val_preds_xgb_reg = xgb_reg.predict(X_test)\n",
    "\n",
    "# Printing the results\n",
    "\n",
    "print(\"\\nTraining MSE:\", round(mean_squared_error(y_train, training_preds_xgb_reg),4))\n",
    "print(\"Validation MSE:\", round(mean_squared_error(y_test, val_preds_xgb_reg),4))\n",
    "print(\"Validation RMSE:\", round(mean_squared_error(y_test, val_preds_xgb_reg)**0.5,4))\n",
    "print(\"\\nTraining r2:\", round(r2_score(y_train, training_preds_xgb_reg),4))\n",
    "print(\"Validation r2:\", round(r2_score(y_test, val_preds_xgb_reg),4))\n",
    "\n",
    "# Producing a dataframe of feature importances\n",
    "ft_weights_xgb_reg = pd.DataFrame(xgb_reg.feature_importances_, columns=['weight'], index=X_train.columns)\n",
    "ft_weights_xgb_reg.sort_values('weight', inplace=True)\n",
    "\n",
    "# Plotting feature importances\n",
    "plt.figure(figsize=(8,20))\n",
    "plt.barh(ft_weights_xgb_reg.index, ft_weights_xgb_reg.weight, align='center') \n",
    "plt.title(\"Feature importances in the XGBoost model\", fontsize=14)\n",
    "plt.xlabel(\"Feature importance\")\n",
    "plt.margins(y=0.01)\n",
    "plt.show()"
   ]
  },
  {
   "cell_type": "markdown",
   "metadata": {},
   "source": [
    "# Neural Network Model"
   ]
  },
  {
   "cell_type": "code",
   "execution_count": 39,
   "metadata": {
    "ExecuteTime": {
     "end_time": "2020-10-25T19:42:12.593549Z",
     "start_time": "2020-10-25T19:41:49.893558Z"
    }
   },
   "outputs": [
    {
     "name": "stdout",
     "output_type": "stream",
     "text": [
      "Model: \"sequential\"\n",
      "_________________________________________________________________\n",
      "Layer (type)                 Output Shape              Param #   \n",
      "=================================================================\n",
      "dense (Dense)                (None, 128)               16384     \n",
      "_________________________________________________________________\n",
      "dense_1 (Dense)              (None, 256)               33024     \n",
      "_________________________________________________________________\n",
      "dense_2 (Dense)              (None, 256)               65792     \n",
      "_________________________________________________________________\n",
      "dense_3 (Dense)              (None, 512)               131584    \n",
      "_________________________________________________________________\n",
      "dense_4 (Dense)              (None, 1)                 513       \n",
      "=================================================================\n",
      "Total params: 247,297\n",
      "Trainable params: 247,297\n",
      "Non-trainable params: 0\n",
      "_________________________________________________________________\n",
      "None\n",
      "Epoch 1/100\n",
      "18/18 [==============================] - 0s 26ms/step - loss: 100.8086 - mean_squared_error: 100.8086 - val_loss: 2.3117 - val_mean_squared_error: 2.3117\n",
      "Epoch 2/100\n",
      "18/18 [==============================] - 0s 7ms/step - loss: 1.4615 - mean_squared_error: 1.4615 - val_loss: 0.8735 - val_mean_squared_error: 0.8735\n",
      "Epoch 3/100\n",
      "18/18 [==============================] - 0s 8ms/step - loss: 0.8848 - mean_squared_error: 0.8848 - val_loss: 1.0142 - val_mean_squared_error: 1.0142\n",
      "Epoch 4/100\n",
      "18/18 [==============================] - 0s 7ms/step - loss: 0.6793 - mean_squared_error: 0.6793 - val_loss: 0.5728 - val_mean_squared_error: 0.5728\n",
      "Epoch 5/100\n",
      "18/18 [==============================] - 0s 8ms/step - loss: 0.5633 - mean_squared_error: 0.5633 - val_loss: 0.4450 - val_mean_squared_error: 0.4450\n",
      "Epoch 6/100\n",
      "18/18 [==============================] - 0s 7ms/step - loss: 0.5814 - mean_squared_error: 0.5814 - val_loss: 0.5618 - val_mean_squared_error: 0.5618\n",
      "Epoch 7/100\n",
      "18/18 [==============================] - 0s 7ms/step - loss: 0.4578 - mean_squared_error: 0.4578 - val_loss: 0.8781 - val_mean_squared_error: 0.8781\n",
      "Epoch 8/100\n",
      "18/18 [==============================] - 0s 7ms/step - loss: 0.5834 - mean_squared_error: 0.5834 - val_loss: 0.3544 - val_mean_squared_error: 0.3544\n",
      "Epoch 9/100\n",
      "18/18 [==============================] - 0s 8ms/step - loss: 0.3880 - mean_squared_error: 0.3880 - val_loss: 0.3864 - val_mean_squared_error: 0.3864\n",
      "Epoch 10/100\n",
      "18/18 [==============================] - 0s 7ms/step - loss: 0.3572 - mean_squared_error: 0.3572 - val_loss: 0.3424 - val_mean_squared_error: 0.3424\n",
      "Epoch 11/100\n",
      "18/18 [==============================] - 0s 7ms/step - loss: 0.3292 - mean_squared_error: 0.3292 - val_loss: 0.3216 - val_mean_squared_error: 0.3216\n",
      "Epoch 12/100\n",
      "18/18 [==============================] - 0s 7ms/step - loss: 0.3147 - mean_squared_error: 0.3147 - val_loss: 0.8111 - val_mean_squared_error: 0.8111\n",
      "Epoch 13/100\n",
      "18/18 [==============================] - 0s 8ms/step - loss: 0.5312 - mean_squared_error: 0.5312 - val_loss: 0.3207 - val_mean_squared_error: 0.3207\n",
      "Epoch 14/100\n",
      "18/18 [==============================] - 0s 8ms/step - loss: 0.3611 - mean_squared_error: 0.3611 - val_loss: 0.5007 - val_mean_squared_error: 0.5007\n",
      "Epoch 15/100\n",
      "18/18 [==============================] - 0s 7ms/step - loss: 0.3700 - mean_squared_error: 0.3700 - val_loss: 0.4802 - val_mean_squared_error: 0.4802\n",
      "Epoch 16/100\n",
      "18/18 [==============================] - 0s 7ms/step - loss: 0.4439 - mean_squared_error: 0.4439 - val_loss: 0.3943 - val_mean_squared_error: 0.3943\n",
      "Epoch 17/100\n",
      "18/18 [==============================] - 0s 7ms/step - loss: 0.3197 - mean_squared_error: 0.3197 - val_loss: 0.3355 - val_mean_squared_error: 0.3355\n",
      "Epoch 18/100\n",
      "18/18 [==============================] - 0s 7ms/step - loss: 0.3089 - mean_squared_error: 0.3089 - val_loss: 0.2989 - val_mean_squared_error: 0.2989\n",
      "Epoch 19/100\n",
      "18/18 [==============================] - 0s 7ms/step - loss: 0.2928 - mean_squared_error: 0.2928 - val_loss: 0.2994 - val_mean_squared_error: 0.2994\n",
      "Epoch 20/100\n",
      "18/18 [==============================] - 0s 8ms/step - loss: 0.2816 - mean_squared_error: 0.2816 - val_loss: 0.5128 - val_mean_squared_error: 0.5128\n",
      "Epoch 21/100\n",
      "18/18 [==============================] - 0s 7ms/step - loss: 0.3207 - mean_squared_error: 0.3207 - val_loss: 0.2903 - val_mean_squared_error: 0.2903\n",
      "Epoch 22/100\n",
      "18/18 [==============================] - 0s 7ms/step - loss: 0.2826 - mean_squared_error: 0.2826 - val_loss: 0.2753 - val_mean_squared_error: 0.2753\n",
      "Epoch 23/100\n",
      "18/18 [==============================] - 0s 8ms/step - loss: 0.2562 - mean_squared_error: 0.2562 - val_loss: 0.2985 - val_mean_squared_error: 0.2985\n",
      "Epoch 24/100\n",
      "18/18 [==============================] - 0s 7ms/step - loss: 0.2919 - mean_squared_error: 0.2919 - val_loss: 0.3503 - val_mean_squared_error: 0.3503\n",
      "Epoch 25/100\n",
      "18/18 [==============================] - 0s 7ms/step - loss: 0.2837 - mean_squared_error: 0.2837 - val_loss: 0.2948 - val_mean_squared_error: 0.2948\n",
      "Epoch 26/100\n",
      "18/18 [==============================] - 0s 8ms/step - loss: 0.2440 - mean_squared_error: 0.2440 - val_loss: 0.2830 - val_mean_squared_error: 0.2830\n",
      "Epoch 27/100\n",
      "18/18 [==============================] - 0s 9ms/step - loss: 0.2769 - mean_squared_error: 0.2769 - val_loss: 0.2487 - val_mean_squared_error: 0.2487\n",
      "Epoch 28/100\n",
      "18/18 [==============================] - 0s 8ms/step - loss: 0.2528 - mean_squared_error: 0.2528 - val_loss: 0.3693 - val_mean_squared_error: 0.3693\n",
      "Epoch 29/100\n",
      "18/18 [==============================] - 0s 8ms/step - loss: 0.2612 - mean_squared_error: 0.2612 - val_loss: 0.2624 - val_mean_squared_error: 0.2624\n",
      "Epoch 30/100\n",
      "18/18 [==============================] - 0s 8ms/step - loss: 0.2292 - mean_squared_error: 0.2292 - val_loss: 0.2564 - val_mean_squared_error: 0.2564\n",
      "Epoch 31/100\n",
      "18/18 [==============================] - 0s 9ms/step - loss: 0.2329 - mean_squared_error: 0.2329 - val_loss: 0.3007 - val_mean_squared_error: 0.3007\n",
      "Epoch 32/100\n",
      "18/18 [==============================] - 0s 10ms/step - loss: 0.2575 - mean_squared_error: 0.2575 - val_loss: 0.2572 - val_mean_squared_error: 0.2572\n",
      "Epoch 33/100\n",
      "18/18 [==============================] - 0s 9ms/step - loss: 0.2526 - mean_squared_error: 0.2526 - val_loss: 0.2909 - val_mean_squared_error: 0.2909\n",
      "Epoch 34/100\n",
      "18/18 [==============================] - 0s 9ms/step - loss: 0.2344 - mean_squared_error: 0.2344 - val_loss: 0.2944 - val_mean_squared_error: 0.2944\n",
      "Epoch 35/100\n",
      "18/18 [==============================] - 0s 8ms/step - loss: 0.2361 - mean_squared_error: 0.2361 - val_loss: 0.3224 - val_mean_squared_error: 0.3224\n",
      "Epoch 36/100\n",
      "18/18 [==============================] - 0s 9ms/step - loss: 0.2482 - mean_squared_error: 0.2482 - val_loss: 0.2549 - val_mean_squared_error: 0.2549\n",
      "Epoch 37/100\n",
      "18/18 [==============================] - 0s 10ms/step - loss: 0.2319 - mean_squared_error: 0.2319 - val_loss: 0.2618 - val_mean_squared_error: 0.2618\n",
      "Epoch 38/100\n",
      "18/18 [==============================] - 0s 9ms/step - loss: 0.2324 - mean_squared_error: 0.2324 - val_loss: 0.2273 - val_mean_squared_error: 0.2273\n",
      "Epoch 39/100\n",
      "18/18 [==============================] - 0s 10ms/step - loss: 0.2190 - mean_squared_error: 0.2190 - val_loss: 0.2278 - val_mean_squared_error: 0.2278\n",
      "Epoch 40/100\n",
      "18/18 [==============================] - 0s 10ms/step - loss: 0.2120 - mean_squared_error: 0.2120 - val_loss: 0.2281 - val_mean_squared_error: 0.2281\n",
      "Epoch 41/100\n",
      "18/18 [==============================] - 0s 10ms/step - loss: 0.2047 - mean_squared_error: 0.2047 - val_loss: 0.2275 - val_mean_squared_error: 0.2275\n",
      "Epoch 42/100\n",
      "18/18 [==============================] - 0s 9ms/step - loss: 0.1984 - mean_squared_error: 0.1984 - val_loss: 0.2784 - val_mean_squared_error: 0.2784\n",
      "Epoch 43/100\n",
      "18/18 [==============================] - 0s 8ms/step - loss: 0.2258 - mean_squared_error: 0.2258 - val_loss: 0.2879 - val_mean_squared_error: 0.2879\n",
      "Epoch 44/100\n",
      "18/18 [==============================] - 0s 7ms/step - loss: 0.2164 - mean_squared_error: 0.2164 - val_loss: 0.2680 - val_mean_squared_error: 0.2680\n",
      "Epoch 45/100\n",
      "18/18 [==============================] - 0s 10ms/step - loss: 0.2152 - mean_squared_error: 0.2152 - val_loss: 0.2293 - val_mean_squared_error: 0.2293\n",
      "Epoch 46/100\n",
      "18/18 [==============================] - 0s 9ms/step - loss: 0.1895 - mean_squared_error: 0.1895 - val_loss: 0.2164 - val_mean_squared_error: 0.2164\n",
      "Epoch 47/100\n",
      "18/18 [==============================] - 0s 9ms/step - loss: 0.1826 - mean_squared_error: 0.1826 - val_loss: 0.2155 - val_mean_squared_error: 0.2155\n",
      "Epoch 48/100\n",
      "18/18 [==============================] - 0s 9ms/step - loss: 0.1995 - mean_squared_error: 0.1995 - val_loss: 0.4261 - val_mean_squared_error: 0.4261\n",
      "Epoch 49/100\n",
      "18/18 [==============================] - 0s 9ms/step - loss: 0.2632 - mean_squared_error: 0.2632 - val_loss: 0.2361 - val_mean_squared_error: 0.2361\n",
      "Epoch 50/100\n",
      "18/18 [==============================] - 0s 9ms/step - loss: 0.2132 - mean_squared_error: 0.2132 - val_loss: 0.2688 - val_mean_squared_error: 0.2688\n",
      "Epoch 51/100\n",
      "18/18 [==============================] - 0s 8ms/step - loss: 0.2203 - mean_squared_error: 0.2203 - val_loss: 0.5096 - val_mean_squared_error: 0.5096\n",
      "Epoch 52/100\n",
      "18/18 [==============================] - 0s 9ms/step - loss: 0.4038 - mean_squared_error: 0.4038 - val_loss: 0.6146 - val_mean_squared_error: 0.6146\n",
      "Epoch 53/100\n",
      "18/18 [==============================] - 0s 9ms/step - loss: 0.3062 - mean_squared_error: 0.3062 - val_loss: 0.4306 - val_mean_squared_error: 0.4306\n",
      "Epoch 54/100\n",
      "18/18 [==============================] - 0s 9ms/step - loss: 0.2640 - mean_squared_error: 0.2640 - val_loss: 0.3498 - val_mean_squared_error: 0.3498\n",
      "Epoch 55/100\n",
      "18/18 [==============================] - 0s 10ms/step - loss: 0.2359 - mean_squared_error: 0.2359 - val_loss: 0.2403 - val_mean_squared_error: 0.2403\n",
      "Epoch 56/100\n",
      "18/18 [==============================] - 0s 9ms/step - loss: 0.2099 - mean_squared_error: 0.2099 - val_loss: 0.2312 - val_mean_squared_error: 0.2312\n",
      "Epoch 57/100\n",
      "18/18 [==============================] - 0s 9ms/step - loss: 0.2113 - mean_squared_error: 0.2113 - val_loss: 0.2476 - val_mean_squared_error: 0.2476\n",
      "Epoch 58/100\n",
      "18/18 [==============================] - 0s 9ms/step - loss: 0.2072 - mean_squared_error: 0.2072 - val_loss: 0.2857 - val_mean_squared_error: 0.2857\n",
      "Epoch 59/100\n",
      "18/18 [==============================] - 0s 8ms/step - loss: 0.2035 - mean_squared_error: 0.2035 - val_loss: 0.3424 - val_mean_squared_error: 0.3424\n",
      "Epoch 60/100\n",
      "18/18 [==============================] - 0s 9ms/step - loss: 0.2752 - mean_squared_error: 0.2752 - val_loss: 0.2901 - val_mean_squared_error: 0.2901\n",
      "Epoch 61/100\n",
      "18/18 [==============================] - 0s 11ms/step - loss: 0.2570 - mean_squared_error: 0.2570 - val_loss: 0.3063 - val_mean_squared_error: 0.3063\n",
      "Epoch 62/100\n",
      "18/18 [==============================] - 0s 9ms/step - loss: 0.2254 - mean_squared_error: 0.2254 - val_loss: 0.2654 - val_mean_squared_error: 0.2654\n",
      "Epoch 63/100\n",
      "18/18 [==============================] - 0s 9ms/step - loss: 0.2002 - mean_squared_error: 0.2002 - val_loss: 0.2342 - val_mean_squared_error: 0.2342\n",
      "Epoch 64/100\n",
      "18/18 [==============================] - 0s 9ms/step - loss: 0.1824 - mean_squared_error: 0.1824 - val_loss: 0.2348 - val_mean_squared_error: 0.2348\n",
      "Epoch 65/100\n",
      "18/18 [==============================] - 0s 8ms/step - loss: 0.1928 - mean_squared_error: 0.1928 - val_loss: 0.2527 - val_mean_squared_error: 0.2527\n",
      "Epoch 66/100\n",
      "18/18 [==============================] - 0s 8ms/step - loss: 0.1889 - mean_squared_error: 0.1889 - val_loss: 0.2142 - val_mean_squared_error: 0.2142\n",
      "Epoch 67/100\n",
      "18/18 [==============================] - 0s 9ms/step - loss: 0.1891 - mean_squared_error: 0.1891 - val_loss: 0.2344 - val_mean_squared_error: 0.2344\n",
      "Epoch 68/100\n",
      "18/18 [==============================] - 0s 8ms/step - loss: 0.1827 - mean_squared_error: 0.1827 - val_loss: 0.2655 - val_mean_squared_error: 0.2655\n",
      "Epoch 69/100\n",
      "18/18 [==============================] - 0s 8ms/step - loss: 0.1861 - mean_squared_error: 0.1861 - val_loss: 0.2140 - val_mean_squared_error: 0.2140\n",
      "Epoch 70/100\n",
      "18/18 [==============================] - 0s 9ms/step - loss: 0.1744 - mean_squared_error: 0.1744 - val_loss: 0.1957 - val_mean_squared_error: 0.1957\n",
      "Epoch 71/100\n",
      "18/18 [==============================] - 0s 9ms/step - loss: 0.1673 - mean_squared_error: 0.1673 - val_loss: 0.3082 - val_mean_squared_error: 0.3082\n",
      "Epoch 72/100\n",
      "18/18 [==============================] - 0s 10ms/step - loss: 0.1842 - mean_squared_error: 0.1842 - val_loss: 0.2026 - val_mean_squared_error: 0.2026\n",
      "Epoch 73/100\n",
      "18/18 [==============================] - 0s 10ms/step - loss: 0.1582 - mean_squared_error: 0.1582 - val_loss: 0.2088 - val_mean_squared_error: 0.2088\n",
      "Epoch 74/100\n",
      "18/18 [==============================] - 0s 9ms/step - loss: 0.1585 - mean_squared_error: 0.1585 - val_loss: 0.3119 - val_mean_squared_error: 0.3119\n",
      "Epoch 75/100\n",
      "18/18 [==============================] - 0s 9ms/step - loss: 0.2189 - mean_squared_error: 0.2189 - val_loss: 0.2727 - val_mean_squared_error: 0.2727\n",
      "Epoch 76/100\n",
      "18/18 [==============================] - 0s 8ms/step - loss: 0.1887 - mean_squared_error: 0.1887 - val_loss: 0.2024 - val_mean_squared_error: 0.2024\n",
      "Epoch 77/100\n",
      "18/18 [==============================] - 0s 9ms/step - loss: 0.1717 - mean_squared_error: 0.1717 - val_loss: 0.2432 - val_mean_squared_error: 0.2432\n",
      "Epoch 78/100\n",
      "18/18 [==============================] - 0s 8ms/step - loss: 0.1813 - mean_squared_error: 0.1813 - val_loss: 0.2145 - val_mean_squared_error: 0.2145\n",
      "Epoch 79/100\n",
      "18/18 [==============================] - 0s 9ms/step - loss: 0.1641 - mean_squared_error: 0.1641 - val_loss: 0.2241 - val_mean_squared_error: 0.2241\n",
      "Epoch 80/100\n",
      "18/18 [==============================] - 0s 8ms/step - loss: 0.1692 - mean_squared_error: 0.1692 - val_loss: 0.2320 - val_mean_squared_error: 0.2320\n",
      "Epoch 81/100\n",
      "18/18 [==============================] - 0s 8ms/step - loss: 0.1818 - mean_squared_error: 0.1818 - val_loss: 0.2151 - val_mean_squared_error: 0.2151\n",
      "Epoch 82/100\n",
      "18/18 [==============================] - 0s 8ms/step - loss: 0.2344 - mean_squared_error: 0.2344 - val_loss: 0.2437 - val_mean_squared_error: 0.2437\n",
      "Epoch 83/100\n",
      "18/18 [==============================] - 0s 8ms/step - loss: 0.1745 - mean_squared_error: 0.1745 - val_loss: 0.2226 - val_mean_squared_error: 0.2226\n",
      "Epoch 84/100\n",
      "18/18 [==============================] - 0s 8ms/step - loss: 0.1640 - mean_squared_error: 0.1640 - val_loss: 0.2300 - val_mean_squared_error: 0.2300\n",
      "Epoch 85/100\n",
      "18/18 [==============================] - 0s 7ms/step - loss: 0.1606 - mean_squared_error: 0.1606 - val_loss: 0.2147 - val_mean_squared_error: 0.2147\n",
      "Epoch 86/100\n",
      "18/18 [==============================] - 0s 8ms/step - loss: 0.1594 - mean_squared_error: 0.1594 - val_loss: 0.2249 - val_mean_squared_error: 0.2249\n",
      "Epoch 87/100\n",
      "18/18 [==============================] - 0s 8ms/step - loss: 0.1848 - mean_squared_error: 0.1848 - val_loss: 0.2382 - val_mean_squared_error: 0.2382\n",
      "Epoch 88/100\n",
      "18/18 [==============================] - 0s 8ms/step - loss: 0.1652 - mean_squared_error: 0.1652 - val_loss: 0.2242 - val_mean_squared_error: 0.2242\n",
      "Epoch 89/100\n",
      "18/18 [==============================] - 0s 9ms/step - loss: 0.1727 - mean_squared_error: 0.1727 - val_loss: 0.1937 - val_mean_squared_error: 0.1937\n",
      "Epoch 90/100\n",
      "18/18 [==============================] - 0s 8ms/step - loss: 0.1581 - mean_squared_error: 0.1581 - val_loss: 0.2060 - val_mean_squared_error: 0.2060\n",
      "Epoch 91/100\n",
      "18/18 [==============================] - 0s 9ms/step - loss: 0.1532 - mean_squared_error: 0.1532 - val_loss: 0.2260 - val_mean_squared_error: 0.2260\n",
      "Epoch 92/100\n",
      "18/18 [==============================] - 0s 9ms/step - loss: 0.1704 - mean_squared_error: 0.1704 - val_loss: 0.2230 - val_mean_squared_error: 0.2230\n",
      "Epoch 93/100\n",
      "18/18 [==============================] - 0s 9ms/step - loss: 0.1669 - mean_squared_error: 0.1669 - val_loss: 0.2783 - val_mean_squared_error: 0.2783\n",
      "Epoch 94/100\n",
      "18/18 [==============================] - 0s 8ms/step - loss: 0.2049 - mean_squared_error: 0.2049 - val_loss: 0.2386 - val_mean_squared_error: 0.2386\n",
      "Epoch 95/100\n"
     ]
    },
    {
     "name": "stdout",
     "output_type": "stream",
     "text": [
      "18/18 [==============================] - 0s 9ms/step - loss: 0.1492 - mean_squared_error: 0.1492 - val_loss: 0.2302 - val_mean_squared_error: 0.2302\n",
      "Epoch 96/100\n",
      "18/18 [==============================] - 0s 8ms/step - loss: 0.1701 - mean_squared_error: 0.1701 - val_loss: 0.2282 - val_mean_squared_error: 0.2282\n",
      "Epoch 97/100\n",
      "18/18 [==============================] - 0s 9ms/step - loss: 0.1682 - mean_squared_error: 0.1682 - val_loss: 0.3465 - val_mean_squared_error: 0.3465\n",
      "Epoch 98/100\n",
      "18/18 [==============================] - 0s 12ms/step - loss: 0.2209 - mean_squared_error: 0.2209 - val_loss: 0.2567 - val_mean_squared_error: 0.2567\n",
      "Epoch 99/100\n",
      "18/18 [==============================] - 0s 11ms/step - loss: 0.1684 - mean_squared_error: 0.1684 - val_loss: 0.2311 - val_mean_squared_error: 0.2311\n",
      "Epoch 100/100\n",
      "18/18 [==============================] - 0s 11ms/step - loss: 0.1584 - mean_squared_error: 0.1584 - val_loss: 0.2295 - val_mean_squared_error: 0.2295\n"
     ]
    }
   ],
   "source": [
    "from keras import models, layers, optimizers, regularizers\n",
    "from keras.utils.vis_utils import model_to_dot\n",
    "from IPython.display import SVG\n",
    "\n",
    "# Building the model\n",
    "nn2 = models.Sequential()\n",
    "nn2.add(layers.Dense(128, input_shape=(X_train.shape[1],), activation='relu'))\n",
    "nn2.add(layers.Dense(256, activation='relu'))\n",
    "nn2.add(layers.Dense(256, activation='relu'))\n",
    "nn2.add(layers.Dense(512, activation='relu'))\n",
    "nn2.add(layers.Dense(1, activation='linear'))\n",
    "\n",
    "# Compiling the model\n",
    "nn2.compile(loss='mean_squared_error',\n",
    "            optimizer='adam',\n",
    "            metrics=['mean_squared_error'])\n",
    "\n",
    "# Printing the model summary\n",
    "print(nn2.summary())\n",
    "\n",
    "# Visualising the neural network\n",
    "SVG(model_to_dot(nn2, show_layer_names=False, show_shapes=True).create(prog='dot', format='svg'))\n",
    "\n",
    "# Training the model\n",
    "nn2_history = nn2.fit(X_train,\n",
    "                  y_train,\n",
    "                  epochs=100,\n",
    "                  batch_size=256,\n",
    "                  validation_split = 0.1)"
   ]
  },
  {
   "cell_type": "code",
   "execution_count": 40,
   "metadata": {
    "ExecuteTime": {
     "end_time": "2020-10-25T19:42:13.490146Z",
     "start_time": "2020-10-25T19:42:12.598531Z"
    }
   },
   "outputs": [
    {
     "name": "stdout",
     "output_type": "stream",
     "text": [
      "Training MSE: 0.1796\n",
      "Validation MSE: 0.2986\n",
      "Validation RMSE: 0.5464\n",
      "\n",
      "Training r2: 0.5636\n",
      "Validation r2: 0.2379\n"
     ]
    }
   ],
   "source": [
    "y_test_pred = nn2.predict(X_test)\n",
    "y_train_pred = nn2.predict(X_train)\n",
    "print(\"Training MSE:\", round(mean_squared_error(y_train, y_train_pred),4))\n",
    "print(\"Validation MSE:\", round(mean_squared_error(y_test, y_test_pred),4))\n",
    "print(\"Validation RMSE:\", round(mean_squared_error(y_test, y_test_pred)**0.5,4))\n",
    "print(\"\\nTraining r2:\", round(r2_score(y_train, y_train_pred),4))\n",
    "print(\"Validation r2:\", round(r2_score(y_test, y_test_pred),4))"
   ]
  },
  {
   "cell_type": "markdown",
   "metadata": {},
   "source": [
    "# Distribution of Numeric Columns"
   ]
  },
  {
   "cell_type": "code",
   "execution_count": 41,
   "metadata": {
    "ExecuteTime": {
     "end_time": "2020-10-25T19:42:19.459187Z",
     "start_time": "2020-10-25T19:42:13.496133Z"
    },
    "scrolled": true
   },
   "outputs": [
    {
     "data": {
      "image/png": "[encoded data removed]",
      "text/plain": [
       "<Figure size 432x288 with 1 Axes>"
      ]
     },
     "metadata": {},
     "output_type": "display_data"
    },
    {
     "data": {
      "image/png": "[encoded data removed]",
      "text/plain": [
       "<Figure size 432x288 with 1 Axes>"
      ]
     },
     "metadata": {},
     "output_type": "display_data"
    },
    {
     "data": {
      "image/png": "[encoded data removed]",
      "text/plain": [
       "<Figure size 432x288 with 1 Axes>"
      ]
     },
     "metadata": {},
     "output_type": "display_data"
    },
    {
     "data": {
      "image/png": "[encoded data removed]",
      "text/plain": [
       "<Figure size 432x288 with 1 Axes>"
      ]
     },
     "metadata": {},
     "output_type": "display_data"
    },
    {
     "data": {
      "image/png": "[encoded data removed]",
      "text/plain": [
       "<Figure size 432x288 with 1 Axes>"
      ]
     },
     "metadata": {},
     "output_type": "display_data"
    },
    {
     "data": {
      "image/png": "[encoded data removed]",
      "text/plain": [
       "<Figure size 432x288 with 1 Axes>"
      ]
     },
     "metadata": {},
     "output_type": "display_data"
    },
    {
     "data": {
      "image/png": "[encoded data removed]",
      "text/plain": [
       "<Figure size 432x288 with 1 Axes>"
      ]
     },
     "metadata": {},
     "output_type": "display_data"
    },
    {
     "data": {
      "image/png": "[encoded data removed]",
      "text/plain": [
       "<Figure size 432x288 with 1 Axes>"
      ]
     },
     "metadata": {},
     "output_type": "display_data"
    },
    {
     "data": {
      "image/png": "[encoded data removed]",
      "text/plain": [
       "<Figure size 432x288 with 1 Axes>"
      ]
     },
     "metadata": {},
     "output_type": "display_data"
    },
    {
     "data": {
      "image/png": "[encoded data removed]",
      "text/plain": [
       "<Figure size 432x288 with 1 Axes>"
      ]
     },
     "metadata": {},
     "output_type": "display_data"
    }
   ],
   "source": [
    "new_numeric_cols = []\n",
    "for col in new_SF_df.columns: \n",
    "    if col in numeric_columns:\n",
    "        new_numeric_cols.append(col)\n",
    "        try:      \n",
    "            new_SF_df[col] = pd.to_numeric(new_SF_df[col]) \n",
    "            new_SF_df.hist(column=col)\n",
    "        except ValueError:\n",
    "            print('This column can not be represented as a histogram')"
   ]
  },
  {
   "cell_type": "markdown",
   "metadata": {},
   "source": [
    "# Standardizing Features"
   ]
  },
  {
   "cell_type": "code",
   "execution_count": 42,
   "metadata": {
    "ExecuteTime": {
     "end_time": "2020-10-25T19:42:19.512048Z",
     "start_time": "2020-10-25T19:42:19.462180Z"
    }
   },
   "outputs": [],
   "source": [
    "from sklearn.preprocessing import StandardScaler\n",
    "scaler = StandardScaler(with_mean=False)\n",
    "scaler.fit(X_train.values) # only scaler.fit on train set\n",
    "X_stand_train = scaler.transform(X_train.values)\n",
    "X_stand_test = scaler.transform(X_test.values)"
   ]
  },
  {
   "cell_type": "markdown",
   "metadata": {},
   "source": [
    "# Random Forest after Standardization"
   ]
  },
  {
   "cell_type": "code",
   "execution_count": 43,
   "metadata": {
    "ExecuteTime": {
     "end_time": "2020-10-25T19:42:42.933937Z",
     "start_time": "2020-10-25T19:42:19.516037Z"
    }
   },
   "outputs": [
    {
     "name": "stdout",
     "output_type": "stream",
     "text": [
      "RMSE test: 0.389\n",
      "R^2 test: 0.615\n"
     ]
    }
   ],
   "source": [
    "rf = RandomForestRegressor(n_estimators=500, \n",
    "                               criterion='mse', \n",
    "                               random_state=3, \n",
    "                               n_jobs=-1)\n",
    "rf.fit(X_stand_train, y_train)\n",
    "y_train_pred = rf.predict(X_stand_train)\n",
    "y_test_pred = rf.predict(X_stand_test)\n",
    "rmse_rf= (mean_squared_error(y_test,y_test_pred))**(1/2)\n",
    "\n",
    "print('RMSE test: %.3f' % rmse_rf)\n",
    "print('R^2 test: %.3f' % (r2_score(y_test, y_test_pred)))"
   ]
  },
  {
   "cell_type": "markdown",
   "metadata": {},
   "source": [
    "# LightGBM after Standardization"
   ]
  },
  {
   "cell_type": "code",
   "execution_count": 44,
   "metadata": {
    "ExecuteTime": {
     "end_time": "2020-10-25T19:42:48.278648Z",
     "start_time": "2020-10-25T19:42:42.936929Z"
    }
   },
   "outputs": [
    {
     "name": "stdout",
     "output_type": "stream",
     "text": [
      "Training until validation scores don't improve for 20 rounds\n",
      "[100]\tvalid's rmse: 0.446599\n",
      "[200]\tvalid's rmse: 0.403863\n",
      "[300]\tvalid's rmse: 0.390064\n",
      "[400]\tvalid's rmse: 0.38173\n",
      "[500]\tvalid's rmse: 0.37701\n",
      "[600]\tvalid's rmse: 0.374157\n",
      "[700]\tvalid's rmse: 0.372267\n",
      "[800]\tvalid's rmse: 0.370839\n",
      "[900]\tvalid's rmse: 0.370238\n",
      "Early stopping, best iteration is:\n",
      "[930]\tvalid's rmse: 0.370105\n",
      "R^2 test: 0.650\n"
     ]
    }
   ],
   "source": [
    "fit_params={\n",
    "    \"early_stopping_rounds\":20, \n",
    "            \"eval_metric\" : 'rmse', \n",
    "            \"eval_set\" : [(X_stand_test,y_test)],\n",
    "            'eval_names': ['valid'],\n",
    "            'verbose': 100,\n",
    "            'feature_name': 'auto', \n",
    "            'categorical_feature': 'auto'\n",
    "           }\n",
    "        \n",
    "class LGBMRegressor_GainFE(LGBMRegressor):\n",
    "    @property\n",
    "    def feature_importances_(self):\n",
    "        if self._n_features is None:\n",
    "            raise LGBMNotFittedError('No feature_importances found. Need to call fit beforehand.')\n",
    "        return self.booster_.feature_importance(importance_type='gain')\n",
    "        \n",
    "clf = LGBMRegressor_GainFE(num_leaves= 25, max_depth=20, \n",
    "                         random_state=0, \n",
    "                         silent=True, \n",
    "                         metric='rmse', \n",
    "                         n_jobs=4, \n",
    "                         n_estimators=1000,\n",
    "                         colsample_bytree=0.9,\n",
    "                         subsample=0.9,\n",
    "                         learning_rate=0.01)\n",
    "clf.fit(X_stand_train, y_train.values, **fit_params)\n",
    "y_pred = clf.predict(X_stand_test)\n",
    "print('R^2 test: %.3f' % (r2_score(y_test, y_pred)))"
   ]
  },
  {
   "cell_type": "markdown",
   "metadata": {},
   "source": [
    "# LassoCV Model"
   ]
  },
  {
   "cell_type": "code",
   "execution_count": 45,
   "metadata": {
    "ExecuteTime": {
     "end_time": "2020-10-25T19:42:49.047593Z",
     "start_time": "2020-10-25T19:42:48.282637Z"
    }
   },
   "outputs": [
    {
     "data": {
      "text/plain": [
       "LassoCV(alphas=array([1.00000000e-02, 1.04737090e-02, 1.09698580e-02, 1.14895100e-02,\n",
       "       1.20337784e-02, 1.26038293e-02, 1.32008840e-02, 1.38262217e-02,\n",
       "       1.44811823e-02, 1.51671689e-02, 1.58856513e-02, 1.66381689e-02,\n",
       "       1.74263339e-02, 1.82518349e-02, 1.91164408e-02, 2.00220037e-02,\n",
       "       2.09704640e-02, 2.19638537e-02, 2.30043012e-02, 2.40940356e-02,\n",
       "       2.52353917e-02, 2.64308149e-0...\n",
       "       3.44896226e+01, 3.61234270e+01, 3.78346262e+01, 3.96268864e+01,\n",
       "       4.15040476e+01, 4.34701316e+01, 4.55293507e+01, 4.76861170e+01,\n",
       "       4.99450512e+01, 5.23109931e+01, 5.47890118e+01, 5.73844165e+01,\n",
       "       6.01027678e+01, 6.29498899e+01, 6.59318827e+01, 6.90551352e+01,\n",
       "       7.23263390e+01, 7.57525026e+01, 7.93409667e+01, 8.30994195e+01,\n",
       "       8.70359136e+01, 9.11588830e+01, 9.54771611e+01, 1.00000000e+02]),\n",
       "        cv=5)"
      ]
     },
     "execution_count": 45,
     "metadata": {},
     "output_type": "execute_result"
    }
   ],
   "source": [
    "from sklearn.linear_model import Lasso, LassoCV\n",
    "\n",
    "# Run the cross validation, find the best alpha, refit the model on all the data with that alpha\n",
    "alphavec = 10**np.linspace(-2,2,200)\n",
    "lasso_model = LassoCV(alphas = alphavec, cv=5)\n",
    "lasso_model.fit(X_stand_train, y_train)"
   ]
  },
  {
   "cell_type": "code",
   "execution_count": 46,
   "metadata": {
    "ExecuteTime": {
     "end_time": "2020-10-25T19:42:49.068536Z",
     "start_time": "2020-10-25T19:42:49.050585Z"
    }
   },
   "outputs": [
    {
     "name": "stdout",
     "output_type": "stream",
     "text": [
      "MAE: 0.388\n",
      "RMSE test: 0.483\n",
      "R^2 test: 0.405\n"
     ]
    }
   ],
   "source": [
    "# R2 of Training set\n",
    "lasso_model.score(X_stand_train,y_train)\n",
    "\n",
    "# Predict model on test data\n",
    "y_pred = lasso_model.predict(X_stand_test)\n",
    "\n",
    "#Mean Absolute Error (MAE)\n",
    "def mae(y_true, y_pred):\n",
    "    return np.mean(np.abs(y_pred - y_true))\n",
    "print('MAE: %.3f' % mae(y_test, y_pred))\n",
    "\n",
    "rmse_rf= (mean_squared_error(y_test,y_pred))**(1/2)\n",
    "\n",
    "print('RMSE test: %.3f' % rmse_rf)\n",
    "print('R^2 test: %.3f' % (r2_score(y_test, y_pred)))"
   ]
  },
  {
   "cell_type": "code",
   "execution_count": 47,
   "metadata": {
    "ExecuteTime": {
     "end_time": "2020-10-25T19:42:49.717800Z",
     "start_time": "2020-10-25T19:42:49.071528Z"
    }
   },
   "outputs": [
    {
     "data": {
      "image/png": "[encoded data removed]",
      "text/plain": [
       "<Figure size 432x288 with 1 Axes>"
      ]
     },
     "metadata": {},
     "output_type": "display_data"
    }
   ],
   "source": [
    "plt.scatter(y_test, y_pred)\n",
    "plt.plot([0,10],[0,10],color='red')\n",
    "plt.grid(True)\n",
    "plt.title('Predicted vs. Actual Price with LASSO CV')\n",
    "plt.ylabel('Price Predicted')\n",
    "plt.xlabel('Price Actual')"
   ]
  },
  {
   "cell_type": "markdown",
   "metadata": {},
   "source": [
    "# RidgeCV Model"
   ]
  },
  {
   "cell_type": "code",
   "execution_count": 48,
   "metadata": {
    "ExecuteTime": {
     "end_time": "2020-10-25T19:42:51.185877Z",
     "start_time": "2020-10-25T19:42:49.725779Z"
    }
   },
   "outputs": [
    {
     "data": {
      "text/plain": [
       "RidgeCV(alphas=array([1.00000000e-10, 4.64158883e-09, 2.15443469e-07, 1.00000000e-05,\n",
       "       4.64158883e-04, 2.15443469e-02, 1.00000000e+00, 4.64158883e+01,\n",
       "       2.15443469e+03, 1.00000000e+05]),\n",
       "        cv=5)"
      ]
     },
     "execution_count": 48,
     "metadata": {},
     "output_type": "execute_result"
    }
   ],
   "source": [
    "from sklearn.linear_model import RidgeCV\n",
    "\n",
    "reg_params = 10.**np.linspace(-10, 5, 10)\n",
    "ridge_model = RidgeCV(alphas=reg_params, fit_intercept=True, cv=5)\n",
    "ridge_model.fit(X_stand_train, y_train)"
   ]
  },
  {
   "cell_type": "code",
   "execution_count": 51,
   "metadata": {
    "ExecuteTime": {
     "end_time": "2020-10-25T19:44:46.916775Z",
     "start_time": "2020-10-25T19:44:46.897825Z"
    }
   },
   "outputs": [
    {
     "name": "stdout",
     "output_type": "stream",
     "text": [
      "MAE: 0.389\n",
      "RMSE test: 0.487\n",
      "R^2 test: 0.395\n"
     ]
    }
   ],
   "source": [
    "# R2 of Training set\n",
    "ridge_model.score(X_stand_train,y_train)\n",
    "\n",
    "# Predict model on test data\n",
    "y_pred = ridge_model.predict(X_stand_test)\n",
    "\n",
    "#Mean Absolute Error (MAE)\n",
    "def mae(y_true, y_pred):\n",
    "    return np.mean(np.abs(y_pred - y_true))\n",
    "print('MAE: %.3f' % mae(y_test, y_pred))\n",
    "\n",
    "rmse_rf= (mean_squared_error(y_test,y_pred))**(1/2)\n",
    "\n",
    "print('RMSE test: %.3f' % rmse_rf)\n",
    "print('R^2 test: %.3f' % (r2_score(y_test, y_pred)))"
   ]
  },
  {
   "cell_type": "code",
   "execution_count": 53,
   "metadata": {
    "ExecuteTime": {
     "end_time": "2020-10-25T19:45:10.598460Z",
     "start_time": "2020-10-25T19:45:10.135698Z"
    }
   },
   "outputs": [
    {
     "data": {
      "text/plain": [
       "Text(0.5, 0, 'Price Actual')"
      ]
     },
     "execution_count": 53,
     "metadata": {},
     "output_type": "execute_result"
    },
    {
     "data": {
      "image/png": "[encoded data removed]",
      "text/plain": [
       "<Figure size 432x288 with 1 Axes>"
      ]
     },
     "metadata": {},
     "output_type": "display_data"
    }
   ],
   "source": [
    "plt.scatter(y_test, y_pred)\n",
    "plt.plot([0,10],[0,10],color='red')\n",
    "plt.grid(True)\n",
    "plt.title('Predicted vs. Actual Price with RIDGE CV')\n",
    "plt.ylabel('Price Predicted')\n",
    "plt.xlabel('Price Actual')"
   ]
  },
  {
   "cell_type": "code",
   "execution_count": null,
   "metadata": {},
   "outputs": [],
   "source": []
  }
 ],
 "metadata": {
  "kernelspec": {
   "display_name": "Python 3",
   "language": "python",
   "name": "python3"
  },
  "language_info": {
   "codemirror_mode": {
    "name": "ipython",
    "version": 3
   },
   "file_extension": ".py",
   "mimetype": "text/x-python",
   "name": "python",
   "nbconvert_exporter": "python",
   "pygments_lexer": "ipython3",
   "version": "3.8.3"
  },
  "toc": {
   "base_numbering": 1,
   "nav_menu": {},
   "number_sections": true,
   "sideBar": true,
   "skip_h1_title": false,
   "title_cell": "Table of Contents",
   "title_sidebar": "Contents",
   "toc_cell": false,
   "toc_position": {
    "height": "calc(100% - 180px)",
    "left": "10px",
    "top": "150px",
    "width": "185.806px"
   },
   "toc_section_display": true,
   "toc_window_display": true
  },
  "varInspector": {
   "cols": {
    "lenName": 16,
    "lenType": 16,
    "lenVar": 40
   },
   "kernels_config": {
    "python": {
     "delete_cmd_postfix": "",
     "delete_cmd_prefix": "del ",
     "library": "var_list.py",
     "varRefreshCmd": "print(var_dic_list())"
    },
    "r": {
     "delete_cmd_postfix": ") ",
     "delete_cmd_prefix": "rm(",
     "library": "var_list.r",
     "varRefreshCmd": "cat(var_dic_list()) "
    }
   },
   "types_to_exclude": [
    "module",
    "function",
    "builtin_function_or_method",
    "instance",
    "_Feature"
   ],
   "window_display": false
  }
 },
 "nbformat": 4,
 "nbformat_minor": 4
}
