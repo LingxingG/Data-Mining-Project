{
 "cells": [
  {
   "cell_type": "markdown",
   "metadata": {},
   "source": [
    "# Import Libraries"
   ]
  },
  {
   "cell_type": "code",
   "execution_count": 54,
   "metadata": {
    "ExecuteTime": {
     "end_time": "2020-10-26T14:26:14.614000Z",
     "start_time": "2020-10-26T14:26:14.609014Z"
    }
   },
   "outputs": [],
   "source": [
    "import pandas as pd\n",
    "import numpy as np\n",
    "import matplotlib.pyplot as plt\n",
    "import seaborn as sns"
   ]
  },
  {
   "cell_type": "markdown",
   "metadata": {},
   "source": [
    "# Import cleaned_listings.pkl (refer to Airbnb Data Pre-processing notebook #2 for cleaned_listings.pkl)"
   ]
  },
  {
   "cell_type": "code",
   "execution_count": 55,
   "metadata": {
    "ExecuteTime": {
     "end_time": "2020-10-26T14:26:14.710745Z",
     "start_time": "2020-10-26T14:26:14.620981Z"
    }
   },
   "outputs": [
    {
     "data": {
      "text/html": [
       "<div>\n",
       "<style scoped>\n",
       "    .dataframe tbody tr th:only-of-type {\n",
       "        vertical-align: middle;\n",
       "    }\n",
       "\n",
       "    .dataframe tbody tr th {\n",
       "        vertical-align: top;\n",
       "    }\n",
       "\n",
       "    .dataframe thead th {\n",
       "        text-align: right;\n",
       "    }\n",
       "</style>\n",
       "<table border=\"1\" class=\"dataframe\">\n",
       "  <thead>\n",
       "    <tr style=\"text-align: right;\">\n",
       "      <th></th>\n",
       "      <th>id</th>\n",
       "      <th>name</th>\n",
       "      <th>description</th>\n",
       "      <th>neighborhood_overview</th>\n",
       "      <th>host_id</th>\n",
       "      <th>host_name</th>\n",
       "      <th>host_since</th>\n",
       "      <th>host_location</th>\n",
       "      <th>host_about</th>\n",
       "      <th>host_response_time</th>\n",
       "      <th>...</th>\n",
       "      <th>last_review</th>\n",
       "      <th>review_scores_rating</th>\n",
       "      <th>review_scores_accuracy</th>\n",
       "      <th>review_scores_cleanliness</th>\n",
       "      <th>review_scores_checkin</th>\n",
       "      <th>review_scores_communication</th>\n",
       "      <th>review_scores_location</th>\n",
       "      <th>review_scores_value</th>\n",
       "      <th>instant_bookable</th>\n",
       "      <th>reviews_per_month</th>\n",
       "    </tr>\n",
       "  </thead>\n",
       "  <tbody>\n",
       "    <tr>\n",
       "      <th>0</th>\n",
       "      <td>958</td>\n",
       "      <td>Bright, Modern Garden Unit - 1BR/1BTH</td>\n",
       "      <td>Cleaning Protocol: Our cleaners follow the Air...</td>\n",
       "      <td>Quiet cul de sac in friendly neighborhood&lt;br /...</td>\n",
       "      <td>1169</td>\n",
       "      <td>Holly</td>\n",
       "      <td>2008-07-31</td>\n",
       "      <td>San Francisco, California, United States</td>\n",
       "      <td>We are a family of four that live upstairs.  W...</td>\n",
       "      <td>within an hour</td>\n",
       "      <td>...</td>\n",
       "      <td>2020-07-30</td>\n",
       "      <td>97.0</td>\n",
       "      <td>10.0</td>\n",
       "      <td>10.0</td>\n",
       "      <td>10.0</td>\n",
       "      <td>10.0</td>\n",
       "      <td>10.0</td>\n",
       "      <td>10.0</td>\n",
       "      <td>False</td>\n",
       "      <td>1.91</td>\n",
       "    </tr>\n",
       "    <tr>\n",
       "      <th>1</th>\n",
       "      <td>5858</td>\n",
       "      <td>Creative Sanctuary</td>\n",
       "      <td>&lt;b&gt;The space&lt;/b&gt;&lt;br /&gt;We live in a large Victo...</td>\n",
       "      <td>I love how our neighborhood feels quiet but is...</td>\n",
       "      <td>8904</td>\n",
       "      <td>Philip And Tania</td>\n",
       "      <td>2009-03-02</td>\n",
       "      <td>San Francisco, California, United States</td>\n",
       "      <td>Philip: English transplant to the Bay Area and...</td>\n",
       "      <td>within a day</td>\n",
       "      <td>...</td>\n",
       "      <td>2017-08-06</td>\n",
       "      <td>98.0</td>\n",
       "      <td>10.0</td>\n",
       "      <td>10.0</td>\n",
       "      <td>10.0</td>\n",
       "      <td>10.0</td>\n",
       "      <td>10.0</td>\n",
       "      <td>9.0</td>\n",
       "      <td>False</td>\n",
       "      <td>0.81</td>\n",
       "    </tr>\n",
       "    <tr>\n",
       "      <th>2</th>\n",
       "      <td>7918</td>\n",
       "      <td>A Friendly Room - UCSF/USF - San Francisco</td>\n",
       "      <td>Nice and good public transportation.  7 minute...</td>\n",
       "      <td>Shopping old town, restaurants, McDonald, Whol...</td>\n",
       "      <td>21994</td>\n",
       "      <td>Aaron</td>\n",
       "      <td>2009-06-17</td>\n",
       "      <td>San Francisco, California, United States</td>\n",
       "      <td>7 minutes walk to UCSF hospital &amp; school campu...</td>\n",
       "      <td>within a few hours</td>\n",
       "      <td>...</td>\n",
       "      <td>2020-03-06</td>\n",
       "      <td>84.0</td>\n",
       "      <td>7.0</td>\n",
       "      <td>8.0</td>\n",
       "      <td>9.0</td>\n",
       "      <td>9.0</td>\n",
       "      <td>9.0</td>\n",
       "      <td>8.0</td>\n",
       "      <td>False</td>\n",
       "      <td>0.14</td>\n",
       "    </tr>\n",
       "    <tr>\n",
       "      <th>3</th>\n",
       "      <td>8142</td>\n",
       "      <td>Friendly Room Apt. Style -UCSF/USF - San Franc...</td>\n",
       "      <td>Nice and good public transportation.  7 minute...</td>\n",
       "      <td>NaN</td>\n",
       "      <td>21994</td>\n",
       "      <td>Aaron</td>\n",
       "      <td>2009-06-17</td>\n",
       "      <td>San Francisco, California, United States</td>\n",
       "      <td>7 minutes walk to UCSF hospital &amp; school campu...</td>\n",
       "      <td>within a few hours</td>\n",
       "      <td>...</td>\n",
       "      <td>2018-09-12</td>\n",
       "      <td>93.0</td>\n",
       "      <td>9.0</td>\n",
       "      <td>9.0</td>\n",
       "      <td>10.0</td>\n",
       "      <td>10.0</td>\n",
       "      <td>9.0</td>\n",
       "      <td>9.0</td>\n",
       "      <td>False</td>\n",
       "      <td>0.11</td>\n",
       "    </tr>\n",
       "    <tr>\n",
       "      <th>4</th>\n",
       "      <td>8339</td>\n",
       "      <td>Historic Alamo Square Victorian</td>\n",
       "      <td>Pls email before booking. &lt;br /&gt;Interior featu...</td>\n",
       "      <td>NaN</td>\n",
       "      <td>24215</td>\n",
       "      <td>Rosy</td>\n",
       "      <td>2009-07-02</td>\n",
       "      <td>San Francisco, California, United States</td>\n",
       "      <td>I'm an Interior Stylist living in SF. \\r\\n\\r\\n...</td>\n",
       "      <td>within a few hours</td>\n",
       "      <td>...</td>\n",
       "      <td>2019-06-28</td>\n",
       "      <td>97.0</td>\n",
       "      <td>10.0</td>\n",
       "      <td>10.0</td>\n",
       "      <td>10.0</td>\n",
       "      <td>10.0</td>\n",
       "      <td>10.0</td>\n",
       "      <td>10.0</td>\n",
       "      <td>False</td>\n",
       "      <td>0.21</td>\n",
       "    </tr>\n",
       "  </tbody>\n",
       "</table>\n",
       "<p>5 rows × 56 columns</p>\n",
       "</div>"
      ],
      "text/plain": [
       "     id                                               name  \\\n",
       "0   958              Bright, Modern Garden Unit - 1BR/1BTH   \n",
       "1  5858                                 Creative Sanctuary   \n",
       "2  7918         A Friendly Room - UCSF/USF - San Francisco   \n",
       "3  8142  Friendly Room Apt. Style -UCSF/USF - San Franc...   \n",
       "4  8339                    Historic Alamo Square Victorian   \n",
       "\n",
       "                                         description  \\\n",
       "0  Cleaning Protocol: Our cleaners follow the Air...   \n",
       "1  <b>The space</b><br />We live in a large Victo...   \n",
       "2  Nice and good public transportation.  7 minute...   \n",
       "3  Nice and good public transportation.  7 minute...   \n",
       "4  Pls email before booking. <br />Interior featu...   \n",
       "\n",
       "                               neighborhood_overview  host_id  \\\n",
       "0  Quiet cul de sac in friendly neighborhood<br /...     1169   \n",
       "1  I love how our neighborhood feels quiet but is...     8904   \n",
       "2  Shopping old town, restaurants, McDonald, Whol...    21994   \n",
       "3                                                NaN    21994   \n",
       "4                                                NaN    24215   \n",
       "\n",
       "          host_name host_since                             host_location  \\\n",
       "0             Holly 2008-07-31  San Francisco, California, United States   \n",
       "1  Philip And Tania 2009-03-02  San Francisco, California, United States   \n",
       "2             Aaron 2009-06-17  San Francisco, California, United States   \n",
       "3             Aaron 2009-06-17  San Francisco, California, United States   \n",
       "4              Rosy 2009-07-02  San Francisco, California, United States   \n",
       "\n",
       "                                          host_about  host_response_time  ...  \\\n",
       "0  We are a family of four that live upstairs.  W...      within an hour  ...   \n",
       "1  Philip: English transplant to the Bay Area and...        within a day  ...   \n",
       "2  7 minutes walk to UCSF hospital & school campu...  within a few hours  ...   \n",
       "3  7 minutes walk to UCSF hospital & school campu...  within a few hours  ...   \n",
       "4  I'm an Interior Stylist living in SF. \\r\\n\\r\\n...  within a few hours  ...   \n",
       "\n",
       "   last_review  review_scores_rating  review_scores_accuracy  \\\n",
       "0   2020-07-30                  97.0                    10.0   \n",
       "1   2017-08-06                  98.0                    10.0   \n",
       "2   2020-03-06                  84.0                     7.0   \n",
       "3   2018-09-12                  93.0                     9.0   \n",
       "4   2019-06-28                  97.0                    10.0   \n",
       "\n",
       "  review_scores_cleanliness  review_scores_checkin  \\\n",
       "0                      10.0                   10.0   \n",
       "1                      10.0                   10.0   \n",
       "2                       8.0                    9.0   \n",
       "3                       9.0                   10.0   \n",
       "4                      10.0                   10.0   \n",
       "\n",
       "   review_scores_communication review_scores_location  review_scores_value  \\\n",
       "0                         10.0                   10.0                 10.0   \n",
       "1                         10.0                   10.0                  9.0   \n",
       "2                          9.0                    9.0                  8.0   \n",
       "3                         10.0                    9.0                  9.0   \n",
       "4                         10.0                   10.0                 10.0   \n",
       "\n",
       "   instant_bookable reviews_per_month  \n",
       "0             False              1.91  \n",
       "1             False              0.81  \n",
       "2             False              0.14  \n",
       "3             False              0.11  \n",
       "4             False              0.21  \n",
       "\n",
       "[5 rows x 56 columns]"
      ]
     },
     "execution_count": 55,
     "metadata": {},
     "output_type": "execute_result"
    }
   ],
   "source": [
    "SF_df = pd.read_pickle(\"cleaned_listings.pkl\")\n",
    "SF_df.head(5)"
   ]
  },
  {
   "cell_type": "code",
   "execution_count": 56,
   "metadata": {
    "ExecuteTime": {
     "end_time": "2020-10-26T14:26:14.769584Z",
     "start_time": "2020-10-26T14:26:14.713733Z"
    }
   },
   "outputs": [
    {
     "name": "stdout",
     "output_type": "stream",
     "text": [
      "<class 'pandas.core.frame.DataFrame'>\n",
      "RangeIndex: 7274 entries, 0 to 7273\n",
      "Data columns (total 56 columns):\n",
      " #   Column                       Non-Null Count  Dtype         \n",
      "---  ------                       --------------  -----         \n",
      " 0   id                           7274 non-null   int64         \n",
      " 1   name                         7274 non-null   object        \n",
      " 2   description                  7220 non-null   object        \n",
      " 3   neighborhood_overview        5330 non-null   object        \n",
      " 4   host_id                      7274 non-null   int64         \n",
      " 5   host_name                    7274 non-null   object        \n",
      " 6   host_since                   7274 non-null   datetime64[ns]\n",
      " 7   host_location                7269 non-null   object        \n",
      " 8   host_about                   5475 non-null   object        \n",
      " 9   host_response_time           5321 non-null   object        \n",
      " 10  host_response_rate           5321 non-null   float64       \n",
      " 11  host_acceptance_rate         6393 non-null   float64       \n",
      " 12  host_is_superhost            7274 non-null   bool          \n",
      " 13  host_neighbourhood           6734 non-null   object        \n",
      " 14  host_listings_count          7274 non-null   int64         \n",
      " 15  host_total_listings_count    7274 non-null   int64         \n",
      " 16  host_verifications           7274 non-null   object        \n",
      " 17  host_has_profile_pic         7274 non-null   bool          \n",
      " 18  host_identity_verified       7274 non-null   bool          \n",
      " 19  neighbourhood                5330 non-null   object        \n",
      " 20  neighbourhood_cleansed       7274 non-null   object        \n",
      " 21  latitude                     7274 non-null   float64       \n",
      " 22  longitude                    7274 non-null   float64       \n",
      " 23  property_type                7274 non-null   object        \n",
      " 24  room_type                    7274 non-null   object        \n",
      " 25  accommodates                 7274 non-null   int64         \n",
      " 26  bathrooms                    7274 non-null   float64       \n",
      " 27  bathrooms_text               82 non-null     object        \n",
      " 28  bedrooms                     7274 non-null   float64       \n",
      " 29  beds                         7274 non-null   float64       \n",
      " 30  amenities                    7274 non-null   object        \n",
      " 31  price                        7274 non-null   float64       \n",
      " 32  minimum_nights               7274 non-null   int64         \n",
      " 33  maximum_nights               7274 non-null   int64         \n",
      " 34  minimum_nights_avg_ntm       7274 non-null   float64       \n",
      " 35  maximum_nights_avg_ntm       7274 non-null   float64       \n",
      " 36  has_availability             7274 non-null   bool          \n",
      " 37  availability_30              7274 non-null   int64         \n",
      " 38  availability_60              7274 non-null   int64         \n",
      " 39  availability_90              7274 non-null   int64         \n",
      " 40  availability_365             7274 non-null   int64         \n",
      " 41  calendar_last_scraped        7274 non-null   datetime64[ns]\n",
      " 42  number_of_reviews            7274 non-null   int64         \n",
      " 43  number_of_reviews_ltm        7274 non-null   int64         \n",
      " 44  number_of_reviews_l30d       7274 non-null   int64         \n",
      " 45  first_review                 5554 non-null   datetime64[ns]\n",
      " 46  last_review                  5554 non-null   datetime64[ns]\n",
      " 47  review_scores_rating         7274 non-null   float64       \n",
      " 48  review_scores_accuracy       7274 non-null   float64       \n",
      " 49  review_scores_cleanliness    7274 non-null   float64       \n",
      " 50  review_scores_checkin        7274 non-null   float64       \n",
      " 51  review_scores_communication  7274 non-null   float64       \n",
      " 52  review_scores_location       7274 non-null   float64       \n",
      " 53  review_scores_value          7274 non-null   float64       \n",
      " 54  instant_bookable             7274 non-null   bool          \n",
      " 55  reviews_per_month            7274 non-null   float64       \n",
      "dtypes: bool(5), datetime64[ns](4), float64(18), int64(14), object(15)\n",
      "memory usage: 2.9+ MB\n"
     ]
    }
   ],
   "source": [
    "SF_df.info()"
   ]
  },
  {
   "cell_type": "markdown",
   "metadata": {},
   "source": [
    "# Drop Columns Based on Pearson Correlation (refer to Price Analysis notebook)"
   ]
  },
  {
   "cell_type": "code",
   "execution_count": 57,
   "metadata": {
    "ExecuteTime": {
     "end_time": "2020-10-26T14:26:14.784543Z",
     "start_time": "2020-10-26T14:26:14.772577Z"
    }
   },
   "outputs": [],
   "source": [
    "SF_df = SF_df.drop(columns=['bedrooms','beds','maximum_nights','number_of_reviews'])"
   ]
  },
  {
   "cell_type": "markdown",
   "metadata": {},
   "source": [
    "# Create lists for different data type columns"
   ]
  },
  {
   "cell_type": "code",
   "execution_count": 58,
   "metadata": {
    "ExecuteTime": {
     "end_time": "2020-10-26T14:26:14.837402Z",
     "start_time": "2020-10-26T14:26:14.790527Z"
    }
   },
   "outputs": [
    {
     "name": "stdout",
     "output_type": "stream",
     "text": [
      "['name', 'description', 'neighborhood_overview', 'host_name', 'host_location', 'host_about', 'host_response_time', 'host_neighbourhood', 'host_verifications', 'neighbourhood', 'neighbourhood_cleansed', 'property_type', 'room_type', 'bathrooms_text', 'amenities']\n"
     ]
    }
   ],
   "source": [
    "numerics = ['int16', 'int32', 'int64', 'float16', 'float32', 'float64']\n",
    "numeric_columns = SF_df.select_dtypes(include=numerics).columns.to_list()\n",
    "bool_columns = SF_df.select_dtypes(include='bool').columns.to_list()\n",
    "object_columns = SF_df.select_dtypes(include='object').columns.to_list()\n",
    "print(object_columns)"
   ]
  },
  {
   "cell_type": "markdown",
   "metadata": {},
   "source": [
    "# Convert boolean columns to numeric columns"
   ]
  },
  {
   "cell_type": "code",
   "execution_count": 59,
   "metadata": {
    "ExecuteTime": {
     "end_time": "2020-10-26T14:26:14.866324Z",
     "start_time": "2020-10-26T14:26:14.840394Z"
    }
   },
   "outputs": [
    {
     "data": {
      "text/plain": [
       "0    1.0\n",
       "1    0.0\n",
       "2    0.0\n",
       "3    0.0\n",
       "4    0.0\n",
       "Name: host_is_superhost, dtype: float64"
      ]
     },
     "execution_count": 59,
     "metadata": {},
     "output_type": "execute_result"
    }
   ],
   "source": [
    "for column in bool_columns:\n",
    "    SF_df[column] = SF_df[column].replace(False,0,regex=True)\n",
    "    SF_df[column] = SF_df[column].replace(True,1,regex=True)\n",
    "SF_df[\"host_is_superhost\"].head()"
   ]
  },
  {
   "cell_type": "markdown",
   "metadata": {},
   "source": [
    "# Transforming amenities to numeric columns"
   ]
  },
  {
   "cell_type": "code",
   "execution_count": 60,
   "metadata": {
    "ExecuteTime": {
     "end_time": "2020-10-26T14:26:14.936138Z",
     "start_time": "2020-10-26T14:26:14.869317Z"
    }
   },
   "outputs": [
    {
     "data": {
      "text/plain": [
       "0    Heating, Hot water, Stove, Iron, Dryer, Coffee...\n",
       "1    Smoke alarm, Heating, Kitchen, First aid kit, ...\n",
       "2    Host greets you, Heating, Hot water, Kitchen, ...\n",
       "3    Host greets you, Heating, Hot water, Kitchen, ...\n",
       "4    Heating, Hot water, Stove, Iron, Carbon monoxi...\n",
       "Name: amenities, dtype: object"
      ]
     },
     "execution_count": 60,
     "metadata": {},
     "output_type": "execute_result"
    }
   ],
   "source": [
    "SF_df.amenities = SF_df.amenities.str.replace('\"', \"\")\n",
    "SF_df.amenities = SF_df.amenities.str.replace(\"[\", \"\")\n",
    "SF_df.amenities = SF_df.amenities.str.replace(\"]\", \"\")\n",
    "SF_df['amenities'].head()"
   ]
  },
  {
   "cell_type": "code",
   "execution_count": 61,
   "metadata": {
    "ExecuteTime": {
     "end_time": "2020-10-26T14:26:15.221376Z",
     "start_time": "2020-10-26T14:26:14.938133Z"
    }
   },
   "outputs": [],
   "source": [
    "from sklearn.feature_extraction.text import CountVectorizer\n",
    "\n",
    "count_vectorizer =  CountVectorizer(tokenizer=lambda x: x.split(', '))\n",
    "amenities = count_vectorizer.fit_transform(SF_df['amenities'])\n",
    "df_amenities = pd.DataFrame(amenities.toarray(), columns=count_vectorizer.get_feature_names())\n",
    "df_amenities = df_amenities.drop('',1)"
   ]
  },
  {
   "cell_type": "markdown",
   "metadata": {},
   "source": [
    "# Combining numeric and boolean columns"
   ]
  },
  {
   "cell_type": "code",
   "execution_count": 62,
   "metadata": {
    "ExecuteTime": {
     "end_time": "2020-10-26T14:26:15.277225Z",
     "start_time": "2020-10-26T14:26:15.225365Z"
    }
   },
   "outputs": [
    {
     "data": {
      "text/html": [
       "<div>\n",
       "<style scoped>\n",
       "    .dataframe tbody tr th:only-of-type {\n",
       "        vertical-align: middle;\n",
       "    }\n",
       "\n",
       "    .dataframe tbody tr th {\n",
       "        vertical-align: top;\n",
       "    }\n",
       "\n",
       "    .dataframe thead th {\n",
       "        text-align: right;\n",
       "    }\n",
       "</style>\n",
       "<table border=\"1\" class=\"dataframe\">\n",
       "  <thead>\n",
       "    <tr style=\"text-align: right;\">\n",
       "      <th></th>\n",
       "      <th>id</th>\n",
       "      <th>host_id</th>\n",
       "      <th>host_response_rate</th>\n",
       "      <th>host_acceptance_rate</th>\n",
       "      <th>host_listings_count</th>\n",
       "      <th>host_total_listings_count</th>\n",
       "      <th>latitude</th>\n",
       "      <th>longitude</th>\n",
       "      <th>accommodates</th>\n",
       "      <th>bathrooms</th>\n",
       "      <th>...</th>\n",
       "      <th>review_scores_checkin</th>\n",
       "      <th>review_scores_communication</th>\n",
       "      <th>review_scores_location</th>\n",
       "      <th>review_scores_value</th>\n",
       "      <th>reviews_per_month</th>\n",
       "      <th>host_is_superhost</th>\n",
       "      <th>host_has_profile_pic</th>\n",
       "      <th>host_identity_verified</th>\n",
       "      <th>has_availability</th>\n",
       "      <th>instant_bookable</th>\n",
       "    </tr>\n",
       "  </thead>\n",
       "  <tbody>\n",
       "    <tr>\n",
       "      <th>0</th>\n",
       "      <td>958</td>\n",
       "      <td>1169</td>\n",
       "      <td>1.0</td>\n",
       "      <td>0.99</td>\n",
       "      <td>1</td>\n",
       "      <td>1</td>\n",
       "      <td>37.76931</td>\n",
       "      <td>-122.43386</td>\n",
       "      <td>3</td>\n",
       "      <td>1.0</td>\n",
       "      <td>...</td>\n",
       "      <td>10.0</td>\n",
       "      <td>10.0</td>\n",
       "      <td>10.0</td>\n",
       "      <td>10.0</td>\n",
       "      <td>1.91</td>\n",
       "      <td>1.0</td>\n",
       "      <td>1.0</td>\n",
       "      <td>1.0</td>\n",
       "      <td>1.0</td>\n",
       "      <td>0.0</td>\n",
       "    </tr>\n",
       "    <tr>\n",
       "      <th>1</th>\n",
       "      <td>5858</td>\n",
       "      <td>8904</td>\n",
       "      <td>0.6</td>\n",
       "      <td>0.83</td>\n",
       "      <td>2</td>\n",
       "      <td>2</td>\n",
       "      <td>37.74511</td>\n",
       "      <td>-122.42102</td>\n",
       "      <td>5</td>\n",
       "      <td>1.0</td>\n",
       "      <td>...</td>\n",
       "      <td>10.0</td>\n",
       "      <td>10.0</td>\n",
       "      <td>10.0</td>\n",
       "      <td>9.0</td>\n",
       "      <td>0.81</td>\n",
       "      <td>0.0</td>\n",
       "      <td>1.0</td>\n",
       "      <td>1.0</td>\n",
       "      <td>1.0</td>\n",
       "      <td>0.0</td>\n",
       "    </tr>\n",
       "    <tr>\n",
       "      <th>2</th>\n",
       "      <td>7918</td>\n",
       "      <td>21994</td>\n",
       "      <td>1.0</td>\n",
       "      <td>1.00</td>\n",
       "      <td>10</td>\n",
       "      <td>10</td>\n",
       "      <td>37.76555</td>\n",
       "      <td>-122.45213</td>\n",
       "      <td>2</td>\n",
       "      <td>4.0</td>\n",
       "      <td>...</td>\n",
       "      <td>9.0</td>\n",
       "      <td>9.0</td>\n",
       "      <td>9.0</td>\n",
       "      <td>8.0</td>\n",
       "      <td>0.14</td>\n",
       "      <td>0.0</td>\n",
       "      <td>1.0</td>\n",
       "      <td>0.0</td>\n",
       "      <td>1.0</td>\n",
       "      <td>0.0</td>\n",
       "    </tr>\n",
       "    <tr>\n",
       "      <th>3</th>\n",
       "      <td>8142</td>\n",
       "      <td>21994</td>\n",
       "      <td>1.0</td>\n",
       "      <td>1.00</td>\n",
       "      <td>10</td>\n",
       "      <td>10</td>\n",
       "      <td>37.76555</td>\n",
       "      <td>-122.45213</td>\n",
       "      <td>2</td>\n",
       "      <td>4.0</td>\n",
       "      <td>...</td>\n",
       "      <td>10.0</td>\n",
       "      <td>10.0</td>\n",
       "      <td>9.0</td>\n",
       "      <td>9.0</td>\n",
       "      <td>0.11</td>\n",
       "      <td>0.0</td>\n",
       "      <td>1.0</td>\n",
       "      <td>0.0</td>\n",
       "      <td>1.0</td>\n",
       "      <td>0.0</td>\n",
       "    </tr>\n",
       "    <tr>\n",
       "      <th>4</th>\n",
       "      <td>8339</td>\n",
       "      <td>24215</td>\n",
       "      <td>1.0</td>\n",
       "      <td>0.00</td>\n",
       "      <td>2</td>\n",
       "      <td>2</td>\n",
       "      <td>37.77525</td>\n",
       "      <td>-122.43637</td>\n",
       "      <td>4</td>\n",
       "      <td>1.5</td>\n",
       "      <td>...</td>\n",
       "      <td>10.0</td>\n",
       "      <td>10.0</td>\n",
       "      <td>10.0</td>\n",
       "      <td>10.0</td>\n",
       "      <td>0.21</td>\n",
       "      <td>0.0</td>\n",
       "      <td>1.0</td>\n",
       "      <td>1.0</td>\n",
       "      <td>1.0</td>\n",
       "      <td>0.0</td>\n",
       "    </tr>\n",
       "  </tbody>\n",
       "</table>\n",
       "<p>5 rows × 33 columns</p>\n",
       "</div>"
      ],
      "text/plain": [
       "     id  host_id  host_response_rate  host_acceptance_rate  \\\n",
       "0   958     1169                 1.0                  0.99   \n",
       "1  5858     8904                 0.6                  0.83   \n",
       "2  7918    21994                 1.0                  1.00   \n",
       "3  8142    21994                 1.0                  1.00   \n",
       "4  8339    24215                 1.0                  0.00   \n",
       "\n",
       "   host_listings_count  host_total_listings_count  latitude  longitude  \\\n",
       "0                    1                          1  37.76931 -122.43386   \n",
       "1                    2                          2  37.74511 -122.42102   \n",
       "2                   10                         10  37.76555 -122.45213   \n",
       "3                   10                         10  37.76555 -122.45213   \n",
       "4                    2                          2  37.77525 -122.43637   \n",
       "\n",
       "   accommodates  bathrooms  ...  review_scores_checkin  \\\n",
       "0             3        1.0  ...                   10.0   \n",
       "1             5        1.0  ...                   10.0   \n",
       "2             2        4.0  ...                    9.0   \n",
       "3             2        4.0  ...                   10.0   \n",
       "4             4        1.5  ...                   10.0   \n",
       "\n",
       "   review_scores_communication  review_scores_location  review_scores_value  \\\n",
       "0                         10.0                    10.0                 10.0   \n",
       "1                         10.0                    10.0                  9.0   \n",
       "2                          9.0                     9.0                  8.0   \n",
       "3                         10.0                     9.0                  9.0   \n",
       "4                         10.0                    10.0                 10.0   \n",
       "\n",
       "   reviews_per_month  host_is_superhost  host_has_profile_pic  \\\n",
       "0               1.91                1.0                   1.0   \n",
       "1               0.81                0.0                   1.0   \n",
       "2               0.14                0.0                   1.0   \n",
       "3               0.11                0.0                   1.0   \n",
       "4               0.21                0.0                   1.0   \n",
       "\n",
       "   host_identity_verified  has_availability  instant_bookable  \n",
       "0                     1.0               1.0               0.0  \n",
       "1                     1.0               1.0               0.0  \n",
       "2                     0.0               1.0               0.0  \n",
       "3                     0.0               1.0               0.0  \n",
       "4                     1.0               1.0               0.0  \n",
       "\n",
       "[5 rows x 33 columns]"
      ]
     },
     "execution_count": 62,
     "metadata": {},
     "output_type": "execute_result"
    }
   ],
   "source": [
    "listings_new = SF_df[numeric_columns+bool_columns]\n",
    "listings_new.head()"
   ]
  },
  {
   "cell_type": "markdown",
   "metadata": {},
   "source": [
    "# Transforming categorical columns to numeric columns and combine all into new df"
   ]
  },
  {
   "cell_type": "code",
   "execution_count": 63,
   "metadata": {
    "ExecuteTime": {
     "end_time": "2020-10-26T14:26:21.121601Z",
     "start_time": "2020-10-26T14:26:15.281216Z"
    }
   },
   "outputs": [],
   "source": [
    "for categorical_col in object_columns[:-1]:\n",
    "    listings_new = pd.concat([listings_new, pd.get_dummies(SF_df[categorical_col])], axis=1)"
   ]
  },
  {
   "cell_type": "markdown",
   "metadata": {},
   "source": [
    "# Combine all that with amenities df created in #4"
   ]
  },
  {
   "cell_type": "code",
   "execution_count": 64,
   "metadata": {
    "ExecuteTime": {
     "end_time": "2020-10-26T14:26:21.855639Z",
     "start_time": "2020-10-26T14:26:21.124594Z"
    }
   },
   "outputs": [
    {
     "data": {
      "text/html": [
       "<div>\n",
       "<style scoped>\n",
       "    .dataframe tbody tr th:only-of-type {\n",
       "        vertical-align: middle;\n",
       "    }\n",
       "\n",
       "    .dataframe tbody tr th {\n",
       "        vertical-align: top;\n",
       "    }\n",
       "\n",
       "    .dataframe thead th {\n",
       "        text-align: right;\n",
       "    }\n",
       "</style>\n",
       "<table border=\"1\" class=\"dataframe\">\n",
       "  <thead>\n",
       "    <tr style=\"text-align: right;\">\n",
       "      <th></th>\n",
       "      <th>id</th>\n",
       "      <th>host_id</th>\n",
       "      <th>host_response_rate</th>\n",
       "      <th>host_acceptance_rate</th>\n",
       "      <th>host_listings_count</th>\n",
       "      <th>host_total_listings_count</th>\n",
       "      <th>latitude</th>\n",
       "      <th>longitude</th>\n",
       "      <th>accommodates</th>\n",
       "      <th>bathrooms</th>\n",
       "      <th>...</th>\n",
       "      <th>terrace</th>\n",
       "      <th>tv</th>\n",
       "      <th>walk in closet</th>\n",
       "      <th>washer</th>\n",
       "      <th>waterfront</th>\n",
       "      <th>wet bar</th>\n",
       "      <th>wifi</th>\n",
       "      <th>window guards</th>\n",
       "      <th>wine cooler</th>\n",
       "      <th>wood-burning fireplace</th>\n",
       "    </tr>\n",
       "  </thead>\n",
       "  <tbody>\n",
       "    <tr>\n",
       "      <th>0</th>\n",
       "      <td>958</td>\n",
       "      <td>1169</td>\n",
       "      <td>1.0</td>\n",
       "      <td>0.99</td>\n",
       "      <td>1</td>\n",
       "      <td>1</td>\n",
       "      <td>37.76931</td>\n",
       "      <td>-122.43386</td>\n",
       "      <td>3</td>\n",
       "      <td>1.0</td>\n",
       "      <td>...</td>\n",
       "      <td>0</td>\n",
       "      <td>1</td>\n",
       "      <td>0</td>\n",
       "      <td>1</td>\n",
       "      <td>0</td>\n",
       "      <td>0</td>\n",
       "      <td>1</td>\n",
       "      <td>0</td>\n",
       "      <td>0</td>\n",
       "      <td>0</td>\n",
       "    </tr>\n",
       "    <tr>\n",
       "      <th>1</th>\n",
       "      <td>5858</td>\n",
       "      <td>8904</td>\n",
       "      <td>0.6</td>\n",
       "      <td>0.83</td>\n",
       "      <td>2</td>\n",
       "      <td>2</td>\n",
       "      <td>37.74511</td>\n",
       "      <td>-122.42102</td>\n",
       "      <td>5</td>\n",
       "      <td>1.0</td>\n",
       "      <td>...</td>\n",
       "      <td>0</td>\n",
       "      <td>0</td>\n",
       "      <td>0</td>\n",
       "      <td>1</td>\n",
       "      <td>0</td>\n",
       "      <td>0</td>\n",
       "      <td>1</td>\n",
       "      <td>0</td>\n",
       "      <td>0</td>\n",
       "      <td>0</td>\n",
       "    </tr>\n",
       "    <tr>\n",
       "      <th>2</th>\n",
       "      <td>7918</td>\n",
       "      <td>21994</td>\n",
       "      <td>1.0</td>\n",
       "      <td>1.00</td>\n",
       "      <td>10</td>\n",
       "      <td>10</td>\n",
       "      <td>37.76555</td>\n",
       "      <td>-122.45213</td>\n",
       "      <td>2</td>\n",
       "      <td>4.0</td>\n",
       "      <td>...</td>\n",
       "      <td>0</td>\n",
       "      <td>1</td>\n",
       "      <td>0</td>\n",
       "      <td>1</td>\n",
       "      <td>0</td>\n",
       "      <td>0</td>\n",
       "      <td>1</td>\n",
       "      <td>0</td>\n",
       "      <td>0</td>\n",
       "      <td>0</td>\n",
       "    </tr>\n",
       "    <tr>\n",
       "      <th>3</th>\n",
       "      <td>8142</td>\n",
       "      <td>21994</td>\n",
       "      <td>1.0</td>\n",
       "      <td>1.00</td>\n",
       "      <td>10</td>\n",
       "      <td>10</td>\n",
       "      <td>37.76555</td>\n",
       "      <td>-122.45213</td>\n",
       "      <td>2</td>\n",
       "      <td>4.0</td>\n",
       "      <td>...</td>\n",
       "      <td>0</td>\n",
       "      <td>1</td>\n",
       "      <td>0</td>\n",
       "      <td>1</td>\n",
       "      <td>0</td>\n",
       "      <td>0</td>\n",
       "      <td>1</td>\n",
       "      <td>0</td>\n",
       "      <td>0</td>\n",
       "      <td>0</td>\n",
       "    </tr>\n",
       "    <tr>\n",
       "      <th>4</th>\n",
       "      <td>8339</td>\n",
       "      <td>24215</td>\n",
       "      <td>1.0</td>\n",
       "      <td>0.00</td>\n",
       "      <td>2</td>\n",
       "      <td>2</td>\n",
       "      <td>37.77525</td>\n",
       "      <td>-122.43637</td>\n",
       "      <td>4</td>\n",
       "      <td>1.5</td>\n",
       "      <td>...</td>\n",
       "      <td>0</td>\n",
       "      <td>1</td>\n",
       "      <td>0</td>\n",
       "      <td>0</td>\n",
       "      <td>0</td>\n",
       "      <td>0</td>\n",
       "      <td>1</td>\n",
       "      <td>0</td>\n",
       "      <td>0</td>\n",
       "      <td>0</td>\n",
       "    </tr>\n",
       "  </tbody>\n",
       "</table>\n",
       "<p>5 rows × 23096 columns</p>\n",
       "</div>"
      ],
      "text/plain": [
       "     id  host_id  host_response_rate  host_acceptance_rate  \\\n",
       "0   958     1169                 1.0                  0.99   \n",
       "1  5858     8904                 0.6                  0.83   \n",
       "2  7918    21994                 1.0                  1.00   \n",
       "3  8142    21994                 1.0                  1.00   \n",
       "4  8339    24215                 1.0                  0.00   \n",
       "\n",
       "   host_listings_count  host_total_listings_count  latitude  longitude  \\\n",
       "0                    1                          1  37.76931 -122.43386   \n",
       "1                    2                          2  37.74511 -122.42102   \n",
       "2                   10                         10  37.76555 -122.45213   \n",
       "3                   10                         10  37.76555 -122.45213   \n",
       "4                    2                          2  37.77525 -122.43637   \n",
       "\n",
       "   accommodates  bathrooms  ...  terrace  tv  walk in closet  washer  \\\n",
       "0             3        1.0  ...        0   1               0       1   \n",
       "1             5        1.0  ...        0   0               0       1   \n",
       "2             2        4.0  ...        0   1               0       1   \n",
       "3             2        4.0  ...        0   1               0       1   \n",
       "4             4        1.5  ...        0   1               0       0   \n",
       "\n",
       "   waterfront  wet bar  wifi  window guards  wine cooler  \\\n",
       "0           0        0     1              0            0   \n",
       "1           0        0     1              0            0   \n",
       "2           0        0     1              0            0   \n",
       "3           0        0     1              0            0   \n",
       "4           0        0     1              0            0   \n",
       "\n",
       "   wood-burning fireplace  \n",
       "0                       0  \n",
       "1                       0  \n",
       "2                       0  \n",
       "3                       0  \n",
       "4                       0  \n",
       "\n",
       "[5 rows x 23096 columns]"
      ]
     },
     "execution_count": 64,
     "metadata": {},
     "output_type": "execute_result"
    }
   ],
   "source": [
    "listings_new = pd.concat([listings_new, df_amenities], axis=1, join='inner')\n",
    "listings_new.head()"
   ]
  },
  {
   "cell_type": "code",
   "execution_count": 65,
   "metadata": {
    "ExecuteTime": {
     "end_time": "2020-10-26T14:26:23.241932Z",
     "start_time": "2020-10-26T14:26:21.857634Z"
    }
   },
   "outputs": [
    {
     "name": "stdout",
     "output_type": "stream",
     "text": [
      "<class 'pandas.core.frame.DataFrame'>\n",
      "RangeIndex: 7274 entries, 0 to 7273\n",
      "Columns: 23096 entries, id to wood-burning fireplace\n",
      "dtypes: float64(21), int64(143), uint8(22932)\n",
      "memory usage: 168.2 MB\n"
     ]
    }
   ],
   "source": [
    "listings_new.info()"
   ]
  },
  {
   "cell_type": "markdown",
   "metadata": {},
   "source": [
    "# Check and drop duplicates if any"
   ]
  },
  {
   "cell_type": "code",
   "execution_count": null,
   "metadata": {
    "ExecuteTime": {
     "start_time": "2020-10-26T14:26:14.668Z"
    }
   },
   "outputs": [
    {
     "name": "stdout",
     "output_type": "stream",
     "text": [
      "False\n"
     ]
    }
   ],
   "source": [
    "print(listings_new.duplicated().any())\n",
    "if listings_new.duplicated().any():\n",
    "    duplicate_rows = listings_new[listings_new.duplicated()]\n",
    "    listings_new = listings_new.drop_duplicates()\n",
    "    print(\"Duplicates Removed\")\n",
    "print(listings_new.duplicated().any())"
   ]
  },
  {
   "cell_type": "markdown",
   "metadata": {},
   "source": [
    "# Drop the problematic rows with 68 dollar price"
   ]
  },
  {
   "cell_type": "code",
   "execution_count": null,
   "metadata": {
    "ExecuteTime": {
     "start_time": "2020-10-26T14:26:14.672Z"
    }
   },
   "outputs": [],
   "source": [
    "listings_new[listings_new['price'] == 68].shape"
   ]
  },
  {
   "cell_type": "code",
   "execution_count": null,
   "metadata": {
    "ExecuteTime": {
     "start_time": "2020-10-26T14:26:14.675Z"
    }
   },
   "outputs": [],
   "source": [
    "listings_new = listings_new[listings_new['price'] != 68]\n",
    "listings_new.info()"
   ]
  },
  {
   "cell_type": "markdown",
   "metadata": {},
   "source": [
    "# Rename duplicate column names"
   ]
  },
  {
   "cell_type": "code",
   "execution_count": null,
   "metadata": {
    "ExecuteTime": {
     "start_time": "2020-10-26T14:26:14.678Z"
    }
   },
   "outputs": [],
   "source": [
    "# rename duplicate column\n",
    "listings_new.columns = \\\n",
    "['host_response_rate',\n",
    " 'host_acceptance_rate',\n",
    " 'host_is_superhost',\n",
    " 'host_listings_count',\n",
    " 'accommodates',\n",
    " 'bathrooms',\n",
    " 'price',\n",
    " 'minimum_nights',\n",
    " 'review_scores_rating',\n",
    " 'reviews_per_month',\n",
    " 'price_log',\n",
    " '-',\n",
    " 'a few days or more',\n",
    " 'within a day',\n",
    " 'within a few hours',\n",
    " 'within an hour',\n",
    " 'Bayview',\n",
    " 'Bernal Heights',\n",
    " 'Castro/Upper Market',\n",
    " 'Chinatown',\n",
    " 'Crocker Amazon',\n",
    " 'Diamond Heights',\n",
    " 'Downtown/Civic Center',\n",
    " 'Excelsior',\n",
    " 'Financial District',\n",
    " 'Glen Park',\n",
    " 'Golden Gate Park',\n",
    " 'Haight Ashbury',\n",
    " 'Inner Richmond',\n",
    " 'Inner Sunset',\n",
    " 'Lakeshore',\n",
    " 'Marina',\n",
    " 'Mission',\n",
    " 'Nob Hill',\n",
    " 'Noe Valley',\n",
    " 'North Beach',\n",
    " 'Ocean View',\n",
    " 'Outer Mission',\n",
    " 'Outer Richmond',\n",
    " 'Outer Sunset',\n",
    " 'Pacific Heights',\n",
    " 'Parkside',\n",
    " 'Potrero Hill',\n",
    " 'Presidio',\n",
    " 'Presidio Heights',\n",
    " 'Russian Hill',\n",
    " 'Seacliff',\n",
    " 'South of Market',\n",
    " 'Treasure Island/YBI',\n",
    " 'Twin Peaks',\n",
    " 'Visitacion Valley',\n",
    " 'West of Twin Peaks',\n",
    " 'Western Addition',\n",
    " 'Boat',\n",
    " 'Casa particular',\n",
    " 'Earth house',\n",
    " 'Entire apartment',\n",
    " 'Entire bungalow',\n",
    " 'Entire cabin',\n",
    " 'Entire condominium',\n",
    " 'Entire cottage',\n",
    " 'Entire floor',\n",
    " 'Entire guest suite',\n",
    " 'Entire guesthouse',\n",
    " 'Entire house',\n",
    " 'Entire in-law',\n",
    " 'Entire loft',\n",
    " 'Entire place',\n",
    " 'Entire serviced apartment',\n",
    " 'Entire townhouse',\n",
    " 'Entire villa',\n",
    " 'Private room (Property Type)',\n",
    " 'Private room in apartment',\n",
    " 'Private room in bed and breakfast',\n",
    " 'Private room in bungalow',\n",
    " 'Private room in cabin',\n",
    " 'Private room in castle',\n",
    " 'Private room in condominium',\n",
    " 'Private room in cottage',\n",
    " 'Private room in earth house',\n",
    " 'Private room in guest suite',\n",
    " 'Private room in guesthouse',\n",
    " 'Private room in hostel',\n",
    " 'Private room in house',\n",
    " 'Private room in hut',\n",
    " 'Private room in loft',\n",
    " 'Private room in resort',\n",
    " 'Private room in serviced apartment',\n",
    " 'Private room in townhouse',\n",
    " 'Private room in villa',\n",
    " 'Room in aparthotel',\n",
    " 'Room in bed and breakfast',\n",
    " 'Room in boutique hotel',\n",
    " 'Room in hostel',\n",
    " 'Room in hotel',\n",
    " 'Room in serviced apartment',\n",
    " 'Shared room in apartment',\n",
    " 'Shared room in bed and breakfast',\n",
    " 'Shared room in boutique hotel',\n",
    " 'Shared room in bungalow',\n",
    " 'Shared room in condominium',\n",
    " 'Shared room in hostel',\n",
    " 'Shared room in house',\n",
    " 'Shared room in loft',\n",
    " 'Shared room in townhouse',\n",
    " 'Shared room in villa',\n",
    " 'Tiny house',\n",
    " 'Entire home/apt',\n",
    " 'Hotel room',\n",
    " 'Private room',\n",
    " 'Shared room',\n",
    " 'air conditioning',\n",
    " 'alarm system',\n",
    " 'baby bath',\n",
    " 'baby monitor',\n",
    " 'babysitter recommendations',\n",
    " 'baking sheet',\n",
    " 'barbecue utensils',\n",
    " 'bathroom essentials',\n",
    " 'bathtub',\n",
    " 'bbq grill',\n",
    " 'beach essentials',\n",
    " 'beachfront',\n",
    " 'bed linens',\n",
    " 'bedroom comforts',\n",
    " 'bread maker',\n",
    " 'breakfast',\n",
    " 'breakfast bar',\n",
    " 'building staff',\n",
    " 'cable tv',\n",
    " 'carbon monoxide alarm',\n",
    " 'changing table',\n",
    " 'children\\\\u2019s books and toys',\n",
    " 'children\\\\u2019s dinnerware',\n",
    " 'cleaning before checkout',\n",
    " 'coffee maker',\n",
    " 'cooking basics',\n",
    " 'crib',\n",
    " 'desk',\n",
    " 'dishes and silverware',\n",
    " 'dishwasher',\n",
    " 'dryer',\n",
    " 'dual vanity',\n",
    " 'elevator',\n",
    " 'essentials',\n",
    " 'ethernet connection',\n",
    " 'ev charger',\n",
    " 'extra pillows and blankets',\n",
    " 'fire extinguisher',\n",
    " 'fireplace guards',\n",
    " 'first aid kit',\n",
    " 'free parking on premises',\n",
    " 'free street parking',\n",
    " 'full kitchen',\n",
    " 'game console',\n",
    " 'garden or backyard',\n",
    " 'gas fireplace',\n",
    " 'gym',\n",
    " 'hair dryer',\n",
    " 'hangers',\n",
    " 'heating',\n",
    " 'high chair',\n",
    " 'host greets you',\n",
    " 'hot tub',\n",
    " 'hot water',\n",
    " 'indoor fireplace',\n",
    " 'iron',\n",
    " 'ironing board',\n",
    " 'jetted tub',\n",
    " 'keypad',\n",
    " 'kitchen',\n",
    " 'kitchenette',\n",
    " 'lake access',\n",
    " 'laptop-friendly workspace',\n",
    " 'lock on bedroom door',\n",
    " 'lockbox',\n",
    " 'long term stays allowed',\n",
    " 'luggage dropoff allowed',\n",
    " 'microwave',\n",
    " 'mini fridge',\n",
    " 'natural gas barbeque',\n",
    " 'office',\n",
    " 'outlet covers',\n",
    " 'oven',\n",
    " 'pack \\\\u2019n play/travel crib',\n",
    " 'paid parking off premises',\n",
    " 'paid parking on premises',\n",
    " 'patio or balcony',\n",
    " 'pets allowed',\n",
    " 'piano',\n",
    " 'pocket wifi',\n",
    " 'pool',\n",
    " 'portable air conditioning',\n",
    " 'private entrance',\n",
    " 'private hot tub',\n",
    " 'private living room',\n",
    " 'refrigerator',\n",
    " 'room-darkening shades',\n",
    " 'security cameras',\n",
    " 'self check-in',\n",
    " 'shampoo',\n",
    " 'shared hot tub',\n",
    " 'shower gel',\n",
    " 'single level home',\n",
    " 'ski-in/ski-out',\n",
    " 'smart home technology',\n",
    " 'smart lock',\n",
    " 'smart tv',\n",
    " 'smoke alarm',\n",
    " 'smoking allowed',\n",
    " 'sonos sound system',\n",
    " 'stair gates',\n",
    " 'stand alone bathtub',\n",
    " 'stand alone rain shower',\n",
    " 'stove',\n",
    " 'suitable for events',\n",
    " 'table corner guards',\n",
    " 'terrace',\n",
    " 'tv',\n",
    " 'walk in closet',\n",
    " 'washer',\n",
    " 'waterfront',\n",
    " 'wet bar',\n",
    " 'wifi',\n",
    " 'window guards',\n",
    " 'wine cooler']"
   ]
  },
  {
   "cell_type": "markdown",
   "metadata": {},
   "source": [
    "# Drop '-' column"
   ]
  },
  {
   "cell_type": "code",
   "execution_count": null,
   "metadata": {
    "ExecuteTime": {
     "start_time": "2020-10-26T14:26:14.681Z"
    }
   },
   "outputs": [],
   "source": [
    "listings_new.drop(columns=['-'],inplace=True)"
   ]
  },
  {
   "cell_type": "code",
   "execution_count": null,
   "metadata": {
    "ExecuteTime": {
     "start_time": "2020-10-26T14:26:14.685Z"
    }
   },
   "outputs": [],
   "source": [
    "listings_new.info()"
   ]
  },
  {
   "cell_type": "markdown",
   "metadata": {},
   "source": [
    "# Export to pickle"
   ]
  },
  {
   "cell_type": "code",
   "execution_count": null,
   "metadata": {
    "ExecuteTime": {
     "start_time": "2020-10-26T14:26:14.688Z"
    }
   },
   "outputs": [],
   "source": [
    "# listings_new.to_pickle('final_cleaned_df.pkl')\n",
    "\n",
    "\n",
    "listings_new = pd.read_pickle('final_cleaned_df.pkl')"
   ]
  },
  {
   "cell_type": "code",
   "execution_count": null,
   "metadata": {},
   "outputs": [],
   "source": []
  }
 ],
 "metadata": {
  "kernelspec": {
   "display_name": "Python 3",
   "language": "python",
   "name": "python3"
  },
  "language_info": {
   "codemirror_mode": {
    "name": "ipython",
    "version": 3
   },
   "file_extension": ".py",
   "mimetype": "text/x-python",
   "name": "python",
   "nbconvert_exporter": "python",
   "pygments_lexer": "ipython3",
   "version": "3.6.5"
  },
  "toc": {
   "base_numbering": 1,
   "nav_menu": {},
   "number_sections": true,
   "sideBar": true,
   "skip_h1_title": false,
   "title_cell": "Table of Contents",
   "title_sidebar": "Contents",
   "toc_cell": false,
   "toc_position": {},
   "toc_section_display": true,
   "toc_window_display": false
  },
  "varInspector": {
   "cols": {
    "lenName": 16,
    "lenType": 16,
    "lenVar": 40
   },
   "kernels_config": {
    "python": {
     "delete_cmd_postfix": "",
     "delete_cmd_prefix": "del ",
     "library": "var_list.py",
     "varRefreshCmd": "print(var_dic_list())"
    },
    "r": {
     "delete_cmd_postfix": ") ",
     "delete_cmd_prefix": "rm(",
     "library": "var_list.r",
     "varRefreshCmd": "cat(var_dic_list()) "
    }
   },
   "types_to_exclude": [
    "module",
    "function",
    "builtin_function_or_method",
    "instance",
    "_Feature"
   ],
   "window_display": false
  }
 },
 "nbformat": 4,
 "nbformat_minor": 4
}
