{
 "cells": [
  {
   "cell_type": "markdown",
   "metadata": {},
   "source": [
    "# Import Libraries"
   ]
  },
  {
   "cell_type": "code",
   "execution_count": 72,
   "metadata": {
    "ExecuteTime": {
     "end_time": "2020-10-29T12:24:39.190045Z",
     "start_time": "2020-10-29T12:24:39.185060Z"
    }
   },
   "outputs": [],
   "source": [
    "import pandas as pd\n",
    "import numpy as np\n",
    "import matplotlib.pyplot as plt\n",
    "import math\n",
    "import seaborn as sns"
   ]
  },
  {
   "cell_type": "markdown",
   "metadata": {},
   "source": [
    "# listings.csv Pre-processing"
   ]
  },
  {
   "cell_type": "code",
   "execution_count": 73,
   "metadata": {
    "ExecuteTime": {
     "end_time": "2020-10-29T12:24:39.842302Z",
     "start_time": "2020-10-29T12:24:39.197027Z"
    }
   },
   "outputs": [
    {
     "data": {
      "text/html": [
       "<div>\n",
       "<style scoped>\n",
       "    .dataframe tbody tr th:only-of-type {\n",
       "        vertical-align: middle;\n",
       "    }\n",
       "\n",
       "    .dataframe tbody tr th {\n",
       "        vertical-align: top;\n",
       "    }\n",
       "\n",
       "    .dataframe thead th {\n",
       "        text-align: right;\n",
       "    }\n",
       "</style>\n",
       "<table border=\"1\" class=\"dataframe\">\n",
       "  <thead>\n",
       "    <tr style=\"text-align: right;\">\n",
       "      <th></th>\n",
       "      <th>id</th>\n",
       "      <th>listing_url</th>\n",
       "      <th>scrape_id</th>\n",
       "      <th>last_scraped</th>\n",
       "      <th>name</th>\n",
       "      <th>description</th>\n",
       "      <th>neighborhood_overview</th>\n",
       "      <th>picture_url</th>\n",
       "      <th>host_id</th>\n",
       "      <th>host_url</th>\n",
       "      <th>...</th>\n",
       "      <th>review_scores_communication</th>\n",
       "      <th>review_scores_location</th>\n",
       "      <th>review_scores_value</th>\n",
       "      <th>license</th>\n",
       "      <th>instant_bookable</th>\n",
       "      <th>calculated_host_listings_count</th>\n",
       "      <th>calculated_host_listings_count_entire_homes</th>\n",
       "      <th>calculated_host_listings_count_private_rooms</th>\n",
       "      <th>calculated_host_listings_count_shared_rooms</th>\n",
       "      <th>reviews_per_month</th>\n",
       "    </tr>\n",
       "  </thead>\n",
       "  <tbody>\n",
       "    <tr>\n",
       "      <th>0</th>\n",
       "      <td>958</td>\n",
       "      <td>https://www.airbnb.com/rooms/958</td>\n",
       "      <td>20200815122856</td>\n",
       "      <td>2020-08-15</td>\n",
       "      <td>Bright, Modern Garden Unit - 1BR/1BTH</td>\n",
       "      <td>Cleaning Protocol: Our cleaners follow the Air...</td>\n",
       "      <td>Quiet cul de sac in friendly neighborhood&lt;br /...</td>\n",
       "      <td>https://a0.muscache.com/pictures/b7c2a199-4c17...</td>\n",
       "      <td>1169</td>\n",
       "      <td>https://www.airbnb.com/users/show/1169</td>\n",
       "      <td>...</td>\n",
       "      <td>10.0</td>\n",
       "      <td>10.0</td>\n",
       "      <td>10.0</td>\n",
       "      <td>STR-0001256</td>\n",
       "      <td>f</td>\n",
       "      <td>1</td>\n",
       "      <td>1</td>\n",
       "      <td>0</td>\n",
       "      <td>0</td>\n",
       "      <td>1.91</td>\n",
       "    </tr>\n",
       "    <tr>\n",
       "      <th>1</th>\n",
       "      <td>5858</td>\n",
       "      <td>https://www.airbnb.com/rooms/5858</td>\n",
       "      <td>20200815122856</td>\n",
       "      <td>2020-08-15</td>\n",
       "      <td>Creative Sanctuary</td>\n",
       "      <td>&lt;b&gt;The space&lt;/b&gt;&lt;br /&gt;We live in a large Victo...</td>\n",
       "      <td>I love how our neighborhood feels quiet but is...</td>\n",
       "      <td>https://a0.muscache.com/pictures/17714/3a7aea1...</td>\n",
       "      <td>8904</td>\n",
       "      <td>https://www.airbnb.com/users/show/8904</td>\n",
       "      <td>...</td>\n",
       "      <td>10.0</td>\n",
       "      <td>10.0</td>\n",
       "      <td>9.0</td>\n",
       "      <td>NaN</td>\n",
       "      <td>f</td>\n",
       "      <td>1</td>\n",
       "      <td>1</td>\n",
       "      <td>0</td>\n",
       "      <td>0</td>\n",
       "      <td>0.81</td>\n",
       "    </tr>\n",
       "    <tr>\n",
       "      <th>2</th>\n",
       "      <td>7918</td>\n",
       "      <td>https://www.airbnb.com/rooms/7918</td>\n",
       "      <td>20200815122856</td>\n",
       "      <td>2020-08-15</td>\n",
       "      <td>A Friendly Room - UCSF/USF - San Francisco</td>\n",
       "      <td>Nice and good public transportation.  7 minute...</td>\n",
       "      <td>Shopping old town, restaurants, McDonald, Whol...</td>\n",
       "      <td>https://a0.muscache.com/pictures/26356/8030652...</td>\n",
       "      <td>21994</td>\n",
       "      <td>https://www.airbnb.com/users/show/21994</td>\n",
       "      <td>...</td>\n",
       "      <td>9.0</td>\n",
       "      <td>9.0</td>\n",
       "      <td>8.0</td>\n",
       "      <td>NaN</td>\n",
       "      <td>f</td>\n",
       "      <td>9</td>\n",
       "      <td>0</td>\n",
       "      <td>9</td>\n",
       "      <td>0</td>\n",
       "      <td>0.14</td>\n",
       "    </tr>\n",
       "    <tr>\n",
       "      <th>3</th>\n",
       "      <td>8142</td>\n",
       "      <td>https://www.airbnb.com/rooms/8142</td>\n",
       "      <td>20200815122856</td>\n",
       "      <td>2020-08-15</td>\n",
       "      <td>Friendly Room Apt. Style -UCSF/USF - San Franc...</td>\n",
       "      <td>Nice and good public transportation.  7 minute...</td>\n",
       "      <td>NaN</td>\n",
       "      <td>https://a0.muscache.com/pictures/27832/3b1f9e5...</td>\n",
       "      <td>21994</td>\n",
       "      <td>https://www.airbnb.com/users/show/21994</td>\n",
       "      <td>...</td>\n",
       "      <td>10.0</td>\n",
       "      <td>9.0</td>\n",
       "      <td>9.0</td>\n",
       "      <td>NaN</td>\n",
       "      <td>f</td>\n",
       "      <td>9</td>\n",
       "      <td>0</td>\n",
       "      <td>9</td>\n",
       "      <td>0</td>\n",
       "      <td>0.11</td>\n",
       "    </tr>\n",
       "    <tr>\n",
       "      <th>4</th>\n",
       "      <td>8339</td>\n",
       "      <td>https://www.airbnb.com/rooms/8339</td>\n",
       "      <td>20200815122856</td>\n",
       "      <td>2020-08-15</td>\n",
       "      <td>Historic Alamo Square Victorian</td>\n",
       "      <td>Pls email before booking. &lt;br /&gt;Interior featu...</td>\n",
       "      <td>NaN</td>\n",
       "      <td>https://a0.muscache.com/pictures/213fbf05-3545...</td>\n",
       "      <td>24215</td>\n",
       "      <td>https://www.airbnb.com/users/show/24215</td>\n",
       "      <td>...</td>\n",
       "      <td>10.0</td>\n",
       "      <td>10.0</td>\n",
       "      <td>10.0</td>\n",
       "      <td>STR-0000264</td>\n",
       "      <td>f</td>\n",
       "      <td>2</td>\n",
       "      <td>2</td>\n",
       "      <td>0</td>\n",
       "      <td>0</td>\n",
       "      <td>0.21</td>\n",
       "    </tr>\n",
       "  </tbody>\n",
       "</table>\n",
       "<p>5 rows × 74 columns</p>\n",
       "</div>"
      ],
      "text/plain": [
       "     id                        listing_url       scrape_id last_scraped  \\\n",
       "0   958   https://www.airbnb.com/rooms/958  20200815122856   2020-08-15   \n",
       "1  5858  https://www.airbnb.com/rooms/5858  20200815122856   2020-08-15   \n",
       "2  7918  https://www.airbnb.com/rooms/7918  20200815122856   2020-08-15   \n",
       "3  8142  https://www.airbnb.com/rooms/8142  20200815122856   2020-08-15   \n",
       "4  8339  https://www.airbnb.com/rooms/8339  20200815122856   2020-08-15   \n",
       "\n",
       "                                                name  \\\n",
       "0              Bright, Modern Garden Unit - 1BR/1BTH   \n",
       "1                                 Creative Sanctuary   \n",
       "2         A Friendly Room - UCSF/USF - San Francisco   \n",
       "3  Friendly Room Apt. Style -UCSF/USF - San Franc...   \n",
       "4                    Historic Alamo Square Victorian   \n",
       "\n",
       "                                         description  \\\n",
       "0  Cleaning Protocol: Our cleaners follow the Air...   \n",
       "1  <b>The space</b><br />We live in a large Victo...   \n",
       "2  Nice and good public transportation.  7 minute...   \n",
       "3  Nice and good public transportation.  7 minute...   \n",
       "4  Pls email before booking. <br />Interior featu...   \n",
       "\n",
       "                               neighborhood_overview  \\\n",
       "0  Quiet cul de sac in friendly neighborhood<br /...   \n",
       "1  I love how our neighborhood feels quiet but is...   \n",
       "2  Shopping old town, restaurants, McDonald, Whol...   \n",
       "3                                                NaN   \n",
       "4                                                NaN   \n",
       "\n",
       "                                         picture_url  host_id  \\\n",
       "0  https://a0.muscache.com/pictures/b7c2a199-4c17...     1169   \n",
       "1  https://a0.muscache.com/pictures/17714/3a7aea1...     8904   \n",
       "2  https://a0.muscache.com/pictures/26356/8030652...    21994   \n",
       "3  https://a0.muscache.com/pictures/27832/3b1f9e5...    21994   \n",
       "4  https://a0.muscache.com/pictures/213fbf05-3545...    24215   \n",
       "\n",
       "                                  host_url  ... review_scores_communication  \\\n",
       "0   https://www.airbnb.com/users/show/1169  ...                        10.0   \n",
       "1   https://www.airbnb.com/users/show/8904  ...                        10.0   \n",
       "2  https://www.airbnb.com/users/show/21994  ...                         9.0   \n",
       "3  https://www.airbnb.com/users/show/21994  ...                        10.0   \n",
       "4  https://www.airbnb.com/users/show/24215  ...                        10.0   \n",
       "\n",
       "  review_scores_location review_scores_value      license instant_bookable  \\\n",
       "0                   10.0                10.0  STR-0001256                f   \n",
       "1                   10.0                 9.0          NaN                f   \n",
       "2                    9.0                 8.0          NaN                f   \n",
       "3                    9.0                 9.0          NaN                f   \n",
       "4                   10.0                10.0  STR-0000264                f   \n",
       "\n",
       "  calculated_host_listings_count calculated_host_listings_count_entire_homes  \\\n",
       "0                              1                                           1   \n",
       "1                              1                                           1   \n",
       "2                              9                                           0   \n",
       "3                              9                                           0   \n",
       "4                              2                                           2   \n",
       "\n",
       "  calculated_host_listings_count_private_rooms  \\\n",
       "0                                            0   \n",
       "1                                            0   \n",
       "2                                            9   \n",
       "3                                            9   \n",
       "4                                            0   \n",
       "\n",
       "  calculated_host_listings_count_shared_rooms reviews_per_month  \n",
       "0                                           0              1.91  \n",
       "1                                           0              0.81  \n",
       "2                                           0              0.14  \n",
       "3                                           0              0.11  \n",
       "4                                           0              0.21  \n",
       "\n",
       "[5 rows x 74 columns]"
      ]
     },
     "execution_count": 73,
     "metadata": {},
     "output_type": "execute_result"
    }
   ],
   "source": [
    "listings_df = pd.read_csv(\"../raw_data/listings.csv\")\n",
    "listings_df.head()"
   ]
  },
  {
   "cell_type": "markdown",
   "metadata": {},
   "source": [
    "## Checking structure and data types"
   ]
  },
  {
   "cell_type": "code",
   "execution_count": 74,
   "metadata": {
    "ExecuteTime": {
     "end_time": "2020-10-29T12:24:39.853274Z",
     "start_time": "2020-10-29T12:24:39.846292Z"
    }
   },
   "outputs": [
    {
     "data": {
      "text/plain": [
       "(7274, 74)"
      ]
     },
     "execution_count": 74,
     "metadata": {},
     "output_type": "execute_result"
    }
   ],
   "source": [
    "listings_df.shape"
   ]
  },
  {
   "cell_type": "code",
   "execution_count": 75,
   "metadata": {
    "ExecuteTime": {
     "end_time": "2020-10-29T12:24:39.936051Z",
     "start_time": "2020-10-29T12:24:39.857262Z"
    }
   },
   "outputs": [
    {
     "name": "stdout",
     "output_type": "stream",
     "text": [
      "<class 'pandas.core.frame.DataFrame'>\n",
      "RangeIndex: 7274 entries, 0 to 7273\n",
      "Data columns (total 74 columns):\n",
      " #   Column                                        Non-Null Count  Dtype  \n",
      "---  ------                                        --------------  -----  \n",
      " 0   id                                            7274 non-null   int64  \n",
      " 1   listing_url                                   7274 non-null   object \n",
      " 2   scrape_id                                     7274 non-null   int64  \n",
      " 3   last_scraped                                  7274 non-null   object \n",
      " 4   name                                          7274 non-null   object \n",
      " 5   description                                   7220 non-null   object \n",
      " 6   neighborhood_overview                         5330 non-null   object \n",
      " 7   picture_url                                   7274 non-null   object \n",
      " 8   host_id                                       7274 non-null   int64  \n",
      " 9   host_url                                      7274 non-null   object \n",
      " 10  host_name                                     7274 non-null   object \n",
      " 11  host_since                                    7274 non-null   object \n",
      " 12  host_location                                 7269 non-null   object \n",
      " 13  host_about                                    5475 non-null   object \n",
      " 14  host_response_time                            5321 non-null   object \n",
      " 15  host_response_rate                            5321 non-null   object \n",
      " 16  host_acceptance_rate                          6393 non-null   object \n",
      " 17  host_is_superhost                             7274 non-null   object \n",
      " 18  host_thumbnail_url                            7274 non-null   object \n",
      " 19  host_picture_url                              7274 non-null   object \n",
      " 20  host_neighbourhood                            6734 non-null   object \n",
      " 21  host_listings_count                           7274 non-null   int64  \n",
      " 22  host_total_listings_count                     7274 non-null   int64  \n",
      " 23  host_verifications                            7274 non-null   object \n",
      " 24  host_has_profile_pic                          7274 non-null   object \n",
      " 25  host_identity_verified                        7274 non-null   object \n",
      " 26  neighbourhood                                 5330 non-null   object \n",
      " 27  neighbourhood_cleansed                        7274 non-null   object \n",
      " 28  neighbourhood_group_cleansed                  0 non-null      float64\n",
      " 29  latitude                                      7274 non-null   float64\n",
      " 30  longitude                                     7274 non-null   float64\n",
      " 31  property_type                                 7274 non-null   object \n",
      " 32  room_type                                     7274 non-null   object \n",
      " 33  accommodates                                  7274 non-null   int64  \n",
      " 34  bathrooms                                     7185 non-null   float64\n",
      " 35  bathrooms_text                                82 non-null     object \n",
      " 36  bedrooms                                      6430 non-null   float64\n",
      " 37  beds                                          7234 non-null   float64\n",
      " 38  amenities                                     7274 non-null   object \n",
      " 39  price                                         7274 non-null   object \n",
      " 40  minimum_nights                                7274 non-null   int64  \n",
      " 41  maximum_nights                                7274 non-null   int64  \n",
      " 42  minimum_minimum_nights                        7274 non-null   int64  \n",
      " 43  maximum_minimum_nights                        7274 non-null   int64  \n",
      " 44  minimum_maximum_nights                        7274 non-null   int64  \n",
      " 45  maximum_maximum_nights                        7274 non-null   int64  \n",
      " 46  minimum_nights_avg_ntm                        7274 non-null   float64\n",
      " 47  maximum_nights_avg_ntm                        7274 non-null   float64\n",
      " 48  calendar_updated                              0 non-null      float64\n",
      " 49  has_availability                              7274 non-null   object \n",
      " 50  availability_30                               7274 non-null   int64  \n",
      " 51  availability_60                               7274 non-null   int64  \n",
      " 52  availability_90                               7274 non-null   int64  \n",
      " 53  availability_365                              7274 non-null   int64  \n",
      " 54  calendar_last_scraped                         7274 non-null   object \n",
      " 55  number_of_reviews                             7274 non-null   int64  \n",
      " 56  number_of_reviews_ltm                         7274 non-null   int64  \n",
      " 57  number_of_reviews_l30d                        7274 non-null   int64  \n",
      " 58  first_review                                  5554 non-null   object \n",
      " 59  last_review                                   5554 non-null   object \n",
      " 60  review_scores_rating                          5508 non-null   float64\n",
      " 61  review_scores_accuracy                        5495 non-null   float64\n",
      " 62  review_scores_cleanliness                     5495 non-null   float64\n",
      " 63  review_scores_checkin                         5494 non-null   float64\n",
      " 64  review_scores_communication                   5496 non-null   float64\n",
      " 65  review_scores_location                        5494 non-null   float64\n",
      " 66  review_scores_value                           5494 non-null   float64\n",
      " 67  license                                       4338 non-null   object \n",
      " 68  instant_bookable                              7274 non-null   object \n",
      " 69  calculated_host_listings_count                7274 non-null   int64  \n",
      " 70  calculated_host_listings_count_entire_homes   7274 non-null   int64  \n",
      " 71  calculated_host_listings_count_private_rooms  7274 non-null   int64  \n",
      " 72  calculated_host_listings_count_shared_rooms   7274 non-null   int64  \n",
      " 73  reviews_per_month                             5554 non-null   float64\n",
      "dtypes: float64(17), int64(23), object(34)\n",
      "memory usage: 4.1+ MB\n"
     ]
    }
   ],
   "source": [
    "listings_df.info()"
   ]
  },
  {
   "cell_type": "code",
   "execution_count": 76,
   "metadata": {
    "ExecuteTime": {
     "end_time": "2020-10-29T12:24:40.024814Z",
     "start_time": "2020-10-29T12:24:39.939049Z"
    }
   },
   "outputs": [
    {
     "name": "stdout",
     "output_type": "stream",
     "text": [
      "<class 'pandas.core.frame.DataFrame'>\n",
      "RangeIndex: 7274 entries, 0 to 7273\n",
      "Data columns (total 74 columns):\n",
      " #   Column                                        Non-Null Count  Dtype  \n",
      "---  ------                                        --------------  -----  \n",
      " 0   id                                            7274 non-null   int64  \n",
      " 1   listing_url                                   7274 non-null   object \n",
      " 2   scrape_id                                     7274 non-null   int64  \n",
      " 3   last_scraped                                  7274 non-null   object \n",
      " 4   name                                          7274 non-null   object \n",
      " 5   description                                   7220 non-null   object \n",
      " 6   neighborhood_overview                         5330 non-null   object \n",
      " 7   picture_url                                   7274 non-null   object \n",
      " 8   host_id                                       7274 non-null   int64  \n",
      " 9   host_url                                      7274 non-null   object \n",
      " 10  host_name                                     7274 non-null   object \n",
      " 11  host_since                                    7274 non-null   object \n",
      " 12  host_location                                 7269 non-null   object \n",
      " 13  host_about                                    5475 non-null   object \n",
      " 14  host_response_time                            5321 non-null   object \n",
      " 15  host_response_rate                            5321 non-null   object \n",
      " 16  host_acceptance_rate                          6393 non-null   object \n",
      " 17  host_is_superhost                             7274 non-null   object \n",
      " 18  host_thumbnail_url                            7274 non-null   object \n",
      " 19  host_picture_url                              7274 non-null   object \n",
      " 20  host_neighbourhood                            6734 non-null   object \n",
      " 21  host_listings_count                           7274 non-null   int64  \n",
      " 22  host_total_listings_count                     7274 non-null   int64  \n",
      " 23  host_verifications                            7274 non-null   object \n",
      " 24  host_has_profile_pic                          7274 non-null   object \n",
      " 25  host_identity_verified                        7274 non-null   object \n",
      " 26  neighbourhood                                 5330 non-null   object \n",
      " 27  neighbourhood_cleansed                        7274 non-null   object \n",
      " 28  neighbourhood_group_cleansed                  0 non-null      float64\n",
      " 29  latitude                                      7274 non-null   float64\n",
      " 30  longitude                                     7274 non-null   float64\n",
      " 31  property_type                                 7274 non-null   object \n",
      " 32  room_type                                     7274 non-null   object \n",
      " 33  accommodates                                  7274 non-null   int64  \n",
      " 34  bathrooms                                     7185 non-null   float64\n",
      " 35  bathrooms_text                                82 non-null     object \n",
      " 36  bedrooms                                      6430 non-null   float64\n",
      " 37  beds                                          7234 non-null   float64\n",
      " 38  amenities                                     7274 non-null   object \n",
      " 39  price                                         7274 non-null   object \n",
      " 40  minimum_nights                                7274 non-null   int64  \n",
      " 41  maximum_nights                                7274 non-null   int64  \n",
      " 42  minimum_minimum_nights                        7274 non-null   int64  \n",
      " 43  maximum_minimum_nights                        7274 non-null   int64  \n",
      " 44  minimum_maximum_nights                        7274 non-null   int64  \n",
      " 45  maximum_maximum_nights                        7274 non-null   int64  \n",
      " 46  minimum_nights_avg_ntm                        7274 non-null   float64\n",
      " 47  maximum_nights_avg_ntm                        7274 non-null   float64\n",
      " 48  calendar_updated                              0 non-null      float64\n",
      " 49  has_availability                              7274 non-null   object \n",
      " 50  availability_30                               7274 non-null   int64  \n",
      " 51  availability_60                               7274 non-null   int64  \n",
      " 52  availability_90                               7274 non-null   int64  \n",
      " 53  availability_365                              7274 non-null   int64  \n",
      " 54  calendar_last_scraped                         7274 non-null   object \n",
      " 55  number_of_reviews                             7274 non-null   int64  \n",
      " 56  number_of_reviews_ltm                         7274 non-null   int64  \n",
      " 57  number_of_reviews_l30d                        7274 non-null   int64  \n",
      " 58  first_review                                  5554 non-null   object \n",
      " 59  last_review                                   5554 non-null   object \n",
      " 60  review_scores_rating                          5508 non-null   float64\n",
      " 61  review_scores_accuracy                        5495 non-null   float64\n",
      " 62  review_scores_cleanliness                     5495 non-null   float64\n",
      " 63  review_scores_checkin                         5494 non-null   float64\n",
      " 64  review_scores_communication                   5496 non-null   float64\n",
      " 65  review_scores_location                        5494 non-null   float64\n",
      " 66  review_scores_value                           5494 non-null   float64\n",
      " 67  license                                       4338 non-null   object \n",
      " 68  instant_bookable                              7274 non-null   object \n",
      " 69  calculated_host_listings_count                7274 non-null   int64  \n",
      " 70  calculated_host_listings_count_entire_homes   7274 non-null   int64  \n",
      " 71  calculated_host_listings_count_private_rooms  7274 non-null   int64  \n",
      " 72  calculated_host_listings_count_shared_rooms   7274 non-null   int64  \n",
      " 73  reviews_per_month                             5554 non-null   float64\n",
      "dtypes: float64(17), int64(23), object(34)\n",
      "memory usage: 4.1+ MB\n"
     ]
    }
   ],
   "source": [
    "listings_df.infer_objects()\n",
    "listings_df.info()"
   ]
  },
  {
   "cell_type": "markdown",
   "metadata": {},
   "source": [
    "## Dropping unnecessary columns"
   ]
  },
  {
   "cell_type": "code",
   "execution_count": 77,
   "metadata": {
    "ExecuteTime": {
     "end_time": "2020-10-29T12:24:40.091053Z",
     "start_time": "2020-10-29T12:24:40.028804Z"
    }
   },
   "outputs": [
    {
     "name": "stdout",
     "output_type": "stream",
     "text": [
      "<class 'pandas.core.frame.DataFrame'>\n",
      "RangeIndex: 7274 entries, 0 to 7273\n",
      "Data columns (total 56 columns):\n",
      " #   Column                       Non-Null Count  Dtype  \n",
      "---  ------                       --------------  -----  \n",
      " 0   id                           7274 non-null   int64  \n",
      " 1   name                         7274 non-null   object \n",
      " 2   description                  7220 non-null   object \n",
      " 3   neighborhood_overview        5330 non-null   object \n",
      " 4   host_id                      7274 non-null   int64  \n",
      " 5   host_name                    7274 non-null   object \n",
      " 6   host_since                   7274 non-null   object \n",
      " 7   host_location                7269 non-null   object \n",
      " 8   host_about                   5475 non-null   object \n",
      " 9   host_response_time           5321 non-null   object \n",
      " 10  host_response_rate           5321 non-null   object \n",
      " 11  host_acceptance_rate         6393 non-null   object \n",
      " 12  host_is_superhost            7274 non-null   object \n",
      " 13  host_neighbourhood           6734 non-null   object \n",
      " 14  host_listings_count          7274 non-null   int64  \n",
      " 15  host_total_listings_count    7274 non-null   int64  \n",
      " 16  host_verifications           7274 non-null   object \n",
      " 17  host_has_profile_pic         7274 non-null   object \n",
      " 18  host_identity_verified       7274 non-null   object \n",
      " 19  neighbourhood                5330 non-null   object \n",
      " 20  neighbourhood_cleansed       7274 non-null   object \n",
      " 21  latitude                     7274 non-null   float64\n",
      " 22  longitude                    7274 non-null   float64\n",
      " 23  property_type                7274 non-null   object \n",
      " 24  room_type                    7274 non-null   object \n",
      " 25  accommodates                 7274 non-null   int64  \n",
      " 26  bathrooms                    7185 non-null   float64\n",
      " 27  bathrooms_text               82 non-null     object \n",
      " 28  bedrooms                     6430 non-null   float64\n",
      " 29  beds                         7234 non-null   float64\n",
      " 30  amenities                    7274 non-null   object \n",
      " 31  price                        7274 non-null   object \n",
      " 32  minimum_nights               7274 non-null   int64  \n",
      " 33  maximum_nights               7274 non-null   int64  \n",
      " 34  minimum_nights_avg_ntm       7274 non-null   float64\n",
      " 35  maximum_nights_avg_ntm       7274 non-null   float64\n",
      " 36  has_availability             7274 non-null   object \n",
      " 37  availability_30              7274 non-null   int64  \n",
      " 38  availability_60              7274 non-null   int64  \n",
      " 39  availability_90              7274 non-null   int64  \n",
      " 40  availability_365             7274 non-null   int64  \n",
      " 41  calendar_last_scraped        7274 non-null   object \n",
      " 42  number_of_reviews            7274 non-null   int64  \n",
      " 43  number_of_reviews_ltm        7274 non-null   int64  \n",
      " 44  number_of_reviews_l30d       7274 non-null   int64  \n",
      " 45  first_review                 5554 non-null   object \n",
      " 46  last_review                  5554 non-null   object \n",
      " 47  review_scores_rating         5508 non-null   float64\n",
      " 48  review_scores_accuracy       5495 non-null   float64\n",
      " 49  review_scores_cleanliness    5495 non-null   float64\n",
      " 50  review_scores_checkin        5494 non-null   float64\n",
      " 51  review_scores_communication  5496 non-null   float64\n",
      " 52  review_scores_location       5494 non-null   float64\n",
      " 53  review_scores_value          5494 non-null   float64\n",
      " 54  instant_bookable             7274 non-null   object \n",
      " 55  reviews_per_month            5554 non-null   float64\n",
      "dtypes: float64(15), int64(14), object(27)\n",
      "memory usage: 3.1+ MB\n"
     ]
    }
   ],
   "source": [
    "listings_df.drop(['listing_url','scrape_id','last_scraped','picture_url','host_url',\\\n",
    "                  'host_thumbnail_url','host_picture_url','neighbourhood_group_cleansed',\\\n",
    "                 'minimum_minimum_nights','maximum_minimum_nights','minimum_maximum_nights',\\\n",
    "                 'maximum_maximum_nights','calendar_updated','license',\\\n",
    "                 'calculated_host_listings_count','calculated_host_listings_count_entire_homes',\\\n",
    "                 'calculated_host_listings_count_private_rooms','calculated_host_listings_count_shared_rooms'\\\n",
    "                 ],axis=1,inplace=True)\n",
    "listings_df.info()"
   ]
  },
  {
   "cell_type": "markdown",
   "metadata": {},
   "source": [
    "## Fixing wrong data types"
   ]
  },
  {
   "cell_type": "code",
   "execution_count": 78,
   "metadata": {
    "ExecuteTime": {
     "end_time": "2020-10-29T12:24:40.107011Z",
     "start_time": "2020-10-29T12:24:40.093048Z"
    }
   },
   "outputs": [
    {
     "data": {
      "text/plain": [
       "Index(['name', 'description', 'neighborhood_overview', 'host_name',\n",
       "       'host_since', 'host_location', 'host_about', 'host_response_time',\n",
       "       'host_response_rate', 'host_acceptance_rate', 'host_is_superhost',\n",
       "       'host_neighbourhood', 'host_verifications', 'host_has_profile_pic',\n",
       "       'host_identity_verified', 'neighbourhood', 'neighbourhood_cleansed',\n",
       "       'property_type', 'room_type', 'bathrooms_text', 'amenities', 'price',\n",
       "       'has_availability', 'calendar_last_scraped', 'first_review',\n",
       "       'last_review', 'instant_bookable'],\n",
       "      dtype='object')"
      ]
     },
     "execution_count": 78,
     "metadata": {},
     "output_type": "execute_result"
    }
   ],
   "source": [
    "listings_df.select_dtypes(include=['object']).columns"
   ]
  },
  {
   "cell_type": "code",
   "execution_count": 79,
   "metadata": {
    "ExecuteTime": {
     "end_time": "2020-10-29T12:24:40.301288Z",
     "start_time": "2020-10-29T12:24:40.111999Z"
    }
   },
   "outputs": [
    {
     "name": "stdout",
     "output_type": "stream",
     "text": [
      "<class 'pandas.core.frame.DataFrame'>\n",
      "RangeIndex: 7274 entries, 0 to 7273\n",
      "Data columns (total 56 columns):\n",
      " #   Column                       Non-Null Count  Dtype         \n",
      "---  ------                       --------------  -----         \n",
      " 0   id                           7274 non-null   int64         \n",
      " 1   name                         7274 non-null   object        \n",
      " 2   description                  7220 non-null   object        \n",
      " 3   neighborhood_overview        5330 non-null   object        \n",
      " 4   host_id                      7274 non-null   int64         \n",
      " 5   host_name                    7274 non-null   object        \n",
      " 6   host_since                   7274 non-null   datetime64[ns]\n",
      " 7   host_location                7269 non-null   object        \n",
      " 8   host_about                   5475 non-null   object        \n",
      " 9   host_response_time           5321 non-null   object        \n",
      " 10  host_response_rate           5321 non-null   float64       \n",
      " 11  host_acceptance_rate         6393 non-null   float64       \n",
      " 12  host_is_superhost            7274 non-null   bool          \n",
      " 13  host_neighbourhood           6734 non-null   object        \n",
      " 14  host_listings_count          7274 non-null   int64         \n",
      " 15  host_total_listings_count    7274 non-null   int64         \n",
      " 16  host_verifications           7274 non-null   object        \n",
      " 17  host_has_profile_pic         7274 non-null   bool          \n",
      " 18  host_identity_verified       7274 non-null   bool          \n",
      " 19  neighbourhood                5330 non-null   object        \n",
      " 20  neighbourhood_cleansed       7274 non-null   object        \n",
      " 21  latitude                     7274 non-null   float64       \n",
      " 22  longitude                    7274 non-null   float64       \n",
      " 23  property_type                7274 non-null   object        \n",
      " 24  room_type                    7274 non-null   object        \n",
      " 25  accommodates                 7274 non-null   int64         \n",
      " 26  bathrooms                    7185 non-null   float64       \n",
      " 27  bathrooms_text               82 non-null     object        \n",
      " 28  bedrooms                     6430 non-null   float64       \n",
      " 29  beds                         7234 non-null   float64       \n",
      " 30  amenities                    7274 non-null   object        \n",
      " 31  price                        7274 non-null   float64       \n",
      " 32  minimum_nights               7274 non-null   int64         \n",
      " 33  maximum_nights               7274 non-null   int64         \n",
      " 34  minimum_nights_avg_ntm       7274 non-null   float64       \n",
      " 35  maximum_nights_avg_ntm       7274 non-null   float64       \n",
      " 36  has_availability             7274 non-null   bool          \n",
      " 37  availability_30              7274 non-null   int64         \n",
      " 38  availability_60              7274 non-null   int64         \n",
      " 39  availability_90              7274 non-null   int64         \n",
      " 40  availability_365             7274 non-null   int64         \n",
      " 41  calendar_last_scraped        7274 non-null   datetime64[ns]\n",
      " 42  number_of_reviews            7274 non-null   int64         \n",
      " 43  number_of_reviews_ltm        7274 non-null   int64         \n",
      " 44  number_of_reviews_l30d       7274 non-null   int64         \n",
      " 45  first_review                 5554 non-null   datetime64[ns]\n",
      " 46  last_review                  5554 non-null   datetime64[ns]\n",
      " 47  review_scores_rating         5508 non-null   float64       \n",
      " 48  review_scores_accuracy       5495 non-null   float64       \n",
      " 49  review_scores_cleanliness    5495 non-null   float64       \n",
      " 50  review_scores_checkin        5494 non-null   float64       \n",
      " 51  review_scores_communication  5496 non-null   float64       \n",
      " 52  review_scores_location       5494 non-null   float64       \n",
      " 53  review_scores_value          5494 non-null   float64       \n",
      " 54  instant_bookable             7274 non-null   bool          \n",
      " 55  reviews_per_month            5554 non-null   float64       \n",
      "dtypes: bool(5), datetime64[ns](4), float64(18), int64(14), object(15)\n",
      "memory usage: 2.9+ MB\n"
     ]
    }
   ],
   "source": [
    "# str -> 'name', 'description', 'neighborhood_overview', 'host_name', 'host_location', 'host_about','host_response_time', \n",
    "#        'host_neighbourhood', 'neighbourhood', 'neighbourhood_cleansed',\n",
    "#       'property_type', 'room_type', 'bathrooms_text'\n",
    "# datetime -> 'host_since', 'calendar_last_scraped', 'first_review','last_review'\n",
    "# % (float)-> 'host_response_rate', 'host_acceptance_rate'\n",
    "# $ (int) -> 'price'\n",
    "# bool -> 'host_is_superhost', 'host_has_profile_pic','host_identity_verified', 'has_availability', 'instant_bookable'\n",
    "# list -> 'host_verifications', 'amenities'\n",
    "\n",
    "# # convert to str\n",
    "# str_columns = ['name', 'description', 'neighborhood_overview', 'host_name', 'host_location', 'host_about','host_response_time', 'host_neighbourhood', 'neighbourhood', 'neighbourhood_cleansed','property_type', 'room_type', 'bathrooms_text']\n",
    "# listings_df[str_columns] = listings_df[str_columns].astype(str)\n",
    "\n",
    "# convert to datetime\n",
    "listings_df[['host_since', 'calendar_last_scraped', 'first_review','last_review']] =\\\n",
    "listings_df[['host_since', 'calendar_last_scraped', 'first_review','last_review']].apply(pd.to_datetime)\n",
    "\n",
    "# convert % to float\n",
    "listings_df['host_response_rate'] =\\\n",
    "listings_df['host_response_rate'].str.replace('%', '').astype(float)/100\n",
    "listings_df['host_acceptance_rate'] =\\\n",
    "listings_df['host_acceptance_rate'].str.replace('%', '').astype(float)/100\n",
    "\n",
    "# convert $ to float\n",
    "listings_df['price']=listings_df['price'].apply(lambda x: x.replace('$', ''))\n",
    "listings_df['price']=listings_df['price'].apply(lambda x: x.replace(',', '')).astype(float)\n",
    "\n",
    "# convert to bool\n",
    "bool_columns = ['host_is_superhost', 'host_has_profile_pic','host_identity_verified', 'has_availability', 'instant_bookable']\n",
    "for column in bool_columns:\n",
    "    listings_df[column] = np.where(listings_df[column] == \"t\", True, False)\n",
    "                           \n",
    "listings_df.info()"
   ]
  },
  {
   "cell_type": "code",
   "execution_count": 80,
   "metadata": {
    "ExecuteTime": {
     "end_time": "2020-10-29T12:24:40.322231Z",
     "start_time": "2020-10-29T12:24:40.305277Z"
    },
    "scrolled": false
   },
   "outputs": [
    {
     "data": {
      "text/html": [
       "<div>\n",
       "<style scoped>\n",
       "    .dataframe tbody tr th:only-of-type {\n",
       "        vertical-align: middle;\n",
       "    }\n",
       "\n",
       "    .dataframe tbody tr th {\n",
       "        vertical-align: top;\n",
       "    }\n",
       "\n",
       "    .dataframe thead th {\n",
       "        text-align: right;\n",
       "    }\n",
       "</style>\n",
       "<table border=\"1\" class=\"dataframe\">\n",
       "  <thead>\n",
       "    <tr style=\"text-align: right;\">\n",
       "      <th></th>\n",
       "      <th>host_acceptance_rate</th>\n",
       "      <th>price</th>\n",
       "      <th>instant_bookable</th>\n",
       "    </tr>\n",
       "  </thead>\n",
       "  <tbody>\n",
       "    <tr>\n",
       "      <th>0</th>\n",
       "      <td>0.99</td>\n",
       "      <td>132.0</td>\n",
       "      <td>False</td>\n",
       "    </tr>\n",
       "    <tr>\n",
       "      <th>1</th>\n",
       "      <td>0.83</td>\n",
       "      <td>235.0</td>\n",
       "      <td>False</td>\n",
       "    </tr>\n",
       "    <tr>\n",
       "      <th>2</th>\n",
       "      <td>1.00</td>\n",
       "      <td>56.0</td>\n",
       "      <td>False</td>\n",
       "    </tr>\n",
       "    <tr>\n",
       "      <th>3</th>\n",
       "      <td>1.00</td>\n",
       "      <td>56.0</td>\n",
       "      <td>False</td>\n",
       "    </tr>\n",
       "    <tr>\n",
       "      <th>4</th>\n",
       "      <td>0.00</td>\n",
       "      <td>750.0</td>\n",
       "      <td>False</td>\n",
       "    </tr>\n",
       "  </tbody>\n",
       "</table>\n",
       "</div>"
      ],
      "text/plain": [
       "   host_acceptance_rate  price  instant_bookable\n",
       "0                  0.99  132.0             False\n",
       "1                  0.83  235.0             False\n",
       "2                  1.00   56.0             False\n",
       "3                  1.00   56.0             False\n",
       "4                  0.00  750.0             False"
      ]
     },
     "execution_count": 80,
     "metadata": {},
     "output_type": "execute_result"
    }
   ],
   "source": [
    "listings_df[['host_acceptance_rate','price','instant_bookable']].head()"
   ]
  },
  {
   "cell_type": "markdown",
   "metadata": {},
   "source": [
    "## Checking and filling null values"
   ]
  },
  {
   "cell_type": "code",
   "execution_count": 81,
   "metadata": {
    "ExecuteTime": {
     "end_time": "2020-10-29T12:24:40.350156Z",
     "start_time": "2020-10-29T12:24:40.326220Z"
    }
   },
   "outputs": [
    {
     "data": {
      "text/plain": [
       "id                                0\n",
       "name                              0\n",
       "description                      54\n",
       "neighborhood_overview          1944\n",
       "host_id                           0\n",
       "host_name                         0\n",
       "host_since                        0\n",
       "host_location                     5\n",
       "host_about                     1799\n",
       "host_response_time             1953\n",
       "host_response_rate             1953\n",
       "host_acceptance_rate            881\n",
       "host_is_superhost                 0\n",
       "host_neighbourhood              540\n",
       "host_listings_count               0\n",
       "host_total_listings_count         0\n",
       "host_verifications                0\n",
       "host_has_profile_pic              0\n",
       "host_identity_verified            0\n",
       "neighbourhood                  1944\n",
       "neighbourhood_cleansed            0\n",
       "latitude                          0\n",
       "longitude                         0\n",
       "property_type                     0\n",
       "room_type                         0\n",
       "accommodates                      0\n",
       "bathrooms                        89\n",
       "bathrooms_text                 7192\n",
       "bedrooms                        844\n",
       "beds                             40\n",
       "amenities                         0\n",
       "price                             0\n",
       "minimum_nights                    0\n",
       "maximum_nights                    0\n",
       "minimum_nights_avg_ntm            0\n",
       "maximum_nights_avg_ntm            0\n",
       "has_availability                  0\n",
       "availability_30                   0\n",
       "availability_60                   0\n",
       "availability_90                   0\n",
       "availability_365                  0\n",
       "calendar_last_scraped             0\n",
       "number_of_reviews                 0\n",
       "number_of_reviews_ltm             0\n",
       "number_of_reviews_l30d            0\n",
       "first_review                   1720\n",
       "last_review                    1720\n",
       "review_scores_rating           1766\n",
       "review_scores_accuracy         1779\n",
       "review_scores_cleanliness      1779\n",
       "review_scores_checkin          1780\n",
       "review_scores_communication    1778\n",
       "review_scores_location         1780\n",
       "review_scores_value            1780\n",
       "instant_bookable                  0\n",
       "reviews_per_month              1720\n",
       "dtype: int64"
      ]
     },
     "execution_count": 81,
     "metadata": {},
     "output_type": "execute_result"
    }
   ],
   "source": [
    "listings_df.isnull().sum()"
   ]
  },
  {
   "cell_type": "code",
   "execution_count": 82,
   "metadata": {
    "ExecuteTime": {
     "end_time": "2020-10-29T12:24:40.382072Z",
     "start_time": "2020-10-29T12:24:40.353149Z"
    }
   },
   "outputs": [
    {
     "data": {
      "text/plain": [
       "id                                0\n",
       "name                              0\n",
       "description                      54\n",
       "neighborhood_overview          1944\n",
       "host_id                           0\n",
       "host_name                         0\n",
       "host_since                        0\n",
       "host_location                     5\n",
       "host_about                     1799\n",
       "host_response_time             1953\n",
       "host_response_rate             1953\n",
       "host_acceptance_rate            881\n",
       "host_is_superhost                 0\n",
       "host_neighbourhood              540\n",
       "host_listings_count               0\n",
       "host_total_listings_count         0\n",
       "host_verifications                0\n",
       "host_has_profile_pic              0\n",
       "host_identity_verified            0\n",
       "neighbourhood                  1944\n",
       "neighbourhood_cleansed            0\n",
       "latitude                          0\n",
       "longitude                         0\n",
       "property_type                     0\n",
       "room_type                         0\n",
       "accommodates                      0\n",
       "bathrooms                         0\n",
       "bathrooms_text                 7192\n",
       "bedrooms                          0\n",
       "beds                              0\n",
       "amenities                         0\n",
       "price                             0\n",
       "minimum_nights                    0\n",
       "maximum_nights                    0\n",
       "minimum_nights_avg_ntm            0\n",
       "maximum_nights_avg_ntm            0\n",
       "has_availability                  0\n",
       "availability_30                   0\n",
       "availability_60                   0\n",
       "availability_90                   0\n",
       "availability_365                  0\n",
       "calendar_last_scraped             0\n",
       "number_of_reviews                 0\n",
       "number_of_reviews_ltm             0\n",
       "number_of_reviews_l30d            0\n",
       "first_review                   1720\n",
       "last_review                    1720\n",
       "review_scores_rating              0\n",
       "review_scores_accuracy            0\n",
       "review_scores_cleanliness         0\n",
       "review_scores_checkin             0\n",
       "review_scores_communication       0\n",
       "review_scores_location            0\n",
       "review_scores_value               0\n",
       "instant_bookable                  0\n",
       "reviews_per_month                 0\n",
       "dtype: int64"
      ]
     },
     "execution_count": 82,
     "metadata": {},
     "output_type": "execute_result"
    }
   ],
   "source": [
    "na_columns = ['bathrooms','bedrooms','beds','review_scores_rating',\\\n",
    "            'review_scores_accuracy','review_scores_cleanliness','review_scores_checkin',\\\n",
    "            'review_scores_communication','review_scores_location','review_scores_value',\\\n",
    "            'reviews_per_month']\n",
    "#listings_df[na_columns]=listings_df[na_columns].fillna(0)\n",
    "for column in na_columns:\n",
    "    listings_df[column].fillna(0,inplace=True) \n",
    "\n",
    "listings_df.isnull().sum()"
   ]
  },
  {
   "cell_type": "markdown",
   "metadata": {},
   "source": [
    "## Importing cleaned data to pickle file"
   ]
  },
  {
   "cell_type": "code",
   "execution_count": 83,
   "metadata": {
    "ExecuteTime": {
     "end_time": "2020-10-29T12:24:40.506738Z",
     "start_time": "2020-10-29T12:24:40.384066Z"
    }
   },
   "outputs": [
    {
     "data": {
      "text/html": [
       "<div>\n",
       "<style scoped>\n",
       "    .dataframe tbody tr th:only-of-type {\n",
       "        vertical-align: middle;\n",
       "    }\n",
       "\n",
       "    .dataframe tbody tr th {\n",
       "        vertical-align: top;\n",
       "    }\n",
       "\n",
       "    .dataframe thead th {\n",
       "        text-align: right;\n",
       "    }\n",
       "</style>\n",
       "<table border=\"1\" class=\"dataframe\">\n",
       "  <thead>\n",
       "    <tr style=\"text-align: right;\">\n",
       "      <th></th>\n",
       "      <th>id</th>\n",
       "      <th>name</th>\n",
       "      <th>description</th>\n",
       "      <th>neighborhood_overview</th>\n",
       "      <th>host_id</th>\n",
       "      <th>host_name</th>\n",
       "      <th>host_since</th>\n",
       "      <th>host_location</th>\n",
       "      <th>host_about</th>\n",
       "      <th>host_response_time</th>\n",
       "      <th>...</th>\n",
       "      <th>last_review</th>\n",
       "      <th>review_scores_rating</th>\n",
       "      <th>review_scores_accuracy</th>\n",
       "      <th>review_scores_cleanliness</th>\n",
       "      <th>review_scores_checkin</th>\n",
       "      <th>review_scores_communication</th>\n",
       "      <th>review_scores_location</th>\n",
       "      <th>review_scores_value</th>\n",
       "      <th>instant_bookable</th>\n",
       "      <th>reviews_per_month</th>\n",
       "    </tr>\n",
       "  </thead>\n",
       "  <tbody>\n",
       "    <tr>\n",
       "      <th>0</th>\n",
       "      <td>958</td>\n",
       "      <td>Bright, Modern Garden Unit - 1BR/1BTH</td>\n",
       "      <td>Cleaning Protocol: Our cleaners follow the Air...</td>\n",
       "      <td>Quiet cul de sac in friendly neighborhood&lt;br /...</td>\n",
       "      <td>1169</td>\n",
       "      <td>Holly</td>\n",
       "      <td>2008-07-31</td>\n",
       "      <td>San Francisco, California, United States</td>\n",
       "      <td>We are a family of four that live upstairs.  W...</td>\n",
       "      <td>within an hour</td>\n",
       "      <td>...</td>\n",
       "      <td>2020-07-30</td>\n",
       "      <td>97.0</td>\n",
       "      <td>10.0</td>\n",
       "      <td>10.0</td>\n",
       "      <td>10.0</td>\n",
       "      <td>10.0</td>\n",
       "      <td>10.0</td>\n",
       "      <td>10.0</td>\n",
       "      <td>False</td>\n",
       "      <td>1.91</td>\n",
       "    </tr>\n",
       "    <tr>\n",
       "      <th>1</th>\n",
       "      <td>5858</td>\n",
       "      <td>Creative Sanctuary</td>\n",
       "      <td>&lt;b&gt;The space&lt;/b&gt;&lt;br /&gt;We live in a large Victo...</td>\n",
       "      <td>I love how our neighborhood feels quiet but is...</td>\n",
       "      <td>8904</td>\n",
       "      <td>Philip And Tania</td>\n",
       "      <td>2009-03-02</td>\n",
       "      <td>San Francisco, California, United States</td>\n",
       "      <td>Philip: English transplant to the Bay Area and...</td>\n",
       "      <td>within a day</td>\n",
       "      <td>...</td>\n",
       "      <td>2017-08-06</td>\n",
       "      <td>98.0</td>\n",
       "      <td>10.0</td>\n",
       "      <td>10.0</td>\n",
       "      <td>10.0</td>\n",
       "      <td>10.0</td>\n",
       "      <td>10.0</td>\n",
       "      <td>9.0</td>\n",
       "      <td>False</td>\n",
       "      <td>0.81</td>\n",
       "    </tr>\n",
       "    <tr>\n",
       "      <th>2</th>\n",
       "      <td>7918</td>\n",
       "      <td>A Friendly Room - UCSF/USF - San Francisco</td>\n",
       "      <td>Nice and good public transportation.  7 minute...</td>\n",
       "      <td>Shopping old town, restaurants, McDonald, Whol...</td>\n",
       "      <td>21994</td>\n",
       "      <td>Aaron</td>\n",
       "      <td>2009-06-17</td>\n",
       "      <td>San Francisco, California, United States</td>\n",
       "      <td>7 minutes walk to UCSF hospital &amp; school campu...</td>\n",
       "      <td>within a few hours</td>\n",
       "      <td>...</td>\n",
       "      <td>2020-03-06</td>\n",
       "      <td>84.0</td>\n",
       "      <td>7.0</td>\n",
       "      <td>8.0</td>\n",
       "      <td>9.0</td>\n",
       "      <td>9.0</td>\n",
       "      <td>9.0</td>\n",
       "      <td>8.0</td>\n",
       "      <td>False</td>\n",
       "      <td>0.14</td>\n",
       "    </tr>\n",
       "    <tr>\n",
       "      <th>3</th>\n",
       "      <td>8142</td>\n",
       "      <td>Friendly Room Apt. Style -UCSF/USF - San Franc...</td>\n",
       "      <td>Nice and good public transportation.  7 minute...</td>\n",
       "      <td>NaN</td>\n",
       "      <td>21994</td>\n",
       "      <td>Aaron</td>\n",
       "      <td>2009-06-17</td>\n",
       "      <td>San Francisco, California, United States</td>\n",
       "      <td>7 minutes walk to UCSF hospital &amp; school campu...</td>\n",
       "      <td>within a few hours</td>\n",
       "      <td>...</td>\n",
       "      <td>2018-09-12</td>\n",
       "      <td>93.0</td>\n",
       "      <td>9.0</td>\n",
       "      <td>9.0</td>\n",
       "      <td>10.0</td>\n",
       "      <td>10.0</td>\n",
       "      <td>9.0</td>\n",
       "      <td>9.0</td>\n",
       "      <td>False</td>\n",
       "      <td>0.11</td>\n",
       "    </tr>\n",
       "    <tr>\n",
       "      <th>4</th>\n",
       "      <td>8339</td>\n",
       "      <td>Historic Alamo Square Victorian</td>\n",
       "      <td>Pls email before booking. &lt;br /&gt;Interior featu...</td>\n",
       "      <td>NaN</td>\n",
       "      <td>24215</td>\n",
       "      <td>Rosy</td>\n",
       "      <td>2009-07-02</td>\n",
       "      <td>San Francisco, California, United States</td>\n",
       "      <td>I'm an Interior Stylist living in SF. \\r\\n\\r\\n...</td>\n",
       "      <td>within a few hours</td>\n",
       "      <td>...</td>\n",
       "      <td>2019-06-28</td>\n",
       "      <td>97.0</td>\n",
       "      <td>10.0</td>\n",
       "      <td>10.0</td>\n",
       "      <td>10.0</td>\n",
       "      <td>10.0</td>\n",
       "      <td>10.0</td>\n",
       "      <td>10.0</td>\n",
       "      <td>False</td>\n",
       "      <td>0.21</td>\n",
       "    </tr>\n",
       "  </tbody>\n",
       "</table>\n",
       "<p>5 rows × 56 columns</p>\n",
       "</div>"
      ],
      "text/plain": [
       "     id                                               name  \\\n",
       "0   958              Bright, Modern Garden Unit - 1BR/1BTH   \n",
       "1  5858                                 Creative Sanctuary   \n",
       "2  7918         A Friendly Room - UCSF/USF - San Francisco   \n",
       "3  8142  Friendly Room Apt. Style -UCSF/USF - San Franc...   \n",
       "4  8339                    Historic Alamo Square Victorian   \n",
       "\n",
       "                                         description  \\\n",
       "0  Cleaning Protocol: Our cleaners follow the Air...   \n",
       "1  <b>The space</b><br />We live in a large Victo...   \n",
       "2  Nice and good public transportation.  7 minute...   \n",
       "3  Nice and good public transportation.  7 minute...   \n",
       "4  Pls email before booking. <br />Interior featu...   \n",
       "\n",
       "                               neighborhood_overview  host_id  \\\n",
       "0  Quiet cul de sac in friendly neighborhood<br /...     1169   \n",
       "1  I love how our neighborhood feels quiet but is...     8904   \n",
       "2  Shopping old town, restaurants, McDonald, Whol...    21994   \n",
       "3                                                NaN    21994   \n",
       "4                                                NaN    24215   \n",
       "\n",
       "          host_name host_since                             host_location  \\\n",
       "0             Holly 2008-07-31  San Francisco, California, United States   \n",
       "1  Philip And Tania 2009-03-02  San Francisco, California, United States   \n",
       "2             Aaron 2009-06-17  San Francisco, California, United States   \n",
       "3             Aaron 2009-06-17  San Francisco, California, United States   \n",
       "4              Rosy 2009-07-02  San Francisco, California, United States   \n",
       "\n",
       "                                          host_about  host_response_time  ...  \\\n",
       "0  We are a family of four that live upstairs.  W...      within an hour  ...   \n",
       "1  Philip: English transplant to the Bay Area and...        within a day  ...   \n",
       "2  7 minutes walk to UCSF hospital & school campu...  within a few hours  ...   \n",
       "3  7 minutes walk to UCSF hospital & school campu...  within a few hours  ...   \n",
       "4  I'm an Interior Stylist living in SF. \\r\\n\\r\\n...  within a few hours  ...   \n",
       "\n",
       "   last_review  review_scores_rating  review_scores_accuracy  \\\n",
       "0   2020-07-30                  97.0                    10.0   \n",
       "1   2017-08-06                  98.0                    10.0   \n",
       "2   2020-03-06                  84.0                     7.0   \n",
       "3   2018-09-12                  93.0                     9.0   \n",
       "4   2019-06-28                  97.0                    10.0   \n",
       "\n",
       "  review_scores_cleanliness  review_scores_checkin  \\\n",
       "0                      10.0                   10.0   \n",
       "1                      10.0                   10.0   \n",
       "2                       8.0                    9.0   \n",
       "3                       9.0                   10.0   \n",
       "4                      10.0                   10.0   \n",
       "\n",
       "   review_scores_communication review_scores_location  review_scores_value  \\\n",
       "0                         10.0                   10.0                 10.0   \n",
       "1                         10.0                   10.0                  9.0   \n",
       "2                          9.0                    9.0                  8.0   \n",
       "3                         10.0                    9.0                  9.0   \n",
       "4                         10.0                   10.0                 10.0   \n",
       "\n",
       "   instant_bookable reviews_per_month  \n",
       "0             False              1.91  \n",
       "1             False              0.81  \n",
       "2             False              0.14  \n",
       "3             False              0.11  \n",
       "4             False              0.21  \n",
       "\n",
       "[5 rows x 56 columns]"
      ]
     },
     "execution_count": 83,
     "metadata": {},
     "output_type": "execute_result"
    }
   ],
   "source": [
    "#listings_df.to_pickle('cleaned_listings.pkl')\n",
    "\n",
    "\n",
    "pickle_listings_df = pd.read_pickle('cleaned_listings.pkl')\n",
    "pickle_listings_df.head(5)"
   ]
  },
  {
   "cell_type": "markdown",
   "metadata": {},
   "source": [
    "## Check for duplicate rows"
   ]
  },
  {
   "cell_type": "code",
   "execution_count": 84,
   "metadata": {
    "ExecuteTime": {
     "end_time": "2020-10-29T12:24:40.660842Z",
     "start_time": "2020-10-29T12:24:40.509730Z"
    }
   },
   "outputs": [
    {
     "data": {
      "text/html": [
       "<div>\n",
       "<style scoped>\n",
       "    .dataframe tbody tr th:only-of-type {\n",
       "        vertical-align: middle;\n",
       "    }\n",
       "\n",
       "    .dataframe tbody tr th {\n",
       "        vertical-align: top;\n",
       "    }\n",
       "\n",
       "    .dataframe thead th {\n",
       "        text-align: right;\n",
       "    }\n",
       "</style>\n",
       "<table border=\"1\" class=\"dataframe\">\n",
       "  <thead>\n",
       "    <tr style=\"text-align: right;\">\n",
       "      <th></th>\n",
       "      <th>id</th>\n",
       "      <th>name</th>\n",
       "      <th>description</th>\n",
       "      <th>neighborhood_overview</th>\n",
       "      <th>host_id</th>\n",
       "      <th>host_name</th>\n",
       "      <th>host_since</th>\n",
       "      <th>host_location</th>\n",
       "      <th>host_about</th>\n",
       "      <th>host_response_time</th>\n",
       "      <th>...</th>\n",
       "      <th>last_review</th>\n",
       "      <th>review_scores_rating</th>\n",
       "      <th>review_scores_accuracy</th>\n",
       "      <th>review_scores_cleanliness</th>\n",
       "      <th>review_scores_checkin</th>\n",
       "      <th>review_scores_communication</th>\n",
       "      <th>review_scores_location</th>\n",
       "      <th>review_scores_value</th>\n",
       "      <th>instant_bookable</th>\n",
       "      <th>reviews_per_month</th>\n",
       "    </tr>\n",
       "  </thead>\n",
       "  <tbody>\n",
       "  </tbody>\n",
       "</table>\n",
       "<p>0 rows × 56 columns</p>\n",
       "</div>"
      ],
      "text/plain": [
       "Empty DataFrame\n",
       "Columns: [id, name, description, neighborhood_overview, host_id, host_name, host_since, host_location, host_about, host_response_time, host_response_rate, host_acceptance_rate, host_is_superhost, host_neighbourhood, host_listings_count, host_total_listings_count, host_verifications, host_has_profile_pic, host_identity_verified, neighbourhood, neighbourhood_cleansed, latitude, longitude, property_type, room_type, accommodates, bathrooms, bathrooms_text, bedrooms, beds, amenities, price, minimum_nights, maximum_nights, minimum_nights_avg_ntm, maximum_nights_avg_ntm, has_availability, availability_30, availability_60, availability_90, availability_365, calendar_last_scraped, number_of_reviews, number_of_reviews_ltm, number_of_reviews_l30d, first_review, last_review, review_scores_rating, review_scores_accuracy, review_scores_cleanliness, review_scores_checkin, review_scores_communication, review_scores_location, review_scores_value, instant_bookable, reviews_per_month]\n",
       "Index: []\n",
       "\n",
       "[0 rows x 56 columns]"
      ]
     },
     "execution_count": 84,
     "metadata": {},
     "output_type": "execute_result"
    }
   ],
   "source": [
    "pickle_listings_df[pickle_listings_df.duplicated()]"
   ]
  },
  {
   "cell_type": "markdown",
   "metadata": {},
   "source": [
    "# Pre-processing for Price Analysis"
   ]
  },
  {
   "cell_type": "markdown",
   "metadata": {},
   "source": [
    "## Drop Irrelevant columns"
   ]
  },
  {
   "cell_type": "code",
   "execution_count": 85,
   "metadata": {
    "ExecuteTime": {
     "end_time": "2020-10-29T12:24:40.842474Z",
     "start_time": "2020-10-29T12:24:40.663830Z"
    }
   },
   "outputs": [
    {
     "name": "stdout",
     "output_type": "stream",
     "text": [
      "<class 'pandas.core.frame.DataFrame'>\n",
      "RangeIndex: 7274 entries, 0 to 7273\n",
      "Data columns (total 20 columns):\n",
      " #   Column                  Non-Null Count  Dtype  \n",
      "---  ------                  --------------  -----  \n",
      " 0   id                      7274 non-null   int64  \n",
      " 1   host_response_time      5321 non-null   object \n",
      " 2   host_response_rate      5321 non-null   float64\n",
      " 3   host_acceptance_rate    6393 non-null   float64\n",
      " 4   host_is_superhost       7274 non-null   bool   \n",
      " 5   host_listings_count     7274 non-null   int64  \n",
      " 6   neighbourhood_cleansed  7274 non-null   object \n",
      " 7   property_type           7274 non-null   object \n",
      " 8   room_type               7274 non-null   object \n",
      " 9   accommodates            7274 non-null   int64  \n",
      " 10  bathrooms               7274 non-null   float64\n",
      " 11  bedrooms                7274 non-null   float64\n",
      " 12  beds                    7274 non-null   float64\n",
      " 13  amenities               7274 non-null   object \n",
      " 14  price                   7274 non-null   float64\n",
      " 15  minimum_nights          7274 non-null   int64  \n",
      " 16  maximum_nights          7274 non-null   int64  \n",
      " 17  number_of_reviews       7274 non-null   int64  \n",
      " 18  review_scores_rating    7274 non-null   float64\n",
      " 19  reviews_per_month       7274 non-null   float64\n",
      "dtypes: bool(1), float64(8), int64(6), object(5)\n",
      "memory usage: 1.1+ MB\n"
     ]
    }
   ],
   "source": [
    "relevant_columns = [\"id\",\"host_response_time\",\"host_response_rate\",\"host_acceptance_rate\",\"host_is_superhost\",\\\n",
    "                   \"host_listings_count\",\"neighbourhood_cleansed\",\"property_type\",\"room_type\",\\\n",
    "                   \"accommodates\",\"bathrooms\",\"bedrooms\",\"beds\",\"amenities\",\"price\",\"minimum_nights\",\"maximum_nights\",\\\n",
    "                   \"number_of_reviews\",\"review_scores_rating\",\"reviews_per_month\"]\n",
    "# print(len(relevant_columns))\n",
    "\n",
    "for column in pickle_listings_df.columns:\n",
    "    if column not in relevant_columns:\n",
    "        pickle_listings_df.drop(column, axis=1,inplace=True)\n",
    "pickle_listings_df.info()"
   ]
  },
  {
   "cell_type": "markdown",
   "metadata": {},
   "source": [
    "## Filling null values"
   ]
  },
  {
   "cell_type": "code",
   "execution_count": 86,
   "metadata": {
    "ExecuteTime": {
     "end_time": "2020-10-29T12:24:40.861424Z",
     "start_time": "2020-10-29T12:24:40.845464Z"
    }
   },
   "outputs": [
    {
     "data": {
      "text/plain": [
       "id                           0\n",
       "host_response_time        1953\n",
       "host_response_rate        1953\n",
       "host_acceptance_rate       881\n",
       "host_is_superhost            0\n",
       "host_listings_count          0\n",
       "neighbourhood_cleansed       0\n",
       "property_type                0\n",
       "room_type                    0\n",
       "accommodates                 0\n",
       "bathrooms                    0\n",
       "bedrooms                     0\n",
       "beds                         0\n",
       "amenities                    0\n",
       "price                        0\n",
       "minimum_nights               0\n",
       "maximum_nights               0\n",
       "number_of_reviews            0\n",
       "review_scores_rating         0\n",
       "reviews_per_month            0\n",
       "dtype: int64"
      ]
     },
     "execution_count": 86,
     "metadata": {},
     "output_type": "execute_result"
    }
   ],
   "source": [
    "pickle_listings_df.isnull().sum()"
   ]
  },
  {
   "cell_type": "code",
   "execution_count": 87,
   "metadata": {
    "ExecuteTime": {
     "end_time": "2020-10-29T12:24:40.884361Z",
     "start_time": "2020-10-29T12:24:40.865411Z"
    }
   },
   "outputs": [
    {
     "data": {
      "text/plain": [
       "id                        0\n",
       "host_response_time        0\n",
       "host_response_rate        0\n",
       "host_acceptance_rate      0\n",
       "host_is_superhost         0\n",
       "host_listings_count       0\n",
       "neighbourhood_cleansed    0\n",
       "property_type             0\n",
       "room_type                 0\n",
       "accommodates              0\n",
       "bathrooms                 0\n",
       "bedrooms                  0\n",
       "beds                      0\n",
       "amenities                 0\n",
       "price                     0\n",
       "minimum_nights            0\n",
       "maximum_nights            0\n",
       "number_of_reviews         0\n",
       "review_scores_rating      0\n",
       "reviews_per_month         0\n",
       "dtype: int64"
      ]
     },
     "execution_count": 87,
     "metadata": {},
     "output_type": "execute_result"
    }
   ],
   "source": [
    "pickle_listings_df[\"host_response_time\"].fillna(\"-\",inplace=True)\n",
    "pickle_listings_df[\"host_response_rate\"].fillna(0,inplace=True)\n",
    "pickle_listings_df[\"host_acceptance_rate\"].fillna(0,inplace=True)\n",
    "pickle_listings_df.isnull().sum()"
   ]
  },
  {
   "cell_type": "markdown",
   "metadata": {},
   "source": [
    "## Check duplicate rows"
   ]
  },
  {
   "cell_type": "code",
   "execution_count": 88,
   "metadata": {
    "ExecuteTime": {
     "end_time": "2020-10-29T12:24:40.920264Z",
     "start_time": "2020-10-29T12:24:40.887352Z"
    },
    "scrolled": true
   },
   "outputs": [
    {
     "name": "stdout",
     "output_type": "stream",
     "text": [
      "Empty DataFrame\n",
      "Columns: [id, host_response_time, host_response_rate, host_acceptance_rate, host_is_superhost, host_listings_count, neighbourhood_cleansed, property_type, room_type, accommodates, bathrooms, bedrooms, beds, amenities, price, minimum_nights, maximum_nights, number_of_reviews, review_scores_rating, reviews_per_month]\n",
      "Index: []\n"
     ]
    }
   ],
   "source": [
    "duplicate_rows = pickle_listings_df[pickle_listings_df.duplicated()]\n",
    "print(duplicate_rows)"
   ]
  },
  {
   "cell_type": "code",
   "execution_count": 89,
   "metadata": {
    "ExecuteTime": {
     "end_time": "2020-10-29T12:24:40.989080Z",
     "start_time": "2020-10-29T12:24:40.923255Z"
    }
   },
   "outputs": [
    {
     "data": {
      "text/plain": [
       "False"
      ]
     },
     "execution_count": 89,
     "metadata": {},
     "output_type": "execute_result"
    }
   ],
   "source": [
    "pickle_listings_df = pickle_listings_df.drop_duplicates()\n",
    "pickle_listings_df.duplicated().any()"
   ]
  },
  {
   "cell_type": "code",
   "execution_count": 90,
   "metadata": {
    "ExecuteTime": {
     "end_time": "2020-10-29T12:24:41.035954Z",
     "start_time": "2020-10-29T12:24:40.992071Z"
    }
   },
   "outputs": [
    {
     "data": {
      "text/html": [
       "<div>\n",
       "<style scoped>\n",
       "    .dataframe tbody tr th:only-of-type {\n",
       "        vertical-align: middle;\n",
       "    }\n",
       "\n",
       "    .dataframe tbody tr th {\n",
       "        vertical-align: top;\n",
       "    }\n",
       "\n",
       "    .dataframe thead th {\n",
       "        text-align: right;\n",
       "    }\n",
       "</style>\n",
       "<table border=\"1\" class=\"dataframe\">\n",
       "  <thead>\n",
       "    <tr style=\"text-align: right;\">\n",
       "      <th></th>\n",
       "      <th>id</th>\n",
       "      <th>host_response_time</th>\n",
       "      <th>host_response_rate</th>\n",
       "      <th>host_acceptance_rate</th>\n",
       "      <th>host_is_superhost</th>\n",
       "      <th>host_listings_count</th>\n",
       "      <th>neighbourhood_cleansed</th>\n",
       "      <th>property_type</th>\n",
       "      <th>room_type</th>\n",
       "      <th>accommodates</th>\n",
       "      <th>bathrooms</th>\n",
       "      <th>bedrooms</th>\n",
       "      <th>beds</th>\n",
       "      <th>amenities</th>\n",
       "      <th>price</th>\n",
       "      <th>minimum_nights</th>\n",
       "      <th>maximum_nights</th>\n",
       "      <th>number_of_reviews</th>\n",
       "      <th>review_scores_rating</th>\n",
       "      <th>reviews_per_month</th>\n",
       "    </tr>\n",
       "  </thead>\n",
       "  <tbody>\n",
       "    <tr>\n",
       "      <th>0</th>\n",
       "      <td>958</td>\n",
       "      <td>within an hour</td>\n",
       "      <td>1.0</td>\n",
       "      <td>0.99</td>\n",
       "      <td>1</td>\n",
       "      <td>1</td>\n",
       "      <td>Western Addition</td>\n",
       "      <td>Entire apartment</td>\n",
       "      <td>Entire home/apt</td>\n",
       "      <td>3</td>\n",
       "      <td>1.0</td>\n",
       "      <td>1.0</td>\n",
       "      <td>2.0</td>\n",
       "      <td>[\"Heating\", \"Hot water\", \"Stove\", \"Iron\", \"Dry...</td>\n",
       "      <td>132.0</td>\n",
       "      <td>2</td>\n",
       "      <td>30</td>\n",
       "      <td>257</td>\n",
       "      <td>97.0</td>\n",
       "      <td>1.91</td>\n",
       "    </tr>\n",
       "    <tr>\n",
       "      <th>1</th>\n",
       "      <td>5858</td>\n",
       "      <td>within a day</td>\n",
       "      <td>0.6</td>\n",
       "      <td>0.83</td>\n",
       "      <td>0</td>\n",
       "      <td>2</td>\n",
       "      <td>Bernal Heights</td>\n",
       "      <td>Entire apartment</td>\n",
       "      <td>Entire home/apt</td>\n",
       "      <td>5</td>\n",
       "      <td>1.0</td>\n",
       "      <td>2.0</td>\n",
       "      <td>3.0</td>\n",
       "      <td>[\"Smoke alarm\", \"Heating\", \"Kitchen\", \"First a...</td>\n",
       "      <td>235.0</td>\n",
       "      <td>30</td>\n",
       "      <td>60</td>\n",
       "      <td>111</td>\n",
       "      <td>98.0</td>\n",
       "      <td>0.81</td>\n",
       "    </tr>\n",
       "    <tr>\n",
       "      <th>2</th>\n",
       "      <td>7918</td>\n",
       "      <td>within a few hours</td>\n",
       "      <td>1.0</td>\n",
       "      <td>1.00</td>\n",
       "      <td>0</td>\n",
       "      <td>10</td>\n",
       "      <td>Haight Ashbury</td>\n",
       "      <td>Private room in apartment</td>\n",
       "      <td>Private room</td>\n",
       "      <td>2</td>\n",
       "      <td>4.0</td>\n",
       "      <td>1.0</td>\n",
       "      <td>1.0</td>\n",
       "      <td>[\"Host greets you\", \"Heating\", \"Hot water\", \"K...</td>\n",
       "      <td>56.0</td>\n",
       "      <td>32</td>\n",
       "      <td>60</td>\n",
       "      <td>19</td>\n",
       "      <td>84.0</td>\n",
       "      <td>0.14</td>\n",
       "    </tr>\n",
       "    <tr>\n",
       "      <th>3</th>\n",
       "      <td>8142</td>\n",
       "      <td>within a few hours</td>\n",
       "      <td>1.0</td>\n",
       "      <td>1.00</td>\n",
       "      <td>0</td>\n",
       "      <td>10</td>\n",
       "      <td>Haight Ashbury</td>\n",
       "      <td>Private room in apartment</td>\n",
       "      <td>Private room</td>\n",
       "      <td>2</td>\n",
       "      <td>4.0</td>\n",
       "      <td>1.0</td>\n",
       "      <td>1.0</td>\n",
       "      <td>[\"Host greets you\", \"Heating\", \"Hot water\", \"K...</td>\n",
       "      <td>56.0</td>\n",
       "      <td>32</td>\n",
       "      <td>90</td>\n",
       "      <td>8</td>\n",
       "      <td>93.0</td>\n",
       "      <td>0.11</td>\n",
       "    </tr>\n",
       "    <tr>\n",
       "      <th>4</th>\n",
       "      <td>8339</td>\n",
       "      <td>within a few hours</td>\n",
       "      <td>1.0</td>\n",
       "      <td>0.00</td>\n",
       "      <td>0</td>\n",
       "      <td>2</td>\n",
       "      <td>Western Addition</td>\n",
       "      <td>Entire condominium</td>\n",
       "      <td>Entire home/apt</td>\n",
       "      <td>4</td>\n",
       "      <td>1.5</td>\n",
       "      <td>2.0</td>\n",
       "      <td>2.0</td>\n",
       "      <td>[\"Heating\", \"Hot water\", \"Stove\", \"Iron\", \"Car...</td>\n",
       "      <td>750.0</td>\n",
       "      <td>5</td>\n",
       "      <td>111</td>\n",
       "      <td>28</td>\n",
       "      <td>97.0</td>\n",
       "      <td>0.21</td>\n",
       "    </tr>\n",
       "  </tbody>\n",
       "</table>\n",
       "</div>"
      ],
      "text/plain": [
       "     id  host_response_time  host_response_rate  host_acceptance_rate  \\\n",
       "0   958      within an hour                 1.0                  0.99   \n",
       "1  5858        within a day                 0.6                  0.83   \n",
       "2  7918  within a few hours                 1.0                  1.00   \n",
       "3  8142  within a few hours                 1.0                  1.00   \n",
       "4  8339  within a few hours                 1.0                  0.00   \n",
       "\n",
       "   host_is_superhost  host_listings_count neighbourhood_cleansed  \\\n",
       "0                  1                    1       Western Addition   \n",
       "1                  0                    2         Bernal Heights   \n",
       "2                  0                   10         Haight Ashbury   \n",
       "3                  0                   10         Haight Ashbury   \n",
       "4                  0                    2       Western Addition   \n",
       "\n",
       "               property_type        room_type  accommodates  bathrooms  \\\n",
       "0           Entire apartment  Entire home/apt             3        1.0   \n",
       "1           Entire apartment  Entire home/apt             5        1.0   \n",
       "2  Private room in apartment     Private room             2        4.0   \n",
       "3  Private room in apartment     Private room             2        4.0   \n",
       "4         Entire condominium  Entire home/apt             4        1.5   \n",
       "\n",
       "   bedrooms  beds                                          amenities  price  \\\n",
       "0       1.0   2.0  [\"Heating\", \"Hot water\", \"Stove\", \"Iron\", \"Dry...  132.0   \n",
       "1       2.0   3.0  [\"Smoke alarm\", \"Heating\", \"Kitchen\", \"First a...  235.0   \n",
       "2       1.0   1.0  [\"Host greets you\", \"Heating\", \"Hot water\", \"K...   56.0   \n",
       "3       1.0   1.0  [\"Host greets you\", \"Heating\", \"Hot water\", \"K...   56.0   \n",
       "4       2.0   2.0  [\"Heating\", \"Hot water\", \"Stove\", \"Iron\", \"Car...  750.0   \n",
       "\n",
       "   minimum_nights  maximum_nights  number_of_reviews  review_scores_rating  \\\n",
       "0               2              30                257                  97.0   \n",
       "1              30              60                111                  98.0   \n",
       "2              32              60                 19                  84.0   \n",
       "3              32              90                  8                  93.0   \n",
       "4               5             111                 28                  97.0   \n",
       "\n",
       "   reviews_per_month  \n",
       "0               1.91  \n",
       "1               0.81  \n",
       "2               0.14  \n",
       "3               0.11  \n",
       "4               0.21  "
      ]
     },
     "execution_count": 90,
     "metadata": {},
     "output_type": "execute_result"
    }
   ],
   "source": [
    "pickle_listings_df['host_is_superhost'] = np.where(pickle_listings_df['host_is_superhost'] == True, 1, 0)\n",
    "pickle_listings_df.head()"
   ]
  },
  {
   "cell_type": "markdown",
   "metadata": {},
   "source": [
    "## Price Distribution"
   ]
  },
  {
   "cell_type": "code",
   "execution_count": 91,
   "metadata": {
    "ExecuteTime": {
     "end_time": "2020-10-29T12:24:41.492249Z",
     "start_time": "2020-10-29T12:24:41.038947Z"
    }
   },
   "outputs": [
    {
     "data": {
      "image/png": "[encoded data removed]",
      "text/plain": [
       "<Figure size 432x288 with 1 Axes>"
      ]
     },
     "metadata": {
      "needs_background": "light"
     },
     "output_type": "display_data"
    }
   ],
   "source": [
    "# visualize distribution of price (target variable)\n",
    "plt.hist(pickle_listings_df['price'], bins=50)\n",
    "plt.title(\"Histogram of Pricing\")\n",
    "plt.xlabel(\"Pricing (USD) Per Day\")\n",
    "plt.ylabel(\"Frequency\")\n",
    "plt.show()"
   ]
  },
  {
   "cell_type": "code",
   "execution_count": 92,
   "metadata": {
    "ExecuteTime": {
     "end_time": "2020-10-29T12:24:41.903159Z",
     "start_time": "2020-10-29T12:24:41.495240Z"
    }
   },
   "outputs": [
    {
     "data": {
      "text/plain": [
       "<matplotlib.axes._subplots.AxesSubplot at 0x2252f1fd1f0>"
      ]
     },
     "execution_count": 92,
     "metadata": {},
     "output_type": "execute_result"
    },
    {
     "data": {
      "image/png": "[encoded data removed]",
      "text/plain": [
       "<Figure size 432x288 with 1 Axes>"
      ]
     },
     "metadata": {
      "needs_background": "light"
     },
     "output_type": "display_data"
    }
   ],
   "source": [
    "sns.distplot(pickle_listings_df['price'], kde=False,bins=50)"
   ]
  },
  {
   "cell_type": "markdown",
   "metadata": {},
   "source": [
    "## Filter out Price Outliers"
   ]
  },
  {
   "cell_type": "code",
   "execution_count": 93,
   "metadata": {
    "ExecuteTime": {
     "end_time": "2020-10-29T12:24:41.928092Z",
     "start_time": "2020-10-29T12:24:41.906153Z"
    }
   },
   "outputs": [
    {
     "data": {
      "text/plain": [
       "count    6982.000000\n",
       "mean      165.477050\n",
       "std       111.730612\n",
       "min        10.000000\n",
       "10%        60.000000\n",
       "25%        85.000000\n",
       "50%       135.000000\n",
       "75%       205.000000\n",
       "90%       313.900000\n",
       "max       633.000000\n",
       "Name: price, dtype: float64"
      ]
     },
     "execution_count": 93,
     "metadata": {},
     "output_type": "execute_result"
    }
   ],
   "source": [
    "IQR_value = 633 #based on price box plot from SF EDA notebook -> 3*IQR value\n",
    "pickleprice_filtered_df = pickle_listings_df[pickle_listings_df.price <= IQR_value]\n",
    "pickleprice_filtered_df[\"price\"].describe(percentiles=[0.1,0.25, 0.5, 0.75,0.9])"
   ]
  },
  {
   "cell_type": "markdown",
   "metadata": {},
   "source": [
    "## Log Transform 'Price' column"
   ]
  },
  {
   "cell_type": "code",
   "execution_count": 94,
   "metadata": {
    "ExecuteTime": {
     "end_time": "2020-10-29T12:24:42.516740Z",
     "start_time": "2020-10-29T12:24:41.930087Z"
    }
   },
   "outputs": [
    {
     "data": {
      "image/png": "[encoded data removed]",
      "text/plain": [
       "<Figure size 432x288 with 1 Axes>"
      ]
     },
     "metadata": {
      "needs_background": "light"
     },
     "output_type": "display_data"
    }
   ],
   "source": [
    "# visualize distribution of price (target variable)\n",
    "plt.hist(pickleprice_filtered_df['price'], bins=50)\n",
    "plt.title(\"Histogram of Pricing\")\n",
    "plt.xlabel(\"Pricing (USD) Per Day\")\n",
    "plt.ylabel(\"Frequency\")\n",
    "plt.show()"
   ]
  },
  {
   "cell_type": "code",
   "execution_count": 95,
   "metadata": {
    "ExecuteTime": {
     "end_time": "2020-10-29T12:24:43.147595Z",
     "start_time": "2020-10-29T12:24:42.524726Z"
    }
   },
   "outputs": [
    {
     "data": {
      "text/plain": [
       "<matplotlib.axes._subplots.AxesSubplot at 0x2252b3449a0>"
      ]
     },
     "execution_count": 95,
     "metadata": {},
     "output_type": "execute_result"
    },
    {
     "data": {
      "image/png": "[encoded data removed]",
      "text/plain": [
       "<Figure size 432x288 with 1 Axes>"
      ]
     },
     "metadata": {
      "needs_background": "light"
     },
     "output_type": "display_data"
    }
   ],
   "source": [
    "sns.distplot(pickleprice_filtered_df['price'], kde=False,bins=50)"
   ]
  },
  {
   "cell_type": "code",
   "execution_count": 96,
   "metadata": {
    "ExecuteTime": {
     "end_time": "2020-10-29T12:24:43.167541Z",
     "start_time": "2020-10-29T12:24:43.152582Z"
    }
   },
   "outputs": [
    {
     "name": "stderr",
     "output_type": "stream",
     "text": [
      "<ipython-input-96-294f4ec19fb2>:2: SettingWithCopyWarning: \n",
      "A value is trying to be set on a copy of a slice from a DataFrame.\n",
      "Try using .loc[row_indexer,col_indexer] = value instead\n",
      "\n",
      "See the caveats in the documentation: https://pandas.pydata.org/pandas-docs/stable/user_guide/indexing.html#returning-a-view-versus-a-copy\n",
      "  pickleprice_filtered_df['price_log'] = pickleprice_filtered_df['price'].apply(lambda x: math.log(x))\n"
     ]
    }
   ],
   "source": [
    "# log transform the response 'price'\n",
    "pickleprice_filtered_df['price_log'] = pickleprice_filtered_df['price'].apply(lambda x: math.log(x))"
   ]
  },
  {
   "cell_type": "code",
   "execution_count": 97,
   "metadata": {
    "ExecuteTime": {
     "end_time": "2020-10-29T12:24:43.627824Z",
     "start_time": "2020-10-29T12:24:43.172528Z"
    }
   },
   "outputs": [
    {
     "data": {
      "image/png": "[encoded data removed]",
      "text/plain": [
       "<Figure size 432x288 with 1 Axes>"
      ]
     },
     "metadata": {
      "needs_background": "light"
     },
     "output_type": "display_data"
    }
   ],
   "source": [
    "# visualize distribution of price (target variable)\n",
    "plt.hist(pickleprice_filtered_df['price_log'], bins=30)\n",
    "plt.title(\"Histogram of Pricing Log-Transformed\")\n",
    "plt.xlabel(\"Pricing (USD) Per Day\")\n",
    "plt.ylabel(\"Frequency\")\n",
    "plt.show()"
   ]
  },
  {
   "cell_type": "code",
   "execution_count": 98,
   "metadata": {
    "ExecuteTime": {
     "end_time": "2020-10-29T12:24:44.072590Z",
     "start_time": "2020-10-29T12:24:43.633807Z"
    }
   },
   "outputs": [
    {
     "data": {
      "text/plain": [
       "<matplotlib.axes._subplots.AxesSubplot at 0x2252fa72eb0>"
      ]
     },
     "execution_count": 98,
     "metadata": {},
     "output_type": "execute_result"
    },
    {
     "data": {
      "image/png": "[encoded data removed]",
      "text/plain": [
       "<Figure size 432x288 with 1 Axes>"
      ]
     },
     "metadata": {
      "needs_background": "light"
     },
     "output_type": "display_data"
    }
   ],
   "source": [
    "sns.distplot(pickleprice_filtered_df['price_log'], kde=False,bins=30)"
   ]
  },
  {
   "cell_type": "code",
   "execution_count": 99,
   "metadata": {
    "ExecuteTime": {
     "end_time": "2020-10-29T12:24:44.120460Z",
     "start_time": "2020-10-29T12:24:44.081563Z"
    },
    "scrolled": true
   },
   "outputs": [
    {
     "name": "stdout",
     "output_type": "stream",
     "text": [
      "<class 'pandas.core.frame.DataFrame'>\n",
      "Int64Index: 6982 entries, 0 to 7273\n",
      "Data columns (total 21 columns):\n",
      " #   Column                  Non-Null Count  Dtype  \n",
      "---  ------                  --------------  -----  \n",
      " 0   id                      6982 non-null   int64  \n",
      " 1   host_response_time      6982 non-null   object \n",
      " 2   host_response_rate      6982 non-null   float64\n",
      " 3   host_acceptance_rate    6982 non-null   float64\n",
      " 4   host_is_superhost       6982 non-null   int32  \n",
      " 5   host_listings_count     6982 non-null   int64  \n",
      " 6   neighbourhood_cleansed  6982 non-null   object \n",
      " 7   property_type           6982 non-null   object \n",
      " 8   room_type               6982 non-null   object \n",
      " 9   accommodates            6982 non-null   int64  \n",
      " 10  bathrooms               6982 non-null   float64\n",
      " 11  bedrooms                6982 non-null   float64\n",
      " 12  beds                    6982 non-null   float64\n",
      " 13  amenities               6982 non-null   object \n",
      " 14  price                   6982 non-null   float64\n",
      " 15  minimum_nights          6982 non-null   int64  \n",
      " 16  maximum_nights          6982 non-null   int64  \n",
      " 17  number_of_reviews       6982 non-null   int64  \n",
      " 18  review_scores_rating    6982 non-null   float64\n",
      " 19  reviews_per_month       6982 non-null   float64\n",
      " 20  price_log               6982 non-null   float64\n",
      "dtypes: float64(9), int32(1), int64(6), object(5)\n",
      "memory usage: 1.1+ MB\n"
     ]
    }
   ],
   "source": [
    "pickleprice_filtered_df.info()"
   ]
  },
  {
   "cell_type": "code",
   "execution_count": 100,
   "metadata": {
    "ExecuteTime": {
     "end_time": "2020-10-29T12:24:44.192269Z",
     "start_time": "2020-10-29T12:24:44.123452Z"
    }
   },
   "outputs": [
    {
     "name": "stdout",
     "output_type": "stream",
     "text": [
      "<class 'pandas.core.frame.DataFrame'>\n",
      "Int64Index: 6982 entries, 0 to 7273\n",
      "Data columns (total 21 columns):\n",
      " #   Column                  Non-Null Count  Dtype  \n",
      "---  ------                  --------------  -----  \n",
      " 0   id                      6982 non-null   int64  \n",
      " 1   host_response_time      6982 non-null   object \n",
      " 2   host_response_rate      6982 non-null   float64\n",
      " 3   host_acceptance_rate    6982 non-null   float64\n",
      " 4   host_is_superhost       6982 non-null   int32  \n",
      " 5   host_listings_count     6982 non-null   int64  \n",
      " 6   neighbourhood_cleansed  6982 non-null   object \n",
      " 7   property_type           6982 non-null   object \n",
      " 8   room_type               6982 non-null   object \n",
      " 9   accommodates            6982 non-null   int64  \n",
      " 10  bathrooms               6982 non-null   float64\n",
      " 11  bedrooms                6982 non-null   float64\n",
      " 12  beds                    6982 non-null   float64\n",
      " 13  amenities               6982 non-null   object \n",
      " 14  price                   6982 non-null   float64\n",
      " 15  minimum_nights          6982 non-null   int64  \n",
      " 16  maximum_nights          6982 non-null   int64  \n",
      " 17  number_of_reviews       6982 non-null   int64  \n",
      " 18  review_scores_rating    6982 non-null   float64\n",
      " 19  reviews_per_month       6982 non-null   float64\n",
      " 20  price_log               6982 non-null   float64\n",
      "dtypes: float64(9), int32(1), int64(6), object(5)\n",
      "memory usage: 1.1+ MB\n"
     ]
    }
   ],
   "source": [
    "# pickleprice_filtered_df.to_pickle('cleaned_price_df_with_id.pkl', protocol=3)\n",
    "\n",
    "\n",
    "price_df = pd.read_pickle('cleaned_price_df_with_id.pkl')\n",
    "price_df.info()"
   ]
  },
  {
   "cell_type": "markdown",
   "metadata": {},
   "source": [
    "## Drop columns based on Pearson Correlation (refer to Price Analysis notebook)"
   ]
  },
  {
   "cell_type": "code",
   "execution_count": 101,
   "metadata": {
    "ExecuteTime": {
     "end_time": "2020-10-29T12:24:44.206230Z",
     "start_time": "2020-10-29T12:24:44.195260Z"
    }
   },
   "outputs": [],
   "source": [
    "price_df = price_df.drop(columns=['bedrooms','beds','maximum_nights','number_of_reviews'])"
   ]
  },
  {
   "cell_type": "markdown",
   "metadata": {},
   "source": [
    "## Check and drop duplicates if any"
   ]
  },
  {
   "cell_type": "code",
   "execution_count": 102,
   "metadata": {
    "ExecuteTime": {
     "end_time": "2020-10-29T12:24:44.314940Z",
     "start_time": "2020-10-29T12:24:44.212215Z"
    }
   },
   "outputs": [
    {
     "name": "stdout",
     "output_type": "stream",
     "text": [
      "False\n",
      "False\n"
     ]
    }
   ],
   "source": [
    "print(price_df.duplicated().any())\n",
    "if price_df.duplicated().any():\n",
    "    duplicate_rows = price_df[price_df.duplicated()]\n",
    "    price_df = price_df.drop_duplicates()\n",
    "    print(\"Duplicates Removed\")\n",
    "print(price_df.duplicated().any())"
   ]
  },
  {
   "cell_type": "markdown",
   "metadata": {},
   "source": [
    "## Drop problematic price (refer to Price Analysis notebook)"
   ]
  },
  {
   "cell_type": "code",
   "execution_count": 103,
   "metadata": {
    "ExecuteTime": {
     "end_time": "2020-10-29T12:24:44.325910Z",
     "start_time": "2020-10-29T12:24:44.316935Z"
    }
   },
   "outputs": [
    {
     "data": {
      "text/plain": [
       "(28, 17)"
      ]
     },
     "execution_count": 103,
     "metadata": {},
     "output_type": "execute_result"
    }
   ],
   "source": [
    "price_df[price_df['price'] == 68].shape"
   ]
  },
  {
   "cell_type": "code",
   "execution_count": 104,
   "metadata": {
    "ExecuteTime": {
     "end_time": "2020-10-29T12:24:44.337879Z",
     "start_time": "2020-10-29T12:24:44.329900Z"
    }
   },
   "outputs": [],
   "source": [
    "price_df = price_df[price_df['price'] != 68]"
   ]
  },
  {
   "cell_type": "code",
   "execution_count": 105,
   "metadata": {
    "ExecuteTime": {
     "end_time": "2020-10-29T12:24:44.368796Z",
     "start_time": "2020-10-29T12:24:44.340871Z"
    }
   },
   "outputs": [
    {
     "data": {
      "text/html": [
       "<div>\n",
       "<style scoped>\n",
       "    .dataframe tbody tr th:only-of-type {\n",
       "        vertical-align: middle;\n",
       "    }\n",
       "\n",
       "    .dataframe tbody tr th {\n",
       "        vertical-align: top;\n",
       "    }\n",
       "\n",
       "    .dataframe thead th {\n",
       "        text-align: right;\n",
       "    }\n",
       "</style>\n",
       "<table border=\"1\" class=\"dataframe\">\n",
       "  <thead>\n",
       "    <tr style=\"text-align: right;\">\n",
       "      <th></th>\n",
       "      <th>id</th>\n",
       "      <th>host_response_time</th>\n",
       "      <th>host_response_rate</th>\n",
       "      <th>host_acceptance_rate</th>\n",
       "      <th>host_is_superhost</th>\n",
       "      <th>host_listings_count</th>\n",
       "      <th>neighbourhood_cleansed</th>\n",
       "      <th>property_type</th>\n",
       "      <th>room_type</th>\n",
       "      <th>accommodates</th>\n",
       "      <th>bathrooms</th>\n",
       "      <th>amenities</th>\n",
       "      <th>price</th>\n",
       "      <th>minimum_nights</th>\n",
       "      <th>review_scores_rating</th>\n",
       "      <th>reviews_per_month</th>\n",
       "      <th>price_log</th>\n",
       "    </tr>\n",
       "  </thead>\n",
       "  <tbody>\n",
       "  </tbody>\n",
       "</table>\n",
       "</div>"
      ],
      "text/plain": [
       "Empty DataFrame\n",
       "Columns: [id, host_response_time, host_response_rate, host_acceptance_rate, host_is_superhost, host_listings_count, neighbourhood_cleansed, property_type, room_type, accommodates, bathrooms, amenities, price, minimum_nights, review_scores_rating, reviews_per_month, price_log]\n",
       "Index: []"
      ]
     },
     "execution_count": 105,
     "metadata": {},
     "output_type": "execute_result"
    }
   ],
   "source": [
    "price_df[price_df['price'] == 68]"
   ]
  },
  {
   "cell_type": "code",
   "execution_count": 106,
   "metadata": {
    "ExecuteTime": {
     "end_time": "2020-10-29T12:24:44.489944Z",
     "start_time": "2020-10-29T12:24:44.371788Z"
    }
   },
   "outputs": [
    {
     "name": "stdout",
     "output_type": "stream",
     "text": [
      "<class 'pandas.core.frame.DataFrame'>\n",
      "Int64Index: 6954 entries, 0 to 7273\n",
      "Data columns (total 17 columns):\n",
      " #   Column                  Non-Null Count  Dtype  \n",
      "---  ------                  --------------  -----  \n",
      " 0   id                      6954 non-null   int64  \n",
      " 1   host_response_time      6954 non-null   object \n",
      " 2   host_response_rate      6954 non-null   float64\n",
      " 3   host_acceptance_rate    6954 non-null   float64\n",
      " 4   host_is_superhost       6954 non-null   int32  \n",
      " 5   host_listings_count     6954 non-null   int64  \n",
      " 6   neighbourhood_cleansed  6954 non-null   object \n",
      " 7   property_type           6954 non-null   object \n",
      " 8   room_type               6954 non-null   object \n",
      " 9   accommodates            6954 non-null   int64  \n",
      " 10  bathrooms               6954 non-null   float64\n",
      " 11  amenities               6954 non-null   object \n",
      " 12  price                   6954 non-null   float64\n",
      " 13  minimum_nights          6954 non-null   int64  \n",
      " 14  review_scores_rating    6954 non-null   float64\n",
      " 15  reviews_per_month       6954 non-null   float64\n",
      " 16  price_log               6954 non-null   float64\n",
      "dtypes: float64(7), int32(1), int64(4), object(5)\n",
      "memory usage: 950.7+ KB\n"
     ]
    }
   ],
   "source": [
    "price_df.info()"
   ]
  },
  {
   "cell_type": "markdown",
   "metadata": {},
   "source": [
    "## Import to pkl file for Sentiment Analysis"
   ]
  },
  {
   "cell_type": "code",
   "execution_count": 107,
   "metadata": {
    "ExecuteTime": {
     "end_time": "2020-10-29T12:25:26.593513Z",
     "start_time": "2020-10-29T12:25:26.534671Z"
    },
    "scrolled": true
   },
   "outputs": [
    {
     "name": "stdout",
     "output_type": "stream",
     "text": [
      "<class 'pandas.core.frame.DataFrame'>\n",
      "Int64Index: 6954 entries, 0 to 7273\n",
      "Data columns (total 17 columns):\n",
      " #   Column                  Non-Null Count  Dtype  \n",
      "---  ------                  --------------  -----  \n",
      " 0   id                      6954 non-null   int64  \n",
      " 1   host_response_time      6954 non-null   object \n",
      " 2   host_response_rate      6954 non-null   float64\n",
      " 3   host_acceptance_rate    6954 non-null   float64\n",
      " 4   host_is_superhost       6954 non-null   int32  \n",
      " 5   host_listings_count     6954 non-null   int64  \n",
      " 6   neighbourhood_cleansed  6954 non-null   object \n",
      " 7   property_type           6954 non-null   object \n",
      " 8   room_type               6954 non-null   object \n",
      " 9   accommodates            6954 non-null   int64  \n",
      " 10  bathrooms               6954 non-null   float64\n",
      " 11  amenities               6954 non-null   object \n",
      " 12  price                   6954 non-null   float64\n",
      " 13  minimum_nights          6954 non-null   int64  \n",
      " 14  review_scores_rating    6954 non-null   float64\n",
      " 15  reviews_per_month       6954 non-null   float64\n",
      " 16  price_log               6954 non-null   float64\n",
      "dtypes: float64(7), int32(1), int64(4), object(5)\n",
      "memory usage: 950.7+ KB\n"
     ]
    }
   ],
   "source": [
    "# price_df.to_pickle('cleaned_df_with_id_without_encode.pkl', protocol=3)\n",
    "\n",
    "\n",
    "price_df = pd.read_pickle('cleaned_df_with_id_without_encode.pkl')\n",
    "price_df.info()"
   ]
  },
  {
   "cell_type": "markdown",
   "metadata": {},
   "source": [
    "## Create lists for different data type columns"
   ]
  },
  {
   "cell_type": "code",
   "execution_count": 509,
   "metadata": {
    "ExecuteTime": {
     "end_time": "2020-10-26T15:20:18.203131Z",
     "start_time": "2020-10-26T15:20:18.190167Z"
    }
   },
   "outputs": [
    {
     "name": "stdout",
     "output_type": "stream",
     "text": [
      "['host_response_time', 'neighbourhood_cleansed', 'property_type', 'room_type', 'amenities']\n"
     ]
    }
   ],
   "source": [
    "numerics = ['int16', 'int32', 'int64', 'float16', 'float32', 'float64']\n",
    "numeric_columns = price_df.select_dtypes(include=numerics).columns.to_list()\n",
    "bool_columns = price_df.select_dtypes(include='bool').columns.to_list()\n",
    "object_columns = price_df.select_dtypes(include='object').columns.to_list()\n",
    "print(object_columns)"
   ]
  },
  {
   "cell_type": "markdown",
   "metadata": {},
   "source": [
    "## Convert boolean columns to numeric columns"
   ]
  },
  {
   "cell_type": "code",
   "execution_count": 510,
   "metadata": {
    "ExecuteTime": {
     "end_time": "2020-10-26T15:20:18.217094Z",
     "start_time": "2020-10-26T15:20:18.206123Z"
    }
   },
   "outputs": [
    {
     "data": {
      "text/plain": [
       "0    1\n",
       "1    0\n",
       "2    0\n",
       "3    0\n",
       "5    1\n",
       "Name: host_is_superhost, dtype: int32"
      ]
     },
     "execution_count": 510,
     "metadata": {},
     "output_type": "execute_result"
    }
   ],
   "source": [
    "for column in bool_columns:\n",
    "    price_df[column] = price_df[column].replace(False,0,regex=True)\n",
    "    price_df[column] = price_df[column].replace(True,1,regex=True)\n",
    "price_df[\"host_is_superhost\"].head()"
   ]
  },
  {
   "cell_type": "markdown",
   "metadata": {},
   "source": [
    "## Transforming amenities to numeric columns"
   ]
  },
  {
   "cell_type": "code",
   "execution_count": 511,
   "metadata": {
    "ExecuteTime": {
     "end_time": "2020-10-26T15:20:18.292893Z",
     "start_time": "2020-10-26T15:20:18.220086Z"
    }
   },
   "outputs": [
    {
     "data": {
      "text/plain": [
       "0    Heating, Hot water, Stove, Iron, Dryer, Coffee...\n",
       "1    Smoke alarm, Heating, Kitchen, First aid kit, ...\n",
       "2    Host greets you, Heating, Hot water, Kitchen, ...\n",
       "3    Host greets you, Heating, Hot water, Kitchen, ...\n",
       "5    Heating, Hot water, Children\\u2019s books and ...\n",
       "Name: amenities, dtype: object"
      ]
     },
     "execution_count": 511,
     "metadata": {},
     "output_type": "execute_result"
    }
   ],
   "source": [
    "price_df.amenities = price_df.amenities.str.replace('\"', \"\")\n",
    "price_df.amenities = price_df.amenities.str.replace(\"[\", \"\")\n",
    "price_df.amenities = price_df.amenities.str.replace(\"]\", \"\")\n",
    "price_df['amenities'].head()"
   ]
  },
  {
   "cell_type": "code",
   "execution_count": 512,
   "metadata": {
    "ExecuteTime": {
     "end_time": "2020-10-26T15:20:18.514297Z",
     "start_time": "2020-10-26T15:20:18.294885Z"
    }
   },
   "outputs": [],
   "source": [
    "from sklearn.feature_extraction.text import CountVectorizer\n",
    "\n",
    "count_vectorizer =  CountVectorizer(tokenizer=lambda x: x.split(', '))\n",
    "amenities = count_vectorizer.fit_transform(price_df['amenities'])\n",
    "df_amenities = pd.DataFrame(amenities.toarray(), columns=count_vectorizer.get_feature_names())\n",
    "df_amenities = df_amenities.drop('',1)"
   ]
  },
  {
   "cell_type": "markdown",
   "metadata": {},
   "source": [
    "## Combining numeric and boolean columns"
   ]
  },
  {
   "cell_type": "code",
   "execution_count": 513,
   "metadata": {
    "ExecuteTime": {
     "end_time": "2020-10-26T15:20:18.544219Z",
     "start_time": "2020-10-26T15:20:18.517290Z"
    }
   },
   "outputs": [
    {
     "data": {
      "text/html": [
       "<div>\n",
       "<style scoped>\n",
       "    .dataframe tbody tr th:only-of-type {\n",
       "        vertical-align: middle;\n",
       "    }\n",
       "\n",
       "    .dataframe tbody tr th {\n",
       "        vertical-align: top;\n",
       "    }\n",
       "\n",
       "    .dataframe thead th {\n",
       "        text-align: right;\n",
       "    }\n",
       "</style>\n",
       "<table border=\"1\" class=\"dataframe\">\n",
       "  <thead>\n",
       "    <tr style=\"text-align: right;\">\n",
       "      <th></th>\n",
       "      <th>host_response_rate</th>\n",
       "      <th>host_acceptance_rate</th>\n",
       "      <th>host_is_superhost</th>\n",
       "      <th>host_listings_count</th>\n",
       "      <th>accommodates</th>\n",
       "      <th>bathrooms</th>\n",
       "      <th>price</th>\n",
       "      <th>minimum_nights</th>\n",
       "      <th>review_scores_rating</th>\n",
       "      <th>reviews_per_month</th>\n",
       "      <th>price_log</th>\n",
       "    </tr>\n",
       "  </thead>\n",
       "  <tbody>\n",
       "    <tr>\n",
       "      <th>0</th>\n",
       "      <td>1.0</td>\n",
       "      <td>0.99</td>\n",
       "      <td>1</td>\n",
       "      <td>1</td>\n",
       "      <td>3</td>\n",
       "      <td>1.0</td>\n",
       "      <td>132.0</td>\n",
       "      <td>2</td>\n",
       "      <td>97.0</td>\n",
       "      <td>1.91</td>\n",
       "      <td>4.882802</td>\n",
       "    </tr>\n",
       "    <tr>\n",
       "      <th>1</th>\n",
       "      <td>0.6</td>\n",
       "      <td>0.83</td>\n",
       "      <td>0</td>\n",
       "      <td>2</td>\n",
       "      <td>5</td>\n",
       "      <td>1.0</td>\n",
       "      <td>235.0</td>\n",
       "      <td>30</td>\n",
       "      <td>98.0</td>\n",
       "      <td>0.81</td>\n",
       "      <td>5.459586</td>\n",
       "    </tr>\n",
       "    <tr>\n",
       "      <th>2</th>\n",
       "      <td>1.0</td>\n",
       "      <td>1.00</td>\n",
       "      <td>0</td>\n",
       "      <td>10</td>\n",
       "      <td>2</td>\n",
       "      <td>4.0</td>\n",
       "      <td>56.0</td>\n",
       "      <td>32</td>\n",
       "      <td>84.0</td>\n",
       "      <td>0.14</td>\n",
       "      <td>4.025352</td>\n",
       "    </tr>\n",
       "    <tr>\n",
       "      <th>3</th>\n",
       "      <td>1.0</td>\n",
       "      <td>1.00</td>\n",
       "      <td>0</td>\n",
       "      <td>10</td>\n",
       "      <td>2</td>\n",
       "      <td>4.0</td>\n",
       "      <td>56.0</td>\n",
       "      <td>32</td>\n",
       "      <td>93.0</td>\n",
       "      <td>0.11</td>\n",
       "      <td>4.025352</td>\n",
       "    </tr>\n",
       "    <tr>\n",
       "      <th>5</th>\n",
       "      <td>1.0</td>\n",
       "      <td>0.96</td>\n",
       "      <td>1</td>\n",
       "      <td>2</td>\n",
       "      <td>3</td>\n",
       "      <td>1.0</td>\n",
       "      <td>169.0</td>\n",
       "      <td>1</td>\n",
       "      <td>98.0</td>\n",
       "      <td>5.47</td>\n",
       "      <td>5.129899</td>\n",
       "    </tr>\n",
       "  </tbody>\n",
       "</table>\n",
       "</div>"
      ],
      "text/plain": [
       "   host_response_rate  host_acceptance_rate  host_is_superhost  \\\n",
       "0                 1.0                  0.99                  1   \n",
       "1                 0.6                  0.83                  0   \n",
       "2                 1.0                  1.00                  0   \n",
       "3                 1.0                  1.00                  0   \n",
       "5                 1.0                  0.96                  1   \n",
       "\n",
       "   host_listings_count  accommodates  bathrooms  price  minimum_nights  \\\n",
       "0                    1             3        1.0  132.0               2   \n",
       "1                    2             5        1.0  235.0              30   \n",
       "2                   10             2        4.0   56.0              32   \n",
       "3                   10             2        4.0   56.0              32   \n",
       "5                    2             3        1.0  169.0               1   \n",
       "\n",
       "   review_scores_rating  reviews_per_month  price_log  \n",
       "0                  97.0               1.91   4.882802  \n",
       "1                  98.0               0.81   5.459586  \n",
       "2                  84.0               0.14   4.025352  \n",
       "3                  93.0               0.11   4.025352  \n",
       "5                  98.0               5.47   5.129899  "
      ]
     },
     "execution_count": 513,
     "metadata": {},
     "output_type": "execute_result"
    }
   ],
   "source": [
    "listings_new = price_df[numeric_columns+bool_columns]\n",
    "listings_new.head()"
   ]
  },
  {
   "cell_type": "markdown",
   "metadata": {},
   "source": [
    "## Transforming categorical columns to numeric columns and combine all into new df"
   ]
  },
  {
   "cell_type": "code",
   "execution_count": 514,
   "metadata": {
    "ExecuteTime": {
     "end_time": "2020-10-26T15:20:18.579130Z",
     "start_time": "2020-10-26T15:20:18.547211Z"
    }
   },
   "outputs": [],
   "source": [
    "for categorical_col in object_columns[:-1]:\n",
    "    listings_new = pd.concat([listings_new, pd.get_dummies(price_df[categorical_col])], axis=1)"
   ]
  },
  {
   "cell_type": "markdown",
   "metadata": {},
   "source": [
    "## Combine all that with amenities df created in #4"
   ]
  },
  {
   "cell_type": "code",
   "execution_count": 515,
   "metadata": {
    "ExecuteTime": {
     "end_time": "2020-10-26T15:20:18.634978Z",
     "start_time": "2020-10-26T15:20:18.582118Z"
    }
   },
   "outputs": [
    {
     "data": {
      "text/html": [
       "<div>\n",
       "<style scoped>\n",
       "    .dataframe tbody tr th:only-of-type {\n",
       "        vertical-align: middle;\n",
       "    }\n",
       "\n",
       "    .dataframe tbody tr th {\n",
       "        vertical-align: top;\n",
       "    }\n",
       "\n",
       "    .dataframe thead th {\n",
       "        text-align: right;\n",
       "    }\n",
       "</style>\n",
       "<table border=\"1\" class=\"dataframe\">\n",
       "  <thead>\n",
       "    <tr style=\"text-align: right;\">\n",
       "      <th></th>\n",
       "      <th>host_response_rate</th>\n",
       "      <th>host_acceptance_rate</th>\n",
       "      <th>host_is_superhost</th>\n",
       "      <th>host_listings_count</th>\n",
       "      <th>accommodates</th>\n",
       "      <th>bathrooms</th>\n",
       "      <th>price</th>\n",
       "      <th>minimum_nights</th>\n",
       "      <th>review_scores_rating</th>\n",
       "      <th>reviews_per_month</th>\n",
       "      <th>...</th>\n",
       "      <th>table corner guards</th>\n",
       "      <th>terrace</th>\n",
       "      <th>tv</th>\n",
       "      <th>walk in closet</th>\n",
       "      <th>washer</th>\n",
       "      <th>waterfront</th>\n",
       "      <th>wet bar</th>\n",
       "      <th>wifi</th>\n",
       "      <th>window guards</th>\n",
       "      <th>wine cooler</th>\n",
       "    </tr>\n",
       "  </thead>\n",
       "  <tbody>\n",
       "    <tr>\n",
       "      <th>0</th>\n",
       "      <td>1.0</td>\n",
       "      <td>0.99</td>\n",
       "      <td>1</td>\n",
       "      <td>1</td>\n",
       "      <td>3</td>\n",
       "      <td>1.0</td>\n",
       "      <td>132.0</td>\n",
       "      <td>2</td>\n",
       "      <td>97.0</td>\n",
       "      <td>1.91</td>\n",
       "      <td>...</td>\n",
       "      <td>0</td>\n",
       "      <td>0</td>\n",
       "      <td>1</td>\n",
       "      <td>0</td>\n",
       "      <td>1</td>\n",
       "      <td>0</td>\n",
       "      <td>0</td>\n",
       "      <td>1</td>\n",
       "      <td>0</td>\n",
       "      <td>0</td>\n",
       "    </tr>\n",
       "    <tr>\n",
       "      <th>1</th>\n",
       "      <td>0.6</td>\n",
       "      <td>0.83</td>\n",
       "      <td>0</td>\n",
       "      <td>2</td>\n",
       "      <td>5</td>\n",
       "      <td>1.0</td>\n",
       "      <td>235.0</td>\n",
       "      <td>30</td>\n",
       "      <td>98.0</td>\n",
       "      <td>0.81</td>\n",
       "      <td>...</td>\n",
       "      <td>0</td>\n",
       "      <td>0</td>\n",
       "      <td>0</td>\n",
       "      <td>0</td>\n",
       "      <td>1</td>\n",
       "      <td>0</td>\n",
       "      <td>0</td>\n",
       "      <td>1</td>\n",
       "      <td>0</td>\n",
       "      <td>0</td>\n",
       "    </tr>\n",
       "    <tr>\n",
       "      <th>2</th>\n",
       "      <td>1.0</td>\n",
       "      <td>1.00</td>\n",
       "      <td>0</td>\n",
       "      <td>10</td>\n",
       "      <td>2</td>\n",
       "      <td>4.0</td>\n",
       "      <td>56.0</td>\n",
       "      <td>32</td>\n",
       "      <td>84.0</td>\n",
       "      <td>0.14</td>\n",
       "      <td>...</td>\n",
       "      <td>0</td>\n",
       "      <td>0</td>\n",
       "      <td>1</td>\n",
       "      <td>0</td>\n",
       "      <td>1</td>\n",
       "      <td>0</td>\n",
       "      <td>0</td>\n",
       "      <td>1</td>\n",
       "      <td>0</td>\n",
       "      <td>0</td>\n",
       "    </tr>\n",
       "    <tr>\n",
       "      <th>3</th>\n",
       "      <td>1.0</td>\n",
       "      <td>1.00</td>\n",
       "      <td>0</td>\n",
       "      <td>10</td>\n",
       "      <td>2</td>\n",
       "      <td>4.0</td>\n",
       "      <td>56.0</td>\n",
       "      <td>32</td>\n",
       "      <td>93.0</td>\n",
       "      <td>0.11</td>\n",
       "      <td>...</td>\n",
       "      <td>0</td>\n",
       "      <td>0</td>\n",
       "      <td>1</td>\n",
       "      <td>0</td>\n",
       "      <td>1</td>\n",
       "      <td>0</td>\n",
       "      <td>0</td>\n",
       "      <td>1</td>\n",
       "      <td>0</td>\n",
       "      <td>0</td>\n",
       "    </tr>\n",
       "    <tr>\n",
       "      <th>5</th>\n",
       "      <td>1.0</td>\n",
       "      <td>0.96</td>\n",
       "      <td>1</td>\n",
       "      <td>2</td>\n",
       "      <td>3</td>\n",
       "      <td>1.0</td>\n",
       "      <td>169.0</td>\n",
       "      <td>1</td>\n",
       "      <td>98.0</td>\n",
       "      <td>5.47</td>\n",
       "      <td>...</td>\n",
       "      <td>0</td>\n",
       "      <td>0</td>\n",
       "      <td>1</td>\n",
       "      <td>0</td>\n",
       "      <td>1</td>\n",
       "      <td>0</td>\n",
       "      <td>0</td>\n",
       "      <td>1</td>\n",
       "      <td>0</td>\n",
       "      <td>0</td>\n",
       "    </tr>\n",
       "  </tbody>\n",
       "</table>\n",
       "<p>5 rows × 226 columns</p>\n",
       "</div>"
      ],
      "text/plain": [
       "   host_response_rate  host_acceptance_rate  host_is_superhost  \\\n",
       "0                 1.0                  0.99                  1   \n",
       "1                 0.6                  0.83                  0   \n",
       "2                 1.0                  1.00                  0   \n",
       "3                 1.0                  1.00                  0   \n",
       "5                 1.0                  0.96                  1   \n",
       "\n",
       "   host_listings_count  accommodates  bathrooms  price  minimum_nights  \\\n",
       "0                    1             3        1.0  132.0               2   \n",
       "1                    2             5        1.0  235.0              30   \n",
       "2                   10             2        4.0   56.0              32   \n",
       "3                   10             2        4.0   56.0              32   \n",
       "5                    2             3        1.0  169.0               1   \n",
       "\n",
       "   review_scores_rating  reviews_per_month  ...  table corner guards  terrace  \\\n",
       "0                  97.0               1.91  ...                    0        0   \n",
       "1                  98.0               0.81  ...                    0        0   \n",
       "2                  84.0               0.14  ...                    0        0   \n",
       "3                  93.0               0.11  ...                    0        0   \n",
       "5                  98.0               5.47  ...                    0        0   \n",
       "\n",
       "   tv  walk in closet  washer  waterfront  wet bar  wifi  window guards  \\\n",
       "0   1               0       1           0        0     1              0   \n",
       "1   0               0       1           0        0     1              0   \n",
       "2   1               0       1           0        0     1              0   \n",
       "3   1               0       1           0        0     1              0   \n",
       "5   1               0       1           0        0     1              0   \n",
       "\n",
       "   wine cooler  \n",
       "0            0  \n",
       "1            0  \n",
       "2            0  \n",
       "3            0  \n",
       "5            0  \n",
       "\n",
       "[5 rows x 226 columns]"
      ]
     },
     "execution_count": 515,
     "metadata": {},
     "output_type": "execute_result"
    }
   ],
   "source": [
    "listings_new = pd.concat([listings_new, df_amenities], axis=1, join='inner')\n",
    "listings_new.head()"
   ]
  },
  {
   "cell_type": "markdown",
   "metadata": {},
   "source": [
    "## Check and drop duplicates if any"
   ]
  },
  {
   "cell_type": "code",
   "execution_count": 516,
   "metadata": {
    "ExecuteTime": {
     "end_time": "2020-10-26T15:20:19.488692Z",
     "start_time": "2020-10-26T15:20:18.637968Z"
    },
    "scrolled": true
   },
   "outputs": [
    {
     "name": "stdout",
     "output_type": "stream",
     "text": [
      "True\n",
      "Duplicates Removed\n",
      "False\n"
     ]
    }
   ],
   "source": [
    "print(listings_new.duplicated().any())\n",
    "if listings_new.duplicated().any():\n",
    "    duplicate_rows = listings_new[listings_new.duplicated()]\n",
    "    listings_new = listings_new.drop_duplicates()\n",
    "    print(\"Duplicates Removed\")\n",
    "print(listings_new.duplicated().any())"
   ]
  },
  {
   "cell_type": "code",
   "execution_count": 517,
   "metadata": {
    "ExecuteTime": {
     "end_time": "2020-10-26T15:20:19.516620Z",
     "start_time": "2020-10-26T15:20:19.491687Z"
    }
   },
   "outputs": [],
   "source": [
    "listings_new.columns = \\\n",
    "['host_response_rate',\n",
    " 'host_acceptance_rate',\n",
    " 'host_is_superhost',\n",
    " 'host_listings_count',\n",
    " 'accommodates',\n",
    " 'bathrooms',\n",
    " 'price',\n",
    " 'minimum_nights',\n",
    " 'review_scores_rating',\n",
    " 'reviews_per_month',\n",
    " 'price_log',\n",
    " '-',\n",
    " 'a few days or more',\n",
    " 'within a day',\n",
    " 'within a few hours',\n",
    " 'within an hour',\n",
    " 'Bayview',\n",
    " 'Bernal Heights',\n",
    " 'Castro/Upper Market',\n",
    " 'Chinatown',\n",
    " 'Crocker Amazon',\n",
    " 'Diamond Heights',\n",
    " 'Downtown/Civic Center',\n",
    " 'Excelsior',\n",
    " 'Financial District',\n",
    " 'Glen Park',\n",
    " 'Golden Gate Park',\n",
    " 'Haight Ashbury',\n",
    " 'Inner Richmond',\n",
    " 'Inner Sunset',\n",
    " 'Lakeshore',\n",
    " 'Marina',\n",
    " 'Mission',\n",
    " 'Nob Hill',\n",
    " 'Noe Valley',\n",
    " 'North Beach',\n",
    " 'Ocean View',\n",
    " 'Outer Mission',\n",
    " 'Outer Richmond',\n",
    " 'Outer Sunset',\n",
    " 'Pacific Heights',\n",
    " 'Parkside',\n",
    " 'Potrero Hill',\n",
    " 'Presidio',\n",
    " 'Presidio Heights',\n",
    " 'Russian Hill',\n",
    " 'Seacliff',\n",
    " 'South of Market',\n",
    " 'Treasure Island/YBI',\n",
    " 'Twin Peaks',\n",
    " 'Visitacion Valley',\n",
    " 'West of Twin Peaks',\n",
    " 'Western Addition',\n",
    " 'Boat',\n",
    " 'Casa particular',\n",
    " 'Earth house',\n",
    " 'Entire apartment',\n",
    " 'Entire bungalow',\n",
    " 'Entire cabin',\n",
    " 'Entire condominium',\n",
    " 'Entire cottage',\n",
    " 'Entire floor',\n",
    " 'Entire guest suite',\n",
    " 'Entire guesthouse',\n",
    " 'Entire house',\n",
    " 'Entire in-law',\n",
    " 'Entire loft',\n",
    " 'Entire place',\n",
    " 'Entire serviced apartment',\n",
    " 'Entire townhouse',\n",
    " 'Entire villa',\n",
    " 'Private room (Property Type)',\n",
    " 'Private room in apartment',\n",
    " 'Private room in bed and breakfast',\n",
    " 'Private room in bungalow',\n",
    " 'Private room in cabin',\n",
    " 'Private room in castle',\n",
    " 'Private room in condominium',\n",
    " 'Private room in cottage',\n",
    " 'Private room in earth house',\n",
    " 'Private room in guest suite',\n",
    " 'Private room in guesthouse',\n",
    " 'Private room in hostel',\n",
    " 'Private room in house',\n",
    " 'Private room in hut',\n",
    " 'Private room in loft',\n",
    " 'Private room in resort',\n",
    " 'Private room in serviced apartment',\n",
    " 'Private room in townhouse',\n",
    " 'Private room in villa',\n",
    " 'Room in aparthotel',\n",
    " 'Room in bed and breakfast',\n",
    " 'Room in boutique hotel',\n",
    " 'Room in hostel',\n",
    " 'Room in hotel',\n",
    " 'Room in serviced apartment',\n",
    " 'Shared room in apartment',\n",
    " 'Shared room in bed and breakfast',\n",
    " 'Shared room in boutique hotel',\n",
    " 'Shared room in bungalow',\n",
    " 'Shared room in condominium',\n",
    " 'Shared room in hostel',\n",
    " 'Shared room in house',\n",
    " 'Shared room in loft',\n",
    " 'Shared room in townhouse',\n",
    " 'Shared room in villa',\n",
    " 'Tiny house',\n",
    " 'Entire home/apt',\n",
    " 'Hotel room',\n",
    " 'Private room',\n",
    " 'Shared room',\n",
    " 'air conditioning',\n",
    " 'alarm system',\n",
    " 'baby bath',\n",
    " 'baby monitor',\n",
    " 'babysitter recommendations',\n",
    " 'baking sheet',\n",
    " 'barbecue utensils',\n",
    " 'bathroom essentials',\n",
    " 'bathtub',\n",
    " 'bbq grill',\n",
    " 'beach essentials',\n",
    " 'beachfront',\n",
    " 'bed linens',\n",
    " 'bedroom comforts',\n",
    " 'bread maker',\n",
    " 'breakfast',\n",
    " 'breakfast bar',\n",
    " 'building staff',\n",
    " 'cable tv',\n",
    " 'carbon monoxide alarm',\n",
    " 'changing table',\n",
    " 'children\\\\u2019s books and toys',\n",
    " 'children\\\\u2019s dinnerware',\n",
    " 'cleaning before checkout',\n",
    " 'coffee maker',\n",
    " 'cooking basics',\n",
    " 'crib',\n",
    " 'desk',\n",
    " 'dishes and silverware',\n",
    " 'dishwasher',\n",
    " 'dryer',\n",
    " 'dual vanity',\n",
    " 'elevator',\n",
    " 'essentials',\n",
    " 'ethernet connection',\n",
    " 'ev charger',\n",
    " 'extra pillows and blankets',\n",
    " 'fire extinguisher',\n",
    " 'fireplace guards',\n",
    " 'first aid kit',\n",
    " 'free parking on premises',\n",
    " 'free street parking',\n",
    " 'full kitchen',\n",
    " 'game console',\n",
    " 'garden or backyard',\n",
    " 'gas fireplace',\n",
    " 'gym',\n",
    " 'hair dryer',\n",
    " 'hangers',\n",
    " 'heating',\n",
    " 'high chair',\n",
    " 'host greets you',\n",
    " 'hot tub',\n",
    " 'hot water',\n",
    " 'indoor fireplace',\n",
    " 'iron',\n",
    " 'ironing board',\n",
    " 'jetted tub',\n",
    " 'keypad',\n",
    " 'kitchen',\n",
    " 'kitchenette',\n",
    " 'lake access',\n",
    " 'laptop-friendly workspace',\n",
    " 'lock on bedroom door',\n",
    " 'lockbox',\n",
    " 'long term stays allowed',\n",
    " 'luggage dropoff allowed',\n",
    " 'microwave',\n",
    " 'mini fridge',\n",
    " 'natural gas barbeque',\n",
    " 'office',\n",
    " 'outlet covers',\n",
    " 'oven',\n",
    " 'pack \\\\u2019n play/travel crib',\n",
    " 'paid parking off premises',\n",
    " 'paid parking on premises',\n",
    " 'patio or balcony',\n",
    " 'pets allowed',\n",
    " 'piano',\n",
    " 'pocket wifi',\n",
    " 'pool',\n",
    " 'portable air conditioning',\n",
    " 'private entrance',\n",
    " 'private hot tub',\n",
    " 'private living room',\n",
    " 'refrigerator',\n",
    " 'room-darkening shades',\n",
    " 'security cameras',\n",
    " 'self check-in',\n",
    " 'shampoo',\n",
    " 'shared hot tub',\n",
    " 'shower gel',\n",
    " 'single level home',\n",
    " 'ski-in/ski-out',\n",
    " 'smart home technology',\n",
    " 'smart lock',\n",
    " 'smart tv',\n",
    " 'smoke alarm',\n",
    " 'smoking allowed',\n",
    " 'sonos sound system',\n",
    " 'stair gates',\n",
    " 'stand alone bathtub',\n",
    " 'stand alone rain shower',\n",
    " 'stove',\n",
    " 'suitable for events',\n",
    " 'table corner guards',\n",
    " 'terrace',\n",
    " 'tv',\n",
    " 'walk in closet',\n",
    " 'washer',\n",
    " 'waterfront',\n",
    " 'wet bar',\n",
    " 'wifi',\n",
    " 'window guards',\n",
    " 'wine cooler']"
   ]
  },
  {
   "cell_type": "code",
   "execution_count": 518,
   "metadata": {
    "ExecuteTime": {
     "end_time": "2020-10-26T15:20:19.534572Z",
     "start_time": "2020-10-26T15:20:19.519611Z"
    }
   },
   "outputs": [],
   "source": [
    "listings_new.drop(columns=['-'],inplace=True)"
   ]
  },
  {
   "cell_type": "code",
   "execution_count": 519,
   "metadata": {
    "ExecuteTime": {
     "end_time": "2020-10-26T15:20:19.567483Z",
     "start_time": "2020-10-26T15:20:19.537563Z"
    },
    "scrolled": true
   },
   "outputs": [
    {
     "name": "stdout",
     "output_type": "stream",
     "text": [
      "<class 'pandas.core.frame.DataFrame'>\n",
      "Int64Index: 6396 entries, 0 to 6812\n",
      "Columns: 225 entries, host_response_rate to wine cooler\n",
      "dtypes: float64(7), int32(1), int64(118), uint8(99)\n",
      "memory usage: 6.8 MB\n"
     ]
    }
   ],
   "source": [
    "listings_new.info()"
   ]
  },
  {
   "cell_type": "markdown",
   "metadata": {},
   "source": [
    "## Import to pkl file for cleaned df with encode"
   ]
  },
  {
   "cell_type": "code",
   "execution_count": 520,
   "metadata": {
    "ExecuteTime": {
     "end_time": "2020-10-26T15:20:19.647276Z",
     "start_time": "2020-10-26T15:20:19.572469Z"
    }
   },
   "outputs": [
    {
     "name": "stdout",
     "output_type": "stream",
     "text": [
      "<class 'pandas.core.frame.DataFrame'>\n",
      "Int64Index: 6396 entries, 0 to 6812\n",
      "Columns: 225 entries, host_response_rate to wine cooler\n",
      "dtypes: float64(7), int32(1), int64(118), uint8(99)\n",
      "memory usage: 6.8 MB\n"
     ]
    }
   ],
   "source": [
    "# listings_new.to_pickle('cleaned_df_with_encode.pkl')\n",
    "\n",
    "\n",
    "listings_new = pd.read_pickle('cleaned_df_with_encode.pkl')\n",
    "listings_new.info()"
   ]
  },
  {
   "cell_type": "markdown",
   "metadata": {},
   "source": [
    "# calendar.csv Pre-processing"
   ]
  },
  {
   "cell_type": "code",
   "execution_count": 120,
   "metadata": {
    "ExecuteTime": {
     "end_time": "2020-09-22T05:35:20.412763Z",
     "start_time": "2020-09-22T05:35:17.972286Z"
    }
   },
   "outputs": [
    {
     "data": {
      "text/html": [
       "<div>\n",
       "<style scoped>\n",
       "    .dataframe tbody tr th:only-of-type {\n",
       "        vertical-align: middle;\n",
       "    }\n",
       "\n",
       "    .dataframe tbody tr th {\n",
       "        vertical-align: top;\n",
       "    }\n",
       "\n",
       "    .dataframe thead th {\n",
       "        text-align: right;\n",
       "    }\n",
       "</style>\n",
       "<table border=\"1\" class=\"dataframe\">\n",
       "  <thead>\n",
       "    <tr style=\"text-align: right;\">\n",
       "      <th></th>\n",
       "      <th>listing_id</th>\n",
       "      <th>date</th>\n",
       "      <th>available</th>\n",
       "      <th>price</th>\n",
       "      <th>adjusted_price</th>\n",
       "      <th>minimum_nights</th>\n",
       "      <th>maximum_nights</th>\n",
       "    </tr>\n",
       "  </thead>\n",
       "  <tbody>\n",
       "    <tr>\n",
       "      <th>0</th>\n",
       "      <td>132441</td>\n",
       "      <td>2020-08-16</td>\n",
       "      <td>t</td>\n",
       "      <td>$75.00</td>\n",
       "      <td>$75.00</td>\n",
       "      <td>1.0</td>\n",
       "      <td>10.0</td>\n",
       "    </tr>\n",
       "    <tr>\n",
       "      <th>1</th>\n",
       "      <td>25463</td>\n",
       "      <td>2020-08-15</td>\n",
       "      <td>t</td>\n",
       "      <td>$110.00</td>\n",
       "      <td>$110.00</td>\n",
       "      <td>2.0</td>\n",
       "      <td>29.0</td>\n",
       "    </tr>\n",
       "    <tr>\n",
       "      <th>2</th>\n",
       "      <td>25463</td>\n",
       "      <td>2020-08-16</td>\n",
       "      <td>t</td>\n",
       "      <td>$110.00</td>\n",
       "      <td>$110.00</td>\n",
       "      <td>2.0</td>\n",
       "      <td>29.0</td>\n",
       "    </tr>\n",
       "    <tr>\n",
       "      <th>3</th>\n",
       "      <td>25463</td>\n",
       "      <td>2020-08-17</td>\n",
       "      <td>t</td>\n",
       "      <td>$110.00</td>\n",
       "      <td>$110.00</td>\n",
       "      <td>2.0</td>\n",
       "      <td>29.0</td>\n",
       "    </tr>\n",
       "    <tr>\n",
       "      <th>4</th>\n",
       "      <td>25463</td>\n",
       "      <td>2020-08-18</td>\n",
       "      <td>t</td>\n",
       "      <td>$110.00</td>\n",
       "      <td>$110.00</td>\n",
       "      <td>2.0</td>\n",
       "      <td>29.0</td>\n",
       "    </tr>\n",
       "  </tbody>\n",
       "</table>\n",
       "</div>"
      ],
      "text/plain": [
       "   listing_id        date available    price adjusted_price  minimum_nights  \\\n",
       "0      132441  2020-08-16         t   $75.00         $75.00             1.0   \n",
       "1       25463  2020-08-15         t  $110.00        $110.00             2.0   \n",
       "2       25463  2020-08-16         t  $110.00        $110.00             2.0   \n",
       "3       25463  2020-08-17         t  $110.00        $110.00             2.0   \n",
       "4       25463  2020-08-18         t  $110.00        $110.00             2.0   \n",
       "\n",
       "   maximum_nights  \n",
       "0            10.0  \n",
       "1            29.0  \n",
       "2            29.0  \n",
       "3            29.0  \n",
       "4            29.0  "
      ]
     },
     "execution_count": 120,
     "metadata": {},
     "output_type": "execute_result"
    }
   ],
   "source": [
    "calendar_df = pd.read_csv(\"../raw_data/calendar.csv\")\n",
    "calendar_df.head()"
   ]
  },
  {
   "cell_type": "markdown",
   "metadata": {},
   "source": [
    "## Checking structure and data types"
   ]
  },
  {
   "cell_type": "code",
   "execution_count": 121,
   "metadata": {
    "ExecuteTime": {
     "end_time": "2020-09-22T05:35:20.431711Z",
     "start_time": "2020-09-22T05:35:20.416753Z"
    }
   },
   "outputs": [
    {
     "name": "stdout",
     "output_type": "stream",
     "text": [
      "<class 'pandas.core.frame.DataFrame'>\n",
      "RangeIndex: 2655067 entries, 0 to 2655066\n",
      "Data columns (total 7 columns):\n",
      " #   Column          Dtype  \n",
      "---  ------          -----  \n",
      " 0   listing_id      int64  \n",
      " 1   date            object \n",
      " 2   available       object \n",
      " 3   price           object \n",
      " 4   adjusted_price  object \n",
      " 5   minimum_nights  float64\n",
      " 6   maximum_nights  float64\n",
      "dtypes: float64(2), int64(1), object(4)\n",
      "memory usage: 141.8+ MB\n"
     ]
    }
   ],
   "source": [
    "calendar_df.info()"
   ]
  },
  {
   "cell_type": "code",
   "execution_count": 122,
   "metadata": {
    "ExecuteTime": {
     "end_time": "2020-09-22T05:35:21.262490Z",
     "start_time": "2020-09-22T05:35:20.434704Z"
    }
   },
   "outputs": [
    {
     "data": {
      "text/html": [
       "<div>\n",
       "<style scoped>\n",
       "    .dataframe tbody tr th:only-of-type {\n",
       "        vertical-align: middle;\n",
       "    }\n",
       "\n",
       "    .dataframe tbody tr th {\n",
       "        vertical-align: top;\n",
       "    }\n",
       "\n",
       "    .dataframe thead th {\n",
       "        text-align: right;\n",
       "    }\n",
       "</style>\n",
       "<table border=\"1\" class=\"dataframe\">\n",
       "  <thead>\n",
       "    <tr style=\"text-align: right;\">\n",
       "      <th></th>\n",
       "      <th>listing_id</th>\n",
       "      <th>date</th>\n",
       "      <th>available</th>\n",
       "      <th>price</th>\n",
       "      <th>adjusted_price</th>\n",
       "      <th>minimum_nights</th>\n",
       "      <th>maximum_nights</th>\n",
       "    </tr>\n",
       "  </thead>\n",
       "  <tbody>\n",
       "    <tr>\n",
       "      <th>1729</th>\n",
       "      <td>27025</td>\n",
       "      <td>2020-08-15</td>\n",
       "      <td>f</td>\n",
       "      <td>$165.00</td>\n",
       "      <td>$157.00</td>\n",
       "      <td>30.0</td>\n",
       "      <td>1125.0</td>\n",
       "    </tr>\n",
       "    <tr>\n",
       "      <th>1730</th>\n",
       "      <td>27025</td>\n",
       "      <td>2020-08-16</td>\n",
       "      <td>f</td>\n",
       "      <td>$165.00</td>\n",
       "      <td>$157.00</td>\n",
       "      <td>30.0</td>\n",
       "      <td>1125.0</td>\n",
       "    </tr>\n",
       "    <tr>\n",
       "      <th>1731</th>\n",
       "      <td>27025</td>\n",
       "      <td>2020-08-17</td>\n",
       "      <td>f</td>\n",
       "      <td>$165.00</td>\n",
       "      <td>$157.00</td>\n",
       "      <td>30.0</td>\n",
       "      <td>1125.0</td>\n",
       "    </tr>\n",
       "    <tr>\n",
       "      <th>1732</th>\n",
       "      <td>27025</td>\n",
       "      <td>2020-08-18</td>\n",
       "      <td>f</td>\n",
       "      <td>$165.00</td>\n",
       "      <td>$157.00</td>\n",
       "      <td>30.0</td>\n",
       "      <td>1125.0</td>\n",
       "    </tr>\n",
       "    <tr>\n",
       "      <th>1733</th>\n",
       "      <td>27025</td>\n",
       "      <td>2020-08-19</td>\n",
       "      <td>f</td>\n",
       "      <td>$165.00</td>\n",
       "      <td>$157.00</td>\n",
       "      <td>30.0</td>\n",
       "      <td>1125.0</td>\n",
       "    </tr>\n",
       "    <tr>\n",
       "      <th>...</th>\n",
       "      <td>...</td>\n",
       "      <td>...</td>\n",
       "      <td>...</td>\n",
       "      <td>...</td>\n",
       "      <td>...</td>\n",
       "      <td>...</td>\n",
       "      <td>...</td>\n",
       "    </tr>\n",
       "    <tr>\n",
       "      <th>2648492</th>\n",
       "      <td>44139093</td>\n",
       "      <td>2021-08-10</td>\n",
       "      <td>t</td>\n",
       "      <td>$280.00</td>\n",
       "      <td>$252.00</td>\n",
       "      <td>30.0</td>\n",
       "      <td>1125.0</td>\n",
       "    </tr>\n",
       "    <tr>\n",
       "      <th>2648493</th>\n",
       "      <td>44139093</td>\n",
       "      <td>2021-08-11</td>\n",
       "      <td>t</td>\n",
       "      <td>$280.00</td>\n",
       "      <td>$252.00</td>\n",
       "      <td>30.0</td>\n",
       "      <td>1125.0</td>\n",
       "    </tr>\n",
       "    <tr>\n",
       "      <th>2648494</th>\n",
       "      <td>44139093</td>\n",
       "      <td>2021-08-12</td>\n",
       "      <td>t</td>\n",
       "      <td>$280.00</td>\n",
       "      <td>$252.00</td>\n",
       "      <td>30.0</td>\n",
       "      <td>1125.0</td>\n",
       "    </tr>\n",
       "    <tr>\n",
       "      <th>2648495</th>\n",
       "      <td>44139093</td>\n",
       "      <td>2021-08-13</td>\n",
       "      <td>t</td>\n",
       "      <td>$280.00</td>\n",
       "      <td>$252.00</td>\n",
       "      <td>30.0</td>\n",
       "      <td>1125.0</td>\n",
       "    </tr>\n",
       "    <tr>\n",
       "      <th>2648496</th>\n",
       "      <td>44139093</td>\n",
       "      <td>2021-08-14</td>\n",
       "      <td>t</td>\n",
       "      <td>$280.00</td>\n",
       "      <td>$252.00</td>\n",
       "      <td>30.0</td>\n",
       "      <td>1125.0</td>\n",
       "    </tr>\n",
       "  </tbody>\n",
       "</table>\n",
       "<p>24782 rows × 7 columns</p>\n",
       "</div>"
      ],
      "text/plain": [
       "         listing_id        date available    price adjusted_price  \\\n",
       "1729          27025  2020-08-15         f  $165.00        $157.00   \n",
       "1730          27025  2020-08-16         f  $165.00        $157.00   \n",
       "1731          27025  2020-08-17         f  $165.00        $157.00   \n",
       "1732          27025  2020-08-18         f  $165.00        $157.00   \n",
       "1733          27025  2020-08-19         f  $165.00        $157.00   \n",
       "...             ...         ...       ...      ...            ...   \n",
       "2648492    44139093  2021-08-10         t  $280.00        $252.00   \n",
       "2648493    44139093  2021-08-11         t  $280.00        $252.00   \n",
       "2648494    44139093  2021-08-12         t  $280.00        $252.00   \n",
       "2648495    44139093  2021-08-13         t  $280.00        $252.00   \n",
       "2648496    44139093  2021-08-14         t  $280.00        $252.00   \n",
       "\n",
       "         minimum_nights  maximum_nights  \n",
       "1729               30.0          1125.0  \n",
       "1730               30.0          1125.0  \n",
       "1731               30.0          1125.0  \n",
       "1732               30.0          1125.0  \n",
       "1733               30.0          1125.0  \n",
       "...                 ...             ...  \n",
       "2648492            30.0          1125.0  \n",
       "2648493            30.0          1125.0  \n",
       "2648494            30.0          1125.0  \n",
       "2648495            30.0          1125.0  \n",
       "2648496            30.0          1125.0  \n",
       "\n",
       "[24782 rows x 7 columns]"
      ]
     },
     "execution_count": 122,
     "metadata": {},
     "output_type": "execute_result"
    }
   ],
   "source": [
    "calendar_df.loc[calendar_df['price'] != calendar_df['adjusted_price']]"
   ]
  },
  {
   "cell_type": "markdown",
   "metadata": {},
   "source": [
    "## Fixing wrong data types"
   ]
  },
  {
   "cell_type": "code",
   "execution_count": 123,
   "metadata": {
    "ExecuteTime": {
     "end_time": "2020-09-22T05:35:36.536659Z",
     "start_time": "2020-09-22T05:35:21.265484Z"
    }
   },
   "outputs": [
    {
     "name": "stdout",
     "output_type": "stream",
     "text": [
      "<class 'pandas.core.frame.DataFrame'>\n",
      "RangeIndex: 2655067 entries, 0 to 2655066\n",
      "Data columns (total 7 columns):\n",
      " #   Column          Dtype         \n",
      "---  ------          -----         \n",
      " 0   listing_id      int64         \n",
      " 1   date            datetime64[ns]\n",
      " 2   available       bool          \n",
      " 3   price           float64       \n",
      " 4   adjusted_price  float64       \n",
      " 5   minimum_nights  float64       \n",
      " 6   maximum_nights  float64       \n",
      "dtypes: bool(1), datetime64[ns](1), float64(4), int64(1)\n",
      "memory usage: 124.1 MB\n"
     ]
    }
   ],
   "source": [
    "# convert to datetime\n",
    "calendar_df['date'] =pd.to_datetime(calendar_df['date'])\n",
    "\n",
    "# convert $ to float\n",
    "calendar_df[['price','adjusted_price']]=\\\n",
    "calendar_df[['price','adjusted_price']].apply(lambda x: x.str.replace('$', ''))\n",
    "calendar_df[['price','adjusted_price']].head()\n",
    "calendar_df[['price','adjusted_price']]=\\\n",
    "calendar_df[['price','adjusted_price']].apply(lambda x: x.str.replace(',', '')).astype(float)\n",
    "\n",
    "# convert to bool\n",
    "calendar_df['available'] = np.where(calendar_df['available'] == \"t\", True, False)\n",
    "                           \n",
    "calendar_df.info()"
   ]
  },
  {
   "cell_type": "code",
   "execution_count": 124,
   "metadata": {
    "ExecuteTime": {
     "end_time": "2020-09-22T05:35:37.395365Z",
     "start_time": "2020-09-22T05:35:36.541646Z"
    }
   },
   "outputs": [
    {
     "data": {
      "text/html": [
       "<div>\n",
       "<style scoped>\n",
       "    .dataframe tbody tr th:only-of-type {\n",
       "        vertical-align: middle;\n",
       "    }\n",
       "\n",
       "    .dataframe tbody tr th {\n",
       "        vertical-align: top;\n",
       "    }\n",
       "\n",
       "    .dataframe thead th {\n",
       "        text-align: right;\n",
       "    }\n",
       "</style>\n",
       "<table border=\"1\" class=\"dataframe\">\n",
       "  <thead>\n",
       "    <tr style=\"text-align: right;\">\n",
       "      <th></th>\n",
       "      <th>listing_id</th>\n",
       "      <th>date</th>\n",
       "      <th>available</th>\n",
       "      <th>price</th>\n",
       "      <th>adjusted_price</th>\n",
       "      <th>minimum_nights</th>\n",
       "      <th>maximum_nights</th>\n",
       "    </tr>\n",
       "  </thead>\n",
       "  <tbody>\n",
       "    <tr>\n",
       "      <th>count</th>\n",
       "      <td>2.655067e+06</td>\n",
       "      <td>2655067</td>\n",
       "      <td>2655067</td>\n",
       "      <td>2.655067e+06</td>\n",
       "      <td>2.655067e+06</td>\n",
       "      <td>2.655026e+06</td>\n",
       "      <td>2.655026e+06</td>\n",
       "    </tr>\n",
       "    <tr>\n",
       "      <th>unique</th>\n",
       "      <td>NaN</td>\n",
       "      <td>366</td>\n",
       "      <td>2</td>\n",
       "      <td>NaN</td>\n",
       "      <td>NaN</td>\n",
       "      <td>NaN</td>\n",
       "      <td>NaN</td>\n",
       "    </tr>\n",
       "    <tr>\n",
       "      <th>top</th>\n",
       "      <td>NaN</td>\n",
       "      <td>2021-03-07 00:00:00</td>\n",
       "      <td>False</td>\n",
       "      <td>NaN</td>\n",
       "      <td>NaN</td>\n",
       "      <td>NaN</td>\n",
       "      <td>NaN</td>\n",
       "    </tr>\n",
       "    <tr>\n",
       "      <th>freq</th>\n",
       "      <td>NaN</td>\n",
       "      <td>7274</td>\n",
       "      <td>1427391</td>\n",
       "      <td>NaN</td>\n",
       "      <td>NaN</td>\n",
       "      <td>NaN</td>\n",
       "      <td>NaN</td>\n",
       "    </tr>\n",
       "    <tr>\n",
       "      <th>first</th>\n",
       "      <td>NaN</td>\n",
       "      <td>2020-08-15 00:00:00</td>\n",
       "      <td>NaN</td>\n",
       "      <td>NaN</td>\n",
       "      <td>NaN</td>\n",
       "      <td>NaN</td>\n",
       "      <td>NaN</td>\n",
       "    </tr>\n",
       "    <tr>\n",
       "      <th>last</th>\n",
       "      <td>NaN</td>\n",
       "      <td>2021-08-15 00:00:00</td>\n",
       "      <td>NaN</td>\n",
       "      <td>NaN</td>\n",
       "      <td>NaN</td>\n",
       "      <td>NaN</td>\n",
       "      <td>NaN</td>\n",
       "    </tr>\n",
       "    <tr>\n",
       "      <th>mean</th>\n",
       "      <td>2.311018e+07</td>\n",
       "      <td>NaN</td>\n",
       "      <td>NaN</td>\n",
       "      <td>2.347354e+02</td>\n",
       "      <td>2.344819e+02</td>\n",
       "      <td>1.378462e+04</td>\n",
       "      <td>5.965051e+06</td>\n",
       "    </tr>\n",
       "    <tr>\n",
       "      <th>std</th>\n",
       "      <td>1.416490e+07</td>\n",
       "      <td>NaN</td>\n",
       "      <td>NaN</td>\n",
       "      <td>5.564862e+02</td>\n",
       "      <td>5.562994e+02</td>\n",
       "      <td>1.172417e+06</td>\n",
       "      <td>1.128922e+08</td>\n",
       "    </tr>\n",
       "    <tr>\n",
       "      <th>min</th>\n",
       "      <td>9.580000e+02</td>\n",
       "      <td>NaN</td>\n",
       "      <td>NaN</td>\n",
       "      <td>1.000000e+01</td>\n",
       "      <td>1.000000e+01</td>\n",
       "      <td>1.000000e+00</td>\n",
       "      <td>1.000000e+00</td>\n",
       "    </tr>\n",
       "    <tr>\n",
       "      <th>25%</th>\n",
       "      <td>1.027357e+07</td>\n",
       "      <td>NaN</td>\n",
       "      <td>NaN</td>\n",
       "      <td>9.100000e+01</td>\n",
       "      <td>9.100000e+01</td>\n",
       "      <td>2.000000e+00</td>\n",
       "      <td>6.000000e+01</td>\n",
       "    </tr>\n",
       "    <tr>\n",
       "      <th>50%</th>\n",
       "      <td>2.371172e+07</td>\n",
       "      <td>NaN</td>\n",
       "      <td>NaN</td>\n",
       "      <td>1.490000e+02</td>\n",
       "      <td>1.490000e+02</td>\n",
       "      <td>7.000000e+00</td>\n",
       "      <td>1.125000e+03</td>\n",
       "    </tr>\n",
       "    <tr>\n",
       "      <th>75%</th>\n",
       "      <td>3.593910e+07</td>\n",
       "      <td>NaN</td>\n",
       "      <td>NaN</td>\n",
       "      <td>2.390000e+02</td>\n",
       "      <td>2.390000e+02</td>\n",
       "      <td>3.000000e+01</td>\n",
       "      <td>1.125000e+03</td>\n",
       "    </tr>\n",
       "    <tr>\n",
       "      <th>max</th>\n",
       "      <td>4.481173e+07</td>\n",
       "      <td>NaN</td>\n",
       "      <td>NaN</td>\n",
       "      <td>1.000000e+04</td>\n",
       "      <td>1.000000e+04</td>\n",
       "      <td>1.000000e+08</td>\n",
       "      <td>2.147484e+09</td>\n",
       "    </tr>\n",
       "  </tbody>\n",
       "</table>\n",
       "</div>"
      ],
      "text/plain": [
       "          listing_id                 date available         price  \\\n",
       "count   2.655067e+06              2655067   2655067  2.655067e+06   \n",
       "unique           NaN                  366         2           NaN   \n",
       "top              NaN  2021-03-07 00:00:00     False           NaN   \n",
       "freq             NaN                 7274   1427391           NaN   \n",
       "first            NaN  2020-08-15 00:00:00       NaN           NaN   \n",
       "last             NaN  2021-08-15 00:00:00       NaN           NaN   \n",
       "mean    2.311018e+07                  NaN       NaN  2.347354e+02   \n",
       "std     1.416490e+07                  NaN       NaN  5.564862e+02   \n",
       "min     9.580000e+02                  NaN       NaN  1.000000e+01   \n",
       "25%     1.027357e+07                  NaN       NaN  9.100000e+01   \n",
       "50%     2.371172e+07                  NaN       NaN  1.490000e+02   \n",
       "75%     3.593910e+07                  NaN       NaN  2.390000e+02   \n",
       "max     4.481173e+07                  NaN       NaN  1.000000e+04   \n",
       "\n",
       "        adjusted_price  minimum_nights  maximum_nights  \n",
       "count     2.655067e+06    2.655026e+06    2.655026e+06  \n",
       "unique             NaN             NaN             NaN  \n",
       "top                NaN             NaN             NaN  \n",
       "freq               NaN             NaN             NaN  \n",
       "first              NaN             NaN             NaN  \n",
       "last               NaN             NaN             NaN  \n",
       "mean      2.344819e+02    1.378462e+04    5.965051e+06  \n",
       "std       5.562994e+02    1.172417e+06    1.128922e+08  \n",
       "min       1.000000e+01    1.000000e+00    1.000000e+00  \n",
       "25%       9.100000e+01    2.000000e+00    6.000000e+01  \n",
       "50%       1.490000e+02    7.000000e+00    1.125000e+03  \n",
       "75%       2.390000e+02    3.000000e+01    1.125000e+03  \n",
       "max       1.000000e+04    1.000000e+08    2.147484e+09  "
      ]
     },
     "execution_count": 124,
     "metadata": {},
     "output_type": "execute_result"
    }
   ],
   "source": [
    "calendar_df.describe(percentiles=[0.25, 0.5, 0.75],include='all')"
   ]
  },
  {
   "cell_type": "code",
   "execution_count": 125,
   "metadata": {
    "ExecuteTime": {
     "end_time": "2020-09-22T05:35:37.428279Z",
     "start_time": "2020-09-22T05:35:37.405336Z"
    }
   },
   "outputs": [
    {
     "data": {
      "text/html": [
       "<div>\n",
       "<style scoped>\n",
       "    .dataframe tbody tr th:only-of-type {\n",
       "        vertical-align: middle;\n",
       "    }\n",
       "\n",
       "    .dataframe tbody tr th {\n",
       "        vertical-align: top;\n",
       "    }\n",
       "\n",
       "    .dataframe thead th {\n",
       "        text-align: right;\n",
       "    }\n",
       "</style>\n",
       "<table border=\"1\" class=\"dataframe\">\n",
       "  <thead>\n",
       "    <tr style=\"text-align: right;\">\n",
       "      <th></th>\n",
       "      <th>listing_id</th>\n",
       "      <th>date</th>\n",
       "      <th>available</th>\n",
       "      <th>price</th>\n",
       "      <th>adjusted_price</th>\n",
       "      <th>minimum_nights</th>\n",
       "      <th>maximum_nights</th>\n",
       "    </tr>\n",
       "  </thead>\n",
       "  <tbody>\n",
       "    <tr>\n",
       "      <th>0</th>\n",
       "      <td>132441</td>\n",
       "      <td>2020-08-16</td>\n",
       "      <td>True</td>\n",
       "      <td>75.0</td>\n",
       "      <td>75.0</td>\n",
       "      <td>1.0</td>\n",
       "      <td>10.0</td>\n",
       "    </tr>\n",
       "    <tr>\n",
       "      <th>1</th>\n",
       "      <td>25463</td>\n",
       "      <td>2020-08-15</td>\n",
       "      <td>True</td>\n",
       "      <td>110.0</td>\n",
       "      <td>110.0</td>\n",
       "      <td>2.0</td>\n",
       "      <td>29.0</td>\n",
       "    </tr>\n",
       "    <tr>\n",
       "      <th>2</th>\n",
       "      <td>25463</td>\n",
       "      <td>2020-08-16</td>\n",
       "      <td>True</td>\n",
       "      <td>110.0</td>\n",
       "      <td>110.0</td>\n",
       "      <td>2.0</td>\n",
       "      <td>29.0</td>\n",
       "    </tr>\n",
       "    <tr>\n",
       "      <th>3</th>\n",
       "      <td>25463</td>\n",
       "      <td>2020-08-17</td>\n",
       "      <td>True</td>\n",
       "      <td>110.0</td>\n",
       "      <td>110.0</td>\n",
       "      <td>2.0</td>\n",
       "      <td>29.0</td>\n",
       "    </tr>\n",
       "    <tr>\n",
       "      <th>4</th>\n",
       "      <td>25463</td>\n",
       "      <td>2020-08-18</td>\n",
       "      <td>True</td>\n",
       "      <td>110.0</td>\n",
       "      <td>110.0</td>\n",
       "      <td>2.0</td>\n",
       "      <td>29.0</td>\n",
       "    </tr>\n",
       "  </tbody>\n",
       "</table>\n",
       "</div>"
      ],
      "text/plain": [
       "   listing_id       date  available  price  adjusted_price  minimum_nights  \\\n",
       "0      132441 2020-08-16       True   75.0            75.0             1.0   \n",
       "1       25463 2020-08-15       True  110.0           110.0             2.0   \n",
       "2       25463 2020-08-16       True  110.0           110.0             2.0   \n",
       "3       25463 2020-08-17       True  110.0           110.0             2.0   \n",
       "4       25463 2020-08-18       True  110.0           110.0             2.0   \n",
       "\n",
       "   maximum_nights  \n",
       "0            10.0  \n",
       "1            29.0  \n",
       "2            29.0  \n",
       "3            29.0  \n",
       "4            29.0  "
      ]
     },
     "execution_count": 125,
     "metadata": {},
     "output_type": "execute_result"
    }
   ],
   "source": [
    "calendar_df.head(5)"
   ]
  },
  {
   "cell_type": "code",
   "execution_count": 126,
   "metadata": {
    "ExecuteTime": {
     "end_time": "2020-09-22T05:35:37.460194Z",
     "start_time": "2020-09-22T05:35:37.434264Z"
    }
   },
   "outputs": [
    {
     "name": "stdout",
     "output_type": "stream",
     "text": [
      "2020-08-15 00:00:00\n"
     ]
    }
   ],
   "source": [
    "print(calendar_df.date.min())"
   ]
  },
  {
   "cell_type": "code",
   "execution_count": 127,
   "metadata": {
    "ExecuteTime": {
     "end_time": "2020-09-22T05:35:37.498089Z",
     "start_time": "2020-09-22T05:35:37.470164Z"
    }
   },
   "outputs": [
    {
     "name": "stdout",
     "output_type": "stream",
     "text": [
      "2021-08-15 00:00:00\n"
     ]
    }
   ],
   "source": [
    "print(calendar_df.date.max())"
   ]
  },
  {
   "cell_type": "markdown",
   "metadata": {},
   "source": [
    "## Checking and filling null values"
   ]
  },
  {
   "cell_type": "code",
   "execution_count": 128,
   "metadata": {
    "ExecuteTime": {
     "end_time": "2020-09-22T05:35:37.670628Z",
     "start_time": "2020-09-22T05:35:37.502077Z"
    }
   },
   "outputs": [
    {
     "data": {
      "text/plain": [
       "listing_id         0\n",
       "date               0\n",
       "available          0\n",
       "price              0\n",
       "adjusted_price     0\n",
       "minimum_nights    41\n",
       "maximum_nights    41\n",
       "dtype: int64"
      ]
     },
     "execution_count": 128,
     "metadata": {},
     "output_type": "execute_result"
    }
   ],
   "source": [
    "calendar_df.isnull().sum()"
   ]
  },
  {
   "cell_type": "code",
   "execution_count": 129,
   "metadata": {
    "ExecuteTime": {
     "end_time": "2020-09-22T05:35:37.689576Z",
     "start_time": "2020-09-22T05:35:37.673619Z"
    }
   },
   "outputs": [
    {
     "name": "stdout",
     "output_type": "stream",
     "text": [
      "1.0\n"
     ]
    }
   ],
   "source": [
    "print(calendar_df.maximum_nights.min())"
   ]
  },
  {
   "cell_type": "code",
   "execution_count": 130,
   "metadata": {
    "ExecuteTime": {
     "end_time": "2020-09-22T05:35:38.213176Z",
     "start_time": "2020-09-22T05:35:37.704537Z"
    }
   },
   "outputs": [
    {
     "data": {
      "text/plain": [
       "listing_id        0\n",
       "date              0\n",
       "available         0\n",
       "price             0\n",
       "adjusted_price    0\n",
       "minimum_nights    0\n",
       "maximum_nights    0\n",
       "dtype: int64"
      ]
     },
     "execution_count": 130,
     "metadata": {},
     "output_type": "execute_result"
    }
   ],
   "source": [
    "calendar_df.fillna(0,inplace=True) \n",
    "calendar_df.isnull().sum()"
   ]
  },
  {
   "cell_type": "markdown",
   "metadata": {},
   "source": [
    "## Importing cleaned data to pickle file"
   ]
  },
  {
   "cell_type": "code",
   "execution_count": 131,
   "metadata": {
    "ExecuteTime": {
     "end_time": "2020-09-22T05:35:38.572219Z",
     "start_time": "2020-09-22T05:35:38.229133Z"
    }
   },
   "outputs": [
    {
     "data": {
      "text/html": [
       "<div>\n",
       "<style scoped>\n",
       "    .dataframe tbody tr th:only-of-type {\n",
       "        vertical-align: middle;\n",
       "    }\n",
       "\n",
       "    .dataframe tbody tr th {\n",
       "        vertical-align: top;\n",
       "    }\n",
       "\n",
       "    .dataframe thead th {\n",
       "        text-align: right;\n",
       "    }\n",
       "</style>\n",
       "<table border=\"1\" class=\"dataframe\">\n",
       "  <thead>\n",
       "    <tr style=\"text-align: right;\">\n",
       "      <th></th>\n",
       "      <th>listing_id</th>\n",
       "      <th>date</th>\n",
       "      <th>available</th>\n",
       "      <th>price</th>\n",
       "      <th>adjusted_price</th>\n",
       "      <th>minimum_nights</th>\n",
       "      <th>maximum_nights</th>\n",
       "    </tr>\n",
       "  </thead>\n",
       "  <tbody>\n",
       "    <tr>\n",
       "      <th>0</th>\n",
       "      <td>132441</td>\n",
       "      <td>2020-08-16</td>\n",
       "      <td>True</td>\n",
       "      <td>75.0</td>\n",
       "      <td>75.0</td>\n",
       "      <td>1.0</td>\n",
       "      <td>10.0</td>\n",
       "    </tr>\n",
       "    <tr>\n",
       "      <th>1</th>\n",
       "      <td>25463</td>\n",
       "      <td>2020-08-15</td>\n",
       "      <td>True</td>\n",
       "      <td>110.0</td>\n",
       "      <td>110.0</td>\n",
       "      <td>2.0</td>\n",
       "      <td>29.0</td>\n",
       "    </tr>\n",
       "    <tr>\n",
       "      <th>2</th>\n",
       "      <td>25463</td>\n",
       "      <td>2020-08-16</td>\n",
       "      <td>True</td>\n",
       "      <td>110.0</td>\n",
       "      <td>110.0</td>\n",
       "      <td>2.0</td>\n",
       "      <td>29.0</td>\n",
       "    </tr>\n",
       "    <tr>\n",
       "      <th>3</th>\n",
       "      <td>25463</td>\n",
       "      <td>2020-08-17</td>\n",
       "      <td>True</td>\n",
       "      <td>110.0</td>\n",
       "      <td>110.0</td>\n",
       "      <td>2.0</td>\n",
       "      <td>29.0</td>\n",
       "    </tr>\n",
       "    <tr>\n",
       "      <th>4</th>\n",
       "      <td>25463</td>\n",
       "      <td>2020-08-18</td>\n",
       "      <td>True</td>\n",
       "      <td>110.0</td>\n",
       "      <td>110.0</td>\n",
       "      <td>2.0</td>\n",
       "      <td>29.0</td>\n",
       "    </tr>\n",
       "  </tbody>\n",
       "</table>\n",
       "</div>"
      ],
      "text/plain": [
       "   listing_id       date  available  price  adjusted_price  minimum_nights  \\\n",
       "0      132441 2020-08-16       True   75.0            75.0             1.0   \n",
       "1       25463 2020-08-15       True  110.0           110.0             2.0   \n",
       "2       25463 2020-08-16       True  110.0           110.0             2.0   \n",
       "3       25463 2020-08-17       True  110.0           110.0             2.0   \n",
       "4       25463 2020-08-18       True  110.0           110.0             2.0   \n",
       "\n",
       "   maximum_nights  \n",
       "0            10.0  \n",
       "1            29.0  \n",
       "2            29.0  \n",
       "3            29.0  \n",
       "4            29.0  "
      ]
     },
     "execution_count": 131,
     "metadata": {},
     "output_type": "execute_result"
    }
   ],
   "source": [
    "#calendar_df.to_pickle('cleaned_calendar.pkl')\n",
    "\n",
    "\n",
    "pickle_calendar_df = pd.read_pickle('cleaned_calendar.pkl')\n",
    "pickle_calendar_df.head(5)"
   ]
  },
  {
   "cell_type": "markdown",
   "metadata": {},
   "source": [
    "## Further breakdown to date column for EDA later"
   ]
  },
  {
   "cell_type": "code",
   "execution_count": 132,
   "metadata": {
    "ExecuteTime": {
     "end_time": "2020-09-22T05:35:45.708140Z",
     "start_time": "2020-09-22T05:35:38.575208Z"
    }
   },
   "outputs": [],
   "source": [
    "calendar_df['dow'] = pd.DatetimeIndex(calendar_df['date']).dayofweek\n",
    "calendar_df['doy'] = pd.DatetimeIndex(calendar_df['date']).dayofyear\n",
    "calendar_df['year'] = pd.DatetimeIndex(calendar_df['date']).year\n",
    "calendar_df['month'] = pd.DatetimeIndex(calendar_df['date']).month\n",
    "calendar_df['quarter'] = pd.DatetimeIndex(calendar_df['date']).quarter\n",
    "#calendar_df['hour'] = data.index.hour\n",
    "calendar_df['weekday'] = pd.DatetimeIndex(calendar_df['date']).day_name()\n",
    "calendar_df['woy'] = pd.DatetimeIndex(calendar_df['date']).weekofyear\n",
    "calendar_df['dom'] = pd.DatetimeIndex(calendar_df['date']).day # Day of Month\n",
    "\n",
    "calendar_df['season'] = calendar_df['month'].apply(lambda month_number: (month_number%12 + 3)//3)"
   ]
  },
  {
   "cell_type": "code",
   "execution_count": 133,
   "metadata": {
    "ExecuteTime": {
     "end_time": "2020-09-22T05:35:45.766985Z",
     "start_time": "2020-09-22T05:35:45.712130Z"
    }
   },
   "outputs": [
    {
     "data": {
      "text/html": [
       "<div>\n",
       "<style scoped>\n",
       "    .dataframe tbody tr th:only-of-type {\n",
       "        vertical-align: middle;\n",
       "    }\n",
       "\n",
       "    .dataframe tbody tr th {\n",
       "        vertical-align: top;\n",
       "    }\n",
       "\n",
       "    .dataframe thead th {\n",
       "        text-align: right;\n",
       "    }\n",
       "</style>\n",
       "<table border=\"1\" class=\"dataframe\">\n",
       "  <thead>\n",
       "    <tr style=\"text-align: right;\">\n",
       "      <th></th>\n",
       "      <th>listing_id</th>\n",
       "      <th>date</th>\n",
       "      <th>available</th>\n",
       "      <th>price</th>\n",
       "      <th>adjusted_price</th>\n",
       "      <th>minimum_nights</th>\n",
       "      <th>maximum_nights</th>\n",
       "      <th>dow</th>\n",
       "      <th>doy</th>\n",
       "      <th>year</th>\n",
       "      <th>month</th>\n",
       "      <th>quarter</th>\n",
       "      <th>weekday</th>\n",
       "      <th>woy</th>\n",
       "      <th>dom</th>\n",
       "      <th>season</th>\n",
       "    </tr>\n",
       "  </thead>\n",
       "  <tbody>\n",
       "    <tr>\n",
       "      <th>0</th>\n",
       "      <td>132441</td>\n",
       "      <td>2020-08-16</td>\n",
       "      <td>True</td>\n",
       "      <td>75.0</td>\n",
       "      <td>75.0</td>\n",
       "      <td>1.0</td>\n",
       "      <td>10.0</td>\n",
       "      <td>6</td>\n",
       "      <td>229</td>\n",
       "      <td>2020</td>\n",
       "      <td>8</td>\n",
       "      <td>3</td>\n",
       "      <td>Sunday</td>\n",
       "      <td>33</td>\n",
       "      <td>16</td>\n",
       "      <td>3</td>\n",
       "    </tr>\n",
       "    <tr>\n",
       "      <th>1</th>\n",
       "      <td>25463</td>\n",
       "      <td>2020-08-15</td>\n",
       "      <td>True</td>\n",
       "      <td>110.0</td>\n",
       "      <td>110.0</td>\n",
       "      <td>2.0</td>\n",
       "      <td>29.0</td>\n",
       "      <td>5</td>\n",
       "      <td>228</td>\n",
       "      <td>2020</td>\n",
       "      <td>8</td>\n",
       "      <td>3</td>\n",
       "      <td>Saturday</td>\n",
       "      <td>33</td>\n",
       "      <td>15</td>\n",
       "      <td>3</td>\n",
       "    </tr>\n",
       "    <tr>\n",
       "      <th>2</th>\n",
       "      <td>25463</td>\n",
       "      <td>2020-08-16</td>\n",
       "      <td>True</td>\n",
       "      <td>110.0</td>\n",
       "      <td>110.0</td>\n",
       "      <td>2.0</td>\n",
       "      <td>29.0</td>\n",
       "      <td>6</td>\n",
       "      <td>229</td>\n",
       "      <td>2020</td>\n",
       "      <td>8</td>\n",
       "      <td>3</td>\n",
       "      <td>Sunday</td>\n",
       "      <td>33</td>\n",
       "      <td>16</td>\n",
       "      <td>3</td>\n",
       "    </tr>\n",
       "    <tr>\n",
       "      <th>3</th>\n",
       "      <td>25463</td>\n",
       "      <td>2020-08-17</td>\n",
       "      <td>True</td>\n",
       "      <td>110.0</td>\n",
       "      <td>110.0</td>\n",
       "      <td>2.0</td>\n",
       "      <td>29.0</td>\n",
       "      <td>0</td>\n",
       "      <td>230</td>\n",
       "      <td>2020</td>\n",
       "      <td>8</td>\n",
       "      <td>3</td>\n",
       "      <td>Monday</td>\n",
       "      <td>34</td>\n",
       "      <td>17</td>\n",
       "      <td>3</td>\n",
       "    </tr>\n",
       "    <tr>\n",
       "      <th>4</th>\n",
       "      <td>25463</td>\n",
       "      <td>2020-08-18</td>\n",
       "      <td>True</td>\n",
       "      <td>110.0</td>\n",
       "      <td>110.0</td>\n",
       "      <td>2.0</td>\n",
       "      <td>29.0</td>\n",
       "      <td>1</td>\n",
       "      <td>231</td>\n",
       "      <td>2020</td>\n",
       "      <td>8</td>\n",
       "      <td>3</td>\n",
       "      <td>Tuesday</td>\n",
       "      <td>34</td>\n",
       "      <td>18</td>\n",
       "      <td>3</td>\n",
       "    </tr>\n",
       "  </tbody>\n",
       "</table>\n",
       "</div>"
      ],
      "text/plain": [
       "   listing_id       date  available  price  adjusted_price  minimum_nights  \\\n",
       "0      132441 2020-08-16       True   75.0            75.0             1.0   \n",
       "1       25463 2020-08-15       True  110.0           110.0             2.0   \n",
       "2       25463 2020-08-16       True  110.0           110.0             2.0   \n",
       "3       25463 2020-08-17       True  110.0           110.0             2.0   \n",
       "4       25463 2020-08-18       True  110.0           110.0             2.0   \n",
       "\n",
       "   maximum_nights  dow  doy  year  month  quarter   weekday  woy  dom  season  \n",
       "0            10.0    6  229  2020      8        3    Sunday   33   16       3  \n",
       "1            29.0    5  228  2020      8        3  Saturday   33   15       3  \n",
       "2            29.0    6  229  2020      8        3    Sunday   33   16       3  \n",
       "3            29.0    0  230  2020      8        3    Monday   34   17       3  \n",
       "4            29.0    1  231  2020      8        3   Tuesday   34   18       3  "
      ]
     },
     "execution_count": 133,
     "metadata": {},
     "output_type": "execute_result"
    }
   ],
   "source": [
    "calendar_df.head(5)"
   ]
  },
  {
   "cell_type": "markdown",
   "metadata": {},
   "source": [
    "## Import to pickle with newly added date breakdown columns"
   ]
  },
  {
   "cell_type": "code",
   "execution_count": 134,
   "metadata": {
    "ExecuteTime": {
     "end_time": "2020-09-22T05:35:48.224415Z",
     "start_time": "2020-09-22T05:35:45.769975Z"
    }
   },
   "outputs": [
    {
     "data": {
      "text/html": [
       "<div>\n",
       "<style scoped>\n",
       "    .dataframe tbody tr th:only-of-type {\n",
       "        vertical-align: middle;\n",
       "    }\n",
       "\n",
       "    .dataframe tbody tr th {\n",
       "        vertical-align: top;\n",
       "    }\n",
       "\n",
       "    .dataframe thead th {\n",
       "        text-align: right;\n",
       "    }\n",
       "</style>\n",
       "<table border=\"1\" class=\"dataframe\">\n",
       "  <thead>\n",
       "    <tr style=\"text-align: right;\">\n",
       "      <th></th>\n",
       "      <th>listing_id</th>\n",
       "      <th>date</th>\n",
       "      <th>available</th>\n",
       "      <th>price</th>\n",
       "      <th>adjusted_price</th>\n",
       "      <th>minimum_nights</th>\n",
       "      <th>maximum_nights</th>\n",
       "      <th>dow</th>\n",
       "      <th>doy</th>\n",
       "      <th>year</th>\n",
       "      <th>month</th>\n",
       "      <th>quarter</th>\n",
       "      <th>weekday</th>\n",
       "      <th>woy</th>\n",
       "      <th>dom</th>\n",
       "      <th>season</th>\n",
       "    </tr>\n",
       "  </thead>\n",
       "  <tbody>\n",
       "    <tr>\n",
       "      <th>0</th>\n",
       "      <td>132441</td>\n",
       "      <td>2020-08-16</td>\n",
       "      <td>True</td>\n",
       "      <td>75.0</td>\n",
       "      <td>75.0</td>\n",
       "      <td>1.0</td>\n",
       "      <td>10.0</td>\n",
       "      <td>6</td>\n",
       "      <td>229</td>\n",
       "      <td>2020</td>\n",
       "      <td>8</td>\n",
       "      <td>3</td>\n",
       "      <td>Sunday</td>\n",
       "      <td>33</td>\n",
       "      <td>16</td>\n",
       "      <td>3</td>\n",
       "    </tr>\n",
       "    <tr>\n",
       "      <th>1</th>\n",
       "      <td>25463</td>\n",
       "      <td>2020-08-15</td>\n",
       "      <td>True</td>\n",
       "      <td>110.0</td>\n",
       "      <td>110.0</td>\n",
       "      <td>2.0</td>\n",
       "      <td>29.0</td>\n",
       "      <td>5</td>\n",
       "      <td>228</td>\n",
       "      <td>2020</td>\n",
       "      <td>8</td>\n",
       "      <td>3</td>\n",
       "      <td>Saturday</td>\n",
       "      <td>33</td>\n",
       "      <td>15</td>\n",
       "      <td>3</td>\n",
       "    </tr>\n",
       "    <tr>\n",
       "      <th>2</th>\n",
       "      <td>25463</td>\n",
       "      <td>2020-08-16</td>\n",
       "      <td>True</td>\n",
       "      <td>110.0</td>\n",
       "      <td>110.0</td>\n",
       "      <td>2.0</td>\n",
       "      <td>29.0</td>\n",
       "      <td>6</td>\n",
       "      <td>229</td>\n",
       "      <td>2020</td>\n",
       "      <td>8</td>\n",
       "      <td>3</td>\n",
       "      <td>Sunday</td>\n",
       "      <td>33</td>\n",
       "      <td>16</td>\n",
       "      <td>3</td>\n",
       "    </tr>\n",
       "    <tr>\n",
       "      <th>3</th>\n",
       "      <td>25463</td>\n",
       "      <td>2020-08-17</td>\n",
       "      <td>True</td>\n",
       "      <td>110.0</td>\n",
       "      <td>110.0</td>\n",
       "      <td>2.0</td>\n",
       "      <td>29.0</td>\n",
       "      <td>0</td>\n",
       "      <td>230</td>\n",
       "      <td>2020</td>\n",
       "      <td>8</td>\n",
       "      <td>3</td>\n",
       "      <td>Monday</td>\n",
       "      <td>34</td>\n",
       "      <td>17</td>\n",
       "      <td>3</td>\n",
       "    </tr>\n",
       "    <tr>\n",
       "      <th>4</th>\n",
       "      <td>25463</td>\n",
       "      <td>2020-08-18</td>\n",
       "      <td>True</td>\n",
       "      <td>110.0</td>\n",
       "      <td>110.0</td>\n",
       "      <td>2.0</td>\n",
       "      <td>29.0</td>\n",
       "      <td>1</td>\n",
       "      <td>231</td>\n",
       "      <td>2020</td>\n",
       "      <td>8</td>\n",
       "      <td>3</td>\n",
       "      <td>Tuesday</td>\n",
       "      <td>34</td>\n",
       "      <td>18</td>\n",
       "      <td>3</td>\n",
       "    </tr>\n",
       "  </tbody>\n",
       "</table>\n",
       "</div>"
      ],
      "text/plain": [
       "   listing_id       date  available  price  adjusted_price  minimum_nights  \\\n",
       "0      132441 2020-08-16       True   75.0            75.0             1.0   \n",
       "1       25463 2020-08-15       True  110.0           110.0             2.0   \n",
       "2       25463 2020-08-16       True  110.0           110.0             2.0   \n",
       "3       25463 2020-08-17       True  110.0           110.0             2.0   \n",
       "4       25463 2020-08-18       True  110.0           110.0             2.0   \n",
       "\n",
       "   maximum_nights  dow  doy  year  month  quarter   weekday  woy  dom  season  \n",
       "0            10.0    6  229  2020      8        3    Sunday   33   16       3  \n",
       "1            29.0    5  228  2020      8        3  Saturday   33   15       3  \n",
       "2            29.0    6  229  2020      8        3    Sunday   33   16       3  \n",
       "3            29.0    0  230  2020      8        3    Monday   34   17       3  \n",
       "4            29.0    1  231  2020      8        3   Tuesday   34   18       3  "
      ]
     },
     "execution_count": 134,
     "metadata": {},
     "output_type": "execute_result"
    }
   ],
   "source": [
    "#calendar_df.to_pickle('cleaned_calendar_with_dt.pkl')\n",
    "\n",
    "\n",
    "pickle_calendar_df_with_dt = pd.read_pickle('cleaned_calendar_with_dt.pkl')\n",
    "pickle_calendar_df_with_dt.head(5)"
   ]
  },
  {
   "cell_type": "markdown",
   "metadata": {},
   "source": [
    "## Check for duplicate rows"
   ]
  },
  {
   "cell_type": "code",
   "execution_count": 135,
   "metadata": {
    "ExecuteTime": {
     "end_time": "2020-09-22T05:35:51.914549Z",
     "start_time": "2020-09-22T05:35:48.226408Z"
    },
    "scrolled": true
   },
   "outputs": [
    {
     "data": {
      "text/html": [
       "<div>\n",
       "<style scoped>\n",
       "    .dataframe tbody tr th:only-of-type {\n",
       "        vertical-align: middle;\n",
       "    }\n",
       "\n",
       "    .dataframe tbody tr th {\n",
       "        vertical-align: top;\n",
       "    }\n",
       "\n",
       "    .dataframe thead th {\n",
       "        text-align: right;\n",
       "    }\n",
       "</style>\n",
       "<table border=\"1\" class=\"dataframe\">\n",
       "  <thead>\n",
       "    <tr style=\"text-align: right;\">\n",
       "      <th></th>\n",
       "      <th>listing_id</th>\n",
       "      <th>date</th>\n",
       "      <th>available</th>\n",
       "      <th>price</th>\n",
       "      <th>adjusted_price</th>\n",
       "      <th>minimum_nights</th>\n",
       "      <th>maximum_nights</th>\n",
       "      <th>dow</th>\n",
       "      <th>doy</th>\n",
       "      <th>year</th>\n",
       "      <th>month</th>\n",
       "      <th>quarter</th>\n",
       "      <th>weekday</th>\n",
       "      <th>woy</th>\n",
       "      <th>dom</th>\n",
       "      <th>season</th>\n",
       "    </tr>\n",
       "  </thead>\n",
       "  <tbody>\n",
       "  </tbody>\n",
       "</table>\n",
       "</div>"
      ],
      "text/plain": [
       "Empty DataFrame\n",
       "Columns: [listing_id, date, available, price, adjusted_price, minimum_nights, maximum_nights, dow, doy, year, month, quarter, weekday, woy, dom, season]\n",
       "Index: []"
      ]
     },
     "execution_count": 135,
     "metadata": {},
     "output_type": "execute_result"
    }
   ],
   "source": [
    "pickle_calendar_df_with_dt[pickle_calendar_df_with_dt.duplicated()]"
   ]
  },
  {
   "cell_type": "code",
   "execution_count": 136,
   "metadata": {
    "ExecuteTime": {
     "end_time": "2020-09-22T05:35:53.030565Z",
     "start_time": "2020-09-22T05:35:51.917541Z"
    },
    "scrolled": true
   },
   "outputs": [
    {
     "data": {
      "text/html": [
       "<div>\n",
       "<style scoped>\n",
       "    .dataframe tbody tr th:only-of-type {\n",
       "        vertical-align: middle;\n",
       "    }\n",
       "\n",
       "    .dataframe tbody tr th {\n",
       "        vertical-align: top;\n",
       "    }\n",
       "\n",
       "    .dataframe thead th {\n",
       "        text-align: right;\n",
       "    }\n",
       "</style>\n",
       "<table border=\"1\" class=\"dataframe\">\n",
       "  <thead>\n",
       "    <tr style=\"text-align: right;\">\n",
       "      <th></th>\n",
       "      <th>listing_id</th>\n",
       "      <th>date</th>\n",
       "      <th>available</th>\n",
       "      <th>price</th>\n",
       "      <th>adjusted_price</th>\n",
       "      <th>minimum_nights</th>\n",
       "      <th>maximum_nights</th>\n",
       "    </tr>\n",
       "  </thead>\n",
       "  <tbody>\n",
       "  </tbody>\n",
       "</table>\n",
       "</div>"
      ],
      "text/plain": [
       "Empty DataFrame\n",
       "Columns: [listing_id, date, available, price, adjusted_price, minimum_nights, maximum_nights]\n",
       "Index: []"
      ]
     },
     "execution_count": 136,
     "metadata": {},
     "output_type": "execute_result"
    }
   ],
   "source": [
    "pickle_calendar_df[pickle_calendar_df.duplicated()]"
   ]
  },
  {
   "cell_type": "code",
   "execution_count": null,
   "metadata": {},
   "outputs": [],
   "source": []
  }
 ],
 "metadata": {
  "kernelspec": {
   "display_name": "Python 3",
   "language": "python",
   "name": "python3"
  },
  "language_info": {
   "codemirror_mode": {
    "name": "ipython",
    "version": 3
   },
   "file_extension": ".py",
   "mimetype": "text/x-python",
   "name": "python",
   "nbconvert_exporter": "python",
   "pygments_lexer": "ipython3",
   "version": "3.8.3"
  },
  "toc": {
   "base_numbering": 1,
   "nav_menu": {},
   "number_sections": true,
   "sideBar": true,
   "skip_h1_title": false,
   "title_cell": "Table of Contents",
   "title_sidebar": "Contents",
   "toc_cell": false,
   "toc_position": {
    "height": "calc(100% - 180px)",
    "left": "10px",
    "top": "150px",
    "width": "238.449px"
   },
   "toc_section_display": true,
   "toc_window_display": true
  },
  "varInspector": {
   "cols": {
    "lenName": 16,
    "lenType": 16,
    "lenVar": 40
   },
   "kernels_config": {
    "python": {
     "delete_cmd_postfix": "",
     "delete_cmd_prefix": "del ",
     "library": "var_list.py",
     "varRefreshCmd": "print(var_dic_list())"
    },
    "r": {
     "delete_cmd_postfix": ") ",
     "delete_cmd_prefix": "rm(",
     "library": "var_list.r",
     "varRefreshCmd": "cat(var_dic_list()) "
    }
   },
   "types_to_exclude": [
    "module",
    "function",
    "builtin_function_or_method",
    "instance",
    "_Feature"
   ],
   "window_display": false
  }
 },
 "nbformat": 4,
 "nbformat_minor": 4
}
