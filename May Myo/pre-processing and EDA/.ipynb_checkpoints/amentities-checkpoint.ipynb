{
 "cells": [
  {
   "cell_type": "markdown",
   "metadata": {},
   "source": [
    "# Import Libraries"
   ]
  },
  {
   "cell_type": "code",
   "execution_count": 1,
   "metadata": {},
   "outputs": [],
   "source": [
    "import numpy as np\n",
    "import pandas as pd\n",
    "import seaborn as sns"
   ]
  },
  {
   "cell_type": "markdown",
   "metadata": {},
   "source": [
    "# Read CSV file"
   ]
  },
  {
   "cell_type": "code",
   "execution_count": 2,
   "metadata": {},
   "outputs": [],
   "source": [
    "df = pd.read_csv('listings.csv')\n",
    "# df.dtypes\n",
    "# df.info()\n",
    "# df.describe()\n",
    "# sns.pairplot(df)\n",
    "# sns.heatmap(df.corr(), annot = True, cmap='coolwarm')\n",
    "# df.boxplot(figsize = (8,8))"
   ]
  },
  {
   "cell_type": "markdown",
   "metadata": {},
   "source": [
    "# Data filtering for amentity labels"
   ]
  },
  {
   "cell_type": "code",
   "execution_count": 3,
   "metadata": {},
   "outputs": [],
   "source": [
    "amentities_col = df.amenities\n",
    "amentities_dict = {}\n",
    "id = 0\n",
    "for amentities in amentities_col:\n",
    "    x_striped = amentities[1:-1]\n",
    "    x_arr = x_striped.split(',')\n",
    "    \n",
    "    for amentity in x_arr:\n",
    "        name = (amentity.strip())[1:-1]\n",
    "        if name not in amentities_dict:\n",
    "            amentities_dict[name] = 1\n",
    "        else:\n",
    "            amentities_dict[name] += 1"
   ]
  },
  {
   "cell_type": "markdown",
   "metadata": {},
   "source": [
    "# Print Results"
   ]
  },
  {
   "cell_type": "code",
   "execution_count": 4,
   "metadata": {},
   "outputs": [
    {
     "data": {
      "text/plain": [
       "[('Wifi', 7131),\n",
       " ('Smoke alarm', 6852),\n",
       " ('Heating', 6848),\n",
       " ('Essentials', 6760),\n",
       " ('Hangers', 6328),\n",
       " ('Carbon monoxide alarm', 6162),\n",
       " ('Hair dryer', 6159),\n",
       " ('Iron', 5979),\n",
       " ('TV', 5931),\n",
       " ('Shampoo', 5644),\n",
       " ('Kitchen', 5629),\n",
       " ('Laptop-friendly workspace', 5376),\n",
       " ('Washer', 5203),\n",
       " ('Dryer', 5180),\n",
       " ('Fire extinguisher', 4835),\n",
       " ('Hot water', 4803),\n",
       " ('Refrigerator', 4258),\n",
       " ('Coffee maker', 4180),\n",
       " ('Microwave', 3988),\n",
       " ('Dishes and silverware', 3949),\n",
       " ('First aid kit', 3385),\n",
       " ('Bed linens', 3375),\n",
       " ('Oven', 3108),\n",
       " ('Free street parking', 3083),\n",
       " ('Cooking basics', 3067),\n",
       " ('Private entrance', 3048),\n",
       " ('Stove', 2982),\n",
       " ('Dishwasher', 2561),\n",
       " ('Cable TV', 2450),\n",
       " ('Extra pillows and blankets', 2425),\n",
       " ('Long term stays allowed', 2219),\n",
       " ('Luggage dropoff allowed', 2188),\n",
       " ('Garden or backyard', 1828),\n",
       " ('Patio or balcony', 1627),\n",
       " ('Lock on bedroom door', 1608),\n",
       " ('Lockbox', 1449),\n",
       " ('Elevator', 1389),\n",
       " ('Free parking on premises', 1241),\n",
       " ('Bathtub', 1158),\n",
       " ('Indoor fireplace', 1134),\n",
       " ('Air conditioning', 1084),\n",
       " ('Keypad', 1066),\n",
       " ('Gym', 980),\n",
       " ('Paid parking off premises', 832),\n",
       " ('BBQ grill', 752),\n",
       " ('Breakfast', 700),\n",
       " ('Pack \\\\u2019n Play/travel crib', 647),\n",
       " ('Host greets you', 592),\n",
       " ('Paid parking on premises', 588),\n",
       " ('Shower gel', 567),\n",
       " ('Room-darkening shades', 542),\n",
       " ('Children\\\\u2019s books and toys', 521),\n",
       " ('Building staff', 423),\n",
       " ('Single level home', 416),\n",
       " ('Ethernet connection', 393),\n",
       " ('Private living room', 393),\n",
       " ('Smart lock', 357),\n",
       " ('Hot tub', 346),\n",
       " ('Baking sheet', 316),\n",
       " ('High chair', 287),\n",
       " ('Cleaning before checkout', 284),\n",
       " ('Bathroom essentials', 249),\n",
       " ('Bedroom comforts', 249),\n",
       " ('Crib', 221),\n",
       " ('Children\\\\u2019s dinnerware', 204),\n",
       " ('Full kitchen', 172),\n",
       " ('Self check-in', 163),\n",
       " ('Outlet covers', 161),\n",
       " ('Pool', 159),\n",
       " ('Babysitter recommendations', 158),\n",
       " ('Game console', 142),\n",
       " ('Fireplace guards', 116),\n",
       " ('Stair gates', 115),\n",
       " ('Barbecue utensils', 96),\n",
       " ('Baby bath', 90),\n",
       " ('Pocket wifi', 77),\n",
       " ('Changing table', 74),\n",
       " ('Window guards', 68),\n",
       " ('Beach essentials', 68),\n",
       " ('EV charger', 60),\n",
       " ('Beachfront', 46),\n",
       " ('Table corner guards', 42),\n",
       " ('Bread maker', 40),\n",
       " ('Waterfront', 34),\n",
       " ('Baby monitor', 29),\n",
       " ('Kitchenette', 28),\n",
       " ('Pets allowed', 26),\n",
       " ('Lake access', 12),\n",
       " ('Piano', 8),\n",
       " ('Stand alone rain shower', 8),\n",
       " ('Dual vanity', 7),\n",
       " ('Walk in closet', 6),\n",
       " ('Ironing board', 6),\n",
       " ('Private hot tub', 5),\n",
       " ('', 5),\n",
       " ('Terrace', 5),\n",
       " ('Suitable for events', 4),\n",
       " ('Security cameras', 4),\n",
       " ('Smart TV', 4),\n",
       " ('Wet bar', 4),\n",
       " ('Breakfast bar', 4),\n",
       " ('Natural gas barbeque', 4),\n",
       " ('Shower bathtub combo', 4),\n",
       " ('Gas fireplace', 4),\n",
       " ('Sonos sound system', 3),\n",
       " ('Smoking allowed', 2),\n",
       " ('Shared hot tub', 2),\n",
       " ('Wine cooler', 2),\n",
       " ('Nest thermometer', 2),\n",
       " ('Balcony', 2),\n",
       " ('Desk', 2),\n",
       " ('Fire pit', 2),\n",
       " ('Ski-in/Ski-out', 1),\n",
       " ('Media room', 1),\n",
       " ('Apple TV', 1),\n",
       " ('Stand alone steam shower', 1),\n",
       " ('Home theater', 1),\n",
       " ('Espresso machine', 1),\n",
       " ('Day bed', 1),\n",
       " ('Lounge area', 1),\n",
       " ('Courtyard', 1),\n",
       " ('Massage table', 1),\n",
       " ('Alarm system', 1),\n",
       " ('Mini fridge', 1),\n",
       " ('Outdoor kitchen', 1),\n",
       " ('Wood-burning fireplace', 1),\n",
       " ('Driveway parking', 1),\n",
       " ('Stand alone bathtub', 1),\n",
       " ('Jetted tub', 1),\n",
       " ('Smart home technology', 1),\n",
       " ('Office', 1),\n",
       " ('Portable air conditioning', 1)]"
      ]
     },
     "execution_count": 4,
     "metadata": {},
     "output_type": "execute_result"
    }
   ],
   "source": [
    "# amentities_dict\n",
    "sorted_amentities = sorted(amentities_dict.items(), key=lambda x: x[1], reverse=True)\n",
    "sorted_amentities"
   ]
  }
 ],
 "metadata": {
  "kernelspec": {
   "display_name": "Python 3",
   "language": "python",
   "name": "python3"
  },
  "language_info": {
   "codemirror_mode": {
    "name": "ipython",
    "version": 3
   },
   "file_extension": ".py",
   "mimetype": "text/x-python",
   "name": "python",
   "nbconvert_exporter": "python",
   "pygments_lexer": "ipython3",
   "version": "3.6.5"
  },
  "toc": {
   "base_numbering": 1,
   "nav_menu": {},
   "number_sections": true,
   "sideBar": true,
   "skip_h1_title": false,
   "title_cell": "Table of Contents",
   "title_sidebar": "Contents",
   "toc_cell": false,
   "toc_position": {},
   "toc_section_display": true,
   "toc_window_display": false
  },
  "varInspector": {
   "cols": {
    "lenName": 16,
    "lenType": 16,
    "lenVar": 40
   },
   "kernels_config": {
    "python": {
     "delete_cmd_postfix": "",
     "delete_cmd_prefix": "del ",
     "library": "var_list.py",
     "varRefreshCmd": "print(var_dic_list())"
    },
    "r": {
     "delete_cmd_postfix": ") ",
     "delete_cmd_prefix": "rm(",
     "library": "var_list.r",
     "varRefreshCmd": "cat(var_dic_list()) "
    }
   },
   "types_to_exclude": [
    "module",
    "function",
    "builtin_function_or_method",
    "instance",
    "_Feature"
   ],
   "window_display": false
  }
 },
 "nbformat": 4,
 "nbformat_minor": 2
}
