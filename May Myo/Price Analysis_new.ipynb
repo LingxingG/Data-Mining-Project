{
 "cells": [
  {
   "cell_type": "markdown",
   "metadata": {},
   "source": [
    "# Refer to SF EDA notebook for Price EDA (Section 5 & 10)"
   ]
  },
  {
   "cell_type": "markdown",
   "metadata": {},
   "source": [
    "# Import Libraries"
   ]
  },
  {
   "cell_type": "code",
   "execution_count": 180,
   "metadata": {
    "ExecuteTime": {
     "end_time": "2020-10-25T19:14:15.626372Z",
     "start_time": "2020-10-25T19:14:15.618432Z"
    }
   },
   "outputs": [],
   "source": [
    "import pandas as pd\n",
    "import numpy as np\n",
    "import matplotlib.pyplot as plt\n",
    "import seaborn as sns"
   ]
  },
  {
   "cell_type": "markdown",
   "metadata": {},
   "source": [
    "# Import Data"
   ]
  },
  {
   "cell_type": "code",
   "execution_count": 181,
   "metadata": {
    "ExecuteTime": {
     "end_time": "2020-10-25T19:14:15.803898Z",
     "start_time": "2020-10-25T19:14:15.630364Z"
    }
   },
   "outputs": [
    {
     "data": {
      "text/html": [
       "<div>\n",
       "<style scoped>\n",
       "    .dataframe tbody tr th:only-of-type {\n",
       "        vertical-align: middle;\n",
       "    }\n",
       "\n",
       "    .dataframe tbody tr th {\n",
       "        vertical-align: top;\n",
       "    }\n",
       "\n",
       "    .dataframe thead th {\n",
       "        text-align: right;\n",
       "    }\n",
       "</style>\n",
       "<table border=\"1\" class=\"dataframe\">\n",
       "  <thead>\n",
       "    <tr style=\"text-align: right;\">\n",
       "      <th></th>\n",
       "      <th>host_response_time</th>\n",
       "      <th>host_response_rate</th>\n",
       "      <th>host_acceptance_rate</th>\n",
       "      <th>host_is_superhost</th>\n",
       "      <th>host_listings_count</th>\n",
       "      <th>neighbourhood_cleansed</th>\n",
       "      <th>property_type</th>\n",
       "      <th>room_type</th>\n",
       "      <th>accommodates</th>\n",
       "      <th>bathrooms</th>\n",
       "      <th>bedrooms</th>\n",
       "      <th>beds</th>\n",
       "      <th>amenities</th>\n",
       "      <th>price</th>\n",
       "      <th>minimum_nights</th>\n",
       "      <th>maximum_nights</th>\n",
       "      <th>number_of_reviews</th>\n",
       "      <th>review_scores_rating</th>\n",
       "      <th>reviews_per_month</th>\n",
       "      <th>price_log</th>\n",
       "    </tr>\n",
       "  </thead>\n",
       "  <tbody>\n",
       "    <tr>\n",
       "      <th>0</th>\n",
       "      <td>within an hour</td>\n",
       "      <td>1.0</td>\n",
       "      <td>0.99</td>\n",
       "      <td>1</td>\n",
       "      <td>1</td>\n",
       "      <td>Western Addition</td>\n",
       "      <td>Entire apartment</td>\n",
       "      <td>Entire home/apt</td>\n",
       "      <td>3</td>\n",
       "      <td>1.0</td>\n",
       "      <td>1.0</td>\n",
       "      <td>2.0</td>\n",
       "      <td>[\"Heating\", \"Hot water\", \"Stove\", \"Iron\", \"Dry...</td>\n",
       "      <td>132.0</td>\n",
       "      <td>2</td>\n",
       "      <td>30</td>\n",
       "      <td>257</td>\n",
       "      <td>97.0</td>\n",
       "      <td>1.91</td>\n",
       "      <td>4.882802</td>\n",
       "    </tr>\n",
       "    <tr>\n",
       "      <th>1</th>\n",
       "      <td>within a day</td>\n",
       "      <td>0.6</td>\n",
       "      <td>0.83</td>\n",
       "      <td>0</td>\n",
       "      <td>2</td>\n",
       "      <td>Bernal Heights</td>\n",
       "      <td>Entire apartment</td>\n",
       "      <td>Entire home/apt</td>\n",
       "      <td>5</td>\n",
       "      <td>1.0</td>\n",
       "      <td>2.0</td>\n",
       "      <td>3.0</td>\n",
       "      <td>[\"Smoke alarm\", \"Heating\", \"Kitchen\", \"First a...</td>\n",
       "      <td>235.0</td>\n",
       "      <td>30</td>\n",
       "      <td>60</td>\n",
       "      <td>111</td>\n",
       "      <td>98.0</td>\n",
       "      <td>0.81</td>\n",
       "      <td>5.459586</td>\n",
       "    </tr>\n",
       "    <tr>\n",
       "      <th>2</th>\n",
       "      <td>within a few hours</td>\n",
       "      <td>1.0</td>\n",
       "      <td>1.00</td>\n",
       "      <td>0</td>\n",
       "      <td>10</td>\n",
       "      <td>Haight Ashbury</td>\n",
       "      <td>Private room in apartment</td>\n",
       "      <td>Private room</td>\n",
       "      <td>2</td>\n",
       "      <td>4.0</td>\n",
       "      <td>1.0</td>\n",
       "      <td>1.0</td>\n",
       "      <td>[\"Host greets you\", \"Heating\", \"Hot water\", \"K...</td>\n",
       "      <td>56.0</td>\n",
       "      <td>32</td>\n",
       "      <td>60</td>\n",
       "      <td>19</td>\n",
       "      <td>84.0</td>\n",
       "      <td>0.14</td>\n",
       "      <td>4.025352</td>\n",
       "    </tr>\n",
       "    <tr>\n",
       "      <th>3</th>\n",
       "      <td>within a few hours</td>\n",
       "      <td>1.0</td>\n",
       "      <td>1.00</td>\n",
       "      <td>0</td>\n",
       "      <td>10</td>\n",
       "      <td>Haight Ashbury</td>\n",
       "      <td>Private room in apartment</td>\n",
       "      <td>Private room</td>\n",
       "      <td>2</td>\n",
       "      <td>4.0</td>\n",
       "      <td>1.0</td>\n",
       "      <td>1.0</td>\n",
       "      <td>[\"Host greets you\", \"Heating\", \"Hot water\", \"K...</td>\n",
       "      <td>56.0</td>\n",
       "      <td>32</td>\n",
       "      <td>90</td>\n",
       "      <td>8</td>\n",
       "      <td>93.0</td>\n",
       "      <td>0.11</td>\n",
       "      <td>4.025352</td>\n",
       "    </tr>\n",
       "    <tr>\n",
       "      <th>5</th>\n",
       "      <td>within an hour</td>\n",
       "      <td>1.0</td>\n",
       "      <td>0.96</td>\n",
       "      <td>1</td>\n",
       "      <td>2</td>\n",
       "      <td>Mission</td>\n",
       "      <td>Private room in condominium</td>\n",
       "      <td>Private room</td>\n",
       "      <td>3</td>\n",
       "      <td>1.0</td>\n",
       "      <td>1.0</td>\n",
       "      <td>1.0</td>\n",
       "      <td>[\"Heating\", \"Hot water\", \"Children\\u2019s book...</td>\n",
       "      <td>169.0</td>\n",
       "      <td>1</td>\n",
       "      <td>14</td>\n",
       "      <td>736</td>\n",
       "      <td>98.0</td>\n",
       "      <td>5.47</td>\n",
       "      <td>5.129899</td>\n",
       "    </tr>\n",
       "  </tbody>\n",
       "</table>\n",
       "</div>"
      ],
      "text/plain": [
       "   host_response_time  host_response_rate  host_acceptance_rate  \\\n",
       "0      within an hour                 1.0                  0.99   \n",
       "1        within a day                 0.6                  0.83   \n",
       "2  within a few hours                 1.0                  1.00   \n",
       "3  within a few hours                 1.0                  1.00   \n",
       "5      within an hour                 1.0                  0.96   \n",
       "\n",
       "   host_is_superhost  host_listings_count neighbourhood_cleansed  \\\n",
       "0                  1                    1       Western Addition   \n",
       "1                  0                    2         Bernal Heights   \n",
       "2                  0                   10         Haight Ashbury   \n",
       "3                  0                   10         Haight Ashbury   \n",
       "5                  1                    2                Mission   \n",
       "\n",
       "                 property_type        room_type  accommodates  bathrooms  \\\n",
       "0             Entire apartment  Entire home/apt             3        1.0   \n",
       "1             Entire apartment  Entire home/apt             5        1.0   \n",
       "2    Private room in apartment     Private room             2        4.0   \n",
       "3    Private room in apartment     Private room             2        4.0   \n",
       "5  Private room in condominium     Private room             3        1.0   \n",
       "\n",
       "   bedrooms  beds                                          amenities  price  \\\n",
       "0       1.0   2.0  [\"Heating\", \"Hot water\", \"Stove\", \"Iron\", \"Dry...  132.0   \n",
       "1       2.0   3.0  [\"Smoke alarm\", \"Heating\", \"Kitchen\", \"First a...  235.0   \n",
       "2       1.0   1.0  [\"Host greets you\", \"Heating\", \"Hot water\", \"K...   56.0   \n",
       "3       1.0   1.0  [\"Host greets you\", \"Heating\", \"Hot water\", \"K...   56.0   \n",
       "5       1.0   1.0  [\"Heating\", \"Hot water\", \"Children\\u2019s book...  169.0   \n",
       "\n",
       "   minimum_nights  maximum_nights  number_of_reviews  review_scores_rating  \\\n",
       "0               2              30                257                  97.0   \n",
       "1              30              60                111                  98.0   \n",
       "2              32              60                 19                  84.0   \n",
       "3              32              90                  8                  93.0   \n",
       "5               1              14                736                  98.0   \n",
       "\n",
       "   reviews_per_month  price_log  \n",
       "0               1.91   4.882802  \n",
       "1               0.81   5.459586  \n",
       "2               0.14   4.025352  \n",
       "3               0.11   4.025352  \n",
       "5               5.47   5.129899  "
      ]
     },
     "execution_count": 181,
     "metadata": {},
     "output_type": "execute_result"
    }
   ],
   "source": [
    "SF_df = pd.read_pickle(\"pre-processing and EDA/cleaned_price_df.pkl\")\n",
    "SF_df.head(5)"
   ]
  },
  {
   "cell_type": "code",
   "execution_count": 182,
   "metadata": {
    "ExecuteTime": {
     "end_time": "2020-10-25T19:14:15.845785Z",
     "start_time": "2020-10-25T19:14:15.808884Z"
    }
   },
   "outputs": [
    {
     "name": "stdout",
     "output_type": "stream",
     "text": [
      "<class 'pandas.core.frame.DataFrame'>\n",
      "Int64Index: 6848 entries, 0 to 7273\n",
      "Data columns (total 20 columns):\n",
      " #   Column                  Non-Null Count  Dtype  \n",
      "---  ------                  --------------  -----  \n",
      " 0   host_response_time      6848 non-null   object \n",
      " 1   host_response_rate      6848 non-null   float64\n",
      " 2   host_acceptance_rate    6848 non-null   float64\n",
      " 3   host_is_superhost       6848 non-null   int32  \n",
      " 4   host_listings_count     6848 non-null   int64  \n",
      " 5   neighbourhood_cleansed  6848 non-null   object \n",
      " 6   property_type           6848 non-null   object \n",
      " 7   room_type               6848 non-null   object \n",
      " 8   accommodates            6848 non-null   int64  \n",
      " 9   bathrooms               6848 non-null   float64\n",
      " 10  bedrooms                6848 non-null   float64\n",
      " 11  beds                    6848 non-null   float64\n",
      " 12  amenities               6848 non-null   object \n",
      " 13  price                   6848 non-null   float64\n",
      " 14  minimum_nights          6848 non-null   int64  \n",
      " 15  maximum_nights          6848 non-null   int64  \n",
      " 16  number_of_reviews       6848 non-null   int64  \n",
      " 17  review_scores_rating    6848 non-null   float64\n",
      " 18  reviews_per_month       6848 non-null   float64\n",
      " 19  price_log               6848 non-null   float64\n",
      "dtypes: float64(9), int32(1), int64(5), object(5)\n",
      "memory usage: 1.1+ MB\n"
     ]
    }
   ],
   "source": [
    "SF_df.info()"
   ]
  },
  {
   "cell_type": "markdown",
   "metadata": {},
   "source": [
    "# Different column type name lists"
   ]
  },
  {
   "cell_type": "code",
   "execution_count": 183,
   "metadata": {
    "ExecuteTime": {
     "end_time": "2020-10-25T19:14:15.871717Z",
     "start_time": "2020-10-25T19:14:15.848778Z"
    }
   },
   "outputs": [
    {
     "name": "stdout",
     "output_type": "stream",
     "text": [
      "['host_response_time', 'neighbourhood_cleansed', 'property_type', 'room_type', 'amenities']\n"
     ]
    }
   ],
   "source": [
    "numerics = ['int16', 'int32', 'int64', 'float16', 'float32', 'float64']\n",
    "numeric_columns = SF_df.select_dtypes(include=numerics).columns.to_list()\n",
    "bool_columns = SF_df.select_dtypes(include='bool').columns.to_list()\n",
    "object_columns = SF_df.select_dtypes(include='object').columns.to_list()\n",
    "print(object_columns)"
   ]
  },
  {
   "cell_type": "markdown",
   "metadata": {},
   "source": [
    "# Filter out price outliers"
   ]
  },
  {
   "cell_type": "code",
   "execution_count": 184,
   "metadata": {
    "ExecuteTime": {
     "end_time": "2020-10-25T19:14:15.937542Z",
     "start_time": "2020-10-25T19:14:15.874708Z"
    }
   },
   "outputs": [
    {
     "data": {
      "text/plain": [
       "count    6848.000000\n",
       "mean      166.581157\n",
       "std       111.840100\n",
       "min        10.000000\n",
       "10%        60.000000\n",
       "25%        88.000000\n",
       "50%       135.000000\n",
       "75%       206.000000\n",
       "90%       315.797000\n",
       "max       633.000000\n",
       "Name: price, dtype: float64"
      ]
     },
     "execution_count": 184,
     "metadata": {},
     "output_type": "execute_result"
    }
   ],
   "source": [
    "IQR_value = 633 #based on price box plot from SF EDA notebook -> 3*IQR value\n",
    "SFprice_filtered_df = SF_df[SF_df.price <= IQR_value]\n",
    "SFprice_filtered_df[\"price\"].describe(percentiles=[0.1,0.25, 0.5, 0.75,0.9])"
   ]
  },
  {
   "cell_type": "code",
   "execution_count": 185,
   "metadata": {
    "ExecuteTime": {
     "end_time": "2020-10-25T19:14:15.965466Z",
     "start_time": "2020-10-25T19:14:15.941530Z"
    }
   },
   "outputs": [
    {
     "data": {
      "text/plain": [
       "host_response_time        0\n",
       "host_response_rate        0\n",
       "host_acceptance_rate      0\n",
       "host_is_superhost         0\n",
       "host_listings_count       0\n",
       "neighbourhood_cleansed    0\n",
       "property_type             0\n",
       "room_type                 0\n",
       "accommodates              0\n",
       "bathrooms                 0\n",
       "bedrooms                  0\n",
       "beds                      0\n",
       "amenities                 0\n",
       "price                     0\n",
       "minimum_nights            0\n",
       "maximum_nights            0\n",
       "number_of_reviews         0\n",
       "review_scores_rating      0\n",
       "reviews_per_month         0\n",
       "price_log                 0\n",
       "dtype: int64"
      ]
     },
     "execution_count": 185,
     "metadata": {},
     "output_type": "execute_result"
    }
   ],
   "source": [
    "SFprice_filtered_df.isnull().sum()"
   ]
  },
  {
   "cell_type": "markdown",
   "metadata": {},
   "source": [
    "# Correlations for Numeric Columns"
   ]
  },
  {
   "cell_type": "code",
   "execution_count": 186,
   "metadata": {
    "ExecuteTime": {
     "end_time": "2020-10-25T19:14:15.972447Z",
     "start_time": "2020-10-25T19:14:15.968458Z"
    }
   },
   "outputs": [],
   "source": [
    "#sns.set(style=\"ticks\", color_codes=True)\n",
    "#sns.pairplot(SFprice_filtered_df[numeric_columns])"
   ]
  },
  {
   "cell_type": "code",
   "execution_count": 187,
   "metadata": {
    "ExecuteTime": {
     "end_time": "2020-10-25T19:14:18.051887Z",
     "start_time": "2020-10-25T19:14:15.975439Z"
    }
   },
   "outputs": [
    {
     "data": {
      "text/plain": [
       "<matplotlib.axes._subplots.AxesSubplot at 0x23038d62d30>"
      ]
     },
     "execution_count": 187,
     "metadata": {},
     "output_type": "execute_result"
    },
    {
     "data": {
      "image/png": "[encoded data removed]",
      "text/plain": [
       "<Figure size 576x576 with 2 Axes>"
      ]
     },
     "metadata": {},
     "output_type": "display_data"
    }
   ],
   "source": [
    "corr = SFprice_filtered_df[numeric_columns].corr()\n",
    "plt.figure(figsize = (8,8))\n",
    "sns.set(font_scale=1)\n",
    "sns.heatmap(corr, cbar = True, annot=True, square = True, fmt = '.2f', xticklabels=numeric_columns, yticklabels=numeric_columns)"
   ]
  },
  {
   "cell_type": "code",
   "execution_count": 188,
   "metadata": {
    "ExecuteTime": {
     "end_time": "2020-10-25T19:14:18.865711Z",
     "start_time": "2020-10-25T19:14:18.057872Z"
    }
   },
   "outputs": [
    {
     "data": {
      "text/plain": [
       "<matplotlib.axes._subplots.AxesSubplot at 0x2304f41feb8>"
      ]
     },
     "execution_count": 188,
     "metadata": {},
     "output_type": "execute_result"
    },
    {
     "data": {
      "image/png": "[encoded data removed]",
      "text/plain": [
       "<Figure size 432x288 with 2 Axes>"
      ]
     },
     "metadata": {},
     "output_type": "display_data"
    }
   ],
   "source": [
    "sns.heatmap(corr[['price']].sort_values(['price'],ascending=False),yticklabels=True,annot=True)"
   ]
  },
  {
   "cell_type": "code",
   "execution_count": 189,
   "metadata": {
    "ExecuteTime": {
     "end_time": "2020-10-25T19:14:18.879675Z",
     "start_time": "2020-10-25T19:14:18.869702Z"
    },
    "scrolled": true
   },
   "outputs": [
    {
     "data": {
      "text/plain": [
       "0       1\n",
       "1       0\n",
       "2       0\n",
       "3       0\n",
       "5       1\n",
       "       ..\n",
       "7269    0\n",
       "7270    0\n",
       "7271    0\n",
       "7272    0\n",
       "7273    1\n",
       "Name: host_is_superhost, Length: 6848, dtype: int32"
      ]
     },
     "execution_count": 189,
     "metadata": {},
     "output_type": "execute_result"
    }
   ],
   "source": [
    "SFprice_filtered_df[\"host_is_superhost\"]"
   ]
  },
  {
   "cell_type": "markdown",
   "metadata": {},
   "source": [
    "# Data Pre-processing for non-numeric columns"
   ]
  },
  {
   "cell_type": "markdown",
   "metadata": {},
   "source": [
    "## Converting bool to numeric"
   ]
  },
  {
   "cell_type": "code",
   "execution_count": 190,
   "metadata": {
    "ExecuteTime": {
     "end_time": "2020-10-25T19:14:18.894634Z",
     "start_time": "2020-10-25T19:14:18.882667Z"
    }
   },
   "outputs": [
    {
     "data": {
      "text/plain": [
       "0    1\n",
       "1    0\n",
       "2    0\n",
       "3    0\n",
       "5    1\n",
       "Name: host_is_superhost, dtype: int32"
      ]
     },
     "execution_count": 190,
     "metadata": {},
     "output_type": "execute_result"
    }
   ],
   "source": [
    "for column in bool_columns:\n",
    "    SFprice_filtered_df[column] = SFprice_filtered_df[column].replace(False,0,regex=True)\n",
    "    SFprice_filtered_df[column] = SFprice_filtered_df[column].replace(True,1,regex=True)\n",
    "SFprice_filtered_df[\"host_is_superhost\"].head()"
   ]
  },
  {
   "cell_type": "markdown",
   "metadata": {},
   "source": [
    "## Transforming amenities to numeric columns"
   ]
  },
  {
   "cell_type": "code",
   "execution_count": 191,
   "metadata": {
    "ExecuteTime": {
     "end_time": "2020-10-25T19:14:18.981404Z",
     "start_time": "2020-10-25T19:14:18.897627Z"
    }
   },
   "outputs": [
    {
     "data": {
      "text/plain": [
       "0    Heating, Hot water, Stove, Iron, Dryer, Coffee...\n",
       "1    Smoke alarm, Heating, Kitchen, First aid kit, ...\n",
       "2    Host greets you, Heating, Hot water, Kitchen, ...\n",
       "3    Host greets you, Heating, Hot water, Kitchen, ...\n",
       "5    Heating, Hot water, Children\\u2019s books and ...\n",
       "Name: amenities, dtype: object"
      ]
     },
     "execution_count": 191,
     "metadata": {},
     "output_type": "execute_result"
    }
   ],
   "source": [
    "SFprice_filtered_df.amenities = SFprice_filtered_df.amenities.str.replace('\"', \"\")\n",
    "SFprice_filtered_df.amenities = SFprice_filtered_df.amenities.str.replace(\"[\", \"\")\n",
    "SFprice_filtered_df.amenities = SFprice_filtered_df.amenities.str.replace(\"]\", \"\")\n",
    "SFprice_filtered_df['amenities'].head()"
   ]
  },
  {
   "cell_type": "code",
   "execution_count": 192,
   "metadata": {
    "ExecuteTime": {
     "end_time": "2020-10-25T19:14:19.233735Z",
     "start_time": "2020-10-25T19:14:18.985392Z"
    }
   },
   "outputs": [],
   "source": [
    "from sklearn.feature_extraction.text import CountVectorizer\n",
    "\n",
    "count_vectorizer =  CountVectorizer(tokenizer=lambda x: x.split(', '))\n",
    "amenities = count_vectorizer.fit_transform(SFprice_filtered_df['amenities'])\n",
    "df_amenities = pd.DataFrame(amenities.toarray(), columns=count_vectorizer.get_feature_names())\n",
    "df_amenities = df_amenities.drop('',1)"
   ]
  },
  {
   "cell_type": "code",
   "execution_count": 193,
   "metadata": {
    "ExecuteTime": {
     "end_time": "2020-10-25T19:14:19.243709Z",
     "start_time": "2020-10-25T19:14:19.235730Z"
    }
   },
   "outputs": [
    {
     "data": {
      "text/plain": [
       "115"
      ]
     },
     "execution_count": 193,
     "metadata": {},
     "output_type": "execute_result"
    }
   ],
   "source": [
    "len(df_amenities.columns.to_list())"
   ]
  },
  {
   "cell_type": "code",
   "execution_count": 194,
   "metadata": {
    "ExecuteTime": {
     "end_time": "2020-10-25T19:14:19.258670Z",
     "start_time": "2020-10-25T19:14:19.246702Z"
    }
   },
   "outputs": [
    {
     "data": {
      "text/plain": [
       "['air conditioning',\n",
       " 'alarm system',\n",
       " 'baby bath',\n",
       " 'baby monitor',\n",
       " 'babysitter recommendations',\n",
       " 'baking sheet',\n",
       " 'barbecue utensils',\n",
       " 'bathroom essentials',\n",
       " 'bathtub',\n",
       " 'bbq grill',\n",
       " 'beach essentials',\n",
       " 'beachfront',\n",
       " 'bed linens',\n",
       " 'bedroom comforts',\n",
       " 'bread maker',\n",
       " 'breakfast',\n",
       " 'breakfast bar',\n",
       " 'building staff',\n",
       " 'cable tv',\n",
       " 'carbon monoxide alarm',\n",
       " 'changing table',\n",
       " 'children\\\\u2019s books and toys',\n",
       " 'children\\\\u2019s dinnerware',\n",
       " 'cleaning before checkout',\n",
       " 'coffee maker',\n",
       " 'cooking basics',\n",
       " 'crib',\n",
       " 'desk',\n",
       " 'dishes and silverware',\n",
       " 'dishwasher',\n",
       " 'dryer',\n",
       " 'dual vanity',\n",
       " 'elevator',\n",
       " 'essentials',\n",
       " 'ethernet connection',\n",
       " 'ev charger',\n",
       " 'extra pillows and blankets',\n",
       " 'fire extinguisher',\n",
       " 'fireplace guards',\n",
       " 'first aid kit',\n",
       " 'free parking on premises',\n",
       " 'free street parking',\n",
       " 'full kitchen',\n",
       " 'game console',\n",
       " 'garden or backyard',\n",
       " 'gas fireplace',\n",
       " 'gym',\n",
       " 'hair dryer',\n",
       " 'hangers',\n",
       " 'heating',\n",
       " 'high chair',\n",
       " 'host greets you',\n",
       " 'hot tub',\n",
       " 'hot water',\n",
       " 'indoor fireplace',\n",
       " 'iron',\n",
       " 'ironing board',\n",
       " 'jetted tub',\n",
       " 'keypad',\n",
       " 'kitchen',\n",
       " 'kitchenette',\n",
       " 'lake access',\n",
       " 'laptop-friendly workspace',\n",
       " 'lock on bedroom door',\n",
       " 'lockbox',\n",
       " 'long term stays allowed',\n",
       " 'luggage dropoff allowed',\n",
       " 'microwave',\n",
       " 'mini fridge',\n",
       " 'natural gas barbeque',\n",
       " 'office',\n",
       " 'outlet covers',\n",
       " 'oven',\n",
       " 'pack \\\\u2019n play/travel crib',\n",
       " 'paid parking off premises',\n",
       " 'paid parking on premises',\n",
       " 'patio or balcony',\n",
       " 'pets allowed',\n",
       " 'piano',\n",
       " 'pocket wifi',\n",
       " 'pool',\n",
       " 'portable air conditioning',\n",
       " 'private entrance',\n",
       " 'private hot tub',\n",
       " 'private living room',\n",
       " 'refrigerator',\n",
       " 'room-darkening shades',\n",
       " 'security cameras',\n",
       " 'self check-in',\n",
       " 'shampoo',\n",
       " 'shared hot tub',\n",
       " 'shower gel',\n",
       " 'single level home',\n",
       " 'ski-in/ski-out',\n",
       " 'smart home technology',\n",
       " 'smart lock',\n",
       " 'smart tv',\n",
       " 'smoke alarm',\n",
       " 'smoking allowed',\n",
       " 'sonos sound system',\n",
       " 'stair gates',\n",
       " 'stand alone bathtub',\n",
       " 'stand alone rain shower',\n",
       " 'stove',\n",
       " 'suitable for events',\n",
       " 'table corner guards',\n",
       " 'terrace',\n",
       " 'tv',\n",
       " 'walk in closet',\n",
       " 'washer',\n",
       " 'waterfront',\n",
       " 'wet bar',\n",
       " 'wifi',\n",
       " 'window guards',\n",
       " 'wine cooler']"
      ]
     },
     "execution_count": 194,
     "metadata": {},
     "output_type": "execute_result"
    }
   ],
   "source": [
    "df_amenities.columns.to_list()"
   ]
  },
  {
   "cell_type": "code",
   "execution_count": 195,
   "metadata": {
    "ExecuteTime": {
     "end_time": "2020-10-25T19:14:19.292578Z",
     "start_time": "2020-10-25T19:14:19.261662Z"
    }
   },
   "outputs": [
    {
     "data": {
      "text/html": [
       "<div>\n",
       "<style scoped>\n",
       "    .dataframe tbody tr th:only-of-type {\n",
       "        vertical-align: middle;\n",
       "    }\n",
       "\n",
       "    .dataframe tbody tr th {\n",
       "        vertical-align: top;\n",
       "    }\n",
       "\n",
       "    .dataframe thead th {\n",
       "        text-align: right;\n",
       "    }\n",
       "</style>\n",
       "<table border=\"1\" class=\"dataframe\">\n",
       "  <thead>\n",
       "    <tr style=\"text-align: right;\">\n",
       "      <th></th>\n",
       "      <th>host_response_rate</th>\n",
       "      <th>host_acceptance_rate</th>\n",
       "      <th>host_is_superhost</th>\n",
       "      <th>host_listings_count</th>\n",
       "      <th>accommodates</th>\n",
       "      <th>bathrooms</th>\n",
       "      <th>bedrooms</th>\n",
       "      <th>beds</th>\n",
       "      <th>price</th>\n",
       "      <th>minimum_nights</th>\n",
       "      <th>maximum_nights</th>\n",
       "      <th>number_of_reviews</th>\n",
       "      <th>review_scores_rating</th>\n",
       "      <th>reviews_per_month</th>\n",
       "      <th>price_log</th>\n",
       "    </tr>\n",
       "  </thead>\n",
       "  <tbody>\n",
       "    <tr>\n",
       "      <th>0</th>\n",
       "      <td>1.0</td>\n",
       "      <td>0.99</td>\n",
       "      <td>1</td>\n",
       "      <td>1</td>\n",
       "      <td>3</td>\n",
       "      <td>1.0</td>\n",
       "      <td>1.0</td>\n",
       "      <td>2.0</td>\n",
       "      <td>132.0</td>\n",
       "      <td>2</td>\n",
       "      <td>30</td>\n",
       "      <td>257</td>\n",
       "      <td>97.0</td>\n",
       "      <td>1.91</td>\n",
       "      <td>4.882802</td>\n",
       "    </tr>\n",
       "    <tr>\n",
       "      <th>1</th>\n",
       "      <td>0.6</td>\n",
       "      <td>0.83</td>\n",
       "      <td>0</td>\n",
       "      <td>2</td>\n",
       "      <td>5</td>\n",
       "      <td>1.0</td>\n",
       "      <td>2.0</td>\n",
       "      <td>3.0</td>\n",
       "      <td>235.0</td>\n",
       "      <td>30</td>\n",
       "      <td>60</td>\n",
       "      <td>111</td>\n",
       "      <td>98.0</td>\n",
       "      <td>0.81</td>\n",
       "      <td>5.459586</td>\n",
       "    </tr>\n",
       "    <tr>\n",
       "      <th>2</th>\n",
       "      <td>1.0</td>\n",
       "      <td>1.00</td>\n",
       "      <td>0</td>\n",
       "      <td>10</td>\n",
       "      <td>2</td>\n",
       "      <td>4.0</td>\n",
       "      <td>1.0</td>\n",
       "      <td>1.0</td>\n",
       "      <td>56.0</td>\n",
       "      <td>32</td>\n",
       "      <td>60</td>\n",
       "      <td>19</td>\n",
       "      <td>84.0</td>\n",
       "      <td>0.14</td>\n",
       "      <td>4.025352</td>\n",
       "    </tr>\n",
       "    <tr>\n",
       "      <th>3</th>\n",
       "      <td>1.0</td>\n",
       "      <td>1.00</td>\n",
       "      <td>0</td>\n",
       "      <td>10</td>\n",
       "      <td>2</td>\n",
       "      <td>4.0</td>\n",
       "      <td>1.0</td>\n",
       "      <td>1.0</td>\n",
       "      <td>56.0</td>\n",
       "      <td>32</td>\n",
       "      <td>90</td>\n",
       "      <td>8</td>\n",
       "      <td>93.0</td>\n",
       "      <td>0.11</td>\n",
       "      <td>4.025352</td>\n",
       "    </tr>\n",
       "    <tr>\n",
       "      <th>5</th>\n",
       "      <td>1.0</td>\n",
       "      <td>0.96</td>\n",
       "      <td>1</td>\n",
       "      <td>2</td>\n",
       "      <td>3</td>\n",
       "      <td>1.0</td>\n",
       "      <td>1.0</td>\n",
       "      <td>1.0</td>\n",
       "      <td>169.0</td>\n",
       "      <td>1</td>\n",
       "      <td>14</td>\n",
       "      <td>736</td>\n",
       "      <td>98.0</td>\n",
       "      <td>5.47</td>\n",
       "      <td>5.129899</td>\n",
       "    </tr>\n",
       "  </tbody>\n",
       "</table>\n",
       "</div>"
      ],
      "text/plain": [
       "   host_response_rate  host_acceptance_rate  host_is_superhost  \\\n",
       "0                 1.0                  0.99                  1   \n",
       "1                 0.6                  0.83                  0   \n",
       "2                 1.0                  1.00                  0   \n",
       "3                 1.0                  1.00                  0   \n",
       "5                 1.0                  0.96                  1   \n",
       "\n",
       "   host_listings_count  accommodates  bathrooms  bedrooms  beds  price  \\\n",
       "0                    1             3        1.0       1.0   2.0  132.0   \n",
       "1                    2             5        1.0       2.0   3.0  235.0   \n",
       "2                   10             2        4.0       1.0   1.0   56.0   \n",
       "3                   10             2        4.0       1.0   1.0   56.0   \n",
       "5                    2             3        1.0       1.0   1.0  169.0   \n",
       "\n",
       "   minimum_nights  maximum_nights  number_of_reviews  review_scores_rating  \\\n",
       "0               2              30                257                  97.0   \n",
       "1              30              60                111                  98.0   \n",
       "2              32              60                 19                  84.0   \n",
       "3              32              90                  8                  93.0   \n",
       "5               1              14                736                  98.0   \n",
       "\n",
       "   reviews_per_month  price_log  \n",
       "0               1.91   4.882802  \n",
       "1               0.81   5.459586  \n",
       "2               0.14   4.025352  \n",
       "3               0.11   4.025352  \n",
       "5               5.47   5.129899  "
      ]
     },
     "execution_count": 195,
     "metadata": {},
     "output_type": "execute_result"
    }
   ],
   "source": [
    "listings_new = SFprice_filtered_df[numeric_columns+bool_columns]\n",
    "listings_new.head()"
   ]
  },
  {
   "cell_type": "markdown",
   "metadata": {},
   "source": [
    "## Transforming categorical columns to numeric columns and creating new df"
   ]
  },
  {
   "cell_type": "code",
   "execution_count": 196,
   "metadata": {
    "ExecuteTime": {
     "end_time": "2020-10-25T19:14:19.345438Z",
     "start_time": "2020-10-25T19:14:19.295570Z"
    }
   },
   "outputs": [],
   "source": [
    "for categorical_col in object_columns[:-1]:\n",
    "    listings_new = pd.concat([listings_new, pd.get_dummies(SFprice_filtered_df[categorical_col])], axis=1)"
   ]
  },
  {
   "cell_type": "code",
   "execution_count": 197,
   "metadata": {
    "ExecuteTime": {
     "end_time": "2020-10-25T19:14:19.389320Z",
     "start_time": "2020-10-25T19:14:19.348430Z"
    }
   },
   "outputs": [
    {
     "data": {
      "text/html": [
       "<div>\n",
       "<style scoped>\n",
       "    .dataframe tbody tr th:only-of-type {\n",
       "        vertical-align: middle;\n",
       "    }\n",
       "\n",
       "    .dataframe tbody tr th {\n",
       "        vertical-align: top;\n",
       "    }\n",
       "\n",
       "    .dataframe thead th {\n",
       "        text-align: right;\n",
       "    }\n",
       "</style>\n",
       "<table border=\"1\" class=\"dataframe\">\n",
       "  <thead>\n",
       "    <tr style=\"text-align: right;\">\n",
       "      <th></th>\n",
       "      <th>host_response_rate</th>\n",
       "      <th>host_acceptance_rate</th>\n",
       "      <th>host_is_superhost</th>\n",
       "      <th>host_listings_count</th>\n",
       "      <th>accommodates</th>\n",
       "      <th>bathrooms</th>\n",
       "      <th>bedrooms</th>\n",
       "      <th>beds</th>\n",
       "      <th>price</th>\n",
       "      <th>minimum_nights</th>\n",
       "      <th>...</th>\n",
       "      <th>Shared room in hostel</th>\n",
       "      <th>Shared room in house</th>\n",
       "      <th>Shared room in loft</th>\n",
       "      <th>Shared room in townhouse</th>\n",
       "      <th>Shared room in villa</th>\n",
       "      <th>Tiny house</th>\n",
       "      <th>Entire home/apt</th>\n",
       "      <th>Hotel room</th>\n",
       "      <th>Private room</th>\n",
       "      <th>Shared room</th>\n",
       "    </tr>\n",
       "  </thead>\n",
       "  <tbody>\n",
       "    <tr>\n",
       "      <th>0</th>\n",
       "      <td>1.0</td>\n",
       "      <td>0.99</td>\n",
       "      <td>1</td>\n",
       "      <td>1</td>\n",
       "      <td>3</td>\n",
       "      <td>1.0</td>\n",
       "      <td>1.0</td>\n",
       "      <td>2.0</td>\n",
       "      <td>132.0</td>\n",
       "      <td>2</td>\n",
       "      <td>...</td>\n",
       "      <td>0</td>\n",
       "      <td>0</td>\n",
       "      <td>0</td>\n",
       "      <td>0</td>\n",
       "      <td>0</td>\n",
       "      <td>0</td>\n",
       "      <td>1</td>\n",
       "      <td>0</td>\n",
       "      <td>0</td>\n",
       "      <td>0</td>\n",
       "    </tr>\n",
       "    <tr>\n",
       "      <th>1</th>\n",
       "      <td>0.6</td>\n",
       "      <td>0.83</td>\n",
       "      <td>0</td>\n",
       "      <td>2</td>\n",
       "      <td>5</td>\n",
       "      <td>1.0</td>\n",
       "      <td>2.0</td>\n",
       "      <td>3.0</td>\n",
       "      <td>235.0</td>\n",
       "      <td>30</td>\n",
       "      <td>...</td>\n",
       "      <td>0</td>\n",
       "      <td>0</td>\n",
       "      <td>0</td>\n",
       "      <td>0</td>\n",
       "      <td>0</td>\n",
       "      <td>0</td>\n",
       "      <td>1</td>\n",
       "      <td>0</td>\n",
       "      <td>0</td>\n",
       "      <td>0</td>\n",
       "    </tr>\n",
       "    <tr>\n",
       "      <th>2</th>\n",
       "      <td>1.0</td>\n",
       "      <td>1.00</td>\n",
       "      <td>0</td>\n",
       "      <td>10</td>\n",
       "      <td>2</td>\n",
       "      <td>4.0</td>\n",
       "      <td>1.0</td>\n",
       "      <td>1.0</td>\n",
       "      <td>56.0</td>\n",
       "      <td>32</td>\n",
       "      <td>...</td>\n",
       "      <td>0</td>\n",
       "      <td>0</td>\n",
       "      <td>0</td>\n",
       "      <td>0</td>\n",
       "      <td>0</td>\n",
       "      <td>0</td>\n",
       "      <td>0</td>\n",
       "      <td>0</td>\n",
       "      <td>1</td>\n",
       "      <td>0</td>\n",
       "    </tr>\n",
       "    <tr>\n",
       "      <th>3</th>\n",
       "      <td>1.0</td>\n",
       "      <td>1.00</td>\n",
       "      <td>0</td>\n",
       "      <td>10</td>\n",
       "      <td>2</td>\n",
       "      <td>4.0</td>\n",
       "      <td>1.0</td>\n",
       "      <td>1.0</td>\n",
       "      <td>56.0</td>\n",
       "      <td>32</td>\n",
       "      <td>...</td>\n",
       "      <td>0</td>\n",
       "      <td>0</td>\n",
       "      <td>0</td>\n",
       "      <td>0</td>\n",
       "      <td>0</td>\n",
       "      <td>0</td>\n",
       "      <td>0</td>\n",
       "      <td>0</td>\n",
       "      <td>1</td>\n",
       "      <td>0</td>\n",
       "    </tr>\n",
       "    <tr>\n",
       "      <th>5</th>\n",
       "      <td>1.0</td>\n",
       "      <td>0.96</td>\n",
       "      <td>1</td>\n",
       "      <td>2</td>\n",
       "      <td>3</td>\n",
       "      <td>1.0</td>\n",
       "      <td>1.0</td>\n",
       "      <td>1.0</td>\n",
       "      <td>169.0</td>\n",
       "      <td>1</td>\n",
       "      <td>...</td>\n",
       "      <td>0</td>\n",
       "      <td>0</td>\n",
       "      <td>0</td>\n",
       "      <td>0</td>\n",
       "      <td>0</td>\n",
       "      <td>0</td>\n",
       "      <td>0</td>\n",
       "      <td>0</td>\n",
       "      <td>1</td>\n",
       "      <td>0</td>\n",
       "    </tr>\n",
       "  </tbody>\n",
       "</table>\n",
       "<p>5 rows × 115 columns</p>\n",
       "</div>"
      ],
      "text/plain": [
       "   host_response_rate  host_acceptance_rate  host_is_superhost  \\\n",
       "0                 1.0                  0.99                  1   \n",
       "1                 0.6                  0.83                  0   \n",
       "2                 1.0                  1.00                  0   \n",
       "3                 1.0                  1.00                  0   \n",
       "5                 1.0                  0.96                  1   \n",
       "\n",
       "   host_listings_count  accommodates  bathrooms  bedrooms  beds  price  \\\n",
       "0                    1             3        1.0       1.0   2.0  132.0   \n",
       "1                    2             5        1.0       2.0   3.0  235.0   \n",
       "2                   10             2        4.0       1.0   1.0   56.0   \n",
       "3                   10             2        4.0       1.0   1.0   56.0   \n",
       "5                    2             3        1.0       1.0   1.0  169.0   \n",
       "\n",
       "   minimum_nights  ...  Shared room in hostel  Shared room in house  \\\n",
       "0               2  ...                      0                     0   \n",
       "1              30  ...                      0                     0   \n",
       "2              32  ...                      0                     0   \n",
       "3              32  ...                      0                     0   \n",
       "5               1  ...                      0                     0   \n",
       "\n",
       "   Shared room in loft  Shared room in townhouse  Shared room in villa  \\\n",
       "0                    0                         0                     0   \n",
       "1                    0                         0                     0   \n",
       "2                    0                         0                     0   \n",
       "3                    0                         0                     0   \n",
       "5                    0                         0                     0   \n",
       "\n",
       "   Tiny house  Entire home/apt  Hotel room  Private room  Shared room  \n",
       "0           0                1           0             0            0  \n",
       "1           0                1           0             0            0  \n",
       "2           0                0           0             1            0  \n",
       "3           0                0           0             1            0  \n",
       "5           0                0           0             1            0  \n",
       "\n",
       "[5 rows x 115 columns]"
      ]
     },
     "execution_count": 197,
     "metadata": {},
     "output_type": "execute_result"
    }
   ],
   "source": [
    "#listings_new.columns.to_list()\n",
    "listings_new.head()"
   ]
  },
  {
   "cell_type": "code",
   "execution_count": 198,
   "metadata": {
    "ExecuteTime": {
     "end_time": "2020-10-25T19:14:19.477085Z",
     "start_time": "2020-10-25T19:14:19.393310Z"
    },
    "scrolled": true
   },
   "outputs": [
    {
     "data": {
      "text/html": [
       "<div>\n",
       "<style scoped>\n",
       "    .dataframe tbody tr th:only-of-type {\n",
       "        vertical-align: middle;\n",
       "    }\n",
       "\n",
       "    .dataframe tbody tr th {\n",
       "        vertical-align: top;\n",
       "    }\n",
       "\n",
       "    .dataframe thead th {\n",
       "        text-align: right;\n",
       "    }\n",
       "</style>\n",
       "<table border=\"1\" class=\"dataframe\">\n",
       "  <thead>\n",
       "    <tr style=\"text-align: right;\">\n",
       "      <th></th>\n",
       "      <th>host_response_rate</th>\n",
       "      <th>host_acceptance_rate</th>\n",
       "      <th>host_is_superhost</th>\n",
       "      <th>host_listings_count</th>\n",
       "      <th>accommodates</th>\n",
       "      <th>bathrooms</th>\n",
       "      <th>bedrooms</th>\n",
       "      <th>beds</th>\n",
       "      <th>price</th>\n",
       "      <th>minimum_nights</th>\n",
       "      <th>...</th>\n",
       "      <th>table corner guards</th>\n",
       "      <th>terrace</th>\n",
       "      <th>tv</th>\n",
       "      <th>walk in closet</th>\n",
       "      <th>washer</th>\n",
       "      <th>waterfront</th>\n",
       "      <th>wet bar</th>\n",
       "      <th>wifi</th>\n",
       "      <th>window guards</th>\n",
       "      <th>wine cooler</th>\n",
       "    </tr>\n",
       "  </thead>\n",
       "  <tbody>\n",
       "    <tr>\n",
       "      <th>0</th>\n",
       "      <td>1.0</td>\n",
       "      <td>0.99</td>\n",
       "      <td>1</td>\n",
       "      <td>1</td>\n",
       "      <td>3</td>\n",
       "      <td>1.0</td>\n",
       "      <td>1.0</td>\n",
       "      <td>2.0</td>\n",
       "      <td>132.0</td>\n",
       "      <td>2</td>\n",
       "      <td>...</td>\n",
       "      <td>0</td>\n",
       "      <td>0</td>\n",
       "      <td>1</td>\n",
       "      <td>0</td>\n",
       "      <td>1</td>\n",
       "      <td>0</td>\n",
       "      <td>0</td>\n",
       "      <td>1</td>\n",
       "      <td>0</td>\n",
       "      <td>0</td>\n",
       "    </tr>\n",
       "    <tr>\n",
       "      <th>1</th>\n",
       "      <td>0.6</td>\n",
       "      <td>0.83</td>\n",
       "      <td>0</td>\n",
       "      <td>2</td>\n",
       "      <td>5</td>\n",
       "      <td>1.0</td>\n",
       "      <td>2.0</td>\n",
       "      <td>3.0</td>\n",
       "      <td>235.0</td>\n",
       "      <td>30</td>\n",
       "      <td>...</td>\n",
       "      <td>0</td>\n",
       "      <td>0</td>\n",
       "      <td>0</td>\n",
       "      <td>0</td>\n",
       "      <td>1</td>\n",
       "      <td>0</td>\n",
       "      <td>0</td>\n",
       "      <td>1</td>\n",
       "      <td>0</td>\n",
       "      <td>0</td>\n",
       "    </tr>\n",
       "    <tr>\n",
       "      <th>2</th>\n",
       "      <td>1.0</td>\n",
       "      <td>1.00</td>\n",
       "      <td>0</td>\n",
       "      <td>10</td>\n",
       "      <td>2</td>\n",
       "      <td>4.0</td>\n",
       "      <td>1.0</td>\n",
       "      <td>1.0</td>\n",
       "      <td>56.0</td>\n",
       "      <td>32</td>\n",
       "      <td>...</td>\n",
       "      <td>0</td>\n",
       "      <td>0</td>\n",
       "      <td>1</td>\n",
       "      <td>0</td>\n",
       "      <td>1</td>\n",
       "      <td>0</td>\n",
       "      <td>0</td>\n",
       "      <td>1</td>\n",
       "      <td>0</td>\n",
       "      <td>0</td>\n",
       "    </tr>\n",
       "    <tr>\n",
       "      <th>3</th>\n",
       "      <td>1.0</td>\n",
       "      <td>1.00</td>\n",
       "      <td>0</td>\n",
       "      <td>10</td>\n",
       "      <td>2</td>\n",
       "      <td>4.0</td>\n",
       "      <td>1.0</td>\n",
       "      <td>1.0</td>\n",
       "      <td>56.0</td>\n",
       "      <td>32</td>\n",
       "      <td>...</td>\n",
       "      <td>0</td>\n",
       "      <td>0</td>\n",
       "      <td>1</td>\n",
       "      <td>0</td>\n",
       "      <td>1</td>\n",
       "      <td>0</td>\n",
       "      <td>0</td>\n",
       "      <td>1</td>\n",
       "      <td>0</td>\n",
       "      <td>0</td>\n",
       "    </tr>\n",
       "    <tr>\n",
       "      <th>5</th>\n",
       "      <td>1.0</td>\n",
       "      <td>0.96</td>\n",
       "      <td>1</td>\n",
       "      <td>2</td>\n",
       "      <td>3</td>\n",
       "      <td>1.0</td>\n",
       "      <td>1.0</td>\n",
       "      <td>1.0</td>\n",
       "      <td>169.0</td>\n",
       "      <td>1</td>\n",
       "      <td>...</td>\n",
       "      <td>0</td>\n",
       "      <td>0</td>\n",
       "      <td>1</td>\n",
       "      <td>0</td>\n",
       "      <td>1</td>\n",
       "      <td>0</td>\n",
       "      <td>0</td>\n",
       "      <td>1</td>\n",
       "      <td>0</td>\n",
       "      <td>0</td>\n",
       "    </tr>\n",
       "  </tbody>\n",
       "</table>\n",
       "<p>5 rows × 230 columns</p>\n",
       "</div>"
      ],
      "text/plain": [
       "   host_response_rate  host_acceptance_rate  host_is_superhost  \\\n",
       "0                 1.0                  0.99                  1   \n",
       "1                 0.6                  0.83                  0   \n",
       "2                 1.0                  1.00                  0   \n",
       "3                 1.0                  1.00                  0   \n",
       "5                 1.0                  0.96                  1   \n",
       "\n",
       "   host_listings_count  accommodates  bathrooms  bedrooms  beds  price  \\\n",
       "0                    1             3        1.0       1.0   2.0  132.0   \n",
       "1                    2             5        1.0       2.0   3.0  235.0   \n",
       "2                   10             2        4.0       1.0   1.0   56.0   \n",
       "3                   10             2        4.0       1.0   1.0   56.0   \n",
       "5                    2             3        1.0       1.0   1.0  169.0   \n",
       "\n",
       "   minimum_nights  ...  table corner guards  terrace  tv  walk in closet  \\\n",
       "0               2  ...                    0        0   1               0   \n",
       "1              30  ...                    0        0   0               0   \n",
       "2              32  ...                    0        0   1               0   \n",
       "3              32  ...                    0        0   1               0   \n",
       "5               1  ...                    0        0   1               0   \n",
       "\n",
       "   washer  waterfront  wet bar  wifi  window guards  wine cooler  \n",
       "0       1           0        0     1              0            0  \n",
       "1       1           0        0     1              0            0  \n",
       "2       1           0        0     1              0            0  \n",
       "3       1           0        0     1              0            0  \n",
       "5       1           0        0     1              0            0  \n",
       "\n",
       "[5 rows x 230 columns]"
      ]
     },
     "execution_count": 198,
     "metadata": {},
     "output_type": "execute_result"
    }
   ],
   "source": [
    "listings_new = pd.concat([listings_new, df_amenities], axis=1, join='inner')\n",
    "listings_new.head()"
   ]
  },
  {
   "cell_type": "code",
   "execution_count": 199,
   "metadata": {
    "ExecuteTime": {
     "end_time": "2020-10-25T19:14:19.491048Z",
     "start_time": "2020-10-25T19:14:19.480077Z"
    }
   },
   "outputs": [
    {
     "data": {
      "text/plain": [
       "['host_response_rate',\n",
       " 'host_acceptance_rate',\n",
       " 'host_is_superhost',\n",
       " 'host_listings_count',\n",
       " 'accommodates',\n",
       " 'bathrooms',\n",
       " 'bedrooms',\n",
       " 'beds',\n",
       " 'price',\n",
       " 'minimum_nights',\n",
       " 'maximum_nights',\n",
       " 'number_of_reviews',\n",
       " 'review_scores_rating',\n",
       " 'reviews_per_month',\n",
       " 'price_log',\n",
       " '-',\n",
       " 'a few days or more',\n",
       " 'within a day',\n",
       " 'within a few hours',\n",
       " 'within an hour',\n",
       " 'Bayview',\n",
       " 'Bernal Heights',\n",
       " 'Castro/Upper Market',\n",
       " 'Chinatown',\n",
       " 'Crocker Amazon',\n",
       " 'Diamond Heights',\n",
       " 'Downtown/Civic Center',\n",
       " 'Excelsior',\n",
       " 'Financial District',\n",
       " 'Glen Park',\n",
       " 'Golden Gate Park',\n",
       " 'Haight Ashbury',\n",
       " 'Inner Richmond',\n",
       " 'Inner Sunset',\n",
       " 'Lakeshore',\n",
       " 'Marina',\n",
       " 'Mission',\n",
       " 'Nob Hill',\n",
       " 'Noe Valley',\n",
       " 'North Beach',\n",
       " 'Ocean View',\n",
       " 'Outer Mission',\n",
       " 'Outer Richmond',\n",
       " 'Outer Sunset',\n",
       " 'Pacific Heights',\n",
       " 'Parkside',\n",
       " 'Potrero Hill',\n",
       " 'Presidio',\n",
       " 'Presidio Heights',\n",
       " 'Russian Hill',\n",
       " 'Seacliff',\n",
       " 'South of Market',\n",
       " 'Treasure Island/YBI',\n",
       " 'Twin Peaks',\n",
       " 'Visitacion Valley',\n",
       " 'West of Twin Peaks',\n",
       " 'Western Addition',\n",
       " 'Boat',\n",
       " 'Casa particular',\n",
       " 'Earth house',\n",
       " 'Entire apartment',\n",
       " 'Entire bungalow',\n",
       " 'Entire cabin',\n",
       " 'Entire condominium',\n",
       " 'Entire cottage',\n",
       " 'Entire floor',\n",
       " 'Entire guest suite',\n",
       " 'Entire guesthouse',\n",
       " 'Entire house',\n",
       " 'Entire in-law',\n",
       " 'Entire loft',\n",
       " 'Entire place',\n",
       " 'Entire serviced apartment',\n",
       " 'Entire townhouse',\n",
       " 'Entire villa',\n",
       " 'Private room',\n",
       " 'Private room in apartment',\n",
       " 'Private room in bed and breakfast',\n",
       " 'Private room in bungalow',\n",
       " 'Private room in cabin',\n",
       " 'Private room in castle',\n",
       " 'Private room in condominium',\n",
       " 'Private room in cottage',\n",
       " 'Private room in earth house',\n",
       " 'Private room in guest suite',\n",
       " 'Private room in guesthouse',\n",
       " 'Private room in hostel',\n",
       " 'Private room in house',\n",
       " 'Private room in hut',\n",
       " 'Private room in loft',\n",
       " 'Private room in resort',\n",
       " 'Private room in serviced apartment',\n",
       " 'Private room in townhouse',\n",
       " 'Private room in villa',\n",
       " 'Room in aparthotel',\n",
       " 'Room in bed and breakfast',\n",
       " 'Room in boutique hotel',\n",
       " 'Room in hostel',\n",
       " 'Room in hotel',\n",
       " 'Room in serviced apartment',\n",
       " 'Shared room in apartment',\n",
       " 'Shared room in bed and breakfast',\n",
       " 'Shared room in boutique hotel',\n",
       " 'Shared room in bungalow',\n",
       " 'Shared room in condominium',\n",
       " 'Shared room in hostel',\n",
       " 'Shared room in house',\n",
       " 'Shared room in loft',\n",
       " 'Shared room in townhouse',\n",
       " 'Shared room in villa',\n",
       " 'Tiny house',\n",
       " 'Entire home/apt',\n",
       " 'Hotel room',\n",
       " 'Private room',\n",
       " 'Shared room',\n",
       " 'air conditioning',\n",
       " 'alarm system',\n",
       " 'baby bath',\n",
       " 'baby monitor',\n",
       " 'babysitter recommendations',\n",
       " 'baking sheet',\n",
       " 'barbecue utensils',\n",
       " 'bathroom essentials',\n",
       " 'bathtub',\n",
       " 'bbq grill',\n",
       " 'beach essentials',\n",
       " 'beachfront',\n",
       " 'bed linens',\n",
       " 'bedroom comforts',\n",
       " 'bread maker',\n",
       " 'breakfast',\n",
       " 'breakfast bar',\n",
       " 'building staff',\n",
       " 'cable tv',\n",
       " 'carbon monoxide alarm',\n",
       " 'changing table',\n",
       " 'children\\\\u2019s books and toys',\n",
       " 'children\\\\u2019s dinnerware',\n",
       " 'cleaning before checkout',\n",
       " 'coffee maker',\n",
       " 'cooking basics',\n",
       " 'crib',\n",
       " 'desk',\n",
       " 'dishes and silverware',\n",
       " 'dishwasher',\n",
       " 'dryer',\n",
       " 'dual vanity',\n",
       " 'elevator',\n",
       " 'essentials',\n",
       " 'ethernet connection',\n",
       " 'ev charger',\n",
       " 'extra pillows and blankets',\n",
       " 'fire extinguisher',\n",
       " 'fireplace guards',\n",
       " 'first aid kit',\n",
       " 'free parking on premises',\n",
       " 'free street parking',\n",
       " 'full kitchen',\n",
       " 'game console',\n",
       " 'garden or backyard',\n",
       " 'gas fireplace',\n",
       " 'gym',\n",
       " 'hair dryer',\n",
       " 'hangers',\n",
       " 'heating',\n",
       " 'high chair',\n",
       " 'host greets you',\n",
       " 'hot tub',\n",
       " 'hot water',\n",
       " 'indoor fireplace',\n",
       " 'iron',\n",
       " 'ironing board',\n",
       " 'jetted tub',\n",
       " 'keypad',\n",
       " 'kitchen',\n",
       " 'kitchenette',\n",
       " 'lake access',\n",
       " 'laptop-friendly workspace',\n",
       " 'lock on bedroom door',\n",
       " 'lockbox',\n",
       " 'long term stays allowed',\n",
       " 'luggage dropoff allowed',\n",
       " 'microwave',\n",
       " 'mini fridge',\n",
       " 'natural gas barbeque',\n",
       " 'office',\n",
       " 'outlet covers',\n",
       " 'oven',\n",
       " 'pack \\\\u2019n play/travel crib',\n",
       " 'paid parking off premises',\n",
       " 'paid parking on premises',\n",
       " 'patio or balcony',\n",
       " 'pets allowed',\n",
       " 'piano',\n",
       " 'pocket wifi',\n",
       " 'pool',\n",
       " 'portable air conditioning',\n",
       " 'private entrance',\n",
       " 'private hot tub',\n",
       " 'private living room',\n",
       " 'refrigerator',\n",
       " 'room-darkening shades',\n",
       " 'security cameras',\n",
       " 'self check-in',\n",
       " 'shampoo',\n",
       " 'shared hot tub',\n",
       " 'shower gel',\n",
       " 'single level home',\n",
       " 'ski-in/ski-out',\n",
       " 'smart home technology',\n",
       " 'smart lock',\n",
       " 'smart tv',\n",
       " 'smoke alarm',\n",
       " 'smoking allowed',\n",
       " 'sonos sound system',\n",
       " 'stair gates',\n",
       " 'stand alone bathtub',\n",
       " 'stand alone rain shower',\n",
       " 'stove',\n",
       " 'suitable for events',\n",
       " 'table corner guards',\n",
       " 'terrace',\n",
       " 'tv',\n",
       " 'walk in closet',\n",
       " 'washer',\n",
       " 'waterfront',\n",
       " 'wet bar',\n",
       " 'wifi',\n",
       " 'window guards',\n",
       " 'wine cooler']"
      ]
     },
     "execution_count": 199,
     "metadata": {},
     "output_type": "execute_result"
    }
   ],
   "source": [
    "listings_new.columns.to_list()\n",
    "# listings_new.columns.duplicated()"
   ]
  },
  {
   "cell_type": "markdown",
   "metadata": {},
   "source": [
    "## Check for Duplicates"
   ]
  },
  {
   "cell_type": "code",
   "execution_count": 200,
   "metadata": {
    "ExecuteTime": {
     "end_time": "2020-10-25T19:14:19.962787Z",
     "start_time": "2020-10-25T19:14:19.495037Z"
    }
   },
   "outputs": [
    {
     "name": "stdout",
     "output_type": "stream",
     "text": [
      "False\n"
     ]
    }
   ],
   "source": [
    "if listings_new.duplicated().any():\n",
    "    duplicate_rows = listings_new[listings_new.duplicated()]\n",
    "    print(\"Duplicates Removed\")\n",
    "print(listings_new.duplicated().any())"
   ]
  },
  {
   "cell_type": "code",
   "execution_count": 201,
   "metadata": {
    "ExecuteTime": {
     "end_time": "2020-10-25T19:14:20.028612Z",
     "start_time": "2020-10-25T19:14:19.965779Z"
    }
   },
   "outputs": [
    {
     "ename": "ValueError",
     "evalue": "Length mismatch: Expected axis has 230 elements, new values have 229 elements",
     "output_type": "error",
     "traceback": [
      "\u001b[1;31m---------------------------------------------------------------------------\u001b[0m",
      "\u001b[1;31mValueError\u001b[0m                                Traceback (most recent call last)",
      "\u001b[1;32m<ipython-input-201-64228f8d612e>\u001b[0m in \u001b[0;36m<module>\u001b[1;34m\u001b[0m\n\u001b[0;32m    229\u001b[0m  \u001b[1;34m'wifi'\u001b[0m\u001b[1;33m,\u001b[0m\u001b[1;33m\u001b[0m\u001b[0m\n\u001b[0;32m    230\u001b[0m  \u001b[1;34m'window guards'\u001b[0m\u001b[1;33m,\u001b[0m\u001b[1;33m\u001b[0m\u001b[0m\n\u001b[1;32m--> 231\u001b[1;33m  'wine cooler']\n\u001b[0m",
      "\u001b[1;32m~\\Anaconda3\\lib\\site-packages\\pandas\\core\\generic.py\u001b[0m in \u001b[0;36m__setattr__\u001b[1;34m(self, name, value)\u001b[0m\n\u001b[0;32m   5285\u001b[0m         \u001b[1;32mtry\u001b[0m\u001b[1;33m:\u001b[0m\u001b[1;33m\u001b[0m\u001b[0m\n\u001b[0;32m   5286\u001b[0m             \u001b[0mobject\u001b[0m\u001b[1;33m.\u001b[0m\u001b[0m__getattribute__\u001b[0m\u001b[1;33m(\u001b[0m\u001b[0mself\u001b[0m\u001b[1;33m,\u001b[0m \u001b[0mname\u001b[0m\u001b[1;33m)\u001b[0m\u001b[1;33m\u001b[0m\u001b[0m\n\u001b[1;32m-> 5287\u001b[1;33m             \u001b[1;32mreturn\u001b[0m \u001b[0mobject\u001b[0m\u001b[1;33m.\u001b[0m\u001b[0m__setattr__\u001b[0m\u001b[1;33m(\u001b[0m\u001b[0mself\u001b[0m\u001b[1;33m,\u001b[0m \u001b[0mname\u001b[0m\u001b[1;33m,\u001b[0m \u001b[0mvalue\u001b[0m\u001b[1;33m)\u001b[0m\u001b[1;33m\u001b[0m\u001b[0m\n\u001b[0m\u001b[0;32m   5288\u001b[0m         \u001b[1;32mexcept\u001b[0m \u001b[0mAttributeError\u001b[0m\u001b[1;33m:\u001b[0m\u001b[1;33m\u001b[0m\u001b[0m\n\u001b[0;32m   5289\u001b[0m             \u001b[1;32mpass\u001b[0m\u001b[1;33m\u001b[0m\u001b[0m\n",
      "\u001b[1;32mpandas\\_libs\\properties.pyx\u001b[0m in \u001b[0;36mpandas._libs.properties.AxisProperty.__set__\u001b[1;34m()\u001b[0m\n",
      "\u001b[1;32m~\\Anaconda3\\lib\\site-packages\\pandas\\core\\generic.py\u001b[0m in \u001b[0;36m_set_axis\u001b[1;34m(self, axis, labels)\u001b[0m\n\u001b[0;32m    659\u001b[0m \u001b[1;33m\u001b[0m\u001b[0m\n\u001b[0;32m    660\u001b[0m     \u001b[1;32mdef\u001b[0m \u001b[0m_set_axis\u001b[0m\u001b[1;33m(\u001b[0m\u001b[0mself\u001b[0m\u001b[1;33m,\u001b[0m \u001b[0maxis\u001b[0m\u001b[1;33m,\u001b[0m \u001b[0mlabels\u001b[0m\u001b[1;33m)\u001b[0m \u001b[1;33m->\u001b[0m \u001b[1;32mNone\u001b[0m\u001b[1;33m:\u001b[0m\u001b[1;33m\u001b[0m\u001b[0m\n\u001b[1;32m--> 661\u001b[1;33m         \u001b[0mself\u001b[0m\u001b[1;33m.\u001b[0m\u001b[0m_data\u001b[0m\u001b[1;33m.\u001b[0m\u001b[0mset_axis\u001b[0m\u001b[1;33m(\u001b[0m\u001b[0maxis\u001b[0m\u001b[1;33m,\u001b[0m \u001b[0mlabels\u001b[0m\u001b[1;33m)\u001b[0m\u001b[1;33m\u001b[0m\u001b[0m\n\u001b[0m\u001b[0;32m    662\u001b[0m         \u001b[0mself\u001b[0m\u001b[1;33m.\u001b[0m\u001b[0m_clear_item_cache\u001b[0m\u001b[1;33m(\u001b[0m\u001b[1;33m)\u001b[0m\u001b[1;33m\u001b[0m\u001b[0m\n\u001b[0;32m    663\u001b[0m \u001b[1;33m\u001b[0m\u001b[0m\n",
      "\u001b[1;32m~\\Anaconda3\\lib\\site-packages\\pandas\\core\\internals\\managers.py\u001b[0m in \u001b[0;36mset_axis\u001b[1;34m(self, axis, new_labels)\u001b[0m\n\u001b[0;32m    176\u001b[0m         \u001b[1;32mif\u001b[0m \u001b[0mnew_len\u001b[0m \u001b[1;33m!=\u001b[0m \u001b[0mold_len\u001b[0m\u001b[1;33m:\u001b[0m\u001b[1;33m\u001b[0m\u001b[0m\n\u001b[0;32m    177\u001b[0m             raise ValueError(\n\u001b[1;32m--> 178\u001b[1;33m                 \u001b[1;34mf\"Length mismatch: Expected axis has {old_len} elements, new \"\u001b[0m\u001b[1;33m\u001b[0m\u001b[0m\n\u001b[0m\u001b[0;32m    179\u001b[0m                 \u001b[1;34mf\"values have {new_len} elements\"\u001b[0m\u001b[1;33m\u001b[0m\u001b[0m\n\u001b[0;32m    180\u001b[0m             )\n",
      "\u001b[1;31mValueError\u001b[0m: Length mismatch: Expected axis has 230 elements, new values have 229 elements"
     ]
    }
   ],
   "source": [
    "# rename duplicate column\n",
    "listings_new.columns = \\\n",
    "['host_response_rate',\n",
    " 'host_acceptance_rate',\n",
    " 'host_listings_count',\n",
    " 'accommodates',\n",
    " 'bathrooms',\n",
    " 'bedrooms',\n",
    " 'beds',\n",
    " 'price',\n",
    " 'minimum_nights',\n",
    " 'maximum_nights',\n",
    " 'number_of_reviews',\n",
    " 'review_scores_rating',\n",
    " 'reviews_per_month',\n",
    " 'host_is_superhost',\n",
    " '-',\n",
    " 'a few days or more',\n",
    " 'within a day',\n",
    " 'within a few hours',\n",
    " 'within an hour',\n",
    " 'Bayview',\n",
    " 'Bernal Heights',\n",
    " 'Castro/Upper Market',\n",
    " 'Chinatown',\n",
    " 'Crocker Amazon',\n",
    " 'Diamond Heights',\n",
    " 'Downtown/Civic Center',\n",
    " 'Excelsior',\n",
    " 'Financial District',\n",
    " 'Glen Park',\n",
    " 'Golden Gate Park',\n",
    " 'Haight Ashbury',\n",
    " 'Inner Richmond',\n",
    " 'Inner Sunset',\n",
    " 'Lakeshore',\n",
    " 'Marina',\n",
    " 'Mission',\n",
    " 'Nob Hill',\n",
    " 'Noe Valley',\n",
    " 'North Beach',\n",
    " 'Ocean View',\n",
    " 'Outer Mission',\n",
    " 'Outer Richmond',\n",
    " 'Outer Sunset',\n",
    " 'Pacific Heights',\n",
    " 'Parkside',\n",
    " 'Potrero Hill',\n",
    " 'Presidio',\n",
    " 'Presidio Heights',\n",
    " 'Russian Hill',\n",
    " 'Seacliff',\n",
    " 'South of Market',\n",
    " 'Treasure Island/YBI',\n",
    " 'Twin Peaks',\n",
    " 'Visitacion Valley',\n",
    " 'West of Twin Peaks',\n",
    " 'Western Addition',\n",
    " 'Boat',\n",
    " 'Casa particular',\n",
    " 'Earth house',\n",
    " 'Entire apartment',\n",
    " 'Entire bungalow',\n",
    " 'Entire cabin',\n",
    " 'Entire condominium',\n",
    " 'Entire cottage',\n",
    " 'Entire floor',\n",
    " 'Entire guest suite',\n",
    " 'Entire guesthouse',\n",
    " 'Entire house',\n",
    " 'Entire in-law',\n",
    " 'Entire loft',\n",
    " 'Entire place',\n",
    " 'Entire serviced apartment',\n",
    " 'Entire townhouse',\n",
    " 'Entire villa',\n",
    " 'Private room (Property Type)',\n",
    " 'Private room in apartment',\n",
    " 'Private room in bed and breakfast',\n",
    " 'Private room in bungalow',\n",
    " 'Private room in cabin',\n",
    " 'Private room in castle',\n",
    " 'Private room in condominium',\n",
    " 'Private room in cottage',\n",
    " 'Private room in earth house',\n",
    " 'Private room in guest suite',\n",
    " 'Private room in guesthouse',\n",
    " 'Private room in hostel',\n",
    " 'Private room in house',\n",
    " 'Private room in hut',\n",
    " 'Private room in loft',\n",
    " 'Private room in resort',\n",
    " 'Private room in serviced apartment',\n",
    " 'Private room in townhouse',\n",
    " 'Private room in villa',\n",
    " 'Room in aparthotel',\n",
    " 'Room in bed and breakfast',\n",
    " 'Room in boutique hotel',\n",
    " 'Room in hostel',\n",
    " 'Room in hotel',\n",
    " 'Room in serviced apartment',\n",
    " 'Shared room in apartment',\n",
    " 'Shared room in bed and breakfast',\n",
    " 'Shared room in boutique hotel',\n",
    " 'Shared room in bungalow',\n",
    " 'Shared room in condominium',\n",
    " 'Shared room in hostel',\n",
    " 'Shared room in house',\n",
    " 'Shared room in loft',\n",
    " 'Shared room in townhouse',\n",
    " 'Shared room in villa',\n",
    " 'Tiny house',\n",
    " 'Entire home/apt',\n",
    " 'Hotel room',\n",
    " 'Private room',\n",
    " 'Shared room',\n",
    " 'air conditioning',\n",
    " 'alarm system',\n",
    " 'baby bath',\n",
    " 'baby monitor',\n",
    " 'babysitter recommendations',\n",
    " 'baking sheet',\n",
    " 'barbecue utensils',\n",
    " 'bathroom essentials',\n",
    " 'bathtub',\n",
    " 'bbq grill',\n",
    " 'beach essentials',\n",
    " 'beachfront',\n",
    " 'bed linens',\n",
    " 'bedroom comforts',\n",
    " 'bread maker',\n",
    " 'breakfast',\n",
    " 'breakfast bar',\n",
    " 'building staff',\n",
    " 'cable tv',\n",
    " 'carbon monoxide alarm',\n",
    " 'changing table',\n",
    " 'children\\\\u2019s books and toys',\n",
    " 'children\\\\u2019s dinnerware',\n",
    " 'cleaning before checkout',\n",
    " 'coffee maker',\n",
    " 'cooking basics',\n",
    " 'crib',\n",
    " 'desk',\n",
    " 'dishes and silverware',\n",
    " 'dishwasher',\n",
    " 'dryer',\n",
    " 'dual vanity',\n",
    " 'elevator',\n",
    " 'essentials',\n",
    " 'ethernet connection',\n",
    " 'ev charger',\n",
    " 'extra pillows and blankets',\n",
    " 'fire extinguisher',\n",
    " 'fireplace guards',\n",
    " 'first aid kit',\n",
    " 'free parking on premises',\n",
    " 'free street parking',\n",
    " 'full kitchen',\n",
    " 'game console',\n",
    " 'garden or backyard',\n",
    " 'gas fireplace',\n",
    " 'gym',\n",
    " 'hair dryer',\n",
    " 'hangers',\n",
    " 'heating',\n",
    " 'high chair',\n",
    " 'host greets you',\n",
    " 'hot tub',\n",
    " 'hot water',\n",
    " 'indoor fireplace',\n",
    " 'iron',\n",
    " 'ironing board',\n",
    " 'jetted tub',\n",
    " 'keypad',\n",
    " 'kitchen',\n",
    " 'kitchenette',\n",
    " 'lake access',\n",
    " 'laptop-friendly workspace',\n",
    " 'lock on bedroom door',\n",
    " 'lockbox',\n",
    " 'long term stays allowed',\n",
    " 'luggage dropoff allowed',\n",
    " 'microwave',\n",
    " 'mini fridge',\n",
    " 'natural gas barbeque',\n",
    " 'office',\n",
    " 'outlet covers',\n",
    " 'oven',\n",
    " 'pack \\\\u2019n play/travel crib',\n",
    " 'paid parking off premises',\n",
    " 'paid parking on premises',\n",
    " 'patio or balcony',\n",
    " 'pets allowed',\n",
    " 'piano',\n",
    " 'pocket wifi',\n",
    " 'pool',\n",
    " 'portable air conditioning',\n",
    " 'private entrance',\n",
    " 'private hot tub',\n",
    " 'private living room',\n",
    " 'refrigerator',\n",
    " 'room-darkening shades',\n",
    " 'security cameras',\n",
    " 'self check-in',\n",
    " 'shampoo',\n",
    " 'shared hot tub',\n",
    " 'shower gel',\n",
    " 'single level home',\n",
    " 'ski-in/ski-out',\n",
    " 'smart home technology',\n",
    " 'smart lock',\n",
    " 'smart tv',\n",
    " 'smoke alarm',\n",
    " 'smoking allowed',\n",
    " 'sonos sound system',\n",
    " 'stair gates',\n",
    " 'stand alone bathtub',\n",
    " 'stand alone rain shower',\n",
    " 'stove',\n",
    " 'suitable for events',\n",
    " 'table corner guards',\n",
    " 'terrace',\n",
    " 'tv',\n",
    " 'walk in closet',\n",
    " 'washer',\n",
    " 'waterfront',\n",
    " 'wet bar',\n",
    " 'wifi',\n",
    " 'window guards',\n",
    " 'wine cooler']\n"
   ]
  },
  {
   "cell_type": "code",
   "execution_count": null,
   "metadata": {
    "ExecuteTime": {
     "end_time": "2020-10-25T19:14:20.038589Z",
     "start_time": "2020-10-25T19:14:15.728Z"
    }
   },
   "outputs": [],
   "source": [
    "listings_new.to_pickle('listings_for_analysis.pkl')\n",
    "\n",
    "\n",
    "pickle_listings_new_df = pd.read_pickle('listings_for_analysis.pkl')\n",
    "pickle_listings_new_df.head(5)"
   ]
  },
  {
   "cell_type": "markdown",
   "metadata": {
    "ExecuteTime": {
     "end_time": "2020-09-25T21:26:48.820835Z",
     "start_time": "2020-09-25T21:26:48.816846Z"
    }
   },
   "source": [
    "# Random Forest"
   ]
  },
  {
   "cell_type": "markdown",
   "metadata": {
    "ExecuteTime": {
     "end_time": "2020-09-25T21:26:48.820835Z",
     "start_time": "2020-09-25T21:26:48.816846Z"
    }
   },
   "source": [
    "## Train/Test w Random Forest Algorithm"
   ]
  },
  {
   "cell_type": "code",
   "execution_count": null,
   "metadata": {
    "ExecuteTime": {
     "end_time": "2020-10-25T19:14:20.040579Z",
     "start_time": "2020-10-25T19:14:15.735Z"
    }
   },
   "outputs": [],
   "source": [
    "from sklearn.model_selection import train_test_split\n",
    "from sklearn.metrics import r2_score\n",
    "from sklearn.metrics import mean_squared_error\n",
    "from sklearn.ensemble import RandomForestRegressor\n",
    "\n",
    "y = listings_new['price']\n",
    "x = listings_new.drop('price', axis =1)\n",
    "X_train, X_test, y_train, y_test = train_test_split(x, y, test_size = 0.25, random_state=1)\n",
    "rf = RandomForestRegressor(n_estimators=500, \n",
    "                               criterion='mse', \n",
    "                               random_state=3, \n",
    "                               n_jobs=-1)\n",
    "rf.fit(X_train, y_train)\n",
    "y_train_pred = rf.predict(X_train)\n",
    "y_test_pred = rf.predict(X_test)\n",
    "rmse_rf= (mean_squared_error(y_test,y_test_pred))**(1/2)\n",
    "\n",
    "print('RMSE test: %.3f' % rmse_rf)\n",
    "print('R^2 test: %.3f' % (r2_score(y_test, y_test_pred)))"
   ]
  },
  {
   "cell_type": "code",
   "execution_count": null,
   "metadata": {
    "ExecuteTime": {
     "end_time": "2020-10-25T19:14:20.042573Z",
     "start_time": "2020-10-25T19:14:15.745Z"
    }
   },
   "outputs": [],
   "source": [
    "# from sklearn.model_selection import train_test_split\n",
    "# from sklearn.metrics import r2_score\n",
    "# from sklearn.metrics import mean_squared_error\n",
    "# from sklearn.ensemble import RandomForestRegressor\n",
    "\n",
    "# y = listings_new['price']\n",
    "# x = listings_new.drop('price', axis =1)\n",
    "# X_train, X_test, y_train, y_test = train_test_split(x, y, test_size = 0.25, random_state=1)\n",
    "# rf = RandomForestRegressor(n_estimators=96, \n",
    "#                                criterion='mse', \n",
    "#                                random_state=3, \n",
    "#                                n_jobs=-1)\n",
    "# rf.fit(X_train, y_train)\n",
    "# y_train_pred = rf.predict(X_train)\n",
    "# y_test_pred = rf.predict(X_test)\n",
    "# rmse_rf= (mean_squared_error(y_test,y_test_pred))**(1/2)\n",
    "\n",
    "# print('RMSE test: %.3f' % rmse_rf)\n",
    "# print('R^2 test: %.3f' % (r2_score(y_test, y_test_pred)))"
   ]
  },
  {
   "cell_type": "markdown",
   "metadata": {
    "ExecuteTime": {
     "end_time": "2020-09-25T21:26:48.820835Z",
     "start_time": "2020-09-25T21:26:48.816846Z"
    }
   },
   "source": [
    "## Feature Importance of Random Forest Algorithm"
   ]
  },
  {
   "cell_type": "code",
   "execution_count": null,
   "metadata": {
    "ExecuteTime": {
     "end_time": "2020-10-25T19:14:20.045565Z",
     "start_time": "2020-10-25T19:14:15.751Z"
    },
    "scrolled": true
   },
   "outputs": [],
   "source": [
    "coefs_df = pd.DataFrame()\n",
    "coefs_df['feature'] = X_train.columns\n",
    "coefs_df['coefs'] = rf.feature_importances_\n",
    "coefs_df.sort_values('coefs', ascending=False).head(20)"
   ]
  },
  {
   "cell_type": "code",
   "execution_count": null,
   "metadata": {
    "ExecuteTime": {
     "end_time": "2020-10-25T19:14:20.047560Z",
     "start_time": "2020-10-25T19:14:15.757Z"
    }
   },
   "outputs": [],
   "source": [
    "\n",
    "feat_imp = pd.Series(rf.feature_importances_, index=X_train.columns)\n",
    "feat_imp.nlargest(20).plot(kind='barh', figsize=(10,6))"
   ]
  },
  {
   "cell_type": "markdown",
   "metadata": {
    "ExecuteTime": {
     "end_time": "2020-09-25T21:26:48.820835Z",
     "start_time": "2020-09-25T21:26:48.816846Z"
    }
   },
   "source": [
    "# LightGBM"
   ]
  },
  {
   "cell_type": "markdown",
   "metadata": {
    "ExecuteTime": {
     "end_time": "2020-09-25T21:26:48.820835Z",
     "start_time": "2020-09-25T21:26:48.816846Z"
    }
   },
   "source": [
    "## Train/Test w LightGBM"
   ]
  },
  {
   "cell_type": "code",
   "execution_count": null,
   "metadata": {
    "ExecuteTime": {
     "end_time": "2020-10-25T19:14:20.050552Z",
     "start_time": "2020-10-25T19:14:15.762Z"
    }
   },
   "outputs": [],
   "source": [
    "from lightgbm import LGBMRegressor\n",
    "\n",
    "y = listings_new['price']\n",
    "x = listings_new.drop('price', axis =1)\n",
    "X_train, X_test, y_train, y_test = train_test_split(x, y, test_size = 0.25, random_state=1)\n",
    "fit_params={\n",
    "    \"early_stopping_rounds\":20, \n",
    "            \"eval_metric\" : 'rmse', \n",
    "            \"eval_set\" : [(X_test,y_test)],\n",
    "            'eval_names': ['valid'],\n",
    "            'verbose': 100,\n",
    "            'feature_name': 'auto', \n",
    "            'categorical_feature': 'auto'\n",
    "           }\n",
    "        \n",
    "class LGBMRegressor_GainFE(LGBMRegressor):\n",
    "    @property\n",
    "    def feature_importances_(self):\n",
    "        if self._n_features is None:\n",
    "            raise LGBMNotFittedError('No feature_importances found. Need to call fit beforehand.')\n",
    "        return self.booster_.feature_importance(importance_type='gain')\n",
    "        \n",
    "clf = LGBMRegressor_GainFE(num_leaves= 25, max_depth=20, \n",
    "                         random_state=0, \n",
    "                         silent=True, \n",
    "                         metric='rmse', \n",
    "                         n_jobs=4, \n",
    "                         n_estimators=1000,\n",
    "                         colsample_bytree=0.9,\n",
    "                         subsample=0.9,\n",
    "                         learning_rate=0.01)\n",
    "clf.fit(X_train.values, y_train.values, **fit_params)\n",
    "y_pred = clf.predict(X_test.values)\n",
    "print('R^2 test: %.3f' % (r2_score(y_test, y_pred)))"
   ]
  },
  {
   "cell_type": "markdown",
   "metadata": {
    "ExecuteTime": {
     "end_time": "2020-09-25T21:26:48.820835Z",
     "start_time": "2020-09-25T21:26:48.816846Z"
    }
   },
   "source": [
    "## Feature Importance of LightGBM"
   ]
  },
  {
   "cell_type": "code",
   "execution_count": null,
   "metadata": {
    "ExecuteTime": {
     "end_time": "2020-10-25T19:14:20.052547Z",
     "start_time": "2020-10-25T19:14:15.767Z"
    }
   },
   "outputs": [],
   "source": [
    "feat_imp = pd.Series(clf.feature_importances_, index=x.columns)\n",
    "feat_imp.nlargest(20).plot(kind='barh', figsize=(10,6))"
   ]
  },
  {
   "cell_type": "code",
   "execution_count": null,
   "metadata": {
    "ExecuteTime": {
     "end_time": "2020-10-25T19:14:20.056537Z",
     "start_time": "2020-10-25T19:14:15.774Z"
    }
   },
   "outputs": [],
   "source": [
    "coefs_df = pd.DataFrame()\n",
    "coefs_df['feature'] = x.columns\n",
    "coefs_df['coefs'] = clf.feature_importances_\n",
    "coefs_df.sort_values('coefs', ascending=False).head(20)"
   ]
  },
  {
   "cell_type": "code",
   "execution_count": null,
   "metadata": {},
   "outputs": [],
   "source": []
  }
 ],
 "metadata": {
  "kernelspec": {
   "display_name": "Python 3",
   "language": "python",
   "name": "python3"
  },
  "language_info": {
   "codemirror_mode": {
    "name": "ipython",
    "version": 3
   },
   "file_extension": ".py",
   "mimetype": "text/x-python",
   "name": "python",
   "nbconvert_exporter": "python",
   "pygments_lexer": "ipython3",
   "version": "3.6.5"
  },
  "toc": {
   "base_numbering": 1,
   "nav_menu": {},
   "number_sections": true,
   "sideBar": true,
   "skip_h1_title": false,
   "title_cell": "Table of Contents",
   "title_sidebar": "Contents",
   "toc_cell": false,
   "toc_position": {
    "height": "calc(100% - 180px)",
    "left": "10px",
    "top": "150px",
    "width": "315.833px"
   },
   "toc_section_display": true,
   "toc_window_display": false
  },
  "varInspector": {
   "cols": {
    "lenName": 16,
    "lenType": 16,
    "lenVar": 40
   },
   "kernels_config": {
    "python": {
     "delete_cmd_postfix": "",
     "delete_cmd_prefix": "del ",
     "library": "var_list.py",
     "varRefreshCmd": "print(var_dic_list())"
    },
    "r": {
     "delete_cmd_postfix": ") ",
     "delete_cmd_prefix": "rm(",
     "library": "var_list.r",
     "varRefreshCmd": "cat(var_dic_list()) "
    }
   },
   "types_to_exclude": [
    "module",
    "function",
    "builtin_function_or_method",
    "instance",
    "_Feature"
   ],
   "window_display": false
  }
 },
 "nbformat": 4,
 "nbformat_minor": 4
}
