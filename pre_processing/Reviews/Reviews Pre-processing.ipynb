{
 "cells": [
  {
   "cell_type": "markdown",
   "metadata": {},
   "source": [
    "# 1. Import Data"
   ]
  },
  {
   "cell_type": "code",
   "execution_count": 1,
   "metadata": {},
   "outputs": [],
   "source": [
    "import pandas as pd\n",
    "import numpy as np\n",
    "\n",
    "import warnings\n",
    "warnings.filterwarnings(\"ignore\")\n",
    "\n",
    "import time\n",
    "import datetime\n",
    "\n",
    "#libraries for pre-processing text \n",
    "import re\n",
    "from nltk.stem import PorterStemmer\n",
    "from nltk.tokenize import word_tokenize\n",
    "from nltk.corpus import stopwords\n",
    "from sklearn.feature_extraction.text import TfidfVectorizer\n",
    "from sklearn.feature_extraction import text\n",
    "from sklearn.preprocessing import normalize\n",
    "\n",
    "#load the SentimentIntensityAnalyser object in\n",
    "from nltk.sentiment.vader import SentimentIntensityAnalyzer\n",
    "# assign it to another name to make it easier to use\n",
    "analyzer = SentimentIntensityAnalyzer()\n",
    "\n",
    "#libraries for word cloud\n",
    "from wordcloud import WordCloud\n",
    "from collections import Counter\n",
    "from PIL import Image\n",
    "\n",
    "#libraries for decomposition\n",
    "from sklearn import decomposition \n",
    "\n",
    "#libraries for visualisation\n",
    "from sklearn.feature_extraction.text import CountVectorizer\n",
    "from yellowbrick.text.freqdist import FreqDistVisualizer\n",
    "from yellowbrick.style import set_palette\n",
    "import matplotlib.pyplot as plt\n",
    "plt.style.use('seaborn')\n",
    "import seaborn as sns\n",
    "\n",
    "#libraries for clustering\n",
    "from sklearn.cluster import KMeans \n",
    "from sklearn.decomposition import PCA\n",
    "from sklearn.metrics import pairwise_distances\n",
    "from sklearn.metrics import silhouette_score\n",
    "import os"
   ]
  },
  {
   "cell_type": "code",
   "execution_count": 32,
   "metadata": {},
   "outputs": [
    {
     "name": "stdout",
     "output_type": "stream",
     "text": [
      "The dataset has 320628 rows and 6 columns.\n",
      "It contains 0 duplicates.\n"
     ]
    }
   ],
   "source": [
    "df = pd.read_csv(\"..//May Myo//raw_data//reviews.csv.gz\")\n",
    "\n",
    "# checking shape ...\n",
    "print(\"The dataset has {} rows and {} columns.\".format(*reviews.shape))\n",
    "\n",
    "# ... and duplicates\n",
    "print(\"It contains {} duplicates.\".format(reviews.duplicated().sum()))"
   ]
  },
  {
   "cell_type": "code",
   "execution_count": 33,
   "metadata": {},
   "outputs": [
    {
     "data": {
      "text/html": [
       "<div>\n",
       "<style scoped>\n",
       "    .dataframe tbody tr th:only-of-type {\n",
       "        vertical-align: middle;\n",
       "    }\n",
       "\n",
       "    .dataframe tbody tr th {\n",
       "        vertical-align: top;\n",
       "    }\n",
       "\n",
       "    .dataframe thead th {\n",
       "        text-align: right;\n",
       "    }\n",
       "</style>\n",
       "<table border=\"1\" class=\"dataframe\">\n",
       "  <thead>\n",
       "    <tr style=\"text-align: right;\">\n",
       "      <th></th>\n",
       "      <th>listing_id</th>\n",
       "      <th>id</th>\n",
       "      <th>date</th>\n",
       "      <th>reviewer_id</th>\n",
       "      <th>reviewer_name</th>\n",
       "      <th>comments</th>\n",
       "    </tr>\n",
       "  </thead>\n",
       "  <tbody>\n",
       "    <tr>\n",
       "      <th>0</th>\n",
       "      <td>958</td>\n",
       "      <td>5977</td>\n",
       "      <td>2009-07-23</td>\n",
       "      <td>15695</td>\n",
       "      <td>Edmund C</td>\n",
       "      <td>Our experience was, without a doubt, a five st...</td>\n",
       "    </tr>\n",
       "    <tr>\n",
       "      <th>1</th>\n",
       "      <td>958</td>\n",
       "      <td>6660</td>\n",
       "      <td>2009-08-03</td>\n",
       "      <td>26145</td>\n",
       "      <td>Simon</td>\n",
       "      <td>Returning to San Francisco is a rejuvenating t...</td>\n",
       "    </tr>\n",
       "    <tr>\n",
       "      <th>2</th>\n",
       "      <td>958</td>\n",
       "      <td>11519</td>\n",
       "      <td>2009-09-27</td>\n",
       "      <td>25839</td>\n",
       "      <td>Denis</td>\n",
       "      <td>We were very pleased with the accommodations a...</td>\n",
       "    </tr>\n",
       "    <tr>\n",
       "      <th>3</th>\n",
       "      <td>958</td>\n",
       "      <td>16282</td>\n",
       "      <td>2009-11-05</td>\n",
       "      <td>33750</td>\n",
       "      <td>Anna</td>\n",
       "      <td>We highly recommend this accomodation and agre...</td>\n",
       "    </tr>\n",
       "    <tr>\n",
       "      <th>4</th>\n",
       "      <td>958</td>\n",
       "      <td>26008</td>\n",
       "      <td>2010-02-13</td>\n",
       "      <td>15416</td>\n",
       "      <td>Venetia</td>\n",
       "      <td>Holly's place was great. It was exactly what I...</td>\n",
       "    </tr>\n",
       "  </tbody>\n",
       "</table>\n",
       "</div>"
      ],
      "text/plain": [
       "   listing_id     id        date  reviewer_id reviewer_name  \\\n",
       "0         958   5977  2009-07-23        15695      Edmund C   \n",
       "1         958   6660  2009-08-03        26145         Simon   \n",
       "2         958  11519  2009-09-27        25839         Denis   \n",
       "3         958  16282  2009-11-05        33750          Anna   \n",
       "4         958  26008  2010-02-13        15416       Venetia   \n",
       "\n",
       "                                            comments  \n",
       "0  Our experience was, without a doubt, a five st...  \n",
       "1  Returning to San Francisco is a rejuvenating t...  \n",
       "2  We were very pleased with the accommodations a...  \n",
       "3  We highly recommend this accomodation and agre...  \n",
       "4  Holly's place was great. It was exactly what I...  "
      ]
     },
     "execution_count": 33,
     "metadata": {},
     "output_type": "execute_result"
    }
   ],
   "source": [
    "df.head()"
   ]
  },
  {
   "cell_type": "markdown",
   "metadata": {},
   "source": [
    "# 2. Preprocessing the Data"
   ]
  },
  {
   "cell_type": "code",
   "execution_count": 34,
   "metadata": {},
   "outputs": [
    {
     "data": {
      "text/plain": [
       "listing_id         0\n",
       "id                 0\n",
       "date               0\n",
       "reviewer_id        0\n",
       "reviewer_name      0\n",
       "comments         133\n",
       "dtype: int64"
      ]
     },
     "execution_count": 34,
     "metadata": {},
     "output_type": "execute_result"
    }
   ],
   "source": [
    "df.isna().sum()"
   ]
  },
  {
   "cell_type": "code",
   "execution_count": 31,
   "metadata": {},
   "outputs": [
    {
     "data": {
      "text/plain": [
       "listing_id       0\n",
       "id               0\n",
       "date             0\n",
       "reviewer_id      0\n",
       "reviewer_name    0\n",
       "comments         0\n",
       "dtype: int64"
      ]
     },
     "execution_count": 31,
     "metadata": {},
     "output_type": "execute_result"
    }
   ],
   "source": [
    "df.dropna(inplace=True)\n",
    "df.isna().sum()"
   ]
  },
  {
   "cell_type": "code",
   "execution_count": 41,
   "metadata": {},
   "outputs": [
    {
     "data": {
      "text/plain": [
       "(320628, 6)"
      ]
     },
     "execution_count": 41,
     "metadata": {},
     "output_type": "execute_result"
    }
   ],
   "source": [
    "df.shape"
   ]
  },
  {
   "cell_type": "markdown",
   "metadata": {},
   "source": [
    "### 3. Detect Language used in comments"
   ]
  },
  {
   "cell_type": "code",
   "execution_count": 38,
   "metadata": {},
   "outputs": [],
   "source": [
    "from langdetect import detect"
   ]
  },
  {
   "cell_type": "code",
   "execution_count": 39,
   "metadata": {},
   "outputs": [],
   "source": [
    "# the function that detects the language\n",
    "def language_detection(text):\n",
    "    try:\n",
    "        return detect(text)\n",
    "    except:\n",
    "        return None"
   ]
  },
  {
   "cell_type": "code",
   "execution_count": 40,
   "metadata": {},
   "outputs": [
    {
     "name": "stdout",
     "output_type": "stream",
     "text": [
      "Wall time: 1h 2min 16s\n"
     ]
    }
   ],
   "source": [
    "%%time\n",
    "df['language'] = reviews['comments'].apply(language_detection)"
   ]
  },
  {
   "cell_type": "code",
   "execution_count": 42,
   "metadata": {},
   "outputs": [
    {
     "data": {
      "text/plain": [
       "en       298505\n",
       "fr         6327\n",
       "de         3648\n",
       "es         2935\n",
       "zh-cn      1878\n",
       "ko         1553\n",
       "ro          735\n",
       "it          710\n",
       "pt          535\n",
       "nl          516\n",
       "Name: language, dtype: int64"
      ]
     },
     "execution_count": 42,
     "metadata": {},
     "output_type": "execute_result"
    }
   ],
   "source": [
    "df.language.value_counts().head(10)"
   ]
  },
  {
   "cell_type": "code",
   "execution_count": 47,
   "metadata": {},
   "outputs": [
    {
     "data": {
      "image/png": "[encoded data removed]",
      "text/plain": [
       "<Figure size 648x360 with 1 Axes>"
      ]
     },
     "metadata": {},
     "output_type": "display_data"
    }
   ],
   "source": [
    "ax = df.language.value_counts(normalize=True).head(6).sort_values().plot(kind='barh', figsize=(9,5));"
   ]
  },
  {
   "cell_type": "code",
   "execution_count": 48,
   "metadata": {},
   "outputs": [
    {
     "data": {
      "image/png": "[encoded data removed]",
      "text/plain": [
       "<Figure size 648x360 with 1 Axes>"
      ]
     },
     "metadata": {},
     "output_type": "display_data"
    }
   ],
   "source": [
    "# visualizing the comments' languages b) neat and clean\n",
    "ax = df.language.value_counts().head(6).plot(kind='barh', figsize=(9,5), color=\"lightcoral\", \n",
    "                                             fontsize=12);\n",
    "\n",
    "ax.set_title(\"\\nWhat are the most frequent languages comments are written in?\\n\", \n",
    "             fontsize=12, fontweight='bold')\n",
    "ax.set_xlabel(\" Total Number of Comments\", fontsize=10)\n",
    "ax.set_yticklabels(['English', 'German', 'French', 'Spanish', 'Italian', 'Dutch'])\n",
    "\n",
    "# create a list to collect the plt.patches data\n",
    "totals = []\n",
    "# find the ind. values and append to list\n",
    "for i in ax.patches:\n",
    "    totals.append(i.get_width())\n",
    "# get total\n",
    "total = sum(totals)\n",
    "\n",
    "# set individual bar labels using above list\n",
    "for i in ax.patches:\n",
    "    ax.text(x=i.get_width(), y=i.get_y()+.35, \n",
    "            s=str(round((i.get_width()/total)*100, 2))+'%', \n",
    "            fontsize=10, color='black')\n",
    "\n",
    "# invert for largest on top \n",
    "ax.invert_yaxis()"
   ]
  },
  {
   "cell_type": "code",
   "execution_count": 64,
   "metadata": {},
   "outputs": [],
   "source": [
    "# as we are only interested in comments written in english, we need to split the data to english related sub-dataframes\n",
    "df_eng = df[(df['language']=='en')]"
   ]
  },
  {
   "cell_type": "code",
   "execution_count": 60,
   "metadata": {},
   "outputs": [],
   "source": [
    "#save df_eng to pkl files to reduce loading time \n",
    "reviews=reviews.drop(['language'], axis=1)\n",
    "df_eng.to_pickle(\"df_eng.pkl\")"
   ]
  },
  {
   "cell_type": "code",
   "execution_count": 74,
   "metadata": {},
   "outputs": [
    {
     "data": {
      "text/html": [
       "<div>\n",
       "<style scoped>\n",
       "    .dataframe tbody tr th:only-of-type {\n",
       "        vertical-align: middle;\n",
       "    }\n",
       "\n",
       "    .dataframe tbody tr th {\n",
       "        vertical-align: top;\n",
       "    }\n",
       "\n",
       "    .dataframe thead th {\n",
       "        text-align: right;\n",
       "    }\n",
       "</style>\n",
       "<table border=\"1\" class=\"dataframe\">\n",
       "  <thead>\n",
       "    <tr style=\"text-align: right;\">\n",
       "      <th></th>\n",
       "      <th>listing_id</th>\n",
       "      <th>id</th>\n",
       "      <th>date</th>\n",
       "      <th>reviewer_id</th>\n",
       "      <th>reviewer_name</th>\n",
       "      <th>comments</th>\n",
       "    </tr>\n",
       "  </thead>\n",
       "  <tbody>\n",
       "    <tr>\n",
       "      <th>0</th>\n",
       "      <td>958</td>\n",
       "      <td>5977</td>\n",
       "      <td>2009-07-23</td>\n",
       "      <td>15695</td>\n",
       "      <td>Edmund C</td>\n",
       "      <td>Our experience was, without a doubt, a five st...</td>\n",
       "    </tr>\n",
       "    <tr>\n",
       "      <th>1</th>\n",
       "      <td>958</td>\n",
       "      <td>6660</td>\n",
       "      <td>2009-08-03</td>\n",
       "      <td>26145</td>\n",
       "      <td>Simon</td>\n",
       "      <td>Returning to San Francisco is a rejuvenating t...</td>\n",
       "    </tr>\n",
       "    <tr>\n",
       "      <th>2</th>\n",
       "      <td>958</td>\n",
       "      <td>11519</td>\n",
       "      <td>2009-09-27</td>\n",
       "      <td>25839</td>\n",
       "      <td>Denis</td>\n",
       "      <td>We were very pleased with the accommodations a...</td>\n",
       "    </tr>\n",
       "    <tr>\n",
       "      <th>3</th>\n",
       "      <td>958</td>\n",
       "      <td>16282</td>\n",
       "      <td>2009-11-05</td>\n",
       "      <td>33750</td>\n",
       "      <td>Anna</td>\n",
       "      <td>We highly recommend this accomodation and agre...</td>\n",
       "    </tr>\n",
       "    <tr>\n",
       "      <th>4</th>\n",
       "      <td>958</td>\n",
       "      <td>26008</td>\n",
       "      <td>2010-02-13</td>\n",
       "      <td>15416</td>\n",
       "      <td>Venetia</td>\n",
       "      <td>Holly's place was great. It was exactly what I...</td>\n",
       "    </tr>\n",
       "  </tbody>\n",
       "</table>\n",
       "</div>"
      ],
      "text/plain": [
       "   listing_id     id        date  reviewer_id reviewer_name  \\\n",
       "0         958   5977  2009-07-23        15695      Edmund C   \n",
       "1         958   6660  2009-08-03        26145         Simon   \n",
       "2         958  11519  2009-09-27        25839         Denis   \n",
       "3         958  16282  2009-11-05        33750          Anna   \n",
       "4         958  26008  2010-02-13        15416       Venetia   \n",
       "\n",
       "                                            comments  \n",
       "0  Our experience was, without a doubt, a five st...  \n",
       "1  Returning to San Francisco is a rejuvenating t...  \n",
       "2  We were very pleased with the accommodations a...  \n",
       "3  We highly recommend this accomodation and agre...  \n",
       "4  Holly's place was great. It was exactly what I...  "
      ]
     },
     "execution_count": 74,
     "metadata": {},
     "output_type": "execute_result"
    }
   ],
   "source": [
    "df_eng.head()"
   ]
  },
  {
   "cell_type": "code",
   "execution_count": 44,
   "metadata": {},
   "outputs": [],
   "source": [
    "reviews = pd.read_pickle(\"df_eng.pkl\")"
   ]
  },
  {
   "cell_type": "code",
   "execution_count": 45,
   "metadata": {},
   "outputs": [],
   "source": [
    "#remove commens with 2 alphabets and less\n",
    "reviews[\"comments_cleansed\"] = reviews.comments.str.replace(r'\\b(\\w{1,2})\\b', '')"
   ]
  },
  {
   "cell_type": "code",
   "execution_count": 46,
   "metadata": {},
   "outputs": [],
   "source": [
    "#Remove non-letters and change to lower case:\n",
    "stemmer = PorterStemmer()\n",
    "#remove stop words, tokenise the text data\n",
    "stop_words = set(stopwords.words('english'))\n",
    "\n",
    "def preprocess(review):\n",
    "    review = \" \".join([stemmer.stem(w.lower()) for w in word_tokenize(re.sub('[^a-zA-Z]+', ' ', review.replace(\"<br />\", \"\"))) if not w in stop_words])\n",
    "    return review\n",
    "\n",
    "reviews['comments_cleansed'] = reviews.apply(lambda x: preprocess(x['comments_cleansed']), axis=1)"
   ]
  },
  {
   "cell_type": "code",
   "execution_count": 47,
   "metadata": {},
   "outputs": [],
   "source": [
    "my_stop_words = [\"\".join(reviews.comments_cleansed[idx]) for idx in reviews.index]"
   ]
  },
  {
   "cell_type": "code",
   "execution_count": 23,
   "metadata": {},
   "outputs": [],
   "source": [
    "# getting only the negative score\n",
    "def negative_score(text):\n",
    "    negative_value = analyzer.polarity_scores(text)['neg']\n",
    "    return negative_value\n",
    "\n",
    "# getting only the neutral score\n",
    "def neutral_score(text):\n",
    "    neutral_value = analyzer.polarity_scores(text)['neu']\n",
    "    return neutral_value\n",
    "\n",
    "# getting only the positive score\n",
    "def positive_score(text):\n",
    "    positive_value = analyzer.polarity_scores(text)['pos']\n",
    "    return positive_value\n",
    "\n",
    "# getting only the compound score\n",
    "def compound_score(text):\n",
    "    compound_value = analyzer.polarity_scores(text)['compound']\n",
    "    return compound_value"
   ]
  },
  {
   "cell_type": "code",
   "execution_count": 78,
   "metadata": {},
   "outputs": [
    {
     "name": "stdout",
     "output_type": "stream",
     "text": [
      "Wall time: 31min 45s\n"
     ]
    }
   ],
   "source": [
    "%%time\n",
    "\n",
    "reviews['sentiment_neg'] = reviews['comments'].apply(negative_score)\n",
    "reviews['sentiment_neu'] = reviews['comments'].apply(neutral_score)\n",
    "reviews['sentiment_pos'] = reviews['comments'].apply(positive_score)\n",
    "reviews['sentiment_compound'] = reviews['comments'].apply(compound_score)"
   ]
  },
  {
   "cell_type": "code",
   "execution_count": 84,
   "metadata": {},
   "outputs": [],
   "source": [
    "df = reviews\n",
    "df=df.drop(['reviewer_id'], axis=1)\n",
    "df=df.drop(['reviewer_name'], axis=1)\n",
    "df=df.drop(['date'], axis=1)"
   ]
  },
  {
   "cell_type": "code",
   "execution_count": 3,
   "metadata": {},
   "outputs": [],
   "source": [
    "#df.to_pickle(\"df_sentiment.pkl\")\n",
    "df =pd.read_pickle(\"df_sentiment.pkl\")"
   ]
  },
  {
   "cell_type": "code",
   "execution_count": 4,
   "metadata": {
    "scrolled": true
   },
   "outputs": [
    {
     "data": {
      "text/html": [
       "<div>\n",
       "<style scoped>\n",
       "    .dataframe tbody tr th:only-of-type {\n",
       "        vertical-align: middle;\n",
       "    }\n",
       "\n",
       "    .dataframe tbody tr th {\n",
       "        vertical-align: top;\n",
       "    }\n",
       "\n",
       "    .dataframe thead th {\n",
       "        text-align: right;\n",
       "    }\n",
       "</style>\n",
       "<table border=\"1\" class=\"dataframe\">\n",
       "  <thead>\n",
       "    <tr style=\"text-align: right;\">\n",
       "      <th></th>\n",
       "      <th>listing_id</th>\n",
       "      <th>id</th>\n",
       "      <th>comments</th>\n",
       "      <th>comments_cleansed</th>\n",
       "      <th>sentiment_neg</th>\n",
       "      <th>sentiment_neu</th>\n",
       "      <th>sentiment_pos</th>\n",
       "      <th>sentiment_compound</th>\n",
       "    </tr>\n",
       "  </thead>\n",
       "  <tbody>\n",
       "    <tr>\n",
       "      <th>0</th>\n",
       "      <td>958</td>\n",
       "      <td>5977</td>\n",
       "      <td>Our experience was, without a doubt, a five st...</td>\n",
       "      <td>experi without doubt five star experi holli hu...</td>\n",
       "      <td>0.000</td>\n",
       "      <td>0.788</td>\n",
       "      <td>0.212</td>\n",
       "      <td>0.9590</td>\n",
       "    </tr>\n",
       "    <tr>\n",
       "      <th>1</th>\n",
       "      <td>958</td>\n",
       "      <td>6660</td>\n",
       "      <td>Returning to San Francisco is a rejuvenating t...</td>\n",
       "      <td>return francisco rejuven thrill time enhanc st...</td>\n",
       "      <td>0.000</td>\n",
       "      <td>0.697</td>\n",
       "      <td>0.303</td>\n",
       "      <td>0.9819</td>\n",
       "    </tr>\n",
       "    <tr>\n",
       "      <th>2</th>\n",
       "      <td>958</td>\n",
       "      <td>11519</td>\n",
       "      <td>We were very pleased with the accommodations a...</td>\n",
       "      <td>pleas accommod friendli neighborhood be abl ma...</td>\n",
       "      <td>0.134</td>\n",
       "      <td>0.710</td>\n",
       "      <td>0.156</td>\n",
       "      <td>0.7600</td>\n",
       "    </tr>\n",
       "    <tr>\n",
       "      <th>3</th>\n",
       "      <td>958</td>\n",
       "      <td>16282</td>\n",
       "      <td>We highly recommend this accomodation and agre...</td>\n",
       "      <td>highli recommend accomod agre previou post hol...</td>\n",
       "      <td>0.035</td>\n",
       "      <td>0.646</td>\n",
       "      <td>0.319</td>\n",
       "      <td>0.9840</td>\n",
       "    </tr>\n",
       "    <tr>\n",
       "      <th>4</th>\n",
       "      <td>958</td>\n",
       "      <td>26008</td>\n",
       "      <td>Holly's place was great. It was exactly what I...</td>\n",
       "      <td>holli place great exactli need perfect locat s...</td>\n",
       "      <td>0.000</td>\n",
       "      <td>0.613</td>\n",
       "      <td>0.387</td>\n",
       "      <td>0.9617</td>\n",
       "    </tr>\n",
       "  </tbody>\n",
       "</table>\n",
       "</div>"
      ],
      "text/plain": [
       "   listing_id     id                                           comments  \\\n",
       "0         958   5977  Our experience was, without a doubt, a five st...   \n",
       "1         958   6660  Returning to San Francisco is a rejuvenating t...   \n",
       "2         958  11519  We were very pleased with the accommodations a...   \n",
       "3         958  16282  We highly recommend this accomodation and agre...   \n",
       "4         958  26008  Holly's place was great. It was exactly what I...   \n",
       "\n",
       "                                   comments_cleansed  sentiment_neg  \\\n",
       "0  experi without doubt five star experi holli hu...          0.000   \n",
       "1  return francisco rejuven thrill time enhanc st...          0.000   \n",
       "2  pleas accommod friendli neighborhood be abl ma...          0.134   \n",
       "3  highli recommend accomod agre previou post hol...          0.035   \n",
       "4  holli place great exactli need perfect locat s...          0.000   \n",
       "\n",
       "   sentiment_neu  sentiment_pos  sentiment_compound  \n",
       "0          0.788          0.212              0.9590  \n",
       "1          0.697          0.303              0.9819  \n",
       "2          0.710          0.156              0.7600  \n",
       "3          0.646          0.319              0.9840  \n",
       "4          0.613          0.387              0.9617  "
      ]
     },
     "execution_count": 4,
     "metadata": {},
     "output_type": "execute_result"
    }
   ],
   "source": [
    "df.head()"
   ]
  },
  {
   "cell_type": "code",
   "execution_count": 5,
   "metadata": {},
   "outputs": [],
   "source": [
    "def label_sentiment (df):\n",
    "    if df['sentiment_compound'] >= 0.05 :\n",
    "        return 1\n",
    "    return 0\n",
    "\n",
    "def sentiment_type (df):\n",
    "    if df['sentiment_compound'] >= 0.05 :\n",
    "        return \"positive\"\n",
    "    if df['sentiment_compound'] >= -0.05 :\n",
    "        return \"neutral\"\n",
    "    if df['sentiment_compound'] <= -0.05 :\n",
    "        return \"negative\""
   ]
  },
  {
   "cell_type": "code",
   "execution_count": 6,
   "metadata": {},
   "outputs": [],
   "source": [
    "df['sentiment_label'] = df.apply(label_sentiment, axis=1)\n",
    "\n",
    "df['sentiment_type'] = df.apply(label_sentiment, axis=1)"
   ]
  },
  {
   "cell_type": "code",
   "execution_count": 54,
   "metadata": {},
   "outputs": [
    {
     "data": {
      "text/plain": [
       "<bound method NDFrame.head of         listing_id         id  \\\n",
       "0              958       5977   \n",
       "1              958       6660   \n",
       "2              958      11519   \n",
       "3              958      16282   \n",
       "4              958      26008   \n",
       "...            ...        ...   \n",
       "320623    44554195  649112168   \n",
       "320624    44554195  649140249   \n",
       "320625    44554195  649170022   \n",
       "320626    44554195  649218478   \n",
       "320627    44554195  649614164   \n",
       "\n",
       "                                                 comments  \\\n",
       "0       Our experience was, without a doubt, a five st...   \n",
       "1       Returning to San Francisco is a rejuvenating t...   \n",
       "2       We were very pleased with the accommodations a...   \n",
       "3       We highly recommend this accomodation and agre...   \n",
       "4       Holly's place was great. It was exactly what I...   \n",
       "...                                                   ...   \n",
       "320623  Cute, updated hotel in a very central area. Ea...   \n",
       "320624  Skip this air bnb. To many cons . you won't en...   \n",
       "320625                       A fantastic stay! Thank you!   \n",
       "320626  This place is not good as it seems. Lack of co...   \n",
       "320627  This is a great place.  Park in the parking ga...   \n",
       "\n",
       "                                        comments_cleansed  sentiment_neg  \\\n",
       "0       experi without doubt five star experi holli hu...          0.000   \n",
       "1       return francisco rejuven thrill time enhanc st...          0.000   \n",
       "2       pleas accommod friendli neighborhood be abl ma...          0.134   \n",
       "3       highli recommend accomod agre previou post hol...          0.035   \n",
       "4       holli place great exactli need perfect locat s...          0.000   \n",
       "...                                                   ...            ...   \n",
       "320623  cute updat hotel central area easi check frien...          0.000   \n",
       "320624                           skip mani con enjoy stay          0.168   \n",
       "320625                                 fantast stay thank          0.000   \n",
       "320626  thi place good seem lack commun took hour find...          0.166   \n",
       "320627  thi great place park park garag block overnigh...          0.044   \n",
       "\n",
       "        sentiment_neu  sentiment_pos  sentiment_compound  sentiment_label  \\\n",
       "0               0.788          0.212              0.9590                1   \n",
       "1               0.697          0.303              0.9819                1   \n",
       "2               0.710          0.156              0.7600                1   \n",
       "3               0.646          0.319              0.9840                1   \n",
       "4               0.613          0.387              0.9617                1   \n",
       "...               ...            ...                 ...              ...   \n",
       "320623          0.434          0.566              0.9398                1   \n",
       "320624          0.832          0.000             -0.3875                0   \n",
       "320625          0.230          0.770              0.7707                1   \n",
       "320626          0.834          0.000             -0.7765                0   \n",
       "320627          0.581          0.374              0.9349                1   \n",
       "\n",
       "        sentiment_typel  sentiment_type  \n",
       "0                     1               1  \n",
       "1                     1               1  \n",
       "2                     1               1  \n",
       "3                     1               1  \n",
       "4                     1               1  \n",
       "...                 ...             ...  \n",
       "320623                1               1  \n",
       "320624                0               0  \n",
       "320625                1               1  \n",
       "320626                0               0  \n",
       "320627                1               1  \n",
       "\n",
       "[298505 rows x 11 columns]>"
      ]
     },
     "execution_count": 54,
     "metadata": {},
     "output_type": "execute_result"
    }
   ],
   "source": [
    "df.head"
   ]
  },
  {
   "cell_type": "code",
   "execution_count": 7,
   "metadata": {},
   "outputs": [],
   "source": [
    "# full dataframe with POSITIVE comments\n",
    "df_pos = df.loc[df.sentiment_compound >= 0.95]\n",
    "\n",
    "# only corpus of POSITIVE comments\n",
    "pos_comments = df_pos['comments'].tolist()"
   ]
  },
  {
   "cell_type": "code",
   "execution_count": 19,
   "metadata": {},
   "outputs": [],
   "source": [
    "# full dataframe with NEGATIVE comments\n",
    "df_neg = df.loc[df.sentiment_compound <= -0.05]\n",
    "\n",
    "# only corpus of NEGATIVE comments\n",
    "neg_comments = df_neg['comments'].tolist()"
   ]
  },
  {
   "cell_type": "code",
   "execution_count": 20,
   "metadata": {},
   "outputs": [
    {
     "data": {
      "image/png": "[encoded data removed]",
      "text/plain": [
       "<Figure size 576x360 with 1 Axes>"
      ]
     },
     "metadata": {},
     "output_type": "display_data"
    }
   ],
   "source": [
    "df_pos['text_length'] = df_pos['comments'].apply(len)\n",
    "df_neg['text_length'] = df_neg['comments'].apply(len)\n",
    "sns.set_style(\"whitegrid\")\n",
    "plt.figure(figsize=(8,5))\n",
    "\n",
    "sns.distplot(df_pos['text_length'], kde=True, bins=50, color='chartreuse')\n",
    "sns.distplot(df_neg['text_length'], kde=True, bins=50, color='lightcoral')\n",
    "\n",
    "plt.title('\\nDistribution Plot for Length of Comments\\n')\n",
    "plt.legend(['Positive Comments', 'Negative Comments'])\n",
    "plt.xlabel('\\nText Length')\n",
    "plt.ylabel('Percentage of Comments\\n');"
   ]
  },
  {
   "cell_type": "markdown",
   "metadata": {},
   "source": [
    "### Clustering"
   ]
  },
  {
   "cell_type": "code",
   "execution_count": 2,
   "metadata": {},
   "outputs": [],
   "source": [
    "reviews = reviews.to_pickle(\"reviews.pkl\")\n",
    "reviews = pd.read_pickle(\"reviews.pkl\")"
   ]
  }
 ],
 "metadata": {
  "kernelspec": {
   "display_name": "Python 3",
   "language": "python",
   "name": "python3"
  },
  "language_info": {
   "codemirror_mode": {
    "name": "ipython",
    "version": 3
   },
   "file_extension": ".py",
   "mimetype": "text/x-python",
   "name": "python",
   "nbconvert_exporter": "python",
   "pygments_lexer": "ipython3",
   "version": "3.8.3"
  }
 },
 "nbformat": 4,
 "nbformat_minor": 4
}
