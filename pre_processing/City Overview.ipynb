{
 "cells": [
  {
   "cell_type": "markdown",
   "metadata": {},
   "source": [
    "## Install Libraries"
   ]
  },
  {
   "cell_type": "code",
   "execution_count": null,
   "metadata": {},
   "outputs": [],
   "source": [
    "pip install -r \"../requirements.txt\""
   ]
  },
  {
   "cell_type": "code",
   "execution_count": 1,
   "metadata": {},
   "outputs": [],
   "source": [
    "import pandas as pd "
   ]
  },
  {
   "cell_type": "markdown",
   "metadata": {},
   "source": [
    "## Convert raw csv to pkl file"
   ]
  },
  {
   "cell_type": "code",
   "execution_count": 13,
   "metadata": {},
   "outputs": [],
   "source": [
    "for city in ['Boston', 'La', 'SF']:\n",
    "    for dataType in ['listings', 'reviews', 'calendar']:\n",
    "        raw_data = pd.read_csv(\"{}/{}.csv\".format(city,dataType)) \n",
    "        raw_data.to_pickle(\"{}/{}.pkl\".format(city,dataType))\n"
   ]
  },
  {
   "cell_type": "markdown",
   "metadata": {},
   "source": [
    "## Read PKL"
   ]
  },
  {
   "cell_type": "code",
   "execution_count": 16,
   "metadata": {},
   "outputs": [],
   "source": [
    "df_dict = {}\n",
    "for city in ['Boston', 'La', 'SF']:\n",
    "    for dataType in ['listings', 'reviews', 'calendar']:\n",
    "        df_dict[\"{}_{}\".format(city, dataType)] = pd.read_pickle(\"{}/{}.pkl\".format(city,dataType))"
   ]
  },
  {
   "cell_type": "code",
   "execution_count": 17,
   "metadata": {},
   "outputs": [
    {
     "data": {
      "text/plain": [
       "dict_keys(['Boston_listings', 'Boston_reviews', 'Boston_calendar', 'La_listings', 'La_reviews', 'La_calendar', 'SF_listings', 'SF_reviews', 'SF_calendar'])"
      ]
     },
     "execution_count": 17,
     "metadata": {},
     "output_type": "execute_result"
    }
   ],
   "source": [
    "df_dict.keys()"
   ]
  },
  {
   "cell_type": "code",
   "execution_count": 22,
   "metadata": {},
   "outputs": [],
   "source": [
    "size = { x:0 for x in ['listings', 'reviews', 'calendar']}\n",
    "\n",
    "for dataType in ['listings', 'reviews', 'calendar']:\n",
    "    for df in df_dict.keys():\n",
    "        if dataType in df:\n",
    "            size[dataType] += len(df_dict[df])"
   ]
  },
  {
   "cell_type": "code",
   "execution_count": 23,
   "metadata": {},
   "outputs": [
    {
     "data": {
      "text/plain": [
       "{'listings': 43691, 'reviews': 1619334, 'calendar': 15946394}"
      ]
     },
     "execution_count": 23,
     "metadata": {},
     "output_type": "execute_result"
    }
   ],
   "source": [
    "size"
   ]
  },
  {
   "cell_type": "code",
   "execution_count": null,
   "metadata": {},
   "outputs": [],
   "source": []
  }
 ],
 "metadata": {
  "kernelspec": {
   "display_name": "Python 3",
   "language": "python",
   "name": "python3"
  },
  "language_info": {
   "codemirror_mode": {
    "name": "ipython",
    "version": 3
   },
   "file_extension": ".py",
   "mimetype": "text/x-python",
   "name": "python",
   "nbconvert_exporter": "python",
   "pygments_lexer": "ipython3",
   "version": "3.8.3"
  }
 },
 "nbformat": 4,
 "nbformat_minor": 4
}
