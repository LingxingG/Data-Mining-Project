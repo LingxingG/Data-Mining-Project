{
 "cells": [
  {
   "cell_type": "markdown",
   "metadata": {},
   "source": [
    "## Install Libraries"
   ]
  },
  {
   "cell_type": "code",
   "execution_count": 3,
   "metadata": {},
   "outputs": [
    {
     "name": "stdout",
     "output_type": "stream",
     "text": [
      "Requirement already satisfied: amadeus in c:\\users\\lingx\\anaconda3\\lib\\site-packages (from -r requirements.txt (line 1)) (4.3.0)\n",
      "Requirement already satisfied: pandas in c:\\users\\lingx\\anaconda3\\lib\\site-packages (from -r requirements.txt (line 2)) (1.0.5)\n",
      "Requirement already satisfied: numpy in c:\\users\\lingx\\anaconda3\\lib\\site-packages (from -r requirements.txt (line 3)) (1.18.5)\n",
      "Collecting plotly\n",
      "  Downloading plotly-4.10.0-py2.py3-none-any.whl (13.0 MB)\n",
      "Requirement already satisfied: python-dateutil>=2.6.1 in c:\\users\\lingx\\anaconda3\\lib\\site-packages (from pandas->-r requirements.txt (line 2)) (2.8.1)\n",
      "Requirement already satisfied: pytz>=2017.2 in c:\\users\\lingx\\anaconda3\\lib\\site-packages (from pandas->-r requirements.txt (line 2)) (2020.1)\n",
      "Collecting retrying>=1.3.3\n",
      "  Downloading retrying-1.3.3.tar.gz (10 kB)\n",
      "Requirement already satisfied: six in c:\\users\\lingx\\anaconda3\\lib\\site-packages (from plotly->-r requirements.txt (line 4)) (1.15.0)\n",
      "Building wheels for collected packages: retrying\n",
      "  Building wheel for retrying (setup.py): started\n",
      "  Building wheel for retrying (setup.py): finished with status 'done'\n",
      "  Created wheel for retrying: filename=retrying-1.3.3-py3-none-any.whl size=11435 sha256=a5f2aa1a50eae503de79fc65b708c201b9a5072f5494b99da5c663f3b16324ad\n",
      "  Stored in directory: c:\\users\\lingx\\appdata\\local\\pip\\cache\\wheels\\c4\\a7\\48\\0a434133f6d56e878ca511c0e6c38326907c0792f67b476e56\n",
      "Successfully built retrying\n",
      "Installing collected packages: retrying, plotly\n",
      "Successfully installed plotly-4.10.0 retrying-1.3.3\n",
      "Note: you may need to restart the kernel to use updated packages.\n"
     ]
    }
   ],
   "source": [
    "pip install -r \"requirements.txt\""
   ]
  },
  {
   "cell_type": "code",
   "execution_count": 1,
   "metadata": {},
   "outputs": [],
   "source": [
    "import pandas as pd "
   ]
  },
  {
   "cell_type": "markdown",
   "metadata": {},
   "source": [
    "## Convert raw csv to pkl file"
   ]
  },
  {
   "cell_type": "code",
   "execution_count": 13,
   "metadata": {},
   "outputs": [],
   "source": [
    "for city in ['Boston', 'La', 'SF']:\n",
    "    for dataType in ['listings', 'reviews', 'calendar']:\n",
    "        raw_data = pd.read_csv(\"{}/{}.csv\".format(city,dataType)) \n",
    "        raw_data.to_pickle(\"{}/{}.pkl\".format(city,dataType))"
   ]
  },
  {
   "cell_type": "markdown",
   "metadata": {},
   "source": [
    "## Read PKL"
   ]
  },
  {
   "cell_type": "code",
   "execution_count": 16,
   "metadata": {},
   "outputs": [],
   "source": [
    "df_dict = {}\n",
    "for city in ['Boston', 'La', 'SF']:\n",
    "    for dataType in ['listings', 'reviews', 'calendar']:\n",
    "        df_dict[\"{}_{}\".format(city, dataType)] = pd.read_pickle(\"{}/{}.pkl\".format(city,dataType))"
   ]
  },
  {
   "cell_type": "code",
   "execution_count": 22,
   "metadata": {},
   "outputs": [],
   "source": [
    "size = { x:0 for x in ['listings', 'reviews', 'calendar']}\n",
    "\n",
    "for dataType in ['listings', 'reviews', 'calendar']:\n",
    "    for df in df_dict.keys():\n",
    "        if dataType in df:\n",
    "            size[dataType] += len(df_dict[df])"
   ]
  },
  {
   "cell_type": "code",
   "execution_count": 23,
   "metadata": {},
   "outputs": [
    {
     "data": {
      "text/plain": [
       "{'listings': 43691, 'reviews': 1619334, 'calendar': 15946394}"
      ]
     },
     "execution_count": 23,
     "metadata": {},
     "output_type": "execute_result"
    }
   ],
   "source": [
    "size"
   ]
  },
  {
   "cell_type": "code",
   "execution_count": null,
   "metadata": {},
   "outputs": [],
   "source": []
  }
 ],
 "metadata": {
  "kernelspec": {
   "display_name": "Python 3",
   "language": "python",
   "name": "python3"
  },
  "language_info": {
   "codemirror_mode": {
    "name": "ipython",
    "version": 3
   },
   "file_extension": ".py",
   "mimetype": "text/x-python",
   "name": "python",
   "nbconvert_exporter": "python",
   "pygments_lexer": "ipython3",
   "version": "3.8.3"
  }
 },
 "nbformat": 4,
 "nbformat_minor": 4
}
