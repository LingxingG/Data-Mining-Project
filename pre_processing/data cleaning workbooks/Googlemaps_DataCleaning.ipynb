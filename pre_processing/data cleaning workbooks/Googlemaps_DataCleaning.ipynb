{
 "cells": [
  {
   "cell_type": "code",
   "execution_count": 4,
   "metadata": {},
   "outputs": [],
   "source": [
    "import json, csv\n",
    "\n",
    "city = \"sfo\"\n",
    "\n",
    "with open('results/'+city+'.txt') as fp:\n",
    "    data = fp.readlines()"
   ]
  },
  {
   "cell_type": "code",
   "execution_count": 5,
   "metadata": {},
   "outputs": [
    {
     "name": "stdout",
     "output_type": "stream",
     "text": [
      "6841\n"
     ]
    }
   ],
   "source": [
    "output = []\n",
    "sample = data[0].replace('{\"listing_id\"', '\\n{\"listing_id\"')\n",
    "sample = sample.split(\"\\n\")\n",
    "# with open('raw1.txt', 'w+') as file:\n",
    "#     file.writelines(sample)\n",
    "print(len(sample))\n",
    "\n",
    "for listing in sample:\n",
    "    if listing == '':\n",
    "        continue\n",
    "    listing = json.loads(listing)\n",
    "    listing_id = listing[\"listing_id\"]\n",
    "    distance = listing[\"rows\"][0][\"elements\"][0][\"distance\"][\"value\"]\n",
    "    duration = listing[\"rows\"][0][\"elements\"][0][\"duration\"][\"value\"]\n",
    "    output.append([listing_id, distance, duration])"
   ]
  },
  {
   "cell_type": "code",
   "execution_count": 7,
   "metadata": {},
   "outputs": [],
   "source": [
    "with open('results/'+city+'_distance.csv', 'w+', newline='\\n') as outcsv:\n",
    "    writer = csv.writer(outcsv)\n",
    "    writer.writerow([\"listing_id\", \"distance\", \"duration\"])\n",
    "    writer.writerows(output)"
   ]
  },
  {
   "cell_type": "code",
   "execution_count": null,
   "metadata": {},
   "outputs": [],
   "source": []
  },
  {
   "cell_type": "code",
   "execution_count": null,
   "metadata": {},
   "outputs": [],
   "source": []
  }
 ],
 "metadata": {
  "kernelspec": {
   "display_name": "Python 3",
   "language": "python",
   "name": "python3"
  },
  "language_info": {
   "codemirror_mode": {
    "name": "ipython",
    "version": 3
   },
   "file_extension": ".py",
   "mimetype": "text/x-python",
   "name": "python",
   "nbconvert_exporter": "python",
   "pygments_lexer": "ipython3",
   "version": "3.8.3"
  }
 },
 "nbformat": 4,
 "nbformat_minor": 4
}
