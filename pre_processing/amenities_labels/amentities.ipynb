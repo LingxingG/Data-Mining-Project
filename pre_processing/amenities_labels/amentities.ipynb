{
 "cells": [
  {
   "cell_type": "markdown",
   "metadata": {},
   "source": [
    "# Import Libraries"
   ]
  },
  {
   "cell_type": "code",
   "execution_count": 1,
   "metadata": {},
   "outputs": [],
   "source": [
    "import numpy as np\n",
    "import pandas as pd\n",
    "import seaborn as sns"
   ]
  },
  {
   "cell_type": "markdown",
   "metadata": {},
   "source": [
    "# Read CSV file"
   ]
  },
  {
   "cell_type": "code",
   "execution_count": 3,
   "metadata": {},
   "outputs": [],
   "source": [
    "df = pd.read_csv('../../raw_data/bos/listings-1.csv')\n",
    "# df.dtypes\n",
    "# df.info()\n",
    "# df.describe()\n",
    "# sns.pairplot(df)\n",
    "# sns.heatmap(df.corr(), annot = True, cmap='coolwarm')\n",
    "# df.boxplot(figsize = (8,8))"
   ]
  },
  {
   "cell_type": "markdown",
   "metadata": {},
   "source": [
    "# Data filtering for amentity labels"
   ]
  },
  {
   "cell_type": "code",
   "execution_count": 4,
   "metadata": {},
   "outputs": [],
   "source": [
    "amentities_col = df.amenities\n",
    "amentities_dict = {}\n",
    "id = 0\n",
    "for amentities in amentities_col:\n",
    "    x_striped = amentities[1:-1]\n",
    "    x_arr = x_striped.split(',')\n",
    "    \n",
    "    for amentity in x_arr:\n",
    "        name = (amentity.strip())[1:-1]\n",
    "        if name not in amentities_dict:\n",
    "            amentities_dict[name] = 1\n",
    "        else:\n",
    "            amentities_dict[name] += 1"
   ]
  },
  {
   "cell_type": "markdown",
   "metadata": {},
   "source": [
    "# Print Results"
   ]
  },
  {
   "cell_type": "code",
   "execution_count": 5,
   "metadata": {},
   "outputs": [
    {
     "data": {
      "text/plain": [
       "[('Wifi', 3283),\n",
       " ('Smoke alarm', 3242),\n",
       " ('Carbon monoxide alarm', 3108),\n",
       " ('Hangers', 3050),\n",
       " ('Heating', 3044),\n",
       " ('Essentials', 3039),\n",
       " ('Kitchen', 3002),\n",
       " ('Hair dryer', 2855),\n",
       " ('Iron', 2853),\n",
       " ('Air conditioning', 2729),\n",
       " ('Shampoo', 2710),\n",
       " ('TV', 2703),\n",
       " ('Laptop-friendly workspace', 2478),\n",
       " ('Washer', 2445),\n",
       " ('Dryer', 2427),\n",
       " ('Refrigerator', 2398),\n",
       " ('Microwave', 2351),\n",
       " ('Hot water', 2346),\n",
       " ('Coffee maker', 2242),\n",
       " ('Dishes and silverware', 2155),\n",
       " ('Stove', 1983),\n",
       " ('Oven', 1981),\n",
       " ('Bed linens', 1950),\n",
       " ('Cooking basics', 1866),\n",
       " ('Fire extinguisher', 1861),\n",
       " ('Long term stays allowed', 1685),\n",
       " ('Dishwasher', 1433),\n",
       " ('Extra pillows and blankets', 1277),\n",
       " ('First aid kit', 1132),\n",
       " ('Private entrance', 1113),\n",
       " ('Free street parking', 1060),\n",
       " ('Cable TV', 1000),\n",
       " ('Luggage dropoff allowed', 928),\n",
       " ('Elevator', 795),\n",
       " ('Lock on bedroom door', 733),\n",
       " ('Patio or balcony', 674),\n",
       " ('Keypad', 615),\n",
       " ('Free parking on premises', 605),\n",
       " ('Gym', 592),\n",
       " ('Garden or backyard', 511),\n",
       " ('Lockbox', 485),\n",
       " ('Bathtub', 480),\n",
       " ('Paid parking off premises', 404),\n",
       " ('BBQ grill', 395),\n",
       " ('Shower gel', 373),\n",
       " ('Pack \\\\u2019n Play/travel crib', 310),\n",
       " ('Indoor fireplace', 284),\n",
       " ('Baking sheet', 248),\n",
       " ('Paid parking on premises', 247),\n",
       " ('Smart lock', 244),\n",
       " ('Pool', 240),\n",
       " ('Ethernet connection', 239),\n",
       " ('Breakfast', 230),\n",
       " ('Host greets you', 228),\n",
       " ('Room-darkening shades', 161),\n",
       " ('Private living room', 144),\n",
       " ('Children\\\\u2019s books and toys', 134),\n",
       " ('Building staff', 125),\n",
       " ('High chair', 110),\n",
       " ('Single level home', 105),\n",
       " ('Crib', 101),\n",
       " ('Cleaning before checkout', 90),\n",
       " ('Window guards', 78),\n",
       " ('Pocket wifi', 76),\n",
       " ('Babysitter recommendations', 64),\n",
       " ('Children\\\\u2019s dinnerware', 58),\n",
       " ('Beach essentials', 57),\n",
       " ('Hot tub', 55),\n",
       " ('Barbecue utensils', 46),\n",
       " ('Outlet covers', 44),\n",
       " ('Waterfront', 42),\n",
       " ('Beachfront', 39),\n",
       " ('Baby bath', 38),\n",
       " ('Stair gates', 37),\n",
       " ('EV charger', 34),\n",
       " ('Changing table', 34),\n",
       " ('Fireplace guards', 31),\n",
       " ('Game console', 25),\n",
       " ('Baby monitor', 22),\n",
       " ('Bread maker', 14),\n",
       " ('Lake access', 10),\n",
       " ('', 6),\n",
       " ('Ski-in/Ski-out', 5),\n",
       " ('Piano', 3),\n",
       " ('Table corner guards', 3),\n",
       " ('Bed sheets and pillows', 2),\n",
       " ('Safe', 2),\n",
       " ('Free wifi', 2),\n",
       " ('Toiletries', 2),\n",
       " ('Concierge', 2),\n",
       " ('Onsite restaurant \\\\u2014 Cosmica', 1),\n",
       " ('House bikes', 1),\n",
       " ('Slippers', 1),\n",
       " ('Pets allowed', 1),\n",
       " ('24-hour fitness center', 1),\n",
       " ('Bluetooth speaker', 1),\n",
       " ('Self-serve breakfast available \\\\u2014 $5 per person per day', 1),\n",
       " ('Self-parking \\\\u2014 $42/stay', 1),\n",
       " ('Complimentary breakfast', 1),\n",
       " ('Game room', 1)]"
      ]
     },
     "execution_count": 5,
     "metadata": {},
     "output_type": "execute_result"
    }
   ],
   "source": [
    "# amentities_dict\n",
    "sorted_amentities = sorted(amentities_dict.items(), key=lambda x: x[1], reverse=True)\n",
    "sorted_amentities"
   ]
  }
 ],
 "metadata": {
  "kernelspec": {
   "display_name": "Python 3",
   "language": "python",
   "name": "python3"
  },
  "language_info": {
   "codemirror_mode": {
    "name": "ipython",
    "version": 3
   },
   "file_extension": ".py",
   "mimetype": "text/x-python",
   "name": "python",
   "nbconvert_exporter": "python",
   "pygments_lexer": "ipython3",
   "version": "3.7.3"
  }
 },
 "nbformat": 4,
 "nbformat_minor": 2
}
