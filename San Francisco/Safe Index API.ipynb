{
 "cells": [
  {
   "cell_type": "markdown",
   "metadata": {},
   "source": [
    "## Install Neccesssary Libraries"
   ]
  },
  {
   "cell_type": "code",
   "execution_count": null,
   "metadata": {},
   "outputs": [],
   "source": [
    "pip install -r requirements.txt"
   ]
  },
  {
   "cell_type": "markdown",
   "metadata": {},
   "source": [
    "## Establish connection to API"
   ]
  },
  {
   "cell_type": "code",
   "execution_count": 16,
   "metadata": {},
   "outputs": [],
   "source": [
    "from amadeus import Client, ResponseError\n",
    "\n",
    "amadeus = Client(\n",
    "    client_id='vsNE2cVrLzYVgWYcF1npWpv3HYA5ICs7',\n",
    "    client_secret='rasieAFzfhNCXA0D'\n",
    ")"
   ]
  },
  {
   "cell_type": "markdown",
   "metadata": {},
   "source": [
    "## Connect to CSV file"
   ]
  },
  {
   "cell_type": "code",
   "execution_count": 27,
   "metadata": {},
   "outputs": [],
   "source": [
    "import pandas as pd \n",
    "pd.set_option('display.max_row', 1000)\n",
    "df = pd.read_csv(\"SafeIndex.csv\") "
   ]
  },
  {
   "cell_type": "code",
   "execution_count": 29,
   "metadata": {},
   "outputs": [],
   "source": [
    "neighbourhood_unique = df.neighbourhood_cleansed.unique()"
   ]
  },
  {
   "cell_type": "code",
   "execution_count": 30,
   "metadata": {},
   "outputs": [
    {
     "data": {
      "text/plain": [
       "array(['Western Addition', 'Bernal Heights', 'Haight Ashbury', 'Mission',\n",
       "       'Potrero Hill', 'Nob Hill', 'Downtown/Civic Center',\n",
       "       'Castro/Upper Market', 'Inner Sunset', 'Noe Valley',\n",
       "       'Outer Richmond', 'Presidio Heights', 'Glen Park', 'Ocean View',\n",
       "       'Pacific Heights', 'Financial District', 'Twin Peaks',\n",
       "       'South of Market', 'Russian Hill', 'Outer Sunset', 'Marina',\n",
       "       'Inner Richmond', 'Seacliff', 'Chinatown', 'West of Twin Peaks',\n",
       "       'Bayview', 'North Beach', 'Diamond Heights', 'Parkside',\n",
       "       'Outer Mission', 'Excelsior', 'Lakeshore', 'Crocker Amazon',\n",
       "       'Golden Gate Park', 'Presidio', 'Visitacion Valley',\n",
       "       'Treasure Island/YBI'], dtype=object)"
      ]
     },
     "execution_count": 30,
     "metadata": {},
     "output_type": "execute_result"
    }
   ],
   "source": [
    "neighbourhood_unique"
   ]
  },
  {
   "cell_type": "markdown",
   "metadata": {},
   "source": [
    "## Get Response"
   ]
  },
  {
   "cell_type": "code",
   "execution_count": null,
   "metadata": {},
   "outputs": [],
   "source": [
    "'''\n",
    "# Flight Most Booked Destinations\n",
    "amadeus.travel.analytics.air_traffic.booked.get(originCityCode='MAD', period='2017-08')\n",
    "\n",
    "# Flight Most Traveled Destinations\n",
    "amadeus.travel.analytics.air_traffic.traveled.get(originCityCode='MAD', period='2017-01')\n",
    "\n",
    "# Flight Busiest Travel Period\n",
    "amadeus.travel.analytics.air_traffic.busiest_period.get(cityCode='MAD', period='2017', direction='ARRIVING')\n",
    "\n",
    "# Safe Place\n",
    "# How safe is Barcelona? (based a geo location and a radius)\n",
    "amadeus.safety.safety_rated_locations.get(latitude=41.397158, longitude=2.160873)\n",
    "# How safe is Barcelona? (based on a square)\n",
    "amadeus.safety.safety_rated_locations.by_square.get(north=41.397158, west=2.160873,\n",
    "                                                    south=41.394582, east=2.177181)\n",
    "# What is the safety information of a location based on it's Id?\n",
    "amadeus.safety.safety_rated_location('Q930400801').get()\n",
    "'''"
   ]
  },
  {
   "cell_type": "code",
   "execution_count": null,
   "metadata": {
    "scrolled": true
   },
   "outputs": [],
   "source": [
    "try:\n",
    "    response = amadeus.safety.safety_rated_locations.get(latitude=37.71549, longitude=-122.38922)\n",
    "    print(response.data)\n",
    "except ResponseError as error:\n",
    "    print(error)"
   ]
  },
  {
   "cell_type": "code",
   "execution_count": 53,
   "metadata": {},
   "outputs": [
    {
     "name": "stdout",
     "output_type": "stream",
     "text": [
      "Set Data 0\n",
      "\t Bayview-Hunters Point (San Francisco)\n",
      "\t {'latitude': 37.72766, 'longitude': -122.370814}\n",
      "\t {'lgbtq': 46, 'medical': 79, 'overall': 53, 'physicalHarm': 47, 'politicalFreedom': 32, 'theft': 70, 'women': 41}\n",
      "\n",
      "Set Data 1\n",
      "\t Visitacion Valley (San Francisco)\n",
      "\t {'latitude': 37.717256, 'longitude': -122.404586}\n",
      "\t {'lgbtq': 49, 'medical': 78, 'overall': 54, 'physicalHarm': 50, 'politicalFreedom': 32, 'theft': 74, 'women': 41}\n",
      "\n"
     ]
    }
   ],
   "source": [
    "from pprint import pprint \n",
    "\n",
    "for i in range(len(response.data)):\n",
    "    print(\"Set Data {}\".format(i))\n",
    "    for var in ['name','geoCode','safetyScores']:\n",
    "        print(\"\\t\", response.data[i][var])\n",
    "    print()\n"
   ]
  },
  {
   "cell_type": "code",
   "execution_count": null,
   "metadata": {},
   "outputs": [],
   "source": []
  }
 ],
 "metadata": {
  "kernelspec": {
   "display_name": "Python 3",
   "language": "python",
   "name": "python3"
  },
  "language_info": {
   "codemirror_mode": {
    "name": "ipython",
    "version": 3
   },
   "file_extension": ".py",
   "mimetype": "text/x-python",
   "name": "python",
   "nbconvert_exporter": "python",
   "pygments_lexer": "ipython3",
   "version": "3.8.3"
  },
  "varInspector": {
   "cols": {
    "lenName": 16,
    "lenType": 16,
    "lenVar": 40
   },
   "kernels_config": {
    "python": {
     "delete_cmd_postfix": "",
     "delete_cmd_prefix": "del ",
     "library": "var_list.py",
     "varRefreshCmd": "print(var_dic_list())"
    },
    "r": {
     "delete_cmd_postfix": ") ",
     "delete_cmd_prefix": "rm(",
     "library": "var_list.r",
     "varRefreshCmd": "cat(var_dic_list()) "
    }
   },
   "types_to_exclude": [
    "module",
    "function",
    "builtin_function_or_method",
    "instance",
    "_Feature"
   ],
   "window_display": false
  }
 },
 "nbformat": 4,
 "nbformat_minor": 4
}
